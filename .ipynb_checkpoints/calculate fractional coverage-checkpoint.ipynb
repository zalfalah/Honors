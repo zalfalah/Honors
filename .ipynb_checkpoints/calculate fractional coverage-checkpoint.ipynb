{
 "cells": [
  {
   "cell_type": "code",
   "execution_count": 1,
   "metadata": {},
   "outputs": [],
   "source": [
    "import sys\n",
    "if sys.platform == \"darwin\":  # michael's config\n",
    "    # because Michael is using jupyter lab\n",
    "    %load_ext lab_black\n",
    "else:  # zade's config\n",
    "    # because Zade is using jupyter notebook\n",
    "    %load_ext nb_black"
   ]
  },
  {
   "cell_type": "markdown",
   "metadata": {},
   "source": [
    "## Tasks\n",
    "\n",
    "I have put several more utility functions into the coverage_utils module, have a look at all of them to understand what they do.\n",
    "\n",
    "Update: I added the CoverageCalculator, making things much easier...\n",
    "Update2: Initial investigations of results renders it necessary to create below new database for all three cases of fans, blotches and both areas considered in the union. I added a switch in the class that enables that kind of analysis. See below..\n",
    "Next tasks are:\n",
    "\n",
    "* [x] combine below code into a function with the name `calc_coverage(region_name)` that returns the pandas dataframe with the results (basically combining below cells into a function) but add a region_name column (same for all rows), in preparation for next task.\n",
    "* [ ] run a loop over all available region names (see below for how to get that list).\n",
    "    * [ ] store each returned dataframe in a bucket list\n",
    "    * [ ] run each obsid three times, for `which` settings of 'both', 'fans' and 'blotches'\n",
    "    * [ ] combine the bucket into a larger dataframe that has all results\n",
    "    * [ ] save as CSV file using df.to_csv(...)\n",
    "* [ ] Develep a plot function with the cells below, that conveniently reads the data out the above stored large dataframe and creates the plot, using the options as below."
   ]
  },
  {
   "cell_type": "markdown",
   "metadata": {},
   "source": [
    "# CoverageCalculator class\n",
    "\n",
    "I wrote a class because it's much more efficient to keep the fans, blotches and metadata in memory and not read it in everytime. \n",
    "Keep that in mind for the future: When you need to read a data object often, it is more efficient to write a class that keeps that data in memory while you change a parameter (here: obsid) for different analyses.\n",
    "\n",
    "This class reads in the general data files once and you can then use it in a loop by setting the obsid value as shown below."
   ]
  },
  {
   "cell_type": "code",
   "execution_count": 48,
   "metadata": {},
   "outputs": [
    {
     "data": {
      "application/javascript": [
       "\n",
       "        setTimeout(function() {\n",
       "            var nbb_cell_id = 48;\n",
       "            var nbb_formatted_code = \"import pandas as pd\\nimport numpy as np\";\n",
       "            var nbb_cells = Jupyter.notebook.get_cells();\n",
       "            for (var i = 0; i < nbb_cells.length; ++i) {\n",
       "                if (nbb_cells[i].input_prompt_number == nbb_cell_id) {\n",
       "                    nbb_cells[i].set_text(nbb_formatted_code);\n",
       "                    break;\n",
       "                }\n",
       "            }\n",
       "        }, 500);\n",
       "        "
      ],
      "text/plain": [
       "<IPython.core.display.Javascript object>"
      ]
     },
     "metadata": {},
     "output_type": "display_data"
    }
   ],
   "source": [
    "import pandas as pd\n",
    "import numpy as np"
   ]
  },
  {
   "cell_type": "code",
   "execution_count": 3,
   "metadata": {},
   "outputs": [
    {
     "data": {
      "application/javascript": [
       "\n",
       "        setTimeout(function() {\n",
       "            var nbb_cell_id = 3;\n",
       "            var nbb_formatted_code = \"from coverage_utils import CoverageCalculator, get_obsids_for_region\\nfrom my_io import get_tilecoords, get_metadata, get_region_names\";\n",
       "            var nbb_cells = Jupyter.notebook.get_cells();\n",
       "            for (var i = 0; i < nbb_cells.length; ++i) {\n",
       "                if (nbb_cells[i].input_prompt_number == nbb_cell_id) {\n",
       "                    nbb_cells[i].set_text(nbb_formatted_code);\n",
       "                    break;\n",
       "                }\n",
       "            }\n",
       "        }, 500);\n",
       "        "
      ],
      "text/plain": [
       "<IPython.core.display.Javascript object>"
      ]
     },
     "metadata": {},
     "output_type": "display_data"
    }
   ],
   "source": [
    "from coverage_utils import CoverageCalculator, get_obsids_for_region\n",
    "from my_io import get_tilecoords, get_metadata, get_region_names"
   ]
  },
  {
   "cell_type": "code",
   "execution_count": 6,
   "metadata": {},
   "outputs": [
    {
     "data": {
      "application/javascript": [
       "\n",
       "        setTimeout(function() {\n",
       "            var nbb_cell_id = 6;\n",
       "            var nbb_formatted_code = \"obsid = \\\"ESP_011341_0980\\\"\";\n",
       "            var nbb_cells = Jupyter.notebook.get_cells();\n",
       "            for (var i = 0; i < nbb_cells.length; ++i) {\n",
       "                if (nbb_cells[i].input_prompt_number == nbb_cell_id) {\n",
       "                    nbb_cells[i].set_text(nbb_formatted_code);\n",
       "                    break;\n",
       "                }\n",
       "            }\n",
       "        }, 500);\n",
       "        "
      ],
      "text/plain": [
       "<IPython.core.display.Javascript object>"
      ]
     },
     "metadata": {},
     "output_type": "display_data"
    }
   ],
   "source": [
    "obsid = \"ESP_011341_0980\""
   ]
  },
  {
   "cell_type": "code",
   "execution_count": 7,
   "metadata": {},
   "outputs": [
    {
     "name": "stdout",
     "output_type": "stream",
     "text": [
      "Reading fans and blotches in...\n",
      "Done.\n",
      "Reading metadata...\n",
      "Done.\n",
      "Note that obsid must be set to a string value before this works.\n"
     ]
    },
    {
     "data": {
      "application/javascript": [
       "\n",
       "        setTimeout(function() {\n",
       "            var nbb_cell_id = 7;\n",
       "            var nbb_formatted_code = \"# the `which` setting is by default 'both'\\ncc = CoverageCalculator()\";\n",
       "            var nbb_cells = Jupyter.notebook.get_cells();\n",
       "            for (var i = 0; i < nbb_cells.length; ++i) {\n",
       "                if (nbb_cells[i].input_prompt_number == nbb_cell_id) {\n",
       "                    nbb_cells[i].set_text(nbb_formatted_code);\n",
       "                    break;\n",
       "                }\n",
       "            }\n",
       "        }, 500);\n",
       "        "
      ],
      "text/plain": [
       "<IPython.core.display.Javascript object>"
      ]
     },
     "metadata": {},
     "output_type": "display_data"
    }
   ],
   "source": [
    "# the `which` setting is by default 'both'\n",
    "cc = CoverageCalculator()"
   ]
  },
  {
   "cell_type": "code",
   "execution_count": 43,
   "metadata": {},
   "outputs": [
    {
     "data": {
      "application/javascript": [
       "\n",
       "        setTimeout(function() {\n",
       "            var nbb_cell_id = 43;\n",
       "            var nbb_formatted_code = \"# get_obsids_for_region(\\\"ithaca\\\")\";\n",
       "            var nbb_cells = Jupyter.notebook.get_cells();\n",
       "            for (var i = 0; i < nbb_cells.length; ++i) {\n",
       "                if (nbb_cells[i].input_prompt_number == nbb_cell_id) {\n",
       "                    nbb_cells[i].set_text(nbb_formatted_code);\n",
       "                    break;\n",
       "                }\n",
       "            }\n",
       "        }, 500);\n",
       "        "
      ],
      "text/plain": [
       "<IPython.core.display.Javascript object>"
      ]
     },
     "metadata": {},
     "output_type": "display_data"
    }
   ],
   "source": [
    "# get_obsids_for_region(\"ithaca\")"
   ]
  },
  {
   "cell_type": "code",
   "execution_count": 44,
   "metadata": {},
   "outputs": [
    {
     "data": {
      "application/javascript": [
       "\n",
       "        setTimeout(function() {\n",
       "            var nbb_cell_id = 44;\n",
       "            var nbb_formatted_code = \"def calc_coverage(given_region, which=\\\"both\\\"):\\n    bucket = []\\n    roi = given_region\\n    cc.which = which\\n    for MY in [29, 30]:\\n        print(f\\\"Martian year: {MY}\\\")\\n        for obsid in get_obsids_for_region(roi, MY):\\n            print(f\\\"Calculating obsid {obsid}\\\")\\n            d = {}\\n            d[\\\"obsid\\\"] = obsid\\n            d[\\\"MY\\\"] = MY\\n            cc.obsid = obsid\\n            d[\\\"fraction\\\"] = cc.covered_fraction\\n            d[\\\"Ls\\\"] = cc.Ls\\n            bucket.append(d)\\n    results = pd.DataFrame(bucket)\\n    results[\\\"region_name\\\"] = given_region\\n    return results\";\n",
       "            var nbb_cells = Jupyter.notebook.get_cells();\n",
       "            for (var i = 0; i < nbb_cells.length; ++i) {\n",
       "                if (nbb_cells[i].input_prompt_number == nbb_cell_id) {\n",
       "                    nbb_cells[i].set_text(nbb_formatted_code);\n",
       "                    break;\n",
       "                }\n",
       "            }\n",
       "        }, 500);\n",
       "        "
      ],
      "text/plain": [
       "<IPython.core.display.Javascript object>"
      ]
     },
     "metadata": {},
     "output_type": "display_data"
    }
   ],
   "source": [
    "def calc_coverage(given_region, which=\"both\"):\n",
    "    bucket = []\n",
    "    roi = given_region\n",
    "    cc.which = which\n",
    "    for MY in [29, 30]:\n",
    "        print(f\"Martian year: {MY}\")\n",
    "        for obsid in get_obsids_for_region(roi, MY):\n",
    "            print(f\"Calculating obsid {obsid}\")\n",
    "            d = {}\n",
    "            d[\"obsid\"] = obsid\n",
    "            d[\"MY\"] = MY\n",
    "            cc.obsid = obsid\n",
    "            d[\"fraction\"] = cc.covered_fraction\n",
    "            d[\"Ls\"] = cc.Ls\n",
    "            bucket.append(d)\n",
    "    results = pd.DataFrame(bucket)\n",
    "    results[\"region_name\"] = given_region\n",
    "    return results"
   ]
  },
  {
   "cell_type": "code",
   "execution_count": 45,
   "metadata": {},
   "outputs": [
    {
     "data": {
      "application/javascript": [
       "\n",
       "        setTimeout(function() {\n",
       "            var nbb_cell_id = 45;\n",
       "            var nbb_formatted_code = \"all_regions = get_region_names().roi_name.unique()\";\n",
       "            var nbb_cells = Jupyter.notebook.get_cells();\n",
       "            for (var i = 0; i < nbb_cells.length; ++i) {\n",
       "                if (nbb_cells[i].input_prompt_number == nbb_cell_id) {\n",
       "                    nbb_cells[i].set_text(nbb_formatted_code);\n",
       "                    break;\n",
       "                }\n",
       "            }\n",
       "        }, 500);\n",
       "        "
      ],
      "text/plain": [
       "<IPython.core.display.Javascript object>"
      ]
     },
     "metadata": {},
     "output_type": "display_data"
    }
   ],
   "source": [
    "all_regions = get_region_names().roi_name.unique()"
   ]
  },
  {
   "cell_type": "code",
   "execution_count": 46,
   "metadata": {},
   "outputs": [
    {
     "data": {
      "text/plain": [
       "array(['Macclesfield', 'unknown', 'Starburst', 'Manhattan_Classic',\n",
       "       'Wellington', 'Albany', 'Bilbao', 'Ithaca', 'Portsmouth', 'Pisaq',\n",
       "       'Manhattan_Frontinella', 'BuenosAires', 'Inca_City_Ridges',\n",
       "       'Inca_City', 'Giza', 'Potsdam', 'Troy', 'Oswego_Edge', 'Halifax',\n",
       "       'Caterpillar', 'Rochester', 'Manhattan_Cracks', 'Schenectady',\n",
       "       'Binghamton', 'Atka', 'Cortland', 'Geneseo', 'Manhattan2'],\n",
       "      dtype=object)"
      ]
     },
     "execution_count": 46,
     "metadata": {},
     "output_type": "execute_result"
    },
    {
     "data": {
      "application/javascript": [
       "\n",
       "        setTimeout(function() {\n",
       "            var nbb_cell_id = 46;\n",
       "            var nbb_formatted_code = \"all_regions\";\n",
       "            var nbb_cells = Jupyter.notebook.get_cells();\n",
       "            for (var i = 0; i < nbb_cells.length; ++i) {\n",
       "                if (nbb_cells[i].input_prompt_number == nbb_cell_id) {\n",
       "                    nbb_cells[i].set_text(nbb_formatted_code);\n",
       "                    break;\n",
       "                }\n",
       "            }\n",
       "        }, 500);\n",
       "        "
      ],
      "text/plain": [
       "<IPython.core.display.Javascript object>"
      ]
     },
     "metadata": {},
     "output_type": "display_data"
    }
   ],
   "source": [
    "all_regions"
   ]
  },
  {
   "cell_type": "code",
   "execution_count": 49,
   "metadata": {},
   "outputs": [
    {
     "data": {
      "application/javascript": [
       "\n",
       "        setTimeout(function() {\n",
       "            var nbb_cell_id = 49;\n",
       "            var nbb_formatted_code = \"x = np.asarray(\\\"x\\\")\";\n",
       "            var nbb_cells = Jupyter.notebook.get_cells();\n",
       "            for (var i = 0; i < nbb_cells.length; ++i) {\n",
       "                if (nbb_cells[i].input_prompt_number == nbb_cell_id) {\n",
       "                    nbb_cells[i].set_text(nbb_formatted_code);\n",
       "                    break;\n",
       "                }\n",
       "            }\n",
       "        }, 500);\n",
       "        "
      ],
      "text/plain": [
       "<IPython.core.display.Javascript object>"
      ]
     },
     "metadata": {},
     "output_type": "display_data"
    }
   ],
   "source": [
    "x = np.asarray(\"x\")"
   ]
  },
  {
   "cell_type": "code",
   "execution_count": 50,
   "metadata": {},
   "outputs": [
    {
     "name": "stdout",
     "output_type": "stream",
     "text": [
      "Martian year: 29\n",
      "Calculating obsid ESP_011931_0945\n",
      "Calculating obsid ESP_012063_0945\n",
      "Calculating obsid ESP_011350_0945\n",
      "Calculating obsid ESP_012076_0945\n",
      "Calculating obsid ESP_012643_0945\n",
      "Calculating obsid ESP_012854_0945\n",
      "Calculating obsid ESP_011351_0945\n",
      "Calculating obsid ESP_011404_0945\n",
      "Calculating obsid ESP_011403_0945\n",
      "Calculating obsid ESP_012858_0855\n",
      "Martian year: 30\n",
      "Calculating obsid ESP_020357_0950\n",
      "Calculating obsid ESP_020476_0950\n",
      "Calculating obsid ESP_021491_0950\n",
      "Calculating obsid ESP_020779_0950\n",
      "Calculating obsid ESP_020146_0950\n",
      "Calculating obsid ESP_020568_0950\n"
     ]
    },
    {
     "data": {
      "text/html": [
       "<div>\n",
       "<style scoped>\n",
       "    .dataframe tbody tr th:only-of-type {\n",
       "        vertical-align: middle;\n",
       "    }\n",
       "\n",
       "    .dataframe tbody tr th {\n",
       "        vertical-align: top;\n",
       "    }\n",
       "\n",
       "    .dataframe thead th {\n",
       "        text-align: right;\n",
       "    }\n",
       "</style>\n",
       "<table border=\"1\" class=\"dataframe\">\n",
       "  <thead>\n",
       "    <tr style=\"text-align: right;\">\n",
       "      <th></th>\n",
       "      <th>Ls</th>\n",
       "      <th>MY</th>\n",
       "      <th>fraction</th>\n",
       "      <th>obsid</th>\n",
       "      <th>region_name</th>\n",
       "    </tr>\n",
       "  </thead>\n",
       "  <tbody>\n",
       "    <tr>\n",
       "      <th>0</th>\n",
       "      <td>207.751</td>\n",
       "      <td>29</td>\n",
       "      <td>0.144</td>\n",
       "      <td>ESP_011931_0945</td>\n",
       "      <td>ithaca</td>\n",
       "    </tr>\n",
       "    <tr>\n",
       "      <th>1</th>\n",
       "      <td>214.020</td>\n",
       "      <td>29</td>\n",
       "      <td>0.154</td>\n",
       "      <td>ESP_012063_0945</td>\n",
       "      <td>ithaca</td>\n",
       "    </tr>\n",
       "    <tr>\n",
       "      <th>2</th>\n",
       "      <td>181.205</td>\n",
       "      <td>29</td>\n",
       "      <td>0.044</td>\n",
       "      <td>ESP_011350_0945</td>\n",
       "      <td>ithaca</td>\n",
       "    </tr>\n",
       "    <tr>\n",
       "      <th>3</th>\n",
       "      <td>214.641</td>\n",
       "      <td>29</td>\n",
       "      <td>0.156</td>\n",
       "      <td>ESP_012076_0945</td>\n",
       "      <td>ithaca</td>\n",
       "    </tr>\n",
       "    <tr>\n",
       "      <th>4</th>\n",
       "      <td>242.279</td>\n",
       "      <td>29</td>\n",
       "      <td>0.163</td>\n",
       "      <td>ESP_012643_0945</td>\n",
       "      <td>ithaca</td>\n",
       "    </tr>\n",
       "    <tr>\n",
       "      <th>5</th>\n",
       "      <td>252.710</td>\n",
       "      <td>29</td>\n",
       "      <td>0.132</td>\n",
       "      <td>ESP_012854_0945</td>\n",
       "      <td>ithaca</td>\n",
       "    </tr>\n",
       "    <tr>\n",
       "      <th>6</th>\n",
       "      <td>181.249</td>\n",
       "      <td>29</td>\n",
       "      <td>0.019</td>\n",
       "      <td>ESP_011351_0945</td>\n",
       "      <td>ithaca</td>\n",
       "    </tr>\n",
       "    <tr>\n",
       "      <th>7</th>\n",
       "      <td>183.594</td>\n",
       "      <td>29</td>\n",
       "      <td>0.016</td>\n",
       "      <td>ESP_011404_0945</td>\n",
       "      <td>ithaca</td>\n",
       "    </tr>\n",
       "    <tr>\n",
       "      <th>8</th>\n",
       "      <td>183.549</td>\n",
       "      <td>29</td>\n",
       "      <td>0.015</td>\n",
       "      <td>ESP_011403_0945</td>\n",
       "      <td>ithaca</td>\n",
       "    </tr>\n",
       "    <tr>\n",
       "      <th>9</th>\n",
       "      <td>252.907</td>\n",
       "      <td>29</td>\n",
       "      <td>0.150</td>\n",
       "      <td>ESP_012858_0855</td>\n",
       "      <td>ithaca</td>\n",
       "    </tr>\n",
       "    <tr>\n",
       "      <th>10</th>\n",
       "      <td>189.713</td>\n",
       "      <td>30</td>\n",
       "      <td>0.011</td>\n",
       "      <td>ESP_020357_0950</td>\n",
       "      <td>ithaca</td>\n",
       "    </tr>\n",
       "    <tr>\n",
       "      <th>11</th>\n",
       "      <td>195.125</td>\n",
       "      <td>30</td>\n",
       "      <td>0.030</td>\n",
       "      <td>ESP_020476_0950</td>\n",
       "      <td>ithaca</td>\n",
       "    </tr>\n",
       "    <tr>\n",
       "      <th>12</th>\n",
       "      <td>243.829</td>\n",
       "      <td>30</td>\n",
       "      <td>0.218</td>\n",
       "      <td>ESP_021491_0950</td>\n",
       "      <td>ithaca</td>\n",
       "    </tr>\n",
       "    <tr>\n",
       "      <th>13</th>\n",
       "      <td>209.241</td>\n",
       "      <td>30</td>\n",
       "      <td>0.173</td>\n",
       "      <td>ESP_020779_0950</td>\n",
       "      <td>ithaca</td>\n",
       "    </tr>\n",
       "    <tr>\n",
       "      <th>14</th>\n",
       "      <td>180.311</td>\n",
       "      <td>30</td>\n",
       "      <td>0.029</td>\n",
       "      <td>ESP_020146_0950</td>\n",
       "      <td>ithaca</td>\n",
       "    </tr>\n",
       "    <tr>\n",
       "      <th>15</th>\n",
       "      <td>199.362</td>\n",
       "      <td>30</td>\n",
       "      <td>0.110</td>\n",
       "      <td>ESP_020568_0950</td>\n",
       "      <td>ithaca</td>\n",
       "    </tr>\n",
       "  </tbody>\n",
       "</table>\n",
       "</div>"
      ],
      "text/plain": [
       "         Ls  MY  fraction            obsid region_name\n",
       "0   207.751  29     0.144  ESP_011931_0945      ithaca\n",
       "1   214.020  29     0.154  ESP_012063_0945      ithaca\n",
       "2   181.205  29     0.044  ESP_011350_0945      ithaca\n",
       "3   214.641  29     0.156  ESP_012076_0945      ithaca\n",
       "4   242.279  29     0.163  ESP_012643_0945      ithaca\n",
       "5   252.710  29     0.132  ESP_012854_0945      ithaca\n",
       "6   181.249  29     0.019  ESP_011351_0945      ithaca\n",
       "7   183.594  29     0.016  ESP_011404_0945      ithaca\n",
       "8   183.549  29     0.015  ESP_011403_0945      ithaca\n",
       "9   252.907  29     0.150  ESP_012858_0855      ithaca\n",
       "10  189.713  30     0.011  ESP_020357_0950      ithaca\n",
       "11  195.125  30     0.030  ESP_020476_0950      ithaca\n",
       "12  243.829  30     0.218  ESP_021491_0950      ithaca\n",
       "13  209.241  30     0.173  ESP_020779_0950      ithaca\n",
       "14  180.311  30     0.029  ESP_020146_0950      ithaca\n",
       "15  199.362  30     0.110  ESP_020568_0950      ithaca"
      ]
     },
     "execution_count": 50,
     "metadata": {},
     "output_type": "execute_result"
    },
    {
     "data": {
      "application/javascript": [
       "\n",
       "        setTimeout(function() {\n",
       "            var nbb_cell_id = 50;\n",
       "            var nbb_formatted_code = \"calc_coverage(\\\"ithaca\\\", which=\\\"blotches\\\")\";\n",
       "            var nbb_cells = Jupyter.notebook.get_cells();\n",
       "            for (var i = 0; i < nbb_cells.length; ++i) {\n",
       "                if (nbb_cells[i].input_prompt_number == nbb_cell_id) {\n",
       "                    nbb_cells[i].set_text(nbb_formatted_code);\n",
       "                    break;\n",
       "                }\n",
       "            }\n",
       "        }, 500);\n",
       "        "
      ],
      "text/plain": [
       "<IPython.core.display.Javascript object>"
      ]
     },
     "metadata": {},
     "output_type": "display_data"
    }
   ],
   "source": [
    "calc_coverage(\"ithaca\", which=\"blotches\")"
   ]
  },
  {
   "cell_type": "code",
   "execution_count": 40,
   "metadata": {},
   "outputs": [
    {
     "name": "stdout",
     "output_type": "stream",
     "text": [
      "Martian year: 29\n",
      "Calculating obsid ESP_011931_0945\n",
      "Calculating obsid ESP_012063_0945\n",
      "Calculating obsid ESP_011350_0945\n",
      "Calculating obsid ESP_012076_0945\n",
      "Calculating obsid ESP_012643_0945\n",
      "Calculating obsid ESP_012854_0945\n",
      "Calculating obsid ESP_011351_0945\n",
      "Calculating obsid ESP_011404_0945\n",
      "Calculating obsid ESP_011403_0945\n",
      "Calculating obsid ESP_012858_0855\n",
      "Martian year: 30\n",
      "Calculating obsid ESP_020357_0950\n",
      "Calculating obsid ESP_020476_0950\n",
      "Calculating obsid ESP_021491_0950\n",
      "Calculating obsid ESP_020779_0950\n",
      "Calculating obsid ESP_020146_0950\n",
      "Calculating obsid ESP_020568_0950\n"
     ]
    },
    {
     "data": {
      "text/html": [
       "<div>\n",
       "<style scoped>\n",
       "    .dataframe tbody tr th:only-of-type {\n",
       "        vertical-align: middle;\n",
       "    }\n",
       "\n",
       "    .dataframe tbody tr th {\n",
       "        vertical-align: top;\n",
       "    }\n",
       "\n",
       "    .dataframe thead th {\n",
       "        text-align: right;\n",
       "    }\n",
       "</style>\n",
       "<table border=\"1\" class=\"dataframe\">\n",
       "  <thead>\n",
       "    <tr style=\"text-align: right;\">\n",
       "      <th></th>\n",
       "      <th>Ls</th>\n",
       "      <th>MY</th>\n",
       "      <th>fraction</th>\n",
       "      <th>obsid</th>\n",
       "      <th>region_name</th>\n",
       "    </tr>\n",
       "  </thead>\n",
       "  <tbody>\n",
       "    <tr>\n",
       "      <th>0</th>\n",
       "      <td>207.751</td>\n",
       "      <td>29</td>\n",
       "      <td>0.134</td>\n",
       "      <td>ESP_011931_0945</td>\n",
       "      <td>ithaca</td>\n",
       "    </tr>\n",
       "    <tr>\n",
       "      <th>1</th>\n",
       "      <td>214.020</td>\n",
       "      <td>29</td>\n",
       "      <td>0.113</td>\n",
       "      <td>ESP_012063_0945</td>\n",
       "      <td>ithaca</td>\n",
       "    </tr>\n",
       "    <tr>\n",
       "      <th>2</th>\n",
       "      <td>181.205</td>\n",
       "      <td>29</td>\n",
       "      <td>0.060</td>\n",
       "      <td>ESP_011350_0945</td>\n",
       "      <td>ithaca</td>\n",
       "    </tr>\n",
       "    <tr>\n",
       "      <th>3</th>\n",
       "      <td>214.641</td>\n",
       "      <td>29</td>\n",
       "      <td>0.109</td>\n",
       "      <td>ESP_012076_0945</td>\n",
       "      <td>ithaca</td>\n",
       "    </tr>\n",
       "    <tr>\n",
       "      <th>4</th>\n",
       "      <td>242.279</td>\n",
       "      <td>29</td>\n",
       "      <td>0.101</td>\n",
       "      <td>ESP_012643_0945</td>\n",
       "      <td>ithaca</td>\n",
       "    </tr>\n",
       "    <tr>\n",
       "      <th>5</th>\n",
       "      <td>252.710</td>\n",
       "      <td>29</td>\n",
       "      <td>0.141</td>\n",
       "      <td>ESP_012854_0945</td>\n",
       "      <td>ithaca</td>\n",
       "    </tr>\n",
       "    <tr>\n",
       "      <th>6</th>\n",
       "      <td>181.249</td>\n",
       "      <td>29</td>\n",
       "      <td>0.040</td>\n",
       "      <td>ESP_011351_0945</td>\n",
       "      <td>ithaca</td>\n",
       "    </tr>\n",
       "    <tr>\n",
       "      <th>7</th>\n",
       "      <td>183.594</td>\n",
       "      <td>29</td>\n",
       "      <td>0.105</td>\n",
       "      <td>ESP_011404_0945</td>\n",
       "      <td>ithaca</td>\n",
       "    </tr>\n",
       "    <tr>\n",
       "      <th>8</th>\n",
       "      <td>183.549</td>\n",
       "      <td>29</td>\n",
       "      <td>0.080</td>\n",
       "      <td>ESP_011403_0945</td>\n",
       "      <td>ithaca</td>\n",
       "    </tr>\n",
       "    <tr>\n",
       "      <th>9</th>\n",
       "      <td>252.907</td>\n",
       "      <td>29</td>\n",
       "      <td>0.119</td>\n",
       "      <td>ESP_012858_0855</td>\n",
       "      <td>ithaca</td>\n",
       "    </tr>\n",
       "    <tr>\n",
       "      <th>10</th>\n",
       "      <td>189.713</td>\n",
       "      <td>30</td>\n",
       "      <td>0.079</td>\n",
       "      <td>ESP_020357_0950</td>\n",
       "      <td>ithaca</td>\n",
       "    </tr>\n",
       "    <tr>\n",
       "      <th>11</th>\n",
       "      <td>195.125</td>\n",
       "      <td>30</td>\n",
       "      <td>0.236</td>\n",
       "      <td>ESP_020476_0950</td>\n",
       "      <td>ithaca</td>\n",
       "    </tr>\n",
       "    <tr>\n",
       "      <th>12</th>\n",
       "      <td>243.829</td>\n",
       "      <td>30</td>\n",
       "      <td>0.168</td>\n",
       "      <td>ESP_021491_0950</td>\n",
       "      <td>ithaca</td>\n",
       "    </tr>\n",
       "    <tr>\n",
       "      <th>13</th>\n",
       "      <td>209.241</td>\n",
       "      <td>30</td>\n",
       "      <td>0.221</td>\n",
       "      <td>ESP_020779_0950</td>\n",
       "      <td>ithaca</td>\n",
       "    </tr>\n",
       "    <tr>\n",
       "      <th>14</th>\n",
       "      <td>180.311</td>\n",
       "      <td>30</td>\n",
       "      <td>0.094</td>\n",
       "      <td>ESP_020146_0950</td>\n",
       "      <td>ithaca</td>\n",
       "    </tr>\n",
       "    <tr>\n",
       "      <th>15</th>\n",
       "      <td>199.362</td>\n",
       "      <td>30</td>\n",
       "      <td>0.297</td>\n",
       "      <td>ESP_020568_0950</td>\n",
       "      <td>ithaca</td>\n",
       "    </tr>\n",
       "  </tbody>\n",
       "</table>\n",
       "</div>"
      ],
      "text/plain": [
       "         Ls  MY  fraction            obsid region_name\n",
       "0   207.751  29     0.134  ESP_011931_0945      ithaca\n",
       "1   214.020  29     0.113  ESP_012063_0945      ithaca\n",
       "2   181.205  29     0.060  ESP_011350_0945      ithaca\n",
       "3   214.641  29     0.109  ESP_012076_0945      ithaca\n",
       "4   242.279  29     0.101  ESP_012643_0945      ithaca\n",
       "5   252.710  29     0.141  ESP_012854_0945      ithaca\n",
       "6   181.249  29     0.040  ESP_011351_0945      ithaca\n",
       "7   183.594  29     0.105  ESP_011404_0945      ithaca\n",
       "8   183.549  29     0.080  ESP_011403_0945      ithaca\n",
       "9   252.907  29     0.119  ESP_012858_0855      ithaca\n",
       "10  189.713  30     0.079  ESP_020357_0950      ithaca\n",
       "11  195.125  30     0.236  ESP_020476_0950      ithaca\n",
       "12  243.829  30     0.168  ESP_021491_0950      ithaca\n",
       "13  209.241  30     0.221  ESP_020779_0950      ithaca\n",
       "14  180.311  30     0.094  ESP_020146_0950      ithaca\n",
       "15  199.362  30     0.297  ESP_020568_0950      ithaca"
      ]
     },
     "execution_count": 40,
     "metadata": {},
     "output_type": "execute_result"
    },
    {
     "data": {
      "application/javascript": [
       "\n",
       "        setTimeout(function() {\n",
       "            var nbb_cell_id = 40;\n",
       "            var nbb_formatted_code = \"calc_coverage(\\\"ithaca\\\", which=\\\"fans\\\")\";\n",
       "            var nbb_cells = Jupyter.notebook.get_cells();\n",
       "            for (var i = 0; i < nbb_cells.length; ++i) {\n",
       "                if (nbb_cells[i].input_prompt_number == nbb_cell_id) {\n",
       "                    nbb_cells[i].set_text(nbb_formatted_code);\n",
       "                    break;\n",
       "                }\n",
       "            }\n",
       "        }, 500);\n",
       "        "
      ],
      "text/plain": [
       "<IPython.core.display.Javascript object>"
      ]
     },
     "metadata": {},
     "output_type": "display_data"
    }
   ],
   "source": [
    "calc_coverage(\"ithaca\", which=\"fans\")"
   ]
  },
  {
   "cell_type": "code",
   "execution_count": 37,
   "metadata": {},
   "outputs": [
    {
     "name": "stdout",
     "output_type": "stream",
     "text": [
      "Martian year: 29\n",
      "Calculating obsid ESP_011931_0945\n",
      "Calculating obsid ESP_012063_0945\n",
      "Calculating obsid ESP_011350_0945\n",
      "Calculating obsid ESP_012076_0945\n",
      "Calculating obsid ESP_012643_0945\n",
      "Calculating obsid ESP_012854_0945\n",
      "Calculating obsid ESP_011351_0945\n",
      "Calculating obsid ESP_011404_0945\n",
      "Calculating obsid ESP_011403_0945\n",
      "Calculating obsid ESP_012858_0855\n",
      "Martian year: 30\n",
      "Calculating obsid ESP_020357_0950\n",
      "Calculating obsid ESP_020476_0950\n",
      "Calculating obsid ESP_021491_0950\n",
      "Calculating obsid ESP_020779_0950\n",
      "Calculating obsid ESP_020146_0950\n",
      "Calculating obsid ESP_020568_0950\n"
     ]
    },
    {
     "data": {
      "text/html": [
       "<div>\n",
       "<style scoped>\n",
       "    .dataframe tbody tr th:only-of-type {\n",
       "        vertical-align: middle;\n",
       "    }\n",
       "\n",
       "    .dataframe tbody tr th {\n",
       "        vertical-align: top;\n",
       "    }\n",
       "\n",
       "    .dataframe thead th {\n",
       "        text-align: right;\n",
       "    }\n",
       "</style>\n",
       "<table border=\"1\" class=\"dataframe\">\n",
       "  <thead>\n",
       "    <tr style=\"text-align: right;\">\n",
       "      <th></th>\n",
       "      <th>Ls</th>\n",
       "      <th>MY</th>\n",
       "      <th>fraction</th>\n",
       "      <th>obsid</th>\n",
       "      <th>region_name</th>\n",
       "    </tr>\n",
       "  </thead>\n",
       "  <tbody>\n",
       "    <tr>\n",
       "      <th>0</th>\n",
       "      <td>207.751</td>\n",
       "      <td>29</td>\n",
       "      <td>0.225</td>\n",
       "      <td>ESP_011931_0945</td>\n",
       "      <td>ithaca</td>\n",
       "    </tr>\n",
       "    <tr>\n",
       "      <th>1</th>\n",
       "      <td>214.020</td>\n",
       "      <td>29</td>\n",
       "      <td>0.212</td>\n",
       "      <td>ESP_012063_0945</td>\n",
       "      <td>ithaca</td>\n",
       "    </tr>\n",
       "    <tr>\n",
       "      <th>2</th>\n",
       "      <td>181.205</td>\n",
       "      <td>29</td>\n",
       "      <td>0.091</td>\n",
       "      <td>ESP_011350_0945</td>\n",
       "      <td>ithaca</td>\n",
       "    </tr>\n",
       "    <tr>\n",
       "      <th>3</th>\n",
       "      <td>214.641</td>\n",
       "      <td>29</td>\n",
       "      <td>0.210</td>\n",
       "      <td>ESP_012076_0945</td>\n",
       "      <td>ithaca</td>\n",
       "    </tr>\n",
       "    <tr>\n",
       "      <th>4</th>\n",
       "      <td>242.279</td>\n",
       "      <td>29</td>\n",
       "      <td>0.212</td>\n",
       "      <td>ESP_012643_0945</td>\n",
       "      <td>ithaca</td>\n",
       "    </tr>\n",
       "    <tr>\n",
       "      <th>5</th>\n",
       "      <td>252.710</td>\n",
       "      <td>29</td>\n",
       "      <td>0.229</td>\n",
       "      <td>ESP_012854_0945</td>\n",
       "      <td>ithaca</td>\n",
       "    </tr>\n",
       "    <tr>\n",
       "      <th>6</th>\n",
       "      <td>181.249</td>\n",
       "      <td>29</td>\n",
       "      <td>0.056</td>\n",
       "      <td>ESP_011351_0945</td>\n",
       "      <td>ithaca</td>\n",
       "    </tr>\n",
       "    <tr>\n",
       "      <th>7</th>\n",
       "      <td>183.594</td>\n",
       "      <td>29</td>\n",
       "      <td>0.116</td>\n",
       "      <td>ESP_011404_0945</td>\n",
       "      <td>ithaca</td>\n",
       "    </tr>\n",
       "    <tr>\n",
       "      <th>8</th>\n",
       "      <td>183.549</td>\n",
       "      <td>29</td>\n",
       "      <td>0.088</td>\n",
       "      <td>ESP_011403_0945</td>\n",
       "      <td>ithaca</td>\n",
       "    </tr>\n",
       "    <tr>\n",
       "      <th>9</th>\n",
       "      <td>252.907</td>\n",
       "      <td>29</td>\n",
       "      <td>0.225</td>\n",
       "      <td>ESP_012858_0855</td>\n",
       "      <td>ithaca</td>\n",
       "    </tr>\n",
       "    <tr>\n",
       "      <th>10</th>\n",
       "      <td>189.713</td>\n",
       "      <td>30</td>\n",
       "      <td>0.088</td>\n",
       "      <td>ESP_020357_0950</td>\n",
       "      <td>ithaca</td>\n",
       "    </tr>\n",
       "    <tr>\n",
       "      <th>11</th>\n",
       "      <td>195.125</td>\n",
       "      <td>30</td>\n",
       "      <td>0.248</td>\n",
       "      <td>ESP_020476_0950</td>\n",
       "      <td>ithaca</td>\n",
       "    </tr>\n",
       "    <tr>\n",
       "      <th>12</th>\n",
       "      <td>243.829</td>\n",
       "      <td>30</td>\n",
       "      <td>0.316</td>\n",
       "      <td>ESP_021491_0950</td>\n",
       "      <td>ithaca</td>\n",
       "    </tr>\n",
       "    <tr>\n",
       "      <th>13</th>\n",
       "      <td>209.241</td>\n",
       "      <td>30</td>\n",
       "      <td>0.324</td>\n",
       "      <td>ESP_020779_0950</td>\n",
       "      <td>ithaca</td>\n",
       "    </tr>\n",
       "    <tr>\n",
       "      <th>14</th>\n",
       "      <td>180.311</td>\n",
       "      <td>30</td>\n",
       "      <td>0.119</td>\n",
       "      <td>ESP_020146_0950</td>\n",
       "      <td>ithaca</td>\n",
       "    </tr>\n",
       "    <tr>\n",
       "      <th>15</th>\n",
       "      <td>199.362</td>\n",
       "      <td>30</td>\n",
       "      <td>0.355</td>\n",
       "      <td>ESP_020568_0950</td>\n",
       "      <td>ithaca</td>\n",
       "    </tr>\n",
       "  </tbody>\n",
       "</table>\n",
       "</div>"
      ],
      "text/plain": [
       "         Ls  MY  fraction            obsid region_name\n",
       "0   207.751  29     0.225  ESP_011931_0945      ithaca\n",
       "1   214.020  29     0.212  ESP_012063_0945      ithaca\n",
       "2   181.205  29     0.091  ESP_011350_0945      ithaca\n",
       "3   214.641  29     0.210  ESP_012076_0945      ithaca\n",
       "4   242.279  29     0.212  ESP_012643_0945      ithaca\n",
       "5   252.710  29     0.229  ESP_012854_0945      ithaca\n",
       "6   181.249  29     0.056  ESP_011351_0945      ithaca\n",
       "7   183.594  29     0.116  ESP_011404_0945      ithaca\n",
       "8   183.549  29     0.088  ESP_011403_0945      ithaca\n",
       "9   252.907  29     0.225  ESP_012858_0855      ithaca\n",
       "10  189.713  30     0.088  ESP_020357_0950      ithaca\n",
       "11  195.125  30     0.248  ESP_020476_0950      ithaca\n",
       "12  243.829  30     0.316  ESP_021491_0950      ithaca\n",
       "13  209.241  30     0.324  ESP_020779_0950      ithaca\n",
       "14  180.311  30     0.119  ESP_020146_0950      ithaca\n",
       "15  199.362  30     0.355  ESP_020568_0950      ithaca"
      ]
     },
     "execution_count": 37,
     "metadata": {},
     "output_type": "execute_result"
    },
    {
     "data": {
      "application/javascript": [
       "\n",
       "        setTimeout(function() {\n",
       "            var nbb_cell_id = 37;\n",
       "            var nbb_formatted_code = \"calc_coverage(\\\"ithaca\\\")\";\n",
       "            var nbb_cells = Jupyter.notebook.get_cells();\n",
       "            for (var i = 0; i < nbb_cells.length; ++i) {\n",
       "                if (nbb_cells[i].input_prompt_number == nbb_cell_id) {\n",
       "                    nbb_cells[i].set_text(nbb_formatted_code);\n",
       "                    break;\n",
       "                }\n",
       "            }\n",
       "        }, 500);\n",
       "        "
      ],
      "text/plain": [
       "<IPython.core.display.Javascript object>"
      ]
     },
     "metadata": {},
     "output_type": "display_data"
    }
   ],
   "source": [
    "calc_coverage(\"ithaca\")"
   ]
  },
  {
   "cell_type": "code",
   "execution_count": 10,
   "metadata": {},
   "outputs": [
    {
     "data": {
      "text/plain": [
       "'both'"
      ]
     },
     "execution_count": 10,
     "metadata": {},
     "output_type": "execute_result"
    },
    {
     "data": {
      "application/javascript": [
       "\n",
       "        setTimeout(function() {\n",
       "            var nbb_cell_id = 10;\n",
       "            var nbb_formatted_code = \"cc.which\";\n",
       "            var nbb_cells = Jupyter.notebook.get_cells();\n",
       "            for (var i = 0; i < nbb_cells.length; ++i) {\n",
       "                if (nbb_cells[i].input_prompt_number == nbb_cell_id) {\n",
       "                    nbb_cells[i].set_text(nbb_formatted_code);\n",
       "                    break;\n",
       "                }\n",
       "            }\n",
       "        }, 500);\n",
       "        "
      ],
      "text/plain": [
       "<IPython.core.display.Javascript object>"
      ]
     },
     "metadata": {},
     "output_type": "display_data"
    }
   ],
   "source": [
    "cc.which"
   ]
  },
  {
   "cell_type": "code",
   "execution_count": 11,
   "metadata": {},
   "outputs": [
    {
     "data": {
      "application/javascript": [
       "\n",
       "        setTimeout(function() {\n",
       "            var nbb_cell_id = 11;\n",
       "            var nbb_formatted_code = \"cc.obsid = \\\"ESP_012079_0945\\\"\";\n",
       "            var nbb_cells = Jupyter.notebook.get_cells();\n",
       "            for (var i = 0; i < nbb_cells.length; ++i) {\n",
       "                if (nbb_cells[i].input_prompt_number == nbb_cell_id) {\n",
       "                    nbb_cells[i].set_text(nbb_formatted_code);\n",
       "                    break;\n",
       "                }\n",
       "            }\n",
       "        }, 500);\n",
       "        "
      ],
      "text/plain": [
       "<IPython.core.display.Javascript object>"
      ]
     },
     "metadata": {},
     "output_type": "display_data"
    }
   ],
   "source": [
    "cc.obsid = \"ESP_012079_0945\""
   ]
  },
  {
   "cell_type": "code",
   "execution_count": 131,
   "metadata": {},
   "outputs": [
    {
     "data": {
      "text/plain": [
       "0.115"
      ]
     },
     "execution_count": 131,
     "metadata": {},
     "output_type": "execute_result"
    }
   ],
   "source": [
    "cc.covered_fraction"
   ]
  },
  {
   "cell_type": "code",
   "execution_count": 132,
   "metadata": {},
   "outputs": [],
   "source": [
    "cc.which = \"fans\""
   ]
  },
  {
   "cell_type": "code",
   "execution_count": 133,
   "metadata": {},
   "outputs": [
    {
     "data": {
      "text/plain": [
       "0.088"
      ]
     },
     "execution_count": 133,
     "metadata": {},
     "output_type": "execute_result"
    }
   ],
   "source": [
    "cc.covered_fraction"
   ]
  },
  {
   "cell_type": "code",
   "execution_count": 134,
   "metadata": {},
   "outputs": [],
   "source": [
    "cc.which = \"blotches\""
   ]
  },
  {
   "cell_type": "code",
   "execution_count": 135,
   "metadata": {},
   "outputs": [
    {
     "data": {
      "text/plain": [
       "0.037"
      ]
     },
     "execution_count": 135,
     "metadata": {},
     "output_type": "execute_result"
    }
   ],
   "source": [
    "cc.covered_fraction"
   ]
  },
  {
   "cell_type": "markdown",
   "metadata": {},
   "source": [
    "There's also the union itself and it's area, in case you need it:"
   ]
  },
  {
   "cell_type": "code",
   "execution_count": 136,
   "metadata": {},
   "outputs": [
    {
     "data": {
      "text/plain": [
       "8091883.081637692"
      ]
     },
     "execution_count": 136,
     "metadata": {},
     "output_type": "execute_result"
    }
   ],
   "source": [
    "cc.union.area"
   ]
  },
  {
   "cell_type": "markdown",
   "metadata": {},
   "source": [
    "And the Ls value for the current obsid:"
   ]
  },
  {
   "cell_type": "code",
   "execution_count": 137,
   "metadata": {},
   "outputs": [
    {
     "data": {
      "text/plain": [
       "214.785"
      ]
     },
     "execution_count": 137,
     "metadata": {},
     "output_type": "execute_result"
    }
   ],
   "source": [
    "cc.Ls"
   ]
  },
  {
   "cell_type": "markdown",
   "metadata": {},
   "source": [
    "# Region of Interest names\n",
    "\n",
    "I added also a function to give you the list of obsids for a region name."
   ]
  },
  {
   "cell_type": "code",
   "execution_count": 15,
   "metadata": {},
   "outputs": [
    {
     "data": {
      "text/plain": [
       "124    ESP_011931_0945\n",
       "125    ESP_012063_0945\n",
       "126    ESP_020357_0950\n",
       "127    ESP_011350_0945\n",
       "128    ESP_020476_0950\n",
       "129    ESP_021491_0950\n",
       "130    ESP_020779_0950\n",
       "131    ESP_012076_0945\n",
       "132    ESP_012643_0945\n",
       "133    ESP_020146_0950\n",
       "134    ESP_012854_0945\n",
       "135    ESP_011351_0945\n",
       "136    ESP_011404_0945\n",
       "137    ESP_011403_0945\n",
       "138    ESP_020568_0950\n",
       "139    ESP_012858_0855\n",
       "140    PSP_003822_0945\n",
       "141    PSP_002675_0945\n",
       "142    PSP_003466_0945\n",
       "143    PSP_004033_0945\n",
       "144    PSP_003309_0945\n",
       "145    PSP_003453_0945\n",
       "146    PSP_003308_0945\n",
       "147    PSP_003677_0945\n",
       "148    PSP_003310_0855\n",
       "149    PSP_003176_0945\n",
       "150    PSP_003796_0950\n",
       "151    PSP_002622_0945\n",
       "152    PSP_003730_0945\n",
       "153    PSP_003193_0850\n",
       "154    PSP_003756_0945\n",
       "155    PSP_003954_0945\n",
       "156    PSP_004178_0945\n",
       "157    PSP_004891_0945\n",
       "158    PSP_004666_0945\n",
       "159    ESP_029548_0945\n",
       "160    ESP_038040_0950\n",
       "161    ESP_038462_0950\n",
       "162    ESP_037842_0950\n",
       "163    ESP_039359_0950\n",
       "164    ESP_040216_0950\n",
       "165    ESP_040189_0950\n",
       "Name: obsid, dtype: object"
      ]
     },
     "execution_count": 15,
     "metadata": {},
     "output_type": "execute_result"
    },
    {
     "data": {
      "application/javascript": [
       "\n",
       "        setTimeout(function() {\n",
       "            var nbb_cell_id = 15;\n",
       "            var nbb_formatted_code = \"obsids = get_obsids_for_region(\\\"ithaca\\\")\\nobsids\";\n",
       "            var nbb_cells = Jupyter.notebook.get_cells();\n",
       "            for (var i = 0; i < nbb_cells.length; ++i) {\n",
       "                if (nbb_cells[i].input_prompt_number == nbb_cell_id) {\n",
       "                    nbb_cells[i].set_text(nbb_formatted_code);\n",
       "                    break;\n",
       "                }\n",
       "            }\n",
       "        }, 500);\n",
       "        "
      ],
      "text/plain": [
       "<IPython.core.display.Javascript object>"
      ]
     },
     "metadata": {},
     "output_type": "display_data"
    }
   ],
   "source": [
    "obsids = get_obsids_for_region(\"ithaca\")\n",
    "obsids"
   ]
  },
  {
   "cell_type": "markdown",
   "metadata": {},
   "source": [
    "## Restrict to a martian year\n",
    "\n",
    "by using the MY parameter, you can restrict the obsid list to a specific Martian Year:"
   ]
  },
  {
   "cell_type": "code",
   "execution_count": 16,
   "metadata": {},
   "outputs": [
    {
     "data": {
      "text/plain": [
       "124    ESP_011931_0945\n",
       "125    ESP_012063_0945\n",
       "127    ESP_011350_0945\n",
       "131    ESP_012076_0945\n",
       "132    ESP_012643_0945\n",
       "134    ESP_012854_0945\n",
       "135    ESP_011351_0945\n",
       "136    ESP_011404_0945\n",
       "137    ESP_011403_0945\n",
       "139    ESP_012858_0855\n",
       "Name: obsid, dtype: object"
      ]
     },
     "execution_count": 16,
     "metadata": {},
     "output_type": "execute_result"
    },
    {
     "data": {
      "application/javascript": [
       "\n",
       "        setTimeout(function() {\n",
       "            var nbb_cell_id = 16;\n",
       "            var nbb_formatted_code = \"get_obsids_for_region(\\\"ithaca\\\", 29)\";\n",
       "            var nbb_cells = Jupyter.notebook.get_cells();\n",
       "            for (var i = 0; i < nbb_cells.length; ++i) {\n",
       "                if (nbb_cells[i].input_prompt_number == nbb_cell_id) {\n",
       "                    nbb_cells[i].set_text(nbb_formatted_code);\n",
       "                    break;\n",
       "                }\n",
       "            }\n",
       "        }, 500);\n",
       "        "
      ],
      "text/plain": [
       "<IPython.core.display.Javascript object>"
      ]
     },
     "metadata": {},
     "output_type": "display_data"
    }
   ],
   "source": [
    "get_obsids_for_region(\"ithaca\", 29)"
   ]
  },
  {
   "cell_type": "code",
   "execution_count": 17,
   "metadata": {},
   "outputs": [
    {
     "data": {
      "text/plain": [
       "array(['Macclesfield', 'unknown', 'Starburst', 'Manhattan_Classic',\n",
       "       'Wellington', 'Albany', 'Bilbao', 'Ithaca', 'Portsmouth', 'Pisaq',\n",
       "       'Manhattan_Frontinella', 'BuenosAires', 'Inca_City_Ridges',\n",
       "       'Inca_City', 'Giza', 'Potsdam', 'Troy', 'Oswego_Edge', 'Halifax',\n",
       "       'Caterpillar', 'Rochester', 'Manhattan_Cracks', 'Schenectady',\n",
       "       'Binghamton', 'Atka', 'Cortland', 'Geneseo', 'Manhattan2'],\n",
       "      dtype=object)"
      ]
     },
     "execution_count": 17,
     "metadata": {},
     "output_type": "execute_result"
    },
    {
     "data": {
      "application/javascript": [
       "\n",
       "        setTimeout(function() {\n",
       "            var nbb_cell_id = 17;\n",
       "            var nbb_formatted_code = \"get_region_names().roi_name.unique()\";\n",
       "            var nbb_cells = Jupyter.notebook.get_cells();\n",
       "            for (var i = 0; i < nbb_cells.length; ++i) {\n",
       "                if (nbb_cells[i].input_prompt_number == nbb_cell_id) {\n",
       "                    nbb_cells[i].set_text(nbb_formatted_code);\n",
       "                    break;\n",
       "                }\n",
       "            }\n",
       "        }, 500);\n",
       "        "
      ],
      "text/plain": [
       "<IPython.core.display.Javascript object>"
      ]
     },
     "metadata": {},
     "output_type": "display_data"
    }
   ],
   "source": [
    "get_region_names().roi_name.unique()"
   ]
  },
  {
   "cell_type": "code",
   "execution_count": 18,
   "metadata": {},
   "outputs": [
    {
     "name": "stdout",
     "output_type": "stream",
     "text": [
      "Martian year: 29\n",
      "Calculating obsid ESP_011931_0945\n",
      "Calculating obsid ESP_012063_0945\n",
      "Calculating obsid ESP_011350_0945\n",
      "Calculating obsid ESP_012076_0945\n",
      "Calculating obsid ESP_012643_0945\n",
      "Calculating obsid ESP_012854_0945\n",
      "Calculating obsid ESP_011351_0945\n",
      "Calculating obsid ESP_011404_0945\n",
      "Calculating obsid ESP_011403_0945\n",
      "Calculating obsid ESP_012858_0855\n",
      "Martian year: 30\n",
      "Calculating obsid ESP_020357_0950\n",
      "Calculating obsid ESP_020476_0950\n",
      "Calculating obsid ESP_021491_0950\n",
      "Calculating obsid ESP_020779_0950\n",
      "Calculating obsid ESP_020146_0950\n",
      "Calculating obsid ESP_020568_0950\n"
     ]
    },
    {
     "data": {
      "application/javascript": [
       "\n",
       "        setTimeout(function() {\n",
       "            var nbb_cell_id = 18;\n",
       "            var nbb_formatted_code = \"bucket = []\\nroi = \\\"ithaca\\\"\\nfor MY in [29, 30]:\\n    print(f\\\"Martian year: {MY}\\\")\\n    for obsid in get_obsids_for_region(roi, MY):\\n        print(f\\\"Calculating obsid {obsid}\\\")\\n        d = {}\\n        d[\\\"obsid\\\"] = obsid\\n        d[\\\"MY\\\"] = MY\\n        cc.obsid = obsid\\n        d[\\\"fraction\\\"] = cc.covered_fraction\\n        d[\\\"Ls\\\"] = cc.Ls\\n        bucket.append(d)\";\n",
       "            var nbb_cells = Jupyter.notebook.get_cells();\n",
       "            for (var i = 0; i < nbb_cells.length; ++i) {\n",
       "                if (nbb_cells[i].input_prompt_number == nbb_cell_id) {\n",
       "                    nbb_cells[i].set_text(nbb_formatted_code);\n",
       "                    break;\n",
       "                }\n",
       "            }\n",
       "        }, 500);\n",
       "        "
      ],
      "text/plain": [
       "<IPython.core.display.Javascript object>"
      ]
     },
     "metadata": {},
     "output_type": "display_data"
    }
   ],
   "source": [
    "bucket = []\n",
    "roi = \"ithaca\"\n",
    "for MY in [29, 30]:\n",
    "    print(f\"Martian year: {MY}\")\n",
    "    for obsid in get_obsids_for_region(roi, MY):\n",
    "        print(f\"Calculating obsid {obsid}\")\n",
    "        d = {}\n",
    "        d[\"obsid\"] = obsid\n",
    "        d[\"MY\"] = MY\n",
    "        cc.obsid = obsid\n",
    "        d[\"fraction\"] = cc.covered_fraction\n",
    "        d[\"Ls\"] = cc.Ls\n",
    "        bucket.append(d)"
   ]
  },
  {
   "cell_type": "code",
   "execution_count": 21,
   "metadata": {},
   "outputs": [
    {
     "data": {
      "application/javascript": [
       "\n",
       "        setTimeout(function() {\n",
       "            var nbb_cell_id = 21;\n",
       "            var nbb_formatted_code = \"results = pd.DataFrame(bucket)\";\n",
       "            var nbb_cells = Jupyter.notebook.get_cells();\n",
       "            for (var i = 0; i < nbb_cells.length; ++i) {\n",
       "                if (nbb_cells[i].input_prompt_number == nbb_cell_id) {\n",
       "                    nbb_cells[i].set_text(nbb_formatted_code);\n",
       "                    break;\n",
       "                }\n",
       "            }\n",
       "        }, 500);\n",
       "        "
      ],
      "text/plain": [
       "<IPython.core.display.Javascript object>"
      ]
     },
     "metadata": {},
     "output_type": "display_data"
    }
   ],
   "source": [
    "results = pd.DataFrame(bucket)"
   ]
  },
  {
   "cell_type": "code",
   "execution_count": 22,
   "metadata": {},
   "outputs": [
    {
     "data": {
      "application/javascript": [
       "\n",
       "        setTimeout(function() {\n",
       "            var nbb_cell_id = 22;\n",
       "            var nbb_formatted_code = \"results[\\\"region_name\\\"] = \\\"given_region\\\"\";\n",
       "            var nbb_cells = Jupyter.notebook.get_cells();\n",
       "            for (var i = 0; i < nbb_cells.length; ++i) {\n",
       "                if (nbb_cells[i].input_prompt_number == nbb_cell_id) {\n",
       "                    nbb_cells[i].set_text(nbb_formatted_code);\n",
       "                    break;\n",
       "                }\n",
       "            }\n",
       "        }, 500);\n",
       "        "
      ],
      "text/plain": [
       "<IPython.core.display.Javascript object>"
      ]
     },
     "metadata": {},
     "output_type": "display_data"
    }
   ],
   "source": [
    "results[\"region_name\"] = \"given_region\""
   ]
  },
  {
   "cell_type": "code",
   "execution_count": 33,
   "metadata": {},
   "outputs": [
    {
     "data": {
      "text/html": [
       "<div>\n",
       "<style scoped>\n",
       "    .dataframe tbody tr th:only-of-type {\n",
       "        vertical-align: middle;\n",
       "    }\n",
       "\n",
       "    .dataframe tbody tr th {\n",
       "        vertical-align: top;\n",
       "    }\n",
       "\n",
       "    .dataframe thead th {\n",
       "        text-align: right;\n",
       "    }\n",
       "</style>\n",
       "<table border=\"1\" class=\"dataframe\">\n",
       "  <thead>\n",
       "    <tr style=\"text-align: right;\">\n",
       "      <th></th>\n",
       "      <th>Ls</th>\n",
       "      <th>MY</th>\n",
       "      <th>fraction</th>\n",
       "      <th>obsid</th>\n",
       "      <th>region_name</th>\n",
       "    </tr>\n",
       "  </thead>\n",
       "  <tbody>\n",
       "    <tr>\n",
       "      <th>0</th>\n",
       "      <td>207.751</td>\n",
       "      <td>29</td>\n",
       "      <td>0.225</td>\n",
       "      <td>ESP_011931_0945</td>\n",
       "      <td>given_region</td>\n",
       "    </tr>\n",
       "    <tr>\n",
       "      <th>1</th>\n",
       "      <td>214.020</td>\n",
       "      <td>29</td>\n",
       "      <td>0.212</td>\n",
       "      <td>ESP_012063_0945</td>\n",
       "      <td>given_region</td>\n",
       "    </tr>\n",
       "    <tr>\n",
       "      <th>2</th>\n",
       "      <td>181.205</td>\n",
       "      <td>29</td>\n",
       "      <td>0.091</td>\n",
       "      <td>ESP_011350_0945</td>\n",
       "      <td>given_region</td>\n",
       "    </tr>\n",
       "    <tr>\n",
       "      <th>3</th>\n",
       "      <td>214.641</td>\n",
       "      <td>29</td>\n",
       "      <td>0.210</td>\n",
       "      <td>ESP_012076_0945</td>\n",
       "      <td>given_region</td>\n",
       "    </tr>\n",
       "    <tr>\n",
       "      <th>4</th>\n",
       "      <td>242.279</td>\n",
       "      <td>29</td>\n",
       "      <td>0.212</td>\n",
       "      <td>ESP_012643_0945</td>\n",
       "      <td>given_region</td>\n",
       "    </tr>\n",
       "    <tr>\n",
       "      <th>5</th>\n",
       "      <td>252.710</td>\n",
       "      <td>29</td>\n",
       "      <td>0.229</td>\n",
       "      <td>ESP_012854_0945</td>\n",
       "      <td>given_region</td>\n",
       "    </tr>\n",
       "    <tr>\n",
       "      <th>6</th>\n",
       "      <td>181.249</td>\n",
       "      <td>29</td>\n",
       "      <td>0.056</td>\n",
       "      <td>ESP_011351_0945</td>\n",
       "      <td>given_region</td>\n",
       "    </tr>\n",
       "    <tr>\n",
       "      <th>7</th>\n",
       "      <td>183.594</td>\n",
       "      <td>29</td>\n",
       "      <td>0.116</td>\n",
       "      <td>ESP_011404_0945</td>\n",
       "      <td>given_region</td>\n",
       "    </tr>\n",
       "    <tr>\n",
       "      <th>8</th>\n",
       "      <td>183.549</td>\n",
       "      <td>29</td>\n",
       "      <td>0.088</td>\n",
       "      <td>ESP_011403_0945</td>\n",
       "      <td>given_region</td>\n",
       "    </tr>\n",
       "    <tr>\n",
       "      <th>9</th>\n",
       "      <td>252.907</td>\n",
       "      <td>29</td>\n",
       "      <td>0.225</td>\n",
       "      <td>ESP_012858_0855</td>\n",
       "      <td>given_region</td>\n",
       "    </tr>\n",
       "    <tr>\n",
       "      <th>10</th>\n",
       "      <td>189.713</td>\n",
       "      <td>30</td>\n",
       "      <td>0.088</td>\n",
       "      <td>ESP_020357_0950</td>\n",
       "      <td>given_region</td>\n",
       "    </tr>\n",
       "    <tr>\n",
       "      <th>11</th>\n",
       "      <td>195.125</td>\n",
       "      <td>30</td>\n",
       "      <td>0.248</td>\n",
       "      <td>ESP_020476_0950</td>\n",
       "      <td>given_region</td>\n",
       "    </tr>\n",
       "    <tr>\n",
       "      <th>12</th>\n",
       "      <td>243.829</td>\n",
       "      <td>30</td>\n",
       "      <td>0.316</td>\n",
       "      <td>ESP_021491_0950</td>\n",
       "      <td>given_region</td>\n",
       "    </tr>\n",
       "    <tr>\n",
       "      <th>13</th>\n",
       "      <td>209.241</td>\n",
       "      <td>30</td>\n",
       "      <td>0.324</td>\n",
       "      <td>ESP_020779_0950</td>\n",
       "      <td>given_region</td>\n",
       "    </tr>\n",
       "    <tr>\n",
       "      <th>14</th>\n",
       "      <td>180.311</td>\n",
       "      <td>30</td>\n",
       "      <td>0.119</td>\n",
       "      <td>ESP_020146_0950</td>\n",
       "      <td>given_region</td>\n",
       "    </tr>\n",
       "    <tr>\n",
       "      <th>15</th>\n",
       "      <td>199.362</td>\n",
       "      <td>30</td>\n",
       "      <td>0.355</td>\n",
       "      <td>ESP_020568_0950</td>\n",
       "      <td>given_region</td>\n",
       "    </tr>\n",
       "  </tbody>\n",
       "</table>\n",
       "</div>"
      ],
      "text/plain": [
       "         Ls  MY  fraction            obsid   region_name\n",
       "0   207.751  29     0.225  ESP_011931_0945  given_region\n",
       "1   214.020  29     0.212  ESP_012063_0945  given_region\n",
       "2   181.205  29     0.091  ESP_011350_0945  given_region\n",
       "3   214.641  29     0.210  ESP_012076_0945  given_region\n",
       "4   242.279  29     0.212  ESP_012643_0945  given_region\n",
       "5   252.710  29     0.229  ESP_012854_0945  given_region\n",
       "6   181.249  29     0.056  ESP_011351_0945  given_region\n",
       "7   183.594  29     0.116  ESP_011404_0945  given_region\n",
       "8   183.549  29     0.088  ESP_011403_0945  given_region\n",
       "9   252.907  29     0.225  ESP_012858_0855  given_region\n",
       "10  189.713  30     0.088  ESP_020357_0950  given_region\n",
       "11  195.125  30     0.248  ESP_020476_0950  given_region\n",
       "12  243.829  30     0.316  ESP_021491_0950  given_region\n",
       "13  209.241  30     0.324  ESP_020779_0950  given_region\n",
       "14  180.311  30     0.119  ESP_020146_0950  given_region\n",
       "15  199.362  30     0.355  ESP_020568_0950  given_region"
      ]
     },
     "execution_count": 33,
     "metadata": {},
     "output_type": "execute_result"
    },
    {
     "data": {
      "application/javascript": [
       "\n",
       "        setTimeout(function() {\n",
       "            var nbb_cell_id = 33;\n",
       "            var nbb_formatted_code = \"results\";\n",
       "            var nbb_cells = Jupyter.notebook.get_cells();\n",
       "            for (var i = 0; i < nbb_cells.length; ++i) {\n",
       "                if (nbb_cells[i].input_prompt_number == nbb_cell_id) {\n",
       "                    nbb_cells[i].set_text(nbb_formatted_code);\n",
       "                    break;\n",
       "                }\n",
       "            }\n",
       "        }, 500);\n",
       "        "
      ],
      "text/plain": [
       "<IPython.core.display.Javascript object>"
      ]
     },
     "metadata": {},
     "output_type": "display_data"
    }
   ],
   "source": [
    "results"
   ]
  },
  {
   "cell_type": "code",
   "execution_count": 108,
   "metadata": {},
   "outputs": [],
   "source": [
    "import hvplot\n",
    "import hvplot.pandas\n",
    "from bokeh.resources import INLINE"
   ]
  },
  {
   "cell_type": "code",
   "execution_count": 109,
   "metadata": {},
   "outputs": [
    {
     "data": {
      "text/plain": [
       "[170, 180, 190, 200, 210, 220, 230, 240, 250, 260, 270, 280, 290, 300]"
      ]
     },
     "execution_count": 109,
     "metadata": {},
     "output_type": "execute_result"
    }
   ],
   "source": [
    "# fix the xticks for better plot comparison\n",
    "xticks = list(range(170, 301, 10))\n",
    "xticks"
   ]
  },
  {
   "cell_type": "code",
   "execution_count": 110,
   "metadata": {},
   "outputs": [],
   "source": [
    "savepath = Path(\n",
    "    \"/Users/klay6683/Dropbox/data/planet4/p4_analysis/coverage_plots\"\n",
    ")"
   ]
  },
  {
   "cell_type": "code",
   "execution_count": 111,
   "metadata": {},
   "outputs": [],
   "source": [
    "plot = results.hvplot(\n",
    "    x=\"Ls\",\n",
    "    y=\"fraction\",\n",
    "    by=\"MY\",\n",
    "    kind=\"scatter\",\n",
    "    title=roi,\n",
    "    xlim=(170, 300),\n",
    "    ylim=(-0.05, 0.5),\n",
    "    grid=True,\n",
    "    xticks=xticks,\n",
    "    width=800,\n",
    "    height=400,\n",
    ")\n",
    "# hvplot.show(plot)\n",
    "for ext in [\"png\", \"html\"]:\n",
    "    hvplot.save(plot, str(savepath / f\"{roi}_coverage.{ext}\"), resources=INLINE)"
   ]
  },
  {
   "cell_type": "code",
   "execution_count": null,
   "metadata": {},
   "outputs": [],
   "source": []
  },
  {
   "cell_type": "code",
   "execution_count": null,
   "metadata": {},
   "outputs": [],
   "source": []
  },
  {
   "cell_type": "code",
   "execution_count": null,
   "metadata": {},
   "outputs": [],
   "source": []
  },
  {
   "cell_type": "code",
   "execution_count": 25,
   "metadata": {},
   "outputs": [],
   "source": [
    "metadata = get_metadata()"
   ]
  },
  {
   "cell_type": "code",
   "execution_count": 26,
   "metadata": {},
   "outputs": [
    {
     "data": {
      "text/plain": [
       "Index(['OBSERVATION_ID', 'IMAGE_CENTER_LATITUDE', 'IMAGE_CENTER_LONGITUDE',\n",
       "       'SOLAR_LONGITUDE', 'START_TIME', 'map_scale', 'north_azimuth',\n",
       "       '# of tiles'],\n",
       "      dtype='object')"
      ]
     },
     "execution_count": 26,
     "metadata": {},
     "output_type": "execute_result"
    }
   ],
   "source": [
    "metadata.columns"
   ]
  },
  {
   "cell_type": "code",
   "execution_count": null,
   "metadata": {},
   "outputs": [],
   "source": []
  }
 ],
 "metadata": {
  "kernelspec": {
   "display_name": "Python 3",
   "language": "python",
   "name": "python3"
  },
  "language_info": {
   "codemirror_mode": {
    "name": "ipython",
    "version": 3
   },
   "file_extension": ".py",
   "mimetype": "text/x-python",
   "name": "python",
   "nbconvert_exporter": "python",
   "pygments_lexer": "ipython3",
   "version": "3.7.1"
  }
 },
 "nbformat": 4,
 "nbformat_minor": 2
}
