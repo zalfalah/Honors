{
 "cells": [
  {
   "cell_type": "code",
   "execution_count": 1,
   "metadata": {},
   "outputs": [],
   "source": [
    "import sys\n",
    "if sys.platform == \"darwin\":  # michael's config\n",
    "    # because Michael is using jupyter lab\n",
    "    %load_ext lab_black\n",
    "else:  # zade's config\n",
    "    # because Zade is using jupyter notebook\n",
    "    %load_ext nb_black"
   ]
  },
  {
   "cell_type": "markdown",
   "metadata": {},
   "source": [
    "## Tasks\n",
    "\n",
    "I have put several more utility functions into the coverage_utils module, have a look at all of them to understand what they do.\n",
    "\n",
    "Update: I added the CoverageCalculator, making things much easier...\n",
    "Update2: Initial investigations of results renders it necessary to create below new database for all three cases of fans, blotches and both areas considered in the union. I added a switch in the class that enables that kind of analysis. See below..\n",
    "Next tasks are:\n",
    "\n",
    "* [x] combine below code into a function with the name `calc_coverage(region_name)` that returns the pandas dataframe with the results (basically combining below cells into a function) but add a region_name column (same for all rows), in preparation for next task.\n",
    "* [x] run a loop over all available region names (see below for how to get that list).\n",
    "    * [ ] store each returned dataframe in a bucket list\n",
    "    - Did the above inefficiently, still works (no bucket list)\n",
    "    * [x] run each obsid three times, for `which` settings of 'both', 'fans' and 'blotches'\n",
    "    * [x] combine the bucket into a larger dataframe that has all results\n",
    "    * [x] save as CSV file using df.to_csv(...)\n",
    "* [ ] Develep a plot function with the cells below, that conveniently reads the data out the above stored large dataframe and creates the plot, using the options as below."
   ]
  },
  {
   "cell_type": "markdown",
   "metadata": {},
   "source": [
    "# CoverageCalculator class\n",
    "\n",
    "I wrote a class because it's much more efficient to keep the fans, blotches and metadata in memory and not read it in everytime. \n",
    "Keep that in mind for the future: When you need to read a data object often, it is more efficient to write a class that keeps that data in memory while you change a parameter (here: obsid) for different analyses.\n",
    "\n",
    "This class reads in the general data files once and you can then use it in a loop by setting the obsid value as shown below."
   ]
  },
  {
   "cell_type": "code",
   "execution_count": 48,
   "metadata": {},
   "outputs": [
    {
     "data": {
      "application/javascript": [
       "\n",
       "        setTimeout(function() {\n",
       "            var nbb_cell_id = 48;\n",
       "            var nbb_formatted_code = \"import pandas as pd\\nimport numpy as np\";\n",
       "            var nbb_cells = Jupyter.notebook.get_cells();\n",
       "            for (var i = 0; i < nbb_cells.length; ++i) {\n",
       "                if (nbb_cells[i].input_prompt_number == nbb_cell_id) {\n",
       "                    nbb_cells[i].set_text(nbb_formatted_code);\n",
       "                    break;\n",
       "                }\n",
       "            }\n",
       "        }, 500);\n",
       "        "
      ],
      "text/plain": [
       "<IPython.core.display.Javascript object>"
      ]
     },
     "metadata": {},
     "output_type": "display_data"
    }
   ],
   "source": [
    "import pandas as pd\n",
    "import numpy as np"
   ]
  },
  {
   "cell_type": "code",
   "execution_count": 3,
   "metadata": {},
   "outputs": [
    {
     "data": {
      "application/javascript": [
       "\n",
       "        setTimeout(function() {\n",
       "            var nbb_cell_id = 3;\n",
       "            var nbb_formatted_code = \"from coverage_utils import CoverageCalculator, get_obsids_for_region\\nfrom my_io import get_tilecoords, get_metadata, get_region_names\";\n",
       "            var nbb_cells = Jupyter.notebook.get_cells();\n",
       "            for (var i = 0; i < nbb_cells.length; ++i) {\n",
       "                if (nbb_cells[i].input_prompt_number == nbb_cell_id) {\n",
       "                    nbb_cells[i].set_text(nbb_formatted_code);\n",
       "                    break;\n",
       "                }\n",
       "            }\n",
       "        }, 500);\n",
       "        "
      ],
      "text/plain": [
       "<IPython.core.display.Javascript object>"
      ]
     },
     "metadata": {},
     "output_type": "display_data"
    }
   ],
   "source": [
    "from coverage_utils import CoverageCalculator, get_obsids_for_region\n",
    "from my_io import get_tilecoords, get_metadata, get_region_names"
   ]
  },
  {
   "cell_type": "code",
   "execution_count": 6,
   "metadata": {},
   "outputs": [
    {
     "data": {
      "application/javascript": [
       "\n",
       "        setTimeout(function() {\n",
       "            var nbb_cell_id = 6;\n",
       "            var nbb_formatted_code = \"obsid = \\\"ESP_011341_0980\\\"\";\n",
       "            var nbb_cells = Jupyter.notebook.get_cells();\n",
       "            for (var i = 0; i < nbb_cells.length; ++i) {\n",
       "                if (nbb_cells[i].input_prompt_number == nbb_cell_id) {\n",
       "                    nbb_cells[i].set_text(nbb_formatted_code);\n",
       "                    break;\n",
       "                }\n",
       "            }\n",
       "        }, 500);\n",
       "        "
      ],
      "text/plain": [
       "<IPython.core.display.Javascript object>"
      ]
     },
     "metadata": {},
     "output_type": "display_data"
    }
   ],
   "source": [
    "obsid = \"ESP_011341_0980\""
   ]
  },
  {
   "cell_type": "code",
   "execution_count": 7,
   "metadata": {},
   "outputs": [
    {
     "name": "stdout",
     "output_type": "stream",
     "text": [
      "Reading fans and blotches in...\n",
      "Done.\n",
      "Reading metadata...\n",
      "Done.\n",
      "Note that obsid must be set to a string value before this works.\n"
     ]
    },
    {
     "data": {
      "application/javascript": [
       "\n",
       "        setTimeout(function() {\n",
       "            var nbb_cell_id = 7;\n",
       "            var nbb_formatted_code = \"# the `which` setting is by default 'both'\\ncc = CoverageCalculator()\";\n",
       "            var nbb_cells = Jupyter.notebook.get_cells();\n",
       "            for (var i = 0; i < nbb_cells.length; ++i) {\n",
       "                if (nbb_cells[i].input_prompt_number == nbb_cell_id) {\n",
       "                    nbb_cells[i].set_text(nbb_formatted_code);\n",
       "                    break;\n",
       "                }\n",
       "            }\n",
       "        }, 500);\n",
       "        "
      ],
      "text/plain": [
       "<IPython.core.display.Javascript object>"
      ]
     },
     "metadata": {},
     "output_type": "display_data"
    }
   ],
   "source": [
    "# the `which` setting is by default 'both'\n",
    "cc = CoverageCalculator()"
   ]
  },
  {
   "cell_type": "code",
   "execution_count": 96,
   "metadata": {},
   "outputs": [
    {
     "data": {
      "application/javascript": [
       "\n",
       "        setTimeout(function() {\n",
       "            var nbb_cell_id = 96;\n",
       "            var nbb_formatted_code = \"all_regions = get_region_names().roi_name.unique()\";\n",
       "            var nbb_cells = Jupyter.notebook.get_cells();\n",
       "            for (var i = 0; i < nbb_cells.length; ++i) {\n",
       "                if (nbb_cells[i].input_prompt_number == nbb_cell_id) {\n",
       "                    nbb_cells[i].set_text(nbb_formatted_code);\n",
       "                    break;\n",
       "                }\n",
       "            }\n",
       "        }, 500);\n",
       "        "
      ],
      "text/plain": [
       "<IPython.core.display.Javascript object>"
      ]
     },
     "metadata": {},
     "output_type": "display_data"
    }
   ],
   "source": [
    "all_regions = get_region_names().roi_name.unique()"
   ]
  },
  {
   "cell_type": "code",
   "execution_count": 97,
   "metadata": {},
   "outputs": [
    {
     "data": {
      "text/plain": [
       "array(['Macclesfield', 'unknown', 'Starburst', 'Manhattan_Classic',\n",
       "       'Wellington', 'Albany', 'Bilbao', 'Ithaca', 'Portsmouth', 'Pisaq',\n",
       "       'Manhattan_Frontinella', 'BuenosAires', 'Inca_City_Ridges',\n",
       "       'Inca_City', 'Giza', 'Potsdam', 'Troy', 'Oswego_Edge', 'Halifax',\n",
       "       'Caterpillar', 'Rochester', 'Manhattan_Cracks', 'Schenectady',\n",
       "       'Binghamton', 'Atka', 'Cortland', 'Geneseo', 'Manhattan2'],\n",
       "      dtype=object)"
      ]
     },
     "execution_count": 97,
     "metadata": {},
     "output_type": "execute_result"
    },
    {
     "data": {
      "application/javascript": [
       "\n",
       "        setTimeout(function() {\n",
       "            var nbb_cell_id = 97;\n",
       "            var nbb_formatted_code = \"all_regions\";\n",
       "            var nbb_cells = Jupyter.notebook.get_cells();\n",
       "            for (var i = 0; i < nbb_cells.length; ++i) {\n",
       "                if (nbb_cells[i].input_prompt_number == nbb_cell_id) {\n",
       "                    nbb_cells[i].set_text(nbb_formatted_code);\n",
       "                    break;\n",
       "                }\n",
       "            }\n",
       "        }, 500);\n",
       "        "
      ],
      "text/plain": [
       "<IPython.core.display.Javascript object>"
      ]
     },
     "metadata": {},
     "output_type": "display_data"
    }
   ],
   "source": [
    "all_regions"
   ]
  },
  {
   "cell_type": "code",
   "execution_count": 76,
   "metadata": {},
   "outputs": [
    {
     "data": {
      "application/javascript": [
       "\n",
       "        setTimeout(function() {\n",
       "            var nbb_cell_id = 76;\n",
       "            var nbb_formatted_code = \"def calc_coverage(given_region, which=\\\"both\\\"):\\n    bucket = []\\n    roi = given_region\\n    cc.which = which\\n    for MY in [29, 30]:\\n        print(f\\\"Martian year: {MY}\\\")\\n        for obsid in get_obsids_for_region(roi, MY):\\n            print(f\\\"Calculating obsid {obsid}\\\")\\n            d = {}\\n            d[\\\"obsid\\\"] = obsid\\n            d[\\\"MY\\\"] = MY\\n            cc.obsid = obsid\\n            d[\\\"fraction\\\"] = cc.covered_fraction\\n            d[\\\"Ls\\\"] = cc.Ls\\n            bucket.append(d)\\n    results = pd.DataFrame(bucket)\\n    results[\\\"region_name\\\"] = given_region\\n    results[\\\"which\\\"] = which\\n    return results\";\n",
       "            var nbb_cells = Jupyter.notebook.get_cells();\n",
       "            for (var i = 0; i < nbb_cells.length; ++i) {\n",
       "                if (nbb_cells[i].input_prompt_number == nbb_cell_id) {\n",
       "                    nbb_cells[i].set_text(nbb_formatted_code);\n",
       "                    break;\n",
       "                }\n",
       "            }\n",
       "        }, 500);\n",
       "        "
      ],
      "text/plain": [
       "<IPython.core.display.Javascript object>"
      ]
     },
     "metadata": {},
     "output_type": "display_data"
    }
   ],
   "source": [
    "def calc_coverage(given_region, which=\"both\"):\n",
    "    bucket = []\n",
    "    roi = given_region\n",
    "    cc.which = which\n",
    "    for MY in [29, 30]:\n",
    "        print(f\"Martian year: {MY}\")\n",
    "        for obsid in get_obsids_for_region(roi, MY):\n",
    "            print(f\"Calculating obsid {obsid}\")\n",
    "            d = {}\n",
    "            d[\"obsid\"] = obsid\n",
    "            d[\"MY\"] = MY\n",
    "            cc.obsid = obsid\n",
    "            d[\"fraction\"] = cc.covered_fraction\n",
    "            d[\"Ls\"] = cc.Ls\n",
    "            bucket.append(d)\n",
    "    results = pd.DataFrame(bucket)\n",
    "    results[\"region_name\"] = given_region\n",
    "    results[\"which\"] = which\n",
    "    return results"
   ]
  },
  {
   "cell_type": "code",
   "execution_count": 77,
   "metadata": {},
   "outputs": [
    {
     "name": "stdout",
     "output_type": "stream",
     "text": [
      "Martian year: 29\n",
      "Calculating obsid ESP_012079_0945\n",
      "Calculating obsid ESP_011407_0945\n",
      "Calculating obsid ESP_011723_0945\n",
      "Calculating obsid ESP_011934_0945\n",
      "Calculating obsid ESP_012501_0945\n",
      "Calculating obsid ESP_012290_0945\n",
      "Calculating obsid ESP_011406_0945\n",
      "Martian year: 30\n",
      "Calculating obsid ESP_021494_0945\n",
      "Calculating obsid ESP_020782_0945\n",
      "Calculating obsid ESP_020716_0945\n",
      "Calculating obsid ESP_020571_0945\n",
      "Calculating obsid ESP_020294_0945\n",
      "Calculating obsid ESP_020927_0945\n",
      "Calculating obsid ESP_020242_0945\n",
      "Martian year: 29\n",
      "Calculating obsid ESP_012620_0975\n",
      "Calculating obsid ESP_012277_0975\n",
      "Calculating obsid ESP_012348_0975\n",
      "Martian year: 30\n",
      "Martian year: 29\n",
      "Calculating obsid ESP_011697_0980\n",
      "Calculating obsid ESP_011341_0980\n",
      "Calculating obsid ESP_011842_0980\n",
      "Calculating obsid ESP_011486_0980\n",
      "Calculating obsid ESP_012607_0980\n",
      "Calculating obsid ESP_012053_0980\n",
      "Calculating obsid ESP_012264_0980\n",
      "Martian year: 30\n",
      "Calculating obsid ESP_020677_0980\n",
      "Calculating obsid ESP_020756_0980\n",
      "Calculating obsid ESP_021969_0980\n",
      "Martian year: 29\n",
      "Calculating obsid ESP_012884_0935\n",
      "Calculating obsid ESP_012251_0935\n",
      "Calculating obsid ESP_012739_0935\n",
      "Calculating obsid ESP_011961_0935\n",
      "Calculating obsid ESP_011671_0935\n",
      "Calculating obsid ESP_013016_0935\n",
      "Calculating obsid ESP_011394_0935\n",
      "Calculating obsid ESP_013095_0935\n",
      "Martian year: 30\n",
      "Calculating obsid ESP_021455_0935\n",
      "Calculating obsid ESP_020519_0935\n",
      "Calculating obsid ESP_021495_0935\n",
      "Calculating obsid ESP_020954_0935\n",
      "Calculating obsid ESP_020598_0935\n",
      "Calculating obsid ESP_020214_0935\n",
      "Calculating obsid ESP_022260_0935\n",
      "Calculating obsid ESP_020321_0935\n",
      "Calculating obsid ESP_020202_0935\n",
      "Martian year: 29\n",
      "Calculating obsid ESP_012008_0975\n",
      "Calculating obsid ESP_011296_0975\n",
      "Martian year: 30\n",
      "Martian year: 29\n",
      "Calculating obsid ESP_012436_0980\n",
      "Calculating obsid ESP_012291_0980\n",
      "Calculating obsid ESP_012647_0980\n",
      "Calculating obsid ESP_012304_0980\n",
      "Calculating obsid ESP_012225_0980\n",
      "Martian year: 30\n",
      "Martian year: 29\n",
      "Calculating obsid ESP_011565_0930\n",
      "Calculating obsid ESP_012211_0930\n",
      "Calculating obsid ESP_011776_0930\n",
      "Calculating obsid ESP_012633_0930\n",
      "Calculating obsid ESP_012844_0930\n",
      "Calculating obsid ESP_012488_0930\n",
      "Calculating obsid ESP_011420_0930\n",
      "Martian year: 30\n",
      "Calculating obsid ESP_020347_0930\n",
      "Calculating obsid ESP_021903_0930\n",
      "Calculating obsid ESP_020558_0930\n",
      "Martian year: 29\n",
      "Calculating obsid ESP_011931_0945\n",
      "Calculating obsid ESP_012063_0945\n",
      "Calculating obsid ESP_011350_0945\n",
      "Calculating obsid ESP_012076_0945\n",
      "Calculating obsid ESP_012643_0945\n",
      "Calculating obsid ESP_012854_0945\n",
      "Calculating obsid ESP_011351_0945\n",
      "Calculating obsid ESP_011404_0945\n",
      "Calculating obsid ESP_011403_0945\n",
      "Calculating obsid ESP_012858_0855\n",
      "Martian year: 30\n",
      "Calculating obsid ESP_020357_0950\n",
      "Calculating obsid ESP_020476_0950\n",
      "Calculating obsid ESP_021491_0950\n",
      "Calculating obsid ESP_020779_0950\n",
      "Calculating obsid ESP_020146_0950\n",
      "Calculating obsid ESP_020568_0950\n",
      "Martian year: 29\n",
      "Calculating obsid ESP_011960_0925\n",
      "Calculating obsid ESP_012817_0925\n",
      "Calculating obsid ESP_012316_0925\n",
      "Calculating obsid ESP_012527_0925\n",
      "Calculating obsid ESP_012461_0925\n",
      "Martian year: 30\n",
      "Calculating obsid ESP_020742_0925\n",
      "Calculating obsid ESP_021454_0925\n",
      "Calculating obsid ESP_021520_0925\n",
      "Calculating obsid ESP_020597_0925\n",
      "Calculating obsid ESP_020953_0925\n",
      "Calculating obsid ESP_020386_0925\n",
      "Martian year: 29\n",
      "Calculating obsid ESP_012077_0930\n",
      "Calculating obsid ESP_012499_0930\n",
      "Calculating obsid ESP_011431_0930\n",
      "Martian year: 30\n",
      "Calculating obsid ESP_020780_0930\n",
      "Martian year: 29\n",
      "Calculating obsid ESP_011711_0930\n",
      "Calculating obsid ESP_012990_0930\n",
      "Calculating obsid ESP_012634_0930\n",
      "Calculating obsid ESP_011856_0930\n",
      "Calculating obsid ESP_012779_0930\n",
      "Martian year: 30\n",
      "Calculating obsid ESP_020176_0930\n",
      "Calculating obsid ESP_020427_0930\n",
      "Calculating obsid ESP_020282_0930\n",
      "Martian year: 29\n",
      "Calculating obsid ESP_012227_0980\n",
      "Calculating obsid ESP_012860_0980\n",
      "Calculating obsid ESP_012939_0980\n",
      "Calculating obsid ESP_011370_0980\n",
      "Calculating obsid ESP_012504_0980\n",
      "Calculating obsid ESP_011792_0980\n",
      "Calculating obsid ESP_011515_0980\n",
      "Martian year: 30\n",
      "Calculating obsid ESP_021642_0980\n",
      "Calculating obsid ESP_020376_0980\n",
      "Calculating obsid ESP_020297_0980\n",
      "Calculating obsid ESP_020719_0980\n",
      "Calculating obsid ESP_020508_0980\n",
      "Calculating obsid ESP_021497_0980\n",
      "Calculating obsid ESP_020930_0980\n",
      "Martian year: 29\n",
      "Calculating obsid ESP_011900_0985\n",
      "Calculating obsid ESP_012691_0985\n",
      "Calculating obsid ESP_012322_0985\n",
      "Calculating obsid ESP_011702_0985\n",
      "Calculating obsid ESP_011623_0985\n",
      "Calculating obsid ESP_012889_0985\n",
      "Calculating obsid ESP_011557_0985\n",
      "Martian year: 30\n",
      "Calculating obsid ESP_020339_0985\n",
      "Calculating obsid ESP_021526_0985\n",
      "Calculating obsid ESP_021605_0985\n",
      "Calculating obsid ESP_021671_0985\n",
      "Calculating obsid ESP_021684_0985\n",
      "Calculating obsid ESP_021829_0985\n",
      "Calculating obsid ESP_020827_0985\n",
      "Calculating obsid ESP_020115_0985\n",
      "Martian year: 29\n",
      "Calculating obsid ESP_012256_0985\n",
      "Calculating obsid ESP_012744_0985\n",
      "Calculating obsid ESP_011491_0985\n",
      "Calculating obsid ESP_012467_0985\n",
      "Calculating obsid ESP_013113_0985\n",
      "Calculating obsid ESP_011729_0985\n",
      "Calculating obsid ESP_013034_0985\n",
      "Calculating obsid ESP_011544_0985\n",
      "Martian year: 30\n",
      "Calculating obsid ESP_020748_0985\n",
      "Calculating obsid ESP_021460_0985\n",
      "Calculating obsid ESP_020959_0985\n",
      "Calculating obsid ESP_020128_0985\n",
      "Calculating obsid ESP_020049_0985\n",
      "Calculating obsid ESP_020194_0985\n",
      "Calculating obsid ESP_022699_0985\n",
      "Martian year: 29\n",
      "Calculating obsid ESP_012344_0950\n",
      "Calculating obsid ESP_011447_0950\n",
      "Calculating obsid ESP_012704_0850\n",
      "Calculating obsid ESP_011843_0950\n",
      "Calculating obsid ESP_012845_0950\n",
      "Calculating obsid ESP_012212_0950\n",
      "Calculating obsid ESP_012265_0950\n",
      "Calculating obsid ESP_011448_0950\n",
      "Calculating obsid ESP_012836_0850\n",
      "Calculating obsid ESP_011777_0950\n",
      "Calculating obsid ESP_012753_0950\n",
      "Martian year: 30\n",
      "Calculating obsid ESP_020783_0950\n",
      "Calculating obsid ESP_022273_0950\n",
      "Calculating obsid ESP_020401_0950\n",
      "Calculating obsid ESP_020150_0950\n",
      "Calculating obsid ESP_020902_0950\n",
      "Calculating obsid ESP_021482_0950\n",
      "Calculating obsid ESP_020480_0950\n",
      "Martian year: 29\n",
      "Calculating obsid ESP_011737_0980\n",
      "Calculating obsid ESP_012515_0980\n",
      "Calculating obsid ESP_011526_0980\n",
      "Calculating obsid ESP_012594_0980\n",
      "Calculating obsid ESP_012805_0980\n",
      "Calculating obsid ESP_011460_0980\n",
      "Calculating obsid ESP_012871_0980\n",
      "Martian year: 30\n",
      "Calculating obsid ESP_021587_0980\n",
      "Calculating obsid ESP_020374_0980\n",
      "Calculating obsid ESP_021521_0980\n",
      "Calculating obsid ESP_021508_0980\n",
      "Calculating obsid ESP_020875_0980\n",
      "Calculating obsid ESP_021574_0980\n",
      "Calculating obsid ESP_022510_0980\n",
      "Calculating obsid ESP_020163_0980\n",
      "Calculating obsid ESP_020941_0980\n",
      "Martian year: 29\n",
      "Calculating obsid ESP_012693_0950\n",
      "Calculating obsid ESP_012838_0950\n",
      "Calculating obsid ESP_013049_0950\n",
      "Calculating obsid ESP_011348_0950\n",
      "Calculating obsid ESP_013260_0950\n",
      "Martian year: 30\n",
      "Martian year: 29\n",
      "Calculating obsid ESP_012463_0930\n",
      "Calculating obsid ESP_013030_0930\n",
      "Calculating obsid ESP_011606_0930\n",
      "Calculating obsid ESP_012819_0930\n",
      "Calculating obsid ESP_012028_0930\n",
      "Calculating obsid ESP_011408_0930\n",
      "Martian year: 30\n",
      "Calculating obsid ESP_020322_0930\n",
      "Calculating obsid ESP_021522_0930\n",
      "Calculating obsid ESP_020678_0930\n",
      "Calculating obsid ESP_020955_0930\n",
      "Calculating obsid ESP_021654_0930\n",
      "Calculating obsid ESP_022379_0930\n",
      "Calculating obsid ESP_020731_0930\n",
      "Calculating obsid ESP_020533_0930\n",
      "Calculating obsid ESP_021483_0930\n",
      "Calculating obsid ESP_020229_0930\n",
      "Martian year: 29\n",
      "Calculating obsid ESP_012648_0930\n",
      "Calculating obsid ESP_012081_0930\n",
      "Calculating obsid ESP_011422_0930\n",
      "Martian year: 30\n",
      "Martian year: 29\n",
      "Calculating obsid ESP_011680_1055\n",
      "Martian year: 30\n",
      "Martian year: 29\n",
      "Calculating obsid ESP_012393_0965\n",
      "Calculating obsid ESP_012604_0965\n",
      "Calculating obsid ESP_012248_0965\n",
      "Calculating obsid ESP_012314_0965\n",
      "Martian year: 30\n",
      "Martian year: 29\n",
      "Calculating obsid ESP_012821_0865\n",
      "Martian year: 30\n",
      "Calculating obsid ESP_020532_0935\n",
      "Calculating obsid ESP_021468_0935\n",
      "Calculating obsid ESP_020255_0935\n",
      "Calculating obsid ESP_022339_0935\n",
      "Calculating obsid ESP_020888_0935\n",
      "Martian year: 29\n",
      "Calculating obsid ESP_011921_0950\n",
      "Martian year: 30\n",
      "Martian year: 29\n",
      "Calculating obsid ESP_012254_1065\n",
      "Calculating obsid ESP_012887_1065\n",
      "Martian year: 30\n",
      "Martian year: 29\n",
      "Calculating obsid ESP_012038_0930\n"
     ]
    },
    {
     "name": "stdout",
     "output_type": "stream",
     "text": [
      "Calculating obsid ESP_012671_0930\n",
      "Calculating obsid ESP_012816_0930\n",
      "Martian year: 30\n",
      "Martian year: 29\n",
      "Calculating obsid ESP_011413_0970\n",
      "Martian year: 30\n",
      "Martian year: 29\n",
      "Martian year: 30\n",
      "Calculating obsid ESP_022193_0950\n",
      "Martian year: 29\n",
      "Martian year: 30\n"
     ]
    },
    {
     "data": {
      "application/javascript": [
       "\n",
       "        setTimeout(function() {\n",
       "            var nbb_cell_id = 77;\n",
       "            var nbb_formatted_code = \"# Gives proper result but as a list! must have as a dataframe\\ncalc_region = [calc_coverage(region) for region in all_regions]\";\n",
       "            var nbb_cells = Jupyter.notebook.get_cells();\n",
       "            for (var i = 0; i < nbb_cells.length; ++i) {\n",
       "                if (nbb_cells[i].input_prompt_number == nbb_cell_id) {\n",
       "                    nbb_cells[i].set_text(nbb_formatted_code);\n",
       "                    break;\n",
       "                }\n",
       "            }\n",
       "        }, 500);\n",
       "        "
      ],
      "text/plain": [
       "<IPython.core.display.Javascript object>"
      ]
     },
     "metadata": {},
     "output_type": "display_data"
    }
   ],
   "source": [
    "#gives calc_coverage results for all regions, which = 'both'\n",
    "calc_region = [calc_coverage(region) for region in all_regions]"
   ]
  },
  {
   "cell_type": "code",
   "execution_count": 79,
   "metadata": {},
   "outputs": [
    {
     "name": "stdout",
     "output_type": "stream",
     "text": [
      "Martian year: 29\n",
      "Calculating obsid ESP_012079_0945\n",
      "Calculating obsid ESP_011407_0945\n",
      "Calculating obsid ESP_011723_0945\n",
      "Calculating obsid ESP_011934_0945\n",
      "Calculating obsid ESP_012501_0945\n",
      "Calculating obsid ESP_012290_0945\n",
      "Calculating obsid ESP_011406_0945\n",
      "Martian year: 30\n",
      "Calculating obsid ESP_021494_0945\n",
      "Calculating obsid ESP_020782_0945\n",
      "Calculating obsid ESP_020716_0945\n",
      "Calculating obsid ESP_020571_0945\n",
      "Calculating obsid ESP_020294_0945\n",
      "Calculating obsid ESP_020927_0945\n",
      "Calculating obsid ESP_020242_0945\n",
      "Martian year: 29\n",
      "Calculating obsid ESP_012620_0975\n",
      "Calculating obsid ESP_012277_0975\n",
      "Calculating obsid ESP_012348_0975\n",
      "Martian year: 30\n",
      "Martian year: 29\n",
      "Calculating obsid ESP_011697_0980\n",
      "Calculating obsid ESP_011341_0980\n",
      "Calculating obsid ESP_011842_0980\n",
      "Calculating obsid ESP_011486_0980\n",
      "Calculating obsid ESP_012607_0980\n",
      "Calculating obsid ESP_012053_0980\n",
      "Calculating obsid ESP_012264_0980\n",
      "Martian year: 30\n",
      "Calculating obsid ESP_020677_0980\n",
      "Calculating obsid ESP_020756_0980\n",
      "Calculating obsid ESP_021969_0980\n",
      "Martian year: 29\n",
      "Calculating obsid ESP_012884_0935\n",
      "Calculating obsid ESP_012251_0935\n",
      "Calculating obsid ESP_012739_0935\n",
      "Calculating obsid ESP_011961_0935\n",
      "Calculating obsid ESP_011671_0935\n",
      "Calculating obsid ESP_013016_0935\n",
      "Calculating obsid ESP_011394_0935\n",
      "Calculating obsid ESP_013095_0935\n",
      "Martian year: 30\n",
      "Calculating obsid ESP_021455_0935\n",
      "Calculating obsid ESP_020519_0935\n",
      "Calculating obsid ESP_021495_0935\n",
      "Calculating obsid ESP_020954_0935\n",
      "Calculating obsid ESP_020598_0935\n",
      "Calculating obsid ESP_020214_0935\n",
      "Calculating obsid ESP_022260_0935\n",
      "Calculating obsid ESP_020321_0935\n",
      "Calculating obsid ESP_020202_0935\n",
      "Martian year: 29\n",
      "Calculating obsid ESP_012008_0975\n",
      "Calculating obsid ESP_011296_0975\n",
      "Martian year: 30\n",
      "Martian year: 29\n",
      "Calculating obsid ESP_012436_0980\n",
      "Calculating obsid ESP_012291_0980\n",
      "Calculating obsid ESP_012647_0980\n",
      "Calculating obsid ESP_012304_0980\n",
      "Calculating obsid ESP_012225_0980\n",
      "Martian year: 30\n",
      "Martian year: 29\n",
      "Calculating obsid ESP_011565_0930\n",
      "Calculating obsid ESP_012211_0930\n",
      "Calculating obsid ESP_011776_0930\n",
      "Calculating obsid ESP_012633_0930\n",
      "Calculating obsid ESP_012844_0930\n",
      "Calculating obsid ESP_012488_0930\n",
      "Calculating obsid ESP_011420_0930\n",
      "Martian year: 30\n",
      "Calculating obsid ESP_020347_0930\n",
      "Calculating obsid ESP_021903_0930\n",
      "Calculating obsid ESP_020558_0930\n",
      "Martian year: 29\n",
      "Calculating obsid ESP_011931_0945\n",
      "Calculating obsid ESP_012063_0945\n",
      "Calculating obsid ESP_011350_0945\n",
      "Calculating obsid ESP_012076_0945\n",
      "Calculating obsid ESP_012643_0945\n",
      "Calculating obsid ESP_012854_0945\n",
      "Calculating obsid ESP_011351_0945\n",
      "Calculating obsid ESP_011404_0945\n",
      "Calculating obsid ESP_011403_0945\n",
      "Calculating obsid ESP_012858_0855\n",
      "Martian year: 30\n",
      "Calculating obsid ESP_020357_0950\n",
      "Calculating obsid ESP_020476_0950\n",
      "Calculating obsid ESP_021491_0950\n",
      "Calculating obsid ESP_020779_0950\n",
      "Calculating obsid ESP_020146_0950\n",
      "Calculating obsid ESP_020568_0950\n",
      "Martian year: 29\n",
      "Calculating obsid ESP_011960_0925\n",
      "Calculating obsid ESP_012817_0925\n",
      "Calculating obsid ESP_012316_0925\n",
      "Calculating obsid ESP_012527_0925\n",
      "Calculating obsid ESP_012461_0925\n",
      "Martian year: 30\n",
      "Calculating obsid ESP_020742_0925\n",
      "Calculating obsid ESP_021454_0925\n",
      "Calculating obsid ESP_021520_0925\n",
      "Calculating obsid ESP_020597_0925\n",
      "Calculating obsid ESP_020953_0925\n",
      "Calculating obsid ESP_020386_0925\n",
      "Martian year: 29\n",
      "Calculating obsid ESP_012077_0930\n",
      "Calculating obsid ESP_012499_0930\n",
      "Calculating obsid ESP_011431_0930\n",
      "Martian year: 30\n",
      "Calculating obsid ESP_020780_0930\n",
      "Martian year: 29\n",
      "Calculating obsid ESP_011711_0930\n",
      "Calculating obsid ESP_012990_0930\n",
      "Calculating obsid ESP_012634_0930\n",
      "Calculating obsid ESP_011856_0930\n",
      "Calculating obsid ESP_012779_0930\n",
      "Martian year: 30\n",
      "Calculating obsid ESP_020176_0930\n",
      "Calculating obsid ESP_020427_0930\n",
      "Calculating obsid ESP_020282_0930\n",
      "Martian year: 29\n",
      "Calculating obsid ESP_012227_0980\n",
      "Calculating obsid ESP_012860_0980\n",
      "Calculating obsid ESP_012939_0980\n",
      "Calculating obsid ESP_011370_0980\n",
      "Calculating obsid ESP_012504_0980\n",
      "Calculating obsid ESP_011792_0980\n",
      "Calculating obsid ESP_011515_0980\n",
      "Martian year: 30\n",
      "Calculating obsid ESP_021642_0980\n",
      "Calculating obsid ESP_020376_0980\n",
      "Calculating obsid ESP_020297_0980\n",
      "Calculating obsid ESP_020719_0980\n",
      "Calculating obsid ESP_020508_0980\n",
      "Calculating obsid ESP_021497_0980\n",
      "Calculating obsid ESP_020930_0980\n",
      "Martian year: 29\n",
      "Calculating obsid ESP_011900_0985\n",
      "Calculating obsid ESP_012691_0985\n",
      "Calculating obsid ESP_012322_0985\n",
      "Calculating obsid ESP_011702_0985\n",
      "Calculating obsid ESP_011623_0985\n",
      "Calculating obsid ESP_012889_0985\n",
      "Calculating obsid ESP_011557_0985\n",
      "Martian year: 30\n",
      "Calculating obsid ESP_020339_0985\n",
      "Calculating obsid ESP_021526_0985\n",
      "Calculating obsid ESP_021605_0985\n",
      "Calculating obsid ESP_021671_0985\n",
      "Calculating obsid ESP_021684_0985\n",
      "Calculating obsid ESP_021829_0985\n",
      "Calculating obsid ESP_020827_0985\n",
      "Calculating obsid ESP_020115_0985\n",
      "Martian year: 29\n",
      "Calculating obsid ESP_012256_0985\n",
      "Calculating obsid ESP_012744_0985\n",
      "Calculating obsid ESP_011491_0985\n",
      "Calculating obsid ESP_012467_0985\n",
      "Calculating obsid ESP_013113_0985\n",
      "Calculating obsid ESP_011729_0985\n",
      "Calculating obsid ESP_013034_0985\n",
      "Calculating obsid ESP_011544_0985\n",
      "Martian year: 30\n",
      "Calculating obsid ESP_020748_0985\n",
      "Calculating obsid ESP_021460_0985\n",
      "Calculating obsid ESP_020959_0985\n",
      "Calculating obsid ESP_020128_0985\n",
      "Calculating obsid ESP_020049_0985\n",
      "Calculating obsid ESP_020194_0985\n",
      "Calculating obsid ESP_022699_0985\n",
      "Martian year: 29\n",
      "Calculating obsid ESP_012344_0950\n",
      "Calculating obsid ESP_011447_0950\n",
      "Calculating obsid ESP_012704_0850\n",
      "Calculating obsid ESP_011843_0950\n",
      "Calculating obsid ESP_012845_0950\n",
      "Calculating obsid ESP_012212_0950\n",
      "Calculating obsid ESP_012265_0950\n",
      "Calculating obsid ESP_011448_0950\n",
      "Calculating obsid ESP_012836_0850\n",
      "Calculating obsid ESP_011777_0950\n",
      "Calculating obsid ESP_012753_0950\n",
      "Martian year: 30\n",
      "Calculating obsid ESP_020783_0950\n",
      "Calculating obsid ESP_022273_0950\n",
      "Calculating obsid ESP_020401_0950\n",
      "Calculating obsid ESP_020150_0950\n",
      "Calculating obsid ESP_020902_0950\n",
      "Calculating obsid ESP_021482_0950\n",
      "Calculating obsid ESP_020480_0950\n",
      "Martian year: 29\n",
      "Calculating obsid ESP_011737_0980\n",
      "Calculating obsid ESP_012515_0980\n",
      "Calculating obsid ESP_011526_0980\n",
      "Calculating obsid ESP_012594_0980\n",
      "Calculating obsid ESP_012805_0980\n",
      "Calculating obsid ESP_011460_0980\n",
      "Calculating obsid ESP_012871_0980\n",
      "Martian year: 30\n",
      "Calculating obsid ESP_021587_0980\n",
      "Calculating obsid ESP_020374_0980\n",
      "Calculating obsid ESP_021521_0980\n",
      "Calculating obsid ESP_021508_0980\n",
      "Calculating obsid ESP_020875_0980\n",
      "Calculating obsid ESP_021574_0980\n",
      "Calculating obsid ESP_022510_0980\n",
      "Calculating obsid ESP_020163_0980\n",
      "Calculating obsid ESP_020941_0980\n",
      "Martian year: 29\n",
      "Calculating obsid ESP_012693_0950\n",
      "Calculating obsid ESP_012838_0950\n",
      "Calculating obsid ESP_013049_0950\n",
      "Calculating obsid ESP_011348_0950\n",
      "Calculating obsid ESP_013260_0950\n",
      "Martian year: 30\n",
      "Martian year: 29\n",
      "Calculating obsid ESP_012463_0930\n",
      "Calculating obsid ESP_013030_0930\n",
      "Calculating obsid ESP_011606_0930\n",
      "Calculating obsid ESP_012819_0930\n",
      "Calculating obsid ESP_012028_0930\n",
      "Calculating obsid ESP_011408_0930\n",
      "Martian year: 30\n",
      "Calculating obsid ESP_020322_0930\n",
      "Calculating obsid ESP_021522_0930\n",
      "Calculating obsid ESP_020678_0930\n",
      "Calculating obsid ESP_020955_0930\n",
      "Calculating obsid ESP_021654_0930\n",
      "Calculating obsid ESP_022379_0930\n",
      "Calculating obsid ESP_020731_0930\n",
      "Calculating obsid ESP_020533_0930\n",
      "Calculating obsid ESP_021483_0930\n",
      "Calculating obsid ESP_020229_0930\n",
      "Martian year: 29\n",
      "Calculating obsid ESP_012648_0930\n",
      "Calculating obsid ESP_012081_0930\n",
      "Calculating obsid ESP_011422_0930\n",
      "Martian year: 30\n",
      "Martian year: 29\n",
      "Calculating obsid ESP_011680_1055\n",
      "Martian year: 30\n",
      "Martian year: 29\n",
      "Calculating obsid ESP_012393_0965\n",
      "Calculating obsid ESP_012604_0965\n",
      "Calculating obsid ESP_012248_0965\n",
      "Calculating obsid ESP_012314_0965\n",
      "Martian year: 30\n",
      "Martian year: 29\n",
      "Calculating obsid ESP_012821_0865\n",
      "Martian year: 30\n",
      "Calculating obsid ESP_020532_0935\n",
      "Calculating obsid ESP_021468_0935\n",
      "Calculating obsid ESP_020255_0935\n",
      "Calculating obsid ESP_022339_0935\n",
      "Calculating obsid ESP_020888_0935\n",
      "Martian year: 29\n",
      "Calculating obsid ESP_011921_0950\n",
      "Martian year: 30\n",
      "Martian year: 29\n",
      "Calculating obsid ESP_012254_1065\n",
      "Calculating obsid ESP_012887_1065\n",
      "Martian year: 30\n",
      "Martian year: 29\n",
      "Calculating obsid ESP_012038_0930\n"
     ]
    },
    {
     "name": "stdout",
     "output_type": "stream",
     "text": [
      "Calculating obsid ESP_012671_0930\n",
      "Calculating obsid ESP_012816_0930\n",
      "Martian year: 30\n",
      "Martian year: 29\n",
      "Calculating obsid ESP_011413_0970\n",
      "Martian year: 30\n",
      "Martian year: 29\n",
      "Martian year: 30\n",
      "Calculating obsid ESP_022193_0950\n",
      "Martian year: 29\n",
      "Martian year: 30\n"
     ]
    },
    {
     "data": {
      "application/javascript": [
       "\n",
       "        setTimeout(function() {\n",
       "            var nbb_cell_id = 79;\n",
       "            var nbb_formatted_code = \"# Gives proper result but as a list! must have as a dataframe\\ncalc_region_fans = [\\n    calc_coverage(region, which=\\\"fans\\\") for region in all_regions\\n]\";\n",
       "            var nbb_cells = Jupyter.notebook.get_cells();\n",
       "            for (var i = 0; i < nbb_cells.length; ++i) {\n",
       "                if (nbb_cells[i].input_prompt_number == nbb_cell_id) {\n",
       "                    nbb_cells[i].set_text(nbb_formatted_code);\n",
       "                    break;\n",
       "                }\n",
       "            }\n",
       "        }, 500);\n",
       "        "
      ],
      "text/plain": [
       "<IPython.core.display.Javascript object>"
      ]
     },
     "metadata": {},
     "output_type": "display_data"
    }
   ],
   "source": [
    "#gives calc_coverage results for all regions, which = 'fans'\n",
    "calc_region_fans = [\n",
    "    calc_coverage(region, which=\"fans\") for region in all_regions\n",
    "]"
   ]
  },
  {
   "cell_type": "code",
   "execution_count": 80,
   "metadata": {},
   "outputs": [
    {
     "name": "stdout",
     "output_type": "stream",
     "text": [
      "Martian year: 29\n",
      "Calculating obsid ESP_012079_0945\n",
      "Calculating obsid ESP_011407_0945\n",
      "Calculating obsid ESP_011723_0945\n",
      "Calculating obsid ESP_011934_0945\n",
      "Calculating obsid ESP_012501_0945\n",
      "Calculating obsid ESP_012290_0945\n",
      "Calculating obsid ESP_011406_0945\n",
      "Martian year: 30\n",
      "Calculating obsid ESP_021494_0945\n",
      "Calculating obsid ESP_020782_0945\n",
      "Calculating obsid ESP_020716_0945\n",
      "Calculating obsid ESP_020571_0945\n",
      "Calculating obsid ESP_020294_0945\n",
      "Calculating obsid ESP_020927_0945\n",
      "Calculating obsid ESP_020242_0945\n",
      "Martian year: 29\n",
      "Calculating obsid ESP_012620_0975\n",
      "Calculating obsid ESP_012277_0975\n",
      "Calculating obsid ESP_012348_0975\n",
      "Martian year: 30\n",
      "Martian year: 29\n",
      "Calculating obsid ESP_011697_0980\n",
      "Calculating obsid ESP_011341_0980\n",
      "Calculating obsid ESP_011842_0980\n",
      "Calculating obsid ESP_011486_0980\n",
      "Calculating obsid ESP_012607_0980\n",
      "Calculating obsid ESP_012053_0980\n",
      "Calculating obsid ESP_012264_0980\n",
      "Martian year: 30\n",
      "Calculating obsid ESP_020677_0980\n",
      "Calculating obsid ESP_020756_0980\n",
      "Calculating obsid ESP_021969_0980\n",
      "Martian year: 29\n",
      "Calculating obsid ESP_012884_0935\n",
      "Calculating obsid ESP_012251_0935\n",
      "Calculating obsid ESP_012739_0935\n",
      "Calculating obsid ESP_011961_0935\n",
      "Calculating obsid ESP_011671_0935\n",
      "Calculating obsid ESP_013016_0935\n",
      "Calculating obsid ESP_011394_0935\n",
      "Calculating obsid ESP_013095_0935\n",
      "Martian year: 30\n",
      "Calculating obsid ESP_021455_0935\n",
      "Calculating obsid ESP_020519_0935\n",
      "Calculating obsid ESP_021495_0935\n",
      "Calculating obsid ESP_020954_0935\n",
      "Calculating obsid ESP_020598_0935\n",
      "Calculating obsid ESP_020214_0935\n",
      "Calculating obsid ESP_022260_0935\n",
      "Calculating obsid ESP_020321_0935\n",
      "Calculating obsid ESP_020202_0935\n",
      "Martian year: 29\n",
      "Calculating obsid ESP_012008_0975\n",
      "Calculating obsid ESP_011296_0975\n",
      "Martian year: 30\n",
      "Martian year: 29\n",
      "Calculating obsid ESP_012436_0980\n",
      "Calculating obsid ESP_012291_0980\n",
      "Calculating obsid ESP_012647_0980\n",
      "Calculating obsid ESP_012304_0980\n",
      "Calculating obsid ESP_012225_0980\n",
      "Martian year: 30\n",
      "Martian year: 29\n",
      "Calculating obsid ESP_011565_0930\n",
      "Calculating obsid ESP_012211_0930\n",
      "Calculating obsid ESP_011776_0930\n",
      "Calculating obsid ESP_012633_0930\n",
      "Calculating obsid ESP_012844_0930\n",
      "Calculating obsid ESP_012488_0930\n",
      "Calculating obsid ESP_011420_0930\n",
      "Martian year: 30\n",
      "Calculating obsid ESP_020347_0930\n",
      "Calculating obsid ESP_021903_0930\n",
      "Calculating obsid ESP_020558_0930\n",
      "Martian year: 29\n",
      "Calculating obsid ESP_011931_0945\n",
      "Calculating obsid ESP_012063_0945\n",
      "Calculating obsid ESP_011350_0945\n",
      "Calculating obsid ESP_012076_0945\n",
      "Calculating obsid ESP_012643_0945\n",
      "Calculating obsid ESP_012854_0945\n",
      "Calculating obsid ESP_011351_0945\n",
      "Calculating obsid ESP_011404_0945\n",
      "Calculating obsid ESP_011403_0945\n",
      "Calculating obsid ESP_012858_0855\n",
      "Martian year: 30\n",
      "Calculating obsid ESP_020357_0950\n",
      "Calculating obsid ESP_020476_0950\n",
      "Calculating obsid ESP_021491_0950\n",
      "Calculating obsid ESP_020779_0950\n",
      "Calculating obsid ESP_020146_0950\n",
      "Calculating obsid ESP_020568_0950\n",
      "Martian year: 29\n",
      "Calculating obsid ESP_011960_0925\n",
      "Calculating obsid ESP_012817_0925\n",
      "Calculating obsid ESP_012316_0925\n",
      "Calculating obsid ESP_012527_0925\n",
      "Calculating obsid ESP_012461_0925\n",
      "Martian year: 30\n",
      "Calculating obsid ESP_020742_0925\n",
      "Calculating obsid ESP_021454_0925\n",
      "Calculating obsid ESP_021520_0925\n",
      "Calculating obsid ESP_020597_0925\n",
      "Calculating obsid ESP_020953_0925\n",
      "Calculating obsid ESP_020386_0925\n",
      "Martian year: 29\n",
      "Calculating obsid ESP_012077_0930\n",
      "Calculating obsid ESP_012499_0930\n",
      "Calculating obsid ESP_011431_0930\n",
      "Martian year: 30\n",
      "Calculating obsid ESP_020780_0930\n",
      "Martian year: 29\n",
      "Calculating obsid ESP_011711_0930\n",
      "Calculating obsid ESP_012990_0930\n",
      "Calculating obsid ESP_012634_0930\n",
      "Calculating obsid ESP_011856_0930\n",
      "Calculating obsid ESP_012779_0930\n",
      "Martian year: 30\n",
      "Calculating obsid ESP_020176_0930\n",
      "Calculating obsid ESP_020427_0930\n",
      "Calculating obsid ESP_020282_0930\n",
      "Martian year: 29\n",
      "Calculating obsid ESP_012227_0980\n",
      "Calculating obsid ESP_012860_0980\n",
      "Calculating obsid ESP_012939_0980\n",
      "Calculating obsid ESP_011370_0980\n",
      "Calculating obsid ESP_012504_0980\n",
      "Calculating obsid ESP_011792_0980\n",
      "Calculating obsid ESP_011515_0980\n",
      "Martian year: 30\n",
      "Calculating obsid ESP_021642_0980\n",
      "Calculating obsid ESP_020376_0980\n",
      "Calculating obsid ESP_020297_0980\n",
      "Calculating obsid ESP_020719_0980\n",
      "Calculating obsid ESP_020508_0980\n",
      "Calculating obsid ESP_021497_0980\n",
      "Calculating obsid ESP_020930_0980\n",
      "Martian year: 29\n",
      "Calculating obsid ESP_011900_0985\n",
      "Calculating obsid ESP_012691_0985\n",
      "Calculating obsid ESP_012322_0985\n",
      "Calculating obsid ESP_011702_0985\n",
      "Calculating obsid ESP_011623_0985\n",
      "Calculating obsid ESP_012889_0985\n",
      "Calculating obsid ESP_011557_0985\n",
      "Martian year: 30\n",
      "Calculating obsid ESP_020339_0985\n",
      "Calculating obsid ESP_021526_0985\n",
      "Calculating obsid ESP_021605_0985\n",
      "Calculating obsid ESP_021671_0985\n",
      "Calculating obsid ESP_021684_0985\n",
      "Calculating obsid ESP_021829_0985\n",
      "Calculating obsid ESP_020827_0985\n",
      "Calculating obsid ESP_020115_0985\n",
      "Martian year: 29\n",
      "Calculating obsid ESP_012256_0985\n",
      "Calculating obsid ESP_012744_0985\n",
      "Calculating obsid ESP_011491_0985\n",
      "Calculating obsid ESP_012467_0985\n",
      "Calculating obsid ESP_013113_0985\n",
      "Calculating obsid ESP_011729_0985\n",
      "Calculating obsid ESP_013034_0985\n",
      "Calculating obsid ESP_011544_0985\n",
      "Martian year: 30\n",
      "Calculating obsid ESP_020748_0985\n",
      "Calculating obsid ESP_021460_0985\n",
      "Calculating obsid ESP_020959_0985\n",
      "Calculating obsid ESP_020128_0985\n",
      "Calculating obsid ESP_020049_0985\n",
      "Calculating obsid ESP_020194_0985\n",
      "Calculating obsid ESP_022699_0985\n",
      "Martian year: 29\n",
      "Calculating obsid ESP_012344_0950\n",
      "Calculating obsid ESP_011447_0950\n",
      "Calculating obsid ESP_012704_0850\n",
      "Calculating obsid ESP_011843_0950\n",
      "Calculating obsid ESP_012845_0950\n",
      "Calculating obsid ESP_012212_0950\n",
      "Calculating obsid ESP_012265_0950\n",
      "Calculating obsid ESP_011448_0950\n",
      "Calculating obsid ESP_012836_0850\n",
      "Calculating obsid ESP_011777_0950\n",
      "Calculating obsid ESP_012753_0950\n",
      "Martian year: 30\n",
      "Calculating obsid ESP_020783_0950\n",
      "Calculating obsid ESP_022273_0950\n",
      "Calculating obsid ESP_020401_0950\n",
      "Calculating obsid ESP_020150_0950\n",
      "Calculating obsid ESP_020902_0950\n",
      "Calculating obsid ESP_021482_0950\n",
      "Calculating obsid ESP_020480_0950\n",
      "Martian year: 29\n",
      "Calculating obsid ESP_011737_0980\n",
      "Calculating obsid ESP_012515_0980\n",
      "Calculating obsid ESP_011526_0980\n",
      "Calculating obsid ESP_012594_0980\n",
      "Calculating obsid ESP_012805_0980\n",
      "Calculating obsid ESP_011460_0980\n",
      "Calculating obsid ESP_012871_0980\n",
      "Martian year: 30\n",
      "Calculating obsid ESP_021587_0980\n",
      "Calculating obsid ESP_020374_0980\n",
      "Calculating obsid ESP_021521_0980\n",
      "Calculating obsid ESP_021508_0980\n",
      "Calculating obsid ESP_020875_0980\n",
      "Calculating obsid ESP_021574_0980\n",
      "Calculating obsid ESP_022510_0980\n",
      "Calculating obsid ESP_020163_0980\n",
      "Calculating obsid ESP_020941_0980\n",
      "Martian year: 29\n",
      "Calculating obsid ESP_012693_0950\n",
      "Calculating obsid ESP_012838_0950\n",
      "Calculating obsid ESP_013049_0950\n",
      "Calculating obsid ESP_011348_0950\n",
      "Calculating obsid ESP_013260_0950\n",
      "Martian year: 30\n",
      "Martian year: 29\n",
      "Calculating obsid ESP_012463_0930\n",
      "Calculating obsid ESP_013030_0930\n",
      "Calculating obsid ESP_011606_0930\n",
      "Calculating obsid ESP_012819_0930\n",
      "Calculating obsid ESP_012028_0930\n",
      "Calculating obsid ESP_011408_0930\n",
      "Martian year: 30\n",
      "Calculating obsid ESP_020322_0930\n",
      "Calculating obsid ESP_021522_0930\n",
      "Calculating obsid ESP_020678_0930\n",
      "Calculating obsid ESP_020955_0930\n",
      "Calculating obsid ESP_021654_0930\n",
      "Calculating obsid ESP_022379_0930\n",
      "Calculating obsid ESP_020731_0930\n",
      "Calculating obsid ESP_020533_0930\n",
      "Calculating obsid ESP_021483_0930\n",
      "Calculating obsid ESP_020229_0930\n",
      "Martian year: 29\n",
      "Calculating obsid ESP_012648_0930\n",
      "Calculating obsid ESP_012081_0930\n",
      "Calculating obsid ESP_011422_0930\n",
      "Martian year: 30\n",
      "Martian year: 29\n",
      "Calculating obsid ESP_011680_1055\n",
      "Martian year: 30\n",
      "Martian year: 29\n",
      "Calculating obsid ESP_012393_0965\n",
      "Calculating obsid ESP_012604_0965\n",
      "Calculating obsid ESP_012248_0965\n",
      "Calculating obsid ESP_012314_0965\n",
      "Martian year: 30\n",
      "Martian year: 29\n",
      "Calculating obsid ESP_012821_0865\n",
      "Martian year: 30\n",
      "Calculating obsid ESP_020532_0935\n",
      "Calculating obsid ESP_021468_0935\n",
      "Calculating obsid ESP_020255_0935\n",
      "Calculating obsid ESP_022339_0935\n",
      "Calculating obsid ESP_020888_0935\n",
      "Martian year: 29\n",
      "Calculating obsid ESP_011921_0950\n",
      "Martian year: 30\n",
      "Martian year: 29\n",
      "Calculating obsid ESP_012254_1065\n",
      "Calculating obsid ESP_012887_1065\n",
      "Martian year: 30\n",
      "Martian year: 29\n",
      "Calculating obsid ESP_012038_0930\n"
     ]
    },
    {
     "name": "stdout",
     "output_type": "stream",
     "text": [
      "Calculating obsid ESP_012671_0930\n",
      "Calculating obsid ESP_012816_0930\n",
      "Martian year: 30\n",
      "Martian year: 29\n",
      "Calculating obsid ESP_011413_0970\n",
      "Martian year: 30\n",
      "Martian year: 29\n",
      "Martian year: 30\n",
      "Calculating obsid ESP_022193_0950\n",
      "Martian year: 29\n",
      "Martian year: 30\n"
     ]
    },
    {
     "data": {
      "application/javascript": [
       "\n",
       "        setTimeout(function() {\n",
       "            var nbb_cell_id = 80;\n",
       "            var nbb_formatted_code = \"# Gives proper result but as a list! must have as a dataframe\\ncalc_region_blotches = [\\n    calc_coverage(region, which=\\\"blotches\\\") for region in all_regions\\n]\";\n",
       "            var nbb_cells = Jupyter.notebook.get_cells();\n",
       "            for (var i = 0; i < nbb_cells.length; ++i) {\n",
       "                if (nbb_cells[i].input_prompt_number == nbb_cell_id) {\n",
       "                    nbb_cells[i].set_text(nbb_formatted_code);\n",
       "                    break;\n",
       "                }\n",
       "            }\n",
       "        }, 500);\n",
       "        "
      ],
      "text/plain": [
       "<IPython.core.display.Javascript object>"
      ]
     },
     "metadata": {},
     "output_type": "display_data"
    }
   ],
   "source": [
    "#gives calc_coverage results for all regions, which = 'blotches'\n",
    "calc_region_blotches = [\n",
    "    calc_coverage(region, which=\"blotches\") for region in all_regions\n",
    "]"
   ]
  },
  {
   "cell_type": "code",
   "execution_count": 82,
   "metadata": {},
   "outputs": [
    {
     "data": {
      "text/html": [
       "<div>\n",
       "<style scoped>\n",
       "    .dataframe tbody tr th:only-of-type {\n",
       "        vertical-align: middle;\n",
       "    }\n",
       "\n",
       "    .dataframe tbody tr th {\n",
       "        vertical-align: top;\n",
       "    }\n",
       "\n",
       "    .dataframe thead th {\n",
       "        text-align: right;\n",
       "    }\n",
       "</style>\n",
       "<table border=\"1\" class=\"dataframe\">\n",
       "  <thead>\n",
       "    <tr style=\"text-align: right;\">\n",
       "      <th></th>\n",
       "      <th>Ls</th>\n",
       "      <th>MY</th>\n",
       "      <th>fraction</th>\n",
       "      <th>obsid</th>\n",
       "      <th>region_name</th>\n",
       "      <th>which</th>\n",
       "    </tr>\n",
       "  </thead>\n",
       "  <tbody>\n",
       "    <tr>\n",
       "      <th>0</th>\n",
       "      <td>214.785</td>\n",
       "      <td>29</td>\n",
       "      <td>0.115</td>\n",
       "      <td>ESP_012079_0945</td>\n",
       "      <td>Macclesfield</td>\n",
       "      <td>both</td>\n",
       "    </tr>\n",
       "    <tr>\n",
       "      <th>1</th>\n",
       "      <td>183.727</td>\n",
       "      <td>29</td>\n",
       "      <td>0.070</td>\n",
       "      <td>ESP_011407_0945</td>\n",
       "      <td>Macclesfield</td>\n",
       "      <td>both</td>\n",
       "    </tr>\n",
       "    <tr>\n",
       "      <th>2</th>\n",
       "      <td>198.040</td>\n",
       "      <td>29</td>\n",
       "      <td>0.072</td>\n",
       "      <td>ESP_011723_0945</td>\n",
       "      <td>Macclesfield</td>\n",
       "      <td>both</td>\n",
       "    </tr>\n",
       "    <tr>\n",
       "      <th>3</th>\n",
       "      <td>207.892</td>\n",
       "      <td>29</td>\n",
       "      <td>0.168</td>\n",
       "      <td>ESP_011934_0945</td>\n",
       "      <td>Macclesfield</td>\n",
       "      <td>both</td>\n",
       "    </tr>\n",
       "    <tr>\n",
       "      <th>4</th>\n",
       "      <td>235.282</td>\n",
       "      <td>29</td>\n",
       "      <td>0.111</td>\n",
       "      <td>ESP_012501_0945</td>\n",
       "      <td>Macclesfield</td>\n",
       "      <td>both</td>\n",
       "    </tr>\n",
       "  </tbody>\n",
       "</table>\n",
       "</div>"
      ],
      "text/plain": [
       "        Ls  MY  fraction            obsid   region_name which\n",
       "0  214.785  29     0.115  ESP_012079_0945  Macclesfield  both\n",
       "1  183.727  29     0.070  ESP_011407_0945  Macclesfield  both\n",
       "2  198.040  29     0.072  ESP_011723_0945  Macclesfield  both\n",
       "3  207.892  29     0.168  ESP_011934_0945  Macclesfield  both\n",
       "4  235.282  29     0.111  ESP_012501_0945  Macclesfield  both"
      ]
     },
     "execution_count": 82,
     "metadata": {},
     "output_type": "execute_result"
    },
    {
     "data": {
      "application/javascript": [
       "\n",
       "        setTimeout(function() {\n",
       "            var nbb_cell_id = 82;\n",
       "            var nbb_formatted_code = \"calc_region[0].head()\";\n",
       "            var nbb_cells = Jupyter.notebook.get_cells();\n",
       "            for (var i = 0; i < nbb_cells.length; ++i) {\n",
       "                if (nbb_cells[i].input_prompt_number == nbb_cell_id) {\n",
       "                    nbb_cells[i].set_text(nbb_formatted_code);\n",
       "                    break;\n",
       "                }\n",
       "            }\n",
       "        }, 500);\n",
       "        "
      ],
      "text/plain": [
       "<IPython.core.display.Javascript object>"
      ]
     },
     "metadata": {},
     "output_type": "display_data"
    }
   ],
   "source": [
    "calc_region[0].head()"
   ]
  },
  {
   "cell_type": "code",
   "execution_count": 83,
   "metadata": {},
   "outputs": [
    {
     "data": {
      "text/html": [
       "<div>\n",
       "<style scoped>\n",
       "    .dataframe tbody tr th:only-of-type {\n",
       "        vertical-align: middle;\n",
       "    }\n",
       "\n",
       "    .dataframe tbody tr th {\n",
       "        vertical-align: top;\n",
       "    }\n",
       "\n",
       "    .dataframe thead th {\n",
       "        text-align: right;\n",
       "    }\n",
       "</style>\n",
       "<table border=\"1\" class=\"dataframe\">\n",
       "  <thead>\n",
       "    <tr style=\"text-align: right;\">\n",
       "      <th></th>\n",
       "      <th>Ls</th>\n",
       "      <th>MY</th>\n",
       "      <th>fraction</th>\n",
       "      <th>obsid</th>\n",
       "      <th>region_name</th>\n",
       "      <th>which</th>\n",
       "    </tr>\n",
       "  </thead>\n",
       "  <tbody>\n",
       "    <tr>\n",
       "      <th>0</th>\n",
       "      <td>214.785</td>\n",
       "      <td>29</td>\n",
       "      <td>0.088</td>\n",
       "      <td>ESP_012079_0945</td>\n",
       "      <td>Macclesfield</td>\n",
       "      <td>fans</td>\n",
       "    </tr>\n",
       "    <tr>\n",
       "      <th>1</th>\n",
       "      <td>183.727</td>\n",
       "      <td>29</td>\n",
       "      <td>0.046</td>\n",
       "      <td>ESP_011407_0945</td>\n",
       "      <td>Macclesfield</td>\n",
       "      <td>fans</td>\n",
       "    </tr>\n",
       "    <tr>\n",
       "      <th>2</th>\n",
       "      <td>198.040</td>\n",
       "      <td>29</td>\n",
       "      <td>0.047</td>\n",
       "      <td>ESP_011723_0945</td>\n",
       "      <td>Macclesfield</td>\n",
       "      <td>fans</td>\n",
       "    </tr>\n",
       "    <tr>\n",
       "      <th>3</th>\n",
       "      <td>207.892</td>\n",
       "      <td>29</td>\n",
       "      <td>0.126</td>\n",
       "      <td>ESP_011934_0945</td>\n",
       "      <td>Macclesfield</td>\n",
       "      <td>fans</td>\n",
       "    </tr>\n",
       "    <tr>\n",
       "      <th>4</th>\n",
       "      <td>235.282</td>\n",
       "      <td>29</td>\n",
       "      <td>0.097</td>\n",
       "      <td>ESP_012501_0945</td>\n",
       "      <td>Macclesfield</td>\n",
       "      <td>fans</td>\n",
       "    </tr>\n",
       "  </tbody>\n",
       "</table>\n",
       "</div>"
      ],
      "text/plain": [
       "        Ls  MY  fraction            obsid   region_name which\n",
       "0  214.785  29     0.088  ESP_012079_0945  Macclesfield  fans\n",
       "1  183.727  29     0.046  ESP_011407_0945  Macclesfield  fans\n",
       "2  198.040  29     0.047  ESP_011723_0945  Macclesfield  fans\n",
       "3  207.892  29     0.126  ESP_011934_0945  Macclesfield  fans\n",
       "4  235.282  29     0.097  ESP_012501_0945  Macclesfield  fans"
      ]
     },
     "execution_count": 83,
     "metadata": {},
     "output_type": "execute_result"
    },
    {
     "data": {
      "application/javascript": [
       "\n",
       "        setTimeout(function() {\n",
       "            var nbb_cell_id = 83;\n",
       "            var nbb_formatted_code = \"calc_region_fans[0].head()\";\n",
       "            var nbb_cells = Jupyter.notebook.get_cells();\n",
       "            for (var i = 0; i < nbb_cells.length; ++i) {\n",
       "                if (nbb_cells[i].input_prompt_number == nbb_cell_id) {\n",
       "                    nbb_cells[i].set_text(nbb_formatted_code);\n",
       "                    break;\n",
       "                }\n",
       "            }\n",
       "        }, 500);\n",
       "        "
      ],
      "text/plain": [
       "<IPython.core.display.Javascript object>"
      ]
     },
     "metadata": {},
     "output_type": "display_data"
    }
   ],
   "source": [
    "calc_region_fans[0].head()"
   ]
  },
  {
   "cell_type": "code",
   "execution_count": 84,
   "metadata": {},
   "outputs": [
    {
     "data": {
      "text/html": [
       "<div>\n",
       "<style scoped>\n",
       "    .dataframe tbody tr th:only-of-type {\n",
       "        vertical-align: middle;\n",
       "    }\n",
       "\n",
       "    .dataframe tbody tr th {\n",
       "        vertical-align: top;\n",
       "    }\n",
       "\n",
       "    .dataframe thead th {\n",
       "        text-align: right;\n",
       "    }\n",
       "</style>\n",
       "<table border=\"1\" class=\"dataframe\">\n",
       "  <thead>\n",
       "    <tr style=\"text-align: right;\">\n",
       "      <th></th>\n",
       "      <th>Ls</th>\n",
       "      <th>MY</th>\n",
       "      <th>fraction</th>\n",
       "      <th>obsid</th>\n",
       "      <th>region_name</th>\n",
       "      <th>which</th>\n",
       "    </tr>\n",
       "  </thead>\n",
       "  <tbody>\n",
       "    <tr>\n",
       "      <th>0</th>\n",
       "      <td>214.785</td>\n",
       "      <td>29</td>\n",
       "      <td>0.037</td>\n",
       "      <td>ESP_012079_0945</td>\n",
       "      <td>Macclesfield</td>\n",
       "      <td>blotches</td>\n",
       "    </tr>\n",
       "    <tr>\n",
       "      <th>1</th>\n",
       "      <td>183.727</td>\n",
       "      <td>29</td>\n",
       "      <td>0.029</td>\n",
       "      <td>ESP_011407_0945</td>\n",
       "      <td>Macclesfield</td>\n",
       "      <td>blotches</td>\n",
       "    </tr>\n",
       "    <tr>\n",
       "      <th>2</th>\n",
       "      <td>198.040</td>\n",
       "      <td>29</td>\n",
       "      <td>0.032</td>\n",
       "      <td>ESP_011723_0945</td>\n",
       "      <td>Macclesfield</td>\n",
       "      <td>blotches</td>\n",
       "    </tr>\n",
       "    <tr>\n",
       "      <th>3</th>\n",
       "      <td>207.892</td>\n",
       "      <td>29</td>\n",
       "      <td>0.057</td>\n",
       "      <td>ESP_011934_0945</td>\n",
       "      <td>Macclesfield</td>\n",
       "      <td>blotches</td>\n",
       "    </tr>\n",
       "    <tr>\n",
       "      <th>4</th>\n",
       "      <td>235.282</td>\n",
       "      <td>29</td>\n",
       "      <td>0.021</td>\n",
       "      <td>ESP_012501_0945</td>\n",
       "      <td>Macclesfield</td>\n",
       "      <td>blotches</td>\n",
       "    </tr>\n",
       "  </tbody>\n",
       "</table>\n",
       "</div>"
      ],
      "text/plain": [
       "        Ls  MY  fraction            obsid   region_name     which\n",
       "0  214.785  29     0.037  ESP_012079_0945  Macclesfield  blotches\n",
       "1  183.727  29     0.029  ESP_011407_0945  Macclesfield  blotches\n",
       "2  198.040  29     0.032  ESP_011723_0945  Macclesfield  blotches\n",
       "3  207.892  29     0.057  ESP_011934_0945  Macclesfield  blotches\n",
       "4  235.282  29     0.021  ESP_012501_0945  Macclesfield  blotches"
      ]
     },
     "execution_count": 84,
     "metadata": {},
     "output_type": "execute_result"
    },
    {
     "data": {
      "application/javascript": [
       "\n",
       "        setTimeout(function() {\n",
       "            var nbb_cell_id = 84;\n",
       "            var nbb_formatted_code = \"calc_region_blotches[0].head()\";\n",
       "            var nbb_cells = Jupyter.notebook.get_cells();\n",
       "            for (var i = 0; i < nbb_cells.length; ++i) {\n",
       "                if (nbb_cells[i].input_prompt_number == nbb_cell_id) {\n",
       "                    nbb_cells[i].set_text(nbb_formatted_code);\n",
       "                    break;\n",
       "                }\n",
       "            }\n",
       "        }, 500);\n",
       "        "
      ],
      "text/plain": [
       "<IPython.core.display.Javascript object>"
      ]
     },
     "metadata": {},
     "output_type": "display_data"
    }
   ],
   "source": [
    "calc_region_blotches[0].head()"
   ]
  },
  {
   "cell_type": "code",
   "execution_count": 57,
   "metadata": {},
   "outputs": [
    {
     "data": {
      "text/plain": [
       "[         Ls  MY  fraction            obsid   region_name\n",
       " 0   214.785  29     0.115  ESP_012079_0945  Macclesfield\n",
       " 1   183.727  29     0.070  ESP_011407_0945  Macclesfield\n",
       " 2   198.040  29     0.072  ESP_011723_0945  Macclesfield\n",
       " 3   207.892  29     0.168  ESP_011934_0945  Macclesfield\n",
       " 4   235.282  29     0.111  ESP_012501_0945  Macclesfield\n",
       " 5   224.964  29     0.087  ESP_012290_0945  Macclesfield\n",
       " 6   183.683  29     0.074  ESP_011406_0945  Macclesfield\n",
       " 7   243.978  30     0.049  ESP_021494_0945  Macclesfield\n",
       " 8   209.383  30     0.075  ESP_020782_0945  Macclesfield\n",
       " 9   206.269  30     0.062  ESP_020716_0945  Macclesfield\n",
       " 10  199.501  30     0.065  ESP_020571_0945  Macclesfield\n",
       " 11  186.879  30     0.080  ESP_020294_0945  Macclesfield\n",
       " 12  216.293  30     0.079  ESP_020927_0945  Macclesfield\n",
       " 13  184.557  30     0.054  ESP_020242_0945  Macclesfield,\n",
       "         Ls  MY  fraction            obsid region_name\n",
       " 0  241.144  29     0.068  ESP_012620_0975     unknown\n",
       " 1  224.333  29     0.020  ESP_012277_0975     unknown\n",
       " 2  227.789  29     0.009  ESP_012348_0975     unknown,\n",
       "         Ls  MY  fraction            obsid region_name\n",
       " 0  196.842  29     0.041  ESP_011697_0980   Starburst\n",
       " 1  180.809  29     0.102  ESP_011341_0980   Starburst\n",
       " 2  203.570  29     0.163  ESP_011842_0980   Starburst\n",
       " 3  187.254  29     0.077  ESP_011486_0980   Starburst\n",
       " 4  240.503  29     0.024  ESP_012607_0980   Starburst\n",
       " 5  213.543  29     0.006  ESP_012053_0980   Starburst\n",
       " 6  223.702  29     0.002  ESP_012264_0980   Starburst\n",
       " 7  204.439  30     0.089  ESP_020677_0980   Starburst\n",
       " 8  208.155  30     0.024  ESP_020756_0980   Starburst\n",
       " 9  267.433  30     0.005  ESP_021969_0980   Starburst,\n",
       "          Ls  MY  fraction            obsid        region_name\n",
       " 0   254.194  29     0.098  ESP_012884_0935  Manhattan_Classic\n",
       " 1   223.070  29     0.021  ESP_012251_0935  Manhattan_Classic\n",
       " 2   247.022  29     0.061  ESP_012739_0935  Manhattan_Classic\n",
       " 3   209.169  29     0.089  ESP_011961_0935  Manhattan_Classic\n",
       " 4   195.647  29     0.064  ESP_011671_0935  Manhattan_Classic\n",
       " 5   260.715  29     0.057  ESP_013016_0935  Manhattan_Classic\n",
       " 6   183.150  29     0.052  ESP_011394_0935  Manhattan_Classic\n",
       " 7   264.609  29     0.017  ESP_013095_0935  Manhattan_Classic\n",
       " 8   242.052  30     0.069  ESP_021455_0935  Manhattan_Classic\n",
       " 9   197.100  30     0.104  ESP_020519_0935  Manhattan_Classic\n",
       " 10  244.027  30     0.075  ESP_021495_0935  Manhattan_Classic\n",
       " 11  217.590  30     0.053  ESP_020954_0935  Manhattan_Classic\n",
       " 12  200.753  30     0.125  ESP_020598_0935  Manhattan_Classic\n",
       " 13  183.313  30     0.041  ESP_020214_0935  Manhattan_Classic\n",
       " 14  281.619  30     0.002  ESP_022260_0935  Manhattan_Classic\n",
       " 15  188.091  30     0.163  ESP_020321_0935  Manhattan_Classic\n",
       " 16  182.781  30     0.065  ESP_020202_0935  Manhattan_Classic,\n",
       "         Ls  MY  fraction            obsid region_name\n",
       " 0  211.399  29     0.100  ESP_012008_0975  Wellington\n",
       " 1  178.833  29     0.072  ESP_011296_0975  Wellington,\n",
       "         Ls  MY  fraction            obsid region_name\n",
       " 0  232.092  29     0.070  ESP_012436_0980      Albany\n",
       " 1  225.013  29     0.091  ESP_012291_0980      Albany\n",
       " 2  242.477  29     0.060  ESP_012647_0980      Albany\n",
       " 3  225.645  29     0.083  ESP_012304_0980      Albany\n",
       " 4  221.812  29     0.095  ESP_012225_0980      Albany,\n",
       "         Ls  MY  fraction            obsid region_name\n",
       " 0  190.814  29     0.129  ESP_011565_0930      Bilbao\n",
       " 1  221.134  29     0.015  ESP_012211_0930      Bilbao\n",
       " 2  200.494  29     0.034  ESP_011776_0930      Bilbao\n",
       " 3  241.785  29     0.051  ESP_012633_0930      Bilbao\n",
       " 4  252.215  29     0.178  ESP_012844_0930      Bilbao\n",
       " 5  234.643  29     0.063  ESP_012488_0930      Bilbao\n",
       " 6  184.304  29     0.127  ESP_011420_0930      Bilbao\n",
       " 7  189.261  30     0.130  ESP_020347_0930      Bilbao\n",
       " 8  264.186  30     0.004  ESP_021903_0930      Bilbao\n",
       " 9  198.899  30     0.006  ESP_020558_0930      Bilbao,\n",
       "          Ls  MY  fraction            obsid region_name\n",
       " 0   207.751  29     0.225  ESP_011931_0945      Ithaca\n",
       " 1   214.020  29     0.212  ESP_012063_0945      Ithaca\n",
       " 2   181.205  29     0.091  ESP_011350_0945      Ithaca\n",
       " 3   214.641  29     0.210  ESP_012076_0945      Ithaca\n",
       " 4   242.279  29     0.212  ESP_012643_0945      Ithaca\n",
       " 5   252.710  29     0.229  ESP_012854_0945      Ithaca\n",
       " 6   181.249  29     0.056  ESP_011351_0945      Ithaca\n",
       " 7   183.594  29     0.116  ESP_011404_0945      Ithaca\n",
       " 8   183.549  29     0.088  ESP_011403_0945      Ithaca\n",
       " 9   252.907  29     0.225  ESP_012858_0855      Ithaca\n",
       " 10  189.713  30     0.088  ESP_020357_0950      Ithaca\n",
       " 11  195.125  30     0.248  ESP_020476_0950      Ithaca\n",
       " 12  243.829  30     0.316  ESP_021491_0950      Ithaca\n",
       " 13  209.241  30     0.324  ESP_020779_0950      Ithaca\n",
       " 14  180.311  30     0.119  ESP_020146_0950      Ithaca\n",
       " 15  199.362  30     0.355  ESP_020568_0950      Ithaca,\n",
       "          Ls  MY  fraction            obsid region_name\n",
       " 0   209.121  29     0.101  ESP_011960_0925  Portsmouth\n",
       " 1   250.880  29     0.031  ESP_012817_0925  Portsmouth\n",
       " 2   226.228  29     0.060  ESP_012316_0925  Portsmouth\n",
       " 3   236.560  29     0.054  ESP_012527_0925  Portsmouth\n",
       " 4   233.317  29     0.037  ESP_012461_0925  Portsmouth\n",
       " 5   207.493  30     0.141  ESP_020742_0925  Portsmouth\n",
       " 6   242.002  30     0.034  ESP_021454_0925  Portsmouth\n",
       " 7   245.262  30     0.040  ESP_021520_0925  Portsmouth\n",
       " 8   200.706  30     0.063  ESP_020597_0925  Portsmouth\n",
       " 9   217.541  30     0.095  ESP_020953_0925  Portsmouth\n",
       " 10  191.024  30     0.010  ESP_020386_0925  Portsmouth,\n",
       "         Ls  MY  fraction            obsid region_name\n",
       " 0  214.689  29     0.046  ESP_012077_0930       Pisaq\n",
       " 1  235.184  29     0.034  ESP_012499_0930       Pisaq\n",
       " 2  184.794  29     0.036  ESP_011431_0930       Pisaq\n",
       " 3  209.289  30     0.054  ESP_020780_0930       Pisaq,\n",
       "         Ls  MY  fraction            obsid            region_name\n",
       " 0  197.486  29     0.040  ESP_011711_0930  Manhattan_Frontinella\n",
       " 1  259.432  29     0.007  ESP_012990_0930  Manhattan_Frontinella\n",
       " 2  241.834  29     0.008  ESP_012634_0930  Manhattan_Frontinella\n",
       " 3  204.224  29     0.024  ESP_011856_0930  Manhattan_Frontinella\n",
       " 4  249.000  29     0.004  ESP_012779_0930  Manhattan_Frontinella\n",
       " 5  181.632  30     0.013  ESP_020176_0930  Manhattan_Frontinella\n",
       " 6  192.887  30     0.053  ESP_020427_0930  Manhattan_Frontinella\n",
       " 7  186.341  30     0.018  ESP_020282_0930  Manhattan_Frontinella,\n",
       "          Ls  MY  fraction            obsid  region_name\n",
       " 0   221.909  29     0.051  ESP_012227_0980  BuenosAires\n",
       " 1   253.008  29     0.032  ESP_012860_0980  BuenosAires\n",
       " 2   256.914  29     0.039  ESP_012939_0980  BuenosAires\n",
       " 3   182.088  29     0.002  ESP_011370_0980  BuenosAires\n",
       " 4   235.430  29     0.041  ESP_012504_0980  BuenosAires\n",
       " 5   201.238  29     0.040  ESP_011792_0980  BuenosAires\n",
       " 6   188.557  29     0.009  ESP_011515_0980  BuenosAires\n",
       " 7   251.296  30     0.037  ESP_021642_0980  BuenosAires\n",
       " 8   190.572  30     0.018  ESP_020376_0980  BuenosAires\n",
       " 9   187.014  30     0.014  ESP_020297_0980  BuenosAires\n",
       " 10  206.411  30     0.059  ESP_020719_0980  BuenosAires\n",
       " 11  196.594  30     0.029  ESP_020508_0980  BuenosAires\n",
       " 12  244.126  30     0.021  ESP_021497_0980  BuenosAires\n",
       " 13  216.438  30     0.046  ESP_020930_0980  BuenosAires,\n",
       "          Ls  MY  fraction            obsid       region_name\n",
       " 0   206.291  29     0.091  ESP_011900_0985  Inca_City_Ridges\n",
       " 1   244.650  29     0.062  ESP_012691_0985  Inca_City_Ridges\n",
       " 2   226.522  29     0.068  ESP_012322_0985  Inca_City_Ridges\n",
       " 3   197.073  29     0.059  ESP_011702_0985  Inca_City_Ridges\n",
       " 4   193.452  29     0.057  ESP_011623_0985  Inca_City_Ridges\n",
       " 5   254.442  29     0.096  ESP_012889_0985  Inca_City_Ridges\n",
       " 6   190.453  29     0.052  ESP_011557_0985  Inca_City_Ridges\n",
       " 7   188.901  30     0.099  ESP_020339_0985  Inca_City_Ridges\n",
       " 8   245.559  30     0.050  ESP_021526_0985  Inca_City_Ridges\n",
       " 9   249.466  30     0.072  ESP_021605_0985  Inca_City_Ridges\n",
       " 10  252.730  30     0.072  ESP_021671_0985  Inca_City_Ridges\n",
       " 11  253.373  30     0.089  ESP_021684_0985  Inca_City_Ridges\n",
       " 12  260.539  30     0.127  ESP_021829_0985  Inca_City_Ridges\n",
       " 13  211.519  30     0.078  ESP_020827_0985  Inca_City_Ridges\n",
       " 14  178.951  30     0.074  ESP_020115_0985  Inca_City_Ridges,\n",
       "          Ls  MY  fraction            obsid region_name\n",
       " 0   223.314  29     0.025  ESP_012256_0985   Inca_City\n",
       " 1   247.270  29     0.010  ESP_012744_0985   Inca_City\n",
       " 2   187.478  29     0.064  ESP_011491_0985   Inca_City\n",
       " 3   233.613  29     0.017  ESP_012467_0985   Inca_City\n",
       " 4   265.496  29     0.053  ESP_013113_0985   Inca_City\n",
       " 5   198.318  29     0.034  ESP_011729_0985   Inca_City\n",
       " 6   261.604  29     0.038  ESP_013034_0985   Inca_City\n",
       " 7   189.865  29     0.030  ESP_011544_0985   Inca_City\n",
       " 8   207.777  30     0.050  ESP_020748_0985   Inca_City\n",
       " 9   242.299  30     0.033  ESP_021460_0985   Inca_City\n",
       " 10  217.831  30     0.050  ESP_020959_0985   Inca_City\n",
       " 11  179.521  30     0.023  ESP_020128_0985   Inca_City\n",
       " 12  176.075  30     0.021  ESP_020049_0985   Inca_City\n",
       " 13  182.428  30     0.046  ESP_020194_0985   Inca_City\n",
       " 14  302.421  30     0.010  ESP_022699_0985   Inca_City,\n",
       "          Ls  MY  fraction            obsid region_name\n",
       " 0   227.593  29     0.029  ESP_012344_0950        Giza\n",
       " 1   185.508  29     0.041  ESP_011447_0950        Giza\n",
       " 2   245.291  29     0.013  ESP_012704_0850        Giza\n",
       " 3   203.616  29     0.057  ESP_011843_0950        Giza\n",
       " 4   252.265  29     0.077  ESP_012845_0950        Giza\n",
       " 5   221.182  29     0.014  ESP_012212_0950        Giza\n",
       " 6   223.750  29     0.038  ESP_012265_0950        Giza\n",
       " 7   185.552  29     0.062  ESP_011448_0950        Giza\n",
       " 8   251.819  29     0.039  ESP_012836_0850        Giza\n",
       " 9   200.540  29     0.045  ESP_011777_0950        Giza\n",
       " 10  247.714  29     0.058  ESP_012753_0950        Giza\n",
       " 11  209.431  30     0.023  ESP_020783_0950        Giza\n",
       " 12  282.247  30     0.002  ESP_022273_0950        Giza\n",
       " 13  191.705  30     0.022  ESP_020401_0950        Giza\n",
       " 14  180.487  30     0.026  ESP_020150_0950        Giza\n",
       " 15  215.096  30     0.022  ESP_020902_0950        Giza\n",
       " 16  243.385  30     0.012  ESP_021482_0950        Giza\n",
       " 17  195.309  30     0.044  ESP_020480_0950        Giza,\n",
       "          Ls  MY  fraction            obsid region_name\n",
       " 0   198.688  29     0.034  ESP_011737_0980     Potsdam\n",
       " 1   235.971  29     0.027  ESP_012515_0980     Potsdam\n",
       " 2   189.052  29     0.037  ESP_011526_0980     Potsdam\n",
       " 3   239.861  29     0.018  ESP_012594_0980     Potsdam\n",
       " 4   250.287  29     0.041  ESP_012805_0980     Potsdam\n",
       " 5   186.089  29     0.050  ESP_011460_0980     Potsdam\n",
       " 6   253.552  29     0.052  ESP_012871_0980     Potsdam\n",
       " 7   248.575  30     0.008  ESP_021587_0980     Potsdam\n",
       " 8   190.482  30     0.036  ESP_020374_0980     Potsdam\n",
       " 9   245.312  30     0.006  ESP_021521_0980     Potsdam\n",
       " 10  244.670  30     0.007  ESP_021508_0980     Potsdam\n",
       " 11  213.806  30     0.036  ESP_020875_0980     Potsdam\n",
       " 12  247.932  30     0.009  ESP_021574_0980     Potsdam\n",
       " 13  293.572  30     0.002  ESP_022510_0980     Potsdam\n",
       " 14  181.059  30     0.092  ESP_020163_0980     Potsdam\n",
       " 15  216.966  30     0.026  ESP_020941_0980     Potsdam,\n",
       "         Ls  MY  fraction            obsid region_name\n",
       " 0  244.748  29     0.017  ESP_012693_0950        Troy\n",
       " 1  251.919  29     0.012  ESP_012838_0950        Troy\n",
       " 2  262.343  29     0.031  ESP_013049_0950        Troy\n",
       " 3  181.117  29     0.004  ESP_011348_0950        Troy\n",
       " 4  272.705  29     0.030  ESP_013260_0950        Troy,\n",
       "          Ls  MY  fraction            obsid  region_name\n",
       " 0   233.415  29     0.036  ESP_012463_0930  Oswego_Edge\n",
       " 1   261.406  29     0.068  ESP_013030_0930  Oswego_Edge\n",
       " 2   192.676  29     0.037  ESP_011606_0930  Oswego_Edge\n",
       " 3   250.979  29     0.041  ESP_012819_0930  Oswego_Edge\n",
       " 4   212.350  29     0.042  ESP_012028_0930  Oswego_Edge\n",
       " 5   183.771  29     0.013  ESP_011408_0930  Oswego_Edge\n",
       " 6   188.135  30     0.056  ESP_020322_0930  Oswego_Edge\n",
       " 7   245.361  30     0.026  ESP_021522_0930  Oswego_Edge\n",
       " 8   204.485  30     0.021  ESP_020678_0930  Oswego_Edge\n",
       " 9   217.638  30     0.013  ESP_020955_0930  Oswego_Edge\n",
       " 10  251.888  30     0.053  ESP_021654_0930  Oswego_Edge\n",
       " 11  287.340  30     0.001  ESP_022379_0930  Oswego_Edge\n",
       " 12  206.975  30     0.013  ESP_020731_0930  Oswego_Edge\n",
       " 13  197.745  30     0.069  ESP_020533_0930  Oswego_Edge\n",
       " 14  243.434  30     0.029  ESP_021483_0930  Oswego_Edge\n",
       " 15  183.979  30     0.051  ESP_020229_0930  Oswego_Edge,\n",
       "         Ls  MY  fraction            obsid region_name\n",
       " 0  242.525  29     0.012  ESP_012648_0930     Halifax\n",
       " 1  214.880  29     0.083  ESP_012081_0930     Halifax\n",
       " 2  184.393  29     0.002  ESP_011422_0930     Halifax,\n",
       "         Ls  MY  fraction            obsid  region_name\n",
       " 0  196.062  29     0.073  ESP_011680_1055  Caterpillar,\n",
       "         Ls  MY  fraction            obsid region_name\n",
       " 0  229.987  29     0.127  ESP_012393_0965   Rochester\n",
       " 1  240.354  29     0.145  ESP_012604_0965   Rochester\n",
       " 2  222.926  29     0.151  ESP_012248_0965   Rochester\n",
       " 3  226.132  29     0.144  ESP_012314_0965   Rochester,\n",
       "         Ls  MY  fraction            obsid       region_name\n",
       " 0  251.077  29     0.062  ESP_012821_0865  Manhattan_Cracks\n",
       " 1  197.699  30     0.077  ESP_020532_0935  Manhattan_Cracks\n",
       " 2  242.693  30     0.060  ESP_021468_0935  Manhattan_Cracks\n",
       " 3  185.136  30     0.068  ESP_020255_0935  Manhattan_Cracks\n",
       " 4  285.423  30     0.001  ESP_022339_0935  Manhattan_Cracks\n",
       " 5  214.426  30     0.042  ESP_020888_0935  Manhattan_Cracks,\n",
       "         Ls  MY  fraction            obsid  region_name\n",
       " 0  207.279  29     0.056  ESP_011921_0950  Schenectady,\n",
       "         Ls  MY  fraction            obsid region_name\n",
       " 0  223.218  29     0.014  ESP_012254_1065  Binghamton\n",
       " 1  254.344  29     0.031  ESP_012887_1065  Binghamton,\n",
       "         Ls  MY  fraction            obsid region_name\n",
       " 0  212.826  29     0.019  ESP_012038_0930        Atka\n",
       " 1  243.661  29     0.010  ESP_012671_0930        Atka\n",
       " 2  250.830  29     0.007  ESP_012816_0930        Atka,\n",
       "         Ls  MY  fraction            obsid region_name\n",
       " 0  183.994  29      0.02  ESP_011413_0970    Cortland,\n",
       "         Ls  MY  fraction            obsid region_name\n",
       " 0  278.375  30     0.005  ESP_022193_0950     Geneseo,\n",
       " Empty DataFrame\n",
       " Columns: [region_name]\n",
       " Index: []]"
      ]
     },
     "execution_count": 57,
     "metadata": {},
     "output_type": "execute_result"
    },
    {
     "data": {
      "application/javascript": [
       "\n",
       "        setTimeout(function() {\n",
       "            var nbb_cell_id = 57;\n",
       "            var nbb_formatted_code = \"calc_region\";\n",
       "            var nbb_cells = Jupyter.notebook.get_cells();\n",
       "            for (var i = 0; i < nbb_cells.length; ++i) {\n",
       "                if (nbb_cells[i].input_prompt_number == nbb_cell_id) {\n",
       "                    nbb_cells[i].set_text(nbb_formatted_code);\n",
       "                    break;\n",
       "                }\n",
       "            }\n",
       "        }, 500);\n",
       "        "
      ],
      "text/plain": [
       "<IPython.core.display.Javascript object>"
      ]
     },
     "metadata": {},
     "output_type": "display_data"
    }
   ],
   "source": [
    "#proper result but as a list, want as a dataframe.\n",
    "calc_region"
   ]
  },
  {
   "cell_type": "code",
   "execution_count": 98,
   "metadata": {},
   "outputs": [
    {
     "data": {
      "application/javascript": [
       "\n",
       "        setTimeout(function() {\n",
       "            var nbb_cell_id = 98;\n",
       "            var nbb_formatted_code = \"full_region_both = pd.concat(calc_region, sort=True)\";\n",
       "            var nbb_cells = Jupyter.notebook.get_cells();\n",
       "            for (var i = 0; i < nbb_cells.length; ++i) {\n",
       "                if (nbb_cells[i].input_prompt_number == nbb_cell_id) {\n",
       "                    nbb_cells[i].set_text(nbb_formatted_code);\n",
       "                    break;\n",
       "                }\n",
       "            }\n",
       "        }, 500);\n",
       "        "
      ],
      "text/plain": [
       "<IPython.core.display.Javascript object>"
      ]
     },
     "metadata": {},
     "output_type": "display_data"
    }
   ],
   "source": [
    "full_region_both = pd.concat(calc_region, sort=True)"
   ]
  },
  {
   "cell_type": "code",
   "execution_count": 99,
   "metadata": {},
   "outputs": [
    {
     "data": {
      "application/javascript": [
       "\n",
       "        setTimeout(function() {\n",
       "            var nbb_cell_id = 99;\n",
       "            var nbb_formatted_code = \"full_region_fans = pd.concat(calc_region_fans, sort=True)\";\n",
       "            var nbb_cells = Jupyter.notebook.get_cells();\n",
       "            for (var i = 0; i < nbb_cells.length; ++i) {\n",
       "                if (nbb_cells[i].input_prompt_number == nbb_cell_id) {\n",
       "                    nbb_cells[i].set_text(nbb_formatted_code);\n",
       "                    break;\n",
       "                }\n",
       "            }\n",
       "        }, 500);\n",
       "        "
      ],
      "text/plain": [
       "<IPython.core.display.Javascript object>"
      ]
     },
     "metadata": {},
     "output_type": "display_data"
    }
   ],
   "source": [
    "full_region_fans = pd.concat(calc_region_fans, sort=True)"
   ]
  },
  {
   "cell_type": "code",
   "execution_count": 100,
   "metadata": {},
   "outputs": [
    {
     "data": {
      "application/javascript": [
       "\n",
       "        setTimeout(function() {\n",
       "            var nbb_cell_id = 100;\n",
       "            var nbb_formatted_code = \"full_region_blotches = pd.concat(calc_region_blotches, sort=True)\";\n",
       "            var nbb_cells = Jupyter.notebook.get_cells();\n",
       "            for (var i = 0; i < nbb_cells.length; ++i) {\n",
       "                if (nbb_cells[i].input_prompt_number == nbb_cell_id) {\n",
       "                    nbb_cells[i].set_text(nbb_formatted_code);\n",
       "                    break;\n",
       "                }\n",
       "            }\n",
       "        }, 500);\n",
       "        "
      ],
      "text/plain": [
       "<IPython.core.display.Javascript object>"
      ]
     },
     "metadata": {},
     "output_type": "display_data"
    }
   ],
   "source": [
    "full_region_blotches = pd.concat(calc_region_blotches, sort=True)"
   ]
  },
  {
   "cell_type": "code",
   "execution_count": 102,
   "metadata": {},
   "outputs": [
    {
     "data": {
      "text/html": [
       "<div>\n",
       "<style scoped>\n",
       "    .dataframe tbody tr th:only-of-type {\n",
       "        vertical-align: middle;\n",
       "    }\n",
       "\n",
       "    .dataframe tbody tr th {\n",
       "        vertical-align: top;\n",
       "    }\n",
       "\n",
       "    .dataframe thead th {\n",
       "        text-align: right;\n",
       "    }\n",
       "</style>\n",
       "<table border=\"1\" class=\"dataframe\">\n",
       "  <thead>\n",
       "    <tr style=\"text-align: right;\">\n",
       "      <th></th>\n",
       "      <th>Ls</th>\n",
       "      <th>MY</th>\n",
       "      <th>fraction</th>\n",
       "      <th>obsid</th>\n",
       "      <th>region_name</th>\n",
       "      <th>which</th>\n",
       "    </tr>\n",
       "  </thead>\n",
       "  <tbody>\n",
       "    <tr>\n",
       "      <th>0</th>\n",
       "      <td>214.785</td>\n",
       "      <td>29.0</td>\n",
       "      <td>0.115</td>\n",
       "      <td>ESP_012079_0945</td>\n",
       "      <td>Macclesfield</td>\n",
       "      <td>both</td>\n",
       "    </tr>\n",
       "    <tr>\n",
       "      <th>1</th>\n",
       "      <td>183.727</td>\n",
       "      <td>29.0</td>\n",
       "      <td>0.070</td>\n",
       "      <td>ESP_011407_0945</td>\n",
       "      <td>Macclesfield</td>\n",
       "      <td>both</td>\n",
       "    </tr>\n",
       "    <tr>\n",
       "      <th>2</th>\n",
       "      <td>198.040</td>\n",
       "      <td>29.0</td>\n",
       "      <td>0.072</td>\n",
       "      <td>ESP_011723_0945</td>\n",
       "      <td>Macclesfield</td>\n",
       "      <td>both</td>\n",
       "    </tr>\n",
       "    <tr>\n",
       "      <th>3</th>\n",
       "      <td>207.892</td>\n",
       "      <td>29.0</td>\n",
       "      <td>0.168</td>\n",
       "      <td>ESP_011934_0945</td>\n",
       "      <td>Macclesfield</td>\n",
       "      <td>both</td>\n",
       "    </tr>\n",
       "    <tr>\n",
       "      <th>4</th>\n",
       "      <td>235.282</td>\n",
       "      <td>29.0</td>\n",
       "      <td>0.111</td>\n",
       "      <td>ESP_012501_0945</td>\n",
       "      <td>Macclesfield</td>\n",
       "      <td>both</td>\n",
       "    </tr>\n",
       "    <tr>\n",
       "      <th>5</th>\n",
       "      <td>224.964</td>\n",
       "      <td>29.0</td>\n",
       "      <td>0.087</td>\n",
       "      <td>ESP_012290_0945</td>\n",
       "      <td>Macclesfield</td>\n",
       "      <td>both</td>\n",
       "    </tr>\n",
       "    <tr>\n",
       "      <th>6</th>\n",
       "      <td>183.683</td>\n",
       "      <td>29.0</td>\n",
       "      <td>0.074</td>\n",
       "      <td>ESP_011406_0945</td>\n",
       "      <td>Macclesfield</td>\n",
       "      <td>both</td>\n",
       "    </tr>\n",
       "    <tr>\n",
       "      <th>7</th>\n",
       "      <td>243.978</td>\n",
       "      <td>30.0</td>\n",
       "      <td>0.049</td>\n",
       "      <td>ESP_021494_0945</td>\n",
       "      <td>Macclesfield</td>\n",
       "      <td>both</td>\n",
       "    </tr>\n",
       "    <tr>\n",
       "      <th>8</th>\n",
       "      <td>209.383</td>\n",
       "      <td>30.0</td>\n",
       "      <td>0.075</td>\n",
       "      <td>ESP_020782_0945</td>\n",
       "      <td>Macclesfield</td>\n",
       "      <td>both</td>\n",
       "    </tr>\n",
       "    <tr>\n",
       "      <th>9</th>\n",
       "      <td>206.269</td>\n",
       "      <td>30.0</td>\n",
       "      <td>0.062</td>\n",
       "      <td>ESP_020716_0945</td>\n",
       "      <td>Macclesfield</td>\n",
       "      <td>both</td>\n",
       "    </tr>\n",
       "    <tr>\n",
       "      <th>10</th>\n",
       "      <td>199.501</td>\n",
       "      <td>30.0</td>\n",
       "      <td>0.065</td>\n",
       "      <td>ESP_020571_0945</td>\n",
       "      <td>Macclesfield</td>\n",
       "      <td>both</td>\n",
       "    </tr>\n",
       "    <tr>\n",
       "      <th>11</th>\n",
       "      <td>186.879</td>\n",
       "      <td>30.0</td>\n",
       "      <td>0.080</td>\n",
       "      <td>ESP_020294_0945</td>\n",
       "      <td>Macclesfield</td>\n",
       "      <td>both</td>\n",
       "    </tr>\n",
       "    <tr>\n",
       "      <th>12</th>\n",
       "      <td>216.293</td>\n",
       "      <td>30.0</td>\n",
       "      <td>0.079</td>\n",
       "      <td>ESP_020927_0945</td>\n",
       "      <td>Macclesfield</td>\n",
       "      <td>both</td>\n",
       "    </tr>\n",
       "    <tr>\n",
       "      <th>13</th>\n",
       "      <td>184.557</td>\n",
       "      <td>30.0</td>\n",
       "      <td>0.054</td>\n",
       "      <td>ESP_020242_0945</td>\n",
       "      <td>Macclesfield</td>\n",
       "      <td>both</td>\n",
       "    </tr>\n",
       "    <tr>\n",
       "      <th>0</th>\n",
       "      <td>241.144</td>\n",
       "      <td>29.0</td>\n",
       "      <td>0.068</td>\n",
       "      <td>ESP_012620_0975</td>\n",
       "      <td>unknown</td>\n",
       "      <td>both</td>\n",
       "    </tr>\n",
       "    <tr>\n",
       "      <th>1</th>\n",
       "      <td>224.333</td>\n",
       "      <td>29.0</td>\n",
       "      <td>0.020</td>\n",
       "      <td>ESP_012277_0975</td>\n",
       "      <td>unknown</td>\n",
       "      <td>both</td>\n",
       "    </tr>\n",
       "  </tbody>\n",
       "</table>\n",
       "</div>"
      ],
      "text/plain": [
       "         Ls    MY  fraction            obsid   region_name which\n",
       "0   214.785  29.0     0.115  ESP_012079_0945  Macclesfield  both\n",
       "1   183.727  29.0     0.070  ESP_011407_0945  Macclesfield  both\n",
       "2   198.040  29.0     0.072  ESP_011723_0945  Macclesfield  both\n",
       "3   207.892  29.0     0.168  ESP_011934_0945  Macclesfield  both\n",
       "4   235.282  29.0     0.111  ESP_012501_0945  Macclesfield  both\n",
       "5   224.964  29.0     0.087  ESP_012290_0945  Macclesfield  both\n",
       "6   183.683  29.0     0.074  ESP_011406_0945  Macclesfield  both\n",
       "7   243.978  30.0     0.049  ESP_021494_0945  Macclesfield  both\n",
       "8   209.383  30.0     0.075  ESP_020782_0945  Macclesfield  both\n",
       "9   206.269  30.0     0.062  ESP_020716_0945  Macclesfield  both\n",
       "10  199.501  30.0     0.065  ESP_020571_0945  Macclesfield  both\n",
       "11  186.879  30.0     0.080  ESP_020294_0945  Macclesfield  both\n",
       "12  216.293  30.0     0.079  ESP_020927_0945  Macclesfield  both\n",
       "13  184.557  30.0     0.054  ESP_020242_0945  Macclesfield  both\n",
       "0   241.144  29.0     0.068  ESP_012620_0975       unknown  both\n",
       "1   224.333  29.0     0.020  ESP_012277_0975       unknown  both"
      ]
     },
     "execution_count": 102,
     "metadata": {},
     "output_type": "execute_result"
    },
    {
     "data": {
      "application/javascript": [
       "\n",
       "        setTimeout(function() {\n",
       "            var nbb_cell_id = 102;\n",
       "            var nbb_formatted_code = \"# exactly what we want! But this is only for which='both', need with fans and blotches too\\nfull_region_both.head(16)\";\n",
       "            var nbb_cells = Jupyter.notebook.get_cells();\n",
       "            for (var i = 0; i < nbb_cells.length; ++i) {\n",
       "                if (nbb_cells[i].input_prompt_number == nbb_cell_id) {\n",
       "                    nbb_cells[i].set_text(nbb_formatted_code);\n",
       "                    break;\n",
       "                }\n",
       "            }\n",
       "        }, 500);\n",
       "        "
      ],
      "text/plain": [
       "<IPython.core.display.Javascript object>"
      ]
     },
     "metadata": {},
     "output_type": "display_data"
    }
   ],
   "source": [
    "# exactly what we want! But this is only for which='both', need with fans and blotches too\n",
    "full_region_both.head(16)"
   ]
  },
  {
   "cell_type": "code",
   "execution_count": 113,
   "metadata": {},
   "outputs": [
    {
     "data": {
      "application/javascript": [
       "\n",
       "        setTimeout(function() {\n",
       "            var nbb_cell_id = 113;\n",
       "            var nbb_formatted_code = \"two_dfs = pd.concat([full_region_both, full_region_fans], sort=True)\";\n",
       "            var nbb_cells = Jupyter.notebook.get_cells();\n",
       "            for (var i = 0; i < nbb_cells.length; ++i) {\n",
       "                if (nbb_cells[i].input_prompt_number == nbb_cell_id) {\n",
       "                    nbb_cells[i].set_text(nbb_formatted_code);\n",
       "                    break;\n",
       "                }\n",
       "            }\n",
       "        }, 500);\n",
       "        "
      ],
      "text/plain": [
       "<IPython.core.display.Javascript object>"
      ]
     },
     "metadata": {},
     "output_type": "display_data"
    }
   ],
   "source": [
    "two_dfs = pd.concat([full_region_both, full_region_fans], sort=True)"
   ]
  },
  {
   "cell_type": "code",
   "execution_count": 114,
   "metadata": {},
   "outputs": [
    {
     "data": {
      "text/html": [
       "<div>\n",
       "<style scoped>\n",
       "    .dataframe tbody tr th:only-of-type {\n",
       "        vertical-align: middle;\n",
       "    }\n",
       "\n",
       "    .dataframe tbody tr th {\n",
       "        vertical-align: top;\n",
       "    }\n",
       "\n",
       "    .dataframe thead th {\n",
       "        text-align: right;\n",
       "    }\n",
       "</style>\n",
       "<table border=\"1\" class=\"dataframe\">\n",
       "  <thead>\n",
       "    <tr style=\"text-align: right;\">\n",
       "      <th></th>\n",
       "      <th>Ls</th>\n",
       "      <th>MY</th>\n",
       "      <th>fraction</th>\n",
       "      <th>obsid</th>\n",
       "      <th>region_name</th>\n",
       "      <th>which</th>\n",
       "    </tr>\n",
       "  </thead>\n",
       "  <tbody>\n",
       "    <tr>\n",
       "      <th>0</th>\n",
       "      <td>214.785</td>\n",
       "      <td>29.0</td>\n",
       "      <td>0.115</td>\n",
       "      <td>ESP_012079_0945</td>\n",
       "      <td>Macclesfield</td>\n",
       "      <td>both</td>\n",
       "    </tr>\n",
       "    <tr>\n",
       "      <th>1</th>\n",
       "      <td>183.727</td>\n",
       "      <td>29.0</td>\n",
       "      <td>0.070</td>\n",
       "      <td>ESP_011407_0945</td>\n",
       "      <td>Macclesfield</td>\n",
       "      <td>both</td>\n",
       "    </tr>\n",
       "    <tr>\n",
       "      <th>2</th>\n",
       "      <td>198.040</td>\n",
       "      <td>29.0</td>\n",
       "      <td>0.072</td>\n",
       "      <td>ESP_011723_0945</td>\n",
       "      <td>Macclesfield</td>\n",
       "      <td>both</td>\n",
       "    </tr>\n",
       "    <tr>\n",
       "      <th>3</th>\n",
       "      <td>207.892</td>\n",
       "      <td>29.0</td>\n",
       "      <td>0.168</td>\n",
       "      <td>ESP_011934_0945</td>\n",
       "      <td>Macclesfield</td>\n",
       "      <td>both</td>\n",
       "    </tr>\n",
       "    <tr>\n",
       "      <th>4</th>\n",
       "      <td>235.282</td>\n",
       "      <td>29.0</td>\n",
       "      <td>0.111</td>\n",
       "      <td>ESP_012501_0945</td>\n",
       "      <td>Macclesfield</td>\n",
       "      <td>both</td>\n",
       "    </tr>\n",
       "  </tbody>\n",
       "</table>\n",
       "</div>"
      ],
      "text/plain": [
       "        Ls    MY  fraction            obsid   region_name which\n",
       "0  214.785  29.0     0.115  ESP_012079_0945  Macclesfield  both\n",
       "1  183.727  29.0     0.070  ESP_011407_0945  Macclesfield  both\n",
       "2  198.040  29.0     0.072  ESP_011723_0945  Macclesfield  both\n",
       "3  207.892  29.0     0.168  ESP_011934_0945  Macclesfield  both\n",
       "4  235.282  29.0     0.111  ESP_012501_0945  Macclesfield  both"
      ]
     },
     "execution_count": 114,
     "metadata": {},
     "output_type": "execute_result"
    },
    {
     "data": {
      "application/javascript": [
       "\n",
       "        setTimeout(function() {\n",
       "            var nbb_cell_id = 114;\n",
       "            var nbb_formatted_code = \"two_dfs.head()\";\n",
       "            var nbb_cells = Jupyter.notebook.get_cells();\n",
       "            for (var i = 0; i < nbb_cells.length; ++i) {\n",
       "                if (nbb_cells[i].input_prompt_number == nbb_cell_id) {\n",
       "                    nbb_cells[i].set_text(nbb_formatted_code);\n",
       "                    break;\n",
       "                }\n",
       "            }\n",
       "        }, 500);\n",
       "        "
      ],
      "text/plain": [
       "<IPython.core.display.Javascript object>"
      ]
     },
     "metadata": {},
     "output_type": "display_data"
    }
   ],
   "source": [
    "two_dfs.head()"
   ]
  },
  {
   "cell_type": "code",
   "execution_count": 124,
   "metadata": {},
   "outputs": [
    {
     "data": {
      "application/javascript": [
       "\n",
       "        setTimeout(function() {\n",
       "            var nbb_cell_id = 124;\n",
       "            var nbb_formatted_code = \"# this is exactly what we wanted I think!\\ncombined_frames = pd.concat([two_dfs, full_region_blotches], sort=True)\";\n",
       "            var nbb_cells = Jupyter.notebook.get_cells();\n",
       "            for (var i = 0; i < nbb_cells.length; ++i) {\n",
       "                if (nbb_cells[i].input_prompt_number == nbb_cell_id) {\n",
       "                    nbb_cells[i].set_text(nbb_formatted_code);\n",
       "                    break;\n",
       "                }\n",
       "            }\n",
       "        }, 500);\n",
       "        "
      ],
      "text/plain": [
       "<IPython.core.display.Javascript object>"
      ]
     },
     "metadata": {},
     "output_type": "display_data"
    }
   ],
   "source": [
    "# this is exactly what we wanted I think!\n",
    "combined_frames = pd.concat([two_dfs, full_region_blotches], sort=True)"
   ]
  },
  {
   "cell_type": "code",
   "execution_count": 122,
   "metadata": {},
   "outputs": [
    {
     "data": {
      "text/html": [
       "<div>\n",
       "<style scoped>\n",
       "    .dataframe tbody tr th:only-of-type {\n",
       "        vertical-align: middle;\n",
       "    }\n",
       "\n",
       "    .dataframe tbody tr th {\n",
       "        vertical-align: top;\n",
       "    }\n",
       "\n",
       "    .dataframe thead th {\n",
       "        text-align: right;\n",
       "    }\n",
       "</style>\n",
       "<table border=\"1\" class=\"dataframe\">\n",
       "  <thead>\n",
       "    <tr style=\"text-align: right;\">\n",
       "      <th></th>\n",
       "      <th>Ls</th>\n",
       "      <th>MY</th>\n",
       "      <th>fraction</th>\n",
       "      <th>obsid</th>\n",
       "      <th>region_name</th>\n",
       "      <th>which</th>\n",
       "    </tr>\n",
       "  </thead>\n",
       "  <tbody>\n",
       "    <tr>\n",
       "      <th>0</th>\n",
       "      <td>214.785</td>\n",
       "      <td>29.0</td>\n",
       "      <td>0.115</td>\n",
       "      <td>ESP_012079_0945</td>\n",
       "      <td>Macclesfield</td>\n",
       "      <td>both</td>\n",
       "    </tr>\n",
       "    <tr>\n",
       "      <th>1</th>\n",
       "      <td>183.727</td>\n",
       "      <td>29.0</td>\n",
       "      <td>0.070</td>\n",
       "      <td>ESP_011407_0945</td>\n",
       "      <td>Macclesfield</td>\n",
       "      <td>both</td>\n",
       "    </tr>\n",
       "    <tr>\n",
       "      <th>2</th>\n",
       "      <td>198.040</td>\n",
       "      <td>29.0</td>\n",
       "      <td>0.072</td>\n",
       "      <td>ESP_011723_0945</td>\n",
       "      <td>Macclesfield</td>\n",
       "      <td>both</td>\n",
       "    </tr>\n",
       "    <tr>\n",
       "      <th>3</th>\n",
       "      <td>207.892</td>\n",
       "      <td>29.0</td>\n",
       "      <td>0.168</td>\n",
       "      <td>ESP_011934_0945</td>\n",
       "      <td>Macclesfield</td>\n",
       "      <td>both</td>\n",
       "    </tr>\n",
       "    <tr>\n",
       "      <th>4</th>\n",
       "      <td>235.282</td>\n",
       "      <td>29.0</td>\n",
       "      <td>0.111</td>\n",
       "      <td>ESP_012501_0945</td>\n",
       "      <td>Macclesfield</td>\n",
       "      <td>both</td>\n",
       "    </tr>\n",
       "    <tr>\n",
       "      <th>5</th>\n",
       "      <td>224.964</td>\n",
       "      <td>29.0</td>\n",
       "      <td>0.087</td>\n",
       "      <td>ESP_012290_0945</td>\n",
       "      <td>Macclesfield</td>\n",
       "      <td>both</td>\n",
       "    </tr>\n",
       "    <tr>\n",
       "      <th>6</th>\n",
       "      <td>183.683</td>\n",
       "      <td>29.0</td>\n",
       "      <td>0.074</td>\n",
       "      <td>ESP_011406_0945</td>\n",
       "      <td>Macclesfield</td>\n",
       "      <td>both</td>\n",
       "    </tr>\n",
       "    <tr>\n",
       "      <th>7</th>\n",
       "      <td>243.978</td>\n",
       "      <td>30.0</td>\n",
       "      <td>0.049</td>\n",
       "      <td>ESP_021494_0945</td>\n",
       "      <td>Macclesfield</td>\n",
       "      <td>both</td>\n",
       "    </tr>\n",
       "    <tr>\n",
       "      <th>8</th>\n",
       "      <td>209.383</td>\n",
       "      <td>30.0</td>\n",
       "      <td>0.075</td>\n",
       "      <td>ESP_020782_0945</td>\n",
       "      <td>Macclesfield</td>\n",
       "      <td>both</td>\n",
       "    </tr>\n",
       "    <tr>\n",
       "      <th>9</th>\n",
       "      <td>206.269</td>\n",
       "      <td>30.0</td>\n",
       "      <td>0.062</td>\n",
       "      <td>ESP_020716_0945</td>\n",
       "      <td>Macclesfield</td>\n",
       "      <td>both</td>\n",
       "    </tr>\n",
       "    <tr>\n",
       "      <th>10</th>\n",
       "      <td>199.501</td>\n",
       "      <td>30.0</td>\n",
       "      <td>0.065</td>\n",
       "      <td>ESP_020571_0945</td>\n",
       "      <td>Macclesfield</td>\n",
       "      <td>both</td>\n",
       "    </tr>\n",
       "    <tr>\n",
       "      <th>11</th>\n",
       "      <td>186.879</td>\n",
       "      <td>30.0</td>\n",
       "      <td>0.080</td>\n",
       "      <td>ESP_020294_0945</td>\n",
       "      <td>Macclesfield</td>\n",
       "      <td>both</td>\n",
       "    </tr>\n",
       "    <tr>\n",
       "      <th>12</th>\n",
       "      <td>216.293</td>\n",
       "      <td>30.0</td>\n",
       "      <td>0.079</td>\n",
       "      <td>ESP_020927_0945</td>\n",
       "      <td>Macclesfield</td>\n",
       "      <td>both</td>\n",
       "    </tr>\n",
       "    <tr>\n",
       "      <th>13</th>\n",
       "      <td>184.557</td>\n",
       "      <td>30.0</td>\n",
       "      <td>0.054</td>\n",
       "      <td>ESP_020242_0945</td>\n",
       "      <td>Macclesfield</td>\n",
       "      <td>both</td>\n",
       "    </tr>\n",
       "    <tr>\n",
       "      <th>0</th>\n",
       "      <td>241.144</td>\n",
       "      <td>29.0</td>\n",
       "      <td>0.068</td>\n",
       "      <td>ESP_012620_0975</td>\n",
       "      <td>unknown</td>\n",
       "      <td>both</td>\n",
       "    </tr>\n",
       "    <tr>\n",
       "      <th>1</th>\n",
       "      <td>224.333</td>\n",
       "      <td>29.0</td>\n",
       "      <td>0.020</td>\n",
       "      <td>ESP_012277_0975</td>\n",
       "      <td>unknown</td>\n",
       "      <td>both</td>\n",
       "    </tr>\n",
       "  </tbody>\n",
       "</table>\n",
       "</div>"
      ],
      "text/plain": [
       "         Ls    MY  fraction            obsid   region_name which\n",
       "0   214.785  29.0     0.115  ESP_012079_0945  Macclesfield  both\n",
       "1   183.727  29.0     0.070  ESP_011407_0945  Macclesfield  both\n",
       "2   198.040  29.0     0.072  ESP_011723_0945  Macclesfield  both\n",
       "3   207.892  29.0     0.168  ESP_011934_0945  Macclesfield  both\n",
       "4   235.282  29.0     0.111  ESP_012501_0945  Macclesfield  both\n",
       "5   224.964  29.0     0.087  ESP_012290_0945  Macclesfield  both\n",
       "6   183.683  29.0     0.074  ESP_011406_0945  Macclesfield  both\n",
       "7   243.978  30.0     0.049  ESP_021494_0945  Macclesfield  both\n",
       "8   209.383  30.0     0.075  ESP_020782_0945  Macclesfield  both\n",
       "9   206.269  30.0     0.062  ESP_020716_0945  Macclesfield  both\n",
       "10  199.501  30.0     0.065  ESP_020571_0945  Macclesfield  both\n",
       "11  186.879  30.0     0.080  ESP_020294_0945  Macclesfield  both\n",
       "12  216.293  30.0     0.079  ESP_020927_0945  Macclesfield  both\n",
       "13  184.557  30.0     0.054  ESP_020242_0945  Macclesfield  both\n",
       "0   241.144  29.0     0.068  ESP_012620_0975       unknown  both\n",
       "1   224.333  29.0     0.020  ESP_012277_0975       unknown  both"
      ]
     },
     "execution_count": 122,
     "metadata": {},
     "output_type": "execute_result"
    },
    {
     "data": {
      "application/javascript": [
       "\n",
       "        setTimeout(function() {\n",
       "            var nbb_cell_id = 122;\n",
       "            var nbb_formatted_code = \"combined_frames.head(16)\";\n",
       "            var nbb_cells = Jupyter.notebook.get_cells();\n",
       "            for (var i = 0; i < nbb_cells.length; ++i) {\n",
       "                if (nbb_cells[i].input_prompt_number == nbb_cell_id) {\n",
       "                    nbb_cells[i].set_text(nbb_formatted_code);\n",
       "                    break;\n",
       "                }\n",
       "            }\n",
       "        }, 500);\n",
       "        "
      ],
      "text/plain": [
       "<IPython.core.display.Javascript object>"
      ]
     },
     "metadata": {},
     "output_type": "display_data"
    }
   ],
   "source": [
    "combined_frames.head(16)"
   ]
  },
  {
   "cell_type": "code",
   "execution_count": 123,
   "metadata": {},
   "outputs": [
    {
     "data": {
      "text/plain": [
       "Ls                     214.785\n",
       "MY                          29\n",
       "fraction                 0.115\n",
       "obsid          ESP_012079_0945\n",
       "region_name       Macclesfield\n",
       "which                     both\n",
       "Name: 0, dtype: object"
      ]
     },
     "execution_count": 123,
     "metadata": {},
     "output_type": "execute_result"
    },
    {
     "data": {
      "application/javascript": [
       "\n",
       "        setTimeout(function() {\n",
       "            var nbb_cell_id = 123;\n",
       "            var nbb_formatted_code = \"combined_frames.iloc[0]\";\n",
       "            var nbb_cells = Jupyter.notebook.get_cells();\n",
       "            for (var i = 0; i < nbb_cells.length; ++i) {\n",
       "                if (nbb_cells[i].input_prompt_number == nbb_cell_id) {\n",
       "                    nbb_cells[i].set_text(nbb_formatted_code);\n",
       "                    break;\n",
       "                }\n",
       "            }\n",
       "        }, 500);\n",
       "        "
      ],
      "text/plain": [
       "<IPython.core.display.Javascript object>"
      ]
     },
     "metadata": {},
     "output_type": "display_data"
    }
   ],
   "source": [
    "combined_frames.iloc[0]"
   ]
  },
  {
   "cell_type": "code",
   "execution_count": 144,
   "metadata": {},
   "outputs": [
    {
     "data": {
      "application/javascript": [
       "\n",
       "        setTimeout(function() {\n",
       "            var nbb_cell_id = 144;\n",
       "            var nbb_formatted_code = \"combined_frames.to_csv(\\\"final_df.csv\\\", index=False)\";\n",
       "            var nbb_cells = Jupyter.notebook.get_cells();\n",
       "            for (var i = 0; i < nbb_cells.length; ++i) {\n",
       "                if (nbb_cells[i].input_prompt_number == nbb_cell_id) {\n",
       "                    nbb_cells[i].set_text(nbb_formatted_code);\n",
       "                    break;\n",
       "                }\n",
       "            }\n",
       "        }, 500);\n",
       "        "
      ],
      "text/plain": [
       "<IPython.core.display.Javascript object>"
      ]
     },
     "metadata": {},
     "output_type": "display_data"
    }
   ],
   "source": [
    "combined_frames.to_csv(\"final_df.csv\", index=False)"
   ]
  },
  {
   "cell_type": "code",
   "execution_count": 50,
   "metadata": {},
   "outputs": [
    {
     "name": "stdout",
     "output_type": "stream",
     "text": [
      "Martian year: 29\n",
      "Calculating obsid ESP_011931_0945\n",
      "Calculating obsid ESP_012063_0945\n",
      "Calculating obsid ESP_011350_0945\n",
      "Calculating obsid ESP_012076_0945\n",
      "Calculating obsid ESP_012643_0945\n",
      "Calculating obsid ESP_012854_0945\n",
      "Calculating obsid ESP_011351_0945\n",
      "Calculating obsid ESP_011404_0945\n",
      "Calculating obsid ESP_011403_0945\n",
      "Calculating obsid ESP_012858_0855\n",
      "Martian year: 30\n",
      "Calculating obsid ESP_020357_0950\n",
      "Calculating obsid ESP_020476_0950\n",
      "Calculating obsid ESP_021491_0950\n",
      "Calculating obsid ESP_020779_0950\n",
      "Calculating obsid ESP_020146_0950\n",
      "Calculating obsid ESP_020568_0950\n"
     ]
    },
    {
     "data": {
      "text/html": [
       "<div>\n",
       "<style scoped>\n",
       "    .dataframe tbody tr th:only-of-type {\n",
       "        vertical-align: middle;\n",
       "    }\n",
       "\n",
       "    .dataframe tbody tr th {\n",
       "        vertical-align: top;\n",
       "    }\n",
       "\n",
       "    .dataframe thead th {\n",
       "        text-align: right;\n",
       "    }\n",
       "</style>\n",
       "<table border=\"1\" class=\"dataframe\">\n",
       "  <thead>\n",
       "    <tr style=\"text-align: right;\">\n",
       "      <th></th>\n",
       "      <th>Ls</th>\n",
       "      <th>MY</th>\n",
       "      <th>fraction</th>\n",
       "      <th>obsid</th>\n",
       "      <th>region_name</th>\n",
       "    </tr>\n",
       "  </thead>\n",
       "  <tbody>\n",
       "    <tr>\n",
       "      <th>0</th>\n",
       "      <td>207.751</td>\n",
       "      <td>29</td>\n",
       "      <td>0.144</td>\n",
       "      <td>ESP_011931_0945</td>\n",
       "      <td>ithaca</td>\n",
       "    </tr>\n",
       "    <tr>\n",
       "      <th>1</th>\n",
       "      <td>214.020</td>\n",
       "      <td>29</td>\n",
       "      <td>0.154</td>\n",
       "      <td>ESP_012063_0945</td>\n",
       "      <td>ithaca</td>\n",
       "    </tr>\n",
       "    <tr>\n",
       "      <th>2</th>\n",
       "      <td>181.205</td>\n",
       "      <td>29</td>\n",
       "      <td>0.044</td>\n",
       "      <td>ESP_011350_0945</td>\n",
       "      <td>ithaca</td>\n",
       "    </tr>\n",
       "    <tr>\n",
       "      <th>3</th>\n",
       "      <td>214.641</td>\n",
       "      <td>29</td>\n",
       "      <td>0.156</td>\n",
       "      <td>ESP_012076_0945</td>\n",
       "      <td>ithaca</td>\n",
       "    </tr>\n",
       "    <tr>\n",
       "      <th>4</th>\n",
       "      <td>242.279</td>\n",
       "      <td>29</td>\n",
       "      <td>0.163</td>\n",
       "      <td>ESP_012643_0945</td>\n",
       "      <td>ithaca</td>\n",
       "    </tr>\n",
       "    <tr>\n",
       "      <th>5</th>\n",
       "      <td>252.710</td>\n",
       "      <td>29</td>\n",
       "      <td>0.132</td>\n",
       "      <td>ESP_012854_0945</td>\n",
       "      <td>ithaca</td>\n",
       "    </tr>\n",
       "    <tr>\n",
       "      <th>6</th>\n",
       "      <td>181.249</td>\n",
       "      <td>29</td>\n",
       "      <td>0.019</td>\n",
       "      <td>ESP_011351_0945</td>\n",
       "      <td>ithaca</td>\n",
       "    </tr>\n",
       "    <tr>\n",
       "      <th>7</th>\n",
       "      <td>183.594</td>\n",
       "      <td>29</td>\n",
       "      <td>0.016</td>\n",
       "      <td>ESP_011404_0945</td>\n",
       "      <td>ithaca</td>\n",
       "    </tr>\n",
       "    <tr>\n",
       "      <th>8</th>\n",
       "      <td>183.549</td>\n",
       "      <td>29</td>\n",
       "      <td>0.015</td>\n",
       "      <td>ESP_011403_0945</td>\n",
       "      <td>ithaca</td>\n",
       "    </tr>\n",
       "    <tr>\n",
       "      <th>9</th>\n",
       "      <td>252.907</td>\n",
       "      <td>29</td>\n",
       "      <td>0.150</td>\n",
       "      <td>ESP_012858_0855</td>\n",
       "      <td>ithaca</td>\n",
       "    </tr>\n",
       "    <tr>\n",
       "      <th>10</th>\n",
       "      <td>189.713</td>\n",
       "      <td>30</td>\n",
       "      <td>0.011</td>\n",
       "      <td>ESP_020357_0950</td>\n",
       "      <td>ithaca</td>\n",
       "    </tr>\n",
       "    <tr>\n",
       "      <th>11</th>\n",
       "      <td>195.125</td>\n",
       "      <td>30</td>\n",
       "      <td>0.030</td>\n",
       "      <td>ESP_020476_0950</td>\n",
       "      <td>ithaca</td>\n",
       "    </tr>\n",
       "    <tr>\n",
       "      <th>12</th>\n",
       "      <td>243.829</td>\n",
       "      <td>30</td>\n",
       "      <td>0.218</td>\n",
       "      <td>ESP_021491_0950</td>\n",
       "      <td>ithaca</td>\n",
       "    </tr>\n",
       "    <tr>\n",
       "      <th>13</th>\n",
       "      <td>209.241</td>\n",
       "      <td>30</td>\n",
       "      <td>0.173</td>\n",
       "      <td>ESP_020779_0950</td>\n",
       "      <td>ithaca</td>\n",
       "    </tr>\n",
       "    <tr>\n",
       "      <th>14</th>\n",
       "      <td>180.311</td>\n",
       "      <td>30</td>\n",
       "      <td>0.029</td>\n",
       "      <td>ESP_020146_0950</td>\n",
       "      <td>ithaca</td>\n",
       "    </tr>\n",
       "    <tr>\n",
       "      <th>15</th>\n",
       "      <td>199.362</td>\n",
       "      <td>30</td>\n",
       "      <td>0.110</td>\n",
       "      <td>ESP_020568_0950</td>\n",
       "      <td>ithaca</td>\n",
       "    </tr>\n",
       "  </tbody>\n",
       "</table>\n",
       "</div>"
      ],
      "text/plain": [
       "         Ls  MY  fraction            obsid region_name\n",
       "0   207.751  29     0.144  ESP_011931_0945      ithaca\n",
       "1   214.020  29     0.154  ESP_012063_0945      ithaca\n",
       "2   181.205  29     0.044  ESP_011350_0945      ithaca\n",
       "3   214.641  29     0.156  ESP_012076_0945      ithaca\n",
       "4   242.279  29     0.163  ESP_012643_0945      ithaca\n",
       "5   252.710  29     0.132  ESP_012854_0945      ithaca\n",
       "6   181.249  29     0.019  ESP_011351_0945      ithaca\n",
       "7   183.594  29     0.016  ESP_011404_0945      ithaca\n",
       "8   183.549  29     0.015  ESP_011403_0945      ithaca\n",
       "9   252.907  29     0.150  ESP_012858_0855      ithaca\n",
       "10  189.713  30     0.011  ESP_020357_0950      ithaca\n",
       "11  195.125  30     0.030  ESP_020476_0950      ithaca\n",
       "12  243.829  30     0.218  ESP_021491_0950      ithaca\n",
       "13  209.241  30     0.173  ESP_020779_0950      ithaca\n",
       "14  180.311  30     0.029  ESP_020146_0950      ithaca\n",
       "15  199.362  30     0.110  ESP_020568_0950      ithaca"
      ]
     },
     "execution_count": 50,
     "metadata": {},
     "output_type": "execute_result"
    },
    {
     "data": {
      "application/javascript": [
       "\n",
       "        setTimeout(function() {\n",
       "            var nbb_cell_id = 50;\n",
       "            var nbb_formatted_code = \"calc_coverage(\\\"ithaca\\\", which=\\\"blotches\\\")\";\n",
       "            var nbb_cells = Jupyter.notebook.get_cells();\n",
       "            for (var i = 0; i < nbb_cells.length; ++i) {\n",
       "                if (nbb_cells[i].input_prompt_number == nbb_cell_id) {\n",
       "                    nbb_cells[i].set_text(nbb_formatted_code);\n",
       "                    break;\n",
       "                }\n",
       "            }\n",
       "        }, 500);\n",
       "        "
      ],
      "text/plain": [
       "<IPython.core.display.Javascript object>"
      ]
     },
     "metadata": {},
     "output_type": "display_data"
    }
   ],
   "source": [
    "calc_coverage(\"ithaca\", which=\"blotches\")"
   ]
  },
  {
   "cell_type": "code",
   "execution_count": 40,
   "metadata": {},
   "outputs": [
    {
     "name": "stdout",
     "output_type": "stream",
     "text": [
      "Martian year: 29\n",
      "Calculating obsid ESP_011931_0945\n",
      "Calculating obsid ESP_012063_0945\n",
      "Calculating obsid ESP_011350_0945\n",
      "Calculating obsid ESP_012076_0945\n",
      "Calculating obsid ESP_012643_0945\n",
      "Calculating obsid ESP_012854_0945\n",
      "Calculating obsid ESP_011351_0945\n",
      "Calculating obsid ESP_011404_0945\n",
      "Calculating obsid ESP_011403_0945\n",
      "Calculating obsid ESP_012858_0855\n",
      "Martian year: 30\n",
      "Calculating obsid ESP_020357_0950\n",
      "Calculating obsid ESP_020476_0950\n",
      "Calculating obsid ESP_021491_0950\n",
      "Calculating obsid ESP_020779_0950\n",
      "Calculating obsid ESP_020146_0950\n",
      "Calculating obsid ESP_020568_0950\n"
     ]
    },
    {
     "data": {
      "text/html": [
       "<div>\n",
       "<style scoped>\n",
       "    .dataframe tbody tr th:only-of-type {\n",
       "        vertical-align: middle;\n",
       "    }\n",
       "\n",
       "    .dataframe tbody tr th {\n",
       "        vertical-align: top;\n",
       "    }\n",
       "\n",
       "    .dataframe thead th {\n",
       "        text-align: right;\n",
       "    }\n",
       "</style>\n",
       "<table border=\"1\" class=\"dataframe\">\n",
       "  <thead>\n",
       "    <tr style=\"text-align: right;\">\n",
       "      <th></th>\n",
       "      <th>Ls</th>\n",
       "      <th>MY</th>\n",
       "      <th>fraction</th>\n",
       "      <th>obsid</th>\n",
       "      <th>region_name</th>\n",
       "    </tr>\n",
       "  </thead>\n",
       "  <tbody>\n",
       "    <tr>\n",
       "      <th>0</th>\n",
       "      <td>207.751</td>\n",
       "      <td>29</td>\n",
       "      <td>0.134</td>\n",
       "      <td>ESP_011931_0945</td>\n",
       "      <td>ithaca</td>\n",
       "    </tr>\n",
       "    <tr>\n",
       "      <th>1</th>\n",
       "      <td>214.020</td>\n",
       "      <td>29</td>\n",
       "      <td>0.113</td>\n",
       "      <td>ESP_012063_0945</td>\n",
       "      <td>ithaca</td>\n",
       "    </tr>\n",
       "    <tr>\n",
       "      <th>2</th>\n",
       "      <td>181.205</td>\n",
       "      <td>29</td>\n",
       "      <td>0.060</td>\n",
       "      <td>ESP_011350_0945</td>\n",
       "      <td>ithaca</td>\n",
       "    </tr>\n",
       "    <tr>\n",
       "      <th>3</th>\n",
       "      <td>214.641</td>\n",
       "      <td>29</td>\n",
       "      <td>0.109</td>\n",
       "      <td>ESP_012076_0945</td>\n",
       "      <td>ithaca</td>\n",
       "    </tr>\n",
       "    <tr>\n",
       "      <th>4</th>\n",
       "      <td>242.279</td>\n",
       "      <td>29</td>\n",
       "      <td>0.101</td>\n",
       "      <td>ESP_012643_0945</td>\n",
       "      <td>ithaca</td>\n",
       "    </tr>\n",
       "    <tr>\n",
       "      <th>5</th>\n",
       "      <td>252.710</td>\n",
       "      <td>29</td>\n",
       "      <td>0.141</td>\n",
       "      <td>ESP_012854_0945</td>\n",
       "      <td>ithaca</td>\n",
       "    </tr>\n",
       "    <tr>\n",
       "      <th>6</th>\n",
       "      <td>181.249</td>\n",
       "      <td>29</td>\n",
       "      <td>0.040</td>\n",
       "      <td>ESP_011351_0945</td>\n",
       "      <td>ithaca</td>\n",
       "    </tr>\n",
       "    <tr>\n",
       "      <th>7</th>\n",
       "      <td>183.594</td>\n",
       "      <td>29</td>\n",
       "      <td>0.105</td>\n",
       "      <td>ESP_011404_0945</td>\n",
       "      <td>ithaca</td>\n",
       "    </tr>\n",
       "    <tr>\n",
       "      <th>8</th>\n",
       "      <td>183.549</td>\n",
       "      <td>29</td>\n",
       "      <td>0.080</td>\n",
       "      <td>ESP_011403_0945</td>\n",
       "      <td>ithaca</td>\n",
       "    </tr>\n",
       "    <tr>\n",
       "      <th>9</th>\n",
       "      <td>252.907</td>\n",
       "      <td>29</td>\n",
       "      <td>0.119</td>\n",
       "      <td>ESP_012858_0855</td>\n",
       "      <td>ithaca</td>\n",
       "    </tr>\n",
       "    <tr>\n",
       "      <th>10</th>\n",
       "      <td>189.713</td>\n",
       "      <td>30</td>\n",
       "      <td>0.079</td>\n",
       "      <td>ESP_020357_0950</td>\n",
       "      <td>ithaca</td>\n",
       "    </tr>\n",
       "    <tr>\n",
       "      <th>11</th>\n",
       "      <td>195.125</td>\n",
       "      <td>30</td>\n",
       "      <td>0.236</td>\n",
       "      <td>ESP_020476_0950</td>\n",
       "      <td>ithaca</td>\n",
       "    </tr>\n",
       "    <tr>\n",
       "      <th>12</th>\n",
       "      <td>243.829</td>\n",
       "      <td>30</td>\n",
       "      <td>0.168</td>\n",
       "      <td>ESP_021491_0950</td>\n",
       "      <td>ithaca</td>\n",
       "    </tr>\n",
       "    <tr>\n",
       "      <th>13</th>\n",
       "      <td>209.241</td>\n",
       "      <td>30</td>\n",
       "      <td>0.221</td>\n",
       "      <td>ESP_020779_0950</td>\n",
       "      <td>ithaca</td>\n",
       "    </tr>\n",
       "    <tr>\n",
       "      <th>14</th>\n",
       "      <td>180.311</td>\n",
       "      <td>30</td>\n",
       "      <td>0.094</td>\n",
       "      <td>ESP_020146_0950</td>\n",
       "      <td>ithaca</td>\n",
       "    </tr>\n",
       "    <tr>\n",
       "      <th>15</th>\n",
       "      <td>199.362</td>\n",
       "      <td>30</td>\n",
       "      <td>0.297</td>\n",
       "      <td>ESP_020568_0950</td>\n",
       "      <td>ithaca</td>\n",
       "    </tr>\n",
       "  </tbody>\n",
       "</table>\n",
       "</div>"
      ],
      "text/plain": [
       "         Ls  MY  fraction            obsid region_name\n",
       "0   207.751  29     0.134  ESP_011931_0945      ithaca\n",
       "1   214.020  29     0.113  ESP_012063_0945      ithaca\n",
       "2   181.205  29     0.060  ESP_011350_0945      ithaca\n",
       "3   214.641  29     0.109  ESP_012076_0945      ithaca\n",
       "4   242.279  29     0.101  ESP_012643_0945      ithaca\n",
       "5   252.710  29     0.141  ESP_012854_0945      ithaca\n",
       "6   181.249  29     0.040  ESP_011351_0945      ithaca\n",
       "7   183.594  29     0.105  ESP_011404_0945      ithaca\n",
       "8   183.549  29     0.080  ESP_011403_0945      ithaca\n",
       "9   252.907  29     0.119  ESP_012858_0855      ithaca\n",
       "10  189.713  30     0.079  ESP_020357_0950      ithaca\n",
       "11  195.125  30     0.236  ESP_020476_0950      ithaca\n",
       "12  243.829  30     0.168  ESP_021491_0950      ithaca\n",
       "13  209.241  30     0.221  ESP_020779_0950      ithaca\n",
       "14  180.311  30     0.094  ESP_020146_0950      ithaca\n",
       "15  199.362  30     0.297  ESP_020568_0950      ithaca"
      ]
     },
     "execution_count": 40,
     "metadata": {},
     "output_type": "execute_result"
    },
    {
     "data": {
      "application/javascript": [
       "\n",
       "        setTimeout(function() {\n",
       "            var nbb_cell_id = 40;\n",
       "            var nbb_formatted_code = \"calc_coverage(\\\"ithaca\\\", which=\\\"fans\\\")\";\n",
       "            var nbb_cells = Jupyter.notebook.get_cells();\n",
       "            for (var i = 0; i < nbb_cells.length; ++i) {\n",
       "                if (nbb_cells[i].input_prompt_number == nbb_cell_id) {\n",
       "                    nbb_cells[i].set_text(nbb_formatted_code);\n",
       "                    break;\n",
       "                }\n",
       "            }\n",
       "        }, 500);\n",
       "        "
      ],
      "text/plain": [
       "<IPython.core.display.Javascript object>"
      ]
     },
     "metadata": {},
     "output_type": "display_data"
    }
   ],
   "source": [
    "calc_coverage(\"ithaca\", which=\"fans\")"
   ]
  },
  {
   "cell_type": "code",
   "execution_count": 37,
   "metadata": {},
   "outputs": [
    {
     "name": "stdout",
     "output_type": "stream",
     "text": [
      "Martian year: 29\n",
      "Calculating obsid ESP_011931_0945\n",
      "Calculating obsid ESP_012063_0945\n",
      "Calculating obsid ESP_011350_0945\n",
      "Calculating obsid ESP_012076_0945\n",
      "Calculating obsid ESP_012643_0945\n",
      "Calculating obsid ESP_012854_0945\n",
      "Calculating obsid ESP_011351_0945\n",
      "Calculating obsid ESP_011404_0945\n",
      "Calculating obsid ESP_011403_0945\n",
      "Calculating obsid ESP_012858_0855\n",
      "Martian year: 30\n",
      "Calculating obsid ESP_020357_0950\n",
      "Calculating obsid ESP_020476_0950\n",
      "Calculating obsid ESP_021491_0950\n",
      "Calculating obsid ESP_020779_0950\n",
      "Calculating obsid ESP_020146_0950\n",
      "Calculating obsid ESP_020568_0950\n"
     ]
    },
    {
     "data": {
      "text/html": [
       "<div>\n",
       "<style scoped>\n",
       "    .dataframe tbody tr th:only-of-type {\n",
       "        vertical-align: middle;\n",
       "    }\n",
       "\n",
       "    .dataframe tbody tr th {\n",
       "        vertical-align: top;\n",
       "    }\n",
       "\n",
       "    .dataframe thead th {\n",
       "        text-align: right;\n",
       "    }\n",
       "</style>\n",
       "<table border=\"1\" class=\"dataframe\">\n",
       "  <thead>\n",
       "    <tr style=\"text-align: right;\">\n",
       "      <th></th>\n",
       "      <th>Ls</th>\n",
       "      <th>MY</th>\n",
       "      <th>fraction</th>\n",
       "      <th>obsid</th>\n",
       "      <th>region_name</th>\n",
       "    </tr>\n",
       "  </thead>\n",
       "  <tbody>\n",
       "    <tr>\n",
       "      <th>0</th>\n",
       "      <td>207.751</td>\n",
       "      <td>29</td>\n",
       "      <td>0.225</td>\n",
       "      <td>ESP_011931_0945</td>\n",
       "      <td>ithaca</td>\n",
       "    </tr>\n",
       "    <tr>\n",
       "      <th>1</th>\n",
       "      <td>214.020</td>\n",
       "      <td>29</td>\n",
       "      <td>0.212</td>\n",
       "      <td>ESP_012063_0945</td>\n",
       "      <td>ithaca</td>\n",
       "    </tr>\n",
       "    <tr>\n",
       "      <th>2</th>\n",
       "      <td>181.205</td>\n",
       "      <td>29</td>\n",
       "      <td>0.091</td>\n",
       "      <td>ESP_011350_0945</td>\n",
       "      <td>ithaca</td>\n",
       "    </tr>\n",
       "    <tr>\n",
       "      <th>3</th>\n",
       "      <td>214.641</td>\n",
       "      <td>29</td>\n",
       "      <td>0.210</td>\n",
       "      <td>ESP_012076_0945</td>\n",
       "      <td>ithaca</td>\n",
       "    </tr>\n",
       "    <tr>\n",
       "      <th>4</th>\n",
       "      <td>242.279</td>\n",
       "      <td>29</td>\n",
       "      <td>0.212</td>\n",
       "      <td>ESP_012643_0945</td>\n",
       "      <td>ithaca</td>\n",
       "    </tr>\n",
       "    <tr>\n",
       "      <th>5</th>\n",
       "      <td>252.710</td>\n",
       "      <td>29</td>\n",
       "      <td>0.229</td>\n",
       "      <td>ESP_012854_0945</td>\n",
       "      <td>ithaca</td>\n",
       "    </tr>\n",
       "    <tr>\n",
       "      <th>6</th>\n",
       "      <td>181.249</td>\n",
       "      <td>29</td>\n",
       "      <td>0.056</td>\n",
       "      <td>ESP_011351_0945</td>\n",
       "      <td>ithaca</td>\n",
       "    </tr>\n",
       "    <tr>\n",
       "      <th>7</th>\n",
       "      <td>183.594</td>\n",
       "      <td>29</td>\n",
       "      <td>0.116</td>\n",
       "      <td>ESP_011404_0945</td>\n",
       "      <td>ithaca</td>\n",
       "    </tr>\n",
       "    <tr>\n",
       "      <th>8</th>\n",
       "      <td>183.549</td>\n",
       "      <td>29</td>\n",
       "      <td>0.088</td>\n",
       "      <td>ESP_011403_0945</td>\n",
       "      <td>ithaca</td>\n",
       "    </tr>\n",
       "    <tr>\n",
       "      <th>9</th>\n",
       "      <td>252.907</td>\n",
       "      <td>29</td>\n",
       "      <td>0.225</td>\n",
       "      <td>ESP_012858_0855</td>\n",
       "      <td>ithaca</td>\n",
       "    </tr>\n",
       "    <tr>\n",
       "      <th>10</th>\n",
       "      <td>189.713</td>\n",
       "      <td>30</td>\n",
       "      <td>0.088</td>\n",
       "      <td>ESP_020357_0950</td>\n",
       "      <td>ithaca</td>\n",
       "    </tr>\n",
       "    <tr>\n",
       "      <th>11</th>\n",
       "      <td>195.125</td>\n",
       "      <td>30</td>\n",
       "      <td>0.248</td>\n",
       "      <td>ESP_020476_0950</td>\n",
       "      <td>ithaca</td>\n",
       "    </tr>\n",
       "    <tr>\n",
       "      <th>12</th>\n",
       "      <td>243.829</td>\n",
       "      <td>30</td>\n",
       "      <td>0.316</td>\n",
       "      <td>ESP_021491_0950</td>\n",
       "      <td>ithaca</td>\n",
       "    </tr>\n",
       "    <tr>\n",
       "      <th>13</th>\n",
       "      <td>209.241</td>\n",
       "      <td>30</td>\n",
       "      <td>0.324</td>\n",
       "      <td>ESP_020779_0950</td>\n",
       "      <td>ithaca</td>\n",
       "    </tr>\n",
       "    <tr>\n",
       "      <th>14</th>\n",
       "      <td>180.311</td>\n",
       "      <td>30</td>\n",
       "      <td>0.119</td>\n",
       "      <td>ESP_020146_0950</td>\n",
       "      <td>ithaca</td>\n",
       "    </tr>\n",
       "    <tr>\n",
       "      <th>15</th>\n",
       "      <td>199.362</td>\n",
       "      <td>30</td>\n",
       "      <td>0.355</td>\n",
       "      <td>ESP_020568_0950</td>\n",
       "      <td>ithaca</td>\n",
       "    </tr>\n",
       "  </tbody>\n",
       "</table>\n",
       "</div>"
      ],
      "text/plain": [
       "         Ls  MY  fraction            obsid region_name\n",
       "0   207.751  29     0.225  ESP_011931_0945      ithaca\n",
       "1   214.020  29     0.212  ESP_012063_0945      ithaca\n",
       "2   181.205  29     0.091  ESP_011350_0945      ithaca\n",
       "3   214.641  29     0.210  ESP_012076_0945      ithaca\n",
       "4   242.279  29     0.212  ESP_012643_0945      ithaca\n",
       "5   252.710  29     0.229  ESP_012854_0945      ithaca\n",
       "6   181.249  29     0.056  ESP_011351_0945      ithaca\n",
       "7   183.594  29     0.116  ESP_011404_0945      ithaca\n",
       "8   183.549  29     0.088  ESP_011403_0945      ithaca\n",
       "9   252.907  29     0.225  ESP_012858_0855      ithaca\n",
       "10  189.713  30     0.088  ESP_020357_0950      ithaca\n",
       "11  195.125  30     0.248  ESP_020476_0950      ithaca\n",
       "12  243.829  30     0.316  ESP_021491_0950      ithaca\n",
       "13  209.241  30     0.324  ESP_020779_0950      ithaca\n",
       "14  180.311  30     0.119  ESP_020146_0950      ithaca\n",
       "15  199.362  30     0.355  ESP_020568_0950      ithaca"
      ]
     },
     "execution_count": 37,
     "metadata": {},
     "output_type": "execute_result"
    },
    {
     "data": {
      "application/javascript": [
       "\n",
       "        setTimeout(function() {\n",
       "            var nbb_cell_id = 37;\n",
       "            var nbb_formatted_code = \"calc_coverage(\\\"ithaca\\\")\";\n",
       "            var nbb_cells = Jupyter.notebook.get_cells();\n",
       "            for (var i = 0; i < nbb_cells.length; ++i) {\n",
       "                if (nbb_cells[i].input_prompt_number == nbb_cell_id) {\n",
       "                    nbb_cells[i].set_text(nbb_formatted_code);\n",
       "                    break;\n",
       "                }\n",
       "            }\n",
       "        }, 500);\n",
       "        "
      ],
      "text/plain": [
       "<IPython.core.display.Javascript object>"
      ]
     },
     "metadata": {},
     "output_type": "display_data"
    }
   ],
   "source": [
    "calc_coverage(\"ithaca\")"
   ]
  },
  {
   "cell_type": "code",
   "execution_count": 10,
   "metadata": {},
   "outputs": [
    {
     "data": {
      "text/plain": [
       "'both'"
      ]
     },
     "execution_count": 10,
     "metadata": {},
     "output_type": "execute_result"
    },
    {
     "data": {
      "application/javascript": [
       "\n",
       "        setTimeout(function() {\n",
       "            var nbb_cell_id = 10;\n",
       "            var nbb_formatted_code = \"cc.which\";\n",
       "            var nbb_cells = Jupyter.notebook.get_cells();\n",
       "            for (var i = 0; i < nbb_cells.length; ++i) {\n",
       "                if (nbb_cells[i].input_prompt_number == nbb_cell_id) {\n",
       "                    nbb_cells[i].set_text(nbb_formatted_code);\n",
       "                    break;\n",
       "                }\n",
       "            }\n",
       "        }, 500);\n",
       "        "
      ],
      "text/plain": [
       "<IPython.core.display.Javascript object>"
      ]
     },
     "metadata": {},
     "output_type": "display_data"
    }
   ],
   "source": [
    "cc.which"
   ]
  },
  {
   "cell_type": "code",
   "execution_count": 11,
   "metadata": {},
   "outputs": [
    {
     "data": {
      "application/javascript": [
       "\n",
       "        setTimeout(function() {\n",
       "            var nbb_cell_id = 11;\n",
       "            var nbb_formatted_code = \"cc.obsid = \\\"ESP_012079_0945\\\"\";\n",
       "            var nbb_cells = Jupyter.notebook.get_cells();\n",
       "            for (var i = 0; i < nbb_cells.length; ++i) {\n",
       "                if (nbb_cells[i].input_prompt_number == nbb_cell_id) {\n",
       "                    nbb_cells[i].set_text(nbb_formatted_code);\n",
       "                    break;\n",
       "                }\n",
       "            }\n",
       "        }, 500);\n",
       "        "
      ],
      "text/plain": [
       "<IPython.core.display.Javascript object>"
      ]
     },
     "metadata": {},
     "output_type": "display_data"
    }
   ],
   "source": [
    "cc.obsid = \"ESP_012079_0945\""
   ]
  },
  {
   "cell_type": "code",
   "execution_count": 131,
   "metadata": {},
   "outputs": [
    {
     "data": {
      "text/plain": [
       "0.115"
      ]
     },
     "execution_count": 131,
     "metadata": {},
     "output_type": "execute_result"
    }
   ],
   "source": [
    "cc.covered_fraction"
   ]
  },
  {
   "cell_type": "code",
   "execution_count": 132,
   "metadata": {},
   "outputs": [],
   "source": [
    "cc.which = \"fans\""
   ]
  },
  {
   "cell_type": "code",
   "execution_count": 133,
   "metadata": {},
   "outputs": [
    {
     "data": {
      "text/plain": [
       "0.088"
      ]
     },
     "execution_count": 133,
     "metadata": {},
     "output_type": "execute_result"
    }
   ],
   "source": [
    "cc.covered_fraction"
   ]
  },
  {
   "cell_type": "code",
   "execution_count": 134,
   "metadata": {},
   "outputs": [],
   "source": [
    "cc.which = \"blotches\""
   ]
  },
  {
   "cell_type": "code",
   "execution_count": 135,
   "metadata": {},
   "outputs": [
    {
     "data": {
      "text/plain": [
       "0.037"
      ]
     },
     "execution_count": 135,
     "metadata": {},
     "output_type": "execute_result"
    }
   ],
   "source": [
    "cc.covered_fraction"
   ]
  },
  {
   "cell_type": "markdown",
   "metadata": {},
   "source": [
    "There's also the union itself and it's area, in case you need it:"
   ]
  },
  {
   "cell_type": "code",
   "execution_count": 136,
   "metadata": {},
   "outputs": [
    {
     "data": {
      "text/plain": [
       "8091883.081637692"
      ]
     },
     "execution_count": 136,
     "metadata": {},
     "output_type": "execute_result"
    }
   ],
   "source": [
    "cc.union.area"
   ]
  },
  {
   "cell_type": "markdown",
   "metadata": {},
   "source": [
    "And the Ls value for the current obsid:"
   ]
  },
  {
   "cell_type": "code",
   "execution_count": 137,
   "metadata": {},
   "outputs": [
    {
     "data": {
      "text/plain": [
       "214.785"
      ]
     },
     "execution_count": 137,
     "metadata": {},
     "output_type": "execute_result"
    }
   ],
   "source": [
    "cc.Ls"
   ]
  },
  {
   "cell_type": "markdown",
   "metadata": {},
   "source": [
    "# Region of Interest names\n",
    "\n",
    "I added also a function to give you the list of obsids for a region name."
   ]
  },
  {
   "cell_type": "code",
   "execution_count": 15,
   "metadata": {},
   "outputs": [
    {
     "data": {
      "text/plain": [
       "124    ESP_011931_0945\n",
       "125    ESP_012063_0945\n",
       "126    ESP_020357_0950\n",
       "127    ESP_011350_0945\n",
       "128    ESP_020476_0950\n",
       "129    ESP_021491_0950\n",
       "130    ESP_020779_0950\n",
       "131    ESP_012076_0945\n",
       "132    ESP_012643_0945\n",
       "133    ESP_020146_0950\n",
       "134    ESP_012854_0945\n",
       "135    ESP_011351_0945\n",
       "136    ESP_011404_0945\n",
       "137    ESP_011403_0945\n",
       "138    ESP_020568_0950\n",
       "139    ESP_012858_0855\n",
       "140    PSP_003822_0945\n",
       "141    PSP_002675_0945\n",
       "142    PSP_003466_0945\n",
       "143    PSP_004033_0945\n",
       "144    PSP_003309_0945\n",
       "145    PSP_003453_0945\n",
       "146    PSP_003308_0945\n",
       "147    PSP_003677_0945\n",
       "148    PSP_003310_0855\n",
       "149    PSP_003176_0945\n",
       "150    PSP_003796_0950\n",
       "151    PSP_002622_0945\n",
       "152    PSP_003730_0945\n",
       "153    PSP_003193_0850\n",
       "154    PSP_003756_0945\n",
       "155    PSP_003954_0945\n",
       "156    PSP_004178_0945\n",
       "157    PSP_004891_0945\n",
       "158    PSP_004666_0945\n",
       "159    ESP_029548_0945\n",
       "160    ESP_038040_0950\n",
       "161    ESP_038462_0950\n",
       "162    ESP_037842_0950\n",
       "163    ESP_039359_0950\n",
       "164    ESP_040216_0950\n",
       "165    ESP_040189_0950\n",
       "Name: obsid, dtype: object"
      ]
     },
     "execution_count": 15,
     "metadata": {},
     "output_type": "execute_result"
    },
    {
     "data": {
      "application/javascript": [
       "\n",
       "        setTimeout(function() {\n",
       "            var nbb_cell_id = 15;\n",
       "            var nbb_formatted_code = \"obsids = get_obsids_for_region(\\\"ithaca\\\")\\nobsids\";\n",
       "            var nbb_cells = Jupyter.notebook.get_cells();\n",
       "            for (var i = 0; i < nbb_cells.length; ++i) {\n",
       "                if (nbb_cells[i].input_prompt_number == nbb_cell_id) {\n",
       "                    nbb_cells[i].set_text(nbb_formatted_code);\n",
       "                    break;\n",
       "                }\n",
       "            }\n",
       "        }, 500);\n",
       "        "
      ],
      "text/plain": [
       "<IPython.core.display.Javascript object>"
      ]
     },
     "metadata": {},
     "output_type": "display_data"
    }
   ],
   "source": [
    "obsids = get_obsids_for_region(\"ithaca\")\n",
    "obsids"
   ]
  },
  {
   "cell_type": "markdown",
   "metadata": {},
   "source": [
    "## Restrict to a martian year\n",
    "\n",
    "by using the MY parameter, you can restrict the obsid list to a specific Martian Year:"
   ]
  },
  {
   "cell_type": "code",
   "execution_count": 16,
   "metadata": {},
   "outputs": [
    {
     "data": {
      "text/plain": [
       "124    ESP_011931_0945\n",
       "125    ESP_012063_0945\n",
       "127    ESP_011350_0945\n",
       "131    ESP_012076_0945\n",
       "132    ESP_012643_0945\n",
       "134    ESP_012854_0945\n",
       "135    ESP_011351_0945\n",
       "136    ESP_011404_0945\n",
       "137    ESP_011403_0945\n",
       "139    ESP_012858_0855\n",
       "Name: obsid, dtype: object"
      ]
     },
     "execution_count": 16,
     "metadata": {},
     "output_type": "execute_result"
    },
    {
     "data": {
      "application/javascript": [
       "\n",
       "        setTimeout(function() {\n",
       "            var nbb_cell_id = 16;\n",
       "            var nbb_formatted_code = \"get_obsids_for_region(\\\"ithaca\\\", 29)\";\n",
       "            var nbb_cells = Jupyter.notebook.get_cells();\n",
       "            for (var i = 0; i < nbb_cells.length; ++i) {\n",
       "                if (nbb_cells[i].input_prompt_number == nbb_cell_id) {\n",
       "                    nbb_cells[i].set_text(nbb_formatted_code);\n",
       "                    break;\n",
       "                }\n",
       "            }\n",
       "        }, 500);\n",
       "        "
      ],
      "text/plain": [
       "<IPython.core.display.Javascript object>"
      ]
     },
     "metadata": {},
     "output_type": "display_data"
    }
   ],
   "source": [
    "get_obsids_for_region(\"ithaca\", 29)"
   ]
  },
  {
   "cell_type": "code",
   "execution_count": 17,
   "metadata": {},
   "outputs": [
    {
     "data": {
      "text/plain": [
       "array(['Macclesfield', 'unknown', 'Starburst', 'Manhattan_Classic',\n",
       "       'Wellington', 'Albany', 'Bilbao', 'Ithaca', 'Portsmouth', 'Pisaq',\n",
       "       'Manhattan_Frontinella', 'BuenosAires', 'Inca_City_Ridges',\n",
       "       'Inca_City', 'Giza', 'Potsdam', 'Troy', 'Oswego_Edge', 'Halifax',\n",
       "       'Caterpillar', 'Rochester', 'Manhattan_Cracks', 'Schenectady',\n",
       "       'Binghamton', 'Atka', 'Cortland', 'Geneseo', 'Manhattan2'],\n",
       "      dtype=object)"
      ]
     },
     "execution_count": 17,
     "metadata": {},
     "output_type": "execute_result"
    },
    {
     "data": {
      "application/javascript": [
       "\n",
       "        setTimeout(function() {\n",
       "            var nbb_cell_id = 17;\n",
       "            var nbb_formatted_code = \"get_region_names().roi_name.unique()\";\n",
       "            var nbb_cells = Jupyter.notebook.get_cells();\n",
       "            for (var i = 0; i < nbb_cells.length; ++i) {\n",
       "                if (nbb_cells[i].input_prompt_number == nbb_cell_id) {\n",
       "                    nbb_cells[i].set_text(nbb_formatted_code);\n",
       "                    break;\n",
       "                }\n",
       "            }\n",
       "        }, 500);\n",
       "        "
      ],
      "text/plain": [
       "<IPython.core.display.Javascript object>"
      ]
     },
     "metadata": {},
     "output_type": "display_data"
    }
   ],
   "source": [
    "get_region_names().roi_name.unique()"
   ]
  },
  {
   "cell_type": "code",
   "execution_count": 18,
   "metadata": {},
   "outputs": [
    {
     "name": "stdout",
     "output_type": "stream",
     "text": [
      "Martian year: 29\n",
      "Calculating obsid ESP_011931_0945\n",
      "Calculating obsid ESP_012063_0945\n",
      "Calculating obsid ESP_011350_0945\n",
      "Calculating obsid ESP_012076_0945\n",
      "Calculating obsid ESP_012643_0945\n",
      "Calculating obsid ESP_012854_0945\n",
      "Calculating obsid ESP_011351_0945\n",
      "Calculating obsid ESP_011404_0945\n",
      "Calculating obsid ESP_011403_0945\n",
      "Calculating obsid ESP_012858_0855\n",
      "Martian year: 30\n",
      "Calculating obsid ESP_020357_0950\n",
      "Calculating obsid ESP_020476_0950\n",
      "Calculating obsid ESP_021491_0950\n",
      "Calculating obsid ESP_020779_0950\n",
      "Calculating obsid ESP_020146_0950\n",
      "Calculating obsid ESP_020568_0950\n"
     ]
    },
    {
     "data": {
      "application/javascript": [
       "\n",
       "        setTimeout(function() {\n",
       "            var nbb_cell_id = 18;\n",
       "            var nbb_formatted_code = \"bucket = []\\nroi = \\\"ithaca\\\"\\nfor MY in [29, 30]:\\n    print(f\\\"Martian year: {MY}\\\")\\n    for obsid in get_obsids_for_region(roi, MY):\\n        print(f\\\"Calculating obsid {obsid}\\\")\\n        d = {}\\n        d[\\\"obsid\\\"] = obsid\\n        d[\\\"MY\\\"] = MY\\n        cc.obsid = obsid\\n        d[\\\"fraction\\\"] = cc.covered_fraction\\n        d[\\\"Ls\\\"] = cc.Ls\\n        bucket.append(d)\";\n",
       "            var nbb_cells = Jupyter.notebook.get_cells();\n",
       "            for (var i = 0; i < nbb_cells.length; ++i) {\n",
       "                if (nbb_cells[i].input_prompt_number == nbb_cell_id) {\n",
       "                    nbb_cells[i].set_text(nbb_formatted_code);\n",
       "                    break;\n",
       "                }\n",
       "            }\n",
       "        }, 500);\n",
       "        "
      ],
      "text/plain": [
       "<IPython.core.display.Javascript object>"
      ]
     },
     "metadata": {},
     "output_type": "display_data"
    }
   ],
   "source": [
    "bucket = []\n",
    "roi = \"ithaca\"\n",
    "for MY in [29, 30]:\n",
    "    print(f\"Martian year: {MY}\")\n",
    "    for obsid in get_obsids_for_region(roi, MY):\n",
    "        print(f\"Calculating obsid {obsid}\")\n",
    "        d = {}\n",
    "        d[\"obsid\"] = obsid\n",
    "        d[\"MY\"] = MY\n",
    "        cc.obsid = obsid\n",
    "        d[\"fraction\"] = cc.covered_fraction\n",
    "        d[\"Ls\"] = cc.Ls\n",
    "        bucket.append(d)"
   ]
  },
  {
   "cell_type": "code",
   "execution_count": 21,
   "metadata": {},
   "outputs": [
    {
     "data": {
      "application/javascript": [
       "\n",
       "        setTimeout(function() {\n",
       "            var nbb_cell_id = 21;\n",
       "            var nbb_formatted_code = \"results = pd.DataFrame(bucket)\";\n",
       "            var nbb_cells = Jupyter.notebook.get_cells();\n",
       "            for (var i = 0; i < nbb_cells.length; ++i) {\n",
       "                if (nbb_cells[i].input_prompt_number == nbb_cell_id) {\n",
       "                    nbb_cells[i].set_text(nbb_formatted_code);\n",
       "                    break;\n",
       "                }\n",
       "            }\n",
       "        }, 500);\n",
       "        "
      ],
      "text/plain": [
       "<IPython.core.display.Javascript object>"
      ]
     },
     "metadata": {},
     "output_type": "display_data"
    }
   ],
   "source": [
    "results = pd.DataFrame(bucket)"
   ]
  },
  {
   "cell_type": "code",
   "execution_count": 22,
   "metadata": {},
   "outputs": [
    {
     "data": {
      "application/javascript": [
       "\n",
       "        setTimeout(function() {\n",
       "            var nbb_cell_id = 22;\n",
       "            var nbb_formatted_code = \"results[\\\"region_name\\\"] = \\\"given_region\\\"\";\n",
       "            var nbb_cells = Jupyter.notebook.get_cells();\n",
       "            for (var i = 0; i < nbb_cells.length; ++i) {\n",
       "                if (nbb_cells[i].input_prompt_number == nbb_cell_id) {\n",
       "                    nbb_cells[i].set_text(nbb_formatted_code);\n",
       "                    break;\n",
       "                }\n",
       "            }\n",
       "        }, 500);\n",
       "        "
      ],
      "text/plain": [
       "<IPython.core.display.Javascript object>"
      ]
     },
     "metadata": {},
     "output_type": "display_data"
    }
   ],
   "source": [
    "results[\"region_name\"] = \"given_region\""
   ]
  },
  {
   "cell_type": "code",
   "execution_count": 33,
   "metadata": {},
   "outputs": [
    {
     "data": {
      "text/html": [
       "<div>\n",
       "<style scoped>\n",
       "    .dataframe tbody tr th:only-of-type {\n",
       "        vertical-align: middle;\n",
       "    }\n",
       "\n",
       "    .dataframe tbody tr th {\n",
       "        vertical-align: top;\n",
       "    }\n",
       "\n",
       "    .dataframe thead th {\n",
       "        text-align: right;\n",
       "    }\n",
       "</style>\n",
       "<table border=\"1\" class=\"dataframe\">\n",
       "  <thead>\n",
       "    <tr style=\"text-align: right;\">\n",
       "      <th></th>\n",
       "      <th>Ls</th>\n",
       "      <th>MY</th>\n",
       "      <th>fraction</th>\n",
       "      <th>obsid</th>\n",
       "      <th>region_name</th>\n",
       "    </tr>\n",
       "  </thead>\n",
       "  <tbody>\n",
       "    <tr>\n",
       "      <th>0</th>\n",
       "      <td>207.751</td>\n",
       "      <td>29</td>\n",
       "      <td>0.225</td>\n",
       "      <td>ESP_011931_0945</td>\n",
       "      <td>given_region</td>\n",
       "    </tr>\n",
       "    <tr>\n",
       "      <th>1</th>\n",
       "      <td>214.020</td>\n",
       "      <td>29</td>\n",
       "      <td>0.212</td>\n",
       "      <td>ESP_012063_0945</td>\n",
       "      <td>given_region</td>\n",
       "    </tr>\n",
       "    <tr>\n",
       "      <th>2</th>\n",
       "      <td>181.205</td>\n",
       "      <td>29</td>\n",
       "      <td>0.091</td>\n",
       "      <td>ESP_011350_0945</td>\n",
       "      <td>given_region</td>\n",
       "    </tr>\n",
       "    <tr>\n",
       "      <th>3</th>\n",
       "      <td>214.641</td>\n",
       "      <td>29</td>\n",
       "      <td>0.210</td>\n",
       "      <td>ESP_012076_0945</td>\n",
       "      <td>given_region</td>\n",
       "    </tr>\n",
       "    <tr>\n",
       "      <th>4</th>\n",
       "      <td>242.279</td>\n",
       "      <td>29</td>\n",
       "      <td>0.212</td>\n",
       "      <td>ESP_012643_0945</td>\n",
       "      <td>given_region</td>\n",
       "    </tr>\n",
       "    <tr>\n",
       "      <th>5</th>\n",
       "      <td>252.710</td>\n",
       "      <td>29</td>\n",
       "      <td>0.229</td>\n",
       "      <td>ESP_012854_0945</td>\n",
       "      <td>given_region</td>\n",
       "    </tr>\n",
       "    <tr>\n",
       "      <th>6</th>\n",
       "      <td>181.249</td>\n",
       "      <td>29</td>\n",
       "      <td>0.056</td>\n",
       "      <td>ESP_011351_0945</td>\n",
       "      <td>given_region</td>\n",
       "    </tr>\n",
       "    <tr>\n",
       "      <th>7</th>\n",
       "      <td>183.594</td>\n",
       "      <td>29</td>\n",
       "      <td>0.116</td>\n",
       "      <td>ESP_011404_0945</td>\n",
       "      <td>given_region</td>\n",
       "    </tr>\n",
       "    <tr>\n",
       "      <th>8</th>\n",
       "      <td>183.549</td>\n",
       "      <td>29</td>\n",
       "      <td>0.088</td>\n",
       "      <td>ESP_011403_0945</td>\n",
       "      <td>given_region</td>\n",
       "    </tr>\n",
       "    <tr>\n",
       "      <th>9</th>\n",
       "      <td>252.907</td>\n",
       "      <td>29</td>\n",
       "      <td>0.225</td>\n",
       "      <td>ESP_012858_0855</td>\n",
       "      <td>given_region</td>\n",
       "    </tr>\n",
       "    <tr>\n",
       "      <th>10</th>\n",
       "      <td>189.713</td>\n",
       "      <td>30</td>\n",
       "      <td>0.088</td>\n",
       "      <td>ESP_020357_0950</td>\n",
       "      <td>given_region</td>\n",
       "    </tr>\n",
       "    <tr>\n",
       "      <th>11</th>\n",
       "      <td>195.125</td>\n",
       "      <td>30</td>\n",
       "      <td>0.248</td>\n",
       "      <td>ESP_020476_0950</td>\n",
       "      <td>given_region</td>\n",
       "    </tr>\n",
       "    <tr>\n",
       "      <th>12</th>\n",
       "      <td>243.829</td>\n",
       "      <td>30</td>\n",
       "      <td>0.316</td>\n",
       "      <td>ESP_021491_0950</td>\n",
       "      <td>given_region</td>\n",
       "    </tr>\n",
       "    <tr>\n",
       "      <th>13</th>\n",
       "      <td>209.241</td>\n",
       "      <td>30</td>\n",
       "      <td>0.324</td>\n",
       "      <td>ESP_020779_0950</td>\n",
       "      <td>given_region</td>\n",
       "    </tr>\n",
       "    <tr>\n",
       "      <th>14</th>\n",
       "      <td>180.311</td>\n",
       "      <td>30</td>\n",
       "      <td>0.119</td>\n",
       "      <td>ESP_020146_0950</td>\n",
       "      <td>given_region</td>\n",
       "    </tr>\n",
       "    <tr>\n",
       "      <th>15</th>\n",
       "      <td>199.362</td>\n",
       "      <td>30</td>\n",
       "      <td>0.355</td>\n",
       "      <td>ESP_020568_0950</td>\n",
       "      <td>given_region</td>\n",
       "    </tr>\n",
       "  </tbody>\n",
       "</table>\n",
       "</div>"
      ],
      "text/plain": [
       "         Ls  MY  fraction            obsid   region_name\n",
       "0   207.751  29     0.225  ESP_011931_0945  given_region\n",
       "1   214.020  29     0.212  ESP_012063_0945  given_region\n",
       "2   181.205  29     0.091  ESP_011350_0945  given_region\n",
       "3   214.641  29     0.210  ESP_012076_0945  given_region\n",
       "4   242.279  29     0.212  ESP_012643_0945  given_region\n",
       "5   252.710  29     0.229  ESP_012854_0945  given_region\n",
       "6   181.249  29     0.056  ESP_011351_0945  given_region\n",
       "7   183.594  29     0.116  ESP_011404_0945  given_region\n",
       "8   183.549  29     0.088  ESP_011403_0945  given_region\n",
       "9   252.907  29     0.225  ESP_012858_0855  given_region\n",
       "10  189.713  30     0.088  ESP_020357_0950  given_region\n",
       "11  195.125  30     0.248  ESP_020476_0950  given_region\n",
       "12  243.829  30     0.316  ESP_021491_0950  given_region\n",
       "13  209.241  30     0.324  ESP_020779_0950  given_region\n",
       "14  180.311  30     0.119  ESP_020146_0950  given_region\n",
       "15  199.362  30     0.355  ESP_020568_0950  given_region"
      ]
     },
     "execution_count": 33,
     "metadata": {},
     "output_type": "execute_result"
    },
    {
     "data": {
      "application/javascript": [
       "\n",
       "        setTimeout(function() {\n",
       "            var nbb_cell_id = 33;\n",
       "            var nbb_formatted_code = \"results\";\n",
       "            var nbb_cells = Jupyter.notebook.get_cells();\n",
       "            for (var i = 0; i < nbb_cells.length; ++i) {\n",
       "                if (nbb_cells[i].input_prompt_number == nbb_cell_id) {\n",
       "                    nbb_cells[i].set_text(nbb_formatted_code);\n",
       "                    break;\n",
       "                }\n",
       "            }\n",
       "        }, 500);\n",
       "        "
      ],
      "text/plain": [
       "<IPython.core.display.Javascript object>"
      ]
     },
     "metadata": {},
     "output_type": "display_data"
    }
   ],
   "source": [
    "results"
   ]
  },
  {
   "cell_type": "code",
   "execution_count": 108,
   "metadata": {},
   "outputs": [],
   "source": [
    "import hvplot\n",
    "import hvplot.pandas\n",
    "from bokeh.resources import INLINE"
   ]
  },
  {
   "cell_type": "code",
   "execution_count": 109,
   "metadata": {},
   "outputs": [
    {
     "data": {
      "text/plain": [
       "[170, 180, 190, 200, 210, 220, 230, 240, 250, 260, 270, 280, 290, 300]"
      ]
     },
     "execution_count": 109,
     "metadata": {},
     "output_type": "execute_result"
    }
   ],
   "source": [
    "# fix the xticks for better plot comparison\n",
    "xticks = list(range(170, 301, 10))\n",
    "xticks"
   ]
  },
  {
   "cell_type": "code",
   "execution_count": 110,
   "metadata": {},
   "outputs": [],
   "source": [
    "savepath = Path(\n",
    "    \"/Users/klay6683/Dropbox/data/planet4/p4_analysis/coverage_plots\"\n",
    ")"
   ]
  },
  {
   "cell_type": "code",
   "execution_count": 111,
   "metadata": {},
   "outputs": [],
   "source": [
    "plot = results.hvplot(\n",
    "    x=\"Ls\",\n",
    "    y=\"fraction\",\n",
    "    by=\"MY\",\n",
    "    kind=\"scatter\",\n",
    "    title=roi,\n",
    "    xlim=(170, 300),\n",
    "    ylim=(-0.05, 0.5),\n",
    "    grid=True,\n",
    "    xticks=xticks,\n",
    "    width=800,\n",
    "    height=400,\n",
    ")\n",
    "# hvplot.show(plot)\n",
    "for ext in [\"png\", \"html\"]:\n",
    "    hvplot.save(plot, str(savepath / f\"{roi}_coverage.{ext}\"), resources=INLINE)"
   ]
  },
  {
   "cell_type": "code",
   "execution_count": null,
   "metadata": {},
   "outputs": [],
   "source": []
  },
  {
   "cell_type": "code",
   "execution_count": null,
   "metadata": {},
   "outputs": [],
   "source": []
  },
  {
   "cell_type": "code",
   "execution_count": null,
   "metadata": {},
   "outputs": [],
   "source": []
  },
  {
   "cell_type": "code",
   "execution_count": 25,
   "metadata": {},
   "outputs": [],
   "source": [
    "metadata = get_metadata()"
   ]
  },
  {
   "cell_type": "code",
   "execution_count": 26,
   "metadata": {},
   "outputs": [
    {
     "data": {
      "text/plain": [
       "Index(['OBSERVATION_ID', 'IMAGE_CENTER_LATITUDE', 'IMAGE_CENTER_LONGITUDE',\n",
       "       'SOLAR_LONGITUDE', 'START_TIME', 'map_scale', 'north_azimuth',\n",
       "       '# of tiles'],\n",
       "      dtype='object')"
      ]
     },
     "execution_count": 26,
     "metadata": {},
     "output_type": "execute_result"
    }
   ],
   "source": [
    "metadata.columns"
   ]
  },
  {
   "cell_type": "markdown",
   "metadata": {},
   "source": [
    "# Making our Plot"
   ]
  },
  {
   "cell_type": "code",
   "execution_count": 181,
   "metadata": {},
   "outputs": [
    {
     "data": {
      "application/javascript": [
       "\n",
       "        setTimeout(function() {\n",
       "            var nbb_cell_id = 181;\n",
       "            var nbb_formatted_code = \"import numpy as np\\nimport matplotlib.pyplot as plt\\nimport pandas as pd\\n%matplotlib inline\";\n",
       "            var nbb_cells = Jupyter.notebook.get_cells();\n",
       "            for (var i = 0; i < nbb_cells.length; ++i) {\n",
       "                if (nbb_cells[i].input_prompt_number == nbb_cell_id) {\n",
       "                    nbb_cells[i].set_text(nbb_formatted_code);\n",
       "                    break;\n",
       "                }\n",
       "            }\n",
       "        }, 500);\n",
       "        "
      ],
      "text/plain": [
       "<IPython.core.display.Javascript object>"
      ]
     },
     "metadata": {},
     "output_type": "display_data"
    }
   ],
   "source": [
    "import numpy as np\n",
    "import matplotlib.pyplot as plt\n",
    "import pandas as pd\n",
    "%matplotlib inline"
   ]
  },
  {
   "cell_type": "code",
   "execution_count": 145,
   "metadata": {},
   "outputs": [
    {
     "data": {
      "application/javascript": [
       "\n",
       "        setTimeout(function() {\n",
       "            var nbb_cell_id = 145;\n",
       "            var nbb_formatted_code = \"# make sure our csv works\\np_data = pd.read_csv(\\\"final_df.csv\\\")\";\n",
       "            var nbb_cells = Jupyter.notebook.get_cells();\n",
       "            for (var i = 0; i < nbb_cells.length; ++i) {\n",
       "                if (nbb_cells[i].input_prompt_number == nbb_cell_id) {\n",
       "                    nbb_cells[i].set_text(nbb_formatted_code);\n",
       "                    break;\n",
       "                }\n",
       "            }\n",
       "        }, 500);\n",
       "        "
      ],
      "text/plain": [
       "<IPython.core.display.Javascript object>"
      ]
     },
     "metadata": {},
     "output_type": "display_data"
    }
   ],
   "source": [
    "# make sure our csv works\n",
    "p_data = pd.read_csv(\"final_df.csv\")"
   ]
  },
  {
   "cell_type": "code",
   "execution_count": 147,
   "metadata": {},
   "outputs": [
    {
     "data": {
      "text/html": [
       "<div>\n",
       "<style scoped>\n",
       "    .dataframe tbody tr th:only-of-type {\n",
       "        vertical-align: middle;\n",
       "    }\n",
       "\n",
       "    .dataframe tbody tr th {\n",
       "        vertical-align: top;\n",
       "    }\n",
       "\n",
       "    .dataframe thead th {\n",
       "        text-align: right;\n",
       "    }\n",
       "</style>\n",
       "<table border=\"1\" class=\"dataframe\">\n",
       "  <thead>\n",
       "    <tr style=\"text-align: right;\">\n",
       "      <th></th>\n",
       "      <th>Ls</th>\n",
       "      <th>MY</th>\n",
       "      <th>fraction</th>\n",
       "      <th>obsid</th>\n",
       "      <th>region_name</th>\n",
       "      <th>which</th>\n",
       "    </tr>\n",
       "  </thead>\n",
       "  <tbody>\n",
       "    <tr>\n",
       "      <th>0</th>\n",
       "      <td>214.785</td>\n",
       "      <td>29.0</td>\n",
       "      <td>0.115</td>\n",
       "      <td>ESP_012079_0945</td>\n",
       "      <td>Macclesfield</td>\n",
       "      <td>both</td>\n",
       "    </tr>\n",
       "    <tr>\n",
       "      <th>1</th>\n",
       "      <td>183.727</td>\n",
       "      <td>29.0</td>\n",
       "      <td>0.070</td>\n",
       "      <td>ESP_011407_0945</td>\n",
       "      <td>Macclesfield</td>\n",
       "      <td>both</td>\n",
       "    </tr>\n",
       "    <tr>\n",
       "      <th>2</th>\n",
       "      <td>198.040</td>\n",
       "      <td>29.0</td>\n",
       "      <td>0.072</td>\n",
       "      <td>ESP_011723_0945</td>\n",
       "      <td>Macclesfield</td>\n",
       "      <td>both</td>\n",
       "    </tr>\n",
       "    <tr>\n",
       "      <th>3</th>\n",
       "      <td>207.892</td>\n",
       "      <td>29.0</td>\n",
       "      <td>0.168</td>\n",
       "      <td>ESP_011934_0945</td>\n",
       "      <td>Macclesfield</td>\n",
       "      <td>both</td>\n",
       "    </tr>\n",
       "    <tr>\n",
       "      <th>4</th>\n",
       "      <td>235.282</td>\n",
       "      <td>29.0</td>\n",
       "      <td>0.111</td>\n",
       "      <td>ESP_012501_0945</td>\n",
       "      <td>Macclesfield</td>\n",
       "      <td>both</td>\n",
       "    </tr>\n",
       "  </tbody>\n",
       "</table>\n",
       "</div>"
      ],
      "text/plain": [
       "        Ls    MY  fraction            obsid   region_name which\n",
       "0  214.785  29.0     0.115  ESP_012079_0945  Macclesfield  both\n",
       "1  183.727  29.0     0.070  ESP_011407_0945  Macclesfield  both\n",
       "2  198.040  29.0     0.072  ESP_011723_0945  Macclesfield  both\n",
       "3  207.892  29.0     0.168  ESP_011934_0945  Macclesfield  both\n",
       "4  235.282  29.0     0.111  ESP_012501_0945  Macclesfield  both"
      ]
     },
     "execution_count": 147,
     "metadata": {},
     "output_type": "execute_result"
    },
    {
     "data": {
      "application/javascript": [
       "\n",
       "        setTimeout(function() {\n",
       "            var nbb_cell_id = 147;\n",
       "            var nbb_formatted_code = \"p_data.head()\";\n",
       "            var nbb_cells = Jupyter.notebook.get_cells();\n",
       "            for (var i = 0; i < nbb_cells.length; ++i) {\n",
       "                if (nbb_cells[i].input_prompt_number == nbb_cell_id) {\n",
       "                    nbb_cells[i].set_text(nbb_formatted_code);\n",
       "                    break;\n",
       "                }\n",
       "            }\n",
       "        }, 500);\n",
       "        "
      ],
      "text/plain": [
       "<IPython.core.display.Javascript object>"
      ]
     },
     "metadata": {},
     "output_type": "display_data"
    }
   ],
   "source": [
    "p_data.head()"
   ]
  },
  {
   "cell_type": "code",
   "execution_count": 164,
   "metadata": {},
   "outputs": [
    {
     "data": {
      "application/javascript": [
       "\n",
       "        setTimeout(function() {\n",
       "            var nbb_cell_id = 164;\n",
       "            var nbb_formatted_code = \"grp_both = p_data.groupby(\\\"which\\\").get_group(\\\"both\\\")\";\n",
       "            var nbb_cells = Jupyter.notebook.get_cells();\n",
       "            for (var i = 0; i < nbb_cells.length; ++i) {\n",
       "                if (nbb_cells[i].input_prompt_number == nbb_cell_id) {\n",
       "                    nbb_cells[i].set_text(nbb_formatted_code);\n",
       "                    break;\n",
       "                }\n",
       "            }\n",
       "        }, 500);\n",
       "        "
      ],
      "text/plain": [
       "<IPython.core.display.Javascript object>"
      ]
     },
     "metadata": {},
     "output_type": "display_data"
    }
   ],
   "source": [
    "grp_both = p_data.groupby(\"which\").get_group(\"both\")"
   ]
  },
  {
   "cell_type": "code",
   "execution_count": 165,
   "metadata": {},
   "outputs": [
    {
     "data": {
      "application/javascript": [
       "\n",
       "        setTimeout(function() {\n",
       "            var nbb_cell_id = 165;\n",
       "            var nbb_formatted_code = \"grp_fans = p_data.groupby(\\\"which\\\").get_group(\\\"fans\\\")\";\n",
       "            var nbb_cells = Jupyter.notebook.get_cells();\n",
       "            for (var i = 0; i < nbb_cells.length; ++i) {\n",
       "                if (nbb_cells[i].input_prompt_number == nbb_cell_id) {\n",
       "                    nbb_cells[i].set_text(nbb_formatted_code);\n",
       "                    break;\n",
       "                }\n",
       "            }\n",
       "        }, 500);\n",
       "        "
      ],
      "text/plain": [
       "<IPython.core.display.Javascript object>"
      ]
     },
     "metadata": {},
     "output_type": "display_data"
    }
   ],
   "source": [
    "grp_fans = p_data.groupby(\"which\").get_group(\"fans\")"
   ]
  },
  {
   "cell_type": "code",
   "execution_count": 167,
   "metadata": {},
   "outputs": [
    {
     "data": {
      "application/javascript": [
       "\n",
       "        setTimeout(function() {\n",
       "            var nbb_cell_id = 167;\n",
       "            var nbb_formatted_code = \"grp_blotches = p_data.groupby(\\\"which\\\").get_group(\\\"blotches\\\")\";\n",
       "            var nbb_cells = Jupyter.notebook.get_cells();\n",
       "            for (var i = 0; i < nbb_cells.length; ++i) {\n",
       "                if (nbb_cells[i].input_prompt_number == nbb_cell_id) {\n",
       "                    nbb_cells[i].set_text(nbb_formatted_code);\n",
       "                    break;\n",
       "                }\n",
       "            }\n",
       "        }, 500);\n",
       "        "
      ],
      "text/plain": [
       "<IPython.core.display.Javascript object>"
      ]
     },
     "metadata": {},
     "output_type": "display_data"
    }
   ],
   "source": [
    "grp_blotches = p_data.groupby(\"which\").get_group(\"blotches\")"
   ]
  },
  {
   "cell_type": "code",
   "execution_count": 168,
   "metadata": {},
   "outputs": [
    {
     "data": {
      "text/html": [
       "<div>\n",
       "<style scoped>\n",
       "    .dataframe tbody tr th:only-of-type {\n",
       "        vertical-align: middle;\n",
       "    }\n",
       "\n",
       "    .dataframe tbody tr th {\n",
       "        vertical-align: top;\n",
       "    }\n",
       "\n",
       "    .dataframe thead th {\n",
       "        text-align: right;\n",
       "    }\n",
       "</style>\n",
       "<table border=\"1\" class=\"dataframe\">\n",
       "  <thead>\n",
       "    <tr style=\"text-align: right;\">\n",
       "      <th></th>\n",
       "      <th>Ls</th>\n",
       "      <th>MY</th>\n",
       "      <th>fraction</th>\n",
       "      <th>obsid</th>\n",
       "      <th>region_name</th>\n",
       "      <th>which</th>\n",
       "    </tr>\n",
       "  </thead>\n",
       "  <tbody>\n",
       "    <tr>\n",
       "      <th>0</th>\n",
       "      <td>214.785</td>\n",
       "      <td>29.0</td>\n",
       "      <td>0.115</td>\n",
       "      <td>ESP_012079_0945</td>\n",
       "      <td>Macclesfield</td>\n",
       "      <td>both</td>\n",
       "    </tr>\n",
       "    <tr>\n",
       "      <th>1</th>\n",
       "      <td>183.727</td>\n",
       "      <td>29.0</td>\n",
       "      <td>0.070</td>\n",
       "      <td>ESP_011407_0945</td>\n",
       "      <td>Macclesfield</td>\n",
       "      <td>both</td>\n",
       "    </tr>\n",
       "    <tr>\n",
       "      <th>2</th>\n",
       "      <td>198.040</td>\n",
       "      <td>29.0</td>\n",
       "      <td>0.072</td>\n",
       "      <td>ESP_011723_0945</td>\n",
       "      <td>Macclesfield</td>\n",
       "      <td>both</td>\n",
       "    </tr>\n",
       "    <tr>\n",
       "      <th>3</th>\n",
       "      <td>207.892</td>\n",
       "      <td>29.0</td>\n",
       "      <td>0.168</td>\n",
       "      <td>ESP_011934_0945</td>\n",
       "      <td>Macclesfield</td>\n",
       "      <td>both</td>\n",
       "    </tr>\n",
       "    <tr>\n",
       "      <th>4</th>\n",
       "      <td>235.282</td>\n",
       "      <td>29.0</td>\n",
       "      <td>0.111</td>\n",
       "      <td>ESP_012501_0945</td>\n",
       "      <td>Macclesfield</td>\n",
       "      <td>both</td>\n",
       "    </tr>\n",
       "  </tbody>\n",
       "</table>\n",
       "</div>"
      ],
      "text/plain": [
       "        Ls    MY  fraction            obsid   region_name which\n",
       "0  214.785  29.0     0.115  ESP_012079_0945  Macclesfield  both\n",
       "1  183.727  29.0     0.070  ESP_011407_0945  Macclesfield  both\n",
       "2  198.040  29.0     0.072  ESP_011723_0945  Macclesfield  both\n",
       "3  207.892  29.0     0.168  ESP_011934_0945  Macclesfield  both\n",
       "4  235.282  29.0     0.111  ESP_012501_0945  Macclesfield  both"
      ]
     },
     "execution_count": 168,
     "metadata": {},
     "output_type": "execute_result"
    },
    {
     "data": {
      "application/javascript": [
       "\n",
       "        setTimeout(function() {\n",
       "            var nbb_cell_id = 168;\n",
       "            var nbb_formatted_code = \"grp_both.head()\";\n",
       "            var nbb_cells = Jupyter.notebook.get_cells();\n",
       "            for (var i = 0; i < nbb_cells.length; ++i) {\n",
       "                if (nbb_cells[i].input_prompt_number == nbb_cell_id) {\n",
       "                    nbb_cells[i].set_text(nbb_formatted_code);\n",
       "                    break;\n",
       "                }\n",
       "            }\n",
       "        }, 500);\n",
       "        "
      ],
      "text/plain": [
       "<IPython.core.display.Javascript object>"
      ]
     },
     "metadata": {},
     "output_type": "display_data"
    }
   ],
   "source": [
    "grp_both.head()"
   ]
  },
  {
   "cell_type": "code",
   "execution_count": 194,
   "metadata": {},
   "outputs": [
    {
     "name": "stderr",
     "output_type": "stream",
     "text": [
      "C:\\Users\\Zade Alfalah\\AppData\\Local\\conda\\conda\\envs\\py37\\lib\\site-packages\\matplotlib\\figure.py:98: MatplotlibDeprecationWarning: \n",
      "Adding an axes using the same arguments as a previous axes currently reuses the earlier instance.  In a future version, a new instance will always be created and returned.  Meanwhile, this warning can be suppressed, and the future behavior ensured, by passing a unique label to each axes instance.\n",
      "  \"Adding an axes using the same arguments as a previous axes \"\n"
     ]
    },
    {
     "data": {
      "image/png": "[encoded data removed]",
      "text/plain": [
       "<Figure size 432x288 with 1 Axes>"
      ]
     },
     "metadata": {
      "needs_background": "light"
     },
     "output_type": "display_data"
    },
    {
     "data": {
      "application/javascript": [
       "\n",
       "        setTimeout(function() {\n",
       "            var nbb_cell_id = 194;\n",
       "            var nbb_formatted_code = \"# shows a general view of the fractional coverage of both fans and blotches over time! neato.\\ngrp_both.plot.bar(x=\\\"Ls\\\", y=\\\"fraction\\\")\\nax1 = plt.axes()\\nx_axis = ax1.axes.get_xaxis()\\nx_axis.set_visible(False)\";\n",
       "            var nbb_cells = Jupyter.notebook.get_cells();\n",
       "            for (var i = 0; i < nbb_cells.length; ++i) {\n",
       "                if (nbb_cells[i].input_prompt_number == nbb_cell_id) {\n",
       "                    nbb_cells[i].set_text(nbb_formatted_code);\n",
       "                    break;\n",
       "                }\n",
       "            }\n",
       "        }, 500);\n",
       "        "
      ],
      "text/plain": [
       "<IPython.core.display.Javascript object>"
      ]
     },
     "metadata": {},
     "output_type": "display_data"
    }
   ],
   "source": [
    "# shows a general view of the fractional coverage of both fans and blotches over time! neato.  \n",
    "#need to remove the fraction label, think its just a line to remove key or legend or whatever, look into tomorrow\n",
    "grp_both.plot.bar(x=\"Ls\", y=\"fraction\")\n",
    "\n",
    "#below lines to clean up the graph, comment out to see with every l_s value below (too messy to understand anyways)\n",
    "ax1 = plt.axes()\n",
    "x_axis = ax1.axes.get_xaxis()\n",
    "x_axis.set_visible(False)"
   ]
  },
  {
   "cell_type": "code",
   "execution_count": 183,
   "metadata": {},
   "outputs": [
    {
     "data": {
      "application/javascript": [
       "\n",
       "        setTimeout(function() {\n",
       "            var nbb_cell_id = 183;\n",
       "            var nbb_formatted_code = \"# group 'both by region'\\nbbr = grp_both.groupby(\\\"region_name\\\")\";\n",
       "            var nbb_cells = Jupyter.notebook.get_cells();\n",
       "            for (var i = 0; i < nbb_cells.length; ++i) {\n",
       "                if (nbb_cells[i].input_prompt_number == nbb_cell_id) {\n",
       "                    nbb_cells[i].set_text(nbb_formatted_code);\n",
       "                    break;\n",
       "                }\n",
       "            }\n",
       "        }, 500);\n",
       "        "
      ],
      "text/plain": [
       "<IPython.core.display.Javascript object>"
      ]
     },
     "metadata": {},
     "output_type": "display_data"
    }
   ],
   "source": [
    "# group 'both by region'\n",
    "bbr = grp_both.groupby(\"region_name\")"
   ]
  },
  {
   "cell_type": "code",
   "execution_count": 192,
   "metadata": {},
   "outputs": [
    {
     "data": {
      "text/plain": [
       "region_name\n",
       "Albany                   AxesSubplot(0.125,0.125;0.775x0.755)\n",
       "Atka                     AxesSubplot(0.125,0.125;0.775x0.755)\n",
       "Bilbao                   AxesSubplot(0.125,0.125;0.775x0.755)\n",
       "Binghamton               AxesSubplot(0.125,0.125;0.775x0.755)\n",
       "BuenosAires              AxesSubplot(0.125,0.125;0.775x0.755)\n",
       "Caterpillar              AxesSubplot(0.125,0.125;0.775x0.755)\n",
       "Cortland                 AxesSubplot(0.125,0.125;0.775x0.755)\n",
       "Geneseo                  AxesSubplot(0.125,0.125;0.775x0.755)\n",
       "Giza                     AxesSubplot(0.125,0.125;0.775x0.755)\n",
       "Halifax                  AxesSubplot(0.125,0.125;0.775x0.755)\n",
       "Inca_City                AxesSubplot(0.125,0.125;0.775x0.755)\n",
       "Inca_City_Ridges         AxesSubplot(0.125,0.125;0.775x0.755)\n",
       "Ithaca                   AxesSubplot(0.125,0.125;0.775x0.755)\n",
       "Macclesfield             AxesSubplot(0.125,0.125;0.775x0.755)\n",
       "Manhattan_Classic        AxesSubplot(0.125,0.125;0.775x0.755)\n",
       "Manhattan_Cracks         AxesSubplot(0.125,0.125;0.775x0.755)\n",
       "Manhattan_Frontinella    AxesSubplot(0.125,0.125;0.775x0.755)\n",
       "Oswego_Edge              AxesSubplot(0.125,0.125;0.775x0.755)\n",
       "Pisaq                    AxesSubplot(0.125,0.125;0.775x0.755)\n",
       "Portsmouth               AxesSubplot(0.125,0.125;0.775x0.755)\n",
       "Potsdam                  AxesSubplot(0.125,0.125;0.775x0.755)\n",
       "Rochester                AxesSubplot(0.125,0.125;0.775x0.755)\n",
       "Schenectady              AxesSubplot(0.125,0.125;0.775x0.755)\n",
       "Starburst                AxesSubplot(0.125,0.125;0.775x0.755)\n",
       "Troy                     AxesSubplot(0.125,0.125;0.775x0.755)\n",
       "Wellington               AxesSubplot(0.125,0.125;0.775x0.755)\n",
       "unknown                  AxesSubplot(0.125,0.125;0.775x0.755)\n",
       "dtype: object"
      ]
     },
     "execution_count": 192,
     "metadata": {},
     "output_type": "execute_result"
    },
    {
     "data": {
      "image/png": "[encoded data removed]",
      "text/plain": [
       "<Figure size 432x288 with 1 Axes>"
      ]
     },
     "metadata": {
      "needs_background": "light"
     },
     "output_type": "display_data"
    },
    {
     "data": {
      "image/png": "[encoded data removed]",
      "text/plain": [
       "<Figure size 432x288 with 1 Axes>"
      ]
     },
     "metadata": {
      "needs_background": "light"
     },
     "output_type": "display_data"
    },
    {
     "data": {
      "image/png": "[encoded data removed]",
      "text/plain": [
       "<Figure size 432x288 with 1 Axes>"
      ]
     },
     "metadata": {
      "needs_background": "light"
     },
     "output_type": "display_data"
    },
    {
     "data": {
      "image/png": "[encoded data removed]",
      "text/plain": [
       "<Figure size 432x288 with 1 Axes>"
      ]
     },
     "metadata": {
      "needs_background": "light"
     },
     "output_type": "display_data"
    },
    {
     "data": {
      "image/png": "[encoded data removed]",
      "text/plain": [
       "<Figure size 432x288 with 1 Axes>"
      ]
     },
     "metadata": {
      "needs_background": "light"
     },
     "output_type": "display_data"
    },
    {
     "data": {
      "image/png": "[encoded data removed]",
      "text/plain": [
       "<Figure size 432x288 with 1 Axes>"
      ]
     },
     "metadata": {
      "needs_background": "light"
     },
     "output_type": "display_data"
    },
    {
     "data": {
      "image/png": "[encoded data removed]",
      "text/plain": [
       "<Figure size 432x288 with 1 Axes>"
      ]
     },
     "metadata": {
      "needs_background": "light"
     },
     "output_type": "display_data"
    },
    {
     "data": {
      "image/png": "[encoded data removed]",
      "text/plain": [
       "<Figure size 432x288 with 1 Axes>"
      ]
     },
     "metadata": {
      "needs_background": "light"
     },
     "output_type": "display_data"
    },
    {
     "data": {
      "image/png": "[encoded data removed]",
      "text/plain": [
       "<Figure size 432x288 with 1 Axes>"
      ]
     },
     "metadata": {
      "needs_background": "light"
     },
     "output_type": "display_data"
    },
    {
     "data": {
      "image/png": "[encoded data removed]",
      "text/plain": [
       "<Figure size 432x288 with 1 Axes>"
      ]
     },
     "metadata": {
      "needs_background": "light"
     },
     "output_type": "display_data"
    },
    {
     "data": {
      "image/png": "[encoded data removed]",
      "text/plain": [
       "<Figure size 432x288 with 1 Axes>"
      ]
     },
     "metadata": {
      "needs_background": "light"
     },
     "output_type": "display_data"
    },
    {
     "data": {
      "image/png": "[encoded data removed]",
      "text/plain": [
       "<Figure size 432x288 with 1 Axes>"
      ]
     },
     "metadata": {
      "needs_background": "light"
     },
     "output_type": "display_data"
    },
    {
     "data": {
      "image/png": "[encoded data removed]",
      "text/plain": [
       "<Figure size 432x288 with 1 Axes>"
      ]
     },
     "metadata": {
      "needs_background": "light"
     },
     "output_type": "display_data"
    },
    {
     "data": {
      "image/png": "[encoded data removed]",
      "text/plain": [
       "<Figure size 432x288 with 1 Axes>"
      ]
     },
     "metadata": {
      "needs_background": "light"
     },
     "output_type": "display_data"
    },
    {
     "data": {
      "image/png": "[encoded data removed]",
      "text/plain": [
       "<Figure size 432x288 with 1 Axes>"
      ]
     },
     "metadata": {
      "needs_background": "light"
     },
     "output_type": "display_data"
    },
    {
     "data": {
      "image/png": "[encoded data removed]",
      "text/plain": [
       "<Figure size 432x288 with 1 Axes>"
      ]
     },
     "metadata": {
      "needs_background": "light"
     },
     "output_type": "display_data"
    },
    {
     "data": {
      "image/png": "[encoded data removed]",
      "text/plain": [
       "<Figure size 432x288 with 1 Axes>"
      ]
     },
     "metadata": {
      "needs_background": "light"
     },
     "output_type": "display_data"
    },
    {
     "data": {
      "image/png": "[encoded data removed]",
      "text/plain": [
       "<Figure size 432x288 with 1 Axes>"
      ]
     },
     "metadata": {
      "needs_background": "light"
     },
     "output_type": "display_data"
    },
    {
     "data": {
      "image/png": "[encoded data removed]",
      "text/plain": [
       "<Figure size 432x288 with 1 Axes>"
      ]
     },
     "metadata": {
      "needs_background": "light"
     },
     "output_type": "display_data"
    },
    {
     "data": {
      "image/png": "[encoded data removed]",
      "text/plain": [
       "<Figure size 432x288 with 1 Axes>"
      ]
     },
     "metadata": {
      "needs_background": "light"
     },
     "output_type": "display_data"
    },
    {
     "data": {
      "image/png": "[encoded data removed]",
      "text/plain": [
       "<Figure size 432x288 with 1 Axes>"
      ]
     },
     "metadata": {
      "needs_background": "light"
     },
     "output_type": "display_data"
    },
    {
     "data": {
      "image/png": "[encoded data removed]",
      "text/plain": [
       "<Figure size 432x288 with 1 Axes>"
      ]
     },
     "metadata": {
      "needs_background": "light"
     },
     "output_type": "display_data"
    },
    {
     "data": {
      "image/png": "[encoded data removed]",
      "text/plain": [
       "<Figure size 432x288 with 1 Axes>"
      ]
     },
     "metadata": {
      "needs_background": "light"
     },
     "output_type": "display_data"
    },
    {
     "data": {
      "image/png": "[encoded data removed]",
      "text/plain": [
       "<Figure size 432x288 with 1 Axes>"
      ]
     },
     "metadata": {
      "needs_background": "light"
     },
     "output_type": "display_data"
    },
    {
     "data": {
      "image/png": "[encoded data removed]",
      "text/plain": [
       "<Figure size 432x288 with 1 Axes>"
      ]
     },
     "metadata": {
      "needs_background": "light"
     },
     "output_type": "display_data"
    },
    {
     "data": {
      "image/png": "[encoded data removed]",
      "text/plain": [
       "<Figure size 432x288 with 1 Axes>"
      ]
     },
     "metadata": {
      "needs_background": "light"
     },
     "output_type": "display_data"
    },
    {
     "data": {
      "image/png": "[encoded data removed]",
      "text/plain": [
       "<Figure size 432x288 with 1 Axes>"
      ]
     },
     "metadata": {
      "needs_background": "light"
     },
     "output_type": "display_data"
    },
    {
     "data": {
      "image/png": "[encoded data removed]",
      "text/plain": [
       "<Figure size 432x288 with 1 Axes>"
      ]
     },
     "metadata": {
      "needs_background": "light"
     },
     "output_type": "display_data"
    },
    {
     "data": {
      "application/javascript": [
       "\n",
       "        setTimeout(function() {\n",
       "            var nbb_cell_id = 192;\n",
       "            var nbb_formatted_code = \"bbr.plot.bar(x=\\\"Ls\\\", y=\\\"fraction\\\")\";\n",
       "            var nbb_cells = Jupyter.notebook.get_cells();\n",
       "            for (var i = 0; i < nbb_cells.length; ++i) {\n",
       "                if (nbb_cells[i].input_prompt_number == nbb_cell_id) {\n",
       "                    nbb_cells[i].set_text(nbb_formatted_code);\n",
       "                    break;\n",
       "                }\n",
       "            }\n",
       "        }, 500);\n",
       "        "
      ],
      "text/plain": [
       "<IPython.core.display.Javascript object>"
      ]
     },
     "metadata": {},
     "output_type": "display_data"
    }
   ],
   "source": [
    "#gives the l_s vs fraction graph but by region, need to rewrite so that it displays region name as title.\n",
    "bbr.plot.bar(x=\"Ls\", y=\"fraction\")"
   ]
  },
  {
   "cell_type": "code",
   "execution_count": 186,
   "metadata": {},
   "outputs": [
    {
     "data": {
      "text/html": [
       "<div>\n",
       "<style scoped>\n",
       "    .dataframe tbody tr th:only-of-type {\n",
       "        vertical-align: middle;\n",
       "    }\n",
       "\n",
       "    .dataframe tbody tr th {\n",
       "        vertical-align: top;\n",
       "    }\n",
       "\n",
       "    .dataframe thead th {\n",
       "        text-align: right;\n",
       "    }\n",
       "</style>\n",
       "<table border=\"1\" class=\"dataframe\">\n",
       "  <thead>\n",
       "    <tr style=\"text-align: right;\">\n",
       "      <th></th>\n",
       "      <th>Ls</th>\n",
       "      <th>MY</th>\n",
       "      <th>fraction</th>\n",
       "      <th>obsid</th>\n",
       "      <th>region_name</th>\n",
       "      <th>which</th>\n",
       "    </tr>\n",
       "  </thead>\n",
       "  <tbody>\n",
       "    <tr>\n",
       "      <th>0</th>\n",
       "      <td>214.785</td>\n",
       "      <td>29.0</td>\n",
       "      <td>0.115</td>\n",
       "      <td>ESP_012079_0945</td>\n",
       "      <td>Macclesfield</td>\n",
       "      <td>both</td>\n",
       "    </tr>\n",
       "    <tr>\n",
       "      <th>1</th>\n",
       "      <td>183.727</td>\n",
       "      <td>29.0</td>\n",
       "      <td>0.070</td>\n",
       "      <td>ESP_011407_0945</td>\n",
       "      <td>Macclesfield</td>\n",
       "      <td>both</td>\n",
       "    </tr>\n",
       "    <tr>\n",
       "      <th>2</th>\n",
       "      <td>198.040</td>\n",
       "      <td>29.0</td>\n",
       "      <td>0.072</td>\n",
       "      <td>ESP_011723_0945</td>\n",
       "      <td>Macclesfield</td>\n",
       "      <td>both</td>\n",
       "    </tr>\n",
       "    <tr>\n",
       "      <th>3</th>\n",
       "      <td>207.892</td>\n",
       "      <td>29.0</td>\n",
       "      <td>0.168</td>\n",
       "      <td>ESP_011934_0945</td>\n",
       "      <td>Macclesfield</td>\n",
       "      <td>both</td>\n",
       "    </tr>\n",
       "    <tr>\n",
       "      <th>4</th>\n",
       "      <td>235.282</td>\n",
       "      <td>29.0</td>\n",
       "      <td>0.111</td>\n",
       "      <td>ESP_012501_0945</td>\n",
       "      <td>Macclesfield</td>\n",
       "      <td>both</td>\n",
       "    </tr>\n",
       "    <tr>\n",
       "      <th>14</th>\n",
       "      <td>241.144</td>\n",
       "      <td>29.0</td>\n",
       "      <td>0.068</td>\n",
       "      <td>ESP_012620_0975</td>\n",
       "      <td>unknown</td>\n",
       "      <td>both</td>\n",
       "    </tr>\n",
       "    <tr>\n",
       "      <th>15</th>\n",
       "      <td>224.333</td>\n",
       "      <td>29.0</td>\n",
       "      <td>0.020</td>\n",
       "      <td>ESP_012277_0975</td>\n",
       "      <td>unknown</td>\n",
       "      <td>both</td>\n",
       "    </tr>\n",
       "    <tr>\n",
       "      <th>16</th>\n",
       "      <td>227.789</td>\n",
       "      <td>29.0</td>\n",
       "      <td>0.009</td>\n",
       "      <td>ESP_012348_0975</td>\n",
       "      <td>unknown</td>\n",
       "      <td>both</td>\n",
       "    </tr>\n",
       "    <tr>\n",
       "      <th>17</th>\n",
       "      <td>196.842</td>\n",
       "      <td>29.0</td>\n",
       "      <td>0.041</td>\n",
       "      <td>ESP_011697_0980</td>\n",
       "      <td>Starburst</td>\n",
       "      <td>both</td>\n",
       "    </tr>\n",
       "    <tr>\n",
       "      <th>18</th>\n",
       "      <td>180.809</td>\n",
       "      <td>29.0</td>\n",
       "      <td>0.102</td>\n",
       "      <td>ESP_011341_0980</td>\n",
       "      <td>Starburst</td>\n",
       "      <td>both</td>\n",
       "    </tr>\n",
       "    <tr>\n",
       "      <th>19</th>\n",
       "      <td>203.570</td>\n",
       "      <td>29.0</td>\n",
       "      <td>0.163</td>\n",
       "      <td>ESP_011842_0980</td>\n",
       "      <td>Starburst</td>\n",
       "      <td>both</td>\n",
       "    </tr>\n",
       "    <tr>\n",
       "      <th>20</th>\n",
       "      <td>187.254</td>\n",
       "      <td>29.0</td>\n",
       "      <td>0.077</td>\n",
       "      <td>ESP_011486_0980</td>\n",
       "      <td>Starburst</td>\n",
       "      <td>both</td>\n",
       "    </tr>\n",
       "    <tr>\n",
       "      <th>21</th>\n",
       "      <td>240.503</td>\n",
       "      <td>29.0</td>\n",
       "      <td>0.024</td>\n",
       "      <td>ESP_012607_0980</td>\n",
       "      <td>Starburst</td>\n",
       "      <td>both</td>\n",
       "    </tr>\n",
       "    <tr>\n",
       "      <th>27</th>\n",
       "      <td>254.194</td>\n",
       "      <td>29.0</td>\n",
       "      <td>0.098</td>\n",
       "      <td>ESP_012884_0935</td>\n",
       "      <td>Manhattan_Classic</td>\n",
       "      <td>both</td>\n",
       "    </tr>\n",
       "    <tr>\n",
       "      <th>28</th>\n",
       "      <td>223.070</td>\n",
       "      <td>29.0</td>\n",
       "      <td>0.021</td>\n",
       "      <td>ESP_012251_0935</td>\n",
       "      <td>Manhattan_Classic</td>\n",
       "      <td>both</td>\n",
       "    </tr>\n",
       "    <tr>\n",
       "      <th>29</th>\n",
       "      <td>247.022</td>\n",
       "      <td>29.0</td>\n",
       "      <td>0.061</td>\n",
       "      <td>ESP_012739_0935</td>\n",
       "      <td>Manhattan_Classic</td>\n",
       "      <td>both</td>\n",
       "    </tr>\n",
       "    <tr>\n",
       "      <th>30</th>\n",
       "      <td>209.169</td>\n",
       "      <td>29.0</td>\n",
       "      <td>0.089</td>\n",
       "      <td>ESP_011961_0935</td>\n",
       "      <td>Manhattan_Classic</td>\n",
       "      <td>both</td>\n",
       "    </tr>\n",
       "    <tr>\n",
       "      <th>31</th>\n",
       "      <td>195.647</td>\n",
       "      <td>29.0</td>\n",
       "      <td>0.064</td>\n",
       "      <td>ESP_011671_0935</td>\n",
       "      <td>Manhattan_Classic</td>\n",
       "      <td>both</td>\n",
       "    </tr>\n",
       "    <tr>\n",
       "      <th>44</th>\n",
       "      <td>211.399</td>\n",
       "      <td>29.0</td>\n",
       "      <td>0.100</td>\n",
       "      <td>ESP_012008_0975</td>\n",
       "      <td>Wellington</td>\n",
       "      <td>both</td>\n",
       "    </tr>\n",
       "    <tr>\n",
       "      <th>45</th>\n",
       "      <td>178.833</td>\n",
       "      <td>29.0</td>\n",
       "      <td>0.072</td>\n",
       "      <td>ESP_011296_0975</td>\n",
       "      <td>Wellington</td>\n",
       "      <td>both</td>\n",
       "    </tr>\n",
       "    <tr>\n",
       "      <th>46</th>\n",
       "      <td>232.092</td>\n",
       "      <td>29.0</td>\n",
       "      <td>0.070</td>\n",
       "      <td>ESP_012436_0980</td>\n",
       "      <td>Albany</td>\n",
       "      <td>both</td>\n",
       "    </tr>\n",
       "    <tr>\n",
       "      <th>47</th>\n",
       "      <td>225.013</td>\n",
       "      <td>29.0</td>\n",
       "      <td>0.091</td>\n",
       "      <td>ESP_012291_0980</td>\n",
       "      <td>Albany</td>\n",
       "      <td>both</td>\n",
       "    </tr>\n",
       "    <tr>\n",
       "      <th>48</th>\n",
       "      <td>242.477</td>\n",
       "      <td>29.0</td>\n",
       "      <td>0.060</td>\n",
       "      <td>ESP_012647_0980</td>\n",
       "      <td>Albany</td>\n",
       "      <td>both</td>\n",
       "    </tr>\n",
       "    <tr>\n",
       "      <th>49</th>\n",
       "      <td>225.645</td>\n",
       "      <td>29.0</td>\n",
       "      <td>0.083</td>\n",
       "      <td>ESP_012304_0980</td>\n",
       "      <td>Albany</td>\n",
       "      <td>both</td>\n",
       "    </tr>\n",
       "    <tr>\n",
       "      <th>50</th>\n",
       "      <td>221.812</td>\n",
       "      <td>29.0</td>\n",
       "      <td>0.095</td>\n",
       "      <td>ESP_012225_0980</td>\n",
       "      <td>Albany</td>\n",
       "      <td>both</td>\n",
       "    </tr>\n",
       "    <tr>\n",
       "      <th>51</th>\n",
       "      <td>190.814</td>\n",
       "      <td>29.0</td>\n",
       "      <td>0.129</td>\n",
       "      <td>ESP_011565_0930</td>\n",
       "      <td>Bilbao</td>\n",
       "      <td>both</td>\n",
       "    </tr>\n",
       "    <tr>\n",
       "      <th>52</th>\n",
       "      <td>221.134</td>\n",
       "      <td>29.0</td>\n",
       "      <td>0.015</td>\n",
       "      <td>ESP_012211_0930</td>\n",
       "      <td>Bilbao</td>\n",
       "      <td>both</td>\n",
       "    </tr>\n",
       "    <tr>\n",
       "      <th>53</th>\n",
       "      <td>200.494</td>\n",
       "      <td>29.0</td>\n",
       "      <td>0.034</td>\n",
       "      <td>ESP_011776_0930</td>\n",
       "      <td>Bilbao</td>\n",
       "      <td>both</td>\n",
       "    </tr>\n",
       "    <tr>\n",
       "      <th>54</th>\n",
       "      <td>241.785</td>\n",
       "      <td>29.0</td>\n",
       "      <td>0.051</td>\n",
       "      <td>ESP_012633_0930</td>\n",
       "      <td>Bilbao</td>\n",
       "      <td>both</td>\n",
       "    </tr>\n",
       "    <tr>\n",
       "      <th>55</th>\n",
       "      <td>252.215</td>\n",
       "      <td>29.0</td>\n",
       "      <td>0.178</td>\n",
       "      <td>ESP_012844_0930</td>\n",
       "      <td>Bilbao</td>\n",
       "      <td>both</td>\n",
       "    </tr>\n",
       "    <tr>\n",
       "      <th>...</th>\n",
       "      <td>...</td>\n",
       "      <td>...</td>\n",
       "      <td>...</td>\n",
       "      <td>...</td>\n",
       "      <td>...</td>\n",
       "      <td>...</td>\n",
       "    </tr>\n",
       "    <tr>\n",
       "      <th>179</th>\n",
       "      <td>251.919</td>\n",
       "      <td>29.0</td>\n",
       "      <td>0.012</td>\n",
       "      <td>ESP_012838_0950</td>\n",
       "      <td>Troy</td>\n",
       "      <td>both</td>\n",
       "    </tr>\n",
       "    <tr>\n",
       "      <th>180</th>\n",
       "      <td>262.343</td>\n",
       "      <td>29.0</td>\n",
       "      <td>0.031</td>\n",
       "      <td>ESP_013049_0950</td>\n",
       "      <td>Troy</td>\n",
       "      <td>both</td>\n",
       "    </tr>\n",
       "    <tr>\n",
       "      <th>181</th>\n",
       "      <td>181.117</td>\n",
       "      <td>29.0</td>\n",
       "      <td>0.004</td>\n",
       "      <td>ESP_011348_0950</td>\n",
       "      <td>Troy</td>\n",
       "      <td>both</td>\n",
       "    </tr>\n",
       "    <tr>\n",
       "      <th>182</th>\n",
       "      <td>272.705</td>\n",
       "      <td>29.0</td>\n",
       "      <td>0.030</td>\n",
       "      <td>ESP_013260_0950</td>\n",
       "      <td>Troy</td>\n",
       "      <td>both</td>\n",
       "    </tr>\n",
       "    <tr>\n",
       "      <th>183</th>\n",
       "      <td>233.415</td>\n",
       "      <td>29.0</td>\n",
       "      <td>0.036</td>\n",
       "      <td>ESP_012463_0930</td>\n",
       "      <td>Oswego_Edge</td>\n",
       "      <td>both</td>\n",
       "    </tr>\n",
       "    <tr>\n",
       "      <th>184</th>\n",
       "      <td>261.406</td>\n",
       "      <td>29.0</td>\n",
       "      <td>0.068</td>\n",
       "      <td>ESP_013030_0930</td>\n",
       "      <td>Oswego_Edge</td>\n",
       "      <td>both</td>\n",
       "    </tr>\n",
       "    <tr>\n",
       "      <th>185</th>\n",
       "      <td>192.676</td>\n",
       "      <td>29.0</td>\n",
       "      <td>0.037</td>\n",
       "      <td>ESP_011606_0930</td>\n",
       "      <td>Oswego_Edge</td>\n",
       "      <td>both</td>\n",
       "    </tr>\n",
       "    <tr>\n",
       "      <th>186</th>\n",
       "      <td>250.979</td>\n",
       "      <td>29.0</td>\n",
       "      <td>0.041</td>\n",
       "      <td>ESP_012819_0930</td>\n",
       "      <td>Oswego_Edge</td>\n",
       "      <td>both</td>\n",
       "    </tr>\n",
       "    <tr>\n",
       "      <th>187</th>\n",
       "      <td>212.350</td>\n",
       "      <td>29.0</td>\n",
       "      <td>0.042</td>\n",
       "      <td>ESP_012028_0930</td>\n",
       "      <td>Oswego_Edge</td>\n",
       "      <td>both</td>\n",
       "    </tr>\n",
       "    <tr>\n",
       "      <th>199</th>\n",
       "      <td>242.525</td>\n",
       "      <td>29.0</td>\n",
       "      <td>0.012</td>\n",
       "      <td>ESP_012648_0930</td>\n",
       "      <td>Halifax</td>\n",
       "      <td>both</td>\n",
       "    </tr>\n",
       "    <tr>\n",
       "      <th>200</th>\n",
       "      <td>214.880</td>\n",
       "      <td>29.0</td>\n",
       "      <td>0.083</td>\n",
       "      <td>ESP_012081_0930</td>\n",
       "      <td>Halifax</td>\n",
       "      <td>both</td>\n",
       "    </tr>\n",
       "    <tr>\n",
       "      <th>201</th>\n",
       "      <td>184.393</td>\n",
       "      <td>29.0</td>\n",
       "      <td>0.002</td>\n",
       "      <td>ESP_011422_0930</td>\n",
       "      <td>Halifax</td>\n",
       "      <td>both</td>\n",
       "    </tr>\n",
       "    <tr>\n",
       "      <th>202</th>\n",
       "      <td>196.062</td>\n",
       "      <td>29.0</td>\n",
       "      <td>0.073</td>\n",
       "      <td>ESP_011680_1055</td>\n",
       "      <td>Caterpillar</td>\n",
       "      <td>both</td>\n",
       "    </tr>\n",
       "    <tr>\n",
       "      <th>203</th>\n",
       "      <td>229.987</td>\n",
       "      <td>29.0</td>\n",
       "      <td>0.127</td>\n",
       "      <td>ESP_012393_0965</td>\n",
       "      <td>Rochester</td>\n",
       "      <td>both</td>\n",
       "    </tr>\n",
       "    <tr>\n",
       "      <th>204</th>\n",
       "      <td>240.354</td>\n",
       "      <td>29.0</td>\n",
       "      <td>0.145</td>\n",
       "      <td>ESP_012604_0965</td>\n",
       "      <td>Rochester</td>\n",
       "      <td>both</td>\n",
       "    </tr>\n",
       "    <tr>\n",
       "      <th>205</th>\n",
       "      <td>222.926</td>\n",
       "      <td>29.0</td>\n",
       "      <td>0.151</td>\n",
       "      <td>ESP_012248_0965</td>\n",
       "      <td>Rochester</td>\n",
       "      <td>both</td>\n",
       "    </tr>\n",
       "    <tr>\n",
       "      <th>206</th>\n",
       "      <td>226.132</td>\n",
       "      <td>29.0</td>\n",
       "      <td>0.144</td>\n",
       "      <td>ESP_012314_0965</td>\n",
       "      <td>Rochester</td>\n",
       "      <td>both</td>\n",
       "    </tr>\n",
       "    <tr>\n",
       "      <th>207</th>\n",
       "      <td>251.077</td>\n",
       "      <td>29.0</td>\n",
       "      <td>0.062</td>\n",
       "      <td>ESP_012821_0865</td>\n",
       "      <td>Manhattan_Cracks</td>\n",
       "      <td>both</td>\n",
       "    </tr>\n",
       "    <tr>\n",
       "      <th>208</th>\n",
       "      <td>197.699</td>\n",
       "      <td>30.0</td>\n",
       "      <td>0.077</td>\n",
       "      <td>ESP_020532_0935</td>\n",
       "      <td>Manhattan_Cracks</td>\n",
       "      <td>both</td>\n",
       "    </tr>\n",
       "    <tr>\n",
       "      <th>209</th>\n",
       "      <td>242.693</td>\n",
       "      <td>30.0</td>\n",
       "      <td>0.060</td>\n",
       "      <td>ESP_021468_0935</td>\n",
       "      <td>Manhattan_Cracks</td>\n",
       "      <td>both</td>\n",
       "    </tr>\n",
       "    <tr>\n",
       "      <th>210</th>\n",
       "      <td>185.136</td>\n",
       "      <td>30.0</td>\n",
       "      <td>0.068</td>\n",
       "      <td>ESP_020255_0935</td>\n",
       "      <td>Manhattan_Cracks</td>\n",
       "      <td>both</td>\n",
       "    </tr>\n",
       "    <tr>\n",
       "      <th>211</th>\n",
       "      <td>285.423</td>\n",
       "      <td>30.0</td>\n",
       "      <td>0.001</td>\n",
       "      <td>ESP_022339_0935</td>\n",
       "      <td>Manhattan_Cracks</td>\n",
       "      <td>both</td>\n",
       "    </tr>\n",
       "    <tr>\n",
       "      <th>213</th>\n",
       "      <td>207.279</td>\n",
       "      <td>29.0</td>\n",
       "      <td>0.056</td>\n",
       "      <td>ESP_011921_0950</td>\n",
       "      <td>Schenectady</td>\n",
       "      <td>both</td>\n",
       "    </tr>\n",
       "    <tr>\n",
       "      <th>214</th>\n",
       "      <td>223.218</td>\n",
       "      <td>29.0</td>\n",
       "      <td>0.014</td>\n",
       "      <td>ESP_012254_1065</td>\n",
       "      <td>Binghamton</td>\n",
       "      <td>both</td>\n",
       "    </tr>\n",
       "    <tr>\n",
       "      <th>215</th>\n",
       "      <td>254.344</td>\n",
       "      <td>29.0</td>\n",
       "      <td>0.031</td>\n",
       "      <td>ESP_012887_1065</td>\n",
       "      <td>Binghamton</td>\n",
       "      <td>both</td>\n",
       "    </tr>\n",
       "    <tr>\n",
       "      <th>216</th>\n",
       "      <td>212.826</td>\n",
       "      <td>29.0</td>\n",
       "      <td>0.019</td>\n",
       "      <td>ESP_012038_0930</td>\n",
       "      <td>Atka</td>\n",
       "      <td>both</td>\n",
       "    </tr>\n",
       "    <tr>\n",
       "      <th>217</th>\n",
       "      <td>243.661</td>\n",
       "      <td>29.0</td>\n",
       "      <td>0.010</td>\n",
       "      <td>ESP_012671_0930</td>\n",
       "      <td>Atka</td>\n",
       "      <td>both</td>\n",
       "    </tr>\n",
       "    <tr>\n",
       "      <th>218</th>\n",
       "      <td>250.830</td>\n",
       "      <td>29.0</td>\n",
       "      <td>0.007</td>\n",
       "      <td>ESP_012816_0930</td>\n",
       "      <td>Atka</td>\n",
       "      <td>both</td>\n",
       "    </tr>\n",
       "    <tr>\n",
       "      <th>219</th>\n",
       "      <td>183.994</td>\n",
       "      <td>29.0</td>\n",
       "      <td>0.020</td>\n",
       "      <td>ESP_011413_0970</td>\n",
       "      <td>Cortland</td>\n",
       "      <td>both</td>\n",
       "    </tr>\n",
       "    <tr>\n",
       "      <th>220</th>\n",
       "      <td>278.375</td>\n",
       "      <td>30.0</td>\n",
       "      <td>0.005</td>\n",
       "      <td>ESP_022193_0950</td>\n",
       "      <td>Geneseo</td>\n",
       "      <td>both</td>\n",
       "    </tr>\n",
       "  </tbody>\n",
       "</table>\n",
       "<p>105 rows × 6 columns</p>\n",
       "</div>"
      ],
      "text/plain": [
       "          Ls    MY  fraction            obsid        region_name which\n",
       "0    214.785  29.0     0.115  ESP_012079_0945       Macclesfield  both\n",
       "1    183.727  29.0     0.070  ESP_011407_0945       Macclesfield  both\n",
       "2    198.040  29.0     0.072  ESP_011723_0945       Macclesfield  both\n",
       "3    207.892  29.0     0.168  ESP_011934_0945       Macclesfield  both\n",
       "4    235.282  29.0     0.111  ESP_012501_0945       Macclesfield  both\n",
       "14   241.144  29.0     0.068  ESP_012620_0975            unknown  both\n",
       "15   224.333  29.0     0.020  ESP_012277_0975            unknown  both\n",
       "16   227.789  29.0     0.009  ESP_012348_0975            unknown  both\n",
       "17   196.842  29.0     0.041  ESP_011697_0980          Starburst  both\n",
       "18   180.809  29.0     0.102  ESP_011341_0980          Starburst  both\n",
       "19   203.570  29.0     0.163  ESP_011842_0980          Starburst  both\n",
       "20   187.254  29.0     0.077  ESP_011486_0980          Starburst  both\n",
       "21   240.503  29.0     0.024  ESP_012607_0980          Starburst  both\n",
       "27   254.194  29.0     0.098  ESP_012884_0935  Manhattan_Classic  both\n",
       "28   223.070  29.0     0.021  ESP_012251_0935  Manhattan_Classic  both\n",
       "29   247.022  29.0     0.061  ESP_012739_0935  Manhattan_Classic  both\n",
       "30   209.169  29.0     0.089  ESP_011961_0935  Manhattan_Classic  both\n",
       "31   195.647  29.0     0.064  ESP_011671_0935  Manhattan_Classic  both\n",
       "44   211.399  29.0     0.100  ESP_012008_0975         Wellington  both\n",
       "45   178.833  29.0     0.072  ESP_011296_0975         Wellington  both\n",
       "46   232.092  29.0     0.070  ESP_012436_0980             Albany  both\n",
       "47   225.013  29.0     0.091  ESP_012291_0980             Albany  both\n",
       "48   242.477  29.0     0.060  ESP_012647_0980             Albany  both\n",
       "49   225.645  29.0     0.083  ESP_012304_0980             Albany  both\n",
       "50   221.812  29.0     0.095  ESP_012225_0980             Albany  both\n",
       "51   190.814  29.0     0.129  ESP_011565_0930             Bilbao  both\n",
       "52   221.134  29.0     0.015  ESP_012211_0930             Bilbao  both\n",
       "53   200.494  29.0     0.034  ESP_011776_0930             Bilbao  both\n",
       "54   241.785  29.0     0.051  ESP_012633_0930             Bilbao  both\n",
       "55   252.215  29.0     0.178  ESP_012844_0930             Bilbao  both\n",
       "..       ...   ...       ...              ...                ...   ...\n",
       "179  251.919  29.0     0.012  ESP_012838_0950               Troy  both\n",
       "180  262.343  29.0     0.031  ESP_013049_0950               Troy  both\n",
       "181  181.117  29.0     0.004  ESP_011348_0950               Troy  both\n",
       "182  272.705  29.0     0.030  ESP_013260_0950               Troy  both\n",
       "183  233.415  29.0     0.036  ESP_012463_0930        Oswego_Edge  both\n",
       "184  261.406  29.0     0.068  ESP_013030_0930        Oswego_Edge  both\n",
       "185  192.676  29.0     0.037  ESP_011606_0930        Oswego_Edge  both\n",
       "186  250.979  29.0     0.041  ESP_012819_0930        Oswego_Edge  both\n",
       "187  212.350  29.0     0.042  ESP_012028_0930        Oswego_Edge  both\n",
       "199  242.525  29.0     0.012  ESP_012648_0930            Halifax  both\n",
       "200  214.880  29.0     0.083  ESP_012081_0930            Halifax  both\n",
       "201  184.393  29.0     0.002  ESP_011422_0930            Halifax  both\n",
       "202  196.062  29.0     0.073  ESP_011680_1055        Caterpillar  both\n",
       "203  229.987  29.0     0.127  ESP_012393_0965          Rochester  both\n",
       "204  240.354  29.0     0.145  ESP_012604_0965          Rochester  both\n",
       "205  222.926  29.0     0.151  ESP_012248_0965          Rochester  both\n",
       "206  226.132  29.0     0.144  ESP_012314_0965          Rochester  both\n",
       "207  251.077  29.0     0.062  ESP_012821_0865   Manhattan_Cracks  both\n",
       "208  197.699  30.0     0.077  ESP_020532_0935   Manhattan_Cracks  both\n",
       "209  242.693  30.0     0.060  ESP_021468_0935   Manhattan_Cracks  both\n",
       "210  185.136  30.0     0.068  ESP_020255_0935   Manhattan_Cracks  both\n",
       "211  285.423  30.0     0.001  ESP_022339_0935   Manhattan_Cracks  both\n",
       "213  207.279  29.0     0.056  ESP_011921_0950        Schenectady  both\n",
       "214  223.218  29.0     0.014  ESP_012254_1065         Binghamton  both\n",
       "215  254.344  29.0     0.031  ESP_012887_1065         Binghamton  both\n",
       "216  212.826  29.0     0.019  ESP_012038_0930               Atka  both\n",
       "217  243.661  29.0     0.010  ESP_012671_0930               Atka  both\n",
       "218  250.830  29.0     0.007  ESP_012816_0930               Atka  both\n",
       "219  183.994  29.0     0.020  ESP_011413_0970           Cortland  both\n",
       "220  278.375  30.0     0.005  ESP_022193_0950            Geneseo  both\n",
       "\n",
       "[105 rows x 6 columns]"
      ]
     },
     "execution_count": 186,
     "metadata": {},
     "output_type": "execute_result"
    },
    {
     "data": {
      "application/javascript": [
       "\n",
       "        setTimeout(function() {\n",
       "            var nbb_cell_id = 186;\n",
       "            var nbb_formatted_code = \"bbr.head()\";\n",
       "            var nbb_cells = Jupyter.notebook.get_cells();\n",
       "            for (var i = 0; i < nbb_cells.length; ++i) {\n",
       "                if (nbb_cells[i].input_prompt_number == nbb_cell_id) {\n",
       "                    nbb_cells[i].set_text(nbb_formatted_code);\n",
       "                    break;\n",
       "                }\n",
       "            }\n",
       "        }, 500);\n",
       "        "
      ],
      "text/plain": [
       "<IPython.core.display.Javascript object>"
      ]
     },
     "metadata": {},
     "output_type": "display_data"
    }
   ],
   "source": [
    "bbr.head()"
   ]
  },
  {
   "cell_type": "code",
   "execution_count": null,
   "metadata": {},
   "outputs": [],
   "source": [
    "#make something that breaks up the df into ones for both, fans, and blotches so that we can do analysis separately too.\n",
    "#then for each broken up bit, do counts vs l_s by region?  That's a lot of tables, maybe we want something else, ask."
   ]
  }
 ],
 "metadata": {
  "kernelspec": {
   "display_name": "Python 3",
   "language": "python",
   "name": "python3"
  },
  "language_info": {
   "codemirror_mode": {
    "name": "ipython",
    "version": 3
   },
   "file_extension": ".py",
   "mimetype": "text/x-python",
   "name": "python",
   "nbconvert_exporter": "python",
   "pygments_lexer": "ipython3",
   "version": "3.7.1"
  }
 },
 "nbformat": 4,
 "nbformat_minor": 2
}
