{
 "cells": [
  {
   "cell_type": "markdown",
   "metadata": {},
   "source": [
    "About to rerun this but will alter the way obsids are stored, going to comment out old one and write new one in above it.  Revert if it doesn't work."
   ]
  },
  {
   "cell_type": "code",
   "execution_count": 1,
   "metadata": {},
   "outputs": [],
   "source": [
    "#Import all the tools we'll need\n",
    "import pandas as pd\n",
    "import geopandas as gp\n",
    "import shapely as sp\n",
    "from shapely.geometry import Point, Polygon, MultiPolygon\n",
    "import numpy as np\n",
    "from itertools import combinations\n",
    "import intake\n",
    "from shapely.geometry import MultiPoint"
   ]
  },
  {
   "cell_type": "code",
   "execution_count": 2,
   "metadata": {},
   "outputs": [],
   "source": [
    "#Michael's code, gets the polygon of an obsid\n",
    "def get_outer_polygon_for_obsid(obsid, return_hull=True):\n",
    "    tiles = pd.read_csv(\"tile_coordinates.csv\")\n",
    "    obsid_tiles = tiles.query(\"obsid == @obsid\")\n",
    "    cols = \"BodyFixedCoordinateX BodyFixedCoordinateY\".split()\n",
    "    coords = obsid_tiles[cols]\n",
    "    coords.columns = [\"x\", \"y\"]\n",
    "    mp = MultiPoint(list(zip(coords.x, coords.y)))\n",
    "    if return_hull:\n",
    "        return mp.convex_hull\n",
    "    else:\n",
    "        return mp"
   ]
  },
  {
   "cell_type": "code",
   "execution_count": 3,
   "metadata": {},
   "outputs": [],
   "source": [
    "#My code, goes through every possible combination of polygons and gives areas\n",
    "def interchecker(polygon_array):\n",
    "    \"\"\"\n",
    "    \n",
    "    \"\"\"\n",
    "    bucket2 = []\n",
    "    combos = []\n",
    "    iterable1 = range(len(polygon_array)) \n",
    "    p = len(polygon_array)\n",
    "    for n in iterable1:\n",
    "        if p > 0:\n",
    "            comb = list(combinations(iterable1,p))\n",
    "            for item in comb:\n",
    "                x = item\n",
    "                combos.append(x)\n",
    "            p = p-1\n",
    "        else:\n",
    "            end\n",
    "\n",
    "    #the above gives us an array of each possible combination eg\n",
    "    #combos = [comb[0],comb[1],...]\n",
    "    #where comb[0] could be (0,1,2,4) or something of the sort\n",
    "    \n",
    "    for ele in combos:\n",
    "        d = {}\n",
    "        #print(ele) #shows the element used\n",
    "        #d['region_name'] = region\n",
    "        #d['index_used'] = ele #for testing\n",
    "        bucket = []\n",
    "        for number in ele:\n",
    "            bucket.append(polygon_array[number])\n",
    "            #bucket now [poly0, poly1, poly2, poly4] if using comb[0] above\n",
    "        d['elements_used'] = bucket\n",
    "        Multi = MultiPolygon(bucket)\n",
    "        d['multipolygon'] = Multi\n",
    "        if len(bucket)>1:\n",
    "            y = bucket[0].intersection(bucket[1])\n",
    "            for i in range(len(bucket)-2):\n",
    "                y = y.intersection(bucket[i+2])\n",
    "            #print(y.area)\n",
    "            d[\"combo_area\"]= y.area\n",
    "        else:\n",
    "            #print(bucket[0].area)\n",
    "            d['combo_area'] = bucket[0].area\n",
    "        #for number in ele:\n",
    "            #d['elements_used'] = polygon_array[number]\n",
    "            #must move elements used to get every element used- where?\n",
    "        bucket2.append(d)\n",
    "    return pd.DataFrame(bucket2)"
   ]
  },
  {
   "cell_type": "code",
   "execution_count": 4,
   "metadata": {},
   "outputs": [],
   "source": [
    "olddata = pd.read_csv(\"n_obj_df.csv\") #old dataframe we're comparing to\n",
    "#updating n_obj_df (from calculate_fractional_coverage_new notebook)"
   ]
  },
  {
   "cell_type": "code",
   "execution_count": 5,
   "metadata": {},
   "outputs": [
    {
     "data": {
      "text/html": [
       "<div>\n",
       "<style scoped>\n",
       "    .dataframe tbody tr th:only-of-type {\n",
       "        vertical-align: middle;\n",
       "    }\n",
       "\n",
       "    .dataframe tbody tr th {\n",
       "        vertical-align: top;\n",
       "    }\n",
       "\n",
       "    .dataframe thead th {\n",
       "        text-align: right;\n",
       "    }\n",
       "</style>\n",
       "<table border=\"1\" class=\"dataframe\">\n",
       "  <thead>\n",
       "    <tr style=\"text-align: right;\">\n",
       "      <th></th>\n",
       "      <th>Latitude</th>\n",
       "      <th>Ls</th>\n",
       "      <th>MY</th>\n",
       "      <th>Which</th>\n",
       "      <th>fraction</th>\n",
       "      <th>n_objects</th>\n",
       "      <th>obsid</th>\n",
       "      <th>pixel_area</th>\n",
       "      <th>region_name</th>\n",
       "    </tr>\n",
       "  </thead>\n",
       "  <tbody>\n",
       "    <tr>\n",
       "      <th>0</th>\n",
       "      <td>-85.4074</td>\n",
       "      <td>214.785</td>\n",
       "      <td>29</td>\n",
       "      <td>both</td>\n",
       "      <td>0.115</td>\n",
       "      <td>933</td>\n",
       "      <td>ESP_012079_0945</td>\n",
       "      <td>2.551911e+07</td>\n",
       "      <td>Macclesfield</td>\n",
       "    </tr>\n",
       "    <tr>\n",
       "      <th>1</th>\n",
       "      <td>-85.4065</td>\n",
       "      <td>183.727</td>\n",
       "      <td>29</td>\n",
       "      <td>both</td>\n",
       "      <td>0.070</td>\n",
       "      <td>1971</td>\n",
       "      <td>ESP_011407_0945</td>\n",
       "      <td>2.592302e+06</td>\n",
       "      <td>Macclesfield</td>\n",
       "    </tr>\n",
       "    <tr>\n",
       "      <th>2</th>\n",
       "      <td>-85.4056</td>\n",
       "      <td>198.040</td>\n",
       "      <td>29</td>\n",
       "      <td>both</td>\n",
       "      <td>0.072</td>\n",
       "      <td>1525</td>\n",
       "      <td>ESP_011723_0945</td>\n",
       "      <td>8.455380e+06</td>\n",
       "      <td>Macclesfield</td>\n",
       "    </tr>\n",
       "    <tr>\n",
       "      <th>3</th>\n",
       "      <td>-85.4049</td>\n",
       "      <td>207.892</td>\n",
       "      <td>29</td>\n",
       "      <td>both</td>\n",
       "      <td>0.168</td>\n",
       "      <td>788</td>\n",
       "      <td>ESP_011934_0945</td>\n",
       "      <td>7.357966e+06</td>\n",
       "      <td>Macclesfield</td>\n",
       "    </tr>\n",
       "    <tr>\n",
       "      <th>4</th>\n",
       "      <td>-85.4067</td>\n",
       "      <td>235.282</td>\n",
       "      <td>29</td>\n",
       "      <td>both</td>\n",
       "      <td>0.111</td>\n",
       "      <td>1285</td>\n",
       "      <td>ESP_012501_0945</td>\n",
       "      <td>4.882627e+06</td>\n",
       "      <td>Macclesfield</td>\n",
       "    </tr>\n",
       "  </tbody>\n",
       "</table>\n",
       "</div>"
      ],
      "text/plain": [
       "   Latitude       Ls  MY Which  fraction  n_objects            obsid  \\\n",
       "0  -85.4074  214.785  29  both     0.115        933  ESP_012079_0945   \n",
       "1  -85.4065  183.727  29  both     0.070       1971  ESP_011407_0945   \n",
       "2  -85.4056  198.040  29  both     0.072       1525  ESP_011723_0945   \n",
       "3  -85.4049  207.892  29  both     0.168        788  ESP_011934_0945   \n",
       "4  -85.4067  235.282  29  both     0.111       1285  ESP_012501_0945   \n",
       "\n",
       "     pixel_area   region_name  \n",
       "0  2.551911e+07  Macclesfield  \n",
       "1  2.592302e+06  Macclesfield  \n",
       "2  8.455380e+06  Macclesfield  \n",
       "3  7.357966e+06  Macclesfield  \n",
       "4  4.882627e+06  Macclesfield  "
      ]
     },
     "execution_count": 5,
     "metadata": {},
     "output_type": "execute_result"
    }
   ],
   "source": [
    "olddata.head() #check it loaded in correctly"
   ]
  },
  {
   "cell_type": "code",
   "execution_count": 6,
   "metadata": {},
   "outputs": [],
   "source": [
    "testregion = 'Macclesfield' #set a test region"
   ]
  },
  {
   "cell_type": "code",
   "execution_count": 7,
   "metadata": {},
   "outputs": [],
   "source": [
    "#Make a smaller df with areas, obsids, polygons, and region names\n",
    "bucket = []\n",
    "for obs in olddata[olddata['region_name'] == testregion].obsid.unique():\n",
    "    d = {}\n",
    "    d['region_name'] = testregion\n",
    "    d['Obsid_Used'] = obs\n",
    "    x = get_outer_polygon_for_obsid(obs)\n",
    "    area = x.area\n",
    "    d['Obsid_Area'] = area\n",
    "    d['polygon_shape'] = x\n",
    "    bucket.append(d)\n",
    "results = pd.DataFrame(bucket)"
   ]
  },
  {
   "cell_type": "code",
   "execution_count": 8,
   "metadata": {
    "scrolled": true
   },
   "outputs": [
    {
     "data": {
      "text/html": [
       "<div>\n",
       "<style scoped>\n",
       "    .dataframe tbody tr th:only-of-type {\n",
       "        vertical-align: middle;\n",
       "    }\n",
       "\n",
       "    .dataframe tbody tr th {\n",
       "        vertical-align: top;\n",
       "    }\n",
       "\n",
       "    .dataframe thead th {\n",
       "        text-align: right;\n",
       "    }\n",
       "</style>\n",
       "<table border=\"1\" class=\"dataframe\">\n",
       "  <thead>\n",
       "    <tr style=\"text-align: right;\">\n",
       "      <th></th>\n",
       "      <th>Obsid_Area</th>\n",
       "      <th>Obsid_Used</th>\n",
       "      <th>polygon_shape</th>\n",
       "      <th>region_name</th>\n",
       "    </tr>\n",
       "  </thead>\n",
       "  <tbody>\n",
       "    <tr>\n",
       "      <th>0</th>\n",
       "      <td>10.754545</td>\n",
       "      <td>ESP_012079_0945</td>\n",
       "      <td>POLYGON ((-67.69881540000002 255.7925763, -68....</td>\n",
       "      <td>Macclesfield</td>\n",
       "    </tr>\n",
       "    <tr>\n",
       "      <th>1</th>\n",
       "      <td>2.720774</td>\n",
       "      <td>ESP_011407_0945</td>\n",
       "      <td>POLYGON ((-79.4964947 242.6512937, -71.7773945...</td>\n",
       "      <td>Macclesfield</td>\n",
       "    </tr>\n",
       "    <tr>\n",
       "      <th>2</th>\n",
       "      <td>14.759485</td>\n",
       "      <td>ESP_011723_0945</td>\n",
       "      <td>POLYGON ((-72.54717990000002 244.8776493, -72....</td>\n",
       "      <td>Macclesfield</td>\n",
       "    </tr>\n",
       "    <tr>\n",
       "      <th>3</th>\n",
       "      <td>5.338690</td>\n",
       "      <td>ESP_011934_0945</td>\n",
       "      <td>POLYGON ((-68.00317840000001 256.1826178, -68....</td>\n",
       "      <td>Macclesfield</td>\n",
       "    </tr>\n",
       "    <tr>\n",
       "      <th>4</th>\n",
       "      <td>5.246979</td>\n",
       "      <td>ESP_012501_0945</td>\n",
       "      <td>POLYGON ((-67.989408 256.1117836, -68.32543100...</td>\n",
       "      <td>Macclesfield</td>\n",
       "    </tr>\n",
       "    <tr>\n",
       "      <th>5</th>\n",
       "      <td>6.933368</td>\n",
       "      <td>ESP_012290_0945</td>\n",
       "      <td>POLYGON ((-66.91617959999999 257.8571416, -67....</td>\n",
       "      <td>Macclesfield</td>\n",
       "    </tr>\n",
       "    <tr>\n",
       "      <th>6</th>\n",
       "      <td>7.428567</td>\n",
       "      <td>ESP_011406_0945</td>\n",
       "      <td>POLYGON ((-66.20375920000001 254.0296356, -66....</td>\n",
       "      <td>Macclesfield</td>\n",
       "    </tr>\n",
       "    <tr>\n",
       "      <th>7</th>\n",
       "      <td>6.965716</td>\n",
       "      <td>ESP_021494_0945</td>\n",
       "      <td>POLYGON ((-66.8270493 258.3039062, -66.9954035...</td>\n",
       "      <td>Macclesfield</td>\n",
       "    </tr>\n",
       "    <tr>\n",
       "      <th>8</th>\n",
       "      <td>5.204890</td>\n",
       "      <td>ESP_020782_0945</td>\n",
       "      <td>POLYGON ((-66.48888240000001 259.2801681, -66....</td>\n",
       "      <td>Macclesfield</td>\n",
       "    </tr>\n",
       "    <tr>\n",
       "      <th>9</th>\n",
       "      <td>5.208502</td>\n",
       "      <td>ESP_020716_0945</td>\n",
       "      <td>POLYGON ((-66.41012389999999 259.1488139, -66....</td>\n",
       "      <td>Macclesfield</td>\n",
       "    </tr>\n",
       "    <tr>\n",
       "      <th>10</th>\n",
       "      <td>5.248860</td>\n",
       "      <td>ESP_020571_0945</td>\n",
       "      <td>POLYGON ((-68.1007281 256.0211117, -68.4359608...</td>\n",
       "      <td>Macclesfield</td>\n",
       "    </tr>\n",
       "    <tr>\n",
       "      <th>11</th>\n",
       "      <td>5.360264</td>\n",
       "      <td>ESP_020294_0945</td>\n",
       "      <td>POLYGON ((-67.81681570000001 255.7067674, -68....</td>\n",
       "      <td>Macclesfield</td>\n",
       "    </tr>\n",
       "    <tr>\n",
       "      <th>12</th>\n",
       "      <td>5.228874</td>\n",
       "      <td>ESP_020927_0945</td>\n",
       "      <td>POLYGON ((-66.3908655 259.2209935, -66.5601174...</td>\n",
       "      <td>Macclesfield</td>\n",
       "    </tr>\n",
       "    <tr>\n",
       "      <th>13</th>\n",
       "      <td>0.648516</td>\n",
       "      <td>ESP_020242_0945</td>\n",
       "      <td>POLYGON ((-72.036563 255.3495718, -71.68194370...</td>\n",
       "      <td>Macclesfield</td>\n",
       "    </tr>\n",
       "  </tbody>\n",
       "</table>\n",
       "</div>"
      ],
      "text/plain": [
       "    Obsid_Area       Obsid_Used  \\\n",
       "0    10.754545  ESP_012079_0945   \n",
       "1     2.720774  ESP_011407_0945   \n",
       "2    14.759485  ESP_011723_0945   \n",
       "3     5.338690  ESP_011934_0945   \n",
       "4     5.246979  ESP_012501_0945   \n",
       "5     6.933368  ESP_012290_0945   \n",
       "6     7.428567  ESP_011406_0945   \n",
       "7     6.965716  ESP_021494_0945   \n",
       "8     5.204890  ESP_020782_0945   \n",
       "9     5.208502  ESP_020716_0945   \n",
       "10    5.248860  ESP_020571_0945   \n",
       "11    5.360264  ESP_020294_0945   \n",
       "12    5.228874  ESP_020927_0945   \n",
       "13    0.648516  ESP_020242_0945   \n",
       "\n",
       "                                        polygon_shape   region_name  \n",
       "0   POLYGON ((-67.69881540000002 255.7925763, -68....  Macclesfield  \n",
       "1   POLYGON ((-79.4964947 242.6512937, -71.7773945...  Macclesfield  \n",
       "2   POLYGON ((-72.54717990000002 244.8776493, -72....  Macclesfield  \n",
       "3   POLYGON ((-68.00317840000001 256.1826178, -68....  Macclesfield  \n",
       "4   POLYGON ((-67.989408 256.1117836, -68.32543100...  Macclesfield  \n",
       "5   POLYGON ((-66.91617959999999 257.8571416, -67....  Macclesfield  \n",
       "6   POLYGON ((-66.20375920000001 254.0296356, -66....  Macclesfield  \n",
       "7   POLYGON ((-66.8270493 258.3039062, -66.9954035...  Macclesfield  \n",
       "8   POLYGON ((-66.48888240000001 259.2801681, -66....  Macclesfield  \n",
       "9   POLYGON ((-66.41012389999999 259.1488139, -66....  Macclesfield  \n",
       "10  POLYGON ((-68.1007281 256.0211117, -68.4359608...  Macclesfield  \n",
       "11  POLYGON ((-67.81681570000001 255.7067674, -68....  Macclesfield  \n",
       "12  POLYGON ((-66.3908655 259.2209935, -66.5601174...  Macclesfield  \n",
       "13  POLYGON ((-72.036563 255.3495718, -71.68194370...  Macclesfield  "
      ]
     },
     "execution_count": 8,
     "metadata": {},
     "output_type": "execute_result"
    }
   ],
   "source": [
    "results #show what we made immediately above"
   ]
  },
  {
   "cell_type": "code",
   "execution_count": 9,
   "metadata": {},
   "outputs": [],
   "source": [
    "#smaller df with obs used, obsid\n",
    "bucket = []\n",
    "for obs in olddata[olddata['region_name'] == testregion].obsid.unique():\n",
    "    d = {}\n",
    "    d['obsid'] = obs #we dont want obs, want obs used in combo\n",
    "    x = get_outer_polygon_for_obsid(obs)\n",
    "    d['obs_poly'] = x\n",
    "    bucket.append(d)\n",
    "testresult = pd.DataFrame(bucket)"
   ]
  },
  {
   "cell_type": "code",
   "execution_count": 10,
   "metadata": {},
   "outputs": [
    {
     "data": {
      "text/html": [
       "<div>\n",
       "<style scoped>\n",
       "    .dataframe tbody tr th:only-of-type {\n",
       "        vertical-align: middle;\n",
       "    }\n",
       "\n",
       "    .dataframe tbody tr th {\n",
       "        vertical-align: top;\n",
       "    }\n",
       "\n",
       "    .dataframe thead th {\n",
       "        text-align: right;\n",
       "    }\n",
       "</style>\n",
       "<table border=\"1\" class=\"dataframe\">\n",
       "  <thead>\n",
       "    <tr style=\"text-align: right;\">\n",
       "      <th></th>\n",
       "      <th>obs_poly</th>\n",
       "      <th>obsid</th>\n",
       "    </tr>\n",
       "  </thead>\n",
       "  <tbody>\n",
       "    <tr>\n",
       "      <th>0</th>\n",
       "      <td>POLYGON ((-67.69881540000002 255.7925763, -68....</td>\n",
       "      <td>ESP_012079_0945</td>\n",
       "    </tr>\n",
       "    <tr>\n",
       "      <th>1</th>\n",
       "      <td>POLYGON ((-79.4964947 242.6512937, -71.7773945...</td>\n",
       "      <td>ESP_011407_0945</td>\n",
       "    </tr>\n",
       "    <tr>\n",
       "      <th>2</th>\n",
       "      <td>POLYGON ((-72.54717990000002 244.8776493, -72....</td>\n",
       "      <td>ESP_011723_0945</td>\n",
       "    </tr>\n",
       "    <tr>\n",
       "      <th>3</th>\n",
       "      <td>POLYGON ((-68.00317840000001 256.1826178, -68....</td>\n",
       "      <td>ESP_011934_0945</td>\n",
       "    </tr>\n",
       "    <tr>\n",
       "      <th>4</th>\n",
       "      <td>POLYGON ((-67.989408 256.1117836, -68.32543100...</td>\n",
       "      <td>ESP_012501_0945</td>\n",
       "    </tr>\n",
       "  </tbody>\n",
       "</table>\n",
       "</div>"
      ],
      "text/plain": [
       "                                            obs_poly            obsid\n",
       "0  POLYGON ((-67.69881540000002 255.7925763, -68....  ESP_012079_0945\n",
       "1  POLYGON ((-79.4964947 242.6512937, -71.7773945...  ESP_011407_0945\n",
       "2  POLYGON ((-72.54717990000002 244.8776493, -72....  ESP_011723_0945\n",
       "3  POLYGON ((-68.00317840000001 256.1826178, -68....  ESP_011934_0945\n",
       "4  POLYGON ((-67.989408 256.1117836, -68.32543100...  ESP_012501_0945"
      ]
     },
     "execution_count": 10,
     "metadata": {},
     "output_type": "execute_result"
    }
   ],
   "source": [
    "testresult.head() #see what was created immediately above"
   ]
  },
  {
   "cell_type": "code",
   "execution_count": 11,
   "metadata": {},
   "outputs": [],
   "source": [
    "df1 = testresult #rename for convenience"
   ]
  },
  {
   "cell_type": "code",
   "execution_count": 12,
   "metadata": {},
   "outputs": [
    {
     "name": "stdout",
     "output_type": "stream",
     "text": [
      "16383\n"
     ]
    }
   ],
   "source": [
    "df2 = interchecker(testresult.obs_poly) #rename for convenience\n",
    "#df2.head()\n",
    "print(len(df2)) #check it's length (it's what we wanted it to be) "
   ]
  },
  {
   "cell_type": "code",
   "execution_count": 13,
   "metadata": {},
   "outputs": [
    {
     "data": {
      "text/html": [
       "<div>\n",
       "<style scoped>\n",
       "    .dataframe tbody tr th:only-of-type {\n",
       "        vertical-align: middle;\n",
       "    }\n",
       "\n",
       "    .dataframe tbody tr th {\n",
       "        vertical-align: top;\n",
       "    }\n",
       "\n",
       "    .dataframe thead th {\n",
       "        text-align: right;\n",
       "    }\n",
       "</style>\n",
       "<table border=\"1\" class=\"dataframe\">\n",
       "  <thead>\n",
       "    <tr style=\"text-align: right;\">\n",
       "      <th></th>\n",
       "      <th>combo_area</th>\n",
       "      <th>elements_used</th>\n",
       "      <th>multipolygon</th>\n",
       "    </tr>\n",
       "  </thead>\n",
       "  <tbody>\n",
       "    <tr>\n",
       "      <th>0</th>\n",
       "      <td>0.008637</td>\n",
       "      <td>[POLYGON ((-67.69881540000002 255.7925763, -68...</td>\n",
       "      <td>(POLYGON ((-67.69881540000002 255.7925763, -68...</td>\n",
       "    </tr>\n",
       "    <tr>\n",
       "      <th>1</th>\n",
       "      <td>0.073851</td>\n",
       "      <td>[POLYGON ((-67.69881540000002 255.7925763, -68...</td>\n",
       "      <td>(POLYGON ((-67.69881540000002 255.7925763, -68...</td>\n",
       "    </tr>\n",
       "    <tr>\n",
       "      <th>2</th>\n",
       "      <td>0.008637</td>\n",
       "      <td>[POLYGON ((-67.69881540000002 255.7925763, -68...</td>\n",
       "      <td>(POLYGON ((-67.69881540000002 255.7925763, -68...</td>\n",
       "    </tr>\n",
       "    <tr>\n",
       "      <th>3</th>\n",
       "      <td>0.008637</td>\n",
       "      <td>[POLYGON ((-67.69881540000002 255.7925763, -68...</td>\n",
       "      <td>(POLYGON ((-67.69881540000002 255.7925763, -68...</td>\n",
       "    </tr>\n",
       "    <tr>\n",
       "      <th>4</th>\n",
       "      <td>0.008637</td>\n",
       "      <td>[POLYGON ((-67.69881540000002 255.7925763, -68...</td>\n",
       "      <td>(POLYGON ((-67.69881540000002 255.7925763, -68...</td>\n",
       "    </tr>\n",
       "  </tbody>\n",
       "</table>\n",
       "</div>"
      ],
      "text/plain": [
       "   combo_area                                      elements_used  \\\n",
       "0    0.008637  [POLYGON ((-67.69881540000002 255.7925763, -68...   \n",
       "1    0.073851  [POLYGON ((-67.69881540000002 255.7925763, -68...   \n",
       "2    0.008637  [POLYGON ((-67.69881540000002 255.7925763, -68...   \n",
       "3    0.008637  [POLYGON ((-67.69881540000002 255.7925763, -68...   \n",
       "4    0.008637  [POLYGON ((-67.69881540000002 255.7925763, -68...   \n",
       "\n",
       "                                        multipolygon  \n",
       "0  (POLYGON ((-67.69881540000002 255.7925763, -68...  \n",
       "1  (POLYGON ((-67.69881540000002 255.7925763, -68...  \n",
       "2  (POLYGON ((-67.69881540000002 255.7925763, -68...  \n",
       "3  (POLYGON ((-67.69881540000002 255.7925763, -68...  \n",
       "4  (POLYGON ((-67.69881540000002 255.7925763, -68...  "
      ]
     },
     "execution_count": 13,
     "metadata": {},
     "output_type": "execute_result"
    }
   ],
   "source": [
    "df2.head()\n",
    "#this is the result of every possible combination of our polygons and their areas"
   ]
  },
  {
   "cell_type": "code",
   "execution_count": 14,
   "metadata": {},
   "outputs": [
    {
     "data": {
      "text/plain": [
       "14"
      ]
     },
     "execution_count": 14,
     "metadata": {},
     "output_type": "execute_result"
    }
   ],
   "source": [
    "len(df1) #check length, what we expected as macclesfield has 14 hirise images"
   ]
  },
  {
   "cell_type": "code",
   "execution_count": 15,
   "metadata": {},
   "outputs": [
    {
     "data": {
      "text/html": [
       "<div>\n",
       "<style scoped>\n",
       "    .dataframe tbody tr th:only-of-type {\n",
       "        vertical-align: middle;\n",
       "    }\n",
       "\n",
       "    .dataframe tbody tr th {\n",
       "        vertical-align: top;\n",
       "    }\n",
       "\n",
       "    .dataframe thead th {\n",
       "        text-align: right;\n",
       "    }\n",
       "</style>\n",
       "<table border=\"1\" class=\"dataframe\">\n",
       "  <thead>\n",
       "    <tr style=\"text-align: right;\">\n",
       "      <th></th>\n",
       "      <th>obs_poly</th>\n",
       "      <th>obsid</th>\n",
       "    </tr>\n",
       "  </thead>\n",
       "  <tbody>\n",
       "    <tr>\n",
       "      <th>0</th>\n",
       "      <td>POLYGON ((-67.69881540000002 255.7925763, -68....</td>\n",
       "      <td>ESP_012079_0945</td>\n",
       "    </tr>\n",
       "    <tr>\n",
       "      <th>1</th>\n",
       "      <td>POLYGON ((-79.4964947 242.6512937, -71.7773945...</td>\n",
       "      <td>ESP_011407_0945</td>\n",
       "    </tr>\n",
       "    <tr>\n",
       "      <th>2</th>\n",
       "      <td>POLYGON ((-72.54717990000002 244.8776493, -72....</td>\n",
       "      <td>ESP_011723_0945</td>\n",
       "    </tr>\n",
       "    <tr>\n",
       "      <th>3</th>\n",
       "      <td>POLYGON ((-68.00317840000001 256.1826178, -68....</td>\n",
       "      <td>ESP_011934_0945</td>\n",
       "    </tr>\n",
       "    <tr>\n",
       "      <th>4</th>\n",
       "      <td>POLYGON ((-67.989408 256.1117836, -68.32543100...</td>\n",
       "      <td>ESP_012501_0945</td>\n",
       "    </tr>\n",
       "  </tbody>\n",
       "</table>\n",
       "</div>"
      ],
      "text/plain": [
       "                                            obs_poly            obsid\n",
       "0  POLYGON ((-67.69881540000002 255.7925763, -68....  ESP_012079_0945\n",
       "1  POLYGON ((-79.4964947 242.6512937, -71.7773945...  ESP_011407_0945\n",
       "2  POLYGON ((-72.54717990000002 244.8776493, -72....  ESP_011723_0945\n",
       "3  POLYGON ((-68.00317840000001 256.1826178, -68....  ESP_011934_0945\n",
       "4  POLYGON ((-67.989408 256.1117836, -68.32543100...  ESP_012501_0945"
      ]
     },
     "execution_count": 15,
     "metadata": {},
     "output_type": "execute_result"
    }
   ],
   "source": [
    "df1.head()"
   ]
  },
  {
   "cell_type": "code",
   "execution_count": 16,
   "metadata": {},
   "outputs": [
    {
     "name": "stdout",
     "output_type": "stream",
     "text": [
      "16383\n"
     ]
    }
   ],
   "source": [
    "x = 14+91+364+1001+2002+3003+3432+3003+2002+1001+364+91+14+1\n",
    "print(x)#we expect this many combinations, and we get it! (= len(df2))"
   ]
  },
  {
   "cell_type": "code",
   "execution_count": 17,
   "metadata": {},
   "outputs": [],
   "source": [
    "Testregion_inter = interchecker(results.polygon_shape)\n",
    "#run interchecker on 'results', which is every obsid in the region"
   ]
  },
  {
   "cell_type": "code",
   "execution_count": 18,
   "metadata": {},
   "outputs": [
    {
     "data": {
      "text/html": [
       "<div>\n",
       "<style scoped>\n",
       "    .dataframe tbody tr th:only-of-type {\n",
       "        vertical-align: middle;\n",
       "    }\n",
       "\n",
       "    .dataframe tbody tr th {\n",
       "        vertical-align: top;\n",
       "    }\n",
       "\n",
       "    .dataframe thead th {\n",
       "        text-align: right;\n",
       "    }\n",
       "</style>\n",
       "<table border=\"1\" class=\"dataframe\">\n",
       "  <thead>\n",
       "    <tr style=\"text-align: right;\">\n",
       "      <th></th>\n",
       "      <th>combo_area</th>\n",
       "      <th>elements_used</th>\n",
       "      <th>multipolygon</th>\n",
       "    </tr>\n",
       "  </thead>\n",
       "  <tbody>\n",
       "    <tr>\n",
       "      <th>0</th>\n",
       "      <td>0.008637</td>\n",
       "      <td>[POLYGON ((-67.69881540000002 255.7925763, -68...</td>\n",
       "      <td>(POLYGON ((-67.69881540000002 255.7925763, -68...</td>\n",
       "    </tr>\n",
       "    <tr>\n",
       "      <th>1</th>\n",
       "      <td>0.073851</td>\n",
       "      <td>[POLYGON ((-67.69881540000002 255.7925763, -68...</td>\n",
       "      <td>(POLYGON ((-67.69881540000002 255.7925763, -68...</td>\n",
       "    </tr>\n",
       "    <tr>\n",
       "      <th>2</th>\n",
       "      <td>0.008637</td>\n",
       "      <td>[POLYGON ((-67.69881540000002 255.7925763, -68...</td>\n",
       "      <td>(POLYGON ((-67.69881540000002 255.7925763, -68...</td>\n",
       "    </tr>\n",
       "    <tr>\n",
       "      <th>3</th>\n",
       "      <td>0.008637</td>\n",
       "      <td>[POLYGON ((-67.69881540000002 255.7925763, -68...</td>\n",
       "      <td>(POLYGON ((-67.69881540000002 255.7925763, -68...</td>\n",
       "    </tr>\n",
       "    <tr>\n",
       "      <th>4</th>\n",
       "      <td>0.008637</td>\n",
       "      <td>[POLYGON ((-67.69881540000002 255.7925763, -68...</td>\n",
       "      <td>(POLYGON ((-67.69881540000002 255.7925763, -68...</td>\n",
       "    </tr>\n",
       "  </tbody>\n",
       "</table>\n",
       "</div>"
      ],
      "text/plain": [
       "   combo_area                                      elements_used  \\\n",
       "0    0.008637  [POLYGON ((-67.69881540000002 255.7925763, -68...   \n",
       "1    0.073851  [POLYGON ((-67.69881540000002 255.7925763, -68...   \n",
       "2    0.008637  [POLYGON ((-67.69881540000002 255.7925763, -68...   \n",
       "3    0.008637  [POLYGON ((-67.69881540000002 255.7925763, -68...   \n",
       "4    0.008637  [POLYGON ((-67.69881540000002 255.7925763, -68...   \n",
       "\n",
       "                                        multipolygon  \n",
       "0  (POLYGON ((-67.69881540000002 255.7925763, -68...  \n",
       "1  (POLYGON ((-67.69881540000002 255.7925763, -68...  \n",
       "2  (POLYGON ((-67.69881540000002 255.7925763, -68...  \n",
       "3  (POLYGON ((-67.69881540000002 255.7925763, -68...  \n",
       "4  (POLYGON ((-67.69881540000002 255.7925763, -68...  "
      ]
     },
     "execution_count": 18,
     "metadata": {},
     "output_type": "execute_result"
    }
   ],
   "source": [
    "Testregion_inter.head() #check what it looks like, looks correct"
   ]
  },
  {
   "cell_type": "code",
   "execution_count": 19,
   "metadata": {},
   "outputs": [
    {
     "data": {
      "image/svg+xml": [
       "<svg xmlns=\"http://www.w3.org/2000/svg\" xmlns:xlink=\"http://www.w3.org/1999/xlink\" width=\"100.0\" height=\"100.0\" viewBox=\"-81.105624412 241.042163988 31.243119324000006 43.44650222400011\" preserveAspectRatio=\"xMinYMin meet\"><g transform=\"matrix(1,0,0,-1,0,525.5308302000001)\"><g><path fill-rule=\"evenodd\" fill=\"#ff3333\" stroke=\"#555555\" stroke-width=\"0.8689300444800022\" opacity=\"0.6\" d=\"M -67.69881540000002,255.79257630000004 L -68.0397766,255.9241635 L -68.2102417,255.9901059 L -68.3806735,256.0561472 L -66.5165821,260.8401089 L -65.9265706,262.3506059 L -65.7792438,262.727603 L -65.4351928,263.6075048 L -65.18990550000001,264.2344785 L -64.9442308,264.8613011 L -64.6979937,265.4875738 L -64.4019769,266.2389609 L -63.3174531,268.9907508 L -63.07056650000001,269.61576610000003 L -62.38826820000001,269.3496037 L -67.5507085,256.169611 L -67.6000533,256.0438146 L -67.69881540000002,255.79257630000004 z\" /><path fill-rule=\"evenodd\" fill=\"#ff3333\" stroke=\"#555555\" stroke-width=\"0.8689300444800022\" opacity=\"0.6\" d=\"M -79.4964947,242.6512937 L -71.7773946,253.8635486 L -71.46847209999999,254.3115077 L -70.84964120000002,255.2074994 L -70.5397844,255.6551738 L -70.2291916,256.1023187 L -69.9174458,256.5497336 L -56.8173104,275.30803910000003 L -56.50581800000001,275.753868 L -56.1930716,276.1998598 L -55.87910890000001,276.6460092 L -55.25149620000001,277.5366029 L -54.9371813,277.9817438 L -54.62269420000001,278.42688530000004 L -53.6770012,279.76347860000004 L -53.04730479999999,280.6534371 L -51.4716348,282.8795365000001 L -79.4964947,242.6512937 z\" /><path fill-rule=\"evenodd\" fill=\"#ff3333\" stroke=\"#555555\" stroke-width=\"0.8689300444800022\" opacity=\"0.6\" d=\"M -72.54717990000002,244.87764930000003 L -72.8842343,245.0141336 L -65.1909364,263.8630052 L -64.7855186,264.855091 L -64.68419789999999,265.1028165 L -64.5826688,265.3505018 L -64.3794928,265.8454835 L -63.9731272,266.8351284 L -63.1602188,268.8128411 L -62.9568068,269.3076402 L -62.4485442,270.5434532 L -61.024266,274.0025687 L -58.2737336,280.6734549 L -57.9357451,280.5361091 L -58.1385669,280.0397582 L -58.2399819,279.791986 L -68.9956155,253.5288336 L -71.937942,246.361655 L -72.54717990000002,244.87764930000003 z\" /><path fill-rule=\"evenodd\" fill=\"#ff3333\" stroke=\"#555555\" stroke-width=\"0.8689300444800022\" opacity=\"0.6\" d=\"M -68.00317840000001,256.1826178 L -68.3417512,256.3222387 L -66.1611822,261.5696763 L -65.8495055,262.3195866 L -65.641774,262.8189481 L -65.53785160000001,263.0681557 L -65.2252855,263.8162465 L -64.91336020000001,264.5625696 L -64.8094088,264.8110625 L -64.6008765,265.3087539 L -63.87105699999999,267.04804069999994 L -63.7666627,267.2966906 L -63.1407482,268.787075 L -63.0364781,269.0349235 L -62.8272459,269.5315708 L -62.4887652,269.39109410000003 L -68.00317840000001,256.1826178 z\" /><path fill-rule=\"evenodd\" fill=\"#ff3333\" stroke=\"#555555\" stroke-width=\"0.8689300444800022\" opacity=\"0.6\" d=\"M -67.989408,256.1117836 L -68.32543100000001,256.2487721 L -66.3881271,260.96085930000004 L -66.18375089999999,261.4570084 L -65.877094,262.2007904 L -65.57096,262.9432131 L -65.4688224,263.1908765 L -65.3665628,263.4381557 L -64.75286039999999,264.919102 L -64.6505069,265.1657057 L -63.4211759,268.1222853 L -63.2160251,268.6154254 L -62.9083039,269.3548838 L -62.5722346,269.21637020000003 L -67.989408,256.1117836 z\" /><path fill-rule=\"evenodd\" fill=\"#ff3333\" stroke=\"#555555\" stroke-width=\"0.8689300444800022\" opacity=\"0.6\" d=\"M -66.91617959999999,257.8571416 L -67.084704,257.9234878 L -67.253222,257.9899059 L -67.4217001,258.0563379 L -67.5901413,258.12284950000003 L -66.60101999999999,260.6151089 L -66.1557433,261.7356397 L -66.1062794,261.8600123 L -66.00721120000001,262.1087463 L -65.9078122,262.3580958 L -65.8582764,262.48231880000003 L -65.8087356,262.6064769 L -65.1627429,264.2207531 L -64.9642067,264.7154315 L -64.9144947,264.8392169 L -64.616274,265.581491 L -64.2179212,266.5717628 L -64.06853249999999,266.942619 L -63.39415129999999,266.673769 L -66.91617959999999,257.8571416 z\" /><path fill-rule=\"evenodd\" fill=\"#ff3333\" stroke=\"#555555\" stroke-width=\"0.8689300444800022\" opacity=\"0.6\" d=\"M -66.20375920000001,254.0296356 L -66.5904706,254.0821575 L -65.492137,262.3902011 L -65.4549468,262.6669079 L -65.41729000000001,262.9430306 L -65.3793029,263.2190638 L -65.34115039999999,263.495134 L -65.2251404,264.3238774 L -65.1056691,265.150803 L -65.0656566,265.4266204 L -64.9841588,265.9778126 L -64.902365,266.5288135 L -64.779391,267.3542665 L -64.1983702,271.2042383 L -63.80674370000001,271.14943250000005 L -66.20375920000001,254.0296356 z\" /><path fill-rule=\"evenodd\" fill=\"#ff3333\" stroke=\"#555555\" stroke-width=\"0.8689300444800022\" opacity=\"0.6\" d=\"M -66.8270493,258.3039062 L -66.99540350000001,258.37205550000004 L -67.3320853,258.5085778 L -67.5004358,258.5772169 L -66.8890825,260.0701898 L -66.7871343,260.3189432 L -66.68516460000001,260.5675128 L -66.1742072,261.8116355 L -66.1231275,261.9358572 L -66.0210631,262.1840674 L -65.9700462,262.30801030000003 L -65.1521652,264.2922587 L -64.94811329999999,264.7867986 L -64.5906561,265.6524023 L -64.4883417,265.89924069999995 L -63.8733181,267.3815875 L -63.19960940000001,267.1051661 L -66.8270493,258.3039062 z\" /><path fill-rule=\"evenodd\" fill=\"#ff3333\" stroke=\"#555555\" stroke-width=\"0.8689300444800022\" opacity=\"0.6\" d=\"M -66.48888240000001,259.2801681 L -66.6563037,259.3515511 L -66.9911345,259.4950725 L -67.1584985,259.5670892 L -66.8906934,260.1857421 L -66.73026750000001,260.55623560000004 L -66.462911,261.1736397 L -66.40941,261.2970602 L -66.08787579999999,262.0383077 L -66.03413710000001,262.1621554 L -65.9268147,262.4090967 L -64.6937614,265.2387955 L -64.3722892,265.976357 L -64.31871629999999,266.0991509 L -63.8167972,265.8818452 L -63.64943960000001,265.8093375 L -66.48888240000001,259.2801681 z\" /><path fill-rule=\"evenodd\" fill=\"#ff3333\" stroke=\"#555555\" stroke-width=\"0.8689300444800022\" opacity=\"0.6\" d=\"M -66.41012389999999,259.1488139 L -66.5793564,259.2147554 L -67.0871084,259.41344530000003 L -66.93910629999999,259.7900462 L -66.6924805,260.4163203 L -66.5936245,260.66654359999995 L -66.2470449,261.5436983 L -66.14791460000001,261.7938095 L -65.55294479999999,263.2928816 L -65.5033939,263.4176064 L -65.45378670000001,263.5422097 L -65.3048913,263.91581940000003 L -65.15570579999999,264.29002510000004 L -64.4597647,266.031727 L -63.7819353,265.7636277 L -66.41012389999999,259.1488139 z\" /><path fill-rule=\"evenodd\" fill=\"#ff3333\" stroke=\"#555555\" stroke-width=\"0.8689300444800022\" opacity=\"0.6\" d=\"M -68.1007281,256.0211117 L -68.4359608,256.1613484 L -66.3487873,261.1111511 L -65.93108079999999,262.1015861 L -65.8265813,262.3488142 L -65.5123346,263.0903965 L -65.4077234,263.3372086 L -64.675055,265.0628227 L -64.3610307,265.8010258 L -63.10547879999999,268.7523879 L -62.8955461,269.2440245 L -62.560394,269.1023968 L -67.89131280000001,256.5152646 L -68.1007281,256.0211117 z\" /><path fill-rule=\"evenodd\" fill=\"#ff3333\" stroke=\"#555555\" stroke-width=\"0.8689300444800022\" opacity=\"0.6\" d=\"M -66.3908655,259.2209935 L -66.5601174,259.2882669 L -67.06793470000001,259.49105 L -66.8660512,259.9927417 L -66.16062420000002,261.7443754 L -66.1102495,261.8693508 L -66.00932850000001,262.11929680000003 L -65.9084769,262.369054 L -65.858041,262.4938131 L -65.6561315,262.99291150000005 L -65.2520713,263.9906871 L -65.1510034,264.2397173 L -64.7974492,265.1100653 L -64.6961791,265.3588556 L -64.39197239999999,266.10523 L -63.71417339999999,265.83130800000004 L -66.3908655,259.2209935 z\" /><path fill-rule=\"evenodd\" fill=\"#ff3333\" stroke=\"#555555\" stroke-width=\"0.8689300444800022\" opacity=\"0.6\" d=\"M -72.036563,255.34957180000004 L -71.6819437,255.7777693 L -71.3241671,256.2040831 L -70.9666306,256.6300287 L -70.2464344,257.4821412 L -59.4082123,270.2231537 L -60.12216529999999,269.36964950000004 L -60.4798708,268.943077 L -63.34337539999999,265.5328469 L -64.41850500000001,264.2531397 L -64.77856460000001,263.8273292 L -65.1391168,263.40223849999995 L -65.50059350000001,262.9770789 L -72.036563,255.34957180000004 z\" /></g></g></svg>"
      ],
      "text/plain": [
       "<shapely.geometry.multipolygon.MultiPolygon at 0x2abdb48a6d8>"
      ]
     },
     "execution_count": 19,
     "metadata": {},
     "output_type": "execute_result"
    }
   ],
   "source": [
    "Testregion_inter.multipolygon[3]"
   ]
  },
  {
   "cell_type": "code",
   "execution_count": 20,
   "metadata": {},
   "outputs": [
    {
     "data": {
      "image/svg+xml": [
       "<svg xmlns=\"http://www.w3.org/2000/svg\" xmlns:xlink=\"http://www.w3.org/1999/xlink\" width=\"100.0\" height=\"100.0\" viewBox=\"-81.105624412 241.042163988 31.243119324000006 43.44650222400011\" preserveAspectRatio=\"xMinYMin meet\"><g transform=\"matrix(1,0,0,-1,0,525.5308302000001)\"><g><path fill-rule=\"evenodd\" fill=\"#ff3333\" stroke=\"#555555\" stroke-width=\"0.8689300444800022\" opacity=\"0.6\" d=\"M -79.4964947,242.6512937 L -71.7773946,253.8635486 L -71.46847209999999,254.3115077 L -70.84964120000002,255.2074994 L -70.5397844,255.6551738 L -70.2291916,256.1023187 L -69.9174458,256.5497336 L -56.8173104,275.30803910000003 L -56.50581800000001,275.753868 L -56.1930716,276.1998598 L -55.87910890000001,276.6460092 L -55.25149620000001,277.5366029 L -54.9371813,277.9817438 L -54.62269420000001,278.42688530000004 L -53.6770012,279.76347860000004 L -53.04730479999999,280.6534371 L -51.4716348,282.8795365000001 L -79.4964947,242.6512937 z\" /><path fill-rule=\"evenodd\" fill=\"#ff3333\" stroke=\"#555555\" stroke-width=\"0.8689300444800022\" opacity=\"0.6\" d=\"M -67.8168157,255.7067674 L -68.1598019,255.8320871 L -65.9262375,261.9102504 L -65.8330155,262.1631395 L -65.7397877,262.4160058 L -65.6462647,262.6689747 L -65.5521981,262.9232746 L -65.0848343,264.1855974 L -64.9911218,264.4374384 L -64.6149643,265.4449307 L -63.2976245,268.9658701 L -63.20329320000001,269.2167699 L -62.8600061,269.0904127 L -67.8168157,255.7067674 z\" /></g></g></svg>"
      ],
      "text/plain": [
       "<shapely.geometry.multipolygon.MultiPolygon at 0x2abdd491c88>"
      ]
     },
     "execution_count": 20,
     "metadata": {},
     "output_type": "execute_result"
    }
   ],
   "source": [
    "Testregion_inter.multipolygon[16300]"
   ]
  },
  {
   "cell_type": "code",
   "execution_count": 21,
   "metadata": {},
   "outputs": [
    {
     "data": {
      "image/svg+xml": [
       "<svg xmlns=\"http://www.w3.org/2000/svg\" xmlns:xlink=\"http://www.w3.org/1999/xlink\" width=\"100.0\" height=\"100.0\" viewBox=\"-68.933601092 255.23964870800003 7.098260483999994 14.929044984\" preserveAspectRatio=\"xMinYMin meet\"><g transform=\"matrix(1,0,0,-1,0,525.4083424)\"><path fill-rule=\"evenodd\" fill=\"#66cc99\" stroke=\"#555555\" stroke-width=\"0.29858089968\" opacity=\"0.6\" d=\"M -67.69881540000002,255.79257630000004 L -68.0397766,255.9241635 L -68.2102417,255.9901059 L -68.3806735,256.0561472 L -66.5165821,260.8401089 L -65.9265706,262.3506059 L -65.7792438,262.727603 L -65.4351928,263.6075048 L -65.18990550000001,264.2344785 L -64.9442308,264.8613011 L -64.6979937,265.4875738 L -64.4019769,266.2389609 L -63.3174531,268.9907508 L -63.07056650000001,269.61576610000003 L -62.38826820000001,269.3496037 L -67.5507085,256.169611 L -67.6000533,256.0438146 L -67.69881540000002,255.79257630000004 z\" /></g></svg>"
      ],
      "text/plain": [
       "<shapely.geometry.polygon.Polygon at 0x2abdd4a48d0>"
      ]
     },
     "execution_count": 21,
     "metadata": {},
     "output_type": "execute_result"
    }
   ],
   "source": [
    "Testregion_inter.multipolygon[0][0]"
   ]
  },
  {
   "cell_type": "code",
   "execution_count": 22,
   "metadata": {},
   "outputs": [
    {
     "data": {
      "text/plain": [
       "14.759485453249887"
      ]
     },
     "execution_count": 22,
     "metadata": {},
     "output_type": "execute_result"
    }
   ],
   "source": [
    "results.Obsid_Area.max()"
   ]
  },
  {
   "cell_type": "code",
   "execution_count": 23,
   "metadata": {
    "scrolled": true
   },
   "outputs": [
    {
     "data": {
      "text/plain": [
       "14.759485453249887"
      ]
     },
     "execution_count": 23,
     "metadata": {},
     "output_type": "execute_result"
    }
   ],
   "source": [
    "Testregion_inter.combo_area.max()\n",
    "#the max area is still correct, nothing got made bigger at least"
   ]
  },
  {
   "cell_type": "code",
   "execution_count": 24,
   "metadata": {},
   "outputs": [],
   "source": [
    "#Testregion_inter.combo_area.head()"
   ]
  },
  {
   "cell_type": "code",
   "execution_count": 25,
   "metadata": {},
   "outputs": [],
   "source": [
    "bucket2 = []\n",
    "for ele in Testregion_inter.index:\n",
    "    #print(ele)\n",
    "    polylist = Testregion_inter.elements_used[ele]\n",
    "    bucket = []\n",
    "    for poly in polylist:\n",
    "        x = df1.obsid[df1['obs_poly'] == poly].values[0]\n",
    "        bucket.append(x)\n",
    "    bucket2.append(bucket)\n",
    "Testregion_inter['obsids_used'] = np.array(bucket2)\n",
    "#use olddata and Testregion_inter, combine so that we get a list of\n",
    "#the obsids used which we add to our Testregion_inter dataframe"
   ]
  },
  {
   "cell_type": "code",
   "execution_count": 26,
   "metadata": {},
   "outputs": [],
   "source": [
    "#THIS IS THE REAL ONE! Save!\n",
    "# bucket2 = []\n",
    "# for ele in Testregion_inter.index:\n",
    "#     #print(ele)\n",
    "#     polylist = Testregion_inter.elements_used[ele]\n",
    "#     bucket = []\n",
    "#     for poly in polylist:\n",
    "#         x = df1.obsid[df1['obs_poly'] == poly].values[0]\n",
    "#         bucket.append(x)\n",
    "#     bucket = tuple(bucket)\n",
    "#     bucket2.append(bucket)\n",
    "# Testregion_inter['obsids_used'] = np.array(bucket2)\n"
   ]
  },
  {
   "cell_type": "code",
   "execution_count": 27,
   "metadata": {},
   "outputs": [
    {
     "data": {
      "text/html": [
       "<div>\n",
       "<style scoped>\n",
       "    .dataframe tbody tr th:only-of-type {\n",
       "        vertical-align: middle;\n",
       "    }\n",
       "\n",
       "    .dataframe tbody tr th {\n",
       "        vertical-align: top;\n",
       "    }\n",
       "\n",
       "    .dataframe thead th {\n",
       "        text-align: right;\n",
       "    }\n",
       "</style>\n",
       "<table border=\"1\" class=\"dataframe\">\n",
       "  <thead>\n",
       "    <tr style=\"text-align: right;\">\n",
       "      <th></th>\n",
       "      <th>combo_area</th>\n",
       "      <th>elements_used</th>\n",
       "      <th>multipolygon</th>\n",
       "      <th>obsids_used</th>\n",
       "    </tr>\n",
       "  </thead>\n",
       "  <tbody>\n",
       "    <tr>\n",
       "      <th>0</th>\n",
       "      <td>0.008637</td>\n",
       "      <td>[POLYGON ((-67.69881540000002 255.7925763, -68...</td>\n",
       "      <td>(POLYGON ((-67.69881540000002 255.7925763, -68...</td>\n",
       "      <td>[ESP_012079_0945, ESP_011407_0945, ESP_011723_...</td>\n",
       "    </tr>\n",
       "    <tr>\n",
       "      <th>1</th>\n",
       "      <td>0.073851</td>\n",
       "      <td>[POLYGON ((-67.69881540000002 255.7925763, -68...</td>\n",
       "      <td>(POLYGON ((-67.69881540000002 255.7925763, -68...</td>\n",
       "      <td>[ESP_012079_0945, ESP_011407_0945, ESP_011723_...</td>\n",
       "    </tr>\n",
       "    <tr>\n",
       "      <th>2</th>\n",
       "      <td>0.008637</td>\n",
       "      <td>[POLYGON ((-67.69881540000002 255.7925763, -68...</td>\n",
       "      <td>(POLYGON ((-67.69881540000002 255.7925763, -68...</td>\n",
       "      <td>[ESP_012079_0945, ESP_011407_0945, ESP_011723_...</td>\n",
       "    </tr>\n",
       "    <tr>\n",
       "      <th>3</th>\n",
       "      <td>0.008637</td>\n",
       "      <td>[POLYGON ((-67.69881540000002 255.7925763, -68...</td>\n",
       "      <td>(POLYGON ((-67.69881540000002 255.7925763, -68...</td>\n",
       "      <td>[ESP_012079_0945, ESP_011407_0945, ESP_011723_...</td>\n",
       "    </tr>\n",
       "    <tr>\n",
       "      <th>4</th>\n",
       "      <td>0.008637</td>\n",
       "      <td>[POLYGON ((-67.69881540000002 255.7925763, -68...</td>\n",
       "      <td>(POLYGON ((-67.69881540000002 255.7925763, -68...</td>\n",
       "      <td>[ESP_012079_0945, ESP_011407_0945, ESP_011723_...</td>\n",
       "    </tr>\n",
       "  </tbody>\n",
       "</table>\n",
       "</div>"
      ],
      "text/plain": [
       "   combo_area                                      elements_used  \\\n",
       "0    0.008637  [POLYGON ((-67.69881540000002 255.7925763, -68...   \n",
       "1    0.073851  [POLYGON ((-67.69881540000002 255.7925763, -68...   \n",
       "2    0.008637  [POLYGON ((-67.69881540000002 255.7925763, -68...   \n",
       "3    0.008637  [POLYGON ((-67.69881540000002 255.7925763, -68...   \n",
       "4    0.008637  [POLYGON ((-67.69881540000002 255.7925763, -68...   \n",
       "\n",
       "                                        multipolygon  \\\n",
       "0  (POLYGON ((-67.69881540000002 255.7925763, -68...   \n",
       "1  (POLYGON ((-67.69881540000002 255.7925763, -68...   \n",
       "2  (POLYGON ((-67.69881540000002 255.7925763, -68...   \n",
       "3  (POLYGON ((-67.69881540000002 255.7925763, -68...   \n",
       "4  (POLYGON ((-67.69881540000002 255.7925763, -68...   \n",
       "\n",
       "                                         obsids_used  \n",
       "0  [ESP_012079_0945, ESP_011407_0945, ESP_011723_...  \n",
       "1  [ESP_012079_0945, ESP_011407_0945, ESP_011723_...  \n",
       "2  [ESP_012079_0945, ESP_011407_0945, ESP_011723_...  \n",
       "3  [ESP_012079_0945, ESP_011407_0945, ESP_011723_...  \n",
       "4  [ESP_012079_0945, ESP_011407_0945, ESP_011723_...  "
      ]
     },
     "execution_count": 27,
     "metadata": {},
     "output_type": "execute_result"
    }
   ],
   "source": [
    "Testregion_inter.head() #check what we get, looks right!\n",
    "#print(Testregion_inter.obsids_used[0])"
   ]
  },
  {
   "cell_type": "code",
   "execution_count": 28,
   "metadata": {},
   "outputs": [],
   "source": [
    "obsdf = Testregion_inter #rename this monstrosity"
   ]
  },
  {
   "cell_type": "code",
   "execution_count": 29,
   "metadata": {},
   "outputs": [
    {
     "data": {
      "text/html": [
       "<div>\n",
       "<style scoped>\n",
       "    .dataframe tbody tr th:only-of-type {\n",
       "        vertical-align: middle;\n",
       "    }\n",
       "\n",
       "    .dataframe tbody tr th {\n",
       "        vertical-align: top;\n",
       "    }\n",
       "\n",
       "    .dataframe thead th {\n",
       "        text-align: right;\n",
       "    }\n",
       "</style>\n",
       "<table border=\"1\" class=\"dataframe\">\n",
       "  <thead>\n",
       "    <tr style=\"text-align: right;\">\n",
       "      <th></th>\n",
       "      <th>combo_area</th>\n",
       "      <th>elements_used</th>\n",
       "      <th>multipolygon</th>\n",
       "      <th>obsids_used</th>\n",
       "    </tr>\n",
       "  </thead>\n",
       "  <tbody>\n",
       "    <tr>\n",
       "      <th>0</th>\n",
       "      <td>0.008637</td>\n",
       "      <td>[POLYGON ((-67.69881540000002 255.7925763, -68...</td>\n",
       "      <td>(POLYGON ((-67.69881540000002 255.7925763, -68...</td>\n",
       "      <td>[ESP_012079_0945, ESP_011407_0945, ESP_011723_...</td>\n",
       "    </tr>\n",
       "    <tr>\n",
       "      <th>1</th>\n",
       "      <td>0.073851</td>\n",
       "      <td>[POLYGON ((-67.69881540000002 255.7925763, -68...</td>\n",
       "      <td>(POLYGON ((-67.69881540000002 255.7925763, -68...</td>\n",
       "      <td>[ESP_012079_0945, ESP_011407_0945, ESP_011723_...</td>\n",
       "    </tr>\n",
       "    <tr>\n",
       "      <th>2</th>\n",
       "      <td>0.008637</td>\n",
       "      <td>[POLYGON ((-67.69881540000002 255.7925763, -68...</td>\n",
       "      <td>(POLYGON ((-67.69881540000002 255.7925763, -68...</td>\n",
       "      <td>[ESP_012079_0945, ESP_011407_0945, ESP_011723_...</td>\n",
       "    </tr>\n",
       "    <tr>\n",
       "      <th>3</th>\n",
       "      <td>0.008637</td>\n",
       "      <td>[POLYGON ((-67.69881540000002 255.7925763, -68...</td>\n",
       "      <td>(POLYGON ((-67.69881540000002 255.7925763, -68...</td>\n",
       "      <td>[ESP_012079_0945, ESP_011407_0945, ESP_011723_...</td>\n",
       "    </tr>\n",
       "    <tr>\n",
       "      <th>4</th>\n",
       "      <td>0.008637</td>\n",
       "      <td>[POLYGON ((-67.69881540000002 255.7925763, -68...</td>\n",
       "      <td>(POLYGON ((-67.69881540000002 255.7925763, -68...</td>\n",
       "      <td>[ESP_012079_0945, ESP_011407_0945, ESP_011723_...</td>\n",
       "    </tr>\n",
       "  </tbody>\n",
       "</table>\n",
       "</div>"
      ],
      "text/plain": [
       "   combo_area                                      elements_used  \\\n",
       "0    0.008637  [POLYGON ((-67.69881540000002 255.7925763, -68...   \n",
       "1    0.073851  [POLYGON ((-67.69881540000002 255.7925763, -68...   \n",
       "2    0.008637  [POLYGON ((-67.69881540000002 255.7925763, -68...   \n",
       "3    0.008637  [POLYGON ((-67.69881540000002 255.7925763, -68...   \n",
       "4    0.008637  [POLYGON ((-67.69881540000002 255.7925763, -68...   \n",
       "\n",
       "                                        multipolygon  \\\n",
       "0  (POLYGON ((-67.69881540000002 255.7925763, -68...   \n",
       "1  (POLYGON ((-67.69881540000002 255.7925763, -68...   \n",
       "2  (POLYGON ((-67.69881540000002 255.7925763, -68...   \n",
       "3  (POLYGON ((-67.69881540000002 255.7925763, -68...   \n",
       "4  (POLYGON ((-67.69881540000002 255.7925763, -68...   \n",
       "\n",
       "                                         obsids_used  \n",
       "0  [ESP_012079_0945, ESP_011407_0945, ESP_011723_...  \n",
       "1  [ESP_012079_0945, ESP_011407_0945, ESP_011723_...  \n",
       "2  [ESP_012079_0945, ESP_011407_0945, ESP_011723_...  \n",
       "3  [ESP_012079_0945, ESP_011407_0945, ESP_011723_...  \n",
       "4  [ESP_012079_0945, ESP_011407_0945, ESP_011723_...  "
      ]
     },
     "execution_count": 29,
     "metadata": {},
     "output_type": "execute_result"
    }
   ],
   "source": [
    "obsdf.head()"
   ]
  },
  {
   "cell_type": "code",
   "execution_count": 30,
   "metadata": {},
   "outputs": [
    {
     "data": {
      "text/plain": [
       "16383"
      ]
     },
     "execution_count": 30,
     "metadata": {},
     "output_type": "execute_result"
    }
   ],
   "source": [
    "len(obsdf)"
   ]
  },
  {
   "cell_type": "code",
   "execution_count": 31,
   "metadata": {},
   "outputs": [],
   "source": [
    "#this gives us the number of hirise images used in each combo\n",
    "#num hirise is also num elements used, num obsids used\n",
    "bucket = []\n",
    "for i in range(len(obsdf.elements_used)): #change to range(len(obsdf.elements_used)) after we check\n",
    "    #print(len(obsdf.elements_used[i])) #check it's what we want.\n",
    "    obsdf.at[i, 'number_hirise'] = int(len(obsdf.elements_used[i]))\n",
    "    #even calling it int(len) still gives float on df, but whatever."
   ]
  },
  {
   "cell_type": "code",
   "execution_count": 32,
   "metadata": {},
   "outputs": [
    {
     "data": {
      "text/html": [
       "<div>\n",
       "<style scoped>\n",
       "    .dataframe tbody tr th:only-of-type {\n",
       "        vertical-align: middle;\n",
       "    }\n",
       "\n",
       "    .dataframe tbody tr th {\n",
       "        vertical-align: top;\n",
       "    }\n",
       "\n",
       "    .dataframe thead th {\n",
       "        text-align: right;\n",
       "    }\n",
       "</style>\n",
       "<table border=\"1\" class=\"dataframe\">\n",
       "  <thead>\n",
       "    <tr style=\"text-align: right;\">\n",
       "      <th></th>\n",
       "      <th>combo_area</th>\n",
       "      <th>elements_used</th>\n",
       "      <th>multipolygon</th>\n",
       "      <th>obsids_used</th>\n",
       "      <th>number_hirise</th>\n",
       "    </tr>\n",
       "  </thead>\n",
       "  <tbody>\n",
       "    <tr>\n",
       "      <th>0</th>\n",
       "      <td>0.008637</td>\n",
       "      <td>[POLYGON ((-67.69881540000002 255.7925763, -68...</td>\n",
       "      <td>(POLYGON ((-67.69881540000002 255.7925763, -68...</td>\n",
       "      <td>[ESP_012079_0945, ESP_011407_0945, ESP_011723_...</td>\n",
       "      <td>14.0</td>\n",
       "    </tr>\n",
       "    <tr>\n",
       "      <th>1</th>\n",
       "      <td>0.073851</td>\n",
       "      <td>[POLYGON ((-67.69881540000002 255.7925763, -68...</td>\n",
       "      <td>(POLYGON ((-67.69881540000002 255.7925763, -68...</td>\n",
       "      <td>[ESP_012079_0945, ESP_011407_0945, ESP_011723_...</td>\n",
       "      <td>13.0</td>\n",
       "    </tr>\n",
       "    <tr>\n",
       "      <th>2</th>\n",
       "      <td>0.008637</td>\n",
       "      <td>[POLYGON ((-67.69881540000002 255.7925763, -68...</td>\n",
       "      <td>(POLYGON ((-67.69881540000002 255.7925763, -68...</td>\n",
       "      <td>[ESP_012079_0945, ESP_011407_0945, ESP_011723_...</td>\n",
       "      <td>13.0</td>\n",
       "    </tr>\n",
       "    <tr>\n",
       "      <th>3</th>\n",
       "      <td>0.008637</td>\n",
       "      <td>[POLYGON ((-67.69881540000002 255.7925763, -68...</td>\n",
       "      <td>(POLYGON ((-67.69881540000002 255.7925763, -68...</td>\n",
       "      <td>[ESP_012079_0945, ESP_011407_0945, ESP_011723_...</td>\n",
       "      <td>13.0</td>\n",
       "    </tr>\n",
       "    <tr>\n",
       "      <th>4</th>\n",
       "      <td>0.008637</td>\n",
       "      <td>[POLYGON ((-67.69881540000002 255.7925763, -68...</td>\n",
       "      <td>(POLYGON ((-67.69881540000002 255.7925763, -68...</td>\n",
       "      <td>[ESP_012079_0945, ESP_011407_0945, ESP_011723_...</td>\n",
       "      <td>13.0</td>\n",
       "    </tr>\n",
       "  </tbody>\n",
       "</table>\n",
       "</div>"
      ],
      "text/plain": [
       "   combo_area                                      elements_used  \\\n",
       "0    0.008637  [POLYGON ((-67.69881540000002 255.7925763, -68...   \n",
       "1    0.073851  [POLYGON ((-67.69881540000002 255.7925763, -68...   \n",
       "2    0.008637  [POLYGON ((-67.69881540000002 255.7925763, -68...   \n",
       "3    0.008637  [POLYGON ((-67.69881540000002 255.7925763, -68...   \n",
       "4    0.008637  [POLYGON ((-67.69881540000002 255.7925763, -68...   \n",
       "\n",
       "                                        multipolygon  \\\n",
       "0  (POLYGON ((-67.69881540000002 255.7925763, -68...   \n",
       "1  (POLYGON ((-67.69881540000002 255.7925763, -68...   \n",
       "2  (POLYGON ((-67.69881540000002 255.7925763, -68...   \n",
       "3  (POLYGON ((-67.69881540000002 255.7925763, -68...   \n",
       "4  (POLYGON ((-67.69881540000002 255.7925763, -68...   \n",
       "\n",
       "                                         obsids_used  number_hirise  \n",
       "0  [ESP_012079_0945, ESP_011407_0945, ESP_011723_...           14.0  \n",
       "1  [ESP_012079_0945, ESP_011407_0945, ESP_011723_...           13.0  \n",
       "2  [ESP_012079_0945, ESP_011407_0945, ESP_011723_...           13.0  \n",
       "3  [ESP_012079_0945, ESP_011407_0945, ESP_011723_...           13.0  \n",
       "4  [ESP_012079_0945, ESP_011407_0945, ESP_011723_...           13.0  "
      ]
     },
     "execution_count": 32,
     "metadata": {},
     "output_type": "execute_result"
    }
   ],
   "source": [
    "obsdf.head()"
   ]
  },
  {
   "cell_type": "code",
   "execution_count": 33,
   "metadata": {},
   "outputs": [],
   "source": [
    "#add L_s values as a list, just as we added obsids used as a list\n",
    "#gives L_s values for each obsid\n",
    "bucket2 = []\n",
    "for obslist in obsdf.obsids_used:\n",
    "    bucket = []\n",
    "    for obs in obslist:\n",
    "        x = olddata.Ls[olddata['obsid'] == obs].values[0]\n",
    "        bucket.append(x)\n",
    "    bucket = tuple(bucket)\n",
    "    bucket2.append(bucket)\n",
    "obsdf['Ls_used'] = np.array(bucket2)\n",
    "obsdf['region_name'] = testregion"
   ]
  },
  {
   "cell_type": "code",
   "execution_count": 35,
   "metadata": {},
   "outputs": [
    {
     "data": {
      "text/html": [
       "<div>\n",
       "<style scoped>\n",
       "    .dataframe tbody tr th:only-of-type {\n",
       "        vertical-align: middle;\n",
       "    }\n",
       "\n",
       "    .dataframe tbody tr th {\n",
       "        vertical-align: top;\n",
       "    }\n",
       "\n",
       "    .dataframe thead th {\n",
       "        text-align: right;\n",
       "    }\n",
       "</style>\n",
       "<table border=\"1\" class=\"dataframe\">\n",
       "  <thead>\n",
       "    <tr style=\"text-align: right;\">\n",
       "      <th></th>\n",
       "      <th>combo_area</th>\n",
       "      <th>elements_used</th>\n",
       "      <th>multipolygon</th>\n",
       "      <th>obsids_used</th>\n",
       "      <th>number_hirise</th>\n",
       "      <th>Ls_used</th>\n",
       "      <th>region_name</th>\n",
       "    </tr>\n",
       "  </thead>\n",
       "  <tbody>\n",
       "    <tr>\n",
       "      <th>0</th>\n",
       "      <td>0.008637</td>\n",
       "      <td>[POLYGON ((-67.69881540000002 255.7925763, -68...</td>\n",
       "      <td>(POLYGON ((-67.69881540000002 255.7925763, -68...</td>\n",
       "      <td>[ESP_012079_0945, ESP_011407_0945, ESP_011723_...</td>\n",
       "      <td>14.0</td>\n",
       "      <td>(214.785, 183.727, 198.04, 207.892, 235.282, 2...</td>\n",
       "      <td>Macclesfield</td>\n",
       "    </tr>\n",
       "    <tr>\n",
       "      <th>1</th>\n",
       "      <td>0.073851</td>\n",
       "      <td>[POLYGON ((-67.69881540000002 255.7925763, -68...</td>\n",
       "      <td>(POLYGON ((-67.69881540000002 255.7925763, -68...</td>\n",
       "      <td>[ESP_012079_0945, ESP_011407_0945, ESP_011723_...</td>\n",
       "      <td>13.0</td>\n",
       "      <td>(214.785, 183.727, 198.04, 207.892, 235.282, 2...</td>\n",
       "      <td>Macclesfield</td>\n",
       "    </tr>\n",
       "    <tr>\n",
       "      <th>2</th>\n",
       "      <td>0.008637</td>\n",
       "      <td>[POLYGON ((-67.69881540000002 255.7925763, -68...</td>\n",
       "      <td>(POLYGON ((-67.69881540000002 255.7925763, -68...</td>\n",
       "      <td>[ESP_012079_0945, ESP_011407_0945, ESP_011723_...</td>\n",
       "      <td>13.0</td>\n",
       "      <td>(214.785, 183.727, 198.04, 207.892, 235.282, 2...</td>\n",
       "      <td>Macclesfield</td>\n",
       "    </tr>\n",
       "    <tr>\n",
       "      <th>3</th>\n",
       "      <td>0.008637</td>\n",
       "      <td>[POLYGON ((-67.69881540000002 255.7925763, -68...</td>\n",
       "      <td>(POLYGON ((-67.69881540000002 255.7925763, -68...</td>\n",
       "      <td>[ESP_012079_0945, ESP_011407_0945, ESP_011723_...</td>\n",
       "      <td>13.0</td>\n",
       "      <td>(214.785, 183.727, 198.04, 207.892, 235.282, 2...</td>\n",
       "      <td>Macclesfield</td>\n",
       "    </tr>\n",
       "    <tr>\n",
       "      <th>4</th>\n",
       "      <td>0.008637</td>\n",
       "      <td>[POLYGON ((-67.69881540000002 255.7925763, -68...</td>\n",
       "      <td>(POLYGON ((-67.69881540000002 255.7925763, -68...</td>\n",
       "      <td>[ESP_012079_0945, ESP_011407_0945, ESP_011723_...</td>\n",
       "      <td>13.0</td>\n",
       "      <td>(214.785, 183.727, 198.04, 207.892, 235.282, 2...</td>\n",
       "      <td>Macclesfield</td>\n",
       "    </tr>\n",
       "  </tbody>\n",
       "</table>\n",
       "</div>"
      ],
      "text/plain": [
       "   combo_area                                      elements_used  \\\n",
       "0    0.008637  [POLYGON ((-67.69881540000002 255.7925763, -68...   \n",
       "1    0.073851  [POLYGON ((-67.69881540000002 255.7925763, -68...   \n",
       "2    0.008637  [POLYGON ((-67.69881540000002 255.7925763, -68...   \n",
       "3    0.008637  [POLYGON ((-67.69881540000002 255.7925763, -68...   \n",
       "4    0.008637  [POLYGON ((-67.69881540000002 255.7925763, -68...   \n",
       "\n",
       "                                        multipolygon  \\\n",
       "0  (POLYGON ((-67.69881540000002 255.7925763, -68...   \n",
       "1  (POLYGON ((-67.69881540000002 255.7925763, -68...   \n",
       "2  (POLYGON ((-67.69881540000002 255.7925763, -68...   \n",
       "3  (POLYGON ((-67.69881540000002 255.7925763, -68...   \n",
       "4  (POLYGON ((-67.69881540000002 255.7925763, -68...   \n",
       "\n",
       "                                         obsids_used  number_hirise  \\\n",
       "0  [ESP_012079_0945, ESP_011407_0945, ESP_011723_...           14.0   \n",
       "1  [ESP_012079_0945, ESP_011407_0945, ESP_011723_...           13.0   \n",
       "2  [ESP_012079_0945, ESP_011407_0945, ESP_011723_...           13.0   \n",
       "3  [ESP_012079_0945, ESP_011407_0945, ESP_011723_...           13.0   \n",
       "4  [ESP_012079_0945, ESP_011407_0945, ESP_011723_...           13.0   \n",
       "\n",
       "                                             Ls_used   region_name  \n",
       "0  (214.785, 183.727, 198.04, 207.892, 235.282, 2...  Macclesfield  \n",
       "1  (214.785, 183.727, 198.04, 207.892, 235.282, 2...  Macclesfield  \n",
       "2  (214.785, 183.727, 198.04, 207.892, 235.282, 2...  Macclesfield  \n",
       "3  (214.785, 183.727, 198.04, 207.892, 235.282, 2...  Macclesfield  \n",
       "4  (214.785, 183.727, 198.04, 207.892, 235.282, 2...  Macclesfield  "
      ]
     },
     "execution_count": 35,
     "metadata": {},
     "output_type": "execute_result"
    }
   ],
   "source": [
    "obsdf.head() "
   ]
  },
  {
   "cell_type": "code",
   "execution_count": 69,
   "metadata": {},
   "outputs": [
    {
     "ename": "KeyError",
     "evalue": "\"['elements_used'] not found in axis\"",
     "output_type": "error",
     "traceback": [
      "\u001b[1;31m---------------------------------------------------------------------------\u001b[0m",
      "\u001b[1;31mKeyError\u001b[0m                                  Traceback (most recent call last)",
      "\u001b[1;32m<ipython-input-69-6c544ca572d1>\u001b[0m in \u001b[0;36m<module>\u001b[1;34m\u001b[0m\n\u001b[1;32m----> 1\u001b[1;33m \u001b[0mobsdf\u001b[0m \u001b[1;33m=\u001b[0m \u001b[0mobsdf\u001b[0m\u001b[1;33m.\u001b[0m\u001b[0mdrop\u001b[0m\u001b[1;33m(\u001b[0m\u001b[1;33m[\u001b[0m\u001b[1;34m'elements_used'\u001b[0m\u001b[1;33m]\u001b[0m\u001b[1;33m,\u001b[0m \u001b[0maxis\u001b[0m \u001b[1;33m=\u001b[0m \u001b[1;36m1\u001b[0m\u001b[1;33m)\u001b[0m \u001b[1;31m#drop elements_used, don't need\u001b[0m\u001b[1;33m\u001b[0m\u001b[1;33m\u001b[0m\u001b[0m\n\u001b[0m",
      "\u001b[1;32m~\\AppData\\Local\\conda\\conda\\envs\\py37\\lib\\site-packages\\pandas\\core\\frame.py\u001b[0m in \u001b[0;36mdrop\u001b[1;34m(self, labels, axis, index, columns, level, inplace, errors)\u001b[0m\n\u001b[0;32m   3695\u001b[0m                                            \u001b[0mindex\u001b[0m\u001b[1;33m=\u001b[0m\u001b[0mindex\u001b[0m\u001b[1;33m,\u001b[0m \u001b[0mcolumns\u001b[0m\u001b[1;33m=\u001b[0m\u001b[0mcolumns\u001b[0m\u001b[1;33m,\u001b[0m\u001b[1;33m\u001b[0m\u001b[1;33m\u001b[0m\u001b[0m\n\u001b[0;32m   3696\u001b[0m                                            \u001b[0mlevel\u001b[0m\u001b[1;33m=\u001b[0m\u001b[0mlevel\u001b[0m\u001b[1;33m,\u001b[0m \u001b[0minplace\u001b[0m\u001b[1;33m=\u001b[0m\u001b[0minplace\u001b[0m\u001b[1;33m,\u001b[0m\u001b[1;33m\u001b[0m\u001b[1;33m\u001b[0m\u001b[0m\n\u001b[1;32m-> 3697\u001b[1;33m                                            errors=errors)\n\u001b[0m\u001b[0;32m   3698\u001b[0m \u001b[1;33m\u001b[0m\u001b[0m\n\u001b[0;32m   3699\u001b[0m     @rewrite_axis_style_signature('mapper', [('copy', True),\n",
      "\u001b[1;32m~\\AppData\\Local\\conda\\conda\\envs\\py37\\lib\\site-packages\\pandas\\core\\generic.py\u001b[0m in \u001b[0;36mdrop\u001b[1;34m(self, labels, axis, index, columns, level, inplace, errors)\u001b[0m\n\u001b[0;32m   3109\u001b[0m         \u001b[1;32mfor\u001b[0m \u001b[0maxis\u001b[0m\u001b[1;33m,\u001b[0m \u001b[0mlabels\u001b[0m \u001b[1;32min\u001b[0m \u001b[0maxes\u001b[0m\u001b[1;33m.\u001b[0m\u001b[0mitems\u001b[0m\u001b[1;33m(\u001b[0m\u001b[1;33m)\u001b[0m\u001b[1;33m:\u001b[0m\u001b[1;33m\u001b[0m\u001b[1;33m\u001b[0m\u001b[0m\n\u001b[0;32m   3110\u001b[0m             \u001b[1;32mif\u001b[0m \u001b[0mlabels\u001b[0m \u001b[1;32mis\u001b[0m \u001b[1;32mnot\u001b[0m \u001b[1;32mNone\u001b[0m\u001b[1;33m:\u001b[0m\u001b[1;33m\u001b[0m\u001b[1;33m\u001b[0m\u001b[0m\n\u001b[1;32m-> 3111\u001b[1;33m                 \u001b[0mobj\u001b[0m \u001b[1;33m=\u001b[0m \u001b[0mobj\u001b[0m\u001b[1;33m.\u001b[0m\u001b[0m_drop_axis\u001b[0m\u001b[1;33m(\u001b[0m\u001b[0mlabels\u001b[0m\u001b[1;33m,\u001b[0m \u001b[0maxis\u001b[0m\u001b[1;33m,\u001b[0m \u001b[0mlevel\u001b[0m\u001b[1;33m=\u001b[0m\u001b[0mlevel\u001b[0m\u001b[1;33m,\u001b[0m \u001b[0merrors\u001b[0m\u001b[1;33m=\u001b[0m\u001b[0merrors\u001b[0m\u001b[1;33m)\u001b[0m\u001b[1;33m\u001b[0m\u001b[1;33m\u001b[0m\u001b[0m\n\u001b[0m\u001b[0;32m   3112\u001b[0m \u001b[1;33m\u001b[0m\u001b[0m\n\u001b[0;32m   3113\u001b[0m         \u001b[1;32mif\u001b[0m \u001b[0minplace\u001b[0m\u001b[1;33m:\u001b[0m\u001b[1;33m\u001b[0m\u001b[1;33m\u001b[0m\u001b[0m\n",
      "\u001b[1;32m~\\AppData\\Local\\conda\\conda\\envs\\py37\\lib\\site-packages\\pandas\\core\\generic.py\u001b[0m in \u001b[0;36m_drop_axis\u001b[1;34m(self, labels, axis, level, errors)\u001b[0m\n\u001b[0;32m   3141\u001b[0m                 \u001b[0mnew_axis\u001b[0m \u001b[1;33m=\u001b[0m \u001b[0maxis\u001b[0m\u001b[1;33m.\u001b[0m\u001b[0mdrop\u001b[0m\u001b[1;33m(\u001b[0m\u001b[0mlabels\u001b[0m\u001b[1;33m,\u001b[0m \u001b[0mlevel\u001b[0m\u001b[1;33m=\u001b[0m\u001b[0mlevel\u001b[0m\u001b[1;33m,\u001b[0m \u001b[0merrors\u001b[0m\u001b[1;33m=\u001b[0m\u001b[0merrors\u001b[0m\u001b[1;33m)\u001b[0m\u001b[1;33m\u001b[0m\u001b[1;33m\u001b[0m\u001b[0m\n\u001b[0;32m   3142\u001b[0m             \u001b[1;32melse\u001b[0m\u001b[1;33m:\u001b[0m\u001b[1;33m\u001b[0m\u001b[1;33m\u001b[0m\u001b[0m\n\u001b[1;32m-> 3143\u001b[1;33m                 \u001b[0mnew_axis\u001b[0m \u001b[1;33m=\u001b[0m \u001b[0maxis\u001b[0m\u001b[1;33m.\u001b[0m\u001b[0mdrop\u001b[0m\u001b[1;33m(\u001b[0m\u001b[0mlabels\u001b[0m\u001b[1;33m,\u001b[0m \u001b[0merrors\u001b[0m\u001b[1;33m=\u001b[0m\u001b[0merrors\u001b[0m\u001b[1;33m)\u001b[0m\u001b[1;33m\u001b[0m\u001b[1;33m\u001b[0m\u001b[0m\n\u001b[0m\u001b[0;32m   3144\u001b[0m             \u001b[0mresult\u001b[0m \u001b[1;33m=\u001b[0m \u001b[0mself\u001b[0m\u001b[1;33m.\u001b[0m\u001b[0mreindex\u001b[0m\u001b[1;33m(\u001b[0m\u001b[1;33m**\u001b[0m\u001b[1;33m{\u001b[0m\u001b[0maxis_name\u001b[0m\u001b[1;33m:\u001b[0m \u001b[0mnew_axis\u001b[0m\u001b[1;33m}\u001b[0m\u001b[1;33m)\u001b[0m\u001b[1;33m\u001b[0m\u001b[1;33m\u001b[0m\u001b[0m\n\u001b[0;32m   3145\u001b[0m \u001b[1;33m\u001b[0m\u001b[0m\n",
      "\u001b[1;32m~\\AppData\\Local\\conda\\conda\\envs\\py37\\lib\\site-packages\\pandas\\core\\indexes\\base.py\u001b[0m in \u001b[0;36mdrop\u001b[1;34m(self, labels, errors)\u001b[0m\n\u001b[0;32m   4402\u001b[0m             \u001b[1;32mif\u001b[0m \u001b[0merrors\u001b[0m \u001b[1;33m!=\u001b[0m \u001b[1;34m'ignore'\u001b[0m\u001b[1;33m:\u001b[0m\u001b[1;33m\u001b[0m\u001b[1;33m\u001b[0m\u001b[0m\n\u001b[0;32m   4403\u001b[0m                 raise KeyError(\n\u001b[1;32m-> 4404\u001b[1;33m                     '{} not found in axis'.format(labels[mask]))\n\u001b[0m\u001b[0;32m   4405\u001b[0m             \u001b[0mindexer\u001b[0m \u001b[1;33m=\u001b[0m \u001b[0mindexer\u001b[0m\u001b[1;33m[\u001b[0m\u001b[1;33m~\u001b[0m\u001b[0mmask\u001b[0m\u001b[1;33m]\u001b[0m\u001b[1;33m\u001b[0m\u001b[1;33m\u001b[0m\u001b[0m\n\u001b[0;32m   4406\u001b[0m         \u001b[1;32mreturn\u001b[0m \u001b[0mself\u001b[0m\u001b[1;33m.\u001b[0m\u001b[0mdelete\u001b[0m\u001b[1;33m(\u001b[0m\u001b[0mindexer\u001b[0m\u001b[1;33m)\u001b[0m\u001b[1;33m\u001b[0m\u001b[1;33m\u001b[0m\u001b[0m\n",
      "\u001b[1;31mKeyError\u001b[0m: \"['elements_used'] not found in axis\""
     ]
    }
   ],
   "source": [
    "obsdf = obsdf.drop(['elements_used'], axis = 1) #drop elements_used, don't need"
   ]
  },
  {
   "cell_type": "code",
   "execution_count": 61,
   "metadata": {},
   "outputs": [],
   "source": [
    "obsdf = gp.GeoDataFrame(obsdf) #turn obsdf into a geodataframe"
   ]
  },
  {
   "cell_type": "code",
   "execution_count": 62,
   "metadata": {},
   "outputs": [],
   "source": [
    "obsdf = obsdf.set_geometry('multipolygon') #assign the geometry column"
   ]
  },
  {
   "cell_type": "code",
   "execution_count": 63,
   "metadata": {},
   "outputs": [
    {
     "data": {
      "text/html": [
       "<div>\n",
       "<style scoped>\n",
       "    .dataframe tbody tr th:only-of-type {\n",
       "        vertical-align: middle;\n",
       "    }\n",
       "\n",
       "    .dataframe tbody tr th {\n",
       "        vertical-align: top;\n",
       "    }\n",
       "\n",
       "    .dataframe thead th {\n",
       "        text-align: right;\n",
       "    }\n",
       "</style>\n",
       "<table border=\"1\" class=\"dataframe\">\n",
       "  <thead>\n",
       "    <tr style=\"text-align: right;\">\n",
       "      <th></th>\n",
       "      <th>combo_area</th>\n",
       "      <th>multipolygon</th>\n",
       "      <th>obsids_used</th>\n",
       "      <th>number_hirise</th>\n",
       "      <th>Ls_used</th>\n",
       "      <th>region_name</th>\n",
       "    </tr>\n",
       "  </thead>\n",
       "  <tbody>\n",
       "    <tr>\n",
       "      <th>0</th>\n",
       "      <td>0.008637</td>\n",
       "      <td>(POLYGON ((-67.69881540000002 255.7925763, -68...</td>\n",
       "      <td>[ESP_012079_0945, ESP_011407_0945, ESP_011723_...</td>\n",
       "      <td>14.0</td>\n",
       "      <td>(214.785, 183.727, 198.04, 207.892, 235.282, 2...</td>\n",
       "      <td>Macclesfield</td>\n",
       "    </tr>\n",
       "    <tr>\n",
       "      <th>1</th>\n",
       "      <td>0.073851</td>\n",
       "      <td>(POLYGON ((-67.69881540000002 255.7925763, -68...</td>\n",
       "      <td>[ESP_012079_0945, ESP_011407_0945, ESP_011723_...</td>\n",
       "      <td>13.0</td>\n",
       "      <td>(214.785, 183.727, 198.04, 207.892, 235.282, 2...</td>\n",
       "      <td>Macclesfield</td>\n",
       "    </tr>\n",
       "    <tr>\n",
       "      <th>2</th>\n",
       "      <td>0.008637</td>\n",
       "      <td>(POLYGON ((-67.69881540000002 255.7925763, -68...</td>\n",
       "      <td>[ESP_012079_0945, ESP_011407_0945, ESP_011723_...</td>\n",
       "      <td>13.0</td>\n",
       "      <td>(214.785, 183.727, 198.04, 207.892, 235.282, 2...</td>\n",
       "      <td>Macclesfield</td>\n",
       "    </tr>\n",
       "    <tr>\n",
       "      <th>3</th>\n",
       "      <td>0.008637</td>\n",
       "      <td>(POLYGON ((-67.69881540000002 255.7925763, -68...</td>\n",
       "      <td>[ESP_012079_0945, ESP_011407_0945, ESP_011723_...</td>\n",
       "      <td>13.0</td>\n",
       "      <td>(214.785, 183.727, 198.04, 207.892, 235.282, 2...</td>\n",
       "      <td>Macclesfield</td>\n",
       "    </tr>\n",
       "    <tr>\n",
       "      <th>4</th>\n",
       "      <td>0.008637</td>\n",
       "      <td>(POLYGON ((-67.69881540000002 255.7925763, -68...</td>\n",
       "      <td>[ESP_012079_0945, ESP_011407_0945, ESP_011723_...</td>\n",
       "      <td>13.0</td>\n",
       "      <td>(214.785, 183.727, 198.04, 207.892, 235.282, 2...</td>\n",
       "      <td>Macclesfield</td>\n",
       "    </tr>\n",
       "  </tbody>\n",
       "</table>\n",
       "</div>"
      ],
      "text/plain": [
       "   combo_area                                       multipolygon  \\\n",
       "0    0.008637  (POLYGON ((-67.69881540000002 255.7925763, -68...   \n",
       "1    0.073851  (POLYGON ((-67.69881540000002 255.7925763, -68...   \n",
       "2    0.008637  (POLYGON ((-67.69881540000002 255.7925763, -68...   \n",
       "3    0.008637  (POLYGON ((-67.69881540000002 255.7925763, -68...   \n",
       "4    0.008637  (POLYGON ((-67.69881540000002 255.7925763, -68...   \n",
       "\n",
       "                                         obsids_used  number_hirise  \\\n",
       "0  [ESP_012079_0945, ESP_011407_0945, ESP_011723_...           14.0   \n",
       "1  [ESP_012079_0945, ESP_011407_0945, ESP_011723_...           13.0   \n",
       "2  [ESP_012079_0945, ESP_011407_0945, ESP_011723_...           13.0   \n",
       "3  [ESP_012079_0945, ESP_011407_0945, ESP_011723_...           13.0   \n",
       "4  [ESP_012079_0945, ESP_011407_0945, ESP_011723_...           13.0   \n",
       "\n",
       "                                             Ls_used   region_name  \n",
       "0  (214.785, 183.727, 198.04, 207.892, 235.282, 2...  Macclesfield  \n",
       "1  (214.785, 183.727, 198.04, 207.892, 235.282, 2...  Macclesfield  \n",
       "2  (214.785, 183.727, 198.04, 207.892, 235.282, 2...  Macclesfield  \n",
       "3  (214.785, 183.727, 198.04, 207.892, 235.282, 2...  Macclesfield  \n",
       "4  (214.785, 183.727, 198.04, 207.892, 235.282, 2...  Macclesfield  "
      ]
     },
     "execution_count": 63,
     "metadata": {},
     "output_type": "execute_result"
    }
   ],
   "source": [
    "obsdf.head() #make sure it looks right"
   ]
  },
  {
   "cell_type": "code",
   "execution_count": 64,
   "metadata": {},
   "outputs": [],
   "source": [
    "obsdf.to_csv('Macclesfield_duplicate_combodf.csv', index=False)\n",
    "#turn this df into a csv, don't need index"
   ]
  },
  {
   "cell_type": "code",
   "execution_count": 65,
   "metadata": {},
   "outputs": [],
   "source": [
    "combodf = pd.read_csv(\"Macclesfield_duplicate_combodf.csv\")\n",
    "#read in the exact same csv we created, this is obsdf read back in"
   ]
  },
  {
   "cell_type": "code",
   "execution_count": 66,
   "metadata": {},
   "outputs": [
    {
     "data": {
      "text/html": [
       "<div>\n",
       "<style scoped>\n",
       "    .dataframe tbody tr th:only-of-type {\n",
       "        vertical-align: middle;\n",
       "    }\n",
       "\n",
       "    .dataframe tbody tr th {\n",
       "        vertical-align: top;\n",
       "    }\n",
       "\n",
       "    .dataframe thead th {\n",
       "        text-align: right;\n",
       "    }\n",
       "</style>\n",
       "<table border=\"1\" class=\"dataframe\">\n",
       "  <thead>\n",
       "    <tr style=\"text-align: right;\">\n",
       "      <th></th>\n",
       "      <th>combo_area</th>\n",
       "      <th>multipolygon</th>\n",
       "      <th>obsids_used</th>\n",
       "      <th>number_hirise</th>\n",
       "      <th>Ls_used</th>\n",
       "      <th>region_name</th>\n",
       "    </tr>\n",
       "  </thead>\n",
       "  <tbody>\n",
       "    <tr>\n",
       "      <th>0</th>\n",
       "      <td>0.008637</td>\n",
       "      <td>MULTIPOLYGON (((-67.69881540000002 255.7925763...</td>\n",
       "      <td>['ESP_012079_0945', 'ESP_011407_0945', 'ESP_01...</td>\n",
       "      <td>14.0</td>\n",
       "      <td>(214.785, 183.727, 198.04, 207.892, 235.282, 2...</td>\n",
       "      <td>Macclesfield</td>\n",
       "    </tr>\n",
       "    <tr>\n",
       "      <th>1</th>\n",
       "      <td>0.073851</td>\n",
       "      <td>MULTIPOLYGON (((-67.69881540000002 255.7925763...</td>\n",
       "      <td>['ESP_012079_0945', 'ESP_011407_0945', 'ESP_01...</td>\n",
       "      <td>13.0</td>\n",
       "      <td>(214.785, 183.727, 198.04, 207.892, 235.282, 2...</td>\n",
       "      <td>Macclesfield</td>\n",
       "    </tr>\n",
       "  </tbody>\n",
       "</table>\n",
       "</div>"
      ],
      "text/plain": [
       "   combo_area                                       multipolygon  \\\n",
       "0    0.008637  MULTIPOLYGON (((-67.69881540000002 255.7925763...   \n",
       "1    0.073851  MULTIPOLYGON (((-67.69881540000002 255.7925763...   \n",
       "\n",
       "                                         obsids_used  number_hirise  \\\n",
       "0  ['ESP_012079_0945', 'ESP_011407_0945', 'ESP_01...           14.0   \n",
       "1  ['ESP_012079_0945', 'ESP_011407_0945', 'ESP_01...           13.0   \n",
       "\n",
       "                                             Ls_used   region_name  \n",
       "0  (214.785, 183.727, 198.04, 207.892, 235.282, 2...  Macclesfield  \n",
       "1  (214.785, 183.727, 198.04, 207.892, 235.282, 2...  Macclesfield  "
      ]
     },
     "execution_count": 66,
     "metadata": {},
     "output_type": "execute_result"
    }
   ],
   "source": [
    "combodf.head(2) #check our just read in file"
   ]
  },
  {
   "cell_type": "code",
   "execution_count": 71,
   "metadata": {},
   "outputs": [
    {
     "data": {
      "text/html": [
       "<div>\n",
       "<style scoped>\n",
       "    .dataframe tbody tr th:only-of-type {\n",
       "        vertical-align: middle;\n",
       "    }\n",
       "\n",
       "    .dataframe tbody tr th {\n",
       "        vertical-align: top;\n",
       "    }\n",
       "\n",
       "    .dataframe thead th {\n",
       "        text-align: right;\n",
       "    }\n",
       "</style>\n",
       "<table border=\"1\" class=\"dataframe\">\n",
       "  <thead>\n",
       "    <tr style=\"text-align: right;\">\n",
       "      <th></th>\n",
       "      <th>combo_area</th>\n",
       "      <th>multipolygon</th>\n",
       "      <th>obsids_used</th>\n",
       "      <th>number_hirise</th>\n",
       "      <th>Ls_used</th>\n",
       "      <th>region_name</th>\n",
       "    </tr>\n",
       "  </thead>\n",
       "  <tbody>\n",
       "    <tr>\n",
       "      <th>0</th>\n",
       "      <td>0.008637</td>\n",
       "      <td>(POLYGON ((-67.69881540000002 255.7925763, -68...</td>\n",
       "      <td>[ESP_012079_0945, ESP_011407_0945, ESP_011723_...</td>\n",
       "      <td>14.0</td>\n",
       "      <td>(214.785, 183.727, 198.04, 207.892, 235.282, 2...</td>\n",
       "      <td>Macclesfield</td>\n",
       "    </tr>\n",
       "    <tr>\n",
       "      <th>1</th>\n",
       "      <td>0.073851</td>\n",
       "      <td>(POLYGON ((-67.69881540000002 255.7925763, -68...</td>\n",
       "      <td>[ESP_012079_0945, ESP_011407_0945, ESP_011723_...</td>\n",
       "      <td>13.0</td>\n",
       "      <td>(214.785, 183.727, 198.04, 207.892, 235.282, 2...</td>\n",
       "      <td>Macclesfield</td>\n",
       "    </tr>\n",
       "  </tbody>\n",
       "</table>\n",
       "</div>"
      ],
      "text/plain": [
       "   combo_area                                       multipolygon  \\\n",
       "0    0.008637  (POLYGON ((-67.69881540000002 255.7925763, -68...   \n",
       "1    0.073851  (POLYGON ((-67.69881540000002 255.7925763, -68...   \n",
       "\n",
       "                                         obsids_used  number_hirise  \\\n",
       "0  [ESP_012079_0945, ESP_011407_0945, ESP_011723_...           14.0   \n",
       "1  [ESP_012079_0945, ESP_011407_0945, ESP_011723_...           13.0   \n",
       "\n",
       "                                             Ls_used   region_name  \n",
       "0  (214.785, 183.727, 198.04, 207.892, 235.282, 2...  Macclesfield  \n",
       "1  (214.785, 183.727, 198.04, 207.892, 235.282, 2...  Macclesfield  "
      ]
     },
     "execution_count": 71,
     "metadata": {},
     "output_type": "execute_result"
    }
   ],
   "source": [
    "obsdf.head(2) #check our original file.  Doesn't seem to match, obsdf has the proper multipolygon, this does not"
   ]
  },
  {
   "cell_type": "code",
   "execution_count": 70,
   "metadata": {},
   "outputs": [
    {
     "data": {
      "image/svg+xml": [
       "<svg xmlns=\"http://www.w3.org/2000/svg\" xmlns:xlink=\"http://www.w3.org/1999/xlink\" width=\"100.0\" height=\"100.0\" viewBox=\"-81.105624412 241.042163988 31.243119324000006 43.44650222400011\" preserveAspectRatio=\"xMinYMin meet\"><g transform=\"matrix(1,0,0,-1,0,525.5308302000001)\"><g><path fill-rule=\"evenodd\" fill=\"#ff3333\" stroke=\"#555555\" stroke-width=\"0.8689300444800022\" opacity=\"0.6\" d=\"M -67.69881540000002,255.79257630000004 L -68.0397766,255.9241635 L -68.2102417,255.9901059 L -68.3806735,256.0561472 L -66.5165821,260.8401089 L -65.9265706,262.3506059 L -65.7792438,262.727603 L -65.4351928,263.6075048 L -65.18990550000001,264.2344785 L -64.9442308,264.8613011 L -64.6979937,265.4875738 L -64.4019769,266.2389609 L -63.3174531,268.9907508 L -63.07056650000001,269.61576610000003 L -62.38826820000001,269.3496037 L -67.5507085,256.169611 L -67.6000533,256.0438146 L -67.69881540000002,255.79257630000004 z\" /><path fill-rule=\"evenodd\" fill=\"#ff3333\" stroke=\"#555555\" stroke-width=\"0.8689300444800022\" opacity=\"0.6\" d=\"M -79.4964947,242.6512937 L -71.7773946,253.8635486 L -71.46847209999999,254.3115077 L -70.84964120000002,255.2074994 L -70.5397844,255.6551738 L -70.2291916,256.1023187 L -69.9174458,256.5497336 L -56.8173104,275.30803910000003 L -56.50581800000001,275.753868 L -56.1930716,276.1998598 L -55.87910890000001,276.6460092 L -55.25149620000001,277.5366029 L -54.9371813,277.9817438 L -54.62269420000001,278.42688530000004 L -53.6770012,279.76347860000004 L -53.04730479999999,280.6534371 L -51.4716348,282.8795365000001 L -79.4964947,242.6512937 z\" /><path fill-rule=\"evenodd\" fill=\"#ff3333\" stroke=\"#555555\" stroke-width=\"0.8689300444800022\" opacity=\"0.6\" d=\"M -72.54717990000002,244.87764930000003 L -72.8842343,245.0141336 L -65.1909364,263.8630052 L -64.7855186,264.855091 L -64.68419789999999,265.1028165 L -64.5826688,265.3505018 L -64.3794928,265.8454835 L -63.9731272,266.8351284 L -63.1602188,268.8128411 L -62.9568068,269.3076402 L -62.4485442,270.5434532 L -61.024266,274.0025687 L -58.2737336,280.6734549 L -57.9357451,280.5361091 L -58.1385669,280.0397582 L -58.2399819,279.791986 L -68.9956155,253.5288336 L -71.937942,246.361655 L -72.54717990000002,244.87764930000003 z\" /><path fill-rule=\"evenodd\" fill=\"#ff3333\" stroke=\"#555555\" stroke-width=\"0.8689300444800022\" opacity=\"0.6\" d=\"M -68.00317840000001,256.1826178 L -68.3417512,256.3222387 L -66.1611822,261.5696763 L -65.8495055,262.3195866 L -65.641774,262.8189481 L -65.53785160000001,263.0681557 L -65.2252855,263.8162465 L -64.91336020000001,264.5625696 L -64.8094088,264.8110625 L -64.6008765,265.3087539 L -63.87105699999999,267.04804069999994 L -63.7666627,267.2966906 L -63.1407482,268.787075 L -63.0364781,269.0349235 L -62.8272459,269.5315708 L -62.4887652,269.39109410000003 L -68.00317840000001,256.1826178 z\" /><path fill-rule=\"evenodd\" fill=\"#ff3333\" stroke=\"#555555\" stroke-width=\"0.8689300444800022\" opacity=\"0.6\" d=\"M -67.989408,256.1117836 L -68.32543100000001,256.2487721 L -66.3881271,260.96085930000004 L -66.18375089999999,261.4570084 L -65.877094,262.2007904 L -65.57096,262.9432131 L -65.4688224,263.1908765 L -65.3665628,263.4381557 L -64.75286039999999,264.919102 L -64.6505069,265.1657057 L -63.4211759,268.1222853 L -63.2160251,268.6154254 L -62.9083039,269.3548838 L -62.5722346,269.21637020000003 L -67.989408,256.1117836 z\" /><path fill-rule=\"evenodd\" fill=\"#ff3333\" stroke=\"#555555\" stroke-width=\"0.8689300444800022\" opacity=\"0.6\" d=\"M -66.91617959999999,257.8571416 L -67.084704,257.9234878 L -67.253222,257.9899059 L -67.4217001,258.0563379 L -67.5901413,258.12284950000003 L -66.60101999999999,260.6151089 L -66.1557433,261.7356397 L -66.1062794,261.8600123 L -66.00721120000001,262.1087463 L -65.9078122,262.3580958 L -65.8582764,262.48231880000003 L -65.8087356,262.6064769 L -65.1627429,264.2207531 L -64.9642067,264.7154315 L -64.9144947,264.8392169 L -64.616274,265.581491 L -64.2179212,266.5717628 L -64.06853249999999,266.942619 L -63.39415129999999,266.673769 L -66.91617959999999,257.8571416 z\" /><path fill-rule=\"evenodd\" fill=\"#ff3333\" stroke=\"#555555\" stroke-width=\"0.8689300444800022\" opacity=\"0.6\" d=\"M -66.20375920000001,254.0296356 L -66.5904706,254.0821575 L -65.492137,262.3902011 L -65.4549468,262.6669079 L -65.41729000000001,262.9430306 L -65.3793029,263.2190638 L -65.34115039999999,263.495134 L -65.2251404,264.3238774 L -65.1056691,265.150803 L -65.0656566,265.4266204 L -64.9841588,265.9778126 L -64.902365,266.5288135 L -64.779391,267.3542665 L -64.1983702,271.2042383 L -63.80674370000001,271.14943250000005 L -66.20375920000001,254.0296356 z\" /><path fill-rule=\"evenodd\" fill=\"#ff3333\" stroke=\"#555555\" stroke-width=\"0.8689300444800022\" opacity=\"0.6\" d=\"M -66.8270493,258.3039062 L -66.99540350000001,258.37205550000004 L -67.3320853,258.5085778 L -67.5004358,258.5772169 L -66.8890825,260.0701898 L -66.7871343,260.3189432 L -66.68516460000001,260.5675128 L -66.1742072,261.8116355 L -66.1231275,261.9358572 L -66.0210631,262.1840674 L -65.9700462,262.30801030000003 L -65.1521652,264.2922587 L -64.94811329999999,264.7867986 L -64.5906561,265.6524023 L -64.4883417,265.89924069999995 L -63.8733181,267.3815875 L -63.19960940000001,267.1051661 L -66.8270493,258.3039062 z\" /><path fill-rule=\"evenodd\" fill=\"#ff3333\" stroke=\"#555555\" stroke-width=\"0.8689300444800022\" opacity=\"0.6\" d=\"M -66.48888240000001,259.2801681 L -66.6563037,259.3515511 L -66.9911345,259.4950725 L -67.1584985,259.5670892 L -66.8906934,260.1857421 L -66.73026750000001,260.55623560000004 L -66.462911,261.1736397 L -66.40941,261.2970602 L -66.08787579999999,262.0383077 L -66.03413710000001,262.1621554 L -65.9268147,262.4090967 L -64.6937614,265.2387955 L -64.3722892,265.976357 L -64.31871629999999,266.0991509 L -63.8167972,265.8818452 L -63.64943960000001,265.8093375 L -66.48888240000001,259.2801681 z\" /><path fill-rule=\"evenodd\" fill=\"#ff3333\" stroke=\"#555555\" stroke-width=\"0.8689300444800022\" opacity=\"0.6\" d=\"M -66.41012389999999,259.1488139 L -66.5793564,259.2147554 L -67.0871084,259.41344530000003 L -66.93910629999999,259.7900462 L -66.6924805,260.4163203 L -66.5936245,260.66654359999995 L -66.2470449,261.5436983 L -66.14791460000001,261.7938095 L -65.55294479999999,263.2928816 L -65.5033939,263.4176064 L -65.45378670000001,263.5422097 L -65.3048913,263.91581940000003 L -65.15570579999999,264.29002510000004 L -64.4597647,266.031727 L -63.7819353,265.7636277 L -66.41012389999999,259.1488139 z\" /><path fill-rule=\"evenodd\" fill=\"#ff3333\" stroke=\"#555555\" stroke-width=\"0.8689300444800022\" opacity=\"0.6\" d=\"M -68.1007281,256.0211117 L -68.4359608,256.1613484 L -66.3487873,261.1111511 L -65.93108079999999,262.1015861 L -65.8265813,262.3488142 L -65.5123346,263.0903965 L -65.4077234,263.3372086 L -64.675055,265.0628227 L -64.3610307,265.8010258 L -63.10547879999999,268.7523879 L -62.8955461,269.2440245 L -62.560394,269.1023968 L -67.89131280000001,256.5152646 L -68.1007281,256.0211117 z\" /><path fill-rule=\"evenodd\" fill=\"#ff3333\" stroke=\"#555555\" stroke-width=\"0.8689300444800022\" opacity=\"0.6\" d=\"M -67.8168157,255.7067674 L -68.1598019,255.8320871 L -65.9262375,261.9102504 L -65.8330155,262.1631395 L -65.7397877,262.4160058 L -65.6462647,262.6689747 L -65.5521981,262.9232746 L -65.0848343,264.1855974 L -64.9911218,264.4374384 L -64.6149643,265.4449307 L -63.2976245,268.9658701 L -63.20329320000001,269.2167699 L -62.8600061,269.0904127 L -67.8168157,255.7067674 z\" /><path fill-rule=\"evenodd\" fill=\"#ff3333\" stroke=\"#555555\" stroke-width=\"0.8689300444800022\" opacity=\"0.6\" d=\"M -66.3908655,259.2209935 L -66.5601174,259.2882669 L -67.06793470000001,259.49105 L -66.8660512,259.9927417 L -66.16062420000002,261.7443754 L -66.1102495,261.8693508 L -66.00932850000001,262.11929680000003 L -65.9084769,262.369054 L -65.858041,262.4938131 L -65.6561315,262.99291150000005 L -65.2520713,263.9906871 L -65.1510034,264.2397173 L -64.7974492,265.1100653 L -64.6961791,265.3588556 L -64.39197239999999,266.10523 L -63.71417339999999,265.83130800000004 L -66.3908655,259.2209935 z\" /><path fill-rule=\"evenodd\" fill=\"#ff3333\" stroke=\"#555555\" stroke-width=\"0.8689300444800022\" opacity=\"0.6\" d=\"M -72.036563,255.34957180000004 L -71.6819437,255.7777693 L -71.3241671,256.2040831 L -70.9666306,256.6300287 L -70.2464344,257.4821412 L -59.4082123,270.2231537 L -60.12216529999999,269.36964950000004 L -60.4798708,268.943077 L -63.34337539999999,265.5328469 L -64.41850500000001,264.2531397 L -64.77856460000001,263.8273292 L -65.1391168,263.40223849999995 L -65.50059350000001,262.9770789 L -72.036563,255.34957180000004 z\" /></g></g></svg>"
      ],
      "text/plain": [
       "<shapely.geometry.multipolygon.MultiPolygon at 0x2abdb48a048>"
      ]
     },
     "execution_count": 70,
     "metadata": {},
     "output_type": "execute_result"
    }
   ],
   "source": [
    "obsdf.multipolygon[0]"
   ]
  },
  {
   "cell_type": "code",
   "execution_count": 68,
   "metadata": {
    "scrolled": true
   },
   "outputs": [
    {
     "data": {
      "text/plain": [
       "'MULTIPOLYGON (((-67.69881540000002 255.7925763, -68.0397766 255.9241635, -68.2102417 255.9901059, -68.3806735 256.0561472, -66.51658209999999 260.8401089, -65.92657060000001 262.3506059, -65.7792438 262.727603, -65.4351928 263.6075048, -65.18990550000001 264.2344785, -64.9442308 264.8613011, -64.6979937 265.4875738, -64.40197689999999 266.2389609, -63.3174531 268.9907508, -63.07056650000001 269.6157661, -62.38826820000001 269.3496037, -67.5507085 256.169611, -67.6000533 256.0438146, -67.69881540000002 255.7925763)), ((-79.4964947 242.6512937, -71.77739459999999 253.8635486, -71.46847209999999 254.3115077, -70.84964120000002 255.2074994, -70.5397844 255.6551738, -70.22919159999999 256.1023187, -69.9174458 256.5497336, -56.8173104 275.3080391, -56.50581800000001 275.753868, -56.1930716 276.1998598, -55.87910890000001 276.6460092, -55.25149620000001 277.5366029, -54.9371813 277.9817438, -54.62269420000001 278.4268853, -53.6770012 279.7634786, -53.04730479999999 280.6534371, -51.4716348 282.8795365000001, -79.4964947 242.6512937)), ((-72.54717990000002 244.8776493, -72.8842343 245.0141336, -65.1909364 263.8630052, -64.7855186 264.855091, -64.68419789999999 265.1028165, -64.58266879999999 265.3505018, -64.37949279999999 265.8454835, -63.9731272 266.8351284, -63.1602188 268.8128411, -62.9568068 269.3076402, -62.4485442 270.5434532, -61.024266 274.0025687, -58.2737336 280.6734549, -57.9357451 280.5361091, -58.1385669 280.0397582, -58.2399819 279.791986, -68.9956155 253.5288336, -71.93794200000001 246.361655, -72.54717990000002 244.8776493)), ((-68.00317840000001 256.1826178, -68.3417512 256.3222387, -66.1611822 261.5696763, -65.84950550000001 262.3195866, -65.641774 262.8189481, -65.53785160000001 263.0681557, -65.2252855 263.8162465, -64.91336020000001 264.5625696, -64.8094088 264.8110625, -64.6008765 265.3087539, -63.87105699999999 267.0480406999999, -63.7666627 267.2966906, -63.1407482 268.787075, -63.0364781 269.0349235, -62.8272459 269.5315708, -62.4887652 269.3910941, -68.00317840000001 256.1826178)), ((-67.989408 256.1117836, -68.32543100000001 256.2487721, -66.38812710000001 260.9608593, -66.18375089999999 261.4570084, -65.877094 262.2007904, -65.57096 262.9432131, -65.46882239999999 263.1908765, -65.3665628 263.4381557, -64.75286039999999 264.919102, -64.6505069 265.1657057, -63.4211759 268.1222853, -63.2160251 268.6154254, -62.9083039 269.3548838, -62.5722346 269.2163702, -67.989408 256.1117836)), ((-66.91617959999999 257.8571416, -67.084704 257.9234878, -67.25322199999999 257.9899059, -67.4217001 258.0563379, -67.5901413 258.1228495, -66.60101999999999 260.6151089, -66.1557433 261.7356397, -66.10627940000001 261.8600123, -66.00721120000001 262.1087463, -65.9078122 262.3580958, -65.85827639999999 262.4823188, -65.80873560000001 262.6064769, -65.1627429 264.2207531, -64.96420670000001 264.7154315, -64.91449470000001 264.8392169, -64.616274 265.581491, -64.21792120000001 266.5717628, -64.06853249999999 266.942619, -63.39415129999999 266.673769, -66.91617959999999 257.8571416)), ((-66.20375920000001 254.0296356, -66.5904706 254.0821575, -65.492137 262.3902011, -65.4549468 262.6669079, -65.41729000000001 262.9430306, -65.3793029 263.2190638, -65.34115039999999 263.495134, -65.2251404 264.3238774, -65.1056691 265.150803, -65.0656566 265.4266204, -64.9841588 265.9778126, -64.902365 266.5288135, -64.779391 267.3542665, -64.1983702 271.2042383, -63.80674370000001 271.1494325, -66.20375920000001 254.0296356)), ((-66.8270493 258.3039062, -66.99540350000001 258.3720555, -67.3320853 258.5085778, -67.50043580000001 258.5772169, -66.8890825 260.0701898, -66.78713430000001 260.3189432, -66.68516460000001 260.5675128, -66.1742072 261.8116355, -66.1231275 261.9358572, -66.02106310000001 262.1840674, -65.9700462 262.3080103, -65.1521652 264.2922587, -64.94811329999999 264.7867986, -64.5906561 265.6524023, -64.48834170000001 265.8992407, -63.8733181 267.3815875, -63.19960940000001 267.1051661, -66.8270493 258.3039062)), ((-66.48888240000001 259.2801681, -66.6563037 259.3515511, -66.9911345 259.4950725, -67.15849849999999 259.5670892, -66.8906934 260.1857421, -66.73026750000001 260.5562356, -66.46291100000001 261.1736397, -66.40940999999999 261.2970602, -66.08787579999999 262.0383077, -66.03413710000001 262.1621554, -65.92681469999999 262.4090967, -64.6937614 265.2387955, -64.3722892 265.976357, -64.31871629999999 266.0991509, -63.8167972 265.8818452, -63.64943960000001 265.8093375, -66.48888240000001 259.2801681)), ((-66.41012389999999 259.1488139, -66.57935639999999 259.2147554, -67.08710840000001 259.4134453, -66.93910629999999 259.7900462, -66.6924805 260.4163203, -66.5936245 260.6665436, -66.24704490000001 261.5436983, -66.14791460000001 261.7938095, -65.55294479999999 263.2928816, -65.50339390000001 263.4176064, -65.45378670000001 263.5422097, -65.30489129999999 263.9158194, -65.15570579999999 264.2900251, -64.45976469999999 266.031727, -63.7819353 265.7636277, -66.41012389999999 259.1488139)), ((-68.1007281 256.0211117, -68.4359608 256.1613484, -66.3487873 261.1111511, -65.93108079999999 262.1015861, -65.8265813 262.3488142, -65.5123346 263.0903965, -65.40772339999999 263.3372086, -64.675055 265.0628227, -64.3610307 265.8010258, -63.10547879999999 268.7523879, -62.8955461 269.2440245, -62.560394 269.1023968, -67.89131280000001 256.5152646, -68.1007281 256.0211117)), ((-67.81681570000001 255.7067674, -68.15980190000001 255.8320871, -65.9262375 261.9102504, -65.8330155 262.1631395, -65.73978769999999 262.4160058, -65.6462647 262.6689747, -65.5521981 262.9232746, -65.0848343 264.1855974, -64.9911218 264.4374384, -64.6149643 265.4449307, -63.2976245 268.9658701, -63.20329320000001 269.2167699, -62.8600061 269.0904127, -67.81681570000001 255.7067674)), ((-66.3908655 259.2209935, -66.5601174 259.2882669, -67.06793470000001 259.49105, -66.8660512 259.9927417, -66.16062420000002 261.7443754, -66.11024949999999 261.8693508, -66.00932850000001 262.1192968, -65.9084769 262.369054, -65.858041 262.4938131, -65.6561315 262.9929115, -65.2520713 263.9906871, -65.15100339999999 264.2397173, -64.7974492 265.1100653, -64.69617909999999 265.3588556, -64.39197239999999 266.10523, -63.71417339999999 265.831308, -66.3908655 259.2209935)), ((-72.036563 255.3495718, -71.68194370000001 255.7777693, -71.3241671 256.2040831, -70.9666306 256.6300287, -70.2464344 257.4821412, -59.4082123 270.2231537, -60.12216529999999 269.3696495, -60.4798708 268.943077, -63.34337539999999 265.5328469, -64.41850500000001 264.2531397, -64.77856460000001 263.8273292, -65.1391168 263.4022385, -65.50059350000001 262.9770789, -72.036563 255.3495718)))'"
      ]
     },
     "execution_count": 68,
     "metadata": {},
     "output_type": "execute_result"
    }
   ],
   "source": [
    "combodf.multipolygon[0] #oh no"
   ]
  }
 ],
 "metadata": {
  "kernelspec": {
   "display_name": "Python 3",
   "language": "python",
   "name": "python3"
  },
  "language_info": {
   "codemirror_mode": {
    "name": "ipython",
    "version": 3
   },
   "file_extension": ".py",
   "mimetype": "text/x-python",
   "name": "python",
   "nbconvert_exporter": "python",
   "pygments_lexer": "ipython3",
   "version": "3.7.1"
  }
 },
 "nbformat": 4,
 "nbformat_minor": 2
}
