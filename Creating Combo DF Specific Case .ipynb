{
 "cells": [
  {
   "cell_type": "markdown",
   "metadata": {},
   "source": [
    "About to rerun this but will alter the way obsids are stored, going to comment out old one and write new one in above it.  Revert if it doesn't work."
   ]
  },
  {
   "cell_type": "code",
   "execution_count": 1,
   "metadata": {},
   "outputs": [],
   "source": [
    "import pandas as pd\n",
    "import geopandas as gp\n",
    "import shapely as sp\n",
    "from shapely.geometry import Point, Polygon, MultiPolygon\n",
    "import numpy as np\n",
    "from itertools import combinations\n",
    "import intake\n",
    "from shapely.geometry import MultiPoint"
   ]
  },
  {
   "cell_type": "code",
   "execution_count": 2,
   "metadata": {},
   "outputs": [],
   "source": [
    "def get_outer_polygon_for_obsid(obsid, return_hull=True):\n",
    "    tiles = pd.read_csv(\"tile_coordinates.csv\")\n",
    "    obsid_tiles = tiles.query(\"obsid == @obsid\")\n",
    "    cols = \"BodyFixedCoordinateX BodyFixedCoordinateY\".split()\n",
    "    coords = obsid_tiles[cols]\n",
    "    coords.columns = [\"x\", \"y\"]\n",
    "    mp = MultiPoint(list(zip(coords.x, coords.y)))\n",
    "    if return_hull:\n",
    "        return mp.convex_hull\n",
    "    else:\n",
    "        return mp"
   ]
  },
  {
   "cell_type": "code",
   "execution_count": 3,
   "metadata": {},
   "outputs": [],
   "source": [
    "def interchecker(polygon_array):\n",
    "    \"\"\"\n",
    "    \n",
    "    \"\"\"\n",
    "    bucket2 = []\n",
    "    combos = []\n",
    "    iterable1 = range(len(polygon_array)) \n",
    "    p = len(polygon_array)\n",
    "    for n in iterable1:\n",
    "        if p > 0:\n",
    "            comb = list(combinations(iterable1,p))\n",
    "            for item in comb:\n",
    "                x = item\n",
    "                combos.append(x)\n",
    "            p = p-1\n",
    "        else:\n",
    "            end\n",
    "\n",
    "    #the above gives us an array of each possible combination eg\n",
    "    #combos = [comb[0],comb[1],...]\n",
    "    #where comb[0] could be (0,1,2,4) or something of the sort\n",
    "    \n",
    "    for ele in combos:\n",
    "        d = {}\n",
    "        #print(ele) #shows the element used\n",
    "        #d['region_name'] = region\n",
    "        #d['index_used'] = ele #for testing\n",
    "        bucket = []\n",
    "        for number in ele:\n",
    "            bucket.append(polygon_array[number])\n",
    "            #bucket now [poly0, poly1, poly2, poly4] if using comb[0] above\n",
    "        d['elements_used'] = np.array(bucket)\n",
    "        if len(bucket)>1:\n",
    "            y = bucket[0].intersection(bucket[1])\n",
    "            for i in range(len(bucket)-2):\n",
    "                y = y.intersection(bucket[i+2])\n",
    "            #print(y.area)\n",
    "            d[\"combo_area\"]= y.area\n",
    "        else:\n",
    "            #print(bucket[0].area)\n",
    "            d['combo_area'] = bucket[0].area\n",
    "        #for number in ele:\n",
    "            #d['elements_used'] = polygon_array[number]\n",
    "            #must move elements used to get every element used- where?\n",
    "        bucket2.append(d)\n",
    "    return pd.DataFrame(bucket2)"
   ]
  },
  {
   "cell_type": "code",
   "execution_count": 4,
   "metadata": {},
   "outputs": [],
   "source": [
    "olddata = pd.read_csv(\"n_obj_df.csv\")"
   ]
  },
  {
   "cell_type": "code",
   "execution_count": 5,
   "metadata": {},
   "outputs": [
    {
     "data": {
      "text/html": [
       "<div>\n",
       "<style scoped>\n",
       "    .dataframe tbody tr th:only-of-type {\n",
       "        vertical-align: middle;\n",
       "    }\n",
       "\n",
       "    .dataframe tbody tr th {\n",
       "        vertical-align: top;\n",
       "    }\n",
       "\n",
       "    .dataframe thead th {\n",
       "        text-align: right;\n",
       "    }\n",
       "</style>\n",
       "<table border=\"1\" class=\"dataframe\">\n",
       "  <thead>\n",
       "    <tr style=\"text-align: right;\">\n",
       "      <th></th>\n",
       "      <th>Latitude</th>\n",
       "      <th>Ls</th>\n",
       "      <th>MY</th>\n",
       "      <th>Which</th>\n",
       "      <th>fraction</th>\n",
       "      <th>n_objects</th>\n",
       "      <th>obsid</th>\n",
       "      <th>pixel_area</th>\n",
       "      <th>region_name</th>\n",
       "    </tr>\n",
       "  </thead>\n",
       "  <tbody>\n",
       "    <tr>\n",
       "      <th>0</th>\n",
       "      <td>-85.4074</td>\n",
       "      <td>214.785</td>\n",
       "      <td>29</td>\n",
       "      <td>both</td>\n",
       "      <td>0.115</td>\n",
       "      <td>933</td>\n",
       "      <td>ESP_012079_0945</td>\n",
       "      <td>2.551911e+07</td>\n",
       "      <td>Macclesfield</td>\n",
       "    </tr>\n",
       "    <tr>\n",
       "      <th>1</th>\n",
       "      <td>-85.4065</td>\n",
       "      <td>183.727</td>\n",
       "      <td>29</td>\n",
       "      <td>both</td>\n",
       "      <td>0.070</td>\n",
       "      <td>1971</td>\n",
       "      <td>ESP_011407_0945</td>\n",
       "      <td>2.592302e+06</td>\n",
       "      <td>Macclesfield</td>\n",
       "    </tr>\n",
       "    <tr>\n",
       "      <th>2</th>\n",
       "      <td>-85.4056</td>\n",
       "      <td>198.040</td>\n",
       "      <td>29</td>\n",
       "      <td>both</td>\n",
       "      <td>0.072</td>\n",
       "      <td>1525</td>\n",
       "      <td>ESP_011723_0945</td>\n",
       "      <td>8.455380e+06</td>\n",
       "      <td>Macclesfield</td>\n",
       "    </tr>\n",
       "    <tr>\n",
       "      <th>3</th>\n",
       "      <td>-85.4049</td>\n",
       "      <td>207.892</td>\n",
       "      <td>29</td>\n",
       "      <td>both</td>\n",
       "      <td>0.168</td>\n",
       "      <td>788</td>\n",
       "      <td>ESP_011934_0945</td>\n",
       "      <td>7.357966e+06</td>\n",
       "      <td>Macclesfield</td>\n",
       "    </tr>\n",
       "    <tr>\n",
       "      <th>4</th>\n",
       "      <td>-85.4067</td>\n",
       "      <td>235.282</td>\n",
       "      <td>29</td>\n",
       "      <td>both</td>\n",
       "      <td>0.111</td>\n",
       "      <td>1285</td>\n",
       "      <td>ESP_012501_0945</td>\n",
       "      <td>4.882627e+06</td>\n",
       "      <td>Macclesfield</td>\n",
       "    </tr>\n",
       "  </tbody>\n",
       "</table>\n",
       "</div>"
      ],
      "text/plain": [
       "   Latitude       Ls  MY Which  fraction  n_objects            obsid  \\\n",
       "0  -85.4074  214.785  29  both     0.115        933  ESP_012079_0945   \n",
       "1  -85.4065  183.727  29  both     0.070       1971  ESP_011407_0945   \n",
       "2  -85.4056  198.040  29  both     0.072       1525  ESP_011723_0945   \n",
       "3  -85.4049  207.892  29  both     0.168        788  ESP_011934_0945   \n",
       "4  -85.4067  235.282  29  both     0.111       1285  ESP_012501_0945   \n",
       "\n",
       "     pixel_area   region_name  \n",
       "0  2.551911e+07  Macclesfield  \n",
       "1  2.592302e+06  Macclesfield  \n",
       "2  8.455380e+06  Macclesfield  \n",
       "3  7.357966e+06  Macclesfield  \n",
       "4  4.882627e+06  Macclesfield  "
      ]
     },
     "execution_count": 5,
     "metadata": {},
     "output_type": "execute_result"
    }
   ],
   "source": [
    "olddata.head()"
   ]
  },
  {
   "cell_type": "code",
   "execution_count": 6,
   "metadata": {},
   "outputs": [],
   "source": [
    "testregion = 'Macclesfield'"
   ]
  },
  {
   "cell_type": "code",
   "execution_count": 7,
   "metadata": {},
   "outputs": [],
   "source": [
    "bucket = []\n",
    "for obs in olddata[olddata['region_name'] == testregion].obsid.unique():\n",
    "    d = {}\n",
    "    d['region_name'] = testregion\n",
    "    d['Obsid_Used'] = obs\n",
    "    x = get_outer_polygon_for_obsid(obs)\n",
    "    area = x.area\n",
    "    d['Obsid_Area'] = area\n",
    "    d['polygon_shape'] = x\n",
    "    bucket.append(d)\n",
    "results = pd.DataFrame(bucket)"
   ]
  },
  {
   "cell_type": "code",
   "execution_count": 8,
   "metadata": {
    "scrolled": true
   },
   "outputs": [
    {
     "data": {
      "text/html": [
       "<div>\n",
       "<style scoped>\n",
       "    .dataframe tbody tr th:only-of-type {\n",
       "        vertical-align: middle;\n",
       "    }\n",
       "\n",
       "    .dataframe tbody tr th {\n",
       "        vertical-align: top;\n",
       "    }\n",
       "\n",
       "    .dataframe thead th {\n",
       "        text-align: right;\n",
       "    }\n",
       "</style>\n",
       "<table border=\"1\" class=\"dataframe\">\n",
       "  <thead>\n",
       "    <tr style=\"text-align: right;\">\n",
       "      <th></th>\n",
       "      <th>Obsid_Area</th>\n",
       "      <th>Obsid_Used</th>\n",
       "      <th>polygon_shape</th>\n",
       "      <th>region_name</th>\n",
       "    </tr>\n",
       "  </thead>\n",
       "  <tbody>\n",
       "    <tr>\n",
       "      <th>0</th>\n",
       "      <td>10.754545</td>\n",
       "      <td>ESP_012079_0945</td>\n",
       "      <td>POLYGON ((-67.69881540000002 255.7925763, -68....</td>\n",
       "      <td>Macclesfield</td>\n",
       "    </tr>\n",
       "    <tr>\n",
       "      <th>1</th>\n",
       "      <td>2.720774</td>\n",
       "      <td>ESP_011407_0945</td>\n",
       "      <td>POLYGON ((-79.4964947 242.6512937, -71.7773945...</td>\n",
       "      <td>Macclesfield</td>\n",
       "    </tr>\n",
       "    <tr>\n",
       "      <th>2</th>\n",
       "      <td>14.759485</td>\n",
       "      <td>ESP_011723_0945</td>\n",
       "      <td>POLYGON ((-72.54717990000002 244.8776493, -72....</td>\n",
       "      <td>Macclesfield</td>\n",
       "    </tr>\n",
       "    <tr>\n",
       "      <th>3</th>\n",
       "      <td>5.338690</td>\n",
       "      <td>ESP_011934_0945</td>\n",
       "      <td>POLYGON ((-68.00317840000001 256.1826178, -68....</td>\n",
       "      <td>Macclesfield</td>\n",
       "    </tr>\n",
       "    <tr>\n",
       "      <th>4</th>\n",
       "      <td>5.246979</td>\n",
       "      <td>ESP_012501_0945</td>\n",
       "      <td>POLYGON ((-67.989408 256.1117836, -68.32543100...</td>\n",
       "      <td>Macclesfield</td>\n",
       "    </tr>\n",
       "    <tr>\n",
       "      <th>5</th>\n",
       "      <td>6.933368</td>\n",
       "      <td>ESP_012290_0945</td>\n",
       "      <td>POLYGON ((-66.91617959999999 257.8571416, -67....</td>\n",
       "      <td>Macclesfield</td>\n",
       "    </tr>\n",
       "    <tr>\n",
       "      <th>6</th>\n",
       "      <td>7.428567</td>\n",
       "      <td>ESP_011406_0945</td>\n",
       "      <td>POLYGON ((-66.20375920000001 254.0296356, -66....</td>\n",
       "      <td>Macclesfield</td>\n",
       "    </tr>\n",
       "    <tr>\n",
       "      <th>7</th>\n",
       "      <td>6.965716</td>\n",
       "      <td>ESP_021494_0945</td>\n",
       "      <td>POLYGON ((-66.8270493 258.3039062, -66.9954035...</td>\n",
       "      <td>Macclesfield</td>\n",
       "    </tr>\n",
       "    <tr>\n",
       "      <th>8</th>\n",
       "      <td>5.204890</td>\n",
       "      <td>ESP_020782_0945</td>\n",
       "      <td>POLYGON ((-66.48888240000001 259.2801681, -66....</td>\n",
       "      <td>Macclesfield</td>\n",
       "    </tr>\n",
       "    <tr>\n",
       "      <th>9</th>\n",
       "      <td>5.208502</td>\n",
       "      <td>ESP_020716_0945</td>\n",
       "      <td>POLYGON ((-66.41012389999999 259.1488139, -66....</td>\n",
       "      <td>Macclesfield</td>\n",
       "    </tr>\n",
       "    <tr>\n",
       "      <th>10</th>\n",
       "      <td>5.248860</td>\n",
       "      <td>ESP_020571_0945</td>\n",
       "      <td>POLYGON ((-68.1007281 256.0211117, -68.4359608...</td>\n",
       "      <td>Macclesfield</td>\n",
       "    </tr>\n",
       "    <tr>\n",
       "      <th>11</th>\n",
       "      <td>5.360264</td>\n",
       "      <td>ESP_020294_0945</td>\n",
       "      <td>POLYGON ((-67.81681570000001 255.7067674, -68....</td>\n",
       "      <td>Macclesfield</td>\n",
       "    </tr>\n",
       "    <tr>\n",
       "      <th>12</th>\n",
       "      <td>5.228874</td>\n",
       "      <td>ESP_020927_0945</td>\n",
       "      <td>POLYGON ((-66.3908655 259.2209935, -66.5601174...</td>\n",
       "      <td>Macclesfield</td>\n",
       "    </tr>\n",
       "    <tr>\n",
       "      <th>13</th>\n",
       "      <td>0.648516</td>\n",
       "      <td>ESP_020242_0945</td>\n",
       "      <td>POLYGON ((-72.036563 255.3495718, -71.68194370...</td>\n",
       "      <td>Macclesfield</td>\n",
       "    </tr>\n",
       "  </tbody>\n",
       "</table>\n",
       "</div>"
      ],
      "text/plain": [
       "    Obsid_Area       Obsid_Used  \\\n",
       "0    10.754545  ESP_012079_0945   \n",
       "1     2.720774  ESP_011407_0945   \n",
       "2    14.759485  ESP_011723_0945   \n",
       "3     5.338690  ESP_011934_0945   \n",
       "4     5.246979  ESP_012501_0945   \n",
       "5     6.933368  ESP_012290_0945   \n",
       "6     7.428567  ESP_011406_0945   \n",
       "7     6.965716  ESP_021494_0945   \n",
       "8     5.204890  ESP_020782_0945   \n",
       "9     5.208502  ESP_020716_0945   \n",
       "10    5.248860  ESP_020571_0945   \n",
       "11    5.360264  ESP_020294_0945   \n",
       "12    5.228874  ESP_020927_0945   \n",
       "13    0.648516  ESP_020242_0945   \n",
       "\n",
       "                                        polygon_shape   region_name  \n",
       "0   POLYGON ((-67.69881540000002 255.7925763, -68....  Macclesfield  \n",
       "1   POLYGON ((-79.4964947 242.6512937, -71.7773945...  Macclesfield  \n",
       "2   POLYGON ((-72.54717990000002 244.8776493, -72....  Macclesfield  \n",
       "3   POLYGON ((-68.00317840000001 256.1826178, -68....  Macclesfield  \n",
       "4   POLYGON ((-67.989408 256.1117836, -68.32543100...  Macclesfield  \n",
       "5   POLYGON ((-66.91617959999999 257.8571416, -67....  Macclesfield  \n",
       "6   POLYGON ((-66.20375920000001 254.0296356, -66....  Macclesfield  \n",
       "7   POLYGON ((-66.8270493 258.3039062, -66.9954035...  Macclesfield  \n",
       "8   POLYGON ((-66.48888240000001 259.2801681, -66....  Macclesfield  \n",
       "9   POLYGON ((-66.41012389999999 259.1488139, -66....  Macclesfield  \n",
       "10  POLYGON ((-68.1007281 256.0211117, -68.4359608...  Macclesfield  \n",
       "11  POLYGON ((-67.81681570000001 255.7067674, -68....  Macclesfield  \n",
       "12  POLYGON ((-66.3908655 259.2209935, -66.5601174...  Macclesfield  \n",
       "13  POLYGON ((-72.036563 255.3495718, -71.68194370...  Macclesfield  "
      ]
     },
     "execution_count": 8,
     "metadata": {},
     "output_type": "execute_result"
    }
   ],
   "source": [
    "results"
   ]
  },
  {
   "cell_type": "code",
   "execution_count": 9,
   "metadata": {},
   "outputs": [],
   "source": [
    "bucket = []\n",
    "for obs in olddata[olddata['region_name'] == testregion].obsid.unique():\n",
    "    d = {}\n",
    "    d['obsid'] = obs #we dont want obs, want obs used in combo\n",
    "    x = get_outer_polygon_for_obsid(obs)\n",
    "    d['obs_poly'] = x\n",
    "    bucket.append(d)\n",
    "testresult = pd.DataFrame(bucket)"
   ]
  },
  {
   "cell_type": "code",
   "execution_count": 10,
   "metadata": {},
   "outputs": [],
   "source": [
    "df1 = testresult"
   ]
  },
  {
   "cell_type": "code",
   "execution_count": 11,
   "metadata": {},
   "outputs": [
    {
     "name": "stdout",
     "output_type": "stream",
     "text": [
      "16383\n"
     ]
    }
   ],
   "source": [
    "df2 = interchecker(testresult.obs_poly)\n",
    "df2.head()\n",
    "print(len(df2))"
   ]
  },
  {
   "cell_type": "code",
   "execution_count": 12,
   "metadata": {},
   "outputs": [
    {
     "data": {
      "text/plain": [
       "14"
      ]
     },
     "execution_count": 12,
     "metadata": {},
     "output_type": "execute_result"
    }
   ],
   "source": [
    "len(df1)"
   ]
  },
  {
   "cell_type": "code",
   "execution_count": 13,
   "metadata": {},
   "outputs": [
    {
     "data": {
      "text/html": [
       "<div>\n",
       "<style scoped>\n",
       "    .dataframe tbody tr th:only-of-type {\n",
       "        vertical-align: middle;\n",
       "    }\n",
       "\n",
       "    .dataframe tbody tr th {\n",
       "        vertical-align: top;\n",
       "    }\n",
       "\n",
       "    .dataframe thead th {\n",
       "        text-align: right;\n",
       "    }\n",
       "</style>\n",
       "<table border=\"1\" class=\"dataframe\">\n",
       "  <thead>\n",
       "    <tr style=\"text-align: right;\">\n",
       "      <th></th>\n",
       "      <th>obs_poly</th>\n",
       "      <th>obsid</th>\n",
       "    </tr>\n",
       "  </thead>\n",
       "  <tbody>\n",
       "    <tr>\n",
       "      <th>0</th>\n",
       "      <td>POLYGON ((-67.69881540000002 255.7925763, -68....</td>\n",
       "      <td>ESP_012079_0945</td>\n",
       "    </tr>\n",
       "    <tr>\n",
       "      <th>1</th>\n",
       "      <td>POLYGON ((-79.4964947 242.6512937, -71.7773945...</td>\n",
       "      <td>ESP_011407_0945</td>\n",
       "    </tr>\n",
       "    <tr>\n",
       "      <th>2</th>\n",
       "      <td>POLYGON ((-72.54717990000002 244.8776493, -72....</td>\n",
       "      <td>ESP_011723_0945</td>\n",
       "    </tr>\n",
       "    <tr>\n",
       "      <th>3</th>\n",
       "      <td>POLYGON ((-68.00317840000001 256.1826178, -68....</td>\n",
       "      <td>ESP_011934_0945</td>\n",
       "    </tr>\n",
       "    <tr>\n",
       "      <th>4</th>\n",
       "      <td>POLYGON ((-67.989408 256.1117836, -68.32543100...</td>\n",
       "      <td>ESP_012501_0945</td>\n",
       "    </tr>\n",
       "  </tbody>\n",
       "</table>\n",
       "</div>"
      ],
      "text/plain": [
       "                                            obs_poly            obsid\n",
       "0  POLYGON ((-67.69881540000002 255.7925763, -68....  ESP_012079_0945\n",
       "1  POLYGON ((-79.4964947 242.6512937, -71.7773945...  ESP_011407_0945\n",
       "2  POLYGON ((-72.54717990000002 244.8776493, -72....  ESP_011723_0945\n",
       "3  POLYGON ((-68.00317840000001 256.1826178, -68....  ESP_011934_0945\n",
       "4  POLYGON ((-67.989408 256.1117836, -68.32543100...  ESP_012501_0945"
      ]
     },
     "execution_count": 13,
     "metadata": {},
     "output_type": "execute_result"
    }
   ],
   "source": [
    "df1.head()"
   ]
  },
  {
   "cell_type": "code",
   "execution_count": 14,
   "metadata": {},
   "outputs": [],
   "source": [
    "x = 14+91+364+1001+2002+3003+3432+3003+2002+1001+364+91+14+1"
   ]
  },
  {
   "cell_type": "code",
   "execution_count": 15,
   "metadata": {},
   "outputs": [
    {
     "name": "stdout",
     "output_type": "stream",
     "text": [
      "16383\n"
     ]
    }
   ],
   "source": [
    "print(x) #we expect this many combinations, and we get it! perfect"
   ]
  },
  {
   "cell_type": "code",
   "execution_count": 16,
   "metadata": {},
   "outputs": [],
   "source": [
    "Testregion_inter = interchecker(results.polygon_shape) #all combos of results"
   ]
  },
  {
   "cell_type": "code",
   "execution_count": 17,
   "metadata": {},
   "outputs": [
    {
     "data": {
      "text/html": [
       "<div>\n",
       "<style scoped>\n",
       "    .dataframe tbody tr th:only-of-type {\n",
       "        vertical-align: middle;\n",
       "    }\n",
       "\n",
       "    .dataframe tbody tr th {\n",
       "        vertical-align: top;\n",
       "    }\n",
       "\n",
       "    .dataframe thead th {\n",
       "        text-align: right;\n",
       "    }\n",
       "</style>\n",
       "<table border=\"1\" class=\"dataframe\">\n",
       "  <thead>\n",
       "    <tr style=\"text-align: right;\">\n",
       "      <th></th>\n",
       "      <th>combo_area</th>\n",
       "      <th>elements_used</th>\n",
       "    </tr>\n",
       "  </thead>\n",
       "  <tbody>\n",
       "    <tr>\n",
       "      <th>0</th>\n",
       "      <td>0.008637</td>\n",
       "      <td>[POLYGON ((-67.69881540000002 255.7925763, -68...</td>\n",
       "    </tr>\n",
       "    <tr>\n",
       "      <th>1</th>\n",
       "      <td>0.073851</td>\n",
       "      <td>[POLYGON ((-67.69881540000002 255.7925763, -68...</td>\n",
       "    </tr>\n",
       "    <tr>\n",
       "      <th>2</th>\n",
       "      <td>0.008637</td>\n",
       "      <td>[POLYGON ((-67.69881540000002 255.7925763, -68...</td>\n",
       "    </tr>\n",
       "    <tr>\n",
       "      <th>3</th>\n",
       "      <td>0.008637</td>\n",
       "      <td>[POLYGON ((-67.69881540000002 255.7925763, -68...</td>\n",
       "    </tr>\n",
       "    <tr>\n",
       "      <th>4</th>\n",
       "      <td>0.008637</td>\n",
       "      <td>[POLYGON ((-67.69881540000002 255.7925763, -68...</td>\n",
       "    </tr>\n",
       "  </tbody>\n",
       "</table>\n",
       "</div>"
      ],
      "text/plain": [
       "   combo_area                                      elements_used\n",
       "0    0.008637  [POLYGON ((-67.69881540000002 255.7925763, -68...\n",
       "1    0.073851  [POLYGON ((-67.69881540000002 255.7925763, -68...\n",
       "2    0.008637  [POLYGON ((-67.69881540000002 255.7925763, -68...\n",
       "3    0.008637  [POLYGON ((-67.69881540000002 255.7925763, -68...\n",
       "4    0.008637  [POLYGON ((-67.69881540000002 255.7925763, -68..."
      ]
     },
     "execution_count": 17,
     "metadata": {},
     "output_type": "execute_result"
    }
   ],
   "source": [
    "Testregion_inter.head()"
   ]
  },
  {
   "cell_type": "code",
   "execution_count": 18,
   "metadata": {},
   "outputs": [
    {
     "data": {
      "text/plain": [
       "16383"
      ]
     },
     "execution_count": 18,
     "metadata": {},
     "output_type": "execute_result"
    }
   ],
   "source": [
    "len(Testregion_inter.elements_used) #should be half, elements_used nonunique"
   ]
  },
  {
   "cell_type": "code",
   "execution_count": 19,
   "metadata": {},
   "outputs": [
    {
     "data": {
      "text/plain": [
       "14.759485453249887"
      ]
     },
     "execution_count": 19,
     "metadata": {},
     "output_type": "execute_result"
    }
   ],
   "source": [
    "results.Obsid_Area.max()"
   ]
  },
  {
   "cell_type": "code",
   "execution_count": 20,
   "metadata": {
    "scrolled": true
   },
   "outputs": [
    {
     "data": {
      "text/plain": [
       "14.759485453249887"
      ]
     },
     "execution_count": 20,
     "metadata": {},
     "output_type": "execute_result"
    }
   ],
   "source": [
    "Testregion_inter.combo_area.max()"
   ]
  },
  {
   "cell_type": "code",
   "execution_count": 21,
   "metadata": {},
   "outputs": [
    {
     "data": {
      "text/plain": [
       "0    0.008637\n",
       "1    0.073851\n",
       "2    0.008637\n",
       "3    0.008637\n",
       "4    0.008637\n",
       "Name: combo_area, dtype: float64"
      ]
     },
     "execution_count": 21,
     "metadata": {},
     "output_type": "execute_result"
    }
   ],
   "source": [
    "Testregion_inter.combo_area.head()"
   ]
  },
  {
   "cell_type": "code",
   "execution_count": 22,
   "metadata": {},
   "outputs": [],
   "source": [
    "bucket2 = []\n",
    "for ele in Testregion_inter.index:\n",
    "    #print(ele)\n",
    "    polylist = Testregion_inter.elements_used[ele]\n",
    "    bucket = []\n",
    "    for poly in polylist:\n",
    "        x = df1.obsid[df1['obs_poly'] == poly].values[0]\n",
    "        bucket.append(x)\n",
    "    bucket2.append(bucket)\n",
    "Testregion_inter['obsids_used'] = np.array(bucket2)\n"
   ]
  },
  {
   "cell_type": "code",
   "execution_count": 23,
   "metadata": {},
   "outputs": [],
   "source": [
    "#THIS IS THE REAL ONE! Save!\n",
    "# bucket2 = []\n",
    "# for ele in Testregion_inter.index:\n",
    "#     #print(ele)\n",
    "#     polylist = Testregion_inter.elements_used[ele]\n",
    "#     bucket = []\n",
    "#     for poly in polylist:\n",
    "#         x = df1.obsid[df1['obs_poly'] == poly].values[0]\n",
    "#         bucket.append(x)\n",
    "#     bucket = tuple(bucket)\n",
    "#     bucket2.append(bucket)\n",
    "# Testregion_inter['obsids_used'] = np.array(bucket2)\n"
   ]
  },
  {
   "cell_type": "code",
   "execution_count": 24,
   "metadata": {},
   "outputs": [
    {
     "data": {
      "text/html": [
       "<div>\n",
       "<style scoped>\n",
       "    .dataframe tbody tr th:only-of-type {\n",
       "        vertical-align: middle;\n",
       "    }\n",
       "\n",
       "    .dataframe tbody tr th {\n",
       "        vertical-align: top;\n",
       "    }\n",
       "\n",
       "    .dataframe thead th {\n",
       "        text-align: right;\n",
       "    }\n",
       "</style>\n",
       "<table border=\"1\" class=\"dataframe\">\n",
       "  <thead>\n",
       "    <tr style=\"text-align: right;\">\n",
       "      <th></th>\n",
       "      <th>combo_area</th>\n",
       "      <th>elements_used</th>\n",
       "      <th>obsids_used</th>\n",
       "    </tr>\n",
       "  </thead>\n",
       "  <tbody>\n",
       "    <tr>\n",
       "      <th>0</th>\n",
       "      <td>0.008637</td>\n",
       "      <td>[POLYGON ((-67.69881540000002 255.7925763, -68...</td>\n",
       "      <td>[ESP_012079_0945, ESP_011407_0945, ESP_011723_...</td>\n",
       "    </tr>\n",
       "    <tr>\n",
       "      <th>1</th>\n",
       "      <td>0.073851</td>\n",
       "      <td>[POLYGON ((-67.69881540000002 255.7925763, -68...</td>\n",
       "      <td>[ESP_012079_0945, ESP_011407_0945, ESP_011723_...</td>\n",
       "    </tr>\n",
       "    <tr>\n",
       "      <th>2</th>\n",
       "      <td>0.008637</td>\n",
       "      <td>[POLYGON ((-67.69881540000002 255.7925763, -68...</td>\n",
       "      <td>[ESP_012079_0945, ESP_011407_0945, ESP_011723_...</td>\n",
       "    </tr>\n",
       "    <tr>\n",
       "      <th>3</th>\n",
       "      <td>0.008637</td>\n",
       "      <td>[POLYGON ((-67.69881540000002 255.7925763, -68...</td>\n",
       "      <td>[ESP_012079_0945, ESP_011407_0945, ESP_011723_...</td>\n",
       "    </tr>\n",
       "    <tr>\n",
       "      <th>4</th>\n",
       "      <td>0.008637</td>\n",
       "      <td>[POLYGON ((-67.69881540000002 255.7925763, -68...</td>\n",
       "      <td>[ESP_012079_0945, ESP_011407_0945, ESP_011723_...</td>\n",
       "    </tr>\n",
       "  </tbody>\n",
       "</table>\n",
       "</div>"
      ],
      "text/plain": [
       "   combo_area                                      elements_used  \\\n",
       "0    0.008637  [POLYGON ((-67.69881540000002 255.7925763, -68...   \n",
       "1    0.073851  [POLYGON ((-67.69881540000002 255.7925763, -68...   \n",
       "2    0.008637  [POLYGON ((-67.69881540000002 255.7925763, -68...   \n",
       "3    0.008637  [POLYGON ((-67.69881540000002 255.7925763, -68...   \n",
       "4    0.008637  [POLYGON ((-67.69881540000002 255.7925763, -68...   \n",
       "\n",
       "                                         obsids_used  \n",
       "0  [ESP_012079_0945, ESP_011407_0945, ESP_011723_...  \n",
       "1  [ESP_012079_0945, ESP_011407_0945, ESP_011723_...  \n",
       "2  [ESP_012079_0945, ESP_011407_0945, ESP_011723_...  \n",
       "3  [ESP_012079_0945, ESP_011407_0945, ESP_011723_...  \n",
       "4  [ESP_012079_0945, ESP_011407_0945, ESP_011723_...  "
      ]
     },
     "execution_count": 24,
     "metadata": {},
     "output_type": "execute_result"
    }
   ],
   "source": [
    "Testregion_inter.head()\n",
    "#print(Testregion_inter.obsids_used[0])"
   ]
  },
  {
   "cell_type": "code",
   "execution_count": 25,
   "metadata": {},
   "outputs": [],
   "source": [
    "obsdf = Testregion_inter #rename this monstrosity"
   ]
  },
  {
   "cell_type": "code",
   "execution_count": 26,
   "metadata": {},
   "outputs": [
    {
     "data": {
      "text/html": [
       "<div>\n",
       "<style scoped>\n",
       "    .dataframe tbody tr th:only-of-type {\n",
       "        vertical-align: middle;\n",
       "    }\n",
       "\n",
       "    .dataframe tbody tr th {\n",
       "        vertical-align: top;\n",
       "    }\n",
       "\n",
       "    .dataframe thead th {\n",
       "        text-align: right;\n",
       "    }\n",
       "</style>\n",
       "<table border=\"1\" class=\"dataframe\">\n",
       "  <thead>\n",
       "    <tr style=\"text-align: right;\">\n",
       "      <th></th>\n",
       "      <th>combo_area</th>\n",
       "      <th>elements_used</th>\n",
       "      <th>obsids_used</th>\n",
       "    </tr>\n",
       "  </thead>\n",
       "  <tbody>\n",
       "    <tr>\n",
       "      <th>0</th>\n",
       "      <td>0.008637</td>\n",
       "      <td>[POLYGON ((-67.69881540000002 255.7925763, -68...</td>\n",
       "      <td>[ESP_012079_0945, ESP_011407_0945, ESP_011723_...</td>\n",
       "    </tr>\n",
       "    <tr>\n",
       "      <th>1</th>\n",
       "      <td>0.073851</td>\n",
       "      <td>[POLYGON ((-67.69881540000002 255.7925763, -68...</td>\n",
       "      <td>[ESP_012079_0945, ESP_011407_0945, ESP_011723_...</td>\n",
       "    </tr>\n",
       "    <tr>\n",
       "      <th>2</th>\n",
       "      <td>0.008637</td>\n",
       "      <td>[POLYGON ((-67.69881540000002 255.7925763, -68...</td>\n",
       "      <td>[ESP_012079_0945, ESP_011407_0945, ESP_011723_...</td>\n",
       "    </tr>\n",
       "    <tr>\n",
       "      <th>3</th>\n",
       "      <td>0.008637</td>\n",
       "      <td>[POLYGON ((-67.69881540000002 255.7925763, -68...</td>\n",
       "      <td>[ESP_012079_0945, ESP_011407_0945, ESP_011723_...</td>\n",
       "    </tr>\n",
       "    <tr>\n",
       "      <th>4</th>\n",
       "      <td>0.008637</td>\n",
       "      <td>[POLYGON ((-67.69881540000002 255.7925763, -68...</td>\n",
       "      <td>[ESP_012079_0945, ESP_011407_0945, ESP_011723_...</td>\n",
       "    </tr>\n",
       "  </tbody>\n",
       "</table>\n",
       "</div>"
      ],
      "text/plain": [
       "   combo_area                                      elements_used  \\\n",
       "0    0.008637  [POLYGON ((-67.69881540000002 255.7925763, -68...   \n",
       "1    0.073851  [POLYGON ((-67.69881540000002 255.7925763, -68...   \n",
       "2    0.008637  [POLYGON ((-67.69881540000002 255.7925763, -68...   \n",
       "3    0.008637  [POLYGON ((-67.69881540000002 255.7925763, -68...   \n",
       "4    0.008637  [POLYGON ((-67.69881540000002 255.7925763, -68...   \n",
       "\n",
       "                                         obsids_used  \n",
       "0  [ESP_012079_0945, ESP_011407_0945, ESP_011723_...  \n",
       "1  [ESP_012079_0945, ESP_011407_0945, ESP_011723_...  \n",
       "2  [ESP_012079_0945, ESP_011407_0945, ESP_011723_...  \n",
       "3  [ESP_012079_0945, ESP_011407_0945, ESP_011723_...  \n",
       "4  [ESP_012079_0945, ESP_011407_0945, ESP_011723_...  "
      ]
     },
     "execution_count": 26,
     "metadata": {},
     "output_type": "execute_result"
    }
   ],
   "source": [
    "obsdf.head()"
   ]
  },
  {
   "cell_type": "code",
   "execution_count": 27,
   "metadata": {},
   "outputs": [
    {
     "data": {
      "text/plain": [
       "16383"
      ]
     },
     "execution_count": 27,
     "metadata": {},
     "output_type": "execute_result"
    }
   ],
   "source": [
    "len(obsdf)"
   ]
  },
  {
   "cell_type": "code",
   "execution_count": 28,
   "metadata": {},
   "outputs": [],
   "source": [
    "bucket = []\n",
    "for i in range(len(obsdf.elements_used)): #change to range(len(obsdf.elements_used)) after we check\n",
    "    #print(len(obsdf.elements_used[i])) #check it's what we want.\n",
    "    obsdf.at[i, 'number_hirise'] = int(len(obsdf.elements_used[i]))\n",
    "    #even calling it int(len) still gives float on df, but whatever."
   ]
  },
  {
   "cell_type": "code",
   "execution_count": 29,
   "metadata": {},
   "outputs": [
    {
     "data": {
      "text/html": [
       "<div>\n",
       "<style scoped>\n",
       "    .dataframe tbody tr th:only-of-type {\n",
       "        vertical-align: middle;\n",
       "    }\n",
       "\n",
       "    .dataframe tbody tr th {\n",
       "        vertical-align: top;\n",
       "    }\n",
       "\n",
       "    .dataframe thead th {\n",
       "        text-align: right;\n",
       "    }\n",
       "</style>\n",
       "<table border=\"1\" class=\"dataframe\">\n",
       "  <thead>\n",
       "    <tr style=\"text-align: right;\">\n",
       "      <th></th>\n",
       "      <th>combo_area</th>\n",
       "      <th>elements_used</th>\n",
       "      <th>obsids_used</th>\n",
       "      <th>number_hirise</th>\n",
       "    </tr>\n",
       "  </thead>\n",
       "  <tbody>\n",
       "    <tr>\n",
       "      <th>0</th>\n",
       "      <td>0.008637</td>\n",
       "      <td>[POLYGON ((-67.69881540000002 255.7925763, -68...</td>\n",
       "      <td>[ESP_012079_0945, ESP_011407_0945, ESP_011723_...</td>\n",
       "      <td>14.0</td>\n",
       "    </tr>\n",
       "    <tr>\n",
       "      <th>1</th>\n",
       "      <td>0.073851</td>\n",
       "      <td>[POLYGON ((-67.69881540000002 255.7925763, -68...</td>\n",
       "      <td>[ESP_012079_0945, ESP_011407_0945, ESP_011723_...</td>\n",
       "      <td>13.0</td>\n",
       "    </tr>\n",
       "    <tr>\n",
       "      <th>2</th>\n",
       "      <td>0.008637</td>\n",
       "      <td>[POLYGON ((-67.69881540000002 255.7925763, -68...</td>\n",
       "      <td>[ESP_012079_0945, ESP_011407_0945, ESP_011723_...</td>\n",
       "      <td>13.0</td>\n",
       "    </tr>\n",
       "    <tr>\n",
       "      <th>3</th>\n",
       "      <td>0.008637</td>\n",
       "      <td>[POLYGON ((-67.69881540000002 255.7925763, -68...</td>\n",
       "      <td>[ESP_012079_0945, ESP_011407_0945, ESP_011723_...</td>\n",
       "      <td>13.0</td>\n",
       "    </tr>\n",
       "    <tr>\n",
       "      <th>4</th>\n",
       "      <td>0.008637</td>\n",
       "      <td>[POLYGON ((-67.69881540000002 255.7925763, -68...</td>\n",
       "      <td>[ESP_012079_0945, ESP_011407_0945, ESP_011723_...</td>\n",
       "      <td>13.0</td>\n",
       "    </tr>\n",
       "  </tbody>\n",
       "</table>\n",
       "</div>"
      ],
      "text/plain": [
       "   combo_area                                      elements_used  \\\n",
       "0    0.008637  [POLYGON ((-67.69881540000002 255.7925763, -68...   \n",
       "1    0.073851  [POLYGON ((-67.69881540000002 255.7925763, -68...   \n",
       "2    0.008637  [POLYGON ((-67.69881540000002 255.7925763, -68...   \n",
       "3    0.008637  [POLYGON ((-67.69881540000002 255.7925763, -68...   \n",
       "4    0.008637  [POLYGON ((-67.69881540000002 255.7925763, -68...   \n",
       "\n",
       "                                         obsids_used  number_hirise  \n",
       "0  [ESP_012079_0945, ESP_011407_0945, ESP_011723_...           14.0  \n",
       "1  [ESP_012079_0945, ESP_011407_0945, ESP_011723_...           13.0  \n",
       "2  [ESP_012079_0945, ESP_011407_0945, ESP_011723_...           13.0  \n",
       "3  [ESP_012079_0945, ESP_011407_0945, ESP_011723_...           13.0  \n",
       "4  [ESP_012079_0945, ESP_011407_0945, ESP_011723_...           13.0  "
      ]
     },
     "execution_count": 29,
     "metadata": {},
     "output_type": "execute_result"
    }
   ],
   "source": [
    "obsdf.head() #remember this still has duplicates atm"
   ]
  },
  {
   "cell_type": "code",
   "execution_count": 30,
   "metadata": {},
   "outputs": [
    {
     "data": {
      "text/plain": [
       "'ESP_012079_0945'"
      ]
     },
     "execution_count": 30,
     "metadata": {},
     "output_type": "execute_result"
    }
   ],
   "source": [
    "obsdf.obsids_used[0][0]"
   ]
  },
  {
   "cell_type": "code",
   "execution_count": 31,
   "metadata": {},
   "outputs": [
    {
     "data": {
      "text/plain": [
       "['ESP_012079_0945',\n",
       " 'ESP_011407_0945',\n",
       " 'ESP_011723_0945',\n",
       " 'ESP_011934_0945',\n",
       " 'ESP_012501_0945',\n",
       " 'ESP_012290_0945',\n",
       " 'ESP_011406_0945',\n",
       " 'ESP_021494_0945',\n",
       " 'ESP_020782_0945',\n",
       " 'ESP_020716_0945',\n",
       " 'ESP_020571_0945',\n",
       " 'ESP_020294_0945',\n",
       " 'ESP_020927_0945',\n",
       " 'ESP_020242_0945']"
      ]
     },
     "execution_count": 31,
     "metadata": {},
     "output_type": "execute_result"
    }
   ],
   "source": [
    "obsdf.obsids_used[0]"
   ]
  },
  {
   "cell_type": "code",
   "execution_count": 32,
   "metadata": {},
   "outputs": [],
   "source": [
    "bucket2 = []\n",
    "for obslist in obsdf.obsids_used:\n",
    "    bucket = []\n",
    "    for obs in obslist:\n",
    "        x = olddata.Ls[olddata['obsid'] == obs].values[0]\n",
    "        bucket.append(x)\n",
    "    bucket = tuple(bucket)\n",
    "    bucket2.append(bucket)\n",
    "obsdf['Ls_used'] = np.array(bucket2)\n",
    "obsdf['region_name'] = testregion"
   ]
  },
  {
   "cell_type": "code",
   "execution_count": 33,
   "metadata": {},
   "outputs": [
    {
     "data": {
      "text/html": [
       "<div>\n",
       "<style scoped>\n",
       "    .dataframe tbody tr th:only-of-type {\n",
       "        vertical-align: middle;\n",
       "    }\n",
       "\n",
       "    .dataframe tbody tr th {\n",
       "        vertical-align: top;\n",
       "    }\n",
       "\n",
       "    .dataframe thead th {\n",
       "        text-align: right;\n",
       "    }\n",
       "</style>\n",
       "<table border=\"1\" class=\"dataframe\">\n",
       "  <thead>\n",
       "    <tr style=\"text-align: right;\">\n",
       "      <th></th>\n",
       "      <th>combo_area</th>\n",
       "      <th>elements_used</th>\n",
       "      <th>obsids_used</th>\n",
       "      <th>number_hirise</th>\n",
       "      <th>Ls_used</th>\n",
       "      <th>region_name</th>\n",
       "    </tr>\n",
       "  </thead>\n",
       "  <tbody>\n",
       "    <tr>\n",
       "      <th>0</th>\n",
       "      <td>0.008637</td>\n",
       "      <td>[POLYGON ((-67.69881540000002 255.7925763, -68...</td>\n",
       "      <td>[ESP_012079_0945, ESP_011407_0945, ESP_011723_...</td>\n",
       "      <td>14.0</td>\n",
       "      <td>(214.785, 183.727, 198.04, 207.892, 235.282, 2...</td>\n",
       "      <td>Macclesfield</td>\n",
       "    </tr>\n",
       "    <tr>\n",
       "      <th>1</th>\n",
       "      <td>0.073851</td>\n",
       "      <td>[POLYGON ((-67.69881540000002 255.7925763, -68...</td>\n",
       "      <td>[ESP_012079_0945, ESP_011407_0945, ESP_011723_...</td>\n",
       "      <td>13.0</td>\n",
       "      <td>(214.785, 183.727, 198.04, 207.892, 235.282, 2...</td>\n",
       "      <td>Macclesfield</td>\n",
       "    </tr>\n",
       "    <tr>\n",
       "      <th>2</th>\n",
       "      <td>0.008637</td>\n",
       "      <td>[POLYGON ((-67.69881540000002 255.7925763, -68...</td>\n",
       "      <td>[ESP_012079_0945, ESP_011407_0945, ESP_011723_...</td>\n",
       "      <td>13.0</td>\n",
       "      <td>(214.785, 183.727, 198.04, 207.892, 235.282, 2...</td>\n",
       "      <td>Macclesfield</td>\n",
       "    </tr>\n",
       "    <tr>\n",
       "      <th>3</th>\n",
       "      <td>0.008637</td>\n",
       "      <td>[POLYGON ((-67.69881540000002 255.7925763, -68...</td>\n",
       "      <td>[ESP_012079_0945, ESP_011407_0945, ESP_011723_...</td>\n",
       "      <td>13.0</td>\n",
       "      <td>(214.785, 183.727, 198.04, 207.892, 235.282, 2...</td>\n",
       "      <td>Macclesfield</td>\n",
       "    </tr>\n",
       "    <tr>\n",
       "      <th>4</th>\n",
       "      <td>0.008637</td>\n",
       "      <td>[POLYGON ((-67.69881540000002 255.7925763, -68...</td>\n",
       "      <td>[ESP_012079_0945, ESP_011407_0945, ESP_011723_...</td>\n",
       "      <td>13.0</td>\n",
       "      <td>(214.785, 183.727, 198.04, 207.892, 235.282, 2...</td>\n",
       "      <td>Macclesfield</td>\n",
       "    </tr>\n",
       "  </tbody>\n",
       "</table>\n",
       "</div>"
      ],
      "text/plain": [
       "   combo_area                                      elements_used  \\\n",
       "0    0.008637  [POLYGON ((-67.69881540000002 255.7925763, -68...   \n",
       "1    0.073851  [POLYGON ((-67.69881540000002 255.7925763, -68...   \n",
       "2    0.008637  [POLYGON ((-67.69881540000002 255.7925763, -68...   \n",
       "3    0.008637  [POLYGON ((-67.69881540000002 255.7925763, -68...   \n",
       "4    0.008637  [POLYGON ((-67.69881540000002 255.7925763, -68...   \n",
       "\n",
       "                                         obsids_used  number_hirise  \\\n",
       "0  [ESP_012079_0945, ESP_011407_0945, ESP_011723_...           14.0   \n",
       "1  [ESP_012079_0945, ESP_011407_0945, ESP_011723_...           13.0   \n",
       "2  [ESP_012079_0945, ESP_011407_0945, ESP_011723_...           13.0   \n",
       "3  [ESP_012079_0945, ESP_011407_0945, ESP_011723_...           13.0   \n",
       "4  [ESP_012079_0945, ESP_011407_0945, ESP_011723_...           13.0   \n",
       "\n",
       "                                             Ls_used   region_name  \n",
       "0  (214.785, 183.727, 198.04, 207.892, 235.282, 2...  Macclesfield  \n",
       "1  (214.785, 183.727, 198.04, 207.892, 235.282, 2...  Macclesfield  \n",
       "2  (214.785, 183.727, 198.04, 207.892, 235.282, 2...  Macclesfield  \n",
       "3  (214.785, 183.727, 198.04, 207.892, 235.282, 2...  Macclesfield  \n",
       "4  (214.785, 183.727, 198.04, 207.892, 235.282, 2...  Macclesfield  "
      ]
     },
     "execution_count": 33,
     "metadata": {},
     "output_type": "execute_result"
    }
   ],
   "source": [
    "obsdf.head() #remember this still has duplicates"
   ]
  },
  {
   "cell_type": "code",
   "execution_count": 34,
   "metadata": {},
   "outputs": [],
   "source": [
    "obsdf.to_csv('Macclesfield_duplicate_combodf.csv', index=False)"
   ]
  },
  {
   "cell_type": "code",
   "execution_count": 35,
   "metadata": {},
   "outputs": [
    {
     "data": {
      "text/html": [
       "<div>\n",
       "<style scoped>\n",
       "    .dataframe tbody tr th:only-of-type {\n",
       "        vertical-align: middle;\n",
       "    }\n",
       "\n",
       "    .dataframe tbody tr th {\n",
       "        vertical-align: top;\n",
       "    }\n",
       "\n",
       "    .dataframe thead th {\n",
       "        text-align: right;\n",
       "    }\n",
       "</style>\n",
       "<table border=\"1\" class=\"dataframe\">\n",
       "  <thead>\n",
       "    <tr style=\"text-align: right;\">\n",
       "      <th></th>\n",
       "      <th>combo_area</th>\n",
       "      <th>elements_used</th>\n",
       "      <th>obsids_used</th>\n",
       "      <th>number_hirise</th>\n",
       "      <th>Ls_used</th>\n",
       "      <th>region_name</th>\n",
       "    </tr>\n",
       "  </thead>\n",
       "  <tbody>\n",
       "    <tr>\n",
       "      <th>16371</th>\n",
       "      <td>14.759485</td>\n",
       "      <td>[POLYGON ((-72.54717990000002 244.8776493, -72...</td>\n",
       "      <td>[ESP_011723_0945]</td>\n",
       "      <td>1.0</td>\n",
       "      <td>(198.04,)</td>\n",
       "      <td>Macclesfield</td>\n",
       "    </tr>\n",
       "  </tbody>\n",
       "</table>\n",
       "</div>"
      ],
      "text/plain": [
       "       combo_area                                      elements_used  \\\n",
       "16371   14.759485  [POLYGON ((-72.54717990000002 244.8776493, -72...   \n",
       "\n",
       "             obsids_used  number_hirise    Ls_used   region_name  \n",
       "16371  [ESP_011723_0945]            1.0  (198.04,)  Macclesfield  "
      ]
     },
     "execution_count": 35,
     "metadata": {},
     "output_type": "execute_result"
    }
   ],
   "source": [
    "obsdf[obsdf['combo_area'] == obsdf.combo_area.max()]"
   ]
  },
  {
   "cell_type": "code",
   "execution_count": 36,
   "metadata": {},
   "outputs": [],
   "source": [
    "#olddata = pd.read_csv(\"n_obj_df.csv\")\n",
    "combodf = pd.read_csv(\"Macclesfield_duplicate_test_combodf.csv\")"
   ]
  },
  {
   "cell_type": "code",
   "execution_count": 37,
   "metadata": {},
   "outputs": [
    {
     "data": {
      "text/html": [
       "<div>\n",
       "<style scoped>\n",
       "    .dataframe tbody tr th:only-of-type {\n",
       "        vertical-align: middle;\n",
       "    }\n",
       "\n",
       "    .dataframe tbody tr th {\n",
       "        vertical-align: top;\n",
       "    }\n",
       "\n",
       "    .dataframe thead th {\n",
       "        text-align: right;\n",
       "    }\n",
       "</style>\n",
       "<table border=\"1\" class=\"dataframe\">\n",
       "  <thead>\n",
       "    <tr style=\"text-align: right;\">\n",
       "      <th></th>\n",
       "      <th>combo_area</th>\n",
       "      <th>elements_used</th>\n",
       "      <th>obsids_used</th>\n",
       "      <th>number_hirise</th>\n",
       "      <th>Ls_used</th>\n",
       "      <th>region_name</th>\n",
       "    </tr>\n",
       "  </thead>\n",
       "  <tbody>\n",
       "    <tr>\n",
       "      <th>0</th>\n",
       "      <td>0.008637</td>\n",
       "      <td>[&lt;shapely.geometry.polygon.Polygon object at 0...</td>\n",
       "      <td>('ESP_012079_0945', 'ESP_011407_0945', 'ESP_01...</td>\n",
       "      <td>14.0</td>\n",
       "      <td>(214.785, 183.727, 198.04, 207.892, 235.282, 2...</td>\n",
       "      <td>Macclesfield</td>\n",
       "    </tr>\n",
       "    <tr>\n",
       "      <th>1</th>\n",
       "      <td>0.073851</td>\n",
       "      <td>[&lt;shapely.geometry.polygon.Polygon object at 0...</td>\n",
       "      <td>('ESP_012079_0945', 'ESP_011407_0945', 'ESP_01...</td>\n",
       "      <td>13.0</td>\n",
       "      <td>(214.785, 183.727, 198.04, 207.892, 235.282, 2...</td>\n",
       "      <td>Macclesfield</td>\n",
       "    </tr>\n",
       "  </tbody>\n",
       "</table>\n",
       "</div>"
      ],
      "text/plain": [
       "   combo_area                                      elements_used  \\\n",
       "0    0.008637  [<shapely.geometry.polygon.Polygon object at 0...   \n",
       "1    0.073851  [<shapely.geometry.polygon.Polygon object at 0...   \n",
       "\n",
       "                                         obsids_used  number_hirise  \\\n",
       "0  ('ESP_012079_0945', 'ESP_011407_0945', 'ESP_01...           14.0   \n",
       "1  ('ESP_012079_0945', 'ESP_011407_0945', 'ESP_01...           13.0   \n",
       "\n",
       "                                             Ls_used   region_name  \n",
       "0  (214.785, 183.727, 198.04, 207.892, 235.282, 2...  Macclesfield  \n",
       "1  (214.785, 183.727, 198.04, 207.892, 235.282, 2...  Macclesfield  "
      ]
     },
     "execution_count": 37,
     "metadata": {},
     "output_type": "execute_result"
    }
   ],
   "source": [
    "combodf.head(2)"
   ]
  },
  {
   "cell_type": "code",
   "execution_count": 38,
   "metadata": {},
   "outputs": [
    {
     "data": {
      "text/html": [
       "<div>\n",
       "<style scoped>\n",
       "    .dataframe tbody tr th:only-of-type {\n",
       "        vertical-align: middle;\n",
       "    }\n",
       "\n",
       "    .dataframe tbody tr th {\n",
       "        vertical-align: top;\n",
       "    }\n",
       "\n",
       "    .dataframe thead th {\n",
       "        text-align: right;\n",
       "    }\n",
       "</style>\n",
       "<table border=\"1\" class=\"dataframe\">\n",
       "  <thead>\n",
       "    <tr style=\"text-align: right;\">\n",
       "      <th></th>\n",
       "      <th>combo_area</th>\n",
       "      <th>elements_used</th>\n",
       "      <th>obsids_used</th>\n",
       "      <th>number_hirise</th>\n",
       "      <th>Ls_used</th>\n",
       "      <th>region_name</th>\n",
       "    </tr>\n",
       "  </thead>\n",
       "  <tbody>\n",
       "    <tr>\n",
       "      <th>0</th>\n",
       "      <td>0.008637</td>\n",
       "      <td>[POLYGON ((-67.69881540000002 255.7925763, -68...</td>\n",
       "      <td>[ESP_012079_0945, ESP_011407_0945, ESP_011723_...</td>\n",
       "      <td>14.0</td>\n",
       "      <td>(214.785, 183.727, 198.04, 207.892, 235.282, 2...</td>\n",
       "      <td>Macclesfield</td>\n",
       "    </tr>\n",
       "    <tr>\n",
       "      <th>1</th>\n",
       "      <td>0.073851</td>\n",
       "      <td>[POLYGON ((-67.69881540000002 255.7925763, -68...</td>\n",
       "      <td>[ESP_012079_0945, ESP_011407_0945, ESP_011723_...</td>\n",
       "      <td>13.0</td>\n",
       "      <td>(214.785, 183.727, 198.04, 207.892, 235.282, 2...</td>\n",
       "      <td>Macclesfield</td>\n",
       "    </tr>\n",
       "  </tbody>\n",
       "</table>\n",
       "</div>"
      ],
      "text/plain": [
       "   combo_area                                      elements_used  \\\n",
       "0    0.008637  [POLYGON ((-67.69881540000002 255.7925763, -68...   \n",
       "1    0.073851  [POLYGON ((-67.69881540000002 255.7925763, -68...   \n",
       "\n",
       "                                         obsids_used  number_hirise  \\\n",
       "0  [ESP_012079_0945, ESP_011407_0945, ESP_011723_...           14.0   \n",
       "1  [ESP_012079_0945, ESP_011407_0945, ESP_011723_...           13.0   \n",
       "\n",
       "                                             Ls_used   region_name  \n",
       "0  (214.785, 183.727, 198.04, 207.892, 235.282, 2...  Macclesfield  \n",
       "1  (214.785, 183.727, 198.04, 207.892, 235.282, 2...  Macclesfield  "
      ]
     },
     "execution_count": 38,
     "metadata": {},
     "output_type": "execute_result"
    }
   ],
   "source": [
    "obsdf.head(2)"
   ]
  },
  {
   "cell_type": "code",
   "execution_count": 39,
   "metadata": {},
   "outputs": [
    {
     "data": {
      "text/plain": [
       "str"
      ]
     },
     "execution_count": 39,
     "metadata": {},
     "output_type": "execute_result"
    }
   ],
   "source": [
    "type(combodf.obsids_used[0]) #combodf is obsdf, read in from csv"
   ]
  },
  {
   "cell_type": "code",
   "execution_count": 50,
   "metadata": {},
   "outputs": [
    {
     "data": {
      "text/plain": [
       "list"
      ]
     },
     "execution_count": 50,
     "metadata": {},
     "output_type": "execute_result"
    }
   ],
   "source": [
    "type(obsdf.obsids_used[0])"
   ]
  },
  {
   "cell_type": "code",
   "execution_count": 49,
   "metadata": {},
   "outputs": [
    {
     "data": {
      "text/plain": [
       "str"
      ]
     },
     "execution_count": 49,
     "metadata": {},
     "output_type": "execute_result"
    }
   ],
   "source": [
    "type(combodf.elements_used[0]) ##combodf is obsdf, read in from csv"
   ]
  },
  {
   "cell_type": "code",
   "execution_count": 48,
   "metadata": {
    "scrolled": true
   },
   "outputs": [
    {
     "data": {
      "text/plain": [
       "numpy.ndarray"
      ]
     },
     "execution_count": 48,
     "metadata": {},
     "output_type": "execute_result"
    }
   ],
   "source": [
    "type(obsdf.elements_used[0])"
   ]
  },
  {
   "cell_type": "code",
   "execution_count": 52,
   "metadata": {},
   "outputs": [],
   "source": [
    "#np.fromstring(combodf.obsids_used[0], sep = ', ')"
   ]
  },
  {
   "cell_type": "code",
   "execution_count": 51,
   "metadata": {},
   "outputs": [],
   "source": [
    "#np.fromstring('1 2', sep = ' ')"
   ]
  },
  {
   "cell_type": "code",
   "execution_count": null,
   "metadata": {},
   "outputs": [],
   "source": []
  }
 ],
 "metadata": {
  "kernelspec": {
   "display_name": "Python 3",
   "language": "python",
   "name": "python3"
  },
  "language_info": {
   "codemirror_mode": {
    "name": "ipython",
    "version": 3
   },
   "file_extension": ".py",
   "mimetype": "text/x-python",
   "name": "python",
   "nbconvert_exporter": "python",
   "pygments_lexer": "ipython3",
   "version": "3.7.1"
  }
 },
 "nbformat": 4,
 "nbformat_minor": 2
}
