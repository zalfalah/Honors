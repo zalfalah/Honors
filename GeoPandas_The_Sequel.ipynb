{
 "cells": [
  {
   "cell_type": "code",
   "execution_count": 1,
   "metadata": {},
   "outputs": [],
   "source": [
    "%load_ext lab_black"
   ]
  },
  {
   "cell_type": "code",
   "execution_count": 3,
   "metadata": {},
   "outputs": [],
   "source": [
    "import geopandas"
   ]
  },
  {
   "cell_type": "code",
   "execution_count": 78,
   "metadata": {},
   "outputs": [],
   "source": [
    "from shapely.geometry import Polygon\n",
    "\n",
    "polys1 = geopandas.GeoSeries(\n",
    "    [\n",
    "        Polygon([(0, 0), (2, 0), (2, 2), (0, 2)]),\n",
    "        Polygon([(2, 2), (4, 2), (4, 4), (2, 4)]),\n",
    "    ]\n",
    ")\n",
    "\n",
    "polys2 = geopandas.GeoSeries(\n",
    "    [\n",
    "        Polygon([(1, 1), (3, 1), (3, 3), (1, 3)]),\n",
    "        Polygon([(3, 3), (5, 3), (5, 5), (3, 5)]),\n",
    "    ]\n",
    ")\n",
    "\n",
    "polys1_with_shifted = geopandas.GeoSeries(\n",
    "    [\n",
    "        Polygon([(0, 0), (2, 0), (2, 2), (0, 2)]),\n",
    "        Polygon([(2, 2), (4, 2), (4, 4), (2, 4)]),\n",
    "        Polygon([(1, 0), (3, 0), (3, 2), (1, 2)]),\n",
    "        Polygon([(3, 2), (5, 2), (5, 4), (3, 4)]),\n",
    "    ]\n",
    ")\n",
    "\n",
    "df1 = geopandas.GeoDataFrame({\"geometry\": polys1, \"df1\": [\"red_low\", \"red_high\"]})\n",
    "\n",
    "df2 = geopandas.GeoDataFrame({\"geometry\": polys2, \"df2\": [\"green_low\", \"green_high\"]})\n",
    "\n",
    "df1_with_shifted = geopandas.GeoDataFrame(\n",
    "    {\n",
    "        \"geometry\": polys1_with_shifted,\n",
    "        \"df1_with_shifted\": range(len(polys1_with_shifted)),\n",
    "    }\n",
    ")"
   ]
  },
  {
   "cell_type": "code",
   "execution_count": 62,
   "metadata": {},
   "outputs": [
    {
     "data": {
      "text/html": [
       "<div>\n",
       "<style scoped>\n",
       "    .dataframe tbody tr th:only-of-type {\n",
       "        vertical-align: middle;\n",
       "    }\n",
       "\n",
       "    .dataframe tbody tr th {\n",
       "        vertical-align: top;\n",
       "    }\n",
       "\n",
       "    .dataframe thead th {\n",
       "        text-align: right;\n",
       "    }\n",
       "</style>\n",
       "<table border=\"1\" class=\"dataframe\">\n",
       "  <thead>\n",
       "    <tr style=\"text-align: right;\">\n",
       "      <th></th>\n",
       "      <th>geometry</th>\n",
       "      <th>df1</th>\n",
       "    </tr>\n",
       "  </thead>\n",
       "  <tbody>\n",
       "    <tr>\n",
       "      <th>0</th>\n",
       "      <td>POLYGON ((0 0, 2 0, 2 2, 0 2, 0 0))</td>\n",
       "      <td>red_low</td>\n",
       "    </tr>\n",
       "    <tr>\n",
       "      <th>1</th>\n",
       "      <td>POLYGON ((2 2, 4 2, 4 4, 2 4, 2 2))</td>\n",
       "      <td>red_high</td>\n",
       "    </tr>\n",
       "  </tbody>\n",
       "</table>\n",
       "</div>"
      ],
      "text/plain": [
       "                              geometry       df1\n",
       "0  POLYGON ((0 0, 2 0, 2 2, 0 2, 0 0))   red_low\n",
       "1  POLYGON ((2 2, 4 2, 4 4, 2 4, 2 2))  red_high"
      ]
     },
     "execution_count": 62,
     "metadata": {},
     "output_type": "execute_result"
    }
   ],
   "source": [
    "df1"
   ]
  },
  {
   "cell_type": "code",
   "execution_count": 63,
   "metadata": {},
   "outputs": [
    {
     "data": {
      "text/html": [
       "<div>\n",
       "<style scoped>\n",
       "    .dataframe tbody tr th:only-of-type {\n",
       "        vertical-align: middle;\n",
       "    }\n",
       "\n",
       "    .dataframe tbody tr th {\n",
       "        vertical-align: top;\n",
       "    }\n",
       "\n",
       "    .dataframe thead th {\n",
       "        text-align: right;\n",
       "    }\n",
       "</style>\n",
       "<table border=\"1\" class=\"dataframe\">\n",
       "  <thead>\n",
       "    <tr style=\"text-align: right;\">\n",
       "      <th></th>\n",
       "      <th>geometry</th>\n",
       "      <th>df2</th>\n",
       "    </tr>\n",
       "  </thead>\n",
       "  <tbody>\n",
       "    <tr>\n",
       "      <th>0</th>\n",
       "      <td>POLYGON ((1 1, 3 1, 3 3, 1 3, 1 1))</td>\n",
       "      <td>green_low</td>\n",
       "    </tr>\n",
       "    <tr>\n",
       "      <th>1</th>\n",
       "      <td>POLYGON ((3 3, 5 3, 5 5, 3 5, 3 3))</td>\n",
       "      <td>green_high</td>\n",
       "    </tr>\n",
       "  </tbody>\n",
       "</table>\n",
       "</div>"
      ],
      "text/plain": [
       "                              geometry         df2\n",
       "0  POLYGON ((1 1, 3 1, 3 3, 1 3, 1 1))   green_low\n",
       "1  POLYGON ((3 3, 5 3, 5 5, 3 5, 3 3))  green_high"
      ]
     },
     "execution_count": 63,
     "metadata": {},
     "output_type": "execute_result"
    }
   ],
   "source": [
    "df2"
   ]
  },
  {
   "cell_type": "code",
   "execution_count": 64,
   "metadata": {},
   "outputs": [
    {
     "data": {
      "text/plain": [
       "<matplotlib.axes._subplots.AxesSubplot at 0x11f793630>"
      ]
     },
     "execution_count": 64,
     "metadata": {},
     "output_type": "execute_result"
    },
    {
     "data": {
      "image/png": "[encoded data removed]",
      "text/plain": [
       "<Figure size 432x288 with 1 Axes>"
      ]
     },
     "metadata": {
      "needs_background": "light"
     },
     "output_type": "display_data"
    }
   ],
   "source": [
    "ax = df1.plot(color=\"red\")\n",
    "df2.plot(ax=ax, color=\"green\", alpha=0.5)"
   ]
  },
  {
   "cell_type": "code",
   "execution_count": 46,
   "metadata": {},
   "outputs": [],
   "source": [
    "res_union = geopandas.overlay(df1, df2, how=\"union\")"
   ]
  },
  {
   "cell_type": "code",
   "execution_count": 50,
   "metadata": {},
   "outputs": [
    {
     "data": {
      "text/html": [
       "<div>\n",
       "<style scoped>\n",
       "    .dataframe tbody tr th:only-of-type {\n",
       "        vertical-align: middle;\n",
       "    }\n",
       "\n",
       "    .dataframe tbody tr th {\n",
       "        vertical-align: top;\n",
       "    }\n",
       "\n",
       "    .dataframe thead th {\n",
       "        text-align: right;\n",
       "    }\n",
       "</style>\n",
       "<table border=\"1\" class=\"dataframe\">\n",
       "  <thead>\n",
       "    <tr style=\"text-align: right;\">\n",
       "      <th></th>\n",
       "      <th>df1</th>\n",
       "      <th>df2</th>\n",
       "      <th>geometry</th>\n",
       "    </tr>\n",
       "  </thead>\n",
       "  <tbody>\n",
       "    <tr>\n",
       "      <th>0</th>\n",
       "      <td>red</td>\n",
       "      <td>green_low</td>\n",
       "      <td>POLYGON ((2 2, 2 3, 3 3, 3 2, 2 2))</td>\n",
       "    </tr>\n",
       "    <tr>\n",
       "      <th>1</th>\n",
       "      <td>red</td>\n",
       "      <td>green_high</td>\n",
       "      <td>POLYGON ((3 4, 4 4, 4 3, 3 3, 3 4))</td>\n",
       "    </tr>\n",
       "    <tr>\n",
       "      <th>2</th>\n",
       "      <td>red</td>\n",
       "      <td>NaN</td>\n",
       "      <td>(POLYGON ((2 3, 2 4, 3 4, 3 3, 2 3)), POLYGON ...</td>\n",
       "    </tr>\n",
       "    <tr>\n",
       "      <th>3</th>\n",
       "      <td>NaN</td>\n",
       "      <td>green_low</td>\n",
       "      <td>POLYGON ((1 1, 1 3, 2 3, 2 2, 3 2, 3 1, 1 1))</td>\n",
       "    </tr>\n",
       "    <tr>\n",
       "      <th>4</th>\n",
       "      <td>NaN</td>\n",
       "      <td>green_high</td>\n",
       "      <td>POLYGON ((3 4, 3 5, 5 5, 5 3, 4 3, 4 4, 3 4))</td>\n",
       "    </tr>\n",
       "  </tbody>\n",
       "</table>\n",
       "</div>"
      ],
      "text/plain": [
       "   df1         df2                                           geometry\n",
       "0  red   green_low                POLYGON ((2 2, 2 3, 3 3, 3 2, 2 2))\n",
       "1  red  green_high                POLYGON ((3 4, 4 4, 4 3, 3 3, 3 4))\n",
       "2  red         NaN  (POLYGON ((2 3, 2 4, 3 4, 3 3, 2 3)), POLYGON ...\n",
       "3  NaN   green_low      POLYGON ((1 1, 1 3, 2 3, 2 2, 3 2, 3 1, 1 1))\n",
       "4  NaN  green_high      POLYGON ((3 4, 3 5, 5 5, 5 3, 4 3, 4 4, 3 4))"
      ]
     },
     "execution_count": 50,
     "metadata": {},
     "output_type": "execute_result"
    }
   ],
   "source": [
    "res_union"
   ]
  },
  {
   "cell_type": "code",
   "execution_count": 57,
   "metadata": {},
   "outputs": [
    {
     "data": {
      "image/svg+xml": [
       "<svg xmlns=\"http://www.w3.org/2000/svg\" xmlns:xlink=\"http://www.w3.org/1999/xlink\" width=\"100.0\" height=\"100.0\" viewBox=\"1.96 1.96 1.08 1.08\" preserveAspectRatio=\"xMinYMin meet\"><g transform=\"matrix(1,0,0,-1,0,5.0)\"><path fill-rule=\"evenodd\" fill=\"#66cc99\" stroke=\"#555555\" stroke-width=\"0.0216\" opacity=\"0.6\" d=\"M 2.0,2.0 L 2.0,3.0 L 3.0,3.0 L 3.0,2.0 L 2.0,2.0 z\" /></g></svg>"
      ],
      "text/plain": [
       "<shapely.geometry.polygon.Polygon at 0x11f3a6ef0>"
      ]
     },
     "execution_count": 57,
     "metadata": {},
     "output_type": "execute_result"
    },
    {
     "data": {
      "image/svg+xml": [
       "<svg xmlns=\"http://www.w3.org/2000/svg\" xmlns:xlink=\"http://www.w3.org/1999/xlink\" width=\"100.0\" height=\"100.0\" viewBox=\"2.96 2.96 1.08 1.08\" preserveAspectRatio=\"xMinYMin meet\"><g transform=\"matrix(1,0,0,-1,0,7.0)\"><path fill-rule=\"evenodd\" fill=\"#66cc99\" stroke=\"#555555\" stroke-width=\"0.0216\" opacity=\"0.6\" d=\"M 3.0,4.0 L 4.0,4.0 L 4.0,3.0 L 3.0,3.0 L 3.0,4.0 z\" /></g></svg>"
      ],
      "text/plain": [
       "<shapely.geometry.polygon.Polygon at 0x11f3a6ba8>"
      ]
     },
     "execution_count": 57,
     "metadata": {},
     "output_type": "execute_result"
    },
    {
     "data": {
      "image/svg+xml": [
       "<svg xmlns=\"http://www.w3.org/2000/svg\" xmlns:xlink=\"http://www.w3.org/1999/xlink\" width=\"100.0\" height=\"100.0\" viewBox=\"1.92 1.92 2.16 2.16\" preserveAspectRatio=\"xMinYMin meet\"><g transform=\"matrix(1,0,0,-1,0,6.0)\"><g><path fill-rule=\"evenodd\" fill=\"#66cc99\" stroke=\"#555555\" stroke-width=\"0.0432\" opacity=\"0.6\" d=\"M 2.0,3.0 L 2.0,4.0 L 3.0,4.0 L 3.0,3.0 L 2.0,3.0 z\" /><path fill-rule=\"evenodd\" fill=\"#66cc99\" stroke=\"#555555\" stroke-width=\"0.0432\" opacity=\"0.6\" d=\"M 3.0,3.0 L 4.0,3.0 L 4.0,2.0 L 3.0,2.0 L 3.0,3.0 z\" /></g></g></svg>"
      ],
      "text/plain": [
       "<shapely.geometry.multipolygon.MultiPolygon at 0x11f3a62b0>"
      ]
     },
     "execution_count": 57,
     "metadata": {},
     "output_type": "execute_result"
    },
    {
     "data": {
      "image/svg+xml": [
       "<svg xmlns=\"http://www.w3.org/2000/svg\" xmlns:xlink=\"http://www.w3.org/1999/xlink\" width=\"100.0\" height=\"100.0\" viewBox=\"0.92 0.92 2.16 2.16\" preserveAspectRatio=\"xMinYMin meet\"><g transform=\"matrix(1,0,0,-1,0,4.0)\"><path fill-rule=\"evenodd\" fill=\"#66cc99\" stroke=\"#555555\" stroke-width=\"0.0432\" opacity=\"0.6\" d=\"M 1.0,1.0 L 1.0,3.0 L 2.0,3.0 L 2.0,2.0 L 3.0,2.0 L 3.0,1.0 L 1.0,1.0 z\" /></g></svg>"
      ],
      "text/plain": [
       "<shapely.geometry.polygon.Polygon at 0x11ed49d68>"
      ]
     },
     "execution_count": 57,
     "metadata": {},
     "output_type": "execute_result"
    },
    {
     "data": {
      "image/svg+xml": [
       "<svg xmlns=\"http://www.w3.org/2000/svg\" xmlns:xlink=\"http://www.w3.org/1999/xlink\" width=\"100.0\" height=\"100.0\" viewBox=\"2.92 2.92 2.16 2.16\" preserveAspectRatio=\"xMinYMin meet\"><g transform=\"matrix(1,0,0,-1,0,8.0)\"><path fill-rule=\"evenodd\" fill=\"#66cc99\" stroke=\"#555555\" stroke-width=\"0.0432\" opacity=\"0.6\" d=\"M 3.0,4.0 L 3.0,5.0 L 5.0,5.0 L 5.0,3.0 L 4.0,3.0 L 4.0,4.0 L 3.0,4.0 z\" /></g></svg>"
      ],
      "text/plain": [
       "<shapely.geometry.polygon.Polygon at 0x11ed49c18>"
      ]
     },
     "execution_count": 57,
     "metadata": {},
     "output_type": "execute_result"
    }
   ],
   "source": [
    "for geo in res_union.geometry:\n",
    "    geo"
   ]
  },
  {
   "cell_type": "code",
   "execution_count": 65,
   "metadata": {},
   "outputs": [],
   "source": [
    "res_inter = geopandas.overlay(df1, df2, how=\"intersection\")"
   ]
  },
  {
   "cell_type": "code",
   "execution_count": 66,
   "metadata": {},
   "outputs": [
    {
     "data": {
      "text/html": [
       "<div>\n",
       "<style scoped>\n",
       "    .dataframe tbody tr th:only-of-type {\n",
       "        vertical-align: middle;\n",
       "    }\n",
       "\n",
       "    .dataframe tbody tr th {\n",
       "        vertical-align: top;\n",
       "    }\n",
       "\n",
       "    .dataframe thead th {\n",
       "        text-align: right;\n",
       "    }\n",
       "</style>\n",
       "<table border=\"1\" class=\"dataframe\">\n",
       "  <thead>\n",
       "    <tr style=\"text-align: right;\">\n",
       "      <th></th>\n",
       "      <th>df1</th>\n",
       "      <th>df2</th>\n",
       "      <th>geometry</th>\n",
       "    </tr>\n",
       "  </thead>\n",
       "  <tbody>\n",
       "    <tr>\n",
       "      <th>0</th>\n",
       "      <td>red_low</td>\n",
       "      <td>green_low</td>\n",
       "      <td>POLYGON ((1 2, 2 2, 2 1, 1 1, 1 2))</td>\n",
       "    </tr>\n",
       "    <tr>\n",
       "      <th>1</th>\n",
       "      <td>red_high</td>\n",
       "      <td>green_low</td>\n",
       "      <td>POLYGON ((2 2, 2 3, 3 3, 3 2, 2 2))</td>\n",
       "    </tr>\n",
       "    <tr>\n",
       "      <th>2</th>\n",
       "      <td>red_high</td>\n",
       "      <td>green_high</td>\n",
       "      <td>POLYGON ((3 4, 4 4, 4 3, 3 3, 3 4))</td>\n",
       "    </tr>\n",
       "  </tbody>\n",
       "</table>\n",
       "</div>"
      ],
      "text/plain": [
       "        df1         df2                             geometry\n",
       "0   red_low   green_low  POLYGON ((1 2, 2 2, 2 1, 1 1, 1 2))\n",
       "1  red_high   green_low  POLYGON ((2 2, 2 3, 3 3, 3 2, 2 2))\n",
       "2  red_high  green_high  POLYGON ((3 4, 4 4, 4 3, 3 3, 3 4))"
      ]
     },
     "execution_count": 66,
     "metadata": {},
     "output_type": "execute_result"
    }
   ],
   "source": [
    "res_inter"
   ]
  },
  {
   "cell_type": "code",
   "execution_count": 67,
   "metadata": {},
   "outputs": [
    {
     "data": {
      "image/svg+xml": [
       "<svg xmlns=\"http://www.w3.org/2000/svg\" xmlns:xlink=\"http://www.w3.org/1999/xlink\" width=\"100.0\" height=\"100.0\" viewBox=\"0.96 0.96 1.08 1.08\" preserveAspectRatio=\"xMinYMin meet\"><g transform=\"matrix(1,0,0,-1,0,3.0)\"><path fill-rule=\"evenodd\" fill=\"#66cc99\" stroke=\"#555555\" stroke-width=\"0.0216\" opacity=\"0.6\" d=\"M 1.0,2.0 L 2.0,2.0 L 2.0,1.0 L 1.0,1.0 L 1.0,2.0 z\" /></g></svg>"
      ],
      "text/plain": [
       "<shapely.geometry.polygon.Polygon at 0x11f7d9c88>"
      ]
     },
     "execution_count": 67,
     "metadata": {},
     "output_type": "execute_result"
    },
    {
     "data": {
      "image/svg+xml": [
       "<svg xmlns=\"http://www.w3.org/2000/svg\" xmlns:xlink=\"http://www.w3.org/1999/xlink\" width=\"100.0\" height=\"100.0\" viewBox=\"1.96 1.96 1.08 1.08\" preserveAspectRatio=\"xMinYMin meet\"><g transform=\"matrix(1,0,0,-1,0,5.0)\"><path fill-rule=\"evenodd\" fill=\"#66cc99\" stroke=\"#555555\" stroke-width=\"0.0216\" opacity=\"0.6\" d=\"M 2.0,2.0 L 2.0,3.0 L 3.0,3.0 L 3.0,2.0 L 2.0,2.0 z\" /></g></svg>"
      ],
      "text/plain": [
       "<shapely.geometry.polygon.Polygon at 0x11f7d98d0>"
      ]
     },
     "execution_count": 67,
     "metadata": {},
     "output_type": "execute_result"
    },
    {
     "data": {
      "image/svg+xml": [
       "<svg xmlns=\"http://www.w3.org/2000/svg\" xmlns:xlink=\"http://www.w3.org/1999/xlink\" width=\"100.0\" height=\"100.0\" viewBox=\"2.96 2.96 1.08 1.08\" preserveAspectRatio=\"xMinYMin meet\"><g transform=\"matrix(1,0,0,-1,0,7.0)\"><path fill-rule=\"evenodd\" fill=\"#66cc99\" stroke=\"#555555\" stroke-width=\"0.0216\" opacity=\"0.6\" d=\"M 3.0,4.0 L 4.0,4.0 L 4.0,3.0 L 3.0,3.0 L 3.0,4.0 z\" /></g></svg>"
      ],
      "text/plain": [
       "<shapely.geometry.polygon.Polygon at 0x11f7d9eb8>"
      ]
     },
     "execution_count": 67,
     "metadata": {},
     "output_type": "execute_result"
    }
   ],
   "source": [
    "for geo in res_inter.geometry:\n",
    "    geo"
   ]
  },
  {
   "cell_type": "code",
   "execution_count": 73,
   "metadata": {},
   "outputs": [
    {
     "data": {
      "text/html": [
       "<div>\n",
       "<style scoped>\n",
       "    .dataframe tbody tr th:only-of-type {\n",
       "        vertical-align: middle;\n",
       "    }\n",
       "\n",
       "    .dataframe tbody tr th {\n",
       "        vertical-align: top;\n",
       "    }\n",
       "\n",
       "    .dataframe thead th {\n",
       "        text-align: right;\n",
       "    }\n",
       "</style>\n",
       "<table border=\"1\" class=\"dataframe\">\n",
       "  <thead>\n",
       "    <tr style=\"text-align: right;\">\n",
       "      <th></th>\n",
       "      <th>geometry</th>\n",
       "      <th>df1_shifted</th>\n",
       "    </tr>\n",
       "  </thead>\n",
       "  <tbody>\n",
       "    <tr>\n",
       "      <th>0</th>\n",
       "      <td>POLYGON ((1 0, 3 0, 3 2, 1 2, 1 0))</td>\n",
       "      <td>red_low_shifted</td>\n",
       "    </tr>\n",
       "    <tr>\n",
       "      <th>1</th>\n",
       "      <td>POLYGON ((3 2, 5 2, 5 4, 3 4, 3 2))</td>\n",
       "      <td>red_high_shifted</td>\n",
       "    </tr>\n",
       "  </tbody>\n",
       "</table>\n",
       "</div>"
      ],
      "text/plain": [
       "                              geometry       df1_shifted\n",
       "0  POLYGON ((1 0, 3 0, 3 2, 1 2, 1 0))   red_low_shifted\n",
       "1  POLYGON ((3 2, 5 2, 5 4, 3 4, 3 2))  red_high_shifted"
      ]
     },
     "execution_count": 73,
     "metadata": {},
     "output_type": "execute_result"
    }
   ],
   "source": [
    "df1_shifted"
   ]
  },
  {
   "cell_type": "code",
   "execution_count": 74,
   "metadata": {},
   "outputs": [],
   "source": [
    "res_inter = geopandas.overlay(df1, df1_shifted, how=\"intersection\")"
   ]
  },
  {
   "cell_type": "code",
   "execution_count": 75,
   "metadata": {},
   "outputs": [
    {
     "data": {
      "text/html": [
       "<div>\n",
       "<style scoped>\n",
       "    .dataframe tbody tr th:only-of-type {\n",
       "        vertical-align: middle;\n",
       "    }\n",
       "\n",
       "    .dataframe tbody tr th {\n",
       "        vertical-align: top;\n",
       "    }\n",
       "\n",
       "    .dataframe thead th {\n",
       "        text-align: right;\n",
       "    }\n",
       "</style>\n",
       "<table border=\"1\" class=\"dataframe\">\n",
       "  <thead>\n",
       "    <tr style=\"text-align: right;\">\n",
       "      <th></th>\n",
       "      <th>df1</th>\n",
       "      <th>df1_shifted</th>\n",
       "      <th>geometry</th>\n",
       "    </tr>\n",
       "  </thead>\n",
       "  <tbody>\n",
       "    <tr>\n",
       "      <th>0</th>\n",
       "      <td>red_low</td>\n",
       "      <td>red_low_shifted</td>\n",
       "      <td>POLYGON ((1 2, 2 2, 2 0, 1 0, 1 2))</td>\n",
       "    </tr>\n",
       "    <tr>\n",
       "      <th>1</th>\n",
       "      <td>red_high</td>\n",
       "      <td>red_high_shifted</td>\n",
       "      <td>POLYGON ((3 4, 4 4, 4 2, 3 2, 3 4))</td>\n",
       "    </tr>\n",
       "  </tbody>\n",
       "</table>\n",
       "</div>"
      ],
      "text/plain": [
       "        df1       df1_shifted                             geometry\n",
       "0   red_low   red_low_shifted  POLYGON ((1 2, 2 2, 2 0, 1 0, 1 2))\n",
       "1  red_high  red_high_shifted  POLYGON ((3 4, 4 4, 4 2, 3 2, 3 4))"
      ]
     },
     "execution_count": 75,
     "metadata": {},
     "output_type": "execute_result"
    }
   ],
   "source": [
    "res_inter"
   ]
  },
  {
   "cell_type": "code",
   "execution_count": 76,
   "metadata": {},
   "outputs": [
    {
     "data": {
      "image/svg+xml": [
       "<svg xmlns=\"http://www.w3.org/2000/svg\" xmlns:xlink=\"http://www.w3.org/1999/xlink\" width=\"100.0\" height=\"100.0\" viewBox=\"0.92 -0.08 1.1600000000000001 2.16\" preserveAspectRatio=\"xMinYMin meet\"><g transform=\"matrix(1,0,0,-1,0,2.0)\"><path fill-rule=\"evenodd\" fill=\"#66cc99\" stroke=\"#555555\" stroke-width=\"0.0432\" opacity=\"0.6\" d=\"M 1.0,2.0 L 2.0,2.0 L 2.0,0.0 L 1.0,0.0 L 1.0,2.0 z\" /></g></svg>"
      ],
      "text/plain": [
       "<shapely.geometry.polygon.Polygon at 0x11f9169b0>"
      ]
     },
     "execution_count": 76,
     "metadata": {},
     "output_type": "execute_result"
    },
    {
     "data": {
      "image/svg+xml": [
       "<svg xmlns=\"http://www.w3.org/2000/svg\" xmlns:xlink=\"http://www.w3.org/1999/xlink\" width=\"100.0\" height=\"100.0\" viewBox=\"2.92 1.92 1.1600000000000001 2.16\" preserveAspectRatio=\"xMinYMin meet\"><g transform=\"matrix(1,0,0,-1,0,6.0)\"><path fill-rule=\"evenodd\" fill=\"#66cc99\" stroke=\"#555555\" stroke-width=\"0.0432\" opacity=\"0.6\" d=\"M 3.0,4.0 L 4.0,4.0 L 4.0,2.0 L 3.0,2.0 L 3.0,4.0 z\" /></g></svg>"
      ],
      "text/plain": [
       "<shapely.geometry.polygon.Polygon at 0x11f9167b8>"
      ]
     },
     "execution_count": 76,
     "metadata": {},
     "output_type": "execute_result"
    }
   ],
   "source": [
    "for geo in res_inter.geometry:\n",
    "    geo"
   ]
  },
  {
   "cell_type": "code",
   "execution_count": 84,
   "metadata": {},
   "outputs": [
    {
     "data": {
      "text/plain": [
       "<matplotlib.axes._subplots.AxesSubplot at 0x11fc507f0>"
      ]
     },
     "execution_count": 84,
     "metadata": {},
     "output_type": "execute_result"
    },
    {
     "data": {
      "image/png": "[encoded data removed]",
      "text/plain": [
       "<Figure size 432x288 with 1 Axes>"
      ]
     },
     "metadata": {
      "needs_background": "light"
     },
     "output_type": "display_data"
    }
   ],
   "source": [
    "df1_with_shifted.plot(color=\"r g b k\".split(), alpha=0.5)"
   ]
  },
  {
   "cell_type": "code",
   "execution_count": 85,
   "metadata": {},
   "outputs": [
    {
     "data": {
      "text/html": [
       "<div>\n",
       "<style scoped>\n",
       "    .dataframe tbody tr th:only-of-type {\n",
       "        vertical-align: middle;\n",
       "    }\n",
       "\n",
       "    .dataframe tbody tr th {\n",
       "        vertical-align: top;\n",
       "    }\n",
       "\n",
       "    .dataframe thead th {\n",
       "        text-align: right;\n",
       "    }\n",
       "</style>\n",
       "<table border=\"1\" class=\"dataframe\">\n",
       "  <thead>\n",
       "    <tr style=\"text-align: right;\">\n",
       "      <th></th>\n",
       "      <th>df1_with_shifted_1</th>\n",
       "      <th>df1_with_shifted_2</th>\n",
       "      <th>geometry</th>\n",
       "    </tr>\n",
       "  </thead>\n",
       "  <tbody>\n",
       "    <tr>\n",
       "      <th>0</th>\n",
       "      <td>0</td>\n",
       "      <td>0</td>\n",
       "      <td>POLYGON ((0 0, 0 2, 2 2, 2 0, 0 0))</td>\n",
       "    </tr>\n",
       "    <tr>\n",
       "      <th>1</th>\n",
       "      <td>2</td>\n",
       "      <td>0</td>\n",
       "      <td>POLYGON ((1 0, 1 2, 2 2, 2 0, 1 0))</td>\n",
       "    </tr>\n",
       "    <tr>\n",
       "      <th>2</th>\n",
       "      <td>0</td>\n",
       "      <td>2</td>\n",
       "      <td>POLYGON ((1 2, 2 2, 2 0, 1 0, 1 2))</td>\n",
       "    </tr>\n",
       "    <tr>\n",
       "      <th>3</th>\n",
       "      <td>2</td>\n",
       "      <td>2</td>\n",
       "      <td>POLYGON ((1 0, 1 2, 3 2, 3 0, 1 0))</td>\n",
       "    </tr>\n",
       "    <tr>\n",
       "      <th>4</th>\n",
       "      <td>1</td>\n",
       "      <td>1</td>\n",
       "      <td>POLYGON ((2 2, 2 4, 4 4, 4 2, 2 2))</td>\n",
       "    </tr>\n",
       "    <tr>\n",
       "      <th>5</th>\n",
       "      <td>3</td>\n",
       "      <td>1</td>\n",
       "      <td>POLYGON ((3 2, 3 4, 4 4, 4 2, 3 2))</td>\n",
       "    </tr>\n",
       "    <tr>\n",
       "      <th>6</th>\n",
       "      <td>1</td>\n",
       "      <td>3</td>\n",
       "      <td>POLYGON ((3 4, 4 4, 4 2, 3 2, 3 4))</td>\n",
       "    </tr>\n",
       "    <tr>\n",
       "      <th>7</th>\n",
       "      <td>3</td>\n",
       "      <td>3</td>\n",
       "      <td>POLYGON ((3 2, 3 4, 5 4, 5 2, 3 2))</td>\n",
       "    </tr>\n",
       "  </tbody>\n",
       "</table>\n",
       "</div>"
      ],
      "text/plain": [
       "   df1_with_shifted_1  df1_with_shifted_2                             geometry\n",
       "0                   0                   0  POLYGON ((0 0, 0 2, 2 2, 2 0, 0 0))\n",
       "1                   2                   0  POLYGON ((1 0, 1 2, 2 2, 2 0, 1 0))\n",
       "2                   0                   2  POLYGON ((1 2, 2 2, 2 0, 1 0, 1 2))\n",
       "3                   2                   2  POLYGON ((1 0, 1 2, 3 2, 3 0, 1 0))\n",
       "4                   1                   1  POLYGON ((2 2, 2 4, 4 4, 4 2, 2 2))\n",
       "5                   3                   1  POLYGON ((3 2, 3 4, 4 4, 4 2, 3 2))\n",
       "6                   1                   3  POLYGON ((3 4, 4 4, 4 2, 3 2, 3 4))\n",
       "7                   3                   3  POLYGON ((3 2, 3 4, 5 4, 5 2, 3 2))"
      ]
     },
     "execution_count": 85,
     "metadata": {},
     "output_type": "execute_result"
    }
   ],
   "source": [
    "geopandas.overlay(df1_with_shifted, df1_with_shifted, how=\"intersection\")"
   ]
  },
  {
   "cell_type": "code",
   "execution_count": 1,
   "metadata": {},
   "outputs": [],
   "source": [
    "import shapely"
   ]
  },
  {
   "cell_type": "code",
   "execution_count": 2,
   "metadata": {},
   "outputs": [],
   "source": [
    "import intake"
   ]
  },
  {
   "cell_type": "markdown",
   "metadata": {},
   "source": [
    "Intake is a new data dissemination package.\n",
    "I packed up the planetfour data into an installable package that simply downloads the files when required:"
   ]
  },
  {
   "cell_type": "code",
   "execution_count": 3,
   "metadata": {},
   "outputs": [
    {
     "data": {
      "text/plain": [
       "['fans', 'blotches', 'tile_coordinates', 'metadata', 'region_names']"
      ]
     },
     "execution_count": 3,
     "metadata": {},
     "output_type": "execute_result"
    }
   ],
   "source": [
    "list(intake.cat.planet4)"
   ]
  },
  {
   "cell_type": "code",
   "execution_count": 45,
   "metadata": {},
   "outputs": [],
   "source": [
    "tiles = intake.cat.planet4.tile_coordinates.read()"
   ]
  },
  {
   "cell_type": "markdown",
   "metadata": {},
   "source": [
    "For working while not online, I keep a copy in this folder:"
   ]
  },
  {
   "cell_type": "code",
   "execution_count": 46,
   "metadata": {},
   "outputs": [],
   "source": [
    "tiles.to_csv(\n",
    "    \"tile_coordinates.csv\", index=False\n",
    ")  # don't need the row counter stored in the CSV"
   ]
  },
  {
   "cell_type": "code",
   "execution_count": 4,
   "metadata": {},
   "outputs": [],
   "source": [
    "import shapely\n",
    "\n",
    "\n",
    "def get_outer_polygon_for_obsid(obsid):\n",
    "    tiles = pd.read_csv(\"tile_coordinates.csv\")\n",
    "    obsid_tiles = tiles.query(\"obsid == @obsid\")\n",
    "    cols = \"BodyFixedCoordinateX BodyFixedCoordinateY\".split()\n",
    "    coords = obsid_tiles[cols]\n",
    "    coords.columns = [\"x\", \"y\"]\n",
    "    mp = shapely.geometry.MultiPoint(list(zip(coords.x, coords.y)))\n",
    "    return mp"
   ]
  },
  {
   "cell_type": "code",
   "execution_count": 5,
   "metadata": {},
   "outputs": [],
   "source": [
    "obsid = \"ESP_012079_0945\""
   ]
  },
  {
   "cell_type": "code",
   "execution_count": 6,
   "metadata": {},
   "outputs": [
    {
     "ename": "AttributeError",
     "evalue": "module 'shapely' has no attribute 'geometry'",
     "output_type": "error",
     "traceback": [
      "\u001b[0;31m---------------------------------------------------------------------------\u001b[0m",
      "\u001b[0;31mAttributeError\u001b[0m                            Traceback (most recent call last)",
      "\u001b[0;32m<ipython-input-6-5a4b24e64692>\u001b[0m in \u001b[0;36m<module>\u001b[0;34m\u001b[0m\n\u001b[0;32m----> 1\u001b[0;31m \u001b[0mmp\u001b[0m \u001b[0;34m=\u001b[0m \u001b[0mget_outer_polygon_for_obsid\u001b[0m\u001b[0;34m(\u001b[0m\u001b[0mobsid\u001b[0m\u001b[0;34m)\u001b[0m\u001b[0;34m\u001b[0m\u001b[0;34m\u001b[0m\u001b[0m\n\u001b[0m",
      "\u001b[0;32m<ipython-input-4-0411347e916e>\u001b[0m in \u001b[0;36mget_outer_polygon_for_obsid\u001b[0;34m(obsid)\u001b[0m\n\u001b[1;32m      8\u001b[0m     \u001b[0mcoords\u001b[0m \u001b[0;34m=\u001b[0m \u001b[0mobsid_tiles\u001b[0m\u001b[0;34m[\u001b[0m\u001b[0mcols\u001b[0m\u001b[0;34m]\u001b[0m\u001b[0;34m\u001b[0m\u001b[0;34m\u001b[0m\u001b[0m\n\u001b[1;32m      9\u001b[0m     \u001b[0mcoords\u001b[0m\u001b[0;34m.\u001b[0m\u001b[0mcolumns\u001b[0m \u001b[0;34m=\u001b[0m \u001b[0;34m[\u001b[0m\u001b[0;34m\"x\"\u001b[0m\u001b[0;34m,\u001b[0m \u001b[0;34m\"y\"\u001b[0m\u001b[0;34m]\u001b[0m\u001b[0;34m\u001b[0m\u001b[0;34m\u001b[0m\u001b[0m\n\u001b[0;32m---> 10\u001b[0;31m     \u001b[0mmp\u001b[0m \u001b[0;34m=\u001b[0m \u001b[0mshapely\u001b[0m\u001b[0;34m.\u001b[0m\u001b[0mgeometry\u001b[0m\u001b[0;34m.\u001b[0m\u001b[0mMultiPoint\u001b[0m\u001b[0;34m(\u001b[0m\u001b[0mlist\u001b[0m\u001b[0;34m(\u001b[0m\u001b[0mzip\u001b[0m\u001b[0;34m(\u001b[0m\u001b[0mcoords\u001b[0m\u001b[0;34m.\u001b[0m\u001b[0mx\u001b[0m\u001b[0;34m,\u001b[0m \u001b[0mcoords\u001b[0m\u001b[0;34m.\u001b[0m\u001b[0my\u001b[0m\u001b[0;34m)\u001b[0m\u001b[0;34m)\u001b[0m\u001b[0;34m)\u001b[0m\u001b[0;34m\u001b[0m\u001b[0;34m\u001b[0m\u001b[0m\n\u001b[0m\u001b[1;32m     11\u001b[0m     \u001b[0;32mreturn\u001b[0m \u001b[0mmp\u001b[0m\u001b[0;34m\u001b[0m\u001b[0;34m\u001b[0m\u001b[0m\n",
      "\u001b[0;31mAttributeError\u001b[0m: module 'shapely' has no attribute 'geometry'"
     ]
    }
   ],
   "source": [
    "mp = get_outer_polygon_for_obsid(obsid)"
   ]
  },
  {
   "cell_type": "code",
   "execution_count": 52,
   "metadata": {},
   "outputs": [
    {
     "data": {
      "image/svg+xml": [
       "<svg xmlns=\"http://www.w3.org/2000/svg\" xmlns:xlink=\"http://www.w3.org/1999/xlink\" width=\"100.0\" height=\"100.0\" viewBox=\"-68.933601092 255.23964870800003 7.098260483999994 14.929044984\" preserveAspectRatio=\"xMinYMin meet\"><g transform=\"matrix(1,0,0,-1,0,525.4083424)\"><g><circle cx=\"-68.3806735\" cy=\"256.0561472\" r=\"0.44787134952\" stroke=\"#555555\" stroke-width=\"0.14929044984\" fill=\"#66cc99\" opacity=\"0.6\" /><circle cx=\"-68.33133690000001\" cy=\"256.1816613\" r=\"0.44787134952\" stroke=\"#555555\" stroke-width=\"0.14929044984\" fill=\"#66cc99\" opacity=\"0.6\" /><circle cx=\"-68.2818526\" cy=\"256.3072494\" r=\"0.44787134952\" stroke=\"#555555\" stroke-width=\"0.14929044984\" fill=\"#66cc99\" opacity=\"0.6\" /><circle cx=\"-68.23252190000001\" cy=\"256.433112\" r=\"0.44787134952\" stroke=\"#555555\" stroke-width=\"0.14929044984\" fill=\"#66cc99\" opacity=\"0.6\" /><circle cx=\"-68.1832809\" cy=\"256.5585091\" r=\"0.44787134952\" stroke=\"#555555\" stroke-width=\"0.14929044984\" fill=\"#66cc99\" opacity=\"0.6\" /><circle cx=\"-68.134175\" cy=\"256.684287\" r=\"0.44787134952\" stroke=\"#555555\" stroke-width=\"0.14929044984\" fill=\"#66cc99\" opacity=\"0.6\" /><circle cx=\"-68.08504740000001\" cy=\"256.8100241\" r=\"0.44787134952\" stroke=\"#555555\" stroke-width=\"0.14929044984\" fill=\"#66cc99\" opacity=\"0.6\" /><circle cx=\"-68.0359348\" cy=\"256.9358088\" r=\"0.44787134952\" stroke=\"#555555\" stroke-width=\"0.14929044984\" fill=\"#66cc99\" opacity=\"0.6\" /><circle cx=\"-67.9867905\" cy=\"257.0614779\" r=\"0.44787134952\" stroke=\"#555555\" stroke-width=\"0.14929044984\" fill=\"#66cc99\" opacity=\"0.6\" /><circle cx=\"-67.937648\" cy=\"257.1871118\" r=\"0.44787134952\" stroke=\"#555555\" stroke-width=\"0.14929044984\" fill=\"#66cc99\" opacity=\"0.6\" /><circle cx=\"-67.8886427\" cy=\"257.3131337\" r=\"0.44787134952\" stroke=\"#555555\" stroke-width=\"0.14929044984\" fill=\"#66cc99\" opacity=\"0.6\" /><circle cx=\"-67.83961070000001\" cy=\"257.4390484\" r=\"0.44787134952\" stroke=\"#555555\" stroke-width=\"0.14929044984\" fill=\"#66cc99\" opacity=\"0.6\" /><circle cx=\"-67.7905497\" cy=\"257.5648829\" r=\"0.44787134952\" stroke=\"#555555\" stroke-width=\"0.14929044984\" fill=\"#66cc99\" opacity=\"0.6\" /><circle cx=\"-67.74154870000001\" cy=\"257.6907922\" r=\"0.44787134952\" stroke=\"#555555\" stroke-width=\"0.14929044984\" fill=\"#66cc99\" opacity=\"0.6\" /><circle cx=\"-67.6925257\" cy=\"257.8165838\" r=\"0.44787134952\" stroke=\"#555555\" stroke-width=\"0.14929044984\" fill=\"#66cc99\" opacity=\"0.6\" /><circle cx=\"-67.64348079999999\" cy=\"257.9424574\" r=\"0.44787134952\" stroke=\"#555555\" stroke-width=\"0.14929044984\" fill=\"#66cc99\" opacity=\"0.6\" /><circle cx=\"-67.5943537\" cy=\"258.0684774\" r=\"0.44787134952\" stroke=\"#555555\" stroke-width=\"0.14929044984\" fill=\"#66cc99\" opacity=\"0.6\" /><circle cx=\"-67.54522759999999\" cy=\"258.1945028\" r=\"0.44787134952\" stroke=\"#555555\" stroke-width=\"0.14929044984\" fill=\"#66cc99\" opacity=\"0.6\" /><circle cx=\"-67.49623259999998\" cy=\"258.3202982\" r=\"0.44787134952\" stroke=\"#555555\" stroke-width=\"0.14929044984\" fill=\"#66cc99\" opacity=\"0.6\" /><circle cx=\"-67.4472442\" cy=\"258.446006\" r=\"0.44787134952\" stroke=\"#555555\" stroke-width=\"0.14929044984\" fill=\"#66cc99\" opacity=\"0.6\" /><circle cx=\"-67.39821040000001\" cy=\"258.5717019\" r=\"0.44787134952\" stroke=\"#555555\" stroke-width=\"0.14929044984\" fill=\"#66cc99\" opacity=\"0.6\" /><circle cx=\"-67.3491477\" cy=\"258.6974331\" r=\"0.44787134952\" stroke=\"#555555\" stroke-width=\"0.14929044984\" fill=\"#66cc99\" opacity=\"0.6\" /><circle cx=\"-67.30015949999999\" cy=\"258.8233628\" r=\"0.44787134952\" stroke=\"#555555\" stroke-width=\"0.14929044984\" fill=\"#66cc99\" opacity=\"0.6\" /><circle cx=\"-67.2512145\" cy=\"258.9492337\" r=\"0.44787134952\" stroke=\"#555555\" stroke-width=\"0.14929044984\" fill=\"#66cc99\" opacity=\"0.6\" /><circle cx=\"-67.2023329\" cy=\"259.0752886\" r=\"0.44787134952\" stroke=\"#555555\" stroke-width=\"0.14929044984\" fill=\"#66cc99\" opacity=\"0.6\" /><circle cx=\"-67.1531516\" cy=\"259.2013469\" r=\"0.44787134952\" stroke=\"#555555\" stroke-width=\"0.14929044984\" fill=\"#66cc99\" opacity=\"0.6\" /><circle cx=\"-67.1039545\" cy=\"259.3276901\" r=\"0.44787134952\" stroke=\"#555555\" stroke-width=\"0.14929044984\" fill=\"#66cc99\" opacity=\"0.6\" /><circle cx=\"-67.054784\" cy=\"259.453777\" r=\"0.44787134952\" stroke=\"#555555\" stroke-width=\"0.14929044984\" fill=\"#66cc99\" opacity=\"0.6\" /><circle cx=\"-67.0058088\" cy=\"259.5796653\" r=\"0.44787134952\" stroke=\"#555555\" stroke-width=\"0.14929044984\" fill=\"#66cc99\" opacity=\"0.6\" /><circle cx=\"-66.9568913\" cy=\"259.7057221\" r=\"0.44787134952\" stroke=\"#555555\" stroke-width=\"0.14929044984\" fill=\"#66cc99\" opacity=\"0.6\" /><circle cx=\"-66.9079782\" cy=\"259.83194790000005\" r=\"0.44787134952\" stroke=\"#555555\" stroke-width=\"0.14929044984\" fill=\"#66cc99\" opacity=\"0.6\" /><circle cx=\"-66.8590205\" cy=\"259.9580575\" r=\"0.44787134952\" stroke=\"#555555\" stroke-width=\"0.14929044984\" fill=\"#66cc99\" opacity=\"0.6\" /><circle cx=\"-66.8100272\" cy=\"260.08412430000004\" r=\"0.44787134952\" stroke=\"#555555\" stroke-width=\"0.14929044984\" fill=\"#66cc99\" opacity=\"0.6\" /><circle cx=\"-66.7610542\" cy=\"260.2103023\" r=\"0.44787134952\" stroke=\"#555555\" stroke-width=\"0.14929044984\" fill=\"#66cc99\" opacity=\"0.6\" /><circle cx=\"-66.7120561\" cy=\"260.3363349\" r=\"0.44787134952\" stroke=\"#555555\" stroke-width=\"0.14929044984\" fill=\"#66cc99\" opacity=\"0.6\" /><circle cx=\"-66.6632603\" cy=\"260.46238950000003\" r=\"0.44787134952\" stroke=\"#555555\" stroke-width=\"0.14929044984\" fill=\"#66cc99\" opacity=\"0.6\" /><circle cx=\"-66.6144691\" cy=\"260.5884601\" r=\"0.44787134952\" stroke=\"#555555\" stroke-width=\"0.14929044984\" fill=\"#66cc99\" opacity=\"0.6\" /><circle cx=\"-66.5654947\" cy=\"260.7141672\" r=\"0.44787134952\" stroke=\"#555555\" stroke-width=\"0.14929044984\" fill=\"#66cc99\" opacity=\"0.6\" /><circle cx=\"-66.5165821\" cy=\"260.8401089\" r=\"0.44787134952\" stroke=\"#555555\" stroke-width=\"0.14929044984\" fill=\"#66cc99\" opacity=\"0.6\" /><circle cx=\"-66.4673717\" cy=\"260.9658985\" r=\"0.44787134952\" stroke=\"#555555\" stroke-width=\"0.14929044984\" fill=\"#66cc99\" opacity=\"0.6\" /><circle cx=\"-66.4179057\" cy=\"261.0920212\" r=\"0.44787134952\" stroke=\"#555555\" stroke-width=\"0.14929044984\" fill=\"#66cc99\" opacity=\"0.6\" /><circle cx=\"-66.3684535\" cy=\"261.2181866\" r=\"0.44787134952\" stroke=\"#555555\" stroke-width=\"0.14929044984\" fill=\"#66cc99\" opacity=\"0.6\" /><circle cx=\"-66.3192929\" cy=\"261.3436481\" r=\"0.44787134952\" stroke=\"#555555\" stroke-width=\"0.14929044984\" fill=\"#66cc99\" opacity=\"0.6\" /><circle cx=\"-66.2703221\" cy=\"261.46961830000004\" r=\"0.44787134952\" stroke=\"#555555\" stroke-width=\"0.14929044984\" fill=\"#66cc99\" opacity=\"0.6\" /><circle cx=\"-66.2211252\" cy=\"261.5953281\" r=\"0.44787134952\" stroke=\"#555555\" stroke-width=\"0.14929044984\" fill=\"#66cc99\" opacity=\"0.6\" /><circle cx=\"-66.1720006\" cy=\"261.7214886\" r=\"0.44787134952\" stroke=\"#555555\" stroke-width=\"0.14929044984\" fill=\"#66cc99\" opacity=\"0.6\" /><circle cx=\"-66.1227889\" cy=\"261.847236\" r=\"0.44787134952\" stroke=\"#555555\" stroke-width=\"0.14929044984\" fill=\"#66cc99\" opacity=\"0.6\" /><circle cx=\"-66.07379279999999\" cy=\"261.9729907\" r=\"0.44787134952\" stroke=\"#555555\" stroke-width=\"0.14929044984\" fill=\"#66cc99\" opacity=\"0.6\" /><circle cx=\"-66.0247474\" cy=\"262.0986041\" r=\"0.44787134952\" stroke=\"#555555\" stroke-width=\"0.14929044984\" fill=\"#66cc99\" opacity=\"0.6\" /><circle cx=\"-65.97562239999999\" cy=\"262.224455\" r=\"0.44787134952\" stroke=\"#555555\" stroke-width=\"0.14929044984\" fill=\"#66cc99\" opacity=\"0.6\" /><circle cx=\"-65.9265706\" cy=\"262.3506059\" r=\"0.44787134952\" stroke=\"#555555\" stroke-width=\"0.14929044984\" fill=\"#66cc99\" opacity=\"0.6\" /><circle cx=\"-65.87739920000001\" cy=\"262.4762278\" r=\"0.44787134952\" stroke=\"#555555\" stroke-width=\"0.14929044984\" fill=\"#66cc99\" opacity=\"0.6\" /><circle cx=\"-65.8283223\" cy=\"262.6018905\" r=\"0.44787134952\" stroke=\"#555555\" stroke-width=\"0.14929044984\" fill=\"#66cc99\" opacity=\"0.6\" /><circle cx=\"-65.7792438\" cy=\"262.727603\" r=\"0.44787134952\" stroke=\"#555555\" stroke-width=\"0.14929044984\" fill=\"#66cc99\" opacity=\"0.6\" /><circle cx=\"-65.72994739999999\" cy=\"262.8534045\" r=\"0.44787134952\" stroke=\"#555555\" stroke-width=\"0.14929044984\" fill=\"#66cc99\" opacity=\"0.6\" /><circle cx=\"-65.68072420000001\" cy=\"262.9794238\" r=\"0.44787134952\" stroke=\"#555555\" stroke-width=\"0.14929044984\" fill=\"#66cc99\" opacity=\"0.6\" /><circle cx=\"-65.6314323\" cy=\"263.1051678\" r=\"0.44787134952\" stroke=\"#555555\" stroke-width=\"0.14929044984\" fill=\"#66cc99\" opacity=\"0.6\" /><circle cx=\"-65.5821474\" cy=\"263.23089530000004\" r=\"0.44787134952\" stroke=\"#555555\" stroke-width=\"0.14929044984\" fill=\"#66cc99\" opacity=\"0.6\" /><circle cx=\"-65.5329448\" cy=\"263.35651290000004\" r=\"0.44787134952\" stroke=\"#555555\" stroke-width=\"0.14929044984\" fill=\"#66cc99\" opacity=\"0.6\" /><circle cx=\"-65.4840794\" cy=\"263.4820394\" r=\"0.44787134952\" stroke=\"#555555\" stroke-width=\"0.14929044984\" fill=\"#66cc99\" opacity=\"0.6\" /><circle cx=\"-65.4351928\" cy=\"263.6075048\" r=\"0.44787134952\" stroke=\"#555555\" stroke-width=\"0.14929044984\" fill=\"#66cc99\" opacity=\"0.6\" /><circle cx=\"-65.3860541\" cy=\"263.7327676\" r=\"0.44787134952\" stroke=\"#555555\" stroke-width=\"0.14929044984\" fill=\"#66cc99\" opacity=\"0.6\" /><circle cx=\"-65.336843\" cy=\"263.8578917\" r=\"0.44787134952\" stroke=\"#555555\" stroke-width=\"0.14929044984\" fill=\"#66cc99\" opacity=\"0.6\" /><circle cx=\"-65.2878189\" cy=\"263.9833888\" r=\"0.44787134952\" stroke=\"#555555\" stroke-width=\"0.14929044984\" fill=\"#66cc99\" opacity=\"0.6\" /><circle cx=\"-65.2387961\" cy=\"264.1087253\" r=\"0.44787134952\" stroke=\"#555555\" stroke-width=\"0.14929044984\" fill=\"#66cc99\" opacity=\"0.6\" /><circle cx=\"-65.18990550000001\" cy=\"264.2344785\" r=\"0.44787134952\" stroke=\"#555555\" stroke-width=\"0.14929044984\" fill=\"#66cc99\" opacity=\"0.6\" /><circle cx=\"-65.1406358\" cy=\"264.35933430000006\" r=\"0.44787134952\" stroke=\"#555555\" stroke-width=\"0.14929044984\" fill=\"#66cc99\" opacity=\"0.6\" /><circle cx=\"-65.0914619\" cy=\"264.4844766\" r=\"0.44787134952\" stroke=\"#555555\" stroke-width=\"0.14929044984\" fill=\"#66cc99\" opacity=\"0.6\" /><circle cx=\"-65.0423861\" cy=\"264.6100571\" r=\"0.44787134952\" stroke=\"#555555\" stroke-width=\"0.14929044984\" fill=\"#66cc99\" opacity=\"0.6\" /><circle cx=\"-64.9933215\" cy=\"264.7357204\" r=\"0.44787134952\" stroke=\"#555555\" stroke-width=\"0.14929044984\" fill=\"#66cc99\" opacity=\"0.6\" /><circle cx=\"-64.9442308\" cy=\"264.8613011\" r=\"0.44787134952\" stroke=\"#555555\" stroke-width=\"0.14929044984\" fill=\"#66cc99\" opacity=\"0.6\" /><circle cx=\"-64.8949891\" cy=\"264.9864187\" r=\"0.44787134952\" stroke=\"#555555\" stroke-width=\"0.14929044984\" fill=\"#66cc99\" opacity=\"0.6\" /><circle cx=\"-64.8457167\" cy=\"265.1114458\" r=\"0.44787134952\" stroke=\"#555555\" stroke-width=\"0.14929044984\" fill=\"#66cc99\" opacity=\"0.6\" /><circle cx=\"-64.7964959\" cy=\"265.236887\" r=\"0.44787134952\" stroke=\"#555555\" stroke-width=\"0.14929044984\" fill=\"#66cc99\" opacity=\"0.6\" /><circle cx=\"-64.747226\" cy=\"265.36219\" r=\"0.44787134952\" stroke=\"#555555\" stroke-width=\"0.14929044984\" fill=\"#66cc99\" opacity=\"0.6\" /><circle cx=\"-64.6979937\" cy=\"265.4875738\" r=\"0.44787134952\" stroke=\"#555555\" stroke-width=\"0.14929044984\" fill=\"#66cc99\" opacity=\"0.6\" /><circle cx=\"-64.64868299999999\" cy=\"265.6126969\" r=\"0.44787134952\" stroke=\"#555555\" stroke-width=\"0.14929044984\" fill=\"#66cc99\" opacity=\"0.6\" /><circle cx=\"-64.5993135\" cy=\"265.7377283\" r=\"0.44787134952\" stroke=\"#555555\" stroke-width=\"0.14929044984\" fill=\"#66cc99\" opacity=\"0.6\" /><circle cx=\"-64.54991360000001\" cy=\"265.8630204\" r=\"0.44787134952\" stroke=\"#555555\" stroke-width=\"0.14929044984\" fill=\"#66cc99\" opacity=\"0.6\" /><circle cx=\"-64.50056310000001\" cy=\"265.988463\" r=\"0.44787134952\" stroke=\"#555555\" stroke-width=\"0.14929044984\" fill=\"#66cc99\" opacity=\"0.6\" /><circle cx=\"-64.4511684\" cy=\"266.11345\" r=\"0.44787134952\" stroke=\"#555555\" stroke-width=\"0.14929044984\" fill=\"#66cc99\" opacity=\"0.6\" /><circle cx=\"-64.4019769\" cy=\"266.2389609\" r=\"0.44787134952\" stroke=\"#555555\" stroke-width=\"0.14929044984\" fill=\"#66cc99\" opacity=\"0.6\" /><circle cx=\"-64.3525588\" cy=\"266.363989\" r=\"0.44787134952\" stroke=\"#555555\" stroke-width=\"0.14929044984\" fill=\"#66cc99\" opacity=\"0.6\" /><circle cx=\"-64.3031577\" cy=\"266.4894111\" r=\"0.44787134952\" stroke=\"#555555\" stroke-width=\"0.14929044984\" fill=\"#66cc99\" opacity=\"0.6\" /><circle cx=\"-64.253688\" cy=\"266.6146227\" r=\"0.44787134952\" stroke=\"#555555\" stroke-width=\"0.14929044984\" fill=\"#66cc99\" opacity=\"0.6\" /><circle cx=\"-64.2043076\" cy=\"266.7395785\" r=\"0.44787134952\" stroke=\"#555555\" stroke-width=\"0.14929044984\" fill=\"#66cc99\" opacity=\"0.6\" /><circle cx=\"-64.1549066\" cy=\"266.86447230000005\" r=\"0.44787134952\" stroke=\"#555555\" stroke-width=\"0.14929044984\" fill=\"#66cc99\" opacity=\"0.6\" /><circle cx=\"-64.1057294\" cy=\"266.9895377\" r=\"0.44787134952\" stroke=\"#555555\" stroke-width=\"0.14929044984\" fill=\"#66cc99\" opacity=\"0.6\" /><circle cx=\"-64.0566735\" cy=\"267.1146965\" r=\"0.44787134952\" stroke=\"#555555\" stroke-width=\"0.14929044984\" fill=\"#66cc99\" opacity=\"0.6\" /><circle cx=\"-64.0074879\" cy=\"267.239626\" r=\"0.44787134952\" stroke=\"#555555\" stroke-width=\"0.14929044984\" fill=\"#66cc99\" opacity=\"0.6\" /><circle cx=\"-63.95806120000001\" cy=\"267.3643934\" r=\"0.44787134952\" stroke=\"#555555\" stroke-width=\"0.14929044984\" fill=\"#66cc99\" opacity=\"0.6\" /><circle cx=\"-63.9086915\" cy=\"267.4893354\" r=\"0.44787134952\" stroke=\"#555555\" stroke-width=\"0.14929044984\" fill=\"#66cc99\" opacity=\"0.6\" /><circle cx=\"-63.8595006\" cy=\"267.6146199\" r=\"0.44787134952\" stroke=\"#555555\" stroke-width=\"0.14929044984\" fill=\"#66cc99\" opacity=\"0.6\" /><circle cx=\"-63.8103532\" cy=\"267.74001\" r=\"0.44787134952\" stroke=\"#555555\" stroke-width=\"0.14929044984\" fill=\"#66cc99\" opacity=\"0.6\" /><circle cx=\"-63.7609213\" cy=\"267.8647652\" r=\"0.44787134952\" stroke=\"#555555\" stroke-width=\"0.14929044984\" fill=\"#66cc99\" opacity=\"0.6\" /><circle cx=\"-63.71152270000001\" cy=\"267.9899002\" r=\"0.44787134952\" stroke=\"#555555\" stroke-width=\"0.14929044984\" fill=\"#66cc99\" opacity=\"0.6\" /><circle cx=\"-63.6619238\" cy=\"268.11440730000004\" r=\"0.44787134952\" stroke=\"#555555\" stroke-width=\"0.14929044984\" fill=\"#66cc99\" opacity=\"0.6\" /><circle cx=\"-63.61275799999999\" cy=\"268.2401042\" r=\"0.44787134952\" stroke=\"#555555\" stroke-width=\"0.14929044984\" fill=\"#66cc99\" opacity=\"0.6\" /><circle cx=\"-63.5634493\" cy=\"268.3653637\" r=\"0.44787134952\" stroke=\"#555555\" stroke-width=\"0.14929044984\" fill=\"#66cc99\" opacity=\"0.6\" /><circle cx=\"-63.5141947\" cy=\"268.4904349\" r=\"0.44787134952\" stroke=\"#555555\" stroke-width=\"0.14929044984\" fill=\"#66cc99\" opacity=\"0.6\" /><circle cx=\"-63.4649397\" cy=\"268.6153396\" r=\"0.44787134952\" stroke=\"#555555\" stroke-width=\"0.14929044984\" fill=\"#66cc99\" opacity=\"0.6\" /><circle cx=\"-63.4157149\" cy=\"268.7403154\" r=\"0.44787134952\" stroke=\"#555555\" stroke-width=\"0.14929044984\" fill=\"#66cc99\" opacity=\"0.6\" /><circle cx=\"-63.3665172\" cy=\"268.8653264\" r=\"0.44787134952\" stroke=\"#555555\" stroke-width=\"0.14929044984\" fill=\"#66cc99\" opacity=\"0.6\" /><circle cx=\"-63.3174531\" cy=\"268.9907508\" r=\"0.44787134952\" stroke=\"#555555\" stroke-width=\"0.14929044984\" fill=\"#66cc99\" opacity=\"0.6\" /><circle cx=\"-63.2679057\" cy=\"269.1156142\" r=\"0.44787134952\" stroke=\"#555555\" stroke-width=\"0.14929044984\" fill=\"#66cc99\" opacity=\"0.6\" /><circle cx=\"-63.21837729999999\" cy=\"269.2406323\" r=\"0.44787134952\" stroke=\"#555555\" stroke-width=\"0.14929044984\" fill=\"#66cc99\" opacity=\"0.6\" /><circle cx=\"-63.16897370000001\" cy=\"269.365559\" r=\"0.44787134952\" stroke=\"#555555\" stroke-width=\"0.14929044984\" fill=\"#66cc99\" opacity=\"0.6\" /><circle cx=\"-63.119815\" cy=\"269.49076180000003\" r=\"0.44787134952\" stroke=\"#555555\" stroke-width=\"0.14929044984\" fill=\"#66cc99\" opacity=\"0.6\" /><circle cx=\"-63.07056650000001\" cy=\"269.61576610000003\" r=\"0.44787134952\" stroke=\"#555555\" stroke-width=\"0.14929044984\" fill=\"#66cc99\" opacity=\"0.6\" /><circle cx=\"-68.2102417\" cy=\"255.9901059\" r=\"0.44787134952\" stroke=\"#555555\" stroke-width=\"0.14929044984\" fill=\"#66cc99\" opacity=\"0.6\" /><circle cx=\"-68.1609285\" cy=\"256.1156817\" r=\"0.44787134952\" stroke=\"#555555\" stroke-width=\"0.14929044984\" fill=\"#66cc99\" opacity=\"0.6\" /><circle cx=\"-68.11143320000001\" cy=\"256.24123790000004\" r=\"0.44787134952\" stroke=\"#555555\" stroke-width=\"0.14929044984\" fill=\"#66cc99\" opacity=\"0.6\" /><circle cx=\"-68.06210779999999\" cy=\"256.367107\" r=\"0.44787134952\" stroke=\"#555555\" stroke-width=\"0.14929044984\" fill=\"#66cc99\" opacity=\"0.6\" /><circle cx=\"-68.0129459\" cy=\"256.49272080000003\" r=\"0.44787134952\" stroke=\"#555555\" stroke-width=\"0.14929044984\" fill=\"#66cc99\" opacity=\"0.6\" /><circle cx=\"-67.9637824\" cy=\"256.6183323\" r=\"0.44787134952\" stroke=\"#555555\" stroke-width=\"0.14929044984\" fill=\"#66cc99\" opacity=\"0.6\" /><circle cx=\"-67.91462220000001\" cy=\"256.7439742\" r=\"0.44787134952\" stroke=\"#555555\" stroke-width=\"0.14929044984\" fill=\"#66cc99\" opacity=\"0.6\" /><circle cx=\"-67.8654787\" cy=\"256.869668\" r=\"0.44787134952\" stroke=\"#555555\" stroke-width=\"0.14929044984\" fill=\"#66cc99\" opacity=\"0.6\" /><circle cx=\"-67.8164114\" cy=\"256.9955453\" r=\"0.44787134952\" stroke=\"#555555\" stroke-width=\"0.14929044984\" fill=\"#66cc99\" opacity=\"0.6\" /><circle cx=\"-67.7673462\" cy=\"257.121389\" r=\"0.44787134952\" stroke=\"#555555\" stroke-width=\"0.14929044984\" fill=\"#66cc99\" opacity=\"0.6\" /><circle cx=\"-67.7182385\" cy=\"257.2471173\" r=\"0.44787134952\" stroke=\"#555555\" stroke-width=\"0.14929044984\" fill=\"#66cc99\" opacity=\"0.6\" /><circle cx=\"-67.6692397\" cy=\"257.3731157\" r=\"0.44787134952\" stroke=\"#555555\" stroke-width=\"0.14929044984\" fill=\"#66cc99\" opacity=\"0.6\" /><circle cx=\"-67.6202069\" cy=\"257.49902230000004\" r=\"0.44787134952\" stroke=\"#555555\" stroke-width=\"0.14929044984\" fill=\"#66cc99\" opacity=\"0.6\" /><circle cx=\"-67.57120520000001\" cy=\"257.6249201\" r=\"0.44787134952\" stroke=\"#555555\" stroke-width=\"0.14929044984\" fill=\"#66cc99\" opacity=\"0.6\" /><circle cx=\"-67.52216999999999\" cy=\"257.7506695\" r=\"0.44787134952\" stroke=\"#555555\" stroke-width=\"0.14929044984\" fill=\"#66cc99\" opacity=\"0.6\" /><circle cx=\"-67.47315809999999\" cy=\"257.8766256\" r=\"0.44787134952\" stroke=\"#555555\" stroke-width=\"0.14929044984\" fill=\"#66cc99\" opacity=\"0.6\" /><circle cx=\"-67.424041\" cy=\"258.0026642\" r=\"0.44787134952\" stroke=\"#555555\" stroke-width=\"0.14929044984\" fill=\"#66cc99\" opacity=\"0.6\" /><circle cx=\"-67.3748832\" cy=\"258.1285924\" r=\"0.44787134952\" stroke=\"#555555\" stroke-width=\"0.14929044984\" fill=\"#66cc99\" opacity=\"0.6\" /><circle cx=\"-67.3259028\" cy=\"258.25441800000004\" r=\"0.44787134952\" stroke=\"#555555\" stroke-width=\"0.14929044984\" fill=\"#66cc99\" opacity=\"0.6\" /><circle cx=\"-67.27685890000001\" cy=\"258.3799614\" r=\"0.44787134952\" stroke=\"#555555\" stroke-width=\"0.14929044984\" fill=\"#66cc99\" opacity=\"0.6\" /><circle cx=\"-67.2278934\" cy=\"258.5058392\" r=\"0.44787134952\" stroke=\"#555555\" stroke-width=\"0.14929044984\" fill=\"#66cc99\" opacity=\"0.6\" /><circle cx=\"-67.1788848\" cy=\"258.6317133\" r=\"0.44787134952\" stroke=\"#555555\" stroke-width=\"0.14929044984\" fill=\"#66cc99\" opacity=\"0.6\" /><circle cx=\"-67.12987679999999\" cy=\"258.7575761\" r=\"0.44787134952\" stroke=\"#555555\" stroke-width=\"0.14929044984\" fill=\"#66cc99\" opacity=\"0.6\" /><circle cx=\"-67.0809666\" cy=\"258.8835332\" r=\"0.44787134952\" stroke=\"#555555\" stroke-width=\"0.14929044984\" fill=\"#66cc99\" opacity=\"0.6\" /><circle cx=\"-67.0319829\" cy=\"259.0092877\" r=\"0.44787134952\" stroke=\"#555555\" stroke-width=\"0.14929044984\" fill=\"#66cc99\" opacity=\"0.6\" /><circle cx=\"-66.9828835\" cy=\"259.1355663\" r=\"0.44787134952\" stroke=\"#555555\" stroke-width=\"0.14929044984\" fill=\"#66cc99\" opacity=\"0.6\" /><circle cx=\"-66.9337381\" cy=\"259.2620417\" r=\"0.44787134952\" stroke=\"#555555\" stroke-width=\"0.14929044984\" fill=\"#66cc99\" opacity=\"0.6\" /><circle cx=\"-66.8845892\" cy=\"259.3881797\" r=\"0.44787134952\" stroke=\"#555555\" stroke-width=\"0.14929044984\" fill=\"#66cc99\" opacity=\"0.6\" /><circle cx=\"-66.8356623\" cy=\"259.5141923\" r=\"0.44787134952\" stroke=\"#555555\" stroke-width=\"0.14929044984\" fill=\"#66cc99\" opacity=\"0.6\" /><circle cx=\"-66.7866459\" cy=\"259.6399565\" r=\"0.44787134952\" stroke=\"#555555\" stroke-width=\"0.14929044984\" fill=\"#66cc99\" opacity=\"0.6\" /><circle cx=\"-66.7376811\" cy=\"259.7660219\" r=\"0.44787134952\" stroke=\"#555555\" stroke-width=\"0.14929044984\" fill=\"#66cc99\" opacity=\"0.6\" /><circle cx=\"-66.6887958\" cy=\"259.8923234\" r=\"0.44787134952\" stroke=\"#555555\" stroke-width=\"0.14929044984\" fill=\"#66cc99\" opacity=\"0.6\" /><circle cx=\"-66.6398193\" cy=\"260.0184262\" r=\"0.44787134952\" stroke=\"#555555\" stroke-width=\"0.14929044984\" fill=\"#66cc99\" opacity=\"0.6\" /><circle cx=\"-66.59081979999999\" cy=\"260.14451569999994\" r=\"0.44787134952\" stroke=\"#555555\" stroke-width=\"0.14929044984\" fill=\"#66cc99\" opacity=\"0.6\" /><circle cx=\"-66.5418845\" cy=\"260.2707145\" r=\"0.44787134952\" stroke=\"#555555\" stroke-width=\"0.14929044984\" fill=\"#66cc99\" opacity=\"0.6\" /><circle cx=\"-66.49298689999999\" cy=\"260.3964673\" r=\"0.44787134952\" stroke=\"#555555\" stroke-width=\"0.14929044984\" fill=\"#66cc99\" opacity=\"0.6\" /><circle cx=\"-66.4442132\" cy=\"260.5225732\" r=\"0.44787134952\" stroke=\"#555555\" stroke-width=\"0.14929044984\" fill=\"#66cc99\" opacity=\"0.6\" /><circle cx=\"-66.3952498\" cy=\"260.6483025\" r=\"0.44787134952\" stroke=\"#555555\" stroke-width=\"0.14929044984\" fill=\"#66cc99\" opacity=\"0.6\" /><circle cx=\"-66.34637260000001\" cy=\"260.7743305\" r=\"0.44787134952\" stroke=\"#555555\" stroke-width=\"0.14929044984\" fill=\"#66cc99\" opacity=\"0.6\" /><circle cx=\"-66.2972254\" cy=\"260.9002895\" r=\"0.44787134952\" stroke=\"#555555\" stroke-width=\"0.14929044984\" fill=\"#66cc99\" opacity=\"0.6\" /><circle cx=\"-66.2476381\" cy=\"261.0260524\" r=\"0.44787134952\" stroke=\"#555555\" stroke-width=\"0.14929044984\" fill=\"#66cc99\" opacity=\"0.6\" /><circle cx=\"-66.1981616\" cy=\"261.1521325\" r=\"0.44787134952\" stroke=\"#555555\" stroke-width=\"0.14929044984\" fill=\"#66cc99\" opacity=\"0.6\" /><circle cx=\"-66.1490551\" cy=\"261.2777437\" r=\"0.44787134952\" stroke=\"#555555\" stroke-width=\"0.14929044984\" fill=\"#66cc99\" opacity=\"0.6\" /><circle cx=\"-66.10009570000001\" cy=\"261.4037312\" r=\"0.44787134952\" stroke=\"#555555\" stroke-width=\"0.14929044984\" fill=\"#66cc99\" opacity=\"0.6\" /><circle cx=\"-66.0510008\" cy=\"261.5297233\" r=\"0.44787134952\" stroke=\"#555555\" stroke-width=\"0.14929044984\" fill=\"#66cc99\" opacity=\"0.6\" /><circle cx=\"-66.0017331\" cy=\"261.6554582\" r=\"0.44787134952\" stroke=\"#555555\" stroke-width=\"0.14929044984\" fill=\"#66cc99\" opacity=\"0.6\" /><circle cx=\"-65.9525075\" cy=\"261.7811567\" r=\"0.44787134952\" stroke=\"#555555\" stroke-width=\"0.14929044984\" fill=\"#66cc99\" opacity=\"0.6\" /><circle cx=\"-65.9035598\" cy=\"261.9070394\" r=\"0.44787134952\" stroke=\"#555555\" stroke-width=\"0.14929044984\" fill=\"#66cc99\" opacity=\"0.6\" /><circle cx=\"-65.85459449999999\" cy=\"262.0328742\" r=\"0.44787134952\" stroke=\"#555555\" stroke-width=\"0.14929044984\" fill=\"#66cc99\" opacity=\"0.6\" /><circle cx=\"-65.80538059999999\" cy=\"262.158462\" r=\"0.44787134952\" stroke=\"#555555\" stroke-width=\"0.14929044984\" fill=\"#66cc99\" opacity=\"0.6\" /><circle cx=\"-65.7562038\" cy=\"262.28423990000005\" r=\"0.44787134952\" stroke=\"#555555\" stroke-width=\"0.14929044984\" fill=\"#66cc99\" opacity=\"0.6\" /><circle cx=\"-65.7071251\" cy=\"262.4101231\" r=\"0.44787134952\" stroke=\"#555555\" stroke-width=\"0.14929044984\" fill=\"#66cc99\" opacity=\"0.6\" /><circle cx=\"-65.65802120000001\" cy=\"262.5357015\" r=\"0.44787134952\" stroke=\"#555555\" stroke-width=\"0.14929044984\" fill=\"#66cc99\" opacity=\"0.6\" /><circle cx=\"-65.6089605\" cy=\"262.6614583\" r=\"0.44787134952\" stroke=\"#555555\" stroke-width=\"0.14929044984\" fill=\"#66cc99\" opacity=\"0.6\" /><circle cx=\"-65.5597276\" cy=\"262.7874382\" r=\"0.44787134952\" stroke=\"#555555\" stroke-width=\"0.14929044984\" fill=\"#66cc99\" opacity=\"0.6\" /><circle cx=\"-65.5104328\" cy=\"262.9132421\" r=\"0.44787134952\" stroke=\"#555555\" stroke-width=\"0.14929044984\" fill=\"#66cc99\" opacity=\"0.6\" /><circle cx=\"-65.4611381\" cy=\"263.0389737\" r=\"0.44787134952\" stroke=\"#555555\" stroke-width=\"0.14929044984\" fill=\"#66cc99\" opacity=\"0.6\" /><circle cx=\"-65.4118677\" cy=\"263.164738\" r=\"0.44787134952\" stroke=\"#555555\" stroke-width=\"0.14929044984\" fill=\"#66cc99\" opacity=\"0.6\" /><circle cx=\"-65.36264849999999\" cy=\"263.2903047\" r=\"0.44787134952\" stroke=\"#555555\" stroke-width=\"0.14929044984\" fill=\"#66cc99\" opacity=\"0.6\" /><circle cx=\"-65.3137895\" cy=\"263.4158453\" r=\"0.44787134952\" stroke=\"#555555\" stroke-width=\"0.14929044984\" fill=\"#66cc99\" opacity=\"0.6\" /><circle cx=\"-65.2648459\" cy=\"263.5411429\" r=\"0.44787134952\" stroke=\"#555555\" stroke-width=\"0.14929044984\" fill=\"#66cc99\" opacity=\"0.6\" /><circle cx=\"-65.2157136\" cy=\"263.6664225\" r=\"0.44787134952\" stroke=\"#555555\" stroke-width=\"0.14929044984\" fill=\"#66cc99\" opacity=\"0.6\" /><circle cx=\"-65.1665217\" cy=\"263.79160299999995\" r=\"0.44787134952\" stroke=\"#555555\" stroke-width=\"0.14929044984\" fill=\"#66cc99\" opacity=\"0.6\" /><circle cx=\"-65.117398\" cy=\"263.9168062\" r=\"0.44787134952\" stroke=\"#555555\" stroke-width=\"0.14929044984\" fill=\"#66cc99\" opacity=\"0.6\" /><circle cx=\"-65.0684053\" cy=\"264.0422309\" r=\"0.44787134952\" stroke=\"#555555\" stroke-width=\"0.14929044984\" fill=\"#66cc99\" opacity=\"0.6\" /><circle cx=\"-65.0193743\" cy=\"264.1675675\" r=\"0.44787134952\" stroke=\"#555555\" stroke-width=\"0.14929044984\" fill=\"#66cc99\" opacity=\"0.6\" /><circle cx=\"-64.9702376\" cy=\"264.2928184\" r=\"0.44787134952\" stroke=\"#555555\" stroke-width=\"0.14929044984\" fill=\"#66cc99\" opacity=\"0.6\" /><circle cx=\"-64.9210806\" cy=\"264.4180114\" r=\"0.44787134952\" stroke=\"#555555\" stroke-width=\"0.14929044984\" fill=\"#66cc99\" opacity=\"0.6\" /><circle cx=\"-64.8720172\" cy=\"264.5436293\" r=\"0.44787134952\" stroke=\"#555555\" stroke-width=\"0.14929044984\" fill=\"#66cc99\" opacity=\"0.6\" /><circle cx=\"-64.82293689999999\" cy=\"264.6692485\" r=\"0.44787134952\" stroke=\"#555555\" stroke-width=\"0.14929044984\" fill=\"#66cc99\" opacity=\"0.6\" /><circle cx=\"-64.7737741\" cy=\"264.7946181\" r=\"0.44787134952\" stroke=\"#555555\" stroke-width=\"0.14929044984\" fill=\"#66cc99\" opacity=\"0.6\" /><circle cx=\"-64.7245642\" cy=\"264.9198315\" r=\"0.44787134952\" stroke=\"#555555\" stroke-width=\"0.14929044984\" fill=\"#66cc99\" opacity=\"0.6\" /><circle cx=\"-64.6753114\" cy=\"265.04492059999995\" r=\"0.44787134952\" stroke=\"#555555\" stroke-width=\"0.14929044984\" fill=\"#66cc99\" opacity=\"0.6\" /><circle cx=\"-64.62612170000001\" cy=\"265.170455\" r=\"0.44787134952\" stroke=\"#555555\" stroke-width=\"0.14929044984\" fill=\"#66cc99\" opacity=\"0.6\" /><circle cx=\"-64.5768307\" cy=\"265.29570060000003\" r=\"0.44787134952\" stroke=\"#555555\" stroke-width=\"0.14929044984\" fill=\"#66cc99\" opacity=\"0.6\" /><circle cx=\"-64.52754279999999\" cy=\"265.4209213\" r=\"0.44787134952\" stroke=\"#555555\" stroke-width=\"0.14929044984\" fill=\"#66cc99\" opacity=\"0.6\" /><circle cx=\"-64.4781897\" cy=\"265.54592310000004\" r=\"0.44787134952\" stroke=\"#555555\" stroke-width=\"0.14929044984\" fill=\"#66cc99\" opacity=\"0.6\" /><circle cx=\"-64.4288103\" cy=\"265.67093140000003\" r=\"0.44787134952\" stroke=\"#555555\" stroke-width=\"0.14929044984\" fill=\"#66cc99\" opacity=\"0.6\" /><circle cx=\"-64.3794707\" cy=\"265.79640730000006\" r=\"0.44787134952\" stroke=\"#555555\" stroke-width=\"0.14929044984\" fill=\"#66cc99\" opacity=\"0.6\" /><circle cx=\"-64.33011189999999\" cy=\"265.921828\" r=\"0.44787134952\" stroke=\"#555555\" stroke-width=\"0.14929044984\" fill=\"#66cc99\" opacity=\"0.6\" /><circle cx=\"-64.28074409999999\" cy=\"266.0469047\" r=\"0.44787134952\" stroke=\"#555555\" stroke-width=\"0.14929044984\" fill=\"#66cc99\" opacity=\"0.6\" /><circle cx=\"-64.2314196\" cy=\"266.1720211\" r=\"0.44787134952\" stroke=\"#555555\" stroke-width=\"0.14929044984\" fill=\"#66cc99\" opacity=\"0.6\" /><circle cx=\"-64.1820406\" cy=\"266.29717430000005\" r=\"0.44787134952\" stroke=\"#555555\" stroke-width=\"0.14929044984\" fill=\"#66cc99\" opacity=\"0.6\" /><circle cx=\"-64.132655\" cy=\"266.4226452\" r=\"0.44787134952\" stroke=\"#555555\" stroke-width=\"0.14929044984\" fill=\"#66cc99\" opacity=\"0.6\" /><circle cx=\"-64.0831802\" cy=\"266.54784920000003\" r=\"0.44787134952\" stroke=\"#555555\" stroke-width=\"0.14929044984\" fill=\"#66cc99\" opacity=\"0.6\" /><circle cx=\"-64.0338584\" cy=\"266.672985\" r=\"0.44787134952\" stroke=\"#555555\" stroke-width=\"0.14929044984\" fill=\"#66cc99\" opacity=\"0.6\" /><circle cx=\"-63.9844466\" cy=\"266.7978542\" r=\"0.44787134952\" stroke=\"#555555\" stroke-width=\"0.14929044984\" fill=\"#66cc99\" opacity=\"0.6\" /><circle cx=\"-63.93527320000001\" cy=\"266.922937\" r=\"0.44787134952\" stroke=\"#555555\" stroke-width=\"0.14929044984\" fill=\"#66cc99\" opacity=\"0.6\" /><circle cx=\"-63.8861442\" cy=\"267.0478837\" r=\"0.44787134952\" stroke=\"#555555\" stroke-width=\"0.14929044984\" fill=\"#66cc99\" opacity=\"0.6\" /><circle cx=\"-63.8370301\" cy=\"267.1730351\" r=\"0.44787134952\" stroke=\"#555555\" stroke-width=\"0.14929044984\" fill=\"#66cc99\" opacity=\"0.6\" /><circle cx=\"-63.7876204\" cy=\"267.2978623\" r=\"0.44787134952\" stroke=\"#555555\" stroke-width=\"0.14929044984\" fill=\"#66cc99\" opacity=\"0.6\" /><circle cx=\"-63.7382788\" cy=\"267.4228937\" r=\"0.44787134952\" stroke=\"#555555\" stroke-width=\"0.14929044984\" fill=\"#66cc99\" opacity=\"0.6\" /><circle cx=\"-63.6889924\" cy=\"267.5478964\" r=\"0.44787134952\" stroke=\"#555555\" stroke-width=\"0.14929044984\" fill=\"#66cc99\" opacity=\"0.6\" /><circle cx=\"-63.6398493\" cy=\"267.673301\" r=\"0.44787134952\" stroke=\"#555555\" stroke-width=\"0.14929044984\" fill=\"#66cc99\" opacity=\"0.6\" /><circle cx=\"-63.5904504\" cy=\"267.7981684\" r=\"0.44787134952\" stroke=\"#555555\" stroke-width=\"0.14929044984\" fill=\"#66cc99\" opacity=\"0.6\" /><circle cx=\"-63.54104720000001\" cy=\"267.9232927\" r=\"0.44787134952\" stroke=\"#555555\" stroke-width=\"0.14929044984\" fill=\"#66cc99\" opacity=\"0.6\" /><circle cx=\"-63.4915336\" cy=\"268.0480727\" r=\"0.44787134952\" stroke=\"#555555\" stroke-width=\"0.14929044984\" fill=\"#66cc99\" opacity=\"0.6\" /><circle cx=\"-63.4423317\" cy=\"268.17365950000004\" r=\"0.44787134952\" stroke=\"#555555\" stroke-width=\"0.14929044984\" fill=\"#66cc99\" opacity=\"0.6\" /><circle cx=\"-63.3929948\" cy=\"268.2988415\" r=\"0.44787134952\" stroke=\"#555555\" stroke-width=\"0.14929044984\" fill=\"#66cc99\" opacity=\"0.6\" /><circle cx=\"-63.3436705\" cy=\"268.4237088\" r=\"0.44787134952\" stroke=\"#555555\" stroke-width=\"0.14929044984\" fill=\"#66cc99\" opacity=\"0.6\" /><circle cx=\"-63.2944458\" cy=\"268.5487112\" r=\"0.44787134952\" stroke=\"#555555\" stroke-width=\"0.14929044984\" fill=\"#66cc99\" opacity=\"0.6\" /><circle cx=\"-63.2452927\" cy=\"268.6739091\" r=\"0.44787134952\" stroke=\"#555555\" stroke-width=\"0.14929044984\" fill=\"#66cc99\" opacity=\"0.6\" /><circle cx=\"-63.1961395\" cy=\"268.7990619\" r=\"0.44787134952\" stroke=\"#555555\" stroke-width=\"0.14929044984\" fill=\"#66cc99\" opacity=\"0.6\" /><circle cx=\"-63.1469603\" cy=\"268.9241374\" r=\"0.44787134952\" stroke=\"#555555\" stroke-width=\"0.14929044984\" fill=\"#66cc99\" opacity=\"0.6\" /><circle cx=\"-63.09733829999999\" cy=\"269.048787\" r=\"0.44787134952\" stroke=\"#555555\" stroke-width=\"0.14929044984\" fill=\"#66cc99\" opacity=\"0.6\" /><circle cx=\"-63.0479946\" cy=\"269.1743723\" r=\"0.44787134952\" stroke=\"#555555\" stroke-width=\"0.14929044984\" fill=\"#66cc99\" opacity=\"0.6\" /><circle cx=\"-62.9986442\" cy=\"269.2994679\" r=\"0.44787134952\" stroke=\"#555555\" stroke-width=\"0.14929044984\" fill=\"#66cc99\" opacity=\"0.6\" /><circle cx=\"-62.9493329\" cy=\"269.42420689999994\" r=\"0.44787134952\" stroke=\"#555555\" stroke-width=\"0.14929044984\" fill=\"#66cc99\" opacity=\"0.6\" /><circle cx=\"-62.9000431\" cy=\"269.5490897\" r=\"0.44787134952\" stroke=\"#555555\" stroke-width=\"0.14929044984\" fill=\"#66cc99\" opacity=\"0.6\" /><circle cx=\"-68.0397766\" cy=\"255.9241635\" r=\"0.44787134952\" stroke=\"#555555\" stroke-width=\"0.14929044984\" fill=\"#66cc99\" opacity=\"0.6\" /><circle cx=\"-67.9904952\" cy=\"256.04982090000004\" r=\"0.44787134952\" stroke=\"#555555\" stroke-width=\"0.14929044984\" fill=\"#66cc99\" opacity=\"0.6\" /><circle cx=\"-67.94104229999999\" cy=\"256.17549\" r=\"0.44787134952\" stroke=\"#555555\" stroke-width=\"0.14929044984\" fill=\"#66cc99\" opacity=\"0.6\" /><circle cx=\"-67.8916677\" cy=\"256.3012193\" r=\"0.44787134952\" stroke=\"#555555\" stroke-width=\"0.14929044984\" fill=\"#66cc99\" opacity=\"0.6\" /><circle cx=\"-67.8424916\" cy=\"256.42679\" r=\"0.44787134952\" stroke=\"#555555\" stroke-width=\"0.14929044984\" fill=\"#66cc99\" opacity=\"0.6\" /><circle cx=\"-67.7933179\" cy=\"256.5523692\" r=\"0.44787134952\" stroke=\"#555555\" stroke-width=\"0.14929044984\" fill=\"#66cc99\" opacity=\"0.6\" /><circle cx=\"-67.7441694\" cy=\"256.6780391\" r=\"0.44787134952\" stroke=\"#555555\" stroke-width=\"0.14929044984\" fill=\"#66cc99\" opacity=\"0.6\" /><circle cx=\"-67.6951058\" cy=\"256.80394440000003\" r=\"0.44787134952\" stroke=\"#555555\" stroke-width=\"0.14929044984\" fill=\"#66cc99\" opacity=\"0.6\" /><circle cx=\"-67.64601429999999\" cy=\"256.9297486\" r=\"0.44787134952\" stroke=\"#555555\" stroke-width=\"0.14929044984\" fill=\"#66cc99\" opacity=\"0.6\" /><circle cx=\"-67.59694250000001\" cy=\"257.0555671\" r=\"0.44787134952\" stroke=\"#555555\" stroke-width=\"0.14929044984\" fill=\"#66cc99\" opacity=\"0.6\" /><circle cx=\"-67.5478312\" cy=\"257.1812803\" r=\"0.44787134952\" stroke=\"#555555\" stroke-width=\"0.14929044984\" fill=\"#66cc99\" opacity=\"0.6\" /><circle cx=\"-67.4988364\" cy=\"257.3072806\" r=\"0.44787134952\" stroke=\"#555555\" stroke-width=\"0.14929044984\" fill=\"#66cc99\" opacity=\"0.6\" /><circle cx=\"-67.44986740000002\" cy=\"257.4333528\" r=\"0.44787134952\" stroke=\"#555555\" stroke-width=\"0.14929044984\" fill=\"#66cc99\" opacity=\"0.6\" /><circle cx=\"-67.400849\" cy=\"257.5591962\" r=\"0.44787134952\" stroke=\"#555555\" stroke-width=\"0.14929044984\" fill=\"#66cc99\" opacity=\"0.6\" /><circle cx=\"-67.35183070000001\" cy=\"257.6849844\" r=\"0.44787134952\" stroke=\"#555555\" stroke-width=\"0.14929044984\" fill=\"#66cc99\" opacity=\"0.6\" /><circle cx=\"-67.3027478\" cy=\"257.8107371\" r=\"0.44787134952\" stroke=\"#555555\" stroke-width=\"0.14929044984\" fill=\"#66cc99\" opacity=\"0.6\" /><circle cx=\"-67.253695\" cy=\"257.9369414\" r=\"0.44787134952\" stroke=\"#555555\" stroke-width=\"0.14929044984\" fill=\"#66cc99\" opacity=\"0.6\" /><circle cx=\"-67.2045535\" cy=\"258.062907\" r=\"0.44787134952\" stroke=\"#555555\" stroke-width=\"0.14929044984\" fill=\"#66cc99\" opacity=\"0.6\" /><circle cx=\"-67.15552509999999\" cy=\"258.18859080000004\" r=\"0.44787134952\" stroke=\"#555555\" stroke-width=\"0.14929044984\" fill=\"#66cc99\" opacity=\"0.6\" /><circle cx=\"-67.106603\" cy=\"258.3144602\" r=\"0.44787134952\" stroke=\"#555555\" stroke-width=\"0.14929044984\" fill=\"#66cc99\" opacity=\"0.6\" /><circle cx=\"-67.05753100000001\" cy=\"258.44003540000006\" r=\"0.44787134952\" stroke=\"#555555\" stroke-width=\"0.14929044984\" fill=\"#66cc99\" opacity=\"0.6\" /><circle cx=\"-67.0085799\" cy=\"258.56605640000004\" r=\"0.44787134952\" stroke=\"#555555\" stroke-width=\"0.14929044984\" fill=\"#66cc99\" opacity=\"0.6\" /><circle cx=\"-66.9595509\" cy=\"258.6918514\" r=\"0.44787134952\" stroke=\"#555555\" stroke-width=\"0.14929044984\" fill=\"#66cc99\" opacity=\"0.6\" /><circle cx=\"-66.9106471\" cy=\"258.817814\" r=\"0.44787134952\" stroke=\"#555555\" stroke-width=\"0.14929044984\" fill=\"#66cc99\" opacity=\"0.6\" /><circle cx=\"-66.86172579999999\" cy=\"258.9437309\" r=\"0.44787134952\" stroke=\"#555555\" stroke-width=\"0.14929044984\" fill=\"#66cc99\" opacity=\"0.6\" /><circle cx=\"-66.8125962\" cy=\"259.0699135\" r=\"0.44787134952\" stroke=\"#555555\" stroke-width=\"0.14929044984\" fill=\"#66cc99\" opacity=\"0.6\" /><circle cx=\"-66.7634535\" cy=\"259.1963816\" r=\"0.44787134952\" stroke=\"#555555\" stroke-width=\"0.14929044984\" fill=\"#66cc99\" opacity=\"0.6\" /><circle cx=\"-66.71427249999999\" cy=\"259.3224207\" r=\"0.44787134952\" stroke=\"#555555\" stroke-width=\"0.14929044984\" fill=\"#66cc99\" opacity=\"0.6\" /><circle cx=\"-66.66527190000001\" cy=\"259.4482166\" r=\"0.44787134952\" stroke=\"#555555\" stroke-width=\"0.14929044984\" fill=\"#66cc99\" opacity=\"0.6\" /><circle cx=\"-66.6163444\" cy=\"259.5742166\" r=\"0.44787134952\" stroke=\"#555555\" stroke-width=\"0.14929044984\" fill=\"#66cc99\" opacity=\"0.6\" /><circle cx=\"-66.56746679999999\" cy=\"259.7005114\" r=\"0.44787134952\" stroke=\"#555555\" stroke-width=\"0.14929044984\" fill=\"#66cc99\" opacity=\"0.6\" /><circle cx=\"-66.51848129999999\" cy=\"259.826521\" r=\"0.44787134952\" stroke=\"#555555\" stroke-width=\"0.14929044984\" fill=\"#66cc99\" opacity=\"0.6\" /><circle cx=\"-66.469509\" cy=\"259.9526236\" r=\"0.44787134952\" stroke=\"#555555\" stroke-width=\"0.14929044984\" fill=\"#66cc99\" opacity=\"0.6\" /><circle cx=\"-66.4204649\" cy=\"260.0785781\" r=\"0.44787134952\" stroke=\"#555555\" stroke-width=\"0.14929044984\" fill=\"#66cc99\" opacity=\"0.6\" /><circle cx=\"-66.3715837\" cy=\"260.20491180000005\" r=\"0.44787134952\" stroke=\"#555555\" stroke-width=\"0.14929044984\" fill=\"#66cc99\" opacity=\"0.6\" /><circle cx=\"-66.3227176\" cy=\"260.3307444\" r=\"0.44787134952\" stroke=\"#555555\" stroke-width=\"0.14929044984\" fill=\"#66cc99\" opacity=\"0.6\" /><circle cx=\"-66.2739296\" cy=\"260.4567961\" r=\"0.44787134952\" stroke=\"#555555\" stroke-width=\"0.14929044984\" fill=\"#66cc99\" opacity=\"0.6\" /><circle cx=\"-66.2249414\" cy=\"260.5824475\" r=\"0.44787134952\" stroke=\"#555555\" stroke-width=\"0.14929044984\" fill=\"#66cc99\" opacity=\"0.6\" /><circle cx=\"-66.1760232\" cy=\"260.7083458\" r=\"0.44787134952\" stroke=\"#555555\" stroke-width=\"0.14929044984\" fill=\"#66cc99\" opacity=\"0.6\" /><circle cx=\"-66.1269104\" cy=\"260.8343872\" r=\"0.44787134952\" stroke=\"#555555\" stroke-width=\"0.14929044984\" fill=\"#66cc99\" opacity=\"0.6\" /><circle cx=\"-66.0773757\" cy=\"260.9602888\" r=\"0.44787134952\" stroke=\"#555555\" stroke-width=\"0.14929044984\" fill=\"#66cc99\" opacity=\"0.6\" /><circle cx=\"-66.02788340000001\" cy=\"261.0863108\" r=\"0.44787134952\" stroke=\"#555555\" stroke-width=\"0.14929044984\" fill=\"#66cc99\" opacity=\"0.6\" /><circle cx=\"-65.9789016\" cy=\"261.2122623\" r=\"0.44787134952\" stroke=\"#555555\" stroke-width=\"0.14929044984\" fill=\"#66cc99\" opacity=\"0.6\" /><circle cx=\"-65.9298097\" cy=\"261.3378654\" r=\"0.44787134952\" stroke=\"#555555\" stroke-width=\"0.14929044984\" fill=\"#66cc99\" opacity=\"0.6\" /><circle cx=\"-65.88059390000001\" cy=\"261.4635056\" r=\"0.44787134952\" stroke=\"#555555\" stroke-width=\"0.14929044984\" fill=\"#66cc99\" opacity=\"0.6\" /><circle cx=\"-65.83149470000001\" cy=\"261.5897028\" r=\"0.44787134952\" stroke=\"#555555\" stroke-width=\"0.14929044984\" fill=\"#66cc99\" opacity=\"0.6\" /><circle cx=\"-65.7822616\" cy=\"261.7153727\" r=\"0.44787134952\" stroke=\"#555555\" stroke-width=\"0.14929044984\" fill=\"#66cc99\" opacity=\"0.6\" /><circle cx=\"-65.7331982\" cy=\"261.8409184\" r=\"0.44787134952\" stroke=\"#555555\" stroke-width=\"0.14929044984\" fill=\"#66cc99\" opacity=\"0.6\" /><circle cx=\"-65.6841488\" cy=\"261.9665051\" r=\"0.44787134952\" stroke=\"#555555\" stroke-width=\"0.14929044984\" fill=\"#66cc99\" opacity=\"0.6\" /><circle cx=\"-65.6350707\" cy=\"262.0924704\" r=\"0.44787134952\" stroke=\"#555555\" stroke-width=\"0.14929044984\" fill=\"#66cc99\" opacity=\"0.6\" /><circle cx=\"-65.5859326\" cy=\"262.2183504\" r=\"0.44787134952\" stroke=\"#555555\" stroke-width=\"0.14929044984\" fill=\"#66cc99\" opacity=\"0.6\" /><circle cx=\"-65.53676999999999\" cy=\"262.3439885\" r=\"0.44787134952\" stroke=\"#555555\" stroke-width=\"0.14929044984\" fill=\"#66cc99\" opacity=\"0.6\" /><circle cx=\"-65.4877697\" cy=\"262.4698538\" r=\"0.44787134952\" stroke=\"#555555\" stroke-width=\"0.14929044984\" fill=\"#66cc99\" opacity=\"0.6\" /><circle cx=\"-65.4386564\" cy=\"262.5954545\" r=\"0.44787134952\" stroke=\"#555555\" stroke-width=\"0.14929044984\" fill=\"#66cc99\" opacity=\"0.6\" /><circle cx=\"-65.3893554\" cy=\"262.72123430000005\" r=\"0.44787134952\" stroke=\"#555555\" stroke-width=\"0.14929044984\" fill=\"#66cc99\" opacity=\"0.6\" /><circle cx=\"-65.3401121\" cy=\"262.847179\" r=\"0.44787134952\" stroke=\"#555555\" stroke-width=\"0.14929044984\" fill=\"#66cc99\" opacity=\"0.6\" /><circle cx=\"-65.2907774\" cy=\"262.9727934\" r=\"0.44787134952\" stroke=\"#555555\" stroke-width=\"0.14929044984\" fill=\"#66cc99\" opacity=\"0.6\" /><circle cx=\"-65.2414931\" cy=\"263.0985131\" r=\"0.44787134952\" stroke=\"#555555\" stroke-width=\"0.14929044984\" fill=\"#66cc99\" opacity=\"0.6\" /><circle cx=\"-65.19226239999999\" cy=\"263.22404480000006\" r=\"0.44787134952\" stroke=\"#555555\" stroke-width=\"0.14929044984\" fill=\"#66cc99\" opacity=\"0.6\" /><circle cx=\"-65.1433497\" cy=\"263.3494288\" r=\"0.44787134952\" stroke=\"#555555\" stroke-width=\"0.14929044984\" fill=\"#66cc99\" opacity=\"0.6\" /><circle cx=\"-65.09443660000001\" cy=\"263.4748131\" r=\"0.44787134952\" stroke=\"#555555\" stroke-width=\"0.14929044984\" fill=\"#66cc99\" opacity=\"0.6\" /><circle cx=\"-65.0452625\" cy=\"263.59997180000005\" r=\"0.44787134952\" stroke=\"#555555\" stroke-width=\"0.14929044984\" fill=\"#66cc99\" opacity=\"0.6\" /><circle cx=\"-64.996113\" cy=\"263.72527230000003\" r=\"0.44787134952\" stroke=\"#555555\" stroke-width=\"0.14929044984\" fill=\"#66cc99\" opacity=\"0.6\" /><circle cx=\"-64.94700300000001\" cy=\"263.850516\" r=\"0.44787134952\" stroke=\"#555555\" stroke-width=\"0.14929044984\" fill=\"#66cc99\" opacity=\"0.6\" /><circle cx=\"-64.8979999\" cy=\"263.9759106\" r=\"0.44787134952\" stroke=\"#555555\" stroke-width=\"0.14929044984\" fill=\"#66cc99\" opacity=\"0.6\" /><circle cx=\"-64.8489853\" cy=\"264.1012943\" r=\"0.44787134952\" stroke=\"#555555\" stroke-width=\"0.14929044984\" fill=\"#66cc99\" opacity=\"0.6\" /><circle cx=\"-64.7998292\" cy=\"264.2264894\" r=\"0.44787134952\" stroke=\"#555555\" stroke-width=\"0.14929044984\" fill=\"#66cc99\" opacity=\"0.6\" /><circle cx=\"-64.7506421\" cy=\"264.35159730000004\" r=\"0.44787134952\" stroke=\"#555555\" stroke-width=\"0.14929044984\" fill=\"#66cc99\" opacity=\"0.6\" /><circle cx=\"-64.701525\" cy=\"264.4770616\" r=\"0.44787134952\" stroke=\"#555555\" stroke-width=\"0.14929044984\" fill=\"#66cc99\" opacity=\"0.6\" /><circle cx=\"-64.6524809\" cy=\"264.6027867\" r=\"0.44787134952\" stroke=\"#555555\" stroke-width=\"0.14929044984\" fill=\"#66cc99\" opacity=\"0.6\" /><circle cx=\"-64.6033374\" cy=\"264.7282162\" r=\"0.44787134952\" stroke=\"#555555\" stroke-width=\"0.14929044984\" fill=\"#66cc99\" opacity=\"0.6\" /><circle cx=\"-64.5541265\" cy=\"264.8534273\" r=\"0.44787134952\" stroke=\"#555555\" stroke-width=\"0.14929044984\" fill=\"#66cc99\" opacity=\"0.6\" /><circle cx=\"-64.50483320000001\" cy=\"264.9784037\" r=\"0.44787134952\" stroke=\"#555555\" stroke-width=\"0.14929044984\" fill=\"#66cc99\" opacity=\"0.6\" /><circle cx=\"-64.4555962\" cy=\"265.1038017\" r=\"0.44787134952\" stroke=\"#555555\" stroke-width=\"0.14929044984\" fill=\"#66cc99\" opacity=\"0.6\" /><circle cx=\"-64.406328\" cy=\"265.2291186\" r=\"0.44787134952\" stroke=\"#555555\" stroke-width=\"0.14929044984\" fill=\"#66cc99\" opacity=\"0.6\" /><circle cx=\"-64.3570147\" cy=\"265.3542694\" r=\"0.44787134952\" stroke=\"#555555\" stroke-width=\"0.14929044984\" fill=\"#66cc99\" opacity=\"0.6\" /><circle cx=\"-64.3076995\" cy=\"265.479386\" r=\"0.44787134952\" stroke=\"#555555\" stroke-width=\"0.14929044984\" fill=\"#66cc99\" opacity=\"0.6\" /><circle cx=\"-64.2583229\" cy=\"265.6044092\" r=\"0.44787134952\" stroke=\"#555555\" stroke-width=\"0.14929044984\" fill=\"#66cc99\" opacity=\"0.6\" /><circle cx=\"-64.2089019\" cy=\"265.72965209999995\" r=\"0.44787134952\" stroke=\"#555555\" stroke-width=\"0.14929044984\" fill=\"#66cc99\" opacity=\"0.6\" /><circle cx=\"-64.1595294\" cy=\"265.8550362\" r=\"0.44787134952\" stroke=\"#555555\" stroke-width=\"0.14929044984\" fill=\"#66cc99\" opacity=\"0.6\" /><circle cx=\"-64.110209\" cy=\"265.9802578\" r=\"0.44787134952\" stroke=\"#555555\" stroke-width=\"0.14929044984\" fill=\"#66cc99\" opacity=\"0.6\" /><circle cx=\"-64.06093440000001\" cy=\"266.1055253\" r=\"0.44787134952\" stroke=\"#555555\" stroke-width=\"0.14929044984\" fill=\"#66cc99\" opacity=\"0.6\" /><circle cx=\"-64.0115305\" cy=\"266.2306132\" r=\"0.44787134952\" stroke=\"#555555\" stroke-width=\"0.14929044984\" fill=\"#66cc99\" opacity=\"0.6\" /><circle cx=\"-63.9620988\" cy=\"266.3559522\" r=\"0.44787134952\" stroke=\"#555555\" stroke-width=\"0.14929044984\" fill=\"#66cc99\" opacity=\"0.6\" /><circle cx=\"-63.9126807\" cy=\"266.4813281\" r=\"0.44787134952\" stroke=\"#555555\" stroke-width=\"0.14929044984\" fill=\"#66cc99\" opacity=\"0.6\" /><circle cx=\"-63.86334960000001\" cy=\"266.60643880000003\" r=\"0.44787134952\" stroke=\"#555555\" stroke-width=\"0.14929044984\" fill=\"#66cc99\" opacity=\"0.6\" /><circle cx=\"-63.8138909\" cy=\"266.7311795\" r=\"0.44787134952\" stroke=\"#555555\" stroke-width=\"0.14929044984\" fill=\"#66cc99\" opacity=\"0.6\" /><circle cx=\"-63.7647066\" cy=\"266.8562361\" r=\"0.44787134952\" stroke=\"#555555\" stroke-width=\"0.14929044984\" fill=\"#66cc99\" opacity=\"0.6\" /><circle cx=\"-63.7155865\" cy=\"266.9812182\" r=\"0.44787134952\" stroke=\"#555555\" stroke-width=\"0.14929044984\" fill=\"#66cc99\" opacity=\"0.6\" /><circle cx=\"-63.6664478\" cy=\"267.1063023\" r=\"0.44787134952\" stroke=\"#555555\" stroke-width=\"0.14929044984\" fill=\"#66cc99\" opacity=\"0.6\" /><circle cx=\"-63.6170956\" cy=\"267.23130469999995\" r=\"0.44787134952\" stroke=\"#555555\" stroke-width=\"0.14929044984\" fill=\"#66cc99\" opacity=\"0.6\" /><circle cx=\"-63.56771679999999\" cy=\"267.3562306\" r=\"0.44787134952\" stroke=\"#555555\" stroke-width=\"0.14929044984\" fill=\"#66cc99\" opacity=\"0.6\" /><circle cx=\"-63.518446\" cy=\"267.48128790000004\" r=\"0.44787134952\" stroke=\"#555555\" stroke-width=\"0.14929044984\" fill=\"#66cc99\" opacity=\"0.6\" /><circle cx=\"-63.4692828\" cy=\"267.6066352\" r=\"0.44787134952\" stroke=\"#555555\" stroke-width=\"0.14929044984\" fill=\"#66cc99\" opacity=\"0.6\" /><circle cx=\"-63.4198818\" cy=\"267.731507\" r=\"0.44787134952\" stroke=\"#555555\" stroke-width=\"0.14929044984\" fill=\"#66cc99\" opacity=\"0.6\" /><circle cx=\"-63.3704449\" cy=\"267.85653540000004\" r=\"0.44787134952\" stroke=\"#555555\" stroke-width=\"0.14929044984\" fill=\"#66cc99\" opacity=\"0.6\" /><circle cx=\"-63.32103860000001\" cy=\"267.98164130000004\" r=\"0.44787134952\" stroke=\"#555555\" stroke-width=\"0.14929044984\" fill=\"#66cc99\" opacity=\"0.6\" /><circle cx=\"-63.27169720000001\" cy=\"268.10681800000003\" r=\"0.44787134952\" stroke=\"#555555\" stroke-width=\"0.14929044984\" fill=\"#66cc99\" opacity=\"0.6\" /><circle cx=\"-63.22239989999999\" cy=\"268.2321251\" r=\"0.44787134952\" stroke=\"#555555\" stroke-width=\"0.14929044984\" fill=\"#66cc99\" opacity=\"0.6\" /><circle cx=\"-63.17320890000001\" cy=\"268.3573945\" r=\"0.44787134952\" stroke=\"#555555\" stroke-width=\"0.14929044984\" fill=\"#66cc99\" opacity=\"0.6\" /><circle cx=\"-63.1239672\" cy=\"268.4823513\" r=\"0.44787134952\" stroke=\"#555555\" stroke-width=\"0.14929044984\" fill=\"#66cc99\" opacity=\"0.6\" /><circle cx=\"-63.0747824\" cy=\"268.607457\" r=\"0.44787134952\" stroke=\"#555555\" stroke-width=\"0.14929044984\" fill=\"#66cc99\" opacity=\"0.6\" /><circle cx=\"-63.02541120000001\" cy=\"268.7319704\" r=\"0.44787134952\" stroke=\"#555555\" stroke-width=\"0.14929044984\" fill=\"#66cc99\" opacity=\"0.6\" /><circle cx=\"-62.9763879\" cy=\"268.8575119\" r=\"0.44787134952\" stroke=\"#555555\" stroke-width=\"0.14929044984\" fill=\"#66cc99\" opacity=\"0.6\" /><circle cx=\"-62.92696120000001\" cy=\"268.9827548\" r=\"0.44787134952\" stroke=\"#555555\" stroke-width=\"0.14929044984\" fill=\"#66cc99\" opacity=\"0.6\" /><circle cx=\"-62.877447\" cy=\"269.1078316\" r=\"0.44787134952\" stroke=\"#555555\" stroke-width=\"0.14929044984\" fill=\"#66cc99\" opacity=\"0.6\" /><circle cx=\"-62.82804720000001\" cy=\"269.23278460000006\" r=\"0.44787134952\" stroke=\"#555555\" stroke-width=\"0.14929044984\" fill=\"#66cc99\" opacity=\"0.6\" /><circle cx=\"-62.77869079999999\" cy=\"269.3573983\" r=\"0.44787134952\" stroke=\"#555555\" stroke-width=\"0.14929044984\" fill=\"#66cc99\" opacity=\"0.6\" /><circle cx=\"-62.7295091\" cy=\"269.4826077\" r=\"0.44787134952\" stroke=\"#555555\" stroke-width=\"0.14929044984\" fill=\"#66cc99\" opacity=\"0.6\" /><circle cx=\"-67.8693185\" cy=\"255.8583807\" r=\"0.44787134952\" stroke=\"#555555\" stroke-width=\"0.14929044984\" fill=\"#66cc99\" opacity=\"0.6\" /><circle cx=\"-67.82003370000001\" cy=\"255.9840242\" r=\"0.44787134952\" stroke=\"#555555\" stroke-width=\"0.14929044984\" fill=\"#66cc99\" opacity=\"0.6\" /><circle cx=\"-67.7705818\" cy=\"256.1096927\" r=\"0.44787134952\" stroke=\"#555555\" stroke-width=\"0.14929044984\" fill=\"#66cc99\" opacity=\"0.6\" /><circle cx=\"-67.721192\" cy=\"256.2353769\" r=\"0.44787134952\" stroke=\"#555555\" stroke-width=\"0.14929044984\" fill=\"#66cc99\" opacity=\"0.6\" /><circle cx=\"-67.6719855\" cy=\"256.3608636\" r=\"0.44787134952\" stroke=\"#555555\" stroke-width=\"0.14929044984\" fill=\"#66cc99\" opacity=\"0.6\" /><circle cx=\"-67.6228822\" cy=\"256.4866247\" r=\"0.44787134952\" stroke=\"#555555\" stroke-width=\"0.14929044984\" fill=\"#66cc99\" opacity=\"0.6\" /><circle cx=\"-67.57379209999999\" cy=\"256.6124449\" r=\"0.44787134952\" stroke=\"#555555\" stroke-width=\"0.14929044984\" fill=\"#66cc99\" opacity=\"0.6\" /><circle cx=\"-67.5246874\" cy=\"256.7382337\" r=\"0.44787134952\" stroke=\"#555555\" stroke-width=\"0.14929044984\" fill=\"#66cc99\" opacity=\"0.6\" /><circle cx=\"-67.47554670000001\" cy=\"256.8639013\" r=\"0.44787134952\" stroke=\"#555555\" stroke-width=\"0.14929044984\" fill=\"#66cc99\" opacity=\"0.6\" /><circle cx=\"-67.42649809999999\" cy=\"256.9897742\" r=\"0.44787134952\" stroke=\"#555555\" stroke-width=\"0.14929044984\" fill=\"#66cc99\" opacity=\"0.6\" /><circle cx=\"-67.37751690000002\" cy=\"257.11582769999995\" r=\"0.44787134952\" stroke=\"#555555\" stroke-width=\"0.14929044984\" fill=\"#66cc99\" opacity=\"0.6\" /><circle cx=\"-67.32847220000001\" cy=\"257.2416868\" r=\"0.44787134952\" stroke=\"#555555\" stroke-width=\"0.14929044984\" fill=\"#66cc99\" opacity=\"0.6\" /><circle cx=\"-67.27944980000001\" cy=\"257.3676071\" r=\"0.44787134952\" stroke=\"#555555\" stroke-width=\"0.14929044984\" fill=\"#66cc99\" opacity=\"0.6\" /><circle cx=\"-67.2304208\" cy=\"257.49341430000004\" r=\"0.44787134952\" stroke=\"#555555\" stroke-width=\"0.14929044984\" fill=\"#66cc99\" opacity=\"0.6\" /><circle cx=\"-67.1814707\" cy=\"257.6193761\" r=\"0.44787134952\" stroke=\"#555555\" stroke-width=\"0.14929044984\" fill=\"#66cc99\" opacity=\"0.6\" /><circle cx=\"-67.1324312\" cy=\"257.7452383\" r=\"0.44787134952\" stroke=\"#555555\" stroke-width=\"0.14929044984\" fill=\"#66cc99\" opacity=\"0.6\" /><circle cx=\"-67.0832834\" cy=\"257.871177\" r=\"0.44787134952\" stroke=\"#555555\" stroke-width=\"0.14929044984\" fill=\"#66cc99\" opacity=\"0.6\" /><circle cx=\"-67.0341657\" cy=\"257.9971984\" r=\"0.44787134952\" stroke=\"#555555\" stroke-width=\"0.14929044984\" fill=\"#66cc99\" opacity=\"0.6\" /><circle cx=\"-66.9851418\" cy=\"258.1228866\" r=\"0.44787134952\" stroke=\"#555555\" stroke-width=\"0.14929044984\" fill=\"#66cc99\" opacity=\"0.6\" /><circle cx=\"-66.9362206\" cy=\"258.2487459\" r=\"0.44787134952\" stroke=\"#555555\" stroke-width=\"0.14929044984\" fill=\"#66cc99\" opacity=\"0.6\" /><circle cx=\"-66.8872491\" cy=\"258.3745846\" r=\"0.44787134952\" stroke=\"#555555\" stroke-width=\"0.14929044984\" fill=\"#66cc99\" opacity=\"0.6\" /><circle cx=\"-66.8382245\" cy=\"258.50039580000004\" r=\"0.44787134952\" stroke=\"#555555\" stroke-width=\"0.14929044984\" fill=\"#66cc99\" opacity=\"0.6\" /><circle cx=\"-66.7892365\" cy=\"258.6262921\" r=\"0.44787134952\" stroke=\"#555555\" stroke-width=\"0.14929044984\" fill=\"#66cc99\" opacity=\"0.6\" /><circle cx=\"-66.7402959\" cy=\"258.7521433\" r=\"0.44787134952\" stroke=\"#555555\" stroke-width=\"0.14929044984\" fill=\"#66cc99\" opacity=\"0.6\" /><circle cx=\"-66.6914216\" cy=\"258.8781752\" r=\"0.44787134952\" stroke=\"#555555\" stroke-width=\"0.14929044984\" fill=\"#66cc99\" opacity=\"0.6\" /><circle cx=\"-66.64228539999999\" cy=\"259.0043294\" r=\"0.44787134952\" stroke=\"#555555\" stroke-width=\"0.14929044984\" fill=\"#66cc99\" opacity=\"0.6\" /><circle cx=\"-66.5930293\" cy=\"259.1304777\" r=\"0.44787134952\" stroke=\"#555555\" stroke-width=\"0.14929044984\" fill=\"#66cc99\" opacity=\"0.6\" /><circle cx=\"-66.54392179999999\" cy=\"259.2567062\" r=\"0.44787134952\" stroke=\"#555555\" stroke-width=\"0.14929044984\" fill=\"#66cc99\" opacity=\"0.6\" /><circle cx=\"-66.4950535\" cy=\"259.3828495\" r=\"0.44787134952\" stroke=\"#555555\" stroke-width=\"0.14929044984\" fill=\"#66cc99\" opacity=\"0.6\" /><circle cx=\"-66.44606529999999\" cy=\"259.5086728\" r=\"0.44787134952\" stroke=\"#555555\" stroke-width=\"0.14929044984\" fill=\"#66cc99\" opacity=\"0.6\" /><circle cx=\"-66.3970973\" cy=\"259.6347082\" r=\"0.44787134952\" stroke=\"#555555\" stroke-width=\"0.14929044984\" fill=\"#66cc99\" opacity=\"0.6\" /><circle cx=\"-66.3481246\" cy=\"259.7607427\" r=\"0.44787134952\" stroke=\"#555555\" stroke-width=\"0.14929044984\" fill=\"#66cc99\" opacity=\"0.6\" /><circle cx=\"-66.2992322\" cy=\"259.8870499\" r=\"0.44787134952\" stroke=\"#555555\" stroke-width=\"0.14929044984\" fill=\"#66cc99\" opacity=\"0.6\" /><circle cx=\"-66.25027270000001\" cy=\"260.0132248\" r=\"0.44787134952\" stroke=\"#555555\" stroke-width=\"0.14929044984\" fill=\"#66cc99\" opacity=\"0.6\" /><circle cx=\"-66.2012881\" cy=\"260.13926180000004\" r=\"0.44787134952\" stroke=\"#555555\" stroke-width=\"0.14929044984\" fill=\"#66cc99\" opacity=\"0.6\" /><circle cx=\"-66.1523181\" cy=\"260.2648036\" r=\"0.44787134952\" stroke=\"#555555\" stroke-width=\"0.14929044984\" fill=\"#66cc99\" opacity=\"0.6\" /><circle cx=\"-66.1035524\" cy=\"260.390902\" r=\"0.44787134952\" stroke=\"#555555\" stroke-width=\"0.14929044984\" fill=\"#66cc99\" opacity=\"0.6\" /><circle cx=\"-66.0546858\" cy=\"260.516877\" r=\"0.44787134952\" stroke=\"#555555\" stroke-width=\"0.14929044984\" fill=\"#66cc99\" opacity=\"0.6\" /><circle cx=\"-66.005849\" cy=\"260.6429843\" r=\"0.44787134952\" stroke=\"#555555\" stroke-width=\"0.14929044984\" fill=\"#66cc99\" opacity=\"0.6\" /><circle cx=\"-65.9565928\" cy=\"260.7686205\" r=\"0.44787134952\" stroke=\"#555555\" stroke-width=\"0.14929044984\" fill=\"#66cc99\" opacity=\"0.6\" /><circle cx=\"-65.90708760000001\" cy=\"260.8945923\" r=\"0.44787134952\" stroke=\"#555555\" stroke-width=\"0.14929044984\" fill=\"#66cc99\" opacity=\"0.6\" /><circle cx=\"-65.8575503\" cy=\"261.02047880000003\" r=\"0.44787134952\" stroke=\"#555555\" stroke-width=\"0.14929044984\" fill=\"#66cc99\" opacity=\"0.6\" /><circle cx=\"-65.8084165\" cy=\"261.146001\" r=\"0.44787134952\" stroke=\"#555555\" stroke-width=\"0.14929044984\" fill=\"#66cc99\" opacity=\"0.6\" /><circle cx=\"-65.7594787\" cy=\"261.2720182\" r=\"0.44787134952\" stroke=\"#555555\" stroke-width=\"0.14929044984\" fill=\"#66cc99\" opacity=\"0.6\" /><circle cx=\"-65.71031210000001\" cy=\"261.3977863\" r=\"0.44787134952\" stroke=\"#555555\" stroke-width=\"0.14929044984\" fill=\"#66cc99\" opacity=\"0.6\" /><circle cx=\"-65.66103570000001\" cy=\"261.5234809\" r=\"0.44787134952\" stroke=\"#555555\" stroke-width=\"0.14929044984\" fill=\"#66cc99\" opacity=\"0.6\" /><circle cx=\"-65.6118319\" cy=\"261.64922340000004\" r=\"0.44787134952\" stroke=\"#555555\" stroke-width=\"0.14929044984\" fill=\"#66cc99\" opacity=\"0.6\" /><circle cx=\"-65.5628775\" cy=\"261.775062\" r=\"0.44787134952\" stroke=\"#555555\" stroke-width=\"0.14929044984\" fill=\"#66cc99\" opacity=\"0.6\" /><circle cx=\"-65.5139069\" cy=\"261.9008585\" r=\"0.44787134952\" stroke=\"#555555\" stroke-width=\"0.14929044984\" fill=\"#66cc99\" opacity=\"0.6\" /><circle cx=\"-65.4646909\" cy=\"262.0264337\" r=\"0.44787134952\" stroke=\"#555555\" stroke-width=\"0.14929044984\" fill=\"#66cc99\" opacity=\"0.6\" /><circle cx=\"-65.41559290000001\" cy=\"262.15241569999995\" r=\"0.44787134952\" stroke=\"#555555\" stroke-width=\"0.14929044984\" fill=\"#66cc99\" opacity=\"0.6\" /><circle cx=\"-65.3664596\" cy=\"262.2781299\" r=\"0.44787134952\" stroke=\"#555555\" stroke-width=\"0.14929044984\" fill=\"#66cc99\" opacity=\"0.6\" /><circle cx=\"-65.31735189999999\" cy=\"262.4036889\" r=\"0.44787134952\" stroke=\"#555555\" stroke-width=\"0.14929044984\" fill=\"#66cc99\" opacity=\"0.6\" /><circle cx=\"-65.2683061\" cy=\"262.5294711\" r=\"0.44787134952\" stroke=\"#555555\" stroke-width=\"0.14929044984\" fill=\"#66cc99\" opacity=\"0.6\" /><circle cx=\"-65.2189942\" cy=\"262.6552169\" r=\"0.44787134952\" stroke=\"#555555\" stroke-width=\"0.14929044984\" fill=\"#66cc99\" opacity=\"0.6\" /><circle cx=\"-65.1696799\" cy=\"262.7809579\" r=\"0.44787134952\" stroke=\"#555555\" stroke-width=\"0.14929044984\" fill=\"#66cc99\" opacity=\"0.6\" /><circle cx=\"-65.1203756\" cy=\"262.906655\" r=\"0.44787134952\" stroke=\"#555555\" stroke-width=\"0.14929044984\" fill=\"#66cc99\" opacity=\"0.6\" /><circle cx=\"-65.07103190000001\" cy=\"263.03220550000003\" r=\"0.44787134952\" stroke=\"#555555\" stroke-width=\"0.14929044984\" fill=\"#66cc99\" opacity=\"0.6\" /><circle cx=\"-65.0218136\" cy=\"263.1577697\" r=\"0.44787134952\" stroke=\"#555555\" stroke-width=\"0.14929044984\" fill=\"#66cc99\" opacity=\"0.6\" /><circle cx=\"-64.9729043\" cy=\"263.2831617\" r=\"0.44787134952\" stroke=\"#555555\" stroke-width=\"0.14929044984\" fill=\"#66cc99\" opacity=\"0.6\" /><circle cx=\"-64.9240145\" cy=\"263.4086095\" r=\"0.44787134952\" stroke=\"#555555\" stroke-width=\"0.14929044984\" fill=\"#66cc99\" opacity=\"0.6\" /><circle cx=\"-64.8748589\" cy=\"263.5338199\" r=\"0.44787134952\" stroke=\"#555555\" stroke-width=\"0.14929044984\" fill=\"#66cc99\" opacity=\"0.6\" /><circle cx=\"-64.82569989999999\" cy=\"263.6590912\" r=\"0.44787134952\" stroke=\"#555555\" stroke-width=\"0.14929044984\" fill=\"#66cc99\" opacity=\"0.6\" /><circle cx=\"-64.7765518\" cy=\"263.7842295\" r=\"0.44787134952\" stroke=\"#555555\" stroke-width=\"0.14929044984\" fill=\"#66cc99\" opacity=\"0.6\" /><circle cx=\"-64.7275618\" cy=\"263.9096599\" r=\"0.44787134952\" stroke=\"#555555\" stroke-width=\"0.14929044984\" fill=\"#66cc99\" opacity=\"0.6\" /><circle cx=\"-64.6784842\" cy=\"264.0348676\" r=\"0.44787134952\" stroke=\"#555555\" stroke-width=\"0.14929044984\" fill=\"#66cc99\" opacity=\"0.6\" /><circle cx=\"-64.62932710000001\" cy=\"264.1600604\" r=\"0.44787134952\" stroke=\"#555555\" stroke-width=\"0.14929044984\" fill=\"#66cc99\" opacity=\"0.6\" /><circle cx=\"-64.5801519\" cy=\"264.2852041\" r=\"0.44787134952\" stroke=\"#555555\" stroke-width=\"0.14929044984\" fill=\"#66cc99\" opacity=\"0.6\" /><circle cx=\"-64.5310457\" cy=\"264.4107017\" r=\"0.44787134952\" stroke=\"#555555\" stroke-width=\"0.14929044984\" fill=\"#66cc99\" opacity=\"0.6\" /><circle cx=\"-64.481996\" cy=\"264.53641170000003\" r=\"0.44787134952\" stroke=\"#555555\" stroke-width=\"0.14929044984\" fill=\"#66cc99\" opacity=\"0.6\" /><circle cx=\"-64.4328201\" cy=\"264.6617529\" r=\"0.44787134952\" stroke=\"#555555\" stroke-width=\"0.14929044984\" fill=\"#66cc99\" opacity=\"0.6\" /><circle cx=\"-64.383596\" cy=\"264.7869276\" r=\"0.44787134952\" stroke=\"#555555\" stroke-width=\"0.14929044984\" fill=\"#66cc99\" opacity=\"0.6\" /><circle cx=\"-64.3343166\" cy=\"264.9119483\" r=\"0.44787134952\" stroke=\"#555555\" stroke-width=\"0.14929044984\" fill=\"#66cc99\" opacity=\"0.6\" /><circle cx=\"-64.28506329999999\" cy=\"265.0373027\" r=\"0.44787134952\" stroke=\"#555555\" stroke-width=\"0.14929044984\" fill=\"#66cc99\" opacity=\"0.6\" /><circle cx=\"-64.2357791\" cy=\"265.1625786\" r=\"0.44787134952\" stroke=\"#555555\" stroke-width=\"0.14929044984\" fill=\"#66cc99\" opacity=\"0.6\" /><circle cx=\"-64.18645740000001\" cy=\"265.28771040000004\" r=\"0.44787134952\" stroke=\"#555555\" stroke-width=\"0.14929044984\" fill=\"#66cc99\" opacity=\"0.6\" /><circle cx=\"-64.13713179999999\" cy=\"265.4128008\" r=\"0.44787134952\" stroke=\"#555555\" stroke-width=\"0.14929044984\" fill=\"#66cc99\" opacity=\"0.6\" /><circle cx=\"-64.0877861\" cy=\"265.5379172\" r=\"0.44787134952\" stroke=\"#555555\" stroke-width=\"0.14929044984\" fill=\"#66cc99\" opacity=\"0.6\" /><circle cx=\"-64.038436\" cy=\"265.6633675\" r=\"0.44787134952\" stroke=\"#555555\" stroke-width=\"0.14929044984\" fill=\"#66cc99\" opacity=\"0.6\" /><circle cx=\"-63.98903620000001\" cy=\"265.7886782\" r=\"0.44787134952\" stroke=\"#555555\" stroke-width=\"0.14929044984\" fill=\"#66cc99\" opacity=\"0.6\" /><circle cx=\"-63.93973149999999\" cy=\"265.9139491\" r=\"0.44787134952\" stroke=\"#555555\" stroke-width=\"0.14929044984\" fill=\"#66cc99\" opacity=\"0.6\" /><circle cx=\"-63.8903405\" cy=\"266.03889\" r=\"0.44787134952\" stroke=\"#555555\" stroke-width=\"0.14929044984\" fill=\"#66cc99\" opacity=\"0.6\" /><circle cx=\"-63.8410298\" cy=\"266.1642501\" r=\"0.44787134952\" stroke=\"#555555\" stroke-width=\"0.14929044984\" fill=\"#66cc99\" opacity=\"0.6\" /><circle cx=\"-63.7916086\" cy=\"266.2896237\" r=\"0.44787134952\" stroke=\"#555555\" stroke-width=\"0.14929044984\" fill=\"#66cc99\" opacity=\"0.6\" /><circle cx=\"-63.742072\" cy=\"266.4146665\" r=\"0.44787134952\" stroke=\"#555555\" stroke-width=\"0.14929044984\" fill=\"#66cc99\" opacity=\"0.6\" /><circle cx=\"-63.6926971\" cy=\"266.5396551\" r=\"0.44787134952\" stroke=\"#555555\" stroke-width=\"0.14929044984\" fill=\"#66cc99\" opacity=\"0.6\" /><circle cx=\"-63.64326750000001\" cy=\"266.6644887\" r=\"0.44787134952\" stroke=\"#555555\" stroke-width=\"0.14929044984\" fill=\"#66cc99\" opacity=\"0.6\" /><circle cx=\"-63.5940591\" cy=\"266.7894821\" r=\"0.44787134952\" stroke=\"#555555\" stroke-width=\"0.14929044984\" fill=\"#66cc99\" opacity=\"0.6\" /><circle cx=\"-63.5450434\" cy=\"266.9147706\" r=\"0.44787134952\" stroke=\"#555555\" stroke-width=\"0.14929044984\" fill=\"#66cc99\" opacity=\"0.6\" /><circle cx=\"-63.4959098\" cy=\"267.0398749\" r=\"0.44787134952\" stroke=\"#555555\" stroke-width=\"0.14929044984\" fill=\"#66cc99\" opacity=\"0.6\" /><circle cx=\"-63.4464832\" cy=\"267.1646681\" r=\"0.44787134952\" stroke=\"#555555\" stroke-width=\"0.14929044984\" fill=\"#66cc99\" opacity=\"0.6\" /><circle cx=\"-63.3970988\" cy=\"267.2895829\" r=\"0.44787134952\" stroke=\"#555555\" stroke-width=\"0.14929044984\" fill=\"#66cc99\" opacity=\"0.6\" /><circle cx=\"-63.3478697\" cy=\"267.4147674\" r=\"0.44787134952\" stroke=\"#555555\" stroke-width=\"0.14929044984\" fill=\"#66cc99\" opacity=\"0.6\" /><circle cx=\"-63.2986424\" cy=\"267.5399335\" r=\"0.44787134952\" stroke=\"#555555\" stroke-width=\"0.14929044984\" fill=\"#66cc99\" opacity=\"0.6\" /><circle cx=\"-63.2493899\" cy=\"267.6652416\" r=\"0.44787134952\" stroke=\"#555555\" stroke-width=\"0.14929044984\" fill=\"#66cc99\" opacity=\"0.6\" /><circle cx=\"-63.1998947\" cy=\"267.79010750000003\" r=\"0.44787134952\" stroke=\"#555555\" stroke-width=\"0.14929044984\" fill=\"#66cc99\" opacity=\"0.6\" /><circle cx=\"-63.15042310000001\" cy=\"267.9150295\" r=\"0.44787134952\" stroke=\"#555555\" stroke-width=\"0.14929044984\" fill=\"#66cc99\" opacity=\"0.6\" /><circle cx=\"-63.1011187\" cy=\"268.0403212\" r=\"0.44787134952\" stroke=\"#555555\" stroke-width=\"0.14929044984\" fill=\"#66cc99\" opacity=\"0.6\" /><circle cx=\"-63.051864\" cy=\"268.1657567\" r=\"0.44787134952\" stroke=\"#555555\" stroke-width=\"0.14929044984\" fill=\"#66cc99\" opacity=\"0.6\" /><circle cx=\"-63.0025823\" cy=\"268.29076580000003\" r=\"0.44787134952\" stroke=\"#555555\" stroke-width=\"0.14929044984\" fill=\"#66cc99\" opacity=\"0.6\" /><circle cx=\"-62.9532983\" cy=\"268.4156056\" r=\"0.44787134952\" stroke=\"#555555\" stroke-width=\"0.14929044984\" fill=\"#66cc99\" opacity=\"0.6\" /><circle cx=\"-62.9041598\" cy=\"268.5408478\" r=\"0.44787134952\" stroke=\"#555555\" stroke-width=\"0.14929044984\" fill=\"#66cc99\" opacity=\"0.6\" /><circle cx=\"-62.8550051\" cy=\"268.6660042\" r=\"0.44787134952\" stroke=\"#555555\" stroke-width=\"0.14929044984\" fill=\"#66cc99\" opacity=\"0.6\" /><circle cx=\"-62.8057561\" cy=\"268.7908886\" r=\"0.44787134952\" stroke=\"#555555\" stroke-width=\"0.14929044984\" fill=\"#66cc99\" opacity=\"0.6\" /><circle cx=\"-62.7562995\" cy=\"268.916048\" r=\"0.44787134952\" stroke=\"#555555\" stroke-width=\"0.14929044984\" fill=\"#66cc99\" opacity=\"0.6\" /><circle cx=\"-62.7068301\" cy=\"269.041261\" r=\"0.44787134952\" stroke=\"#555555\" stroke-width=\"0.14929044984\" fill=\"#66cc99\" opacity=\"0.6\" /><circle cx=\"-62.6575101\" cy=\"269.1664521\" r=\"0.44787134952\" stroke=\"#555555\" stroke-width=\"0.14929044984\" fill=\"#66cc99\" opacity=\"0.6\" /><circle cx=\"-62.60816479999999\" cy=\"269.2911089\" r=\"0.44787134952\" stroke=\"#555555\" stroke-width=\"0.14929044984\" fill=\"#66cc99\" opacity=\"0.6\" /><circle cx=\"-62.5588272\" cy=\"269.4158643\" r=\"0.44787134952\" stroke=\"#555555\" stroke-width=\"0.14929044984\" fill=\"#66cc99\" opacity=\"0.6\" /><circle cx=\"-67.69881540000002\" cy=\"255.79257630000004\" r=\"0.44787134952\" stroke=\"#555555\" stroke-width=\"0.14929044984\" fill=\"#66cc99\" opacity=\"0.6\" /><circle cx=\"-67.6495618\" cy=\"255.9182957\" r=\"0.44787134952\" stroke=\"#555555\" stroke-width=\"0.14929044984\" fill=\"#66cc99\" opacity=\"0.6\" /><circle cx=\"-67.6000533\" cy=\"256.0438146\" r=\"0.44787134952\" stroke=\"#555555\" stroke-width=\"0.14929044984\" fill=\"#66cc99\" opacity=\"0.6\" /><circle cx=\"-67.5507085\" cy=\"256.169611\" r=\"0.44787134952\" stroke=\"#555555\" stroke-width=\"0.14929044984\" fill=\"#66cc99\" opacity=\"0.6\" /><circle cx=\"-67.50161659999999\" cy=\"256.295392\" r=\"0.44787134952\" stroke=\"#555555\" stroke-width=\"0.14929044984\" fill=\"#66cc99\" opacity=\"0.6\" /><circle cx=\"-67.4524615\" cy=\"256.4210117\" r=\"0.44787134952\" stroke=\"#555555\" stroke-width=\"0.14929044984\" fill=\"#66cc99\" opacity=\"0.6\" /><circle cx=\"-67.4032964\" cy=\"256.5466311\" r=\"0.44787134952\" stroke=\"#555555\" stroke-width=\"0.14929044984\" fill=\"#66cc99\" opacity=\"0.6\" /><circle cx=\"-67.354221\" cy=\"256.67249\" r=\"0.44787134952\" stroke=\"#555555\" stroke-width=\"0.14929044984\" fill=\"#66cc99\" opacity=\"0.6\" /><circle cx=\"-67.3051954\" cy=\"256.7984528\" r=\"0.44787134952\" stroke=\"#555555\" stroke-width=\"0.14929044984\" fill=\"#66cc99\" opacity=\"0.6\" /><circle cx=\"-67.2561112\" cy=\"256.9242258\" r=\"0.44787134952\" stroke=\"#555555\" stroke-width=\"0.14929044984\" fill=\"#66cc99\" opacity=\"0.6\" /><circle cx=\"-67.2070594\" cy=\"257.0500847\" r=\"0.44787134952\" stroke=\"#555555\" stroke-width=\"0.14929044984\" fill=\"#66cc99\" opacity=\"0.6\" /><circle cx=\"-67.1580293\" cy=\"257.1759756\" r=\"0.44787134952\" stroke=\"#555555\" stroke-width=\"0.14929044984\" fill=\"#66cc99\" opacity=\"0.6\" /><circle cx=\"-67.1090792\" cy=\"257.3020769\" r=\"0.44787134952\" stroke=\"#555555\" stroke-width=\"0.14929044984\" fill=\"#66cc99\" opacity=\"0.6\" /><circle cx=\"-67.0600619\" cy=\"257.427908\" r=\"0.44787134952\" stroke=\"#555555\" stroke-width=\"0.14929044984\" fill=\"#66cc99\" opacity=\"0.6\" /><circle cx=\"-67.0110119\" cy=\"257.553598\" r=\"0.44787134952\" stroke=\"#555555\" stroke-width=\"0.14929044984\" fill=\"#66cc99\" opacity=\"0.6\" /><circle cx=\"-66.9619523\" cy=\"257.67939920000003\" r=\"0.44787134952\" stroke=\"#555555\" stroke-width=\"0.14929044984\" fill=\"#66cc99\" opacity=\"0.6\" /><circle cx=\"-66.9128621\" cy=\"257.8054815\" r=\"0.44787134952\" stroke=\"#555555\" stroke-width=\"0.14929044984\" fill=\"#66cc99\" opacity=\"0.6\" /><circle cx=\"-66.86385229999999\" cy=\"257.9317769\" r=\"0.44787134952\" stroke=\"#555555\" stroke-width=\"0.14929044984\" fill=\"#66cc99\" opacity=\"0.6\" /><circle cx=\"-66.81484350000001\" cy=\"258.05749669999994\" r=\"0.44787134952\" stroke=\"#555555\" stroke-width=\"0.14929044984\" fill=\"#66cc99\" opacity=\"0.6\" /><circle cx=\"-66.7658539\" cy=\"258.1831649\" r=\"0.44787134952\" stroke=\"#555555\" stroke-width=\"0.14929044984\" fill=\"#66cc99\" opacity=\"0.6\" /><circle cx=\"-66.7168763\" cy=\"258.308977\" r=\"0.44787134952\" stroke=\"#555555\" stroke-width=\"0.14929044984\" fill=\"#66cc99\" opacity=\"0.6\" /><circle cx=\"-66.66786850000001\" cy=\"258.4348236\" r=\"0.44787134952\" stroke=\"#555555\" stroke-width=\"0.14929044984\" fill=\"#66cc99\" opacity=\"0.6\" /><circle cx=\"-66.6189201\" cy=\"258.5608138\" r=\"0.44787134952\" stroke=\"#555555\" stroke-width=\"0.14929044984\" fill=\"#66cc99\" opacity=\"0.6\" /><circle cx=\"-66.57001629999999\" cy=\"258.6867522\" r=\"0.44787134952\" stroke=\"#555555\" stroke-width=\"0.14929044984\" fill=\"#66cc99\" opacity=\"0.6\" /><circle cx=\"-66.5210079\" cy=\"258.8124172\" r=\"0.44787134952\" stroke=\"#555555\" stroke-width=\"0.14929044984\" fill=\"#66cc99\" opacity=\"0.6\" /><circle cx=\"-66.4719308\" cy=\"258.93871690000003\" r=\"0.44787134952\" stroke=\"#555555\" stroke-width=\"0.14929044984\" fill=\"#66cc99\" opacity=\"0.6\" /><circle cx=\"-66.422771\" cy=\"259.0651115\" r=\"0.44787134952\" stroke=\"#555555\" stroke-width=\"0.14929044984\" fill=\"#66cc99\" opacity=\"0.6\" /><circle cx=\"-66.373684\" cy=\"259.1913824\" r=\"0.44787134952\" stroke=\"#555555\" stroke-width=\"0.14929044984\" fill=\"#66cc99\" opacity=\"0.6\" /><circle cx=\"-66.3246728\" cy=\"259.3171323\" r=\"0.44787134952\" stroke=\"#555555\" stroke-width=\"0.14929044984\" fill=\"#66cc99\" opacity=\"0.6\" /><circle cx=\"-66.2757519\" cy=\"259.4431241\" r=\"0.44787134952\" stroke=\"#555555\" stroke-width=\"0.14929044984\" fill=\"#66cc99\" opacity=\"0.6\" /><circle cx=\"-66.2268049\" cy=\"259.5692051\" r=\"0.44787134952\" stroke=\"#555555\" stroke-width=\"0.14929044984\" fill=\"#66cc99\" opacity=\"0.6\" /><circle cx=\"-66.1779003\" cy=\"259.6954106\" r=\"0.44787134952\" stroke=\"#555555\" stroke-width=\"0.14929044984\" fill=\"#66cc99\" opacity=\"0.6\" /><circle cx=\"-66.128889\" cy=\"259.8213871\" r=\"0.44787134952\" stroke=\"#555555\" stroke-width=\"0.14929044984\" fill=\"#66cc99\" opacity=\"0.6\" /><circle cx=\"-66.0798285\" cy=\"259.9472807\" r=\"0.44787134952\" stroke=\"#555555\" stroke-width=\"0.14929044984\" fill=\"#66cc99\" opacity=\"0.6\" /><circle cx=\"-66.03100309999999\" cy=\"260.0737303\" r=\"0.44787134952\" stroke=\"#555555\" stroke-width=\"0.14929044984\" fill=\"#66cc99\" opacity=\"0.6\" /><circle cx=\"-65.9820558\" cy=\"260.1993294\" r=\"0.44787134952\" stroke=\"#555555\" stroke-width=\"0.14929044984\" fill=\"#66cc99\" opacity=\"0.6\" /><circle cx=\"-65.9333676\" cy=\"260.3256206\" r=\"0.44787134952\" stroke=\"#555555\" stroke-width=\"0.14929044984\" fill=\"#66cc99\" opacity=\"0.6\" /><circle cx=\"-65.8843632\" cy=\"260.4512151\" r=\"0.44787134952\" stroke=\"#555555\" stroke-width=\"0.14929044984\" fill=\"#66cc99\" opacity=\"0.6\" /><circle cx=\"-65.8353532\" cy=\"260.5768433\" r=\"0.44787134952\" stroke=\"#555555\" stroke-width=\"0.14929044984\" fill=\"#66cc99\" opacity=\"0.6\" /><circle cx=\"-65.78634100000001\" cy=\"260.7031249\" r=\"0.44787134952\" stroke=\"#555555\" stroke-width=\"0.14929044984\" fill=\"#66cc99\" opacity=\"0.6\" /><circle cx=\"-65.7367637\" cy=\"260.8288927\" r=\"0.44787134952\" stroke=\"#555555\" stroke-width=\"0.14929044984\" fill=\"#66cc99\" opacity=\"0.6\" /><circle cx=\"-65.68713589999999\" cy=\"260.9545272\" r=\"0.44787134952\" stroke=\"#555555\" stroke-width=\"0.14929044984\" fill=\"#66cc99\" opacity=\"0.6\" /><circle cx=\"-65.6381454\" cy=\"261.0804278\" r=\"0.44787134952\" stroke=\"#555555\" stroke-width=\"0.14929044984\" fill=\"#66cc99\" opacity=\"0.6\" /><circle cx=\"-65.5890755\" cy=\"261.2060761\" r=\"0.44787134952\" stroke=\"#555555\" stroke-width=\"0.14929044984\" fill=\"#66cc99\" opacity=\"0.6\" /><circle cx=\"-65.53996579999999\" cy=\"261.3319874\" r=\"0.44787134952\" stroke=\"#555555\" stroke-width=\"0.14929044984\" fill=\"#66cc99\" opacity=\"0.6\" /><circle cx=\"-65.4907537\" cy=\"261.4578473\" r=\"0.44787134952\" stroke=\"#555555\" stroke-width=\"0.14929044984\" fill=\"#66cc99\" opacity=\"0.6\" /><circle cx=\"-65.44160529999999\" cy=\"261.5837305\" r=\"0.44787134952\" stroke=\"#555555\" stroke-width=\"0.14929044984\" fill=\"#66cc99\" opacity=\"0.6\" /><circle cx=\"-65.3925035\" cy=\"261.7091611\" r=\"0.44787134952\" stroke=\"#555555\" stroke-width=\"0.14929044984\" fill=\"#66cc99\" opacity=\"0.6\" /><circle cx=\"-65.34351170000001\" cy=\"261.8348896\" r=\"0.44787134952\" stroke=\"#555555\" stroke-width=\"0.14929044984\" fill=\"#66cc99\" opacity=\"0.6\" /><circle cx=\"-65.2943925\" cy=\"261.9607227\" r=\"0.44787134952\" stroke=\"#555555\" stroke-width=\"0.14929044984\" fill=\"#66cc99\" opacity=\"0.6\" /><circle cx=\"-65.2451773\" cy=\"262.0863781\" r=\"0.44787134952\" stroke=\"#555555\" stroke-width=\"0.14929044984\" fill=\"#66cc99\" opacity=\"0.6\" /><circle cx=\"-65.1960681\" cy=\"262.2121513\" r=\"0.44787134952\" stroke=\"#555555\" stroke-width=\"0.14929044984\" fill=\"#66cc99\" opacity=\"0.6\" /><circle cx=\"-65.1470025\" cy=\"262.3378202\" r=\"0.44787134952\" stroke=\"#555555\" stroke-width=\"0.14929044984\" fill=\"#66cc99\" opacity=\"0.6\" /><circle cx=\"-65.097853\" cy=\"262.4633136\" r=\"0.44787134952\" stroke=\"#555555\" stroke-width=\"0.14929044984\" fill=\"#66cc99\" opacity=\"0.6\" /><circle cx=\"-65.0485615\" cy=\"262.5891113\" r=\"0.44787134952\" stroke=\"#555555\" stroke-width=\"0.14929044984\" fill=\"#66cc99\" opacity=\"0.6\" /><circle cx=\"-64.9992297\" cy=\"262.7148015\" r=\"0.44787134952\" stroke=\"#555555\" stroke-width=\"0.14929044984\" fill=\"#66cc99\" opacity=\"0.6\" /><circle cx=\"-64.9499565\" cy=\"262.8405793\" r=\"0.44787134952\" stroke=\"#555555\" stroke-width=\"0.14929044984\" fill=\"#66cc99\" opacity=\"0.6\" /><circle cx=\"-64.9006156\" cy=\"262.9661364\" r=\"0.44787134952\" stroke=\"#555555\" stroke-width=\"0.14929044984\" fill=\"#66cc99\" opacity=\"0.6\" /><circle cx=\"-64.8513849\" cy=\"263.0916647\" r=\"0.44787134952\" stroke=\"#555555\" stroke-width=\"0.14929044984\" fill=\"#66cc99\" opacity=\"0.6\" /><circle cx=\"-64.8024486\" cy=\"263.2169819\" r=\"0.44787134952\" stroke=\"#555555\" stroke-width=\"0.14929044984\" fill=\"#66cc99\" opacity=\"0.6\" /><circle cx=\"-64.75354870000001\" cy=\"263.3423993\" r=\"0.44787134952\" stroke=\"#555555\" stroke-width=\"0.14929044984\" fill=\"#66cc99\" opacity=\"0.6\" /><circle cx=\"-64.70440289999999\" cy=\"263.4676359\" r=\"0.44787134952\" stroke=\"#555555\" stroke-width=\"0.14929044984\" fill=\"#66cc99\" opacity=\"0.6\" /><circle cx=\"-64.6552123\" cy=\"263.59281830000003\" r=\"0.44787134952\" stroke=\"#555555\" stroke-width=\"0.14929044984\" fill=\"#66cc99\" opacity=\"0.6\" /><circle cx=\"-64.606034\" cy=\"263.7178767\" r=\"0.44787134952\" stroke=\"#555555\" stroke-width=\"0.14929044984\" fill=\"#66cc99\" opacity=\"0.6\" /><circle cx=\"-64.5570578\" cy=\"263.84334390000004\" r=\"0.44787134952\" stroke=\"#555555\" stroke-width=\"0.14929044984\" fill=\"#66cc99\" opacity=\"0.6\" /><circle cx=\"-64.5079939\" cy=\"263.9685917\" r=\"0.44787134952\" stroke=\"#555555\" stroke-width=\"0.14929044984\" fill=\"#66cc99\" opacity=\"0.6\" /><circle cx=\"-64.4588218\" cy=\"264.093744\" r=\"0.44787134952\" stroke=\"#555555\" stroke-width=\"0.14929044984\" fill=\"#66cc99\" opacity=\"0.6\" /><circle cx=\"-64.4096715\" cy=\"264.21895730000006\" r=\"0.44787134952\" stroke=\"#555555\" stroke-width=\"0.14929044984\" fill=\"#66cc99\" opacity=\"0.6\" /><circle cx=\"-64.36052710000001\" cy=\"264.34435240000005\" r=\"0.44787134952\" stroke=\"#555555\" stroke-width=\"0.14929044984\" fill=\"#66cc99\" opacity=\"0.6\" /><circle cx=\"-64.3114473\" cy=\"264.46998019999995\" r=\"0.44787134952\" stroke=\"#555555\" stroke-width=\"0.14929044984\" fill=\"#66cc99\" opacity=\"0.6\" /><circle cx=\"-64.2622836\" cy=\"264.5953596\" r=\"0.44787134952\" stroke=\"#555555\" stroke-width=\"0.14929044984\" fill=\"#66cc99\" opacity=\"0.6\" /><circle cx=\"-64.21300000000001\" cy=\"264.7203717\" r=\"0.44787134952\" stroke=\"#555555\" stroke-width=\"0.14929044984\" fill=\"#66cc99\" opacity=\"0.6\" /><circle cx=\"-64.1637333\" cy=\"264.84543140000005\" r=\"0.44787134952\" stroke=\"#555555\" stroke-width=\"0.14929044984\" fill=\"#66cc99\" opacity=\"0.6\" /><circle cx=\"-64.1145059\" cy=\"264.97086040000005\" r=\"0.44787134952\" stroke=\"#555555\" stroke-width=\"0.14929044984\" fill=\"#66cc99\" opacity=\"0.6\" /><circle cx=\"-64.0652537\" cy=\"265.0962291\" r=\"0.44787134952\" stroke=\"#555555\" stroke-width=\"0.14929044984\" fill=\"#66cc99\" opacity=\"0.6\" /><circle cx=\"-64.0159532\" cy=\"265.2214246\" r=\"0.44787134952\" stroke=\"#555555\" stroke-width=\"0.14929044984\" fill=\"#66cc99\" opacity=\"0.6\" /><circle cx=\"-63.96658860000001\" cy=\"265.3464106\" r=\"0.44787134952\" stroke=\"#555555\" stroke-width=\"0.14929044984\" fill=\"#66cc99\" opacity=\"0.6\" /><circle cx=\"-63.9172359\" cy=\"265.4715119\" r=\"0.44787134952\" stroke=\"#555555\" stroke-width=\"0.14929044984\" fill=\"#66cc99\" opacity=\"0.6\" /><circle cx=\"-63.8679076\" cy=\"265.5970249\" r=\"0.44787134952\" stroke=\"#555555\" stroke-width=\"0.14929044984\" fill=\"#66cc99\" opacity=\"0.6\" /><circle cx=\"-63.8184385\" cy=\"265.72214840000004\" r=\"0.44787134952\" stroke=\"#555555\" stroke-width=\"0.14929044984\" fill=\"#66cc99\" opacity=\"0.6\" /><circle cx=\"-63.76912950000001\" cy=\"265.84741119999995\" r=\"0.44787134952\" stroke=\"#555555\" stroke-width=\"0.14929044984\" fill=\"#66cc99\" opacity=\"0.6\" /><circle cx=\"-63.719758\" cy=\"265.97241569999994\" r=\"0.44787134952\" stroke=\"#555555\" stroke-width=\"0.14929044984\" fill=\"#66cc99\" opacity=\"0.6\" /><circle cx=\"-63.6703634\" cy=\"266.09754480000004\" r=\"0.44787134952\" stroke=\"#555555\" stroke-width=\"0.14929044984\" fill=\"#66cc99\" opacity=\"0.6\" /><circle cx=\"-63.62094449999999\" cy=\"266.222928\" r=\"0.44787134952\" stroke=\"#555555\" stroke-width=\"0.14929044984\" fill=\"#66cc99\" opacity=\"0.6\" /><circle cx=\"-63.5715\" cy=\"266.3482373\" r=\"0.44787134952\" stroke=\"#555555\" stroke-width=\"0.14929044984\" fill=\"#66cc99\" opacity=\"0.6\" /><circle cx=\"-63.5220936\" cy=\"266.4731429\" r=\"0.44787134952\" stroke=\"#555555\" stroke-width=\"0.14929044984\" fill=\"#66cc99\" opacity=\"0.6\" /><circle cx=\"-63.47274839999999\" cy=\"266.59822\" r=\"0.44787134952\" stroke=\"#555555\" stroke-width=\"0.14929044984\" fill=\"#66cc99\" opacity=\"0.6\" /><circle cx=\"-63.4235769\" cy=\"266.7233236\" r=\"0.44787134952\" stroke=\"#555555\" stroke-width=\"0.14929044984\" fill=\"#66cc99\" opacity=\"0.6\" /><circle cx=\"-63.3744481\" cy=\"266.84829840000003\" r=\"0.44787134952\" stroke=\"#555555\" stroke-width=\"0.14929044984\" fill=\"#66cc99\" opacity=\"0.6\" /><circle cx=\"-63.3252532\" cy=\"266.9732357\" r=\"0.44787134952\" stroke=\"#555555\" stroke-width=\"0.14929044984\" fill=\"#66cc99\" opacity=\"0.6\" /><circle cx=\"-63.27592360000001\" cy=\"267.0983084\" r=\"0.44787134952\" stroke=\"#555555\" stroke-width=\"0.14929044984\" fill=\"#66cc99\" opacity=\"0.6\" /><circle cx=\"-63.22653390000001\" cy=\"267.22321380000005\" r=\"0.44787134952\" stroke=\"#555555\" stroke-width=\"0.14929044984\" fill=\"#66cc99\" opacity=\"0.6\" /><circle cx=\"-63.17746\" cy=\"267.3488387\" r=\"0.44787134952\" stroke=\"#555555\" stroke-width=\"0.14929044984\" fill=\"#66cc99\" opacity=\"0.6\" /><circle cx=\"-63.1281343\" cy=\"267.47373480000005\" r=\"0.44787134952\" stroke=\"#555555\" stroke-width=\"0.14929044984\" fill=\"#66cc99\" opacity=\"0.6\" /><circle cx=\"-63.07873220000001\" cy=\"267.59862400000003\" r=\"0.44787134952\" stroke=\"#555555\" stroke-width=\"0.14929044984\" fill=\"#66cc99\" opacity=\"0.6\" /><circle cx=\"-63.029225\" cy=\"267.7234637\" r=\"0.44787134952\" stroke=\"#555555\" stroke-width=\"0.14929044984\" fill=\"#66cc99\" opacity=\"0.6\" /><circle cx=\"-62.9798486\" cy=\"267.8486611\" r=\"0.44787134952\" stroke=\"#555555\" stroke-width=\"0.14929044984\" fill=\"#66cc99\" opacity=\"0.6\" /><circle cx=\"-62.9307273\" cy=\"267.974475\" r=\"0.44787134952\" stroke=\"#555555\" stroke-width=\"0.14929044984\" fill=\"#66cc99\" opacity=\"0.6\" /><circle cx=\"-62.88127220000001\" cy=\"268.0993485\" r=\"0.44787134952\" stroke=\"#555555\" stroke-width=\"0.14929044984\" fill=\"#66cc99\" opacity=\"0.6\" /><circle cx=\"-62.83202170000001\" cy=\"268.224452\" r=\"0.44787134952\" stroke=\"#555555\" stroke-width=\"0.14929044984\" fill=\"#66cc99\" opacity=\"0.6\" /><circle cx=\"-62.7827898\" cy=\"268.3494465\" r=\"0.44787134952\" stroke=\"#555555\" stroke-width=\"0.14929044984\" fill=\"#66cc99\" opacity=\"0.6\" /><circle cx=\"-62.73348910000001\" cy=\"268.4742298\" r=\"0.44787134952\" stroke=\"#555555\" stroke-width=\"0.14929044984\" fill=\"#66cc99\" opacity=\"0.6\" /><circle cx=\"-62.6843203\" cy=\"268.5993499\" r=\"0.44787134952\" stroke=\"#555555\" stroke-width=\"0.14929044984\" fill=\"#66cc99\" opacity=\"0.6\" /><circle cx=\"-62.6352634\" cy=\"268.7247882\" r=\"0.44787134952\" stroke=\"#555555\" stroke-width=\"0.14929044984\" fill=\"#66cc99\" opacity=\"0.6\" /><circle cx=\"-62.5857772\" cy=\"268.849868\" r=\"0.44787134952\" stroke=\"#555555\" stroke-width=\"0.14929044984\" fill=\"#66cc99\" opacity=\"0.6\" /><circle cx=\"-62.5362083\" cy=\"268.9748023\" r=\"0.44787134952\" stroke=\"#555555\" stroke-width=\"0.14929044984\" fill=\"#66cc99\" opacity=\"0.6\" /><circle cx=\"-62.4868231\" cy=\"269.099809\" r=\"0.44787134952\" stroke=\"#555555\" stroke-width=\"0.14929044984\" fill=\"#66cc99\" opacity=\"0.6\" /><circle cx=\"-62.4376215\" cy=\"269.22488450000003\" r=\"0.44787134952\" stroke=\"#555555\" stroke-width=\"0.14929044984\" fill=\"#66cc99\" opacity=\"0.6\" /><circle cx=\"-62.38826820000001\" cy=\"269.3496037\" r=\"0.44787134952\" stroke=\"#555555\" stroke-width=\"0.14929044984\" fill=\"#66cc99\" opacity=\"0.6\" /></g></g></svg>"
      ],
      "text/plain": [
       "<shapely.geometry.multipoint.MultiPoint at 0x1253ada90>"
      ]
     },
     "execution_count": 52,
     "metadata": {},
     "output_type": "execute_result"
    }
   ],
   "source": [
    "mp"
   ]
  },
  {
   "cell_type": "code",
   "execution_count": null,
   "metadata": {},
   "outputs": [],
   "source": []
  }
 ],
 "metadata": {
  "kernelspec": {
   "display_name": "Python 3",
   "language": "python",
   "name": "python3"
  },
  "language_info": {
   "codemirror_mode": {
    "name": "ipython",
    "version": 3
   },
   "file_extension": ".py",
   "mimetype": "text/x-python",
   "name": "python",
   "nbconvert_exporter": "python",
   "pygments_lexer": "ipython3",
   "version": "3.7.1"
  }
 },
 "nbformat": 4,
 "nbformat_minor": 2
}
