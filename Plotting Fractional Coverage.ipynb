{
 "cells": [
  {
   "cell_type": "code",
   "execution_count": 1,
   "metadata": {},
   "outputs": [],
   "source": [
    "import sys\n",
    "if sys.platform == \"darwin\":  # michael's config\n",
    "    # because Michael is using jupyter lab\n",
    "    %load_ext lab_black\n",
    "else:  # zade's config\n",
    "    # because Zade is using jupyter notebook\n",
    "    %load_ext nb_black"
   ]
  },
  {
   "cell_type": "code",
   "execution_count": 2,
   "metadata": {},
   "outputs": [
    {
     "data": {
      "application/javascript": [
       "\n",
       "        setTimeout(function() {\n",
       "            var nbb_cell_id = 2;\n",
       "            var nbb_formatted_code = \"import numpy as np\\nimport geopandas as gp\\nimport shapely\\nfrom planet4 import io, markings\";\n",
       "            var nbb_cells = Jupyter.notebook.get_cells();\n",
       "            for (var i = 0; i < nbb_cells.length; ++i) {\n",
       "                if (nbb_cells[i].input_prompt_number == nbb_cell_id) {\n",
       "                    nbb_cells[i].set_text(nbb_formatted_code);\n",
       "                    break;\n",
       "                }\n",
       "            }\n",
       "        }, 500);\n",
       "        "
      ],
      "text/plain": [
       "<IPython.core.display.Javascript object>"
      ]
     },
     "metadata": {},
     "output_type": "display_data"
    }
   ],
   "source": [
    "import numpy as np\n",
    "import geopandas as gp\n",
    "import shapely\n",
    "from planet4 import io, markings"
   ]
  },
  {
   "cell_type": "code",
   "execution_count": 3,
   "metadata": {},
   "outputs": [
    {
     "data": {
      "application/javascript": [
       "\n",
       "        setTimeout(function() {\n",
       "            var nbb_cell_id = 3;\n",
       "            var nbb_formatted_code = \"from coverage_utils import CoverageCalculator, get_obsids_for_region\\nfrom my_io import get_tilecoords, get_metadata, get_region_names\";\n",
       "            var nbb_cells = Jupyter.notebook.get_cells();\n",
       "            for (var i = 0; i < nbb_cells.length; ++i) {\n",
       "                if (nbb_cells[i].input_prompt_number == nbb_cell_id) {\n",
       "                    nbb_cells[i].set_text(nbb_formatted_code);\n",
       "                    break;\n",
       "                }\n",
       "            }\n",
       "        }, 500);\n",
       "        "
      ],
      "text/plain": [
       "<IPython.core.display.Javascript object>"
      ]
     },
     "metadata": {},
     "output_type": "display_data"
    }
   ],
   "source": [
    "from coverage_utils import CoverageCalculator, get_obsids_for_region\n",
    "from my_io import get_tilecoords, get_metadata, get_region_names"
   ]
  },
  {
   "cell_type": "code",
   "execution_count": 4,
   "metadata": {},
   "outputs": [
    {
     "data": {
      "application/javascript": [
       "\n",
       "        setTimeout(function() {\n",
       "            var nbb_cell_id = 4;\n",
       "            var nbb_formatted_code = \"import pandas as pd\\nimport matplotlib.pyplot as plt\";\n",
       "            var nbb_cells = Jupyter.notebook.get_cells();\n",
       "            for (var i = 0; i < nbb_cells.length; ++i) {\n",
       "                if (nbb_cells[i].input_prompt_number == nbb_cell_id) {\n",
       "                    nbb_cells[i].set_text(nbb_formatted_code);\n",
       "                    break;\n",
       "                }\n",
       "            }\n",
       "        }, 500);\n",
       "        "
      ],
      "text/plain": [
       "<IPython.core.display.Javascript object>"
      ]
     },
     "metadata": {},
     "output_type": "display_data"
    }
   ],
   "source": [
    "import pandas as pd\n",
    "import matplotlib.pyplot as plt"
   ]
  },
  {
   "cell_type": "code",
   "execution_count": 5,
   "metadata": {},
   "outputs": [
    {
     "data": {
      "application/javascript": [
       "\n",
       "        setTimeout(function() {\n",
       "            var nbb_cell_id = 5;\n",
       "            var nbb_formatted_code = \"%matplotlib widget\";\n",
       "            var nbb_cells = Jupyter.notebook.get_cells();\n",
       "            for (var i = 0; i < nbb_cells.length; ++i) {\n",
       "                if (nbb_cells[i].input_prompt_number == nbb_cell_id) {\n",
       "                    nbb_cells[i].set_text(nbb_formatted_code);\n",
       "                    break;\n",
       "                }\n",
       "            }\n",
       "        }, 500);\n",
       "        "
      ],
      "text/plain": [
       "<IPython.core.display.Javascript object>"
      ]
     },
     "metadata": {},
     "output_type": "display_data"
    }
   ],
   "source": [
    "%matplotlib widget"
   ]
  },
  {
   "cell_type": "code",
   "execution_count": 6,
   "metadata": {},
   "outputs": [
    {
     "name": "stdout",
     "output_type": "stream",
     "text": [
      "Reading fans and blotches in...\n",
      "Done.\n",
      "Reading metadata...\n",
      "Done.\n",
      "Note that obsid must be set to a string value before this works.\n"
     ]
    },
    {
     "data": {
      "application/javascript": [
       "\n",
       "        setTimeout(function() {\n",
       "            var nbb_cell_id = 6;\n",
       "            var nbb_formatted_code = \"# the `which` setting is by default 'both'\\ncc = CoverageCalculator()\";\n",
       "            var nbb_cells = Jupyter.notebook.get_cells();\n",
       "            for (var i = 0; i < nbb_cells.length; ++i) {\n",
       "                if (nbb_cells[i].input_prompt_number == nbb_cell_id) {\n",
       "                    nbb_cells[i].set_text(nbb_formatted_code);\n",
       "                    break;\n",
       "                }\n",
       "            }\n",
       "        }, 500);\n",
       "        "
      ],
      "text/plain": [
       "<IPython.core.display.Javascript object>"
      ]
     },
     "metadata": {},
     "output_type": "display_data"
    }
   ],
   "source": [
    "# the `which` setting is by default 'both'\n",
    "cc = CoverageCalculator()"
   ]
  },
  {
   "cell_type": "code",
   "execution_count": 7,
   "metadata": {},
   "outputs": [
    {
     "data": {
      "application/javascript": [
       "\n",
       "        setTimeout(function() {\n",
       "            var nbb_cell_id = 7;\n",
       "            var nbb_formatted_code = \"all_regions = get_region_names().roi_name.unique()\";\n",
       "            var nbb_cells = Jupyter.notebook.get_cells();\n",
       "            for (var i = 0; i < nbb_cells.length; ++i) {\n",
       "                if (nbb_cells[i].input_prompt_number == nbb_cell_id) {\n",
       "                    nbb_cells[i].set_text(nbb_formatted_code);\n",
       "                    break;\n",
       "                }\n",
       "            }\n",
       "        }, 500);\n",
       "        "
      ],
      "text/plain": [
       "<IPython.core.display.Javascript object>"
      ]
     },
     "metadata": {},
     "output_type": "display_data"
    }
   ],
   "source": [
    "all_regions = get_region_names().roi_name.unique()"
   ]
  },
  {
   "cell_type": "code",
   "execution_count": 8,
   "metadata": {},
   "outputs": [
    {
     "data": {
      "application/javascript": [
       "\n",
       "        setTimeout(function() {\n",
       "            var nbb_cell_id = 8;\n",
       "            var nbb_formatted_code = \"all_regions = [\\n    region for region in all_regions if region not in [\\\"unknown\\\", \\\"Manhattan2\\\"]\\n]\";\n",
       "            var nbb_cells = Jupyter.notebook.get_cells();\n",
       "            for (var i = 0; i < nbb_cells.length; ++i) {\n",
       "                if (nbb_cells[i].input_prompt_number == nbb_cell_id) {\n",
       "                    nbb_cells[i].set_text(nbb_formatted_code);\n",
       "                    break;\n",
       "                }\n",
       "            }\n",
       "        }, 500);\n",
       "        "
      ],
      "text/plain": [
       "<IPython.core.display.Javascript object>"
      ]
     },
     "metadata": {},
     "output_type": "display_data"
    }
   ],
   "source": [
    "all_regions = [\n",
    "    region for region in all_regions if region not in [\"unknown\", \"Manhattan2\"]\n",
    "]"
   ]
  },
  {
   "cell_type": "code",
   "execution_count": 9,
   "metadata": {
    "scrolled": true
   },
   "outputs": [
    {
     "data": {
      "text/plain": [
       "['Macclesfield',\n",
       " 'Starburst',\n",
       " 'Manhattan_Classic',\n",
       " 'Wellington',\n",
       " 'Albany',\n",
       " 'Bilbao',\n",
       " 'Ithaca',\n",
       " 'Portsmouth',\n",
       " 'Pisaq',\n",
       " 'Manhattan_Frontinella',\n",
       " 'BuenosAires',\n",
       " 'Inca_City_Ridges',\n",
       " 'Inca_City',\n",
       " 'Giza',\n",
       " 'Potsdam',\n",
       " 'Troy',\n",
       " 'Oswego_Edge',\n",
       " 'Halifax',\n",
       " 'Caterpillar',\n",
       " 'Rochester',\n",
       " 'Manhattan_Cracks',\n",
       " 'Schenectady',\n",
       " 'Binghamton',\n",
       " 'Atka',\n",
       " 'Cortland',\n",
       " 'Geneseo']"
      ]
     },
     "execution_count": 9,
     "metadata": {},
     "output_type": "execute_result"
    },
    {
     "data": {
      "application/javascript": [
       "\n",
       "        setTimeout(function() {\n",
       "            var nbb_cell_id = 9;\n",
       "            var nbb_formatted_code = \"all_regions\";\n",
       "            var nbb_cells = Jupyter.notebook.get_cells();\n",
       "            for (var i = 0; i < nbb_cells.length; ++i) {\n",
       "                if (nbb_cells[i].input_prompt_number == nbb_cell_id) {\n",
       "                    nbb_cells[i].set_text(nbb_formatted_code);\n",
       "                    break;\n",
       "                }\n",
       "            }\n",
       "        }, 500);\n",
       "        "
      ],
      "text/plain": [
       "<IPython.core.display.Javascript object>"
      ]
     },
     "metadata": {},
     "output_type": "display_data"
    }
   ],
   "source": [
    "all_regions"
   ]
  },
  {
   "cell_type": "code",
   "execution_count": 10,
   "metadata": {},
   "outputs": [
    {
     "data": {
      "application/javascript": [
       "\n",
       "        setTimeout(function() {\n",
       "            var nbb_cell_id = 10;\n",
       "            var nbb_formatted_code = \"data = pd.read_csv(\\\"n_obj_df.csv\\\")\";\n",
       "            var nbb_cells = Jupyter.notebook.get_cells();\n",
       "            for (var i = 0; i < nbb_cells.length; ++i) {\n",
       "                if (nbb_cells[i].input_prompt_number == nbb_cell_id) {\n",
       "                    nbb_cells[i].set_text(nbb_formatted_code);\n",
       "                    break;\n",
       "                }\n",
       "            }\n",
       "        }, 500);\n",
       "        "
      ],
      "text/plain": [
       "<IPython.core.display.Javascript object>"
      ]
     },
     "metadata": {},
     "output_type": "display_data"
    }
   ],
   "source": [
    "data = pd.read_csv(\"n_obj_df.csv\")"
   ]
  },
  {
   "cell_type": "code",
   "execution_count": null,
   "metadata": {},
   "outputs": [],
   "source": [
    "for region in all_regions[:2]:\n",
    "    fig, axes = plt.subplots(\n",
    "        ncols=3, nrows=2, figsize=(10, 5), constrained_layout=True, sharey=False\n",
    "    )\n",
    "    fig.suptitle(region)\n",
    "    df1 = data.loc[data[\"region_name\"] == region]\n",
    "    max_fraction = df1.fraction.max()\n",
    "    min_fraction = df1.fraction.min()\n",
    "    max_nobs = df1.n_objects.max()\n",
    "    min_nobs = df1.n_objects.min()\n",
    "    for ax, select in zip(axes[0], [\"both\", \"fans\", \"blotches\"]):\n",
    "        ax.set_title(select)\n",
    "        ax.set_xlabel(\"Ls [deg]\")\n",
    "        ax.set_ylabel(\"fraction of coverage\")\n",
    "        subdf = df1[df1[\"Which\"] == select]\n",
    "        legend_bucket = []\n",
    "        for year, c in zip([29, 30], [\"g\", \"k\"]):\n",
    "            subdf2 = subdf.loc[subdf[\"MY\"] == year]\n",
    "            legend_bucket.append(\n",
    "                ax.scatter(\"Ls\", \"fraction\", data=subdf2, label=year, alpha=0.7)\n",
    "            )\n",
    "        ax.set_ylim(0, max_fraction * 1.1)\n",
    "\n",
    "    leg = fig.legend(\n",
    "        legend_bucket,\n",
    "        (\"Mars Year 29\", \"Mars Year 30\"),\n",
    "        ncol=2,\n",
    "        bbox_to_anchor=(0.4, 0.95),\n",
    "        prop={\"size\": 6},\n",
    "        fancybox=True,\n",
    "        shadow=True,\n",
    "    )\n",
    "\n",
    "    for ax, select in zip(axes[1], [\"both\", \"fans\", \"blotches\"]):\n",
    "        subdf = df1[df1[\"Which\"] == select]\n",
    "        ax.set_ylabel(\"N Obj\")\n",
    "        ax.set_xlabel(\"Ls[deg]\")\n",
    "        legend_bucket = []\n",
    "        for year, c in zip([29, 30], [\"g\", \"k\"]):\n",
    "            subdf2 = subdf.loc[subdf[\"MY\"] == year]\n",
    "            legend_bucket.append(\n",
    "                ax.scatter(\n",
    "                    \"Ls\",\n",
    "                    \"n_objects\",\n",
    "                    data=subdf2,\n",
    "                    #                 color=c,\n",
    "                    marker=\"*\",\n",
    "                    label=f\"{year} (right)\",\n",
    "                    alpha=0.7,\n",
    "                )\n",
    "            )\n",
    "        ax.set_ylim(0, max_nobs * 1.1)"
   ]
  },
  {
   "cell_type": "code",
   "execution_count": null,
   "metadata": {
    "scrolled": false
   },
   "outputs": [],
   "source": [
    "for region in all_regions[:2]:\n",
    "    fig, axes = plt.subplots(\n",
    "        ncols=3, nrows=2, figsize=(10, 3), constrained_layout=True, sharey=False\n",
    "    )\n",
    "    fig.suptitle(region)\n",
    "    df1 = data.loc[data[\"region_name\"] == region]\n",
    "    max_fraction = df1.fraction.max()\n",
    "    min_fraction = df1.fraction.min()\n",
    "    max_nobs = df1.n_objects.max()\n",
    "    min_nobs = df1.n_objects.min()\n",
    "    for ax, select in zip(axes[0], [\"both\", \"fans\", \"blotches\"]):\n",
    "        ax.set_title(select)\n",
    "        ax.set_xlabel(\"Ls [deg]\")\n",
    "        ax.set_ylabel(\"fraction of coverage\")\n",
    "        subdf = df1[df1[\"Which\"] == select]\n",
    "        legend_bucket = []\n",
    "        for year, c in zip([29, 30], [\"g\", \"k\"]):\n",
    "            subdf2 = subdf.loc[subdf[\"MY\"] == year]\n",
    "            legend_bucket.append(\n",
    "                ax.scatter(\"Ls\", \"fraction\", data=subdf2, label=year, alpha=0.7)\n",
    "            )\n",
    "        ax.set_ylim(0, max_fraction * 1.1)\n",
    "\n",
    "    leg = fig.legend(\n",
    "        legend_bucket,\n",
    "        (\"Mars Year 29\", \"Mars Year 30\"),\n",
    "        ncol=2,\n",
    "        bbox_to_anchor=(0.4, 0.95),\n",
    "        prop={\"size\": 6},\n",
    "        fancybox=True,\n",
    "        shadow=True,\n",
    "    )\n",
    "\n",
    "    for ax, select in zip(axes[1], [\"both\", \"fans\", \"blotches\"]):\n",
    "        subdf = df1[df1[\"Which\"] == select]\n",
    "        ax.set_ylabel(\"N Obj\")\n",
    "        ax.set_xlabel(\"Ls[deg]\")\n",
    "        legend_bucket = []\n",
    "        for year, c in zip([29, 30], [\"g\", \"k\"]):\n",
    "            subdf2 = subdf.loc[subdf[\"MY\"] == year]\n",
    "            legend_bucket.append(\n",
    "                ax.scatter(\n",
    "                    \"Ls\",\n",
    "                    \"n_objects\",\n",
    "                    data=subdf2,\n",
    "                    #                 color=c,\n",
    "                    marker=\"*\",\n",
    "                    label=f\"{year} (right)\",\n",
    "                    alpha=0.7,\n",
    "                )\n",
    "            )\n",
    "        ax.set_ylim(0, max_nobs * 1.1)"
   ]
  },
  {
   "cell_type": "code",
   "execution_count": null,
   "metadata": {
    "scrolled": true
   },
   "outputs": [],
   "source": [
    "for region in all_regions[-1]:\n",
    "    fig, axes = plt.subplots(\n",
    "        ncols=3, nrows=2, figsize=(10, 5), constrained_layout=True, sharey=False\n",
    "    )\n",
    "    fig.suptitle(region)\n",
    "    df1 = data.loc[data[\"region_name\"] == region]\n",
    "    max_fraction = df1.fraction.max()\n",
    "    min_fraction = df1.fraction.min()\n",
    "    max_nobs = df1.n_objects.max()\n",
    "    min_nobs = df1.n_objects.min()\n",
    "    for ax, select in zip(axes[0], [\"both\", \"fans\", \"blotches\"]):\n",
    "        ax.set_title(select)\n",
    "        ax.set_xlabel(\"Ls [deg]\")\n",
    "        ax.set_ylabel(\"fraction of coverage\")\n",
    "        subdf = df1[df1[\"Which\"] == select]\n",
    "        legend_bucket = []\n",
    "        for year, c in zip([29, 30], [\"g\", \"k\"]):\n",
    "            subdf2 = subdf.loc[subdf[\"MY\"] == year]\n",
    "            legend_bucket.append(\n",
    "                ax.scatter(\"Ls\", \"fraction\", data=subdf2, label=year, alpha=0.7)\n",
    "            )\n",
    "        ax.set_ylim(0, max_fraction * 1.1)\n",
    "\n",
    "    leg = fig.legend(\n",
    "        legend_bucket,\n",
    "        (\"Mars Year 29\", \"Mars Year 30\"),\n",
    "        ncol=2,\n",
    "        bbox_to_anchor=(0.4, 0.95),\n",
    "        prop={\"size\": 6},\n",
    "        fancybox=True,\n",
    "        shadow=True,\n",
    "    )\n",
    "\n",
    "    for ax, select in zip(axes[1], [\"both\", \"fans\", \"blotches\"]):\n",
    "        subdf = df1[df1[\"Which\"] == select]\n",
    "        ax.set_ylabel(\"N Obj\")\n",
    "        ax.set_xlabel(\"Ls[deg]\")\n",
    "        legend_bucket = []\n",
    "        for year, c in zip([29, 30], [\"g\", \"k\"]):\n",
    "            subdf2 = subdf.loc[subdf[\"MY\"] == year]\n",
    "            legend_bucket.append(\n",
    "                ax.scatter(\n",
    "                    \"Ls\",\n",
    "                    \"n_objects\",\n",
    "                    data=subdf2,\n",
    "                    #                 color=c,\n",
    "                    marker=\"*\",\n",
    "                    label=f\"{year} (right)\",\n",
    "                    alpha=0.7,\n",
    "                )\n",
    "            )\n",
    "        ax.set_ylim(0, max_nobs * 1.1)"
   ]
  },
  {
   "cell_type": "code",
   "execution_count": null,
   "metadata": {},
   "outputs": [],
   "source": [
    "trialregions = all_regions[0:3]"
   ]
  },
  {
   "cell_type": "code",
   "execution_count": null,
   "metadata": {},
   "outputs": [],
   "source": [
    "trialregions = all_regions[0:3]"
   ]
  },
  {
   "cell_type": "code",
   "execution_count": null,
   "metadata": {},
   "outputs": [],
   "source": [
    "for region in all_regions[-2]:\n",
    "    fig, axes = plt.subplots(\n",
    "        ncols=3, nrows=2, figsize=(10, 5), constrained_layout=True, sharey=False\n",
    "    )\n",
    "    fig.suptitle(region)\n",
    "    df1 = data.loc[data[\"region_name\"] == region]\n",
    "    max_fraction = df1.fraction.max()\n",
    "    min_fraction = df1.fraction.min()\n",
    "    max_nobs = df1.n_objects.max()\n",
    "    min_nobs = df1.n_objects.min()\n",
    "    for ax, select in zip(axes[0], [\"both\", \"fans\", \"blotches\"]):\n",
    "        ax.set_title(select)\n",
    "        ax.set_xlabel(\"Ls [deg]\")\n",
    "        ax.set_ylabel(\"fraction of coverage\")\n",
    "        subdf = df1[df1[\"Which\"] == select]\n",
    "        legend_bucket = []\n",
    "        for year, c in zip([29, 30], [\"g\", \"k\"]):\n",
    "            subdf2 = subdf.loc[subdf[\"MY\"] == year]\n",
    "            legend_bucket.append(\n",
    "                ax.scatter(\"Ls\", \"fraction\", data=subdf2, label=year, alpha=0.7)\n",
    "            )\n",
    "        ax.set_ylim(0, max_fraction * 1.1)\n",
    "\n",
    "    leg = fig.legend(\n",
    "        legend_bucket,\n",
    "        (\"Mars Year 29\", \"Mars Year 30\"),\n",
    "        ncol=2,\n",
    "        bbox_to_anchor=(0.4, 0.95),\n",
    "        prop={\"size\": 6},\n",
    "        fancybox=True,\n",
    "        shadow=True,\n",
    "    )\n",
    "\n",
    "    for ax, select in zip(axes[1], [\"both\", \"fans\", \"blotches\"]):\n",
    "        subdf = df1[df1[\"Which\"] == select]\n",
    "        ax.set_ylabel(\"N Obj\")\n",
    "        ax.set_xlabel(\"Ls[deg]\")\n",
    "        legend_bucket = []\n",
    "        for year, c in zip([29, 30], [\"g\", \"k\"]):\n",
    "            subdf2 = subdf.loc[subdf[\"MY\"] == year]\n",
    "            legend_bucket.append(\n",
    "                ax.scatter(\n",
    "                    \"Ls\",\n",
    "                    \"n_objects\",\n",
    "                    data=subdf2,\n",
    "                    #                 color=c,\n",
    "                    marker=\"*\",\n",
    "                    label=f\"{year} (right)\",\n",
    "                    alpha=0.7,\n",
    "                )\n",
    "            )\n",
    "        ax.set_ylim(0, max_nobs * 1.1)"
   ]
  },
  {
   "cell_type": "code",
   "execution_count": null,
   "metadata": {},
   "outputs": [],
   "source": [
    "fig, axes = plt.subplots(ncols=3, figsize=(15, 5), constrained_layout=True)\n",
    "for region in all_regions:\n",
    "    for ax, select in zip(axes, [\"both\", \"fans\", \"blotches\"]):\n",
    "        df1 = data.loc[data[\"region_name\"] == region]\n",
    "        subdf = df1.loc[df1[\"Which\"] == select]\n",
    "        for year in [29, 30]:\n",
    "            subdf2 = subdf.loc[subdf[\"MY\"] == year]\n",
    "            ax.scatter(\"Ls\", \"fraction\", data=subdf2)\n",
    "            ax2 = ax.twinx()\n",
    "            ax2.scatter(\"Ls\", \"n_objects\", data=data, color=\"k\")\n",
    "        # plt.savefig(f\"{region}.trial2.png\")\n",
    "        # plt.clf()"
   ]
  },
  {
   "cell_type": "code",
   "execution_count": null,
   "metadata": {},
   "outputs": [],
   "source": [
    "# as above but with plt.close()\n",
    "fig, axes = plt.subplots(ncols=3, figsize=(15, 5), constrained_layout=True)\n",
    "for region in all_regions:\n",
    "    for ax, select in zip(axes, [\"both\", \"fans\", \"blotches\"]):\n",
    "        df1 = data.loc[data[\"region_name\"] == region]\n",
    "        subdf = df1.loc[df1[\"Which\"] == select]\n",
    "        for year in [29, 30]:\n",
    "            subdf2 = subdf.loc[subdf[\"MY\"] == year]\n",
    "            ax.scatter(\"Ls\", \"fraction\", data=subdf2)\n",
    "            ax2 = ax.twinx()\n",
    "            ax2.scatter(\"Ls\", \"n_objects\", data=subdf2, color=\"k\")\n",
    "            # fig.savefig(f\"{region}.trial3.png\")\n",
    "            plt.close()"
   ]
  },
  {
   "cell_type": "code",
   "execution_count": null,
   "metadata": {},
   "outputs": [],
   "source": [
    "# Don't alter, for reference\n",
    "\n",
    "for region in all_regions[:2]:\n",
    "    fig, axes = plt.subplots(\n",
    "        ncols=3, figsize=(10, 3), constrained_layout=True, sharey=False\n",
    "    )\n",
    "    fig.suptitle(region)\n",
    "    df1 = data.loc[data[\"region_name\"] == region]\n",
    "    max_fraction = df1.fraction.max()\n",
    "    min_fraction = df1.fraction.min()\n",
    "    max_nobs = df1.n_objects.max()\n",
    "    min_nobs = df1.n_objects.min()\n",
    "    for ax, select in zip(axes, [\"both\", \"fans\", \"blotches\"]):\n",
    "        ax.set_title(select)\n",
    "        ax.set_xlabel(\"Ls [deg]\")\n",
    "        ax.set_ylabel(\"fraction of coverage\")\n",
    "        subdf = df1[df1[\"Which\"] == select]\n",
    "        ax2 = ax.twinx()\n",
    "        legend_bucket = []\n",
    "        for year, c in zip([29, 30], [\"g\", \"k\"]):\n",
    "            subdf2 = subdf.loc[subdf[\"MY\"] == year]\n",
    "            legend_bucket.append(\n",
    "                ax.scatter(\"Ls\", \"fraction\", data=subdf2, label=year, alpha=0.7)\n",
    "            )\n",
    "\n",
    "            legend_bucket.append(\n",
    "                ax2.scatter(\n",
    "                    \"Ls\",\n",
    "                    \"n_objects\",\n",
    "                    data=subdf2,\n",
    "                    #                 color=c,\n",
    "                    marker=\"*\",\n",
    "                    label=f\"{year} (right)\",\n",
    "                    alpha=0.7,\n",
    "                )\n",
    "            )\n",
    "        ax.set_ylim(0, max_fraction * 1.1)\n",
    "        ax2.set_ylim(0, max_nobs * 1.1)\n",
    "    leg = fig.legend(\n",
    "        legend_bucket,\n",
    "        (\"29 fraction\", \"29 n_objs\", \"30 fraction\", \"30 n_obs\"),\n",
    "        ncol=2,\n",
    "        bbox_to_anchor=(0.4, 0.95),\n",
    "        prop={\"size\": 6},\n",
    "        fancybox=True,\n",
    "        shadow=True,\n",
    "    )"
   ]
  },
  {
   "cell_type": "code",
   "execution_count": 17,
   "metadata": {},
   "outputs": [
    {
     "data": {
      "application/vnd.jupyter.widget-view+json": {
       "model_id": "71616e0414f14c27bed7967cc95b788c",
       "version_major": 2,
       "version_minor": 0
      },
      "text/plain": [
       "FigureCanvasNbAgg()"
      ]
     },
     "metadata": {},
     "output_type": "display_data"
    },
    {
     "data": {
      "application/vnd.jupyter.widget-view+json": {
       "model_id": "6a83ffdf666649e185c10fb003130be2",
       "version_major": 2,
       "version_minor": 0
      },
      "text/plain": [
       "FigureCanvasNbAgg()"
      ]
     },
     "metadata": {},
     "output_type": "display_data"
    },
    {
     "data": {
      "application/vnd.jupyter.widget-view+json": {
       "model_id": "2f6309ab705b4856a4fc7490b050a28e",
       "version_major": 2,
       "version_minor": 0
      },
      "text/plain": [
       "FigureCanvasNbAgg()"
      ]
     },
     "metadata": {},
     "output_type": "display_data"
    },
    {
     "data": {
      "application/vnd.jupyter.widget-view+json": {
       "model_id": "b3bab82d0b9a482886da3a68299f9261",
       "version_major": 2,
       "version_minor": 0
      },
      "text/plain": [
       "FigureCanvasNbAgg()"
      ]
     },
     "metadata": {},
     "output_type": "display_data"
    },
    {
     "data": {
      "application/vnd.jupyter.widget-view+json": {
       "model_id": "e1dce24d1503489b959a0fad90a19cff",
       "version_major": 2,
       "version_minor": 0
      },
      "text/plain": [
       "FigureCanvasNbAgg()"
      ]
     },
     "metadata": {},
     "output_type": "display_data"
    },
    {
     "data": {
      "application/vnd.jupyter.widget-view+json": {
       "model_id": "0c23c6c98c9344cc9c5c7de690f994c5",
       "version_major": 2,
       "version_minor": 0
      },
      "text/plain": [
       "FigureCanvasNbAgg()"
      ]
     },
     "metadata": {},
     "output_type": "display_data"
    },
    {
     "data": {
      "application/vnd.jupyter.widget-view+json": {
       "model_id": "16dbb6f510644a4e98d6d7c75228a32e",
       "version_major": 2,
       "version_minor": 0
      },
      "text/plain": [
       "FigureCanvasNbAgg()"
      ]
     },
     "metadata": {},
     "output_type": "display_data"
    },
    {
     "data": {
      "application/vnd.jupyter.widget-view+json": {
       "model_id": "d96bebc6f9384dada70bf53a9253db1d",
       "version_major": 2,
       "version_minor": 0
      },
      "text/plain": [
       "FigureCanvasNbAgg()"
      ]
     },
     "metadata": {},
     "output_type": "display_data"
    },
    {
     "data": {
      "application/vnd.jupyter.widget-view+json": {
       "model_id": "72e276580f39468b837b222b33519418",
       "version_major": 2,
       "version_minor": 0
      },
      "text/plain": [
       "FigureCanvasNbAgg()"
      ]
     },
     "metadata": {},
     "output_type": "display_data"
    },
    {
     "data": {
      "application/vnd.jupyter.widget-view+json": {
       "model_id": "39d93ed067704d2dbf7e3737ab9c2187",
       "version_major": 2,
       "version_minor": 0
      },
      "text/plain": [
       "FigureCanvasNbAgg()"
      ]
     },
     "metadata": {},
     "output_type": "display_data"
    },
    {
     "data": {
      "application/vnd.jupyter.widget-view+json": {
       "model_id": "27a68356c912466e82c35c33188260e1",
       "version_major": 2,
       "version_minor": 0
      },
      "text/plain": [
       "FigureCanvasNbAgg()"
      ]
     },
     "metadata": {},
     "output_type": "display_data"
    },
    {
     "data": {
      "application/vnd.jupyter.widget-view+json": {
       "model_id": "aab480440a4a4541b8820f172fd7d2ec",
       "version_major": 2,
       "version_minor": 0
      },
      "text/plain": [
       "FigureCanvasNbAgg()"
      ]
     },
     "metadata": {},
     "output_type": "display_data"
    },
    {
     "data": {
      "application/vnd.jupyter.widget-view+json": {
       "model_id": "0834a8e3244240be96088ba4d6b5b154",
       "version_major": 2,
       "version_minor": 0
      },
      "text/plain": [
       "FigureCanvasNbAgg()"
      ]
     },
     "metadata": {},
     "output_type": "display_data"
    },
    {
     "data": {
      "application/vnd.jupyter.widget-view+json": {
       "model_id": "4bab032d016141b887976a300a8a8fe4",
       "version_major": 2,
       "version_minor": 0
      },
      "text/plain": [
       "FigureCanvasNbAgg()"
      ]
     },
     "metadata": {},
     "output_type": "display_data"
    },
    {
     "data": {
      "application/vnd.jupyter.widget-view+json": {
       "model_id": "1a30858c60cf48a4982042a247adbb46",
       "version_major": 2,
       "version_minor": 0
      },
      "text/plain": [
       "FigureCanvasNbAgg()"
      ]
     },
     "metadata": {},
     "output_type": "display_data"
    },
    {
     "data": {
      "application/vnd.jupyter.widget-view+json": {
       "model_id": "a49261fd2adb4ce89542dceda82e4189",
       "version_major": 2,
       "version_minor": 0
      },
      "text/plain": [
       "FigureCanvasNbAgg()"
      ]
     },
     "metadata": {},
     "output_type": "display_data"
    },
    {
     "data": {
      "application/vnd.jupyter.widget-view+json": {
       "model_id": "4fbcd272a5b54a1a9b745fb163d0c8c6",
       "version_major": 2,
       "version_minor": 0
      },
      "text/plain": [
       "FigureCanvasNbAgg()"
      ]
     },
     "metadata": {},
     "output_type": "display_data"
    },
    {
     "data": {
      "application/vnd.jupyter.widget-view+json": {
       "model_id": "f854f6ed73e44899bd0f51d94bd78204",
       "version_major": 2,
       "version_minor": 0
      },
      "text/plain": [
       "FigureCanvasNbAgg()"
      ]
     },
     "metadata": {},
     "output_type": "display_data"
    },
    {
     "data": {
      "application/vnd.jupyter.widget-view+json": {
       "model_id": "70f1e3b4a6ea41229eaa0ef643999b50",
       "version_major": 2,
       "version_minor": 0
      },
      "text/plain": [
       "FigureCanvasNbAgg()"
      ]
     },
     "metadata": {},
     "output_type": "display_data"
    },
    {
     "data": {
      "application/vnd.jupyter.widget-view+json": {
       "model_id": "549f934d479e489f929ca41c10b16280",
       "version_major": 2,
       "version_minor": 0
      },
      "text/plain": [
       "FigureCanvasNbAgg()"
      ]
     },
     "metadata": {},
     "output_type": "display_data"
    },
    {
     "name": "stderr",
     "output_type": "stream",
     "text": [
      "C:\\Users\\Zade Alfalah\\AppData\\Local\\conda\\conda\\envs\\py37\\lib\\site-packages\\matplotlib\\pyplot.py:514: RuntimeWarning: More than 20 figures have been opened. Figures created through the pyplot interface (`matplotlib.pyplot.figure`) are retained until explicitly closed and may consume too much memory. (To control this warning, see the rcParam `figure.max_open_warning`).\n",
      "  max_open_warning, RuntimeWarning)\n"
     ]
    },
    {
     "data": {
      "application/vnd.jupyter.widget-view+json": {
       "model_id": "ffb304b781d74aec885831d729265529",
       "version_major": 2,
       "version_minor": 0
      },
      "text/plain": [
       "FigureCanvasNbAgg()"
      ]
     },
     "metadata": {},
     "output_type": "display_data"
    },
    {
     "name": "stderr",
     "output_type": "stream",
     "text": [
      "C:\\Users\\Zade Alfalah\\AppData\\Local\\conda\\conda\\envs\\py37\\lib\\site-packages\\matplotlib\\pyplot.py:514: RuntimeWarning: More than 20 figures have been opened. Figures created through the pyplot interface (`matplotlib.pyplot.figure`) are retained until explicitly closed and may consume too much memory. (To control this warning, see the rcParam `figure.max_open_warning`).\n",
      "  max_open_warning, RuntimeWarning)\n"
     ]
    },
    {
     "data": {
      "application/vnd.jupyter.widget-view+json": {
       "model_id": "ceedd6a538a94efcbdf330b3fc050dd8",
       "version_major": 2,
       "version_minor": 0
      },
      "text/plain": [
       "FigureCanvasNbAgg()"
      ]
     },
     "metadata": {},
     "output_type": "display_data"
    },
    {
     "name": "stderr",
     "output_type": "stream",
     "text": [
      "C:\\Users\\Zade Alfalah\\AppData\\Local\\conda\\conda\\envs\\py37\\lib\\site-packages\\matplotlib\\pyplot.py:514: RuntimeWarning: More than 20 figures have been opened. Figures created through the pyplot interface (`matplotlib.pyplot.figure`) are retained until explicitly closed and may consume too much memory. (To control this warning, see the rcParam `figure.max_open_warning`).\n",
      "  max_open_warning, RuntimeWarning)\n"
     ]
    },
    {
     "data": {
      "application/vnd.jupyter.widget-view+json": {
       "model_id": "3771b0b8cb9748b39c2d0b20885fe8fc",
       "version_major": 2,
       "version_minor": 0
      },
      "text/plain": [
       "FigureCanvasNbAgg()"
      ]
     },
     "metadata": {},
     "output_type": "display_data"
    },
    {
     "name": "stderr",
     "output_type": "stream",
     "text": [
      "C:\\Users\\Zade Alfalah\\AppData\\Local\\conda\\conda\\envs\\py37\\lib\\site-packages\\matplotlib\\pyplot.py:514: RuntimeWarning: More than 20 figures have been opened. Figures created through the pyplot interface (`matplotlib.pyplot.figure`) are retained until explicitly closed and may consume too much memory. (To control this warning, see the rcParam `figure.max_open_warning`).\n",
      "  max_open_warning, RuntimeWarning)\n"
     ]
    },
    {
     "data": {
      "application/vnd.jupyter.widget-view+json": {
       "model_id": "56dfa2acbedc4af88539c7798dfde432",
       "version_major": 2,
       "version_minor": 0
      },
      "text/plain": [
       "FigureCanvasNbAgg()"
      ]
     },
     "metadata": {},
     "output_type": "display_data"
    },
    {
     "name": "stderr",
     "output_type": "stream",
     "text": [
      "C:\\Users\\Zade Alfalah\\AppData\\Local\\conda\\conda\\envs\\py37\\lib\\site-packages\\matplotlib\\pyplot.py:514: RuntimeWarning: More than 20 figures have been opened. Figures created through the pyplot interface (`matplotlib.pyplot.figure`) are retained until explicitly closed and may consume too much memory. (To control this warning, see the rcParam `figure.max_open_warning`).\n",
      "  max_open_warning, RuntimeWarning)\n"
     ]
    },
    {
     "data": {
      "application/vnd.jupyter.widget-view+json": {
       "model_id": "e50b5b89f7e44cb3bfa957b3a3922a7b",
       "version_major": 2,
       "version_minor": 0
      },
      "text/plain": [
       "FigureCanvasNbAgg()"
      ]
     },
     "metadata": {},
     "output_type": "display_data"
    },
    {
     "name": "stderr",
     "output_type": "stream",
     "text": [
      "C:\\Users\\Zade Alfalah\\AppData\\Local\\conda\\conda\\envs\\py37\\lib\\site-packages\\matplotlib\\pyplot.py:514: RuntimeWarning: More than 20 figures have been opened. Figures created through the pyplot interface (`matplotlib.pyplot.figure`) are retained until explicitly closed and may consume too much memory. (To control this warning, see the rcParam `figure.max_open_warning`).\n",
      "  max_open_warning, RuntimeWarning)\n"
     ]
    },
    {
     "data": {
      "application/vnd.jupyter.widget-view+json": {
       "model_id": "59ab56c4cd484d908d15042e31591266",
       "version_major": 2,
       "version_minor": 0
      },
      "text/plain": [
       "FigureCanvasNbAgg()"
      ]
     },
     "metadata": {},
     "output_type": "display_data"
    },
    {
     "data": {
      "application/javascript": [
       "\n",
       "        setTimeout(function() {\n",
       "            var nbb_cell_id = 17;\n",
       "            var nbb_formatted_code = \"for region in all_regions[:]:\\n    fig, axes = plt.subplots(\\n        ncols=3, nrows=2, figsize=(10, 5), constrained_layout=True, sharey=False\\n    )\\n    fig.suptitle(region)\\n    df1 = data.loc[data[\\\"region_name\\\"] == region]\\n    max_fraction = df1.fraction.max()\\n    min_fraction = df1.fraction.min()\\n    max_nobs = df1.n_objects.max()\\n    min_nobs = df1.n_objects.min()\\n    for ax, select in zip(axes[0], [\\\"both\\\", \\\"fans\\\", \\\"blotches\\\"]):\\n        ax.set_title(select)\\n        ax.set_xlabel(\\\"Ls [deg]\\\")\\n        ax.set_ylabel(\\\"fraction of coverage\\\")\\n        subdf = df1[df1[\\\"Which\\\"] == select]\\n        legend_bucket = []\\n        for year, c in zip([29, 30], [\\\"g\\\", \\\"k\\\"]):\\n            subdf2 = subdf.loc[subdf[\\\"MY\\\"] == year]\\n            legend_bucket.append(\\n                ax.scatter(\\\"Ls\\\", \\\"fraction\\\", data=subdf2, label=year, alpha=0.7)\\n            )\\n        ax.set_ylim(0, max_fraction * 1.1)\\n\\n    leg = fig.legend(\\n        legend_bucket,\\n        (\\\"Mars Year 29\\\", \\\"Mars Year 30\\\"),\\n        ncol=2,\\n        bbox_to_anchor=(0.4, 0.95),\\n        prop={\\\"size\\\": 6},\\n        fancybox=True,\\n        shadow=True,\\n    )\\n\\n    for ax, select in zip(axes[1], [\\\"both\\\", \\\"fans\\\", \\\"blotches\\\"]):\\n        subdf = df1[df1[\\\"Which\\\"] == select]\\n        ax.set_ylabel(\\\"N Obj\\\")\\n        ax.set_xlabel(\\\"Ls[deg]\\\")\\n        legend_bucket = []\\n        for year, c in zip([29, 30], [\\\"g\\\", \\\"k\\\"]):\\n            subdf2 = subdf.loc[subdf[\\\"MY\\\"] == year]\\n            legend_bucket.append(\\n                ax.scatter(\\n                    \\\"Ls\\\",\\n                    \\\"n_objects\\\",\\n                    data=subdf2,\\n                    #                 color=c,\\n                    marker=\\\"*\\\",\\n                    label=f\\\"{year} (right)\\\",\\n                    alpha=0.7,\\n                )\\n            )\\n        ax.set_ylim(0, max_nobs * 1.1)\\n\\nfig.savefig(f\\\"{region}.trial8.png\\\")\";\n",
       "            var nbb_cells = Jupyter.notebook.get_cells();\n",
       "            for (var i = 0; i < nbb_cells.length; ++i) {\n",
       "                if (nbb_cells[i].input_prompt_number == nbb_cell_id) {\n",
       "                    nbb_cells[i].set_text(nbb_formatted_code);\n",
       "                    break;\n",
       "                }\n",
       "            }\n",
       "        }, 500);\n",
       "        "
      ],
      "text/plain": [
       "<IPython.core.display.Javascript object>"
      ]
     },
     "metadata": {},
     "output_type": "display_data"
    }
   ],
   "source": [
    "for region in all_regions[:]:\n",
    "    fig, axes = plt.subplots(\n",
    "        ncols=3, nrows=2, figsize=(10, 5), constrained_layout=True, sharey=False\n",
    "    )\n",
    "    fig.suptitle(region)\n",
    "    df1 = data.loc[data[\"region_name\"] == region]\n",
    "    max_fraction = df1.fraction.max()\n",
    "    min_fraction = df1.fraction.min()\n",
    "    max_nobs = df1.n_objects.max()\n",
    "    min_nobs = df1.n_objects.min()\n",
    "    for ax, select in zip(axes[0], [\"both\", \"fans\", \"blotches\"]):\n",
    "        ax.set_title(select)\n",
    "        ax.set_xlabel(\"Ls [deg]\")\n",
    "        ax.set_ylabel(\"fraction of coverage\")\n",
    "        subdf = df1[df1[\"Which\"] == select]\n",
    "        legend_bucket = []\n",
    "        for year, c in zip([29, 30], [\"g\", \"k\"]):\n",
    "            subdf2 = subdf.loc[subdf[\"MY\"] == year]\n",
    "            legend_bucket.append(\n",
    "                ax.scatter(\"Ls\", \"fraction\", data=subdf2, label=year, alpha=0.7)\n",
    "            )\n",
    "        ax.set_ylim(0, max_fraction * 1.1)\n",
    "\n",
    "    leg = fig.legend(\n",
    "        legend_bucket,\n",
    "        (\"Mars Year 29\", \"Mars Year 30\"),\n",
    "        ncol=2,\n",
    "        bbox_to_anchor=(0.4, 0.95),\n",
    "        prop={\"size\": 6},\n",
    "        fancybox=True,\n",
    "        shadow=True,\n",
    "    )\n",
    "\n",
    "    for ax, select in zip(axes[1], [\"both\", \"fans\", \"blotches\"]):\n",
    "        subdf = df1[df1[\"Which\"] == select]\n",
    "        ax.set_ylabel(\"N Obj\")\n",
    "        ax.set_xlabel(\"Ls[deg]\")\n",
    "        legend_bucket = []\n",
    "        for year, c in zip([29, 30], [\"g\", \"k\"]):\n",
    "            subdf2 = subdf.loc[subdf[\"MY\"] == year]\n",
    "            legend_bucket.append(\n",
    "                ax.scatter(\n",
    "                    \"Ls\",\n",
    "                    \"n_objects\",\n",
    "                    data=subdf2,\n",
    "                    #                 color=c,\n",
    "                    marker=\"*\",\n",
    "                    label=f\"{year} (right)\",\n",
    "                    alpha=0.7,\n",
    "                )\n",
    "            )\n",
    "        ax.set_ylim(0, max_nobs * 1.1)\n",
    "\n",
    "fig.savefig(f\"{region}.trial8.png\")"
   ]
  },
  {
   "cell_type": "code",
   "execution_count": null,
   "metadata": {},
   "outputs": [],
   "source": []
  }
 ],
 "metadata": {
  "kernelspec": {
   "display_name": "Python 3",
   "language": "python",
   "name": "python3"
  },
  "language_info": {
   "codemirror_mode": {
    "name": "ipython",
    "version": 3
   },
   "file_extension": ".py",
   "mimetype": "text/x-python",
   "name": "python",
   "nbconvert_exporter": "python",
   "pygments_lexer": "ipython3",
   "version": "3.7.1"
  }
 },
 "nbformat": 4,
 "nbformat_minor": 2
}
