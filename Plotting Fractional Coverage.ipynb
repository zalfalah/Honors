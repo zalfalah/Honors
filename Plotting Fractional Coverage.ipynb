{
 "cells": [
  {
   "cell_type": "code",
   "execution_count": 1,
   "metadata": {},
   "outputs": [],
   "source": [
    "import sys\n",
    "if sys.platform == \"darwin\":  # michael's config\n",
    "    # because Michael is using jupyter lab\n",
    "    %load_ext lab_black\n",
    "else:  # zade's config\n",
    "    # because Zade is using jupyter notebook\n",
    "    %load_ext nb_black"
   ]
  },
  {
   "cell_type": "code",
   "execution_count": 2,
   "metadata": {},
   "outputs": [
    {
     "data": {
      "application/javascript": [
       "\n",
       "        setTimeout(function() {\n",
       "            var nbb_cell_id = 2;\n",
       "            var nbb_formatted_code = \"import numpy as np\\nimport geopandas as gp\\nimport shapely\\nfrom planet4 import io, markings\";\n",
       "            var nbb_cells = Jupyter.notebook.get_cells();\n",
       "            for (var i = 0; i < nbb_cells.length; ++i) {\n",
       "                if (nbb_cells[i].input_prompt_number == nbb_cell_id) {\n",
       "                    nbb_cells[i].set_text(nbb_formatted_code);\n",
       "                    break;\n",
       "                }\n",
       "            }\n",
       "        }, 500);\n",
       "        "
      ],
      "text/plain": [
       "<IPython.core.display.Javascript object>"
      ]
     },
     "metadata": {},
     "output_type": "display_data"
    }
   ],
   "source": [
    "import numpy as np\n",
    "import geopandas as gp\n",
    "import shapely\n",
    "from planet4 import io, markings"
   ]
  },
  {
   "cell_type": "code",
   "execution_count": 3,
   "metadata": {},
   "outputs": [
    {
     "data": {
      "application/javascript": [
       "\n",
       "        setTimeout(function() {\n",
       "            var nbb_cell_id = 3;\n",
       "            var nbb_formatted_code = \"from coverage_utils import CoverageCalculator, get_obsids_for_region\\nfrom my_io import get_tilecoords, get_metadata, get_region_names\";\n",
       "            var nbb_cells = Jupyter.notebook.get_cells();\n",
       "            for (var i = 0; i < nbb_cells.length; ++i) {\n",
       "                if (nbb_cells[i].input_prompt_number == nbb_cell_id) {\n",
       "                    nbb_cells[i].set_text(nbb_formatted_code);\n",
       "                    break;\n",
       "                }\n",
       "            }\n",
       "        }, 500);\n",
       "        "
      ],
      "text/plain": [
       "<IPython.core.display.Javascript object>"
      ]
     },
     "metadata": {},
     "output_type": "display_data"
    }
   ],
   "source": [
    "from coverage_utils import CoverageCalculator, get_obsids_for_region\n",
    "from my_io import get_tilecoords, get_metadata, get_region_names"
   ]
  },
  {
   "cell_type": "code",
   "execution_count": 4,
   "metadata": {},
   "outputs": [
    {
     "data": {
      "application/javascript": [
       "\n",
       "        setTimeout(function() {\n",
       "            var nbb_cell_id = 4;\n",
       "            var nbb_formatted_code = \"import pandas as pd\\nimport matplotlib.pyplot as plt\";\n",
       "            var nbb_cells = Jupyter.notebook.get_cells();\n",
       "            for (var i = 0; i < nbb_cells.length; ++i) {\n",
       "                if (nbb_cells[i].input_prompt_number == nbb_cell_id) {\n",
       "                    nbb_cells[i].set_text(nbb_formatted_code);\n",
       "                    break;\n",
       "                }\n",
       "            }\n",
       "        }, 500);\n",
       "        "
      ],
      "text/plain": [
       "<IPython.core.display.Javascript object>"
      ]
     },
     "metadata": {},
     "output_type": "display_data"
    }
   ],
   "source": [
    "import pandas as pd\n",
    "import matplotlib.pyplot as plt"
   ]
  },
  {
   "cell_type": "code",
   "execution_count": 5,
   "metadata": {},
   "outputs": [
    {
     "data": {
      "application/javascript": [
       "\n",
       "        setTimeout(function() {\n",
       "            var nbb_cell_id = 5;\n",
       "            var nbb_formatted_code = \"%matplotlib widget\";\n",
       "            var nbb_cells = Jupyter.notebook.get_cells();\n",
       "            for (var i = 0; i < nbb_cells.length; ++i) {\n",
       "                if (nbb_cells[i].input_prompt_number == nbb_cell_id) {\n",
       "                    nbb_cells[i].set_text(nbb_formatted_code);\n",
       "                    break;\n",
       "                }\n",
       "            }\n",
       "        }, 500);\n",
       "        "
      ],
      "text/plain": [
       "<IPython.core.display.Javascript object>"
      ]
     },
     "metadata": {},
     "output_type": "display_data"
    }
   ],
   "source": [
    "%matplotlib widget"
   ]
  },
  {
   "cell_type": "code",
   "execution_count": 6,
   "metadata": {},
   "outputs": [
    {
     "name": "stdout",
     "output_type": "stream",
     "text": [
      "Reading fans and blotches in...\n",
      "Done.\n",
      "Reading metadata...\n",
      "Done.\n",
      "Note that obsid must be set to a string value before this works.\n"
     ]
    },
    {
     "data": {
      "application/javascript": [
       "\n",
       "        setTimeout(function() {\n",
       "            var nbb_cell_id = 6;\n",
       "            var nbb_formatted_code = \"# the `which` setting is by default 'both'\\ncc = CoverageCalculator()\";\n",
       "            var nbb_cells = Jupyter.notebook.get_cells();\n",
       "            for (var i = 0; i < nbb_cells.length; ++i) {\n",
       "                if (nbb_cells[i].input_prompt_number == nbb_cell_id) {\n",
       "                    nbb_cells[i].set_text(nbb_formatted_code);\n",
       "                    break;\n",
       "                }\n",
       "            }\n",
       "        }, 500);\n",
       "        "
      ],
      "text/plain": [
       "<IPython.core.display.Javascript object>"
      ]
     },
     "metadata": {},
     "output_type": "display_data"
    }
   ],
   "source": [
    "# the `which` setting is by default 'both'\n",
    "cc = CoverageCalculator()"
   ]
  },
  {
   "cell_type": "code",
   "execution_count": 7,
   "metadata": {},
   "outputs": [
    {
     "data": {
      "application/javascript": [
       "\n",
       "        setTimeout(function() {\n",
       "            var nbb_cell_id = 7;\n",
       "            var nbb_formatted_code = \"all_regions = get_region_names().roi_name.unique()\";\n",
       "            var nbb_cells = Jupyter.notebook.get_cells();\n",
       "            for (var i = 0; i < nbb_cells.length; ++i) {\n",
       "                if (nbb_cells[i].input_prompt_number == nbb_cell_id) {\n",
       "                    nbb_cells[i].set_text(nbb_formatted_code);\n",
       "                    break;\n",
       "                }\n",
       "            }\n",
       "        }, 500);\n",
       "        "
      ],
      "text/plain": [
       "<IPython.core.display.Javascript object>"
      ]
     },
     "metadata": {},
     "output_type": "display_data"
    }
   ],
   "source": [
    "all_regions = get_region_names().roi_name.unique()"
   ]
  },
  {
   "cell_type": "code",
   "execution_count": 8,
   "metadata": {},
   "outputs": [
    {
     "data": {
      "application/javascript": [
       "\n",
       "        setTimeout(function() {\n",
       "            var nbb_cell_id = 8;\n",
       "            var nbb_formatted_code = \"all_regions = [\\n    region for region in all_regions if region not in [\\\"unknown\\\", \\\"Manhattan2\\\"]\\n]\";\n",
       "            var nbb_cells = Jupyter.notebook.get_cells();\n",
       "            for (var i = 0; i < nbb_cells.length; ++i) {\n",
       "                if (nbb_cells[i].input_prompt_number == nbb_cell_id) {\n",
       "                    nbb_cells[i].set_text(nbb_formatted_code);\n",
       "                    break;\n",
       "                }\n",
       "            }\n",
       "        }, 500);\n",
       "        "
      ],
      "text/plain": [
       "<IPython.core.display.Javascript object>"
      ]
     },
     "metadata": {},
     "output_type": "display_data"
    }
   ],
   "source": [
    "all_regions = [\n",
    "    region for region in all_regions if region not in [\"unknown\", \"Manhattan2\"]\n",
    "]"
   ]
  },
  {
   "cell_type": "code",
   "execution_count": 9,
   "metadata": {
    "scrolled": true
   },
   "outputs": [
    {
     "data": {
      "text/plain": [
       "['Macclesfield',\n",
       " 'Starburst',\n",
       " 'Manhattan_Classic',\n",
       " 'Wellington',\n",
       " 'Albany',\n",
       " 'Bilbao',\n",
       " 'Ithaca',\n",
       " 'Portsmouth',\n",
       " 'Pisaq',\n",
       " 'Manhattan_Frontinella',\n",
       " 'BuenosAires',\n",
       " 'Inca_City_Ridges',\n",
       " 'Inca_City',\n",
       " 'Giza',\n",
       " 'Potsdam',\n",
       " 'Troy',\n",
       " 'Oswego_Edge',\n",
       " 'Halifax',\n",
       " 'Caterpillar',\n",
       " 'Rochester',\n",
       " 'Manhattan_Cracks',\n",
       " 'Schenectady',\n",
       " 'Binghamton',\n",
       " 'Atka',\n",
       " 'Cortland',\n",
       " 'Geneseo']"
      ]
     },
     "execution_count": 9,
     "metadata": {},
     "output_type": "execute_result"
    },
    {
     "data": {
      "application/javascript": [
       "\n",
       "        setTimeout(function() {\n",
       "            var nbb_cell_id = 9;\n",
       "            var nbb_formatted_code = \"all_regions\";\n",
       "            var nbb_cells = Jupyter.notebook.get_cells();\n",
       "            for (var i = 0; i < nbb_cells.length; ++i) {\n",
       "                if (nbb_cells[i].input_prompt_number == nbb_cell_id) {\n",
       "                    nbb_cells[i].set_text(nbb_formatted_code);\n",
       "                    break;\n",
       "                }\n",
       "            }\n",
       "        }, 500);\n",
       "        "
      ],
      "text/plain": [
       "<IPython.core.display.Javascript object>"
      ]
     },
     "metadata": {},
     "output_type": "display_data"
    }
   ],
   "source": [
    "all_regions"
   ]
  },
  {
   "cell_type": "code",
   "execution_count": 10,
   "metadata": {},
   "outputs": [
    {
     "data": {
      "application/javascript": [
       "\n",
       "        setTimeout(function() {\n",
       "            var nbb_cell_id = 10;\n",
       "            var nbb_formatted_code = \"data = pd.read_csv(\\\"n_obj_df.csv\\\")\";\n",
       "            var nbb_cells = Jupyter.notebook.get_cells();\n",
       "            for (var i = 0; i < nbb_cells.length; ++i) {\n",
       "                if (nbb_cells[i].input_prompt_number == nbb_cell_id) {\n",
       "                    nbb_cells[i].set_text(nbb_formatted_code);\n",
       "                    break;\n",
       "                }\n",
       "            }\n",
       "        }, 500);\n",
       "        "
      ],
      "text/plain": [
       "<IPython.core.display.Javascript object>"
      ]
     },
     "metadata": {},
     "output_type": "display_data"
    }
   ],
   "source": [
    "data = pd.read_csv(\"n_obj_df.csv\")"
   ]
  },
  {
   "cell_type": "code",
   "execution_count": 35,
   "metadata": {},
   "outputs": [
    {
     "name": "stdout",
     "output_type": "stream",
     "text": [
      "176.075 302.421\n"
     ]
    },
    {
     "data": {
      "application/javascript": [
       "\n",
       "        setTimeout(function() {\n",
       "            var nbb_cell_id = 35;\n",
       "            var nbb_formatted_code = \"print(data[\\\"Ls\\\"].min(), data[\\\"Ls\\\"].max())\";\n",
       "            var nbb_cells = Jupyter.notebook.get_cells();\n",
       "            for (var i = 0; i < nbb_cells.length; ++i) {\n",
       "                if (nbb_cells[i].input_prompt_number == nbb_cell_id) {\n",
       "                    nbb_cells[i].set_text(nbb_formatted_code);\n",
       "                    break;\n",
       "                }\n",
       "            }\n",
       "        }, 500);\n",
       "        "
      ],
      "text/plain": [
       "<IPython.core.display.Javascript object>"
      ]
     },
     "metadata": {},
     "output_type": "display_data"
    }
   ],
   "source": [
    "print(data[\"Ls\"].min(), data[\"Ls\"].max())"
   ]
  },
  {
   "cell_type": "code",
   "execution_count": null,
   "metadata": {},
   "outputs": [],
   "source": [
    "for region in all_regions[:2]:\n",
    "    fig, axes = plt.subplots(\n",
    "        ncols=3, nrows=2, figsize=(10, 5), constrained_layout=True, sharey=False\n",
    "    )\n",
    "    fig.suptitle(region)\n",
    "    df1 = data.loc[data[\"region_name\"] == region]\n",
    "    max_fraction = df1.fraction.max()\n",
    "    min_fraction = df1.fraction.min()\n",
    "    max_nobs = df1.n_objects.max()\n",
    "    min_nobs = df1.n_objects.min()\n",
    "    for ax, select in zip(axes[0], [\"both\", \"fans\", \"blotches\"]):\n",
    "        ax.set_title(select)\n",
    "        ax.set_xlabel(\"Ls [deg]\")\n",
    "        ax.set_ylabel(\"fraction of coverage\")\n",
    "        subdf = df1[df1[\"Which\"] == select]\n",
    "        legend_bucket = []\n",
    "        for year, c in zip([29, 30], [\"g\", \"k\"]):\n",
    "            subdf2 = subdf.loc[subdf[\"MY\"] == year]\n",
    "            legend_bucket.append(\n",
    "                ax.scatter(\"Ls\", \"fraction\", data=subdf2, label=year, alpha=0.7)\n",
    "            )\n",
    "        ax.set_ylim(0, max_fraction * 1.1)\n",
    "\n",
    "    leg = fig.legend(\n",
    "        legend_bucket,\n",
    "        (\"Mars Year 29\", \"Mars Year 30\"),\n",
    "        ncol=2,\n",
    "        bbox_to_anchor=(0.4, 0.95),\n",
    "        prop={\"size\": 6},\n",
    "        fancybox=True,\n",
    "        shadow=True,\n",
    "    )\n",
    "\n",
    "    for ax, select in zip(axes[1], [\"both\", \"fans\", \"blotches\"]):\n",
    "        subdf = df1[df1[\"Which\"] == select]\n",
    "        ax.set_ylabel(\"N Obj\")\n",
    "        ax.set_xlabel(\"Ls[deg]\")\n",
    "        legend_bucket = []\n",
    "        for year, c in zip([29, 30], [\"g\", \"k\"]):\n",
    "            subdf2 = subdf.loc[subdf[\"MY\"] == year]\n",
    "            legend_bucket.append(\n",
    "                ax.scatter(\n",
    "                    \"Ls\",\n",
    "                    \"n_objects\",\n",
    "                    data=subdf2,\n",
    "                    #                 color=c,\n",
    "                    marker=\"*\",\n",
    "                    label=f\"{year} (right)\",\n",
    "                    alpha=0.7,\n",
    "                )\n",
    "            )\n",
    "        ax.set_ylim(0, max_nobs * 1.1)"
   ]
  },
  {
   "cell_type": "code",
   "execution_count": null,
   "metadata": {
    "scrolled": false
   },
   "outputs": [],
   "source": [
    "for region in all_regions[:2]:\n",
    "    fig, axes = plt.subplots(\n",
    "        ncols=3, nrows=2, figsize=(10, 3), constrained_layout=True, sharey=False\n",
    "    )\n",
    "    fig.suptitle(region)\n",
    "    df1 = data.loc[data[\"region_name\"] == region]\n",
    "    max_fraction = df1.fraction.max()\n",
    "    min_fraction = df1.fraction.min()\n",
    "    max_nobs = df1.n_objects.max()\n",
    "    min_nobs = df1.n_objects.min()\n",
    "    for ax, select in zip(axes[0], [\"both\", \"fans\", \"blotches\"]):\n",
    "        ax.set_title(select)\n",
    "        ax.set_xlabel(\"Ls [deg]\")\n",
    "        ax.set_ylabel(\"fraction of coverage\")\n",
    "        subdf = df1[df1[\"Which\"] == select]\n",
    "        legend_bucket = []\n",
    "        for year, c in zip([29, 30], [\"g\", \"k\"]):\n",
    "            subdf2 = subdf.loc[subdf[\"MY\"] == year]\n",
    "            legend_bucket.append(\n",
    "                ax.scatter(\"Ls\", \"fraction\", data=subdf2, label=year, alpha=0.7)\n",
    "            )\n",
    "        ax.set_ylim(0, max_fraction * 1.1)\n",
    "\n",
    "    leg = fig.legend(\n",
    "        legend_bucket,\n",
    "        (\"Mars Year 29\", \"Mars Year 30\"),\n",
    "        ncol=2,\n",
    "        bbox_to_anchor=(0.4, 0.95),\n",
    "        prop={\"size\": 6},\n",
    "        fancybox=True,\n",
    "        shadow=True,\n",
    "    )\n",
    "\n",
    "    for ax, select in zip(axes[1], [\"both\", \"fans\", \"blotches\"]):\n",
    "        subdf = df1[df1[\"Which\"] == select]\n",
    "        ax.set_ylabel(\"N Obj\")\n",
    "        ax.set_xlabel(\"Ls[deg]\")\n",
    "        legend_bucket = []\n",
    "        for year, c in zip([29, 30], [\"g\", \"k\"]):\n",
    "            subdf2 = subdf.loc[subdf[\"MY\"] == year]\n",
    "            legend_bucket.append(\n",
    "                ax.scatter(\n",
    "                    \"Ls\",\n",
    "                    \"n_objects\",\n",
    "                    data=subdf2,\n",
    "                    #                 color=c,\n",
    "                    marker=\"*\",\n",
    "                    label=f\"{year} (right)\",\n",
    "                    alpha=0.7,\n",
    "                )\n",
    "            )\n",
    "        ax.set_ylim(0, max_nobs * 1.1)"
   ]
  },
  {
   "cell_type": "code",
   "execution_count": null,
   "metadata": {
    "scrolled": true
   },
   "outputs": [],
   "source": [
    "for region in all_regions[-1]:\n",
    "    fig, axes = plt.subplots(\n",
    "        ncols=3, nrows=2, figsize=(10, 5), constrained_layout=True, sharey=False\n",
    "    )\n",
    "    fig.suptitle(region)\n",
    "    df1 = data.loc[data[\"region_name\"] == region]\n",
    "    max_fraction = df1.fraction.max()\n",
    "    min_fraction = df1.fraction.min()\n",
    "    max_nobs = df1.n_objects.max()\n",
    "    min_nobs = df1.n_objects.min()\n",
    "    for ax, select in zip(axes[0], [\"both\", \"fans\", \"blotches\"]):\n",
    "        ax.set_title(select)\n",
    "        ax.set_xlabel(\"Ls [deg]\")\n",
    "        ax.set_ylabel(\"fraction of coverage\")\n",
    "        subdf = df1[df1[\"Which\"] == select]\n",
    "        legend_bucket = []\n",
    "        for year, c in zip([29, 30], [\"g\", \"k\"]):\n",
    "            subdf2 = subdf.loc[subdf[\"MY\"] == year]\n",
    "            legend_bucket.append(\n",
    "                ax.scatter(\"Ls\", \"fraction\", data=subdf2, label=year, alpha=0.7)\n",
    "            )\n",
    "        ax.set_ylim(0, max_fraction * 1.1)\n",
    "\n",
    "    leg = fig.legend(\n",
    "        legend_bucket,\n",
    "        (\"Mars Year 29\", \"Mars Year 30\"),\n",
    "        ncol=2,\n",
    "        bbox_to_anchor=(0.4, 0.95),\n",
    "        prop={\"size\": 6},\n",
    "        fancybox=True,\n",
    "        shadow=True,\n",
    "    )\n",
    "\n",
    "    for ax, select in zip(axes[1], [\"both\", \"fans\", \"blotches\"]):\n",
    "        subdf = df1[df1[\"Which\"] == select]\n",
    "        ax.set_ylabel(\"N Obj\")\n",
    "        ax.set_xlabel(\"Ls[deg]\")\n",
    "        legend_bucket = []\n",
    "        for year, c in zip([29, 30], [\"g\", \"k\"]):\n",
    "            subdf2 = subdf.loc[subdf[\"MY\"] == year]\n",
    "            legend_bucket.append(\n",
    "                ax.scatter(\n",
    "                    \"Ls\",\n",
    "                    \"n_objects\",\n",
    "                    data=subdf2,\n",
    "                    #                 color=c,\n",
    "                    marker=\"*\",\n",
    "                    label=f\"{year} (right)\",\n",
    "                    alpha=0.7,\n",
    "                )\n",
    "            )\n",
    "        ax.set_ylim(0, max_nobs * 1.1)"
   ]
  },
  {
   "cell_type": "code",
   "execution_count": null,
   "metadata": {},
   "outputs": [],
   "source": [
    "trialregions = all_regions[0:3]"
   ]
  },
  {
   "cell_type": "code",
   "execution_count": null,
   "metadata": {},
   "outputs": [],
   "source": [
    "trialregions = all_regions[0:3]"
   ]
  },
  {
   "cell_type": "code",
   "execution_count": null,
   "metadata": {},
   "outputs": [],
   "source": [
    "for region in all_regions[-2]:\n",
    "    fig, axes = plt.subplots(\n",
    "        ncols=3, nrows=2, figsize=(10, 5), constrained_layout=True, sharey=False\n",
    "    )\n",
    "    fig.suptitle(region)\n",
    "    df1 = data.loc[data[\"region_name\"] == region]\n",
    "    max_fraction = df1.fraction.max()\n",
    "    min_fraction = df1.fraction.min()\n",
    "    max_nobs = df1.n_objects.max()\n",
    "    min_nobs = df1.n_objects.min()\n",
    "    for ax, select in zip(axes[0], [\"both\", \"fans\", \"blotches\"]):\n",
    "        ax.set_title(select)\n",
    "        ax.set_xlabel(\"Ls [deg]\")\n",
    "        ax.set_ylabel(\"fraction of coverage\")\n",
    "        subdf = df1[df1[\"Which\"] == select]\n",
    "        legend_bucket = []\n",
    "        for year, c in zip([29, 30], [\"g\", \"k\"]):\n",
    "            subdf2 = subdf.loc[subdf[\"MY\"] == year]\n",
    "            legend_bucket.append(\n",
    "                ax.scatter(\"Ls\", \"fraction\", data=subdf2, label=year, alpha=0.7)\n",
    "            )\n",
    "        ax.set_ylim(0, max_fraction * 1.1)\n",
    "\n",
    "    leg = fig.legend(\n",
    "        legend_bucket,\n",
    "        (\"Mars Year 29\", \"Mars Year 30\"),\n",
    "        ncol=2,\n",
    "        bbox_to_anchor=(0.4, 0.95),\n",
    "        prop={\"size\": 6},\n",
    "        fancybox=True,\n",
    "        shadow=True,\n",
    "    )\n",
    "\n",
    "    for ax, select in zip(axes[1], [\"both\", \"fans\", \"blotches\"]):\n",
    "        subdf = df1[df1[\"Which\"] == select]\n",
    "        ax.set_ylabel(\"N Obj\")\n",
    "        ax.set_xlabel(\"Ls[deg]\")\n",
    "        legend_bucket = []\n",
    "        for year, c in zip([29, 30], [\"g\", \"k\"]):\n",
    "            subdf2 = subdf.loc[subdf[\"MY\"] == year]\n",
    "            legend_bucket.append(\n",
    "                ax.scatter(\n",
    "                    \"Ls\",\n",
    "                    \"n_objects\",\n",
    "                    data=subdf2,\n",
    "                    #                 color=c,\n",
    "                    marker=\"*\",\n",
    "                    label=f\"{year} (right)\",\n",
    "                    alpha=0.7,\n",
    "                )\n",
    "            )\n",
    "        ax.set_ylim(0, max_nobs * 1.1)"
   ]
  },
  {
   "cell_type": "code",
   "execution_count": null,
   "metadata": {},
   "outputs": [],
   "source": [
    "fig, axes = plt.subplots(ncols=3, figsize=(15, 5), constrained_layout=True)\n",
    "for region in all_regions:\n",
    "    for ax, select in zip(axes, [\"both\", \"fans\", \"blotches\"]):\n",
    "        df1 = data.loc[data[\"region_name\"] == region]\n",
    "        subdf = df1.loc[df1[\"Which\"] == select]\n",
    "        for year in [29, 30]:\n",
    "            subdf2 = subdf.loc[subdf[\"MY\"] == year]\n",
    "            ax.scatter(\"Ls\", \"fraction\", data=subdf2)\n",
    "            ax2 = ax.twinx()\n",
    "            ax2.scatter(\"Ls\", \"n_objects\", data=data, color=\"k\")\n",
    "        # plt.savefig(f\"{region}.trial2.png\")\n",
    "        # plt.clf()"
   ]
  },
  {
   "cell_type": "code",
   "execution_count": null,
   "metadata": {},
   "outputs": [],
   "source": [
    "# as above but with plt.close()\n",
    "fig, axes = plt.subplots(ncols=3, figsize=(15, 5), constrained_layout=True)\n",
    "for region in all_regions:\n",
    "    for ax, select in zip(axes, [\"both\", \"fans\", \"blotches\"]):\n",
    "        df1 = data.loc[data[\"region_name\"] == region]\n",
    "        subdf = df1.loc[df1[\"Which\"] == select]\n",
    "        for year in [29, 30]:\n",
    "            subdf2 = subdf.loc[subdf[\"MY\"] == year]\n",
    "            ax.scatter(\"Ls\", \"fraction\", data=subdf2)\n",
    "            ax2 = ax.twinx()\n",
    "            ax2.scatter(\"Ls\", \"n_objects\", data=subdf2, color=\"k\")\n",
    "            # fig.savefig(f\"{region}.trial3.png\")\n",
    "            plt.close()"
   ]
  },
  {
   "cell_type": "code",
   "execution_count": null,
   "metadata": {},
   "outputs": [],
   "source": [
    "# Don't alter, for reference\n",
    "\n",
    "for region in all_regions[:2]:\n",
    "    fig, axes = plt.subplots(\n",
    "        ncols=3, figsize=(10, 3), constrained_layout=True, sharey=False\n",
    "    )\n",
    "    fig.suptitle(region)\n",
    "    df1 = data.loc[data[\"region_name\"] == region]\n",
    "    max_fraction = df1.fraction.max()\n",
    "    min_fraction = df1.fraction.min()\n",
    "    max_nobs = df1.n_objects.max()\n",
    "    min_nobs = df1.n_objects.min()\n",
    "    for ax, select in zip(axes, [\"both\", \"fans\", \"blotches\"]):\n",
    "        ax.set_title(select)\n",
    "        ax.set_xlabel(\"Ls [deg]\")\n",
    "        ax.set_ylabel(\"fraction of coverage\")\n",
    "        subdf = df1[df1[\"Which\"] == select]\n",
    "        ax2 = ax.twinx()\n",
    "        legend_bucket = []\n",
    "        for year, c in zip([29, 30], [\"g\", \"k\"]):\n",
    "            subdf2 = subdf.loc[subdf[\"MY\"] == year]\n",
    "            legend_bucket.append(\n",
    "                ax.scatter(\"Ls\", \"fraction\", data=subdf2, label=year, alpha=0.7)\n",
    "            )\n",
    "\n",
    "            legend_bucket.append(\n",
    "                ax2.scatter(\n",
    "                    \"Ls\",\n",
    "                    \"n_objects\",\n",
    "                    data=subdf2,\n",
    "                    #                 color=c,\n",
    "                    marker=\"*\",\n",
    "                    label=f\"{year} (right)\",\n",
    "                    alpha=0.7,\n",
    "                )\n",
    "            )\n",
    "        ax.set_ylim(0, max_fraction * 1.1)\n",
    "        ax2.set_ylim(0, max_nobs * 1.1)\n",
    "    leg = fig.legend(\n",
    "        legend_bucket,\n",
    "        (\"29 fraction\", \"29 n_objs\", \"30 fraction\", \"30 n_obs\"),\n",
    "        ncol=2,\n",
    "        bbox_to_anchor=(0.4, 0.95),\n",
    "        prop={\"size\": 6},\n",
    "        fancybox=True,\n",
    "        shadow=True,\n",
    "    )"
   ]
  },
  {
   "cell_type": "code",
   "execution_count": 36,
   "metadata": {
    "scrolled": false
   },
   "outputs": [
    {
     "data": {
      "application/vnd.jupyter.widget-view+json": {
       "model_id": "167f74fd11374107bb3879235de087e3",
       "version_major": 2,
       "version_minor": 0
      },
      "text/plain": [
       "FigureCanvasNbAgg()"
      ]
     },
     "metadata": {},
     "output_type": "display_data"
    },
    {
     "data": {
      "application/javascript": [
       "\n",
       "        setTimeout(function() {\n",
       "            var nbb_cell_id = 36;\n",
       "            var nbb_formatted_code = \"for region in all_regions[0:1]:\\n    fig, axes = plt.subplots(\\n        ncols=3,\\n        nrows=2,\\n        figsize=(10, 5),\\n        constrained_layout=True,\\n        sharey=False,\\n        sharex=True,\\n    )\\n    fig.suptitle(region)\\n    df1 = data.loc[data[\\\"region_name\\\"] == region]\\n    max_fraction = df1.fraction.max()\\n    min_fraction = df1.fraction.min()\\n    max_nobs = df1.n_objects.max()\\n    min_nobs = df1.n_objects.min()\\n    for ax, select in zip(axes[0], [\\\"both\\\", \\\"fans\\\", \\\"blotches\\\"]):\\n        ax.set_title(select)\\n        ax.set_ylabel(\\\"Fraction of Coverage\\\")\\n        subdf = df1[df1[\\\"Which\\\"] == select]\\n        legend_bucket = []\\n        for year, c in zip([29, 30], [\\\"g\\\", \\\"k\\\"]):\\n            subdf2 = subdf.loc[subdf[\\\"MY\\\"] == year]\\n            legend_bucket.append(\\n                ax.scatter(\\\"Ls\\\", \\\"fraction\\\", data=subdf2, label=year, alpha=0.7)\\n            )\\n        ax.set_ylim(0, max_fraction * 1.1)\\n        ax.set_xlim(175, 305)\\n\\n    leg = fig.legend(\\n        legend_bucket,\\n        (\\\"Mars Year 29\\\", \\\"Mars Year 30\\\"),\\n        ncol=2,\\n        bbox_to_anchor=(0.4, 0.95),\\n        prop={\\\"size\\\": 6},\\n        fancybox=True,\\n        shadow=True,\\n    )\\n\\n    for ax, select in zip(axes[1], [\\\"both\\\", \\\"fans\\\", \\\"blotches\\\"]):\\n        subdf = df1[df1[\\\"Which\\\"] == select]\\n        ax.set_ylabel(\\\"Number Obj. Hi-Rise Image\\\")\\n        ax.set_xlabel(\\\"Ls[deg]\\\")\\n        legend_bucket = []\\n        for year, c in zip([29, 30], [\\\"g\\\", \\\"k\\\"]):\\n            subdf2 = subdf.loc[subdf[\\\"MY\\\"] == year]\\n            legend_bucket.append(\\n                ax.scatter(\\n                    \\\"Ls\\\",\\n                    \\\"n_objects\\\",\\n                    data=subdf2,\\n                    #                 color=c,\\n                    marker=\\\"*\\\",\\n                    label=f\\\"{year} (right)\\\",\\n                    alpha=0.7,\\n                )\\n            )\\n        ax.set_ylim(0, max_nobs * 1.1)\\n        ax.set_xlim(175, 305)\\n\\n    fig.savefig(f\\\"{region}.trial10.png\\\")\";\n",
       "            var nbb_cells = Jupyter.notebook.get_cells();\n",
       "            for (var i = 0; i < nbb_cells.length; ++i) {\n",
       "                if (nbb_cells[i].input_prompt_number == nbb_cell_id) {\n",
       "                    nbb_cells[i].set_text(nbb_formatted_code);\n",
       "                    break;\n",
       "                }\n",
       "            }\n",
       "        }, 500);\n",
       "        "
      ],
      "text/plain": [
       "<IPython.core.display.Javascript object>"
      ]
     },
     "metadata": {},
     "output_type": "display_data"
    }
   ],
   "source": [
    "for region in all_regions[0:1]:\n",
    "    fig, axes = plt.subplots(\n",
    "        ncols=3,\n",
    "        nrows=2,\n",
    "        figsize=(10, 5),\n",
    "        constrained_layout=True,\n",
    "        sharey=False,\n",
    "        sharex=True,\n",
    "    )\n",
    "    fig.suptitle(region)\n",
    "    df1 = data.loc[data[\"region_name\"] == region]\n",
    "    max_fraction = df1.fraction.max()\n",
    "    min_fraction = df1.fraction.min()\n",
    "    max_nobs = df1.n_objects.max()\n",
    "    min_nobs = df1.n_objects.min()\n",
    "    for ax, select in zip(axes[0], [\"both\", \"fans\", \"blotches\"]):\n",
    "        ax.set_title(select)\n",
    "        ax.set_ylabel(\"Fraction of Coverage\")\n",
    "        subdf = df1[df1[\"Which\"] == select]\n",
    "        legend_bucket = []\n",
    "        for year, c in zip([29, 30], [\"g\", \"k\"]):\n",
    "            subdf2 = subdf.loc[subdf[\"MY\"] == year]\n",
    "            legend_bucket.append(\n",
    "                ax.scatter(\"Ls\", \"fraction\", data=subdf2, label=year, alpha=0.7)\n",
    "            )\n",
    "        ax.set_ylim(0, max_fraction * 1.1)\n",
    "        ax.set_xlim(175, 305)\n",
    "\n",
    "    leg = fig.legend(\n",
    "        legend_bucket,\n",
    "        (\"Mars Year 29\", \"Mars Year 30\"),\n",
    "        ncol=2,\n",
    "        bbox_to_anchor=(0.4, 0.95),\n",
    "        prop={\"size\": 6},\n",
    "        fancybox=True,\n",
    "        shadow=True,\n",
    "    )\n",
    "\n",
    "    for ax, select in zip(axes[1], [\"both\", \"fans\", \"blotches\"]):\n",
    "        subdf = df1[df1[\"Which\"] == select]\n",
    "        ax.set_ylabel(\"Number Obj. Hi-Rise Image\")\n",
    "        ax.set_xlabel(\"Ls[deg]\")\n",
    "        legend_bucket = []\n",
    "        for year, c in zip([29, 30], [\"g\", \"k\"]):\n",
    "            subdf2 = subdf.loc[subdf[\"MY\"] == year]\n",
    "            legend_bucket.append(\n",
    "                ax.scatter(\n",
    "                    \"Ls\",\n",
    "                    \"n_objects\",\n",
    "                    data=subdf2,\n",
    "                    #                 color=c,\n",
    "                    marker=\"*\",\n",
    "                    label=f\"{year} (right)\",\n",
    "                    alpha=0.7,\n",
    "                )\n",
    "            )\n",
    "        ax.set_ylim(0, max_nobs * 1.1)\n",
    "        ax.set_xlim(175, 305)\n",
    "\n",
    "    fig.savefig(f\"{region}.trial10.png\")"
   ]
  },
  {
   "cell_type": "code",
   "execution_count": 27,
   "metadata": {},
   "outputs": [
    {
     "data": {
      "application/javascript": [
       "\n",
       "        setTimeout(function() {\n",
       "            var nbb_cell_id = 27;\n",
       "            var nbb_formatted_code = \"plt.close(\\\"all\\\")\";\n",
       "            var nbb_cells = Jupyter.notebook.get_cells();\n",
       "            for (var i = 0; i < nbb_cells.length; ++i) {\n",
       "                if (nbb_cells[i].input_prompt_number == nbb_cell_id) {\n",
       "                    nbb_cells[i].set_text(nbb_formatted_code);\n",
       "                    break;\n",
       "                }\n",
       "            }\n",
       "        }, 500);\n",
       "        "
      ],
      "text/plain": [
       "<IPython.core.display.Javascript object>"
      ]
     },
     "metadata": {},
     "output_type": "display_data"
    }
   ],
   "source": [
    "plt.close(\"all\")"
   ]
  },
  {
   "cell_type": "code",
   "execution_count": 29,
   "metadata": {},
   "outputs": [
    {
     "data": {
      "application/javascript": [
       "\n",
       "        setTimeout(function() {\n",
       "            var nbb_cell_id = 29;\n",
       "            var nbb_formatted_code = \"import matplotlib\";\n",
       "            var nbb_cells = Jupyter.notebook.get_cells();\n",
       "            for (var i = 0; i < nbb_cells.length; ++i) {\n",
       "                if (nbb_cells[i].input_prompt_number == nbb_cell_id) {\n",
       "                    nbb_cells[i].set_text(nbb_formatted_code);\n",
       "                    break;\n",
       "                }\n",
       "            }\n",
       "        }, 500);\n",
       "        "
      ],
      "text/plain": [
       "<IPython.core.display.Javascript object>"
      ]
     },
     "metadata": {},
     "output_type": "display_data"
    }
   ],
   "source": [
    "import matplotlib"
   ]
  },
  {
   "cell_type": "code",
   "execution_count": null,
   "metadata": {},
   "outputs": [],
   "source": []
  }
 ],
 "metadata": {
  "kernelspec": {
   "display_name": "Python 3",
   "language": "python",
   "name": "python3"
  },
  "language_info": {
   "codemirror_mode": {
    "name": "ipython",
    "version": 3
   },
   "file_extension": ".py",
   "mimetype": "text/x-python",
   "name": "python",
   "nbconvert_exporter": "python",
   "pygments_lexer": "ipython3",
   "version": "3.7.1"
  }
 },
 "nbformat": 4,
 "nbformat_minor": 2
}
