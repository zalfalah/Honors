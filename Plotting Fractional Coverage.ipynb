{
 "cells": [
  {
   "cell_type": "code",
   "execution_count": 1,
   "metadata": {},
   "outputs": [],
   "source": [
    "import sys\n",
    "if sys.platform == \"darwin\":  # michael's config\n",
    "    # because Michael is using jupyter lab\n",
    "    %load_ext lab_black\n",
    "else:  # zade's config\n",
    "    # because Zade is using jupyter notebook\n",
    "    %load_ext nb_black"
   ]
  },
  {
   "cell_type": "code",
   "execution_count": 2,
   "metadata": {},
   "outputs": [
    {
     "data": {
      "application/javascript": [
       "\n",
       "        setTimeout(function() {\n",
       "            var nbb_cell_id = 2;\n",
       "            var nbb_formatted_code = \"import numpy as np\\nimport geopandas as gp\\nimport shapely\\nfrom planet4 import io, markings\";\n",
       "            var nbb_cells = Jupyter.notebook.get_cells();\n",
       "            for (var i = 0; i < nbb_cells.length; ++i) {\n",
       "                if (nbb_cells[i].input_prompt_number == nbb_cell_id) {\n",
       "                    nbb_cells[i].set_text(nbb_formatted_code);\n",
       "                    break;\n",
       "                }\n",
       "            }\n",
       "        }, 500);\n",
       "        "
      ],
      "text/plain": [
       "<IPython.core.display.Javascript object>"
      ]
     },
     "metadata": {},
     "output_type": "display_data"
    }
   ],
   "source": [
    "import numpy as np\n",
    "import geopandas as gp\n",
    "import shapely\n",
    "from planet4 import io, markings"
   ]
  },
  {
   "cell_type": "code",
   "execution_count": 3,
   "metadata": {},
   "outputs": [
    {
     "data": {
      "application/javascript": [
       "\n",
       "        setTimeout(function() {\n",
       "            var nbb_cell_id = 3;\n",
       "            var nbb_formatted_code = \"from coverage_utils import CoverageCalculator, get_obsids_for_region\\nfrom my_io import get_tilecoords, get_metadata, get_region_names\";\n",
       "            var nbb_cells = Jupyter.notebook.get_cells();\n",
       "            for (var i = 0; i < nbb_cells.length; ++i) {\n",
       "                if (nbb_cells[i].input_prompt_number == nbb_cell_id) {\n",
       "                    nbb_cells[i].set_text(nbb_formatted_code);\n",
       "                    break;\n",
       "                }\n",
       "            }\n",
       "        }, 500);\n",
       "        "
      ],
      "text/plain": [
       "<IPython.core.display.Javascript object>"
      ]
     },
     "metadata": {},
     "output_type": "display_data"
    }
   ],
   "source": [
    "from coverage_utils import CoverageCalculator, get_obsids_for_region\n",
    "from my_io import get_tilecoords, get_metadata, get_region_names"
   ]
  },
  {
   "cell_type": "code",
   "execution_count": 4,
   "metadata": {},
   "outputs": [
    {
     "data": {
      "application/javascript": [
       "\n",
       "        setTimeout(function() {\n",
       "            var nbb_cell_id = 4;\n",
       "            var nbb_formatted_code = \"import pandas as pd\\nimport matplotlib.pyplot as plt\\n%matplotlib widget\";\n",
       "            var nbb_cells = Jupyter.notebook.get_cells();\n",
       "            for (var i = 0; i < nbb_cells.length; ++i) {\n",
       "                if (nbb_cells[i].input_prompt_number == nbb_cell_id) {\n",
       "                    nbb_cells[i].set_text(nbb_formatted_code);\n",
       "                    break;\n",
       "                }\n",
       "            }\n",
       "        }, 500);\n",
       "        "
      ],
      "text/plain": [
       "<IPython.core.display.Javascript object>"
      ]
     },
     "metadata": {},
     "output_type": "display_data"
    }
   ],
   "source": [
    "import pandas as pd\n",
    "import matplotlib.pyplot as plt\n",
    "%matplotlib widget"
   ]
  },
  {
   "cell_type": "code",
   "execution_count": 5,
   "metadata": {},
   "outputs": [
    {
     "data": {
      "application/javascript": [
       "\n",
       "        setTimeout(function() {\n",
       "            var nbb_cell_id = 5;\n",
       "            var nbb_formatted_code = \"# must keep for next line cc = Coverage.. to work\\nobsid = \\\"ESP_011341_0980\\\"\";\n",
       "            var nbb_cells = Jupyter.notebook.get_cells();\n",
       "            for (var i = 0; i < nbb_cells.length; ++i) {\n",
       "                if (nbb_cells[i].input_prompt_number == nbb_cell_id) {\n",
       "                    nbb_cells[i].set_text(nbb_formatted_code);\n",
       "                    break;\n",
       "                }\n",
       "            }\n",
       "        }, 500);\n",
       "        "
      ],
      "text/plain": [
       "<IPython.core.display.Javascript object>"
      ]
     },
     "metadata": {},
     "output_type": "display_data"
    }
   ],
   "source": [
    "# must keep for next line cc = Coverage.. to work\n",
    "obsid = \"ESP_011341_0980\""
   ]
  },
  {
   "cell_type": "code",
   "execution_count": 6,
   "metadata": {},
   "outputs": [
    {
     "name": "stdout",
     "output_type": "stream",
     "text": [
      "Reading fans and blotches in...\n",
      "Done.\n",
      "Reading metadata...\n",
      "Done.\n",
      "Note that obsid must be set to a string value before this works.\n"
     ]
    },
    {
     "data": {
      "application/javascript": [
       "\n",
       "        setTimeout(function() {\n",
       "            var nbb_cell_id = 6;\n",
       "            var nbb_formatted_code = \"# the `which` setting is by default 'both'\\ncc = CoverageCalculator()\";\n",
       "            var nbb_cells = Jupyter.notebook.get_cells();\n",
       "            for (var i = 0; i < nbb_cells.length; ++i) {\n",
       "                if (nbb_cells[i].input_prompt_number == nbb_cell_id) {\n",
       "                    nbb_cells[i].set_text(nbb_formatted_code);\n",
       "                    break;\n",
       "                }\n",
       "            }\n",
       "        }, 500);\n",
       "        "
      ],
      "text/plain": [
       "<IPython.core.display.Javascript object>"
      ]
     },
     "metadata": {},
     "output_type": "display_data"
    }
   ],
   "source": [
    "# the `which` setting is by default 'both'\n",
    "cc = CoverageCalculator()"
   ]
  },
  {
   "cell_type": "code",
   "execution_count": 7,
   "metadata": {},
   "outputs": [
    {
     "data": {
      "application/javascript": [
       "\n",
       "        setTimeout(function() {\n",
       "            var nbb_cell_id = 7;\n",
       "            var nbb_formatted_code = \"all_regions = get_region_names().roi_name.unique()\";\n",
       "            var nbb_cells = Jupyter.notebook.get_cells();\n",
       "            for (var i = 0; i < nbb_cells.length; ++i) {\n",
       "                if (nbb_cells[i].input_prompt_number == nbb_cell_id) {\n",
       "                    nbb_cells[i].set_text(nbb_formatted_code);\n",
       "                    break;\n",
       "                }\n",
       "            }\n",
       "        }, 500);\n",
       "        "
      ],
      "text/plain": [
       "<IPython.core.display.Javascript object>"
      ]
     },
     "metadata": {},
     "output_type": "display_data"
    }
   ],
   "source": [
    "all_regions = get_region_names().roi_name.unique()"
   ]
  },
  {
   "cell_type": "code",
   "execution_count": 8,
   "metadata": {},
   "outputs": [
    {
     "data": {
      "application/javascript": [
       "\n",
       "        setTimeout(function() {\n",
       "            var nbb_cell_id = 8;\n",
       "            var nbb_formatted_code = \"all_regions = [\\n    region for region in all_regions if region not in [\\\"unknown\\\", \\\"Manhattan2\\\"]\\n]\";\n",
       "            var nbb_cells = Jupyter.notebook.get_cells();\n",
       "            for (var i = 0; i < nbb_cells.length; ++i) {\n",
       "                if (nbb_cells[i].input_prompt_number == nbb_cell_id) {\n",
       "                    nbb_cells[i].set_text(nbb_formatted_code);\n",
       "                    break;\n",
       "                }\n",
       "            }\n",
       "        }, 500);\n",
       "        "
      ],
      "text/plain": [
       "<IPython.core.display.Javascript object>"
      ]
     },
     "metadata": {},
     "output_type": "display_data"
    }
   ],
   "source": [
    "all_regions = [\n",
    "    region for region in all_regions if region not in [\"unknown\", \"Manhattan2\"]\n",
    "]"
   ]
  },
  {
   "cell_type": "code",
   "execution_count": 9,
   "metadata": {
    "scrolled": true
   },
   "outputs": [
    {
     "data": {
      "text/plain": [
       "['Macclesfield',\n",
       " 'Starburst',\n",
       " 'Manhattan_Classic',\n",
       " 'Wellington',\n",
       " 'Albany',\n",
       " 'Bilbao',\n",
       " 'Ithaca',\n",
       " 'Portsmouth',\n",
       " 'Pisaq',\n",
       " 'Manhattan_Frontinella',\n",
       " 'BuenosAires',\n",
       " 'Inca_City_Ridges',\n",
       " 'Inca_City',\n",
       " 'Giza',\n",
       " 'Potsdam',\n",
       " 'Troy',\n",
       " 'Oswego_Edge',\n",
       " 'Halifax',\n",
       " 'Caterpillar',\n",
       " 'Rochester',\n",
       " 'Manhattan_Cracks',\n",
       " 'Schenectady',\n",
       " 'Binghamton',\n",
       " 'Atka',\n",
       " 'Cortland',\n",
       " 'Geneseo']"
      ]
     },
     "execution_count": 9,
     "metadata": {},
     "output_type": "execute_result"
    },
    {
     "data": {
      "application/javascript": [
       "\n",
       "        setTimeout(function() {\n",
       "            var nbb_cell_id = 9;\n",
       "            var nbb_formatted_code = \"all_regions\";\n",
       "            var nbb_cells = Jupyter.notebook.get_cells();\n",
       "            for (var i = 0; i < nbb_cells.length; ++i) {\n",
       "                if (nbb_cells[i].input_prompt_number == nbb_cell_id) {\n",
       "                    nbb_cells[i].set_text(nbb_formatted_code);\n",
       "                    break;\n",
       "                }\n",
       "            }\n",
       "        }, 500);\n",
       "        "
      ],
      "text/plain": [
       "<IPython.core.display.Javascript object>"
      ]
     },
     "metadata": {},
     "output_type": "display_data"
    }
   ],
   "source": [
    "all_regions"
   ]
  },
  {
   "cell_type": "code",
   "execution_count": 10,
   "metadata": {},
   "outputs": [
    {
     "data": {
      "application/javascript": [
       "\n",
       "        setTimeout(function() {\n",
       "            var nbb_cell_id = 10;\n",
       "            var nbb_formatted_code = \"data = pd.read_csv(\\\"n_obj_df.csv\\\")\";\n",
       "            var nbb_cells = Jupyter.notebook.get_cells();\n",
       "            for (var i = 0; i < nbb_cells.length; ++i) {\n",
       "                if (nbb_cells[i].input_prompt_number == nbb_cell_id) {\n",
       "                    nbb_cells[i].set_text(nbb_formatted_code);\n",
       "                    break;\n",
       "                }\n",
       "            }\n",
       "        }, 500);\n",
       "        "
      ],
      "text/plain": [
       "<IPython.core.display.Javascript object>"
      ]
     },
     "metadata": {},
     "output_type": "display_data"
    }
   ],
   "source": [
    "data = pd.read_csv(\"n_obj_df.csv\")"
   ]
  },
  {
   "cell_type": "code",
   "execution_count": 11,
   "metadata": {},
   "outputs": [
    {
     "data": {
      "text/html": [
       "<div>\n",
       "<style scoped>\n",
       "    .dataframe tbody tr th:only-of-type {\n",
       "        vertical-align: middle;\n",
       "    }\n",
       "\n",
       "    .dataframe tbody tr th {\n",
       "        vertical-align: top;\n",
       "    }\n",
       "\n",
       "    .dataframe thead th {\n",
       "        text-align: right;\n",
       "    }\n",
       "</style>\n",
       "<table border=\"1\" class=\"dataframe\">\n",
       "  <thead>\n",
       "    <tr style=\"text-align: right;\">\n",
       "      <th></th>\n",
       "      <th>Latitude</th>\n",
       "      <th>Ls</th>\n",
       "      <th>MY</th>\n",
       "      <th>Which</th>\n",
       "      <th>fraction</th>\n",
       "      <th>n_objects</th>\n",
       "      <th>obsid</th>\n",
       "      <th>pixel_area</th>\n",
       "      <th>region_name</th>\n",
       "    </tr>\n",
       "  </thead>\n",
       "  <tbody>\n",
       "    <tr>\n",
       "      <th>0</th>\n",
       "      <td>-85.4074</td>\n",
       "      <td>214.785</td>\n",
       "      <td>29</td>\n",
       "      <td>both</td>\n",
       "      <td>0.115</td>\n",
       "      <td>933</td>\n",
       "      <td>ESP_012079_0945</td>\n",
       "      <td>2.551911e+07</td>\n",
       "      <td>Macclesfield</td>\n",
       "    </tr>\n",
       "    <tr>\n",
       "      <th>1</th>\n",
       "      <td>-85.4065</td>\n",
       "      <td>183.727</td>\n",
       "      <td>29</td>\n",
       "      <td>both</td>\n",
       "      <td>0.070</td>\n",
       "      <td>1971</td>\n",
       "      <td>ESP_011407_0945</td>\n",
       "      <td>2.592302e+06</td>\n",
       "      <td>Macclesfield</td>\n",
       "    </tr>\n",
       "    <tr>\n",
       "      <th>2</th>\n",
       "      <td>-85.4056</td>\n",
       "      <td>198.040</td>\n",
       "      <td>29</td>\n",
       "      <td>both</td>\n",
       "      <td>0.072</td>\n",
       "      <td>1525</td>\n",
       "      <td>ESP_011723_0945</td>\n",
       "      <td>8.455380e+06</td>\n",
       "      <td>Macclesfield</td>\n",
       "    </tr>\n",
       "    <tr>\n",
       "      <th>3</th>\n",
       "      <td>-85.4049</td>\n",
       "      <td>207.892</td>\n",
       "      <td>29</td>\n",
       "      <td>both</td>\n",
       "      <td>0.168</td>\n",
       "      <td>788</td>\n",
       "      <td>ESP_011934_0945</td>\n",
       "      <td>7.357966e+06</td>\n",
       "      <td>Macclesfield</td>\n",
       "    </tr>\n",
       "    <tr>\n",
       "      <th>4</th>\n",
       "      <td>-85.4067</td>\n",
       "      <td>235.282</td>\n",
       "      <td>29</td>\n",
       "      <td>both</td>\n",
       "      <td>0.111</td>\n",
       "      <td>1285</td>\n",
       "      <td>ESP_012501_0945</td>\n",
       "      <td>4.882627e+06</td>\n",
       "      <td>Macclesfield</td>\n",
       "    </tr>\n",
       "  </tbody>\n",
       "</table>\n",
       "</div>"
      ],
      "text/plain": [
       "   Latitude       Ls  MY Which  fraction  n_objects            obsid  \\\n",
       "0  -85.4074  214.785  29  both     0.115        933  ESP_012079_0945   \n",
       "1  -85.4065  183.727  29  both     0.070       1971  ESP_011407_0945   \n",
       "2  -85.4056  198.040  29  both     0.072       1525  ESP_011723_0945   \n",
       "3  -85.4049  207.892  29  both     0.168        788  ESP_011934_0945   \n",
       "4  -85.4067  235.282  29  both     0.111       1285  ESP_012501_0945   \n",
       "\n",
       "     pixel_area   region_name  \n",
       "0  2.551911e+07  Macclesfield  \n",
       "1  2.592302e+06  Macclesfield  \n",
       "2  8.455380e+06  Macclesfield  \n",
       "3  7.357966e+06  Macclesfield  \n",
       "4  4.882627e+06  Macclesfield  "
      ]
     },
     "execution_count": 11,
     "metadata": {},
     "output_type": "execute_result"
    },
    {
     "data": {
      "application/javascript": [
       "\n",
       "        setTimeout(function() {\n",
       "            var nbb_cell_id = 11;\n",
       "            var nbb_formatted_code = \"data.head()\";\n",
       "            var nbb_cells = Jupyter.notebook.get_cells();\n",
       "            for (var i = 0; i < nbb_cells.length; ++i) {\n",
       "                if (nbb_cells[i].input_prompt_number == nbb_cell_id) {\n",
       "                    nbb_cells[i].set_text(nbb_formatted_code);\n",
       "                    break;\n",
       "                }\n",
       "            }\n",
       "        }, 500);\n",
       "        "
      ],
      "text/plain": [
       "<IPython.core.display.Javascript object>"
      ]
     },
     "metadata": {},
     "output_type": "display_data"
    }
   ],
   "source": [
    "data.head()"
   ]
  },
  {
   "cell_type": "code",
   "execution_count": 18,
   "metadata": {},
   "outputs": [
    {
     "data": {
      "application/vnd.jupyter.widget-view+json": {
       "model_id": "566f0cac237b472d892afd8b393c0a95",
       "version_major": 2,
       "version_minor": 0
      },
      "text/plain": [
       "FigureCanvasNbAgg()"
      ]
     },
     "metadata": {},
     "output_type": "display_data"
    },
    {
     "data": {
      "application/javascript": [
       "\n",
       "        setTimeout(function() {\n",
       "            var nbb_cell_id = 18;\n",
       "            var nbb_formatted_code = \"fig, axes = plt.subplots(ncols=3, figsize=(15, 5), constrained_layout=True)\\n# need another for loop, to go through each region, add region names and legends for colors, rescale x and y axes properly\\n# for all so that they're al lthe same\\nfor ax, select in zip(axes, [\\\"both\\\", \\\"fans\\\", \\\"blotches\\\"]):\\n    subdf = data.loc[data[\\\"Which\\\"] == select]\\n    for year in [29, 30]:\\n        subdf2 = subdf.loc[subdf[\\\"MY\\\"] == year]\\n        ax.scatter(\\\"Ls\\\", \\\"fraction\\\", data=subdf2)\\n        ax2 = ax.twinx()\\n        ax2.scatter(\\\"Ls\\\", \\\"n_objects\\\", data=data, color=\\\"k\\\")\\n        plt.savefig(\\\"What_to_change.png\\\")\";\n",
       "            var nbb_cells = Jupyter.notebook.get_cells();\n",
       "            for (var i = 0; i < nbb_cells.length; ++i) {\n",
       "                if (nbb_cells[i].input_prompt_number == nbb_cell_id) {\n",
       "                    nbb_cells[i].set_text(nbb_formatted_code);\n",
       "                    break;\n",
       "                }\n",
       "            }\n",
       "        }, 500);\n",
       "        "
      ],
      "text/plain": [
       "<IPython.core.display.Javascript object>"
      ]
     },
     "metadata": {},
     "output_type": "display_data"
    }
   ],
   "source": [
    "fig, axes = plt.subplots(ncols=3, figsize=(15, 5), constrained_layout=True)\n",
    "# need another for loop, to go through each region, add region names and legends for colors, rescale x and y axes properly\n",
    "# for all so that they're al lthe same\n",
    "for ax, select in zip(axes, [\"both\", \"fans\", \"blotches\"]):\n",
    "    subdf = data.loc[data[\"Which\"] == select]\n",
    "    for year in [29, 30]:\n",
    "        subdf2 = subdf.loc[subdf[\"MY\"] == year]\n",
    "        ax.scatter(\"Ls\", \"fraction\", data=subdf2)\n",
    "        ax2 = ax.twinx()\n",
    "        ax2.scatter(\"Ls\", \"n_objects\", data=data, color=\"k\")\n",
    "        plt.savefig(\"What_to_change.png\")"
   ]
  },
  {
   "cell_type": "code",
   "execution_count": null,
   "metadata": {},
   "outputs": [],
   "source": [
    "#not quite right, first off the n_objects hides all data, find a better way to display that\n",
    "#secondly, it keeps old data for next plot.  Need to find a way to clear after every savefig\n",
    "#think i fixed above with plt.clf- try with next trial (trial2)\n",
    "\n",
    "fig, axes = plt.subplots(ncols=3, figsize=(15, 5), constrained_layout=True)\n",
    "for region in all_regions:\n",
    "    for ax, select in zip(axes, [\"both\", \"fans\", \"blotches\"]):\n",
    "        df1 = data.loc[data[\"region_name\"] == region]\n",
    "        subdf = df1.loc[df1[\"Which\"] == select]\n",
    "        for year in [29, 30]:\n",
    "            subdf2 = subdf.loc[subdf[\"MY\"] == year]\n",
    "            ax.scatter(\"Ls\", \"fraction\", data=subdf2)\n",
    "            ax2 = ax.twinx()\n",
    "            ax2.scatter(\"Ls\", \"n_objects\", data=data, color=\"k\")\n",
    "            plt.savefig(f\"{region}.trial1.png\")\n",
    "            plt.clf()"
   ]
  },
  {
   "cell_type": "code",
   "execution_count": 15,
   "metadata": {},
   "outputs": [
    {
     "data": {
      "application/javascript": [
       "\n",
       "        setTimeout(function() {\n",
       "            var nbb_cell_id = 15;\n",
       "            var nbb_formatted_code = \"trialregions = all_regions[0:3]\";\n",
       "            var nbb_cells = Jupyter.notebook.get_cells();\n",
       "            for (var i = 0; i < nbb_cells.length; ++i) {\n",
       "                if (nbb_cells[i].input_prompt_number == nbb_cell_id) {\n",
       "                    nbb_cells[i].set_text(nbb_formatted_code);\n",
       "                    break;\n",
       "                }\n",
       "            }\n",
       "        }, 500);\n",
       "        "
      ],
      "text/plain": [
       "<IPython.core.display.Javascript object>"
      ]
     },
     "metadata": {},
     "output_type": "display_data"
    }
   ],
   "source": [
    "trialregions = all_regions[0:3]"
   ]
  },
  {
   "cell_type": "code",
   "execution_count": 16,
   "metadata": {},
   "outputs": [
    {
     "data": {
      "text/plain": [
       "['Macclesfield', 'Starburst', 'Manhattan_Classic']"
      ]
     },
     "execution_count": 16,
     "metadata": {},
     "output_type": "execute_result"
    },
    {
     "data": {
      "application/javascript": [
       "\n",
       "        setTimeout(function() {\n",
       "            var nbb_cell_id = 16;\n",
       "            var nbb_formatted_code = \"trialregions\";\n",
       "            var nbb_cells = Jupyter.notebook.get_cells();\n",
       "            for (var i = 0; i < nbb_cells.length; ++i) {\n",
       "                if (nbb_cells[i].input_prompt_number == nbb_cell_id) {\n",
       "                    nbb_cells[i].set_text(nbb_formatted_code);\n",
       "                    break;\n",
       "                }\n",
       "            }\n",
       "        }, 500);\n",
       "        "
      ],
      "text/plain": [
       "<IPython.core.display.Javascript object>"
      ]
     },
     "metadata": {},
     "output_type": "display_data"
    }
   ],
   "source": [
    "trialregions"
   ]
  },
  {
   "cell_type": "code",
   "execution_count": 17,
   "metadata": {},
   "outputs": [
    {
     "data": {
      "application/vnd.jupyter.widget-view+json": {
       "model_id": "b6bea5cbaa5e43118c42a0c4e0f9ed27",
       "version_major": 2,
       "version_minor": 0
      },
      "text/plain": [
       "FigureCanvasNbAgg()"
      ]
     },
     "metadata": {},
     "output_type": "display_data"
    },
    {
     "data": {
      "application/javascript": [
       "\n",
       "        setTimeout(function() {\n",
       "            var nbb_cell_id = 17;\n",
       "            var nbb_formatted_code = \"fig, axes = plt.subplots(ncols=3, figsize=(15, 5), constrained_layout=True)\\nfor region in trialregions:\\n    for ax, select in zip(axes, [\\\"both\\\", \\\"fans\\\", \\\"blotches\\\"]):\\n        df1 = data.loc[data[\\\"region_name\\\"] == region]\\n        subdf = df1.loc[df1[\\\"Which\\\"] == select]\\n        for year in [29, 30]:\\n            subdf2 = subdf.loc[subdf[\\\"MY\\\"] == year]\\n            ax.scatter(\\\"Ls\\\", \\\"fraction\\\", data=subdf2)\\n            ax2 = ax.twinx()\\n            ax2.scatter(\\\"Ls\\\", \\\"n_objects\\\", data=data, color=\\\"k\\\")\\n            plt.savefig(f\\\"{region}.trial2.png\\\")\\n            ax.clear()\";\n",
       "            var nbb_cells = Jupyter.notebook.get_cells();\n",
       "            for (var i = 0; i < nbb_cells.length; ++i) {\n",
       "                if (nbb_cells[i].input_prompt_number == nbb_cell_id) {\n",
       "                    nbb_cells[i].set_text(nbb_formatted_code);\n",
       "                    break;\n",
       "                }\n",
       "            }\n",
       "        }, 500);\n",
       "        "
      ],
      "text/plain": [
       "<IPython.core.display.Javascript object>"
      ]
     },
     "metadata": {},
     "output_type": "display_data"
    }
   ],
   "source": [
    "fig, axes = plt.subplots(ncols=3, figsize=(15, 5), constrained_layout=True)\n",
    "for region in trialregions:\n",
    "    for ax, select in zip(axes, [\"both\", \"fans\", \"blotches\"]):\n",
    "        df1 = data.loc[data[\"region_name\"] == region]\n",
    "        subdf = df1.loc[df1[\"Which\"] == select]\n",
    "        for year in [29, 30]:\n",
    "            subdf2 = subdf.loc[subdf[\"MY\"] == year]\n",
    "            ax.scatter(\"Ls\", \"fraction\", data=subdf2)\n",
    "            ax2 = ax.twinx()\n",
    "            ax2.scatter(\"Ls\", \"n_objects\", data=data, color=\"k\")\n",
    "            plt.savefig(f\"{region}.trial2.png\")\n",
    "            ax.clear()"
   ]
  },
  {
   "cell_type": "code",
   "execution_count": null,
   "metadata": {},
   "outputs": [],
   "source": []
  }
 ],
 "metadata": {
  "kernelspec": {
   "display_name": "Python 3",
   "language": "python",
   "name": "python3"
  },
  "language_info": {
   "codemirror_mode": {
    "name": "ipython",
    "version": 3
   },
   "file_extension": ".py",
   "mimetype": "text/x-python",
   "name": "python",
   "nbconvert_exporter": "python",
   "pygments_lexer": "ipython3",
   "version": "3.7.1"
  }
 },
 "nbformat": 4,
 "nbformat_minor": 2
}
