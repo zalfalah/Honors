{
 "cells": [
  {
   "cell_type": "markdown",
   "metadata": {
    "toc": "true"
   },
   "source": [
    "<h1>Table of Contents<span class=\"tocSkip\"></span></h1>\n",
    "<div class=\"toc\"><ul class=\"toc-item\"><li><span><a href=\"#Ellipses-with-Shapely\" data-toc-modified-id=\"Ellipses-with-Shapely-1\"><span class=\"toc-item-num\">1&nbsp;&nbsp;</span>Ellipses with Shapely</a></span></li><li><span><a href=\"#by-tile_id\" data-toc-modified-id=\"by-tile_id-2\"><span class=\"toc-item-num\">2&nbsp;&nbsp;</span>by tile_id</a></span></li><li><span><a href=\"#by-obsid\" data-toc-modified-id=\"by-obsid-3\"><span class=\"toc-item-num\">3&nbsp;&nbsp;</span>by obsid</a></span></li><li><span><a href=\"#Shapely-checks\" data-toc-modified-id=\"Shapely-checks-4\"><span class=\"toc-item-num\">4&nbsp;&nbsp;</span>Shapely checks</a></span></li></ul></div>"
   ]
  },
  {
   "cell_type": "markdown",
   "metadata": {},
   "source": [
    "# Ellipses with Shapely "
   ]
  },
  {
   "cell_type": "code",
   "execution_count": null,
   "metadata": {},
   "outputs": [],
   "source": [
    "from planet4.markings import Fan, Blotch"
   ]
  },
  {
   "cell_type": "code",
   "execution_count": null,
   "metadata": {
    "ExecuteTime": {
     "end_time": "2018-11-26T23:12:26.847928Z",
     "start_time": "2018-11-26T23:12:23.117876Z"
    }
   },
   "outputs": [],
   "source": [
    "from planet4 import markings"
   ]
  },
  {
   "cell_type": "code",
   "execution_count": null,
   "metadata": {
    "ExecuteTime": {
     "end_time": "2018-11-26T23:12:26.956438Z",
     "start_time": "2018-11-26T23:12:26.915892Z"
    }
   },
   "outputs": [],
   "source": [
    "d = dict(x=1, y=2, radius_1=3, radius_2=2, angle=35)\n",
    "blotch = markings.Blotch(pd.Series(d))"
   ]
  },
  {
   "cell_type": "code",
   "execution_count": null,
   "metadata": {
    "ExecuteTime": {
     "end_time": "2018-11-26T23:12:29.821523Z",
     "start_time": "2018-11-26T23:12:29.785437Z"
    }
   },
   "outputs": [],
   "source": [
    "%matplotlib inline"
   ]
  },
  {
   "cell_type": "code",
   "execution_count": null,
   "metadata": {
    "ExecuteTime": {
     "end_time": "2018-11-26T23:12:42.040800Z",
     "start_time": "2018-11-26T23:12:42.001295Z"
    }
   },
   "outputs": [],
   "source": [
    "from planet4 import io, plotting\n",
    "obsid = 'ESP_011544_0985'\n",
    "id_ = 'bdb'\n",
    "pm = io.PathManager(obsid=obsid, datapath='p4_analysis/p4_catalog')"
   ]
  },
  {
   "cell_type": "code",
   "execution_count": null,
   "metadata": {},
   "outputs": [],
   "source": [
    "pm.obsid_final_blotches_path"
   ]
  },
  {
   "cell_type": "code",
   "execution_count": null,
   "metadata": {},
   "outputs": [],
   "source": [
    "from planet4.catalog_production import ReleaseManager"
   ]
  },
  {
   "cell_type": "code",
   "execution_count": null,
   "metadata": {},
   "outputs": [],
   "source": [
    "rm = ReleaseManager('v1.0')"
   ]
  },
  {
   "cell_type": "code",
   "execution_count": null,
   "metadata": {},
   "outputs": [],
   "source": [
    "df = rm.read_blotch_file()"
   ]
  },
  {
   "cell_type": "code",
   "execution_count": null,
   "metadata": {},
   "outputs": [],
   "source": [
    "df = pd.read_csv(pm.obsid_final_blotches_path)"
   ]
  },
  {
   "cell_type": "markdown",
   "metadata": {},
   "source": [
    "# by tile_id"
   ]
  },
  {
   "cell_type": "code",
   "execution_count": null,
   "metadata": {
    "ExecuteTime": {
     "end_time": "2018-11-26T23:13:52.852354Z",
     "start_time": "2018-11-26T23:13:50.712217Z"
    }
   },
   "outputs": [],
   "source": [
    "fans = pd.read_csv(r\"C:\\Users\\Zade\\Documents\\python_from_others\\P4_catalog_v1.1_L1C_cut_0.5_fan.csv\")\n",
    "\n",
    "blotches = pd.read_csv(r\"C:\\Users\\Zade\\Documents\\python_from_others\\P4_catalog_v1.1_L1C_cut_0.5_blotch.csv\")"
   ]
  },
  {
   "cell_type": "code",
   "execution_count": null,
   "metadata": {
    "ExecuteTime": {
     "end_time": "2018-11-26T23:14:07.965805Z",
     "start_time": "2018-11-26T23:14:07.936421Z"
    }
   },
   "outputs": [],
   "source": [
    "id_ = 'bdb'"
   ]
  },
  {
   "cell_type": "code",
   "execution_count": null,
   "metadata": {
    "ExecuteTime": {
     "end_time": "2018-11-26T23:14:18.490337Z",
     "start_time": "2018-11-26T23:14:18.461216Z"
    }
   },
   "outputs": [],
   "source": [
    "from planet4 import io"
   ]
  },
  {
   "cell_type": "code",
   "execution_count": null,
   "metadata": {
    "ExecuteTime": {
     "end_time": "2018-11-26T23:14:19.042905Z",
     "start_time": "2018-11-26T23:14:18.980109Z"
    }
   },
   "outputs": [],
   "source": [
    "blotches = blotches[blotches.tile_id == io.check_and_pad_id(id_)]"
   ]
  },
  {
   "cell_type": "code",
   "execution_count": null,
   "metadata": {
    "ExecuteTime": {
     "end_time": "2018-11-26T23:14:20.704857Z",
     "start_time": "2018-11-26T23:14:20.651848Z"
    }
   },
   "outputs": [],
   "source": [
    "fans = fans[fans.tile_id == io.check_and_pad_id(id_)]"
   ]
  },
  {
   "cell_type": "code",
   "execution_count": null,
   "metadata": {
    "ExecuteTime": {
     "end_time": "2018-11-26T23:14:23.016554Z",
     "start_time": "2018-11-26T23:14:21.611417Z"
    }
   },
   "outputs": [],
   "source": [
    "import geopandas as gp"
   ]
  },
  {
   "cell_type": "code",
   "execution_count": null,
   "metadata": {
    "ExecuteTime": {
     "end_time": "2018-11-26T23:14:23.785404Z",
     "start_time": "2018-11-26T23:14:23.755628Z"
    }
   },
   "outputs": [],
   "source": [
    "import shapely"
   ]
  },
  {
   "cell_type": "code",
   "execution_count": null,
   "metadata": {
    "ExecuteTime": {
     "end_time": "2018-11-26T23:14:26.339829Z",
     "start_time": "2018-11-26T23:14:26.267110Z"
    }
   },
   "outputs": [],
   "source": [
    "gs_blotch = gp.GeoSeries([markings.Blotch(row).to_shapely() for _,row in blotches.iterrows()])\n",
    "\n",
    "gs_fans = gp.GeoSeries([markings.Fan(row).to_shapely() for _,row in fans.iterrows()])"
   ]
  },
  {
   "cell_type": "code",
   "execution_count": null,
   "metadata": {},
   "outputs": [],
   "source": []
  },
  {
   "cell_type": "code",
   "execution_count": null,
   "metadata": {},
   "outputs": [],
   "source": []
  },
  {
   "cell_type": "code",
   "execution_count": null,
   "metadata": {
    "ExecuteTime": {
     "end_time": "2018-11-26T23:17:51.960342Z",
     "start_time": "2018-11-26T23:17:51.924152Z"
    }
   },
   "outputs": [],
   "source": [
    "gs = pd.concat([gs_blotch, gs_fans], ignore_index=True, sort=True)"
   ]
  },
  {
   "cell_type": "code",
   "execution_count": null,
   "metadata": {
    "ExecuteTime": {
     "end_time": "2018-11-26T23:17:58.341193Z",
     "start_time": "2018-11-26T23:17:58.301273Z"
    }
   },
   "outputs": [],
   "source": [
    "gs.head()"
   ]
  },
  {
   "cell_type": "code",
   "execution_count": null,
   "metadata": {
    "ExecuteTime": {
     "end_time": "2018-11-26T23:27:15.664852Z",
     "start_time": "2018-11-26T23:27:15.633693Z"
    }
   },
   "outputs": [],
   "source": [
    "id_ = 'bdb'\n",
    "p4id = markings.TileID(id_)"
   ]
  },
  {
   "cell_type": "code",
   "execution_count": null,
   "metadata": {
    "ExecuteTime": {
     "end_time": "2018-11-26T23:27:50.150437Z",
     "start_time": "2018-11-26T23:27:50.112704Z"
    }
   },
   "outputs": [],
   "source": [
    "%matplotlib ipympl"
   ]
  },
  {
   "cell_type": "code",
   "execution_count": null,
   "metadata": {
    "ExecuteTime": {
     "end_time": "2018-11-26T23:28:38.949373Z",
     "start_time": "2018-11-26T23:28:37.983175Z"
    }
   },
   "outputs": [],
   "source": [
    "p4id.plot_fans(data=fans)\n",
    "ax =plt.gca()\n",
    "p4id.plot_blotches(data=blotches, ax=ax)"
   ]
  },
  {
   "cell_type": "code",
   "execution_count": null,
   "metadata": {
    "ExecuteTime": {
     "end_time": "2018-11-26T23:31:19.437497Z",
     "start_time": "2018-11-26T23:31:19.360757Z"
    }
   },
   "outputs": [],
   "source": [
    "gs.plot()\n",
    "ax = plt.gca()\n",
    "ax.set_xlim((0, markings.IMG_X_SIZE))\n",
    "ax.set_ylim((0, markings.IMG_Y_SIZE))\n",
    "ax.invert_yaxis()"
   ]
  },
  {
   "cell_type": "code",
   "execution_count": null,
   "metadata": {
    "ExecuteTime": {
     "end_time": "2018-11-26T23:34:15.371310Z",
     "start_time": "2018-11-26T23:34:15.332288Z"
    }
   },
   "outputs": [],
   "source": [
    "gs.head()"
   ]
  },
  {
   "cell_type": "code",
   "execution_count": null,
   "metadata": {
    "ExecuteTime": {
     "end_time": "2018-11-26T23:34:18.390463Z",
     "start_time": "2018-11-26T23:34:18.352906Z"
    }
   },
   "outputs": [],
   "source": [
    "from shapely.ops import unary_union"
   ]
  },
  {
   "cell_type": "code",
   "execution_count": null,
   "metadata": {
    "ExecuteTime": {
     "end_time": "2018-11-26T23:34:35.179744Z",
     "start_time": "2018-11-26T23:34:35.128438Z"
    }
   },
   "outputs": [],
   "source": [
    "unionized = gs.unary_union"
   ]
  },
  {
   "cell_type": "code",
   "execution_count": null,
   "metadata": {
    "ExecuteTime": {
     "end_time": "2018-11-26T23:36:33.740117Z",
     "start_time": "2018-11-26T23:36:33.707627Z"
    }
   },
   "outputs": [],
   "source": [
    "x, y = markings.calc_fig_size(8)"
   ]
  },
  {
   "cell_type": "code",
   "execution_count": null,
   "metadata": {
    "ExecuteTime": {
     "end_time": "2018-11-26T23:36:32.060104Z",
     "start_time": "2018-11-26T23:36:32.024531Z"
    }
   },
   "outputs": [],
   "source": [
    "import seaborn as sns\n",
    "sns.set_context('talk')"
   ]
  },
  {
   "cell_type": "code",
   "execution_count": null,
   "metadata": {
    "ExecuteTime": {
     "end_time": "2018-11-26T23:37:33.332521Z",
     "start_time": "2018-11-26T23:37:33.299990Z"
    }
   },
   "outputs": [],
   "source": [
    "squared_pixel_scale = fans.map_scale.iloc[0]**2\n",
    "squared_pixel_scale"
   ]
  },
  {
   "cell_type": "code",
   "execution_count": null,
   "metadata": {
    "ExecuteTime": {
     "end_time": "2018-11-26T23:39:29.360049Z",
     "start_time": "2018-11-26T23:39:29.327304Z"
    }
   },
   "outputs": [],
   "source": [
    "fans.map_scale.iloc[0]"
   ]
  },
  {
   "cell_type": "code",
   "execution_count": null,
   "metadata": {
    "ExecuteTime": {
     "end_time": "2018-11-26T23:39:42.503188Z",
     "start_time": "2018-11-26T23:39:42.470686Z"
    }
   },
   "outputs": [],
   "source": [
    "unionized.area"
   ]
  },
  {
   "cell_type": "code",
   "execution_count": null,
   "metadata": {
    "ExecuteTime": {
     "end_time": "2018-11-26T23:40:16.287466Z",
     "start_time": "2018-11-26T23:40:16.245568Z"
    }
   },
   "outputs": [],
   "source": [
    "unionized"
   ]
  },
  {
   "cell_type": "code",
   "execution_count": null,
   "metadata": {
    "ExecuteTime": {
     "end_time": "2018-11-26T23:41:17.974176Z",
     "start_time": "2018-11-26T23:41:17.940227Z"
    }
   },
   "outputs": [],
   "source": [
    "area = unionized.area * squared_pixel_scale\n",
    "area"
   ]
  },
  {
   "cell_type": "code",
   "execution_count": null,
   "metadata": {
    "ExecuteTime": {
     "end_time": "2018-11-26T23:42:17.193782Z",
     "start_time": "2018-11-26T23:42:17.160468Z"
    }
   },
   "outputs": [],
   "source": [
    "pixel_area = markings.IMG_X_SIZE * markings.IMG_Y_SIZE\n",
    "tile_area = pixel_area * squared_pixel_scale\n",
    "tile_area"
   ]
  },
  {
   "cell_type": "code",
   "execution_count": null,
   "metadata": {
    "ExecuteTime": {
     "end_time": "2018-11-26T23:42:23.262580Z",
     "start_time": "2018-11-26T23:42:23.230355Z"
    }
   },
   "outputs": [],
   "source": [
    "fraction = area / tile_area\n",
    "fraction"
   ]
  },
  {
   "cell_type": "code",
   "execution_count": null,
   "metadata": {
    "ExecuteTime": {
     "end_time": "2018-11-26T23:45:12.750572Z",
     "start_time": "2018-11-26T23:45:12.017846Z"
    }
   },
   "outputs": [],
   "source": [
    "fig, ax = plt.subplots(ncols=2, figsize=(1.8*x, y), constrained_layout=True)\n",
    "p4id.plot_fans(data=fans, ax=ax[0])\n",
    "p4id.plot_blotches(data=blotches, ax=ax[0])\n",
    "# p4id.show_subframe(ax=ax[1])\n",
    "gp.GeoSeries(unionized).boundary.plot(ax=ax[1])\n",
    "ax[1].set_xlim(-25, markings.IMG_X_SIZE+25)\n",
    "ax[1].set_ylim(markings.IMG_Y_SIZE+25, -25)\n",
    "\n",
    "ax[1].set_axis_off()\n",
    "fig.suptitle(id_)\n",
    "ax[0].set_title('Combined fans and blotches')\n",
    "ax[1].set_title(f\"\"\"Union out of shapely fans and blotches.\n",
    "Area: {area:.0f} $m^2$; Fraction: {fraction*100:.0f} %\"\"\")\n",
    "fig.savefig('shapely_both.png', dpi=100)"
   ]
  },
  {
   "cell_type": "code",
   "execution_count": null,
   "metadata": {
    "ExecuteTime": {
     "end_time": "2018-11-26T23:47:19.685566Z",
     "start_time": "2018-11-26T23:47:19.652695Z"
    }
   },
   "outputs": [],
   "source": [
    "poly = unionized[0]"
   ]
  },
  {
   "cell_type": "code",
   "execution_count": null,
   "metadata": {
    "ExecuteTime": {
     "end_time": "2018-11-26T23:47:24.116676Z",
     "start_time": "2018-11-26T23:47:24.081216Z"
    }
   },
   "outputs": [],
   "source": [
    "poly.boundary.xy[0][0]"
   ]
  },
  {
   "cell_type": "code",
   "execution_count": null,
   "metadata": {
    "ExecuteTime": {
     "end_time": "2018-11-26T23:47:48.420591Z",
     "start_time": "2018-11-26T23:47:48.378335Z"
    }
   },
   "outputs": [],
   "source": [
    "df1 = gp.GeoDataFrame({'geometry': gs})\n",
    "df1.head()"
   ]
  },
  {
   "cell_type": "code",
   "execution_count": null,
   "metadata": {
    "ExecuteTime": {
     "end_time": "2018-11-26T23:48:38.331984Z",
     "start_time": "2018-11-26T23:48:38.289965Z"
    }
   },
   "outputs": [],
   "source": [
    "unionized"
   ]
  },
  {
   "cell_type": "code",
   "execution_count": null,
   "metadata": {
    "ExecuteTime": {
     "end_time": "2018-11-26T23:48:39.468208Z",
     "start_time": "2018-11-26T23:48:39.280864Z"
    }
   },
   "outputs": [],
   "source": [
    "inters = gp.overlay(df1, df1, how='intersection')\n",
    "inters.plot()"
   ]
  },
  {
   "cell_type": "markdown",
   "metadata": {},
   "source": [
    "# by obsid"
   ]
  },
  {
   "cell_type": "code",
   "execution_count": null,
   "metadata": {},
   "outputs": [],
   "source": []
  },
  {
   "cell_type": "code",
   "execution_count": null,
   "metadata": {
    "ExecuteTime": {
     "end_time": "2018-11-26T23:49:47.481874Z",
     "start_time": "2018-11-26T23:49:47.448539Z"
    },
    "scrolled": true
   },
   "outputs": [],
   "source": [
    "fans.columns"
   ]
  },
  {
   "cell_type": "code",
   "execution_count": null,
   "metadata": {
    "ExecuteTime": {
     "end_time": "2018-11-26T23:49:49.554231Z",
     "start_time": "2018-11-26T23:49:49.518534Z"
    }
   },
   "outputs": [],
   "source": [
    "fans.l_s.value_counts()"
   ]
  },
  {
   "cell_type": "code",
   "execution_count": null,
   "metadata": {
    "ExecuteTime": {
     "end_time": "2018-11-26T23:49:54.343273Z",
     "start_time": "2018-11-26T23:49:54.311441Z"
    }
   },
   "outputs": [],
   "source": [
    "obsid = 'ESP_012643_0945'\n",
    "obsid = 'ESP_013049_0950'\n",
    "# obsid = 'ESP_011447_0950'"
   ]
  },
  {
   "cell_type": "code",
   "execution_count": null,
   "metadata": {
    "ExecuteTime": {
     "end_time": "2018-11-27T00:15:36.412074Z",
     "start_time": "2018-11-27T00:15:36.322859Z"
    }
   },
   "outputs": [],
   "source": [
    "fans[fans.obsid.map(lambda x: x.endswith(\"_0950\"))].obsid.value_counts()"
   ]
  },
  {
   "cell_type": "code",
   "execution_count": null,
   "metadata": {
    "ExecuteTime": {
     "end_time": "2018-11-27T00:15:38.172853Z",
     "start_time": "2018-11-27T00:15:38.126089Z"
    }
   },
   "outputs": [],
   "source": [
    "fans_obsid = fans.query(\"obsid == @obsid\")\n",
    "blotches_obsid = blotches.query(\"obsid == @obsid\")"
   ]
  },
  {
   "cell_type": "code",
   "execution_count": null,
   "metadata": {
    "ExecuteTime": {
     "end_time": "2018-11-27T00:15:39.032772Z",
     "start_time": "2018-11-27T00:15:38.996552Z"
    }
   },
   "outputs": [],
   "source": [
    "fans_obsid.l_s.value_counts()"
   ]
  },
  {
   "cell_type": "code",
   "execution_count": null,
   "metadata": {
    "ExecuteTime": {
     "end_time": "2018-11-27T00:15:40.312931Z",
     "start_time": "2018-11-27T00:15:40.278552Z"
    }
   },
   "outputs": [],
   "source": [
    "fans_obsid.tile_id.nunique()"
   ]
  },
  {
   "cell_type": "code",
   "execution_count": null,
   "metadata": {
    "ExecuteTime": {
     "end_time": "2018-11-27T00:28:35.603656Z",
     "start_time": "2018-11-27T00:28:34.708049Z"
    }
   },
   "outputs": [],
   "source": [
    "gs_blotch = gp.GeoSeries([markings.Blotch(row, scope='hirise').to_shapely() for _,row in blotches_obsid.iterrows()])\n",
    "\n",
    "gs_fans = gp.GeoSeries([markings.Fan(row, scope='hirise').to_shapely() for _,row in fans_obsid.iterrows()])"
   ]
  },
  {
   "cell_type": "code",
   "execution_count": null,
   "metadata": {
    "ExecuteTime": {
     "end_time": "2018-11-27T00:28:40.739099Z",
     "start_time": "2018-11-27T00:28:40.706221Z"
    }
   },
   "outputs": [],
   "source": [
    "gs = pd.concat([gs_blotch, gs_fans], ignore_index=True, sort=True)"
   ]
  },
  {
   "cell_type": "code",
   "execution_count": null,
   "metadata": {
    "ExecuteTime": {
     "end_time": "2018-11-27T00:28:41.579334Z",
     "start_time": "2018-11-27T00:28:41.545906Z"
    }
   },
   "outputs": [],
   "source": [
    "gs.shape"
   ]
  },
  {
   "cell_type": "code",
   "execution_count": null,
   "metadata": {
    "ExecuteTime": {
     "end_time": "2018-11-27T00:28:42.449697Z",
     "start_time": "2018-11-27T00:28:42.378618Z"
    }
   },
   "outputs": [],
   "source": [
    "unioned = gs.unary_union"
   ]
  },
  {
   "cell_type": "code",
   "execution_count": null,
   "metadata": {
    "ExecuteTime": {
     "end_time": "2018-11-27T00:28:59.673083Z",
     "start_time": "2018-11-27T00:28:59.638667Z"
    }
   },
   "outputs": [],
   "source": [
    "fans_obsid.map_scale.value_counts()"
   ]
  },
  {
   "cell_type": "markdown",
   "metadata": {},
   "source": [
    "# Shapely checks"
   ]
  },
  {
   "cell_type": "code",
   "execution_count": null,
   "metadata": {},
   "outputs": [],
   "source": [
    "import pandas as pd"
   ]
  },
  {
   "cell_type": "code",
   "execution_count": null,
   "metadata": {},
   "outputs": [],
   "source": [
    "fans = pd.read_csv(r\"C:\\Users\\Zade\\Documents\\python_from_others\\P4_catalog_v1.1_L1C_cut_0.5_fan.csv\")\n",
    "\n",
    "blotches = pd.read_csv(r\"C:\\Users\\Zade\\Documents\\python_from_others\\P4_catalog_v1.1_L1C_cut_0.5_blotch.csv\")"
   ]
  },
  {
   "cell_type": "code",
   "execution_count": null,
   "metadata": {
    "ExecuteTime": {
     "end_time": "2018-11-27T00:24:44.430124Z",
     "start_time": "2018-11-27T00:24:44.396621Z"
    }
   },
   "outputs": [],
   "source": [
    "fan1 = markings.Fan(pd.Series({'x':100.000001, 'y':200.000001, 'angle':0,'spread':10,'distance':100}))"
   ]
  },
  {
   "cell_type": "code",
   "execution_count": null,
   "metadata": {},
   "outputs": [],
   "source": [
    "#look at code, create a fan with the same base point but rotated off.  Make sure that so long as base points\n",
    "#are the same but rotated (eg 180 degrees) it's valid.  I think it will be so long as only one point touches.\n",
    "#create fans, mess with floating points and rotating the fans, see if base points with floating points, different angles work.\n",
    "#see if unary unions work for rotated fans.  Don't use geoseries, just use shapelys normal unary unions"
   ]
  },
  {
   "cell_type": "code",
   "execution_count": null,
   "metadata": {},
   "outputs": [],
   "source": [
    "fan2 = markings.Fan(pd.Series({'x':100.000001, 'y':200.000001, 'angle':180,'spread':10,'distance':100}))"
   ]
  },
  {
   "cell_type": "code",
   "execution_count": null,
   "metadata": {},
   "outputs": [],
   "source": [
    "fan1_shape = fan1.to_shapely()\n",
    "fan2_shape = fan2.to_shapely()"
   ]
  },
  {
   "cell_type": "code",
   "execution_count": null,
   "metadata": {},
   "outputs": [],
   "source": [
    "fan1_shape"
   ]
  },
  {
   "cell_type": "code",
   "execution_count": null,
   "metadata": {},
   "outputs": [],
   "source": [
    "fan2_shape"
   ]
  },
  {
   "cell_type": "code",
   "execution_count": null,
   "metadata": {},
   "outputs": [],
   "source": [
    "newfan = fan1_shape.union(fan2_shape)"
   ]
  },
  {
   "cell_type": "code",
   "execution_count": null,
   "metadata": {},
   "outputs": [],
   "source": [
    "newfan"
   ]
  },
  {
   "cell_type": "code",
   "execution_count": null,
   "metadata": {},
   "outputs": [],
   "source": [
    "newfan.is_valid"
   ]
  },
  {
   "cell_type": "code",
   "execution_count": null,
   "metadata": {},
   "outputs": [],
   "source": [
    "fan3 = markings.Fan(pd.Series({'x':100.000002, 'y':200.000002, 'angle':180,'spread':10,'distance':100}))"
   ]
  },
  {
   "cell_type": "code",
   "execution_count": null,
   "metadata": {},
   "outputs": [],
   "source": [
    "fan3_shape = fan3.to_shapely()"
   ]
  },
  {
   "cell_type": "code",
   "execution_count": null,
   "metadata": {},
   "outputs": [],
   "source": [
    "otherfan = fan3_shape.union(fan2_shape)"
   ]
  },
  {
   "cell_type": "code",
   "execution_count": null,
   "metadata": {},
   "outputs": [],
   "source": [
    "otherfan"
   ]
  },
  {
   "cell_type": "code",
   "execution_count": null,
   "metadata": {},
   "outputs": [],
   "source": [
    "otherfan.is_valid #this being valid shows that even with an almost complete intersection, unionizing them makes them valid. "
   ]
  },
  {
   "cell_type": "code",
   "execution_count": null,
   "metadata": {},
   "outputs": [],
   "source": [
    "#perhaps unary unions are different\n",
    "unionized"
   ]
  },
  {
   "cell_type": "code",
   "execution_count": null,
   "metadata": {},
   "outputs": [],
   "source": [
    "unionized.is_valid #this shows that the unionized object we have for our one tile is valid and should not throw our error."
   ]
  },
  {
   "cell_type": "code",
   "execution_count": null,
   "metadata": {},
   "outputs": [],
   "source": [
    "#continuing obsid checks:\n",
    "fans.columns"
   ]
  },
  {
   "cell_type": "code",
   "execution_count": null,
   "metadata": {},
   "outputs": [],
   "source": [
    "#obsid = 'ESP_012643_0945'\n",
    "obsid = 'ESP_013049_0950'\n",
    "# obsid = 'ESP_011447_0950'"
   ]
  },
  {
   "cell_type": "code",
   "execution_count": null,
   "metadata": {},
   "outputs": [],
   "source": [
    "fans[fans.obsid.map(lambda x: x.endswith(\"_0950\"))].obsid.value_counts()"
   ]
  },
  {
   "cell_type": "code",
   "execution_count": null,
   "metadata": {},
   "outputs": [],
   "source": [
    "fans_obsid = fans.query(\"obsid == @obsid\")\n",
    "blotches_obsid = blotches.query(\"obsid == @obsid\")"
   ]
  },
  {
   "cell_type": "code",
   "execution_count": null,
   "metadata": {},
   "outputs": [],
   "source": [
    "fans_obsid.l_s.value_counts()"
   ]
  },
  {
   "cell_type": "code",
   "execution_count": null,
   "metadata": {},
   "outputs": [],
   "source": [
    "fans_obsid.tile_id.nunique()"
   ]
  },
  {
   "cell_type": "code",
   "execution_count": null,
   "metadata": {},
   "outputs": [],
   "source": [
    "gs_blotch = gp.GeoSeries([markings.Blotch(row, scope='hirise').to_shapely() for _,row in blotches_obsid.iterrows()])\n",
    "\n",
    "gs_fans = gp.GeoSeries([markings.Fan(row, scope='hirise').to_shapely() for _,row in fans_obsid.iterrows()])"
   ]
  },
  {
   "cell_type": "code",
   "execution_count": null,
   "metadata": {},
   "outputs": [],
   "source": [
    "gs = pd.concat([gs_blotch, gs_fans], ignore_index=True, sort=True)\n"
   ]
  },
  {
   "cell_type": "code",
   "execution_count": null,
   "metadata": {},
   "outputs": [],
   "source": [
    "gs.shape\n"
   ]
  },
  {
   "cell_type": "code",
   "execution_count": null,
   "metadata": {},
   "outputs": [],
   "source": [
    "unioned = gs.unary_union \n",
    "#error in GEOS, unresolved : https://github.com/Toblerity/Shapely/issues/47\n"
   ]
  },
  {
   "cell_type": "code",
   "execution_count": null,
   "metadata": {},
   "outputs": [],
   "source": [
    "gs.is_valid.count() == gs.count()#every individual object is also valid"
   ]
  },
  {
   "cell_type": "markdown",
   "metadata": {},
   "source": [
    "# New Function"
   ]
  },
  {
   "cell_type": "code",
   "execution_count": 1,
   "metadata": {},
   "outputs": [],
   "source": [
    "import pandas as pd\n",
    "from planet4 import io\n",
    "import geopandas as gp\n",
    "import numpy as np\n",
    "import shapely\n",
    "from planet4 import markings\n",
    "from shapely.ops import unary_union\n",
    "from shapely.geometry import Polygon"
   ]
  },
  {
   "cell_type": "code",
   "execution_count": 2,
   "metadata": {},
   "outputs": [],
   "source": [
    "fans = pd.read_csv(r\"C:\\Users\\Zade\\Documents\\python_from_others\\planet4_results\\P4_catalog_v1.1_L1C_cut_0.5_fan.csv\")\n",
    "\n",
    "blotches = pd.read_csv(r\"C:\\Users\\Zade\\Documents\\python_from_others\\planet4_results\\P4_catalog_v1.1_L1C_cut_0.5_blotch.csv\")"
   ]
  },
  {
   "cell_type": "code",
   "execution_count": null,
   "metadata": {},
   "outputs": [],
   "source": [
    "def get_tile_fraction(tile_id, scope = 'hirise', mix = 'Mixed'):\n",
    "    id_ = tile_id\n",
    "    blotch = blotches[blotches.tile_id == io.check_and_pad_id(id_)]\n",
    "    fan = fans[fans.tile_id == io.check_and_pad_id(id_)]\n",
    "    gs_blotch = gp.GeoSeries([markings.Blotch(row, scope).to_shapely() for _,row in blotch.iterrows()])\n",
    "    gs_fans = gp.GeoSeries([markings.Fan(row, scope).to_shapely() for _,row in fan.iterrows()])\n",
    "    squared_pixel_scale = fans.map_scale.iloc[0]**2\n",
    "    pixel_area = markings.IMG_X_SIZE * markings.IMG_Y_SIZE\n",
    "    if mix == 'Mixed':\n",
    "        gs = pd.concat([gs_blotch, gs_fans], ignore_index=True, sort=True)\n",
    "        unionized = gs.unary_union\n",
    "        area = unionized.area * squared_pixel_scale\n",
    "        tile_area = pixel_area * squared_pixel_scale\n",
    "        fraction = area / tile_area\n",
    "        return fraction\n",
    "    if mix == 'Blotch':\n",
    "        unionized_b = gs_blotch.unary_union\n",
    "        area_b = unionized_b.area * squared_pixel_scale\n",
    "        tile_area_b = pixel_area * squared_pixel_scale\n",
    "        fraction_b = area_b / tile_area_b\n",
    "        return fraction_b\n",
    "    if mix == 'Fans':\n",
    "        unionized_f = gs_fans.unary_union\n",
    "        area_f = unionized_f.area * squared_pixel_scale\n",
    "        tile_area_f = pixel_area * squared_pixel_scale\n",
    "        fraction_f = area_f / tile_area_f\n",
    "        return fraction_f\n",
    "    else:\n",
    "        return \"Please enter Mix, Blotch, or Fans for 'mix' value\"\n",
    "    "
   ]
  },
  {
   "cell_type": "code",
   "execution_count": null,
   "metadata": {},
   "outputs": [],
   "source": [
    "get_tile_fraction('bdb', mix = 'Blotch') +get_tile_fraction('bdb', mix = 'Fans') "
   ]
  },
  {
   "cell_type": "code",
   "execution_count": null,
   "metadata": {},
   "outputs": [],
   "source": [
    "get_tile_fraction('bdb', mix = 'Blotch')"
   ]
  },
  {
   "cell_type": "code",
   "execution_count": null,
   "metadata": {},
   "outputs": [],
   "source": [
    "get_tile_fraction('bdb', mix = 'Fans')"
   ]
  },
  {
   "cell_type": "code",
   "execution_count": null,
   "metadata": {},
   "outputs": [],
   "source": [
    "get_tile_fraction('bdb')"
   ]
  },
  {
   "cell_type": "code",
   "execution_count": null,
   "metadata": {},
   "outputs": [],
   "source": [
    "#fan obsid values, unique\n",
    "f_o_v = np.unique(fans.obsid.values)"
   ]
  },
  {
   "cell_type": "code",
   "execution_count": 3,
   "metadata": {},
   "outputs": [],
   "source": [
    "obsid_test = 'ESP_012079_0945'"
   ]
  },
  {
   "cell_type": "code",
   "execution_count": 4,
   "metadata": {},
   "outputs": [
    {
     "data": {
      "text/plain": [
       "'ESP_012079_0945'"
      ]
     },
     "execution_count": 4,
     "metadata": {},
     "output_type": "execute_result"
    }
   ],
   "source": [
    "obsid_test"
   ]
  },
  {
   "cell_type": "code",
   "execution_count": 7,
   "metadata": {},
   "outputs": [],
   "source": [
    "def get_obsid_fraction(the_obsid, scope = 'hirise'):\n",
    "    test_array = []\n",
    "    squared_pixel_scale = fans.map_scale.iloc[0]**2\n",
    "    pixel_area = markings.IMG_X_SIZE * markings.IMG_Y_SIZE\n",
    "    if np.any(fans.obsid.values[:]) == the_obsid or np.any(blotches.obsid.values[:]) == the_obsid:\n",
    "        test_array.append(fans.tile_id)\n",
    "        test_array.append(blotches.tile_id)\n",
    "        \n",
    "    u_test_array = np.unique(test_array)\n",
    "    \n",
    "    poly = Polygon() #creates an empty polygon to union with\n",
    "    for i in len(u_test_array):\n",
    "        blotch = blotches[blotches.test_array[i] == io.check_and_pad_id(test_array[i])]\n",
    "        fan = fans[fans.test_array[i] == io.check_and_pad_id(test_array[i])]\n",
    "        gs_blotch = gp.GeoSeries([markings.Blotch(row, scope).to_shapely() for _, row in blotch.iterrows])\n",
    "        gs_fans = gp.GeoSeries([markings.Fan(row, scope).to_shapely() for _,row in fan.iterrows()])\n",
    "        gs = pd.concat([gs_blotch, gs_fans], ignore_index=True, sort=True)\n",
    "        unionized = gs.unary_union\n",
    "        unionized.union(poly)\n",
    "        \n",
    "    area = poly.area * squared_pixel_scale\n",
    "    tile_area = pixel_area * squared_pixel_scale #need obsid area, not tile area- how to do this?\n",
    "    fraction = area / tile_area\n",
    "    return fraction"
   ]
  },
  {
   "cell_type": "code",
   "execution_count": 8,
   "metadata": {},
   "outputs": [
    {
     "ename": "ValueError",
     "evalue": "Can only compare identically-labeled Series objects",
     "output_type": "error",
     "traceback": [
      "\u001b[1;31m---------------------------------------------------------------------------\u001b[0m",
      "\u001b[1;31mValueError\u001b[0m                                Traceback (most recent call last)",
      "\u001b[1;32m<ipython-input-8-adbe7adab584>\u001b[0m in \u001b[0;36m<module>\u001b[1;34m\u001b[0m\n\u001b[1;32m----> 1\u001b[1;33m \u001b[0mget_obsid_fraction\u001b[0m\u001b[1;33m(\u001b[0m\u001b[0mobsid_test\u001b[0m\u001b[1;33m)\u001b[0m\u001b[1;33m\u001b[0m\u001b[1;33m\u001b[0m\u001b[0m\n\u001b[0m",
      "\u001b[1;32m<ipython-input-7-d31c703ae39e>\u001b[0m in \u001b[0;36mget_obsid_fraction\u001b[1;34m(the_obsid, scope)\u001b[0m\n\u001b[0;32m      7\u001b[0m         \u001b[0mtest_array\u001b[0m\u001b[1;33m.\u001b[0m\u001b[0mappend\u001b[0m\u001b[1;33m(\u001b[0m\u001b[0mblotches\u001b[0m\u001b[1;33m.\u001b[0m\u001b[0mtile_id\u001b[0m\u001b[1;33m)\u001b[0m\u001b[1;33m\u001b[0m\u001b[1;33m\u001b[0m\u001b[0m\n\u001b[0;32m      8\u001b[0m \u001b[1;33m\u001b[0m\u001b[0m\n\u001b[1;32m----> 9\u001b[1;33m     \u001b[0mu_test_array\u001b[0m \u001b[1;33m=\u001b[0m \u001b[0mnp\u001b[0m\u001b[1;33m.\u001b[0m\u001b[0munique\u001b[0m\u001b[1;33m(\u001b[0m\u001b[0mtest_array\u001b[0m\u001b[1;33m)\u001b[0m\u001b[1;33m\u001b[0m\u001b[1;33m\u001b[0m\u001b[0m\n\u001b[0m\u001b[0;32m     10\u001b[0m \u001b[1;33m\u001b[0m\u001b[0m\n\u001b[0;32m     11\u001b[0m     \u001b[0mpoly\u001b[0m \u001b[1;33m=\u001b[0m \u001b[0mPolygon\u001b[0m\u001b[1;33m(\u001b[0m\u001b[1;33m)\u001b[0m \u001b[1;31m#creates an empty polygon to union with\u001b[0m\u001b[1;33m\u001b[0m\u001b[1;33m\u001b[0m\u001b[0m\n",
      "\u001b[1;32m~\\Anaconda3\\envs\\py37\\lib\\site-packages\\numpy\\lib\\arraysetops.py\u001b[0m in \u001b[0;36munique\u001b[1;34m(ar, return_index, return_inverse, return_counts, axis)\u001b[0m\n\u001b[0;32m    231\u001b[0m     \u001b[0mar\u001b[0m \u001b[1;33m=\u001b[0m \u001b[0mnp\u001b[0m\u001b[1;33m.\u001b[0m\u001b[0masanyarray\u001b[0m\u001b[1;33m(\u001b[0m\u001b[0mar\u001b[0m\u001b[1;33m)\u001b[0m\u001b[1;33m\u001b[0m\u001b[1;33m\u001b[0m\u001b[0m\n\u001b[0;32m    232\u001b[0m     \u001b[1;32mif\u001b[0m \u001b[0maxis\u001b[0m \u001b[1;32mis\u001b[0m \u001b[1;32mNone\u001b[0m\u001b[1;33m:\u001b[0m\u001b[1;33m\u001b[0m\u001b[1;33m\u001b[0m\u001b[0m\n\u001b[1;32m--> 233\u001b[1;33m         \u001b[0mret\u001b[0m \u001b[1;33m=\u001b[0m \u001b[0m_unique1d\u001b[0m\u001b[1;33m(\u001b[0m\u001b[0mar\u001b[0m\u001b[1;33m,\u001b[0m \u001b[0mreturn_index\u001b[0m\u001b[1;33m,\u001b[0m \u001b[0mreturn_inverse\u001b[0m\u001b[1;33m,\u001b[0m \u001b[0mreturn_counts\u001b[0m\u001b[1;33m)\u001b[0m\u001b[1;33m\u001b[0m\u001b[1;33m\u001b[0m\u001b[0m\n\u001b[0m\u001b[0;32m    234\u001b[0m         \u001b[1;32mreturn\u001b[0m \u001b[0m_unpack_tuple\u001b[0m\u001b[1;33m(\u001b[0m\u001b[0mret\u001b[0m\u001b[1;33m)\u001b[0m\u001b[1;33m\u001b[0m\u001b[1;33m\u001b[0m\u001b[0m\n\u001b[0;32m    235\u001b[0m \u001b[1;33m\u001b[0m\u001b[0m\n",
      "\u001b[1;32m~\\Anaconda3\\envs\\py37\\lib\\site-packages\\numpy\\lib\\arraysetops.py\u001b[0m in \u001b[0;36m_unique1d\u001b[1;34m(ar, return_index, return_inverse, return_counts)\u001b[0m\n\u001b[0;32m    279\u001b[0m         \u001b[0maux\u001b[0m \u001b[1;33m=\u001b[0m \u001b[0mar\u001b[0m\u001b[1;33m[\u001b[0m\u001b[0mperm\u001b[0m\u001b[1;33m]\u001b[0m\u001b[1;33m\u001b[0m\u001b[1;33m\u001b[0m\u001b[0m\n\u001b[0;32m    280\u001b[0m     \u001b[1;32melse\u001b[0m\u001b[1;33m:\u001b[0m\u001b[1;33m\u001b[0m\u001b[1;33m\u001b[0m\u001b[0m\n\u001b[1;32m--> 281\u001b[1;33m         \u001b[0mar\u001b[0m\u001b[1;33m.\u001b[0m\u001b[0msort\u001b[0m\u001b[1;33m(\u001b[0m\u001b[1;33m)\u001b[0m\u001b[1;33m\u001b[0m\u001b[1;33m\u001b[0m\u001b[0m\n\u001b[0m\u001b[0;32m    282\u001b[0m         \u001b[0maux\u001b[0m \u001b[1;33m=\u001b[0m \u001b[0mar\u001b[0m\u001b[1;33m\u001b[0m\u001b[1;33m\u001b[0m\u001b[0m\n\u001b[0;32m    283\u001b[0m     \u001b[0mmask\u001b[0m \u001b[1;33m=\u001b[0m \u001b[0mnp\u001b[0m\u001b[1;33m.\u001b[0m\u001b[0mempty\u001b[0m\u001b[1;33m(\u001b[0m\u001b[0maux\u001b[0m\u001b[1;33m.\u001b[0m\u001b[0mshape\u001b[0m\u001b[1;33m,\u001b[0m \u001b[0mdtype\u001b[0m\u001b[1;33m=\u001b[0m\u001b[0mnp\u001b[0m\u001b[1;33m.\u001b[0m\u001b[0mbool_\u001b[0m\u001b[1;33m)\u001b[0m\u001b[1;33m\u001b[0m\u001b[1;33m\u001b[0m\u001b[0m\n",
      "\u001b[1;32m~\\Anaconda3\\envs\\py37\\lib\\site-packages\\pandas\\core\\ops.py\u001b[0m in \u001b[0;36mwrapper\u001b[1;34m(self, other, axis)\u001b[0m\n\u001b[0;32m   1188\u001b[0m \u001b[1;33m\u001b[0m\u001b[0m\n\u001b[0;32m   1189\u001b[0m         \u001b[1;32melif\u001b[0m \u001b[0misinstance\u001b[0m\u001b[1;33m(\u001b[0m\u001b[0mother\u001b[0m\u001b[1;33m,\u001b[0m \u001b[0mABCSeries\u001b[0m\u001b[1;33m)\u001b[0m \u001b[1;32mand\u001b[0m \u001b[1;32mnot\u001b[0m \u001b[0mself\u001b[0m\u001b[1;33m.\u001b[0m\u001b[0m_indexed_same\u001b[0m\u001b[1;33m(\u001b[0m\u001b[0mother\u001b[0m\u001b[1;33m)\u001b[0m\u001b[1;33m:\u001b[0m\u001b[1;33m\u001b[0m\u001b[1;33m\u001b[0m\u001b[0m\n\u001b[1;32m-> 1190\u001b[1;33m             raise ValueError(\"Can only compare identically-labeled \"\n\u001b[0m\u001b[0;32m   1191\u001b[0m                              \"Series objects\")\n\u001b[0;32m   1192\u001b[0m \u001b[1;33m\u001b[0m\u001b[0m\n",
      "\u001b[1;31mValueError\u001b[0m: Can only compare identically-labeled Series objects"
     ]
    }
   ],
   "source": [
    "get_obsid_fraction(obsid_test)"
   ]
  },
  {
   "cell_type": "code",
   "execution_count": null,
   "metadata": {},
   "outputs": [],
   "source": [
    "get_obsid_fraction(obsid_test)"
   ]
  },
  {
   "cell_type": "code",
   "execution_count": null,
   "metadata": {},
   "outputs": [],
   "source": []
  }
 ],
 "metadata": {
  "kernelspec": {
   "display_name": "Python 3",
   "language": "python",
   "name": "python3"
  },
  "language_info": {
   "codemirror_mode": {
    "name": "ipython",
    "version": 3
   },
   "file_extension": ".py",
   "mimetype": "text/x-python",
   "name": "python",
   "nbconvert_exporter": "python",
   "pygments_lexer": "ipython3",
   "version": "3.6.7"
  },
  "toc": {
   "base_numbering": 1,
   "nav_menu": {},
   "number_sections": true,
   "sideBar": true,
   "skip_h1_title": false,
   "title_cell": "Table of Contents",
   "title_sidebar": "Contents",
   "toc_cell": true,
   "toc_position": {},
   "toc_section_display": "block",
   "toc_window_display": false
  },
  "varInspector": {
   "cols": {
    "lenName": 16,
    "lenType": 16,
    "lenVar": 40
   },
   "kernels_config": {
    "python": {
     "delete_cmd_postfix": "",
     "delete_cmd_prefix": "del ",
     "library": "var_list.py",
     "varRefreshCmd": "print(var_dic_list())"
    },
    "r": {
     "delete_cmd_postfix": ") ",
     "delete_cmd_prefix": "rm(",
     "library": "var_list.r",
     "varRefreshCmd": "cat(var_dic_list()) "
    }
   },
   "types_to_exclude": [
    "module",
    "function",
    "builtin_function_or_method",
    "instance",
    "_Feature"
   ],
   "window_display": false
  }
 },
 "nbformat": 4,
 "nbformat_minor": 2
}
