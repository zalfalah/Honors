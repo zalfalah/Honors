{
 "cells": [
  {
   "cell_type": "markdown",
   "metadata": {
    "toc": "true"
   },
   "source": [
    "<h1>Table of Contents<span class=\"tocSkip\"></span></h1>\n",
    "<div class=\"toc\"><ul class=\"toc-item\"><li><span><a href=\"#Ellipses-with-Shapely\" data-toc-modified-id=\"Ellipses-with-Shapely-1\"><span class=\"toc-item-num\">1&nbsp;&nbsp;</span>Ellipses with Shapely</a></span></li><li><span><a href=\"#by-tile_id\" data-toc-modified-id=\"by-tile_id-2\"><span class=\"toc-item-num\">2&nbsp;&nbsp;</span>by tile_id</a></span></li><li><span><a href=\"#by-obsid\" data-toc-modified-id=\"by-obsid-3\"><span class=\"toc-item-num\">3&nbsp;&nbsp;</span>by obsid</a></span></li><li><span><a href=\"#Shapely-checks\" data-toc-modified-id=\"Shapely-checks-4\"><span class=\"toc-item-num\">4&nbsp;&nbsp;</span>Shapely checks</a></span></li></ul></div>"
   ]
  },
  {
   "cell_type": "markdown",
   "metadata": {
    "ExecuteTime": {
     "end_time": "2018-12-17T23:04:55.560865Z",
     "start_time": "2018-12-17T23:04:55.540586Z"
    }
   },
   "source": [
    "# Read fans and blotches (Do always)"
   ]
  },
  {
   "cell_type": "code",
   "execution_count": 1,
   "metadata": {
    "ExecuteTime": {
     "end_time": "2018-12-17T23:04:17.507625Z",
     "start_time": "2018-12-17T23:04:15.429594Z"
    }
   },
   "outputs": [],
   "source": [
    "import sys\n",
    "\n",
    "if sys.platform == 'darwin':\n",
    "    rootpath = Path(\"/Users/klay6683/Dropbox/data/planet4/p4_for_Zade/P4_catalog_v1.1/\")\n",
    "else:\n",
    "    rootpath = Path(\"C:/Users/Zade/Documents/python_from_others/planet4_results/\")\n",
    "                    \n",
    "fans = pd.read_csv(rootpath / \"P4_catalog_v1.1_L1C_cut_0.5_fan.csv\")\n",
    "blotches = pd.read_csv(rootpath / \"P4_catalog_v1.1_L1C_cut_0.5_blotch.csv\")"
   ]
  },
  {
   "cell_type": "markdown",
   "metadata": {},
   "source": [
    "# Ellipses with Shapely "
   ]
  },
  {
   "cell_type": "code",
   "execution_count": null,
   "metadata": {},
   "outputs": [],
   "source": [
    "from planet4.markings import Fan, Blotch"
   ]
  },
  {
   "cell_type": "code",
   "execution_count": null,
   "metadata": {
    "ExecuteTime": {
     "end_time": "2018-11-26T23:12:26.847928Z",
     "start_time": "2018-11-26T23:12:23.117876Z"
    }
   },
   "outputs": [],
   "source": [
    "from planet4 import markings"
   ]
  },
  {
   "cell_type": "code",
   "execution_count": null,
   "metadata": {
    "ExecuteTime": {
     "end_time": "2018-11-26T23:12:26.956438Z",
     "start_time": "2018-11-26T23:12:26.915892Z"
    }
   },
   "outputs": [],
   "source": [
    "d = dict(x=1, y=2, radius_1=3, radius_2=2, angle=35)\n",
    "blotch = markings.Blotch(pd.Series(d))"
   ]
  },
  {
   "cell_type": "code",
   "execution_count": null,
   "metadata": {
    "ExecuteTime": {
     "end_time": "2018-11-26T23:12:29.821523Z",
     "start_time": "2018-11-26T23:12:29.785437Z"
    }
   },
   "outputs": [],
   "source": [
    "%matplotlib inline"
   ]
  },
  {
   "cell_type": "code",
   "execution_count": null,
   "metadata": {
    "ExecuteTime": {
     "end_time": "2018-11-26T23:12:42.040800Z",
     "start_time": "2018-11-26T23:12:42.001295Z"
    }
   },
   "outputs": [],
   "source": [
    "from planet4 import io, plotting\n",
    "obsid = 'ESP_011544_0985'\n",
    "id_ = 'bdb'\n",
    "pm = io.PathManager(obsid=obsid, datapath='p4_analysis/p4_catalog')"
   ]
  },
  {
   "cell_type": "code",
   "execution_count": null,
   "metadata": {},
   "outputs": [],
   "source": [
    "pm.obsid_final_blotches_path"
   ]
  },
  {
   "cell_type": "code",
   "execution_count": null,
   "metadata": {},
   "outputs": [],
   "source": [
    "from planet4.catalog_production import ReleaseManager"
   ]
  },
  {
   "cell_type": "code",
   "execution_count": null,
   "metadata": {},
   "outputs": [],
   "source": [
    "rm = ReleaseManager('v1.0')"
   ]
  },
  {
   "cell_type": "code",
   "execution_count": null,
   "metadata": {},
   "outputs": [],
   "source": [
    "df = rm.read_blotch_file()"
   ]
  },
  {
   "cell_type": "code",
   "execution_count": null,
   "metadata": {},
   "outputs": [],
   "source": [
    "df = pd.read_csv(pm.obsid_final_blotches_path)"
   ]
  },
  {
   "cell_type": "markdown",
   "metadata": {},
   "source": [
    "# by tile_id"
   ]
  },
  {
   "cell_type": "code",
   "execution_count": null,
   "metadata": {
    "ExecuteTime": {
     "end_time": "2018-11-26T23:13:52.852354Z",
     "start_time": "2018-11-26T23:13:50.712217Z"
    }
   },
   "outputs": [],
   "source": [
    "fans = pd.read_csv(r\"C:\\Users\\Zade\\Documents\\python_from_others\\P4_catalog_v1.1_L1C_cut_0.5_fan.csv\")\n",
    "\n",
    "blotches = pd.read_csv(r\"C:\\Users\\Zade\\Documents\\python_from_others\\P4_catalog_v1.1_L1C_cut_0.5_blotch.csv\")"
   ]
  },
  {
   "cell_type": "code",
   "execution_count": null,
   "metadata": {
    "ExecuteTime": {
     "end_time": "2018-11-26T23:14:07.965805Z",
     "start_time": "2018-11-26T23:14:07.936421Z"
    }
   },
   "outputs": [],
   "source": [
    "id_ = 'bdb'"
   ]
  },
  {
   "cell_type": "code",
   "execution_count": null,
   "metadata": {
    "ExecuteTime": {
     "end_time": "2018-11-26T23:14:18.490337Z",
     "start_time": "2018-11-26T23:14:18.461216Z"
    }
   },
   "outputs": [],
   "source": [
    "from planet4 import io"
   ]
  },
  {
   "cell_type": "code",
   "execution_count": null,
   "metadata": {
    "ExecuteTime": {
     "end_time": "2018-11-26T23:14:19.042905Z",
     "start_time": "2018-11-26T23:14:18.980109Z"
    }
   },
   "outputs": [],
   "source": [
    "blotches = blotches[blotches.tile_id == io.check_and_pad_id(id_)]"
   ]
  },
  {
   "cell_type": "code",
   "execution_count": null,
   "metadata": {
    "ExecuteTime": {
     "end_time": "2018-11-26T23:14:20.704857Z",
     "start_time": "2018-11-26T23:14:20.651848Z"
    }
   },
   "outputs": [],
   "source": [
    "fans = fans[fans.tile_id == io.check_and_pad_id(id_)]"
   ]
  },
  {
   "cell_type": "code",
   "execution_count": null,
   "metadata": {
    "ExecuteTime": {
     "end_time": "2018-11-26T23:14:23.016554Z",
     "start_time": "2018-11-26T23:14:21.611417Z"
    }
   },
   "outputs": [],
   "source": [
    "import geopandas as gp"
   ]
  },
  {
   "cell_type": "code",
   "execution_count": null,
   "metadata": {
    "ExecuteTime": {
     "end_time": "2018-11-26T23:14:23.785404Z",
     "start_time": "2018-11-26T23:14:23.755628Z"
    }
   },
   "outputs": [],
   "source": [
    "import shapely"
   ]
  },
  {
   "cell_type": "code",
   "execution_count": null,
   "metadata": {
    "ExecuteTime": {
     "end_time": "2018-11-26T23:14:26.339829Z",
     "start_time": "2018-11-26T23:14:26.267110Z"
    }
   },
   "outputs": [],
   "source": [
    "gs_blotch = gp.GeoSeries([markings.Blotch(row).to_shapely() for _,row in blotches.iterrows()])\n",
    "\n",
    "gs_fans = gp.GeoSeries([markings.Fan(row).to_shapely() for _,row in fans.iterrows()])"
   ]
  },
  {
   "cell_type": "code",
   "execution_count": null,
   "metadata": {},
   "outputs": [],
   "source": []
  },
  {
   "cell_type": "code",
   "execution_count": null,
   "metadata": {},
   "outputs": [],
   "source": []
  },
  {
   "cell_type": "code",
   "execution_count": null,
   "metadata": {
    "ExecuteTime": {
     "end_time": "2018-11-26T23:17:51.960342Z",
     "start_time": "2018-11-26T23:17:51.924152Z"
    }
   },
   "outputs": [],
   "source": [
    "gs = pd.concat([gs_blotch, gs_fans], ignore_index=True, sort=True)"
   ]
  },
  {
   "cell_type": "code",
   "execution_count": null,
   "metadata": {
    "ExecuteTime": {
     "end_time": "2018-11-26T23:17:58.341193Z",
     "start_time": "2018-11-26T23:17:58.301273Z"
    }
   },
   "outputs": [],
   "source": [
    "gs.head()"
   ]
  },
  {
   "cell_type": "code",
   "execution_count": null,
   "metadata": {
    "ExecuteTime": {
     "end_time": "2018-11-26T23:27:15.664852Z",
     "start_time": "2018-11-26T23:27:15.633693Z"
    }
   },
   "outputs": [],
   "source": [
    "id_ = 'bdb'\n",
    "p4id = markings.TileID(id_)"
   ]
  },
  {
   "cell_type": "code",
   "execution_count": null,
   "metadata": {
    "ExecuteTime": {
     "end_time": "2018-11-26T23:27:50.150437Z",
     "start_time": "2018-11-26T23:27:50.112704Z"
    }
   },
   "outputs": [],
   "source": [
    "%matplotlib ipympl"
   ]
  },
  {
   "cell_type": "code",
   "execution_count": null,
   "metadata": {
    "ExecuteTime": {
     "end_time": "2018-11-26T23:28:38.949373Z",
     "start_time": "2018-11-26T23:28:37.983175Z"
    }
   },
   "outputs": [],
   "source": [
    "p4id.plot_fans(data=fans)\n",
    "ax =plt.gca()\n",
    "p4id.plot_blotches(data=blotches, ax=ax)"
   ]
  },
  {
   "cell_type": "code",
   "execution_count": null,
   "metadata": {
    "ExecuteTime": {
     "end_time": "2018-11-26T23:31:19.437497Z",
     "start_time": "2018-11-26T23:31:19.360757Z"
    }
   },
   "outputs": [],
   "source": [
    "gs.plot()\n",
    "ax = plt.gca()\n",
    "ax.set_xlim((0, markings.IMG_X_SIZE))\n",
    "ax.set_ylim((0, markings.IMG_Y_SIZE))\n",
    "ax.invert_yaxis()"
   ]
  },
  {
   "cell_type": "code",
   "execution_count": null,
   "metadata": {
    "ExecuteTime": {
     "end_time": "2018-11-26T23:34:15.371310Z",
     "start_time": "2018-11-26T23:34:15.332288Z"
    }
   },
   "outputs": [],
   "source": [
    "gs.head()"
   ]
  },
  {
   "cell_type": "code",
   "execution_count": null,
   "metadata": {
    "ExecuteTime": {
     "end_time": "2018-11-26T23:34:18.390463Z",
     "start_time": "2018-11-26T23:34:18.352906Z"
    }
   },
   "outputs": [],
   "source": [
    "from shapely.ops import unary_union"
   ]
  },
  {
   "cell_type": "code",
   "execution_count": null,
   "metadata": {
    "ExecuteTime": {
     "end_time": "2018-11-26T23:34:35.179744Z",
     "start_time": "2018-11-26T23:34:35.128438Z"
    }
   },
   "outputs": [],
   "source": [
    "unionized = gs.unary_union"
   ]
  },
  {
   "cell_type": "code",
   "execution_count": null,
   "metadata": {
    "ExecuteTime": {
     "end_time": "2018-11-26T23:36:33.740117Z",
     "start_time": "2018-11-26T23:36:33.707627Z"
    }
   },
   "outputs": [],
   "source": [
    "x, y = markings.calc_fig_size(8)"
   ]
  },
  {
   "cell_type": "code",
   "execution_count": null,
   "metadata": {
    "ExecuteTime": {
     "end_time": "2018-11-26T23:36:32.060104Z",
     "start_time": "2018-11-26T23:36:32.024531Z"
    }
   },
   "outputs": [],
   "source": [
    "import seaborn as sns\n",
    "sns.set_context('talk')"
   ]
  },
  {
   "cell_type": "code",
   "execution_count": null,
   "metadata": {
    "ExecuteTime": {
     "end_time": "2018-11-26T23:37:33.332521Z",
     "start_time": "2018-11-26T23:37:33.299990Z"
    }
   },
   "outputs": [],
   "source": [
    "squared_pixel_scale = fans.map_scale.iloc[0]**2\n",
    "squared_pixel_scale"
   ]
  },
  {
   "cell_type": "code",
   "execution_count": null,
   "metadata": {
    "ExecuteTime": {
     "end_time": "2018-11-26T23:39:29.360049Z",
     "start_time": "2018-11-26T23:39:29.327304Z"
    }
   },
   "outputs": [],
   "source": [
    "fans.map_scale.iloc[0]"
   ]
  },
  {
   "cell_type": "code",
   "execution_count": null,
   "metadata": {
    "ExecuteTime": {
     "end_time": "2018-11-26T23:39:42.503188Z",
     "start_time": "2018-11-26T23:39:42.470686Z"
    }
   },
   "outputs": [],
   "source": [
    "unionized.area"
   ]
  },
  {
   "cell_type": "code",
   "execution_count": null,
   "metadata": {
    "ExecuteTime": {
     "end_time": "2018-11-26T23:40:16.287466Z",
     "start_time": "2018-11-26T23:40:16.245568Z"
    }
   },
   "outputs": [],
   "source": [
    "unionized"
   ]
  },
  {
   "cell_type": "code",
   "execution_count": null,
   "metadata": {
    "ExecuteTime": {
     "end_time": "2018-11-26T23:41:17.974176Z",
     "start_time": "2018-11-26T23:41:17.940227Z"
    }
   },
   "outputs": [],
   "source": [
    "area = unionized.area * squared_pixel_scale\n",
    "area"
   ]
  },
  {
   "cell_type": "code",
   "execution_count": null,
   "metadata": {
    "ExecuteTime": {
     "end_time": "2018-11-26T23:42:17.193782Z",
     "start_time": "2018-11-26T23:42:17.160468Z"
    }
   },
   "outputs": [],
   "source": [
    "pixel_area = markings.IMG_X_SIZE * markings.IMG_Y_SIZE\n",
    "tile_area = pixel_area * squared_pixel_scale\n",
    "tile_area"
   ]
  },
  {
   "cell_type": "code",
   "execution_count": null,
   "metadata": {
    "ExecuteTime": {
     "end_time": "2018-11-26T23:42:23.262580Z",
     "start_time": "2018-11-26T23:42:23.230355Z"
    }
   },
   "outputs": [],
   "source": [
    "fraction = area / tile_area\n",
    "fraction"
   ]
  },
  {
   "cell_type": "code",
   "execution_count": null,
   "metadata": {
    "ExecuteTime": {
     "end_time": "2018-11-26T23:45:12.750572Z",
     "start_time": "2018-11-26T23:45:12.017846Z"
    }
   },
   "outputs": [],
   "source": [
    "fig, ax = plt.subplots(ncols=2, figsize=(1.8*x, y), constrained_layout=True)\n",
    "p4id.plot_fans(data=fans, ax=ax[0])\n",
    "p4id.plot_blotches(data=blotches, ax=ax[0])\n",
    "# p4id.show_subframe(ax=ax[1])\n",
    "gp.GeoSeries(unionized).boundary.plot(ax=ax[1])\n",
    "ax[1].set_xlim(-25, markings.IMG_X_SIZE+25)\n",
    "ax[1].set_ylim(markings.IMG_Y_SIZE+25, -25)\n",
    "\n",
    "ax[1].set_axis_off()\n",
    "fig.suptitle(id_)\n",
    "ax[0].set_title('Combined fans and blotches')\n",
    "ax[1].set_title(f\"\"\"Union out of shapely fans and blotches.\n",
    "Area: {area:.0f} $m^2$; Fraction: {fraction*100:.0f} %\"\"\")\n",
    "fig.savefig('shapely_both.png', dpi=100)"
   ]
  },
  {
   "cell_type": "code",
   "execution_count": null,
   "metadata": {
    "ExecuteTime": {
     "end_time": "2018-11-26T23:47:19.685566Z",
     "start_time": "2018-11-26T23:47:19.652695Z"
    }
   },
   "outputs": [],
   "source": [
    "poly = unionized[0]"
   ]
  },
  {
   "cell_type": "code",
   "execution_count": null,
   "metadata": {
    "ExecuteTime": {
     "end_time": "2018-11-26T23:47:24.116676Z",
     "start_time": "2018-11-26T23:47:24.081216Z"
    }
   },
   "outputs": [],
   "source": [
    "poly.boundary.xy[0][0]"
   ]
  },
  {
   "cell_type": "code",
   "execution_count": null,
   "metadata": {
    "ExecuteTime": {
     "end_time": "2018-11-26T23:47:48.420591Z",
     "start_time": "2018-11-26T23:47:48.378335Z"
    }
   },
   "outputs": [],
   "source": [
    "df1 = gp.GeoDataFrame({'geometry': gs})\n",
    "df1.head()"
   ]
  },
  {
   "cell_type": "code",
   "execution_count": null,
   "metadata": {
    "ExecuteTime": {
     "end_time": "2018-11-26T23:48:38.331984Z",
     "start_time": "2018-11-26T23:48:38.289965Z"
    }
   },
   "outputs": [],
   "source": [
    "unionized"
   ]
  },
  {
   "cell_type": "code",
   "execution_count": null,
   "metadata": {
    "ExecuteTime": {
     "end_time": "2018-11-26T23:48:39.468208Z",
     "start_time": "2018-11-26T23:48:39.280864Z"
    }
   },
   "outputs": [],
   "source": [
    "inters = gp.overlay(df1, df1, how='intersection')\n",
    "inters.plot()"
   ]
  },
  {
   "cell_type": "markdown",
   "metadata": {},
   "source": [
    "# by obsid"
   ]
  },
  {
   "cell_type": "code",
   "execution_count": null,
   "metadata": {},
   "outputs": [],
   "source": []
  },
  {
   "cell_type": "code",
   "execution_count": null,
   "metadata": {
    "ExecuteTime": {
     "end_time": "2018-11-26T23:49:47.481874Z",
     "start_time": "2018-11-26T23:49:47.448539Z"
    },
    "scrolled": true
   },
   "outputs": [],
   "source": [
    "fans.columns"
   ]
  },
  {
   "cell_type": "code",
   "execution_count": null,
   "metadata": {
    "ExecuteTime": {
     "end_time": "2018-11-26T23:49:49.554231Z",
     "start_time": "2018-11-26T23:49:49.518534Z"
    }
   },
   "outputs": [],
   "source": [
    "fans.l_s.value_counts()"
   ]
  },
  {
   "cell_type": "code",
   "execution_count": null,
   "metadata": {
    "ExecuteTime": {
     "end_time": "2018-11-26T23:49:54.343273Z",
     "start_time": "2018-11-26T23:49:54.311441Z"
    }
   },
   "outputs": [],
   "source": [
    "obsid = 'ESP_012643_0945'\n",
    "obsid = 'ESP_013049_0950'\n",
    "# obsid = 'ESP_011447_0950'"
   ]
  },
  {
   "cell_type": "code",
   "execution_count": null,
   "metadata": {
    "ExecuteTime": {
     "end_time": "2018-11-27T00:15:36.412074Z",
     "start_time": "2018-11-27T00:15:36.322859Z"
    }
   },
   "outputs": [],
   "source": [
    "fans[fans.obsid.map(lambda x: x.endswith(\"_0950\"))].obsid.value_counts()"
   ]
  },
  {
   "cell_type": "code",
   "execution_count": null,
   "metadata": {
    "ExecuteTime": {
     "end_time": "2018-11-27T00:15:38.172853Z",
     "start_time": "2018-11-27T00:15:38.126089Z"
    }
   },
   "outputs": [],
   "source": [
    "fans_obsid = fans.query(\"obsid == @obsid\")\n",
    "blotches_obsid = blotches.query(\"obsid == @obsid\")"
   ]
  },
  {
   "cell_type": "code",
   "execution_count": null,
   "metadata": {
    "ExecuteTime": {
     "end_time": "2018-11-27T00:15:39.032772Z",
     "start_time": "2018-11-27T00:15:38.996552Z"
    }
   },
   "outputs": [],
   "source": [
    "fans_obsid.l_s.value_counts()"
   ]
  },
  {
   "cell_type": "code",
   "execution_count": null,
   "metadata": {
    "ExecuteTime": {
     "end_time": "2018-11-27T00:15:40.312931Z",
     "start_time": "2018-11-27T00:15:40.278552Z"
    }
   },
   "outputs": [],
   "source": [
    "fans_obsid.tile_id.nunique()"
   ]
  },
  {
   "cell_type": "code",
   "execution_count": null,
   "metadata": {
    "ExecuteTime": {
     "end_time": "2018-11-27T00:28:35.603656Z",
     "start_time": "2018-11-27T00:28:34.708049Z"
    }
   },
   "outputs": [],
   "source": [
    "gs_blotch = gp.GeoSeries([markings.Blotch(row, scope='hirise').to_shapely() for _,row in blotches_obsid.iterrows()])\n",
    "\n",
    "gs_fans = gp.GeoSeries([markings.Fan(row, scope='hirise').to_shapely() for _,row in fans_obsid.iterrows()])"
   ]
  },
  {
   "cell_type": "code",
   "execution_count": null,
   "metadata": {
    "ExecuteTime": {
     "end_time": "2018-11-27T00:28:40.739099Z",
     "start_time": "2018-11-27T00:28:40.706221Z"
    }
   },
   "outputs": [],
   "source": [
    "gs = pd.concat([gs_blotch, gs_fans], ignore_index=True, sort=True)"
   ]
  },
  {
   "cell_type": "code",
   "execution_count": null,
   "metadata": {
    "ExecuteTime": {
     "end_time": "2018-11-27T00:28:41.579334Z",
     "start_time": "2018-11-27T00:28:41.545906Z"
    }
   },
   "outputs": [],
   "source": [
    "gs.shape"
   ]
  },
  {
   "cell_type": "code",
   "execution_count": null,
   "metadata": {
    "ExecuteTime": {
     "end_time": "2018-11-27T00:28:42.449697Z",
     "start_time": "2018-11-27T00:28:42.378618Z"
    }
   },
   "outputs": [],
   "source": [
    "unioned = gs.unary_union"
   ]
  },
  {
   "cell_type": "code",
   "execution_count": null,
   "metadata": {
    "ExecuteTime": {
     "end_time": "2018-11-27T00:28:59.673083Z",
     "start_time": "2018-11-27T00:28:59.638667Z"
    }
   },
   "outputs": [],
   "source": [
    "fans_obsid.map_scale.value_counts()"
   ]
  },
  {
   "cell_type": "markdown",
   "metadata": {},
   "source": [
    "# Shapely checks"
   ]
  },
  {
   "cell_type": "code",
   "execution_count": null,
   "metadata": {},
   "outputs": [],
   "source": [
    "import pandas as pd"
   ]
  },
  {
   "cell_type": "code",
   "execution_count": null,
   "metadata": {},
   "outputs": [],
   "source": [
    "fans = pd.read_csv(r\"C:\\Users\\Zade\\Documents\\python_from_others\\P4_catalog_v1.1_L1C_cut_0.5_fan.csv\")\n",
    "\n",
    "blotches = pd.read_csv(r\"C:\\Users\\Zade\\Documents\\python_from_others\\P4_catalog_v1.1_L1C_cut_0.5_blotch.csv\")"
   ]
  },
  {
   "cell_type": "code",
   "execution_count": null,
   "metadata": {
    "ExecuteTime": {
     "end_time": "2018-11-27T00:24:44.430124Z",
     "start_time": "2018-11-27T00:24:44.396621Z"
    }
   },
   "outputs": [],
   "source": [
    "fan1 = markings.Fan(pd.Series({'x':100.000001, 'y':200.000001, 'angle':0,'spread':10,'distance':100}))"
   ]
  },
  {
   "cell_type": "code",
   "execution_count": null,
   "metadata": {},
   "outputs": [],
   "source": [
    "#look at code, create a fan with the same base point but rotated off.  Make sure that so long as base points\n",
    "#are the same but rotated (eg 180 degrees) it's valid.  I think it will be so long as only one point touches.\n",
    "#create fans, mess with floating points and rotating the fans, see if base points with floating points, different angles work.\n",
    "#see if unary unions work for rotated fans.  Don't use geoseries, just use shapelys normal unary unions"
   ]
  },
  {
   "cell_type": "code",
   "execution_count": null,
   "metadata": {},
   "outputs": [],
   "source": [
    "fan2 = markings.Fan(pd.Series({'x':100.000001, 'y':200.000001, 'angle':180,'spread':10,'distance':100}))"
   ]
  },
  {
   "cell_type": "code",
   "execution_count": null,
   "metadata": {},
   "outputs": [],
   "source": [
    "fan1_shape = fan1.to_shapely()\n",
    "fan2_shape = fan2.to_shapely()"
   ]
  },
  {
   "cell_type": "code",
   "execution_count": null,
   "metadata": {},
   "outputs": [],
   "source": [
    "fan1_shape"
   ]
  },
  {
   "cell_type": "code",
   "execution_count": null,
   "metadata": {},
   "outputs": [],
   "source": [
    "fan2_shape"
   ]
  },
  {
   "cell_type": "code",
   "execution_count": null,
   "metadata": {},
   "outputs": [],
   "source": [
    "newfan = fan1_shape.union(fan2_shape)"
   ]
  },
  {
   "cell_type": "code",
   "execution_count": null,
   "metadata": {},
   "outputs": [],
   "source": [
    "newfan"
   ]
  },
  {
   "cell_type": "code",
   "execution_count": null,
   "metadata": {},
   "outputs": [],
   "source": [
    "newfan.is_valid"
   ]
  },
  {
   "cell_type": "code",
   "execution_count": null,
   "metadata": {},
   "outputs": [],
   "source": [
    "fan3 = markings.Fan(pd.Series({'x':100.000002, 'y':200.000002, 'angle':180,'spread':10,'distance':100}))"
   ]
  },
  {
   "cell_type": "code",
   "execution_count": null,
   "metadata": {},
   "outputs": [],
   "source": [
    "fan3_shape = fan3.to_shapely()"
   ]
  },
  {
   "cell_type": "code",
   "execution_count": null,
   "metadata": {},
   "outputs": [],
   "source": [
    "otherfan = fan3_shape.union(fan2_shape)"
   ]
  },
  {
   "cell_type": "code",
   "execution_count": null,
   "metadata": {},
   "outputs": [],
   "source": [
    "otherfan"
   ]
  },
  {
   "cell_type": "code",
   "execution_count": null,
   "metadata": {},
   "outputs": [],
   "source": [
    "otherfan.is_valid #this being valid shows that even with an almost complete intersection, unionizing them makes them valid. "
   ]
  },
  {
   "cell_type": "code",
   "execution_count": null,
   "metadata": {},
   "outputs": [],
   "source": [
    "#perhaps unary unions are different\n",
    "unionized"
   ]
  },
  {
   "cell_type": "code",
   "execution_count": null,
   "metadata": {},
   "outputs": [],
   "source": [
    "unionized.is_valid #this shows that the unionized object we have for our one tile is valid and should not throw our error."
   ]
  },
  {
   "cell_type": "code",
   "execution_count": null,
   "metadata": {},
   "outputs": [],
   "source": [
    "#continuing obsid checks:\n",
    "fans.columns"
   ]
  },
  {
   "cell_type": "code",
   "execution_count": null,
   "metadata": {},
   "outputs": [],
   "source": [
    "#obsid = 'ESP_012643_0945'\n",
    "obsid = 'ESP_013049_0950'\n",
    "# obsid = 'ESP_011447_0950'"
   ]
  },
  {
   "cell_type": "code",
   "execution_count": null,
   "metadata": {},
   "outputs": [],
   "source": [
    "fans[fans.obsid.map(lambda x: x.endswith(\"_0950\"))].obsid.value_counts()"
   ]
  },
  {
   "cell_type": "code",
   "execution_count": null,
   "metadata": {},
   "outputs": [],
   "source": [
    "fans_obsid = fans.query(\"obsid == @obsid\")\n",
    "blotches_obsid = blotches.query(\"obsid == @obsid\")"
   ]
  },
  {
   "cell_type": "code",
   "execution_count": null,
   "metadata": {},
   "outputs": [],
   "source": [
    "fans_obsid.l_s.value_counts()"
   ]
  },
  {
   "cell_type": "code",
   "execution_count": null,
   "metadata": {},
   "outputs": [],
   "source": [
    "fans_obsid.tile_id.nunique()"
   ]
  },
  {
   "cell_type": "code",
   "execution_count": null,
   "metadata": {},
   "outputs": [],
   "source": [
    "gs_blotch = gp.GeoSeries([markings.Blotch(row, scope='hirise').to_shapely() for _,row in blotches_obsid.iterrows()])\n",
    "\n",
    "gs_fans = gp.GeoSeries([markings.Fan(row, scope='hirise').to_shapely() for _,row in fans_obsid.iterrows()])"
   ]
  },
  {
   "cell_type": "code",
   "execution_count": null,
   "metadata": {},
   "outputs": [],
   "source": [
    "gs = pd.concat([gs_blotch, gs_fans], ignore_index=True, sort=True)\n"
   ]
  },
  {
   "cell_type": "code",
   "execution_count": null,
   "metadata": {},
   "outputs": [],
   "source": [
    "gs.shape\n"
   ]
  },
  {
   "cell_type": "code",
   "execution_count": null,
   "metadata": {},
   "outputs": [],
   "source": [
    "unioned = gs.unary_union \n",
    "#error in GEOS, unresolved : https://github.com/Toblerity/Shapely/issues/47\n"
   ]
  },
  {
   "cell_type": "code",
   "execution_count": null,
   "metadata": {},
   "outputs": [],
   "source": [
    "gs.is_valid.count() == gs.count()#every individual object is also valid"
   ]
  },
  {
   "cell_type": "markdown",
   "metadata": {},
   "source": [
    "# New Function"
   ]
  },
  {
   "cell_type": "code",
   "execution_count": 4,
   "metadata": {},
   "outputs": [],
   "source": [
    "import pandas as pd\n",
    "from planet4 import io\n",
    "import geopandas as gp\n",
    "import numpy as np\n",
    "import shapely\n",
    "from planet4 import markings\n",
    "from shapely.ops import unary_union\n",
    "from shapely.geometry import Polygon"
   ]
  },
  {
   "cell_type": "code",
   "execution_count": 5,
   "metadata": {},
   "outputs": [],
   "source": [
    "fans = pd.read_csv(r\"C:\\Users\\Zade\\Documents\\python_from_others\\planet4_results\\P4_catalog_v1.1_L1C_cut_0.5_fan.csv\")\n",
    "\n",
    "blotches = pd.read_csv(r\"C:\\Users\\Zade\\Documents\\python_from_others\\planet4_results\\P4_catalog_v1.1_L1C_cut_0.5_blotch.csv\")"
   ]
  },
  {
   "cell_type": "code",
   "execution_count": 6,
   "metadata": {},
   "outputs": [],
   "source": [
    "#new function that creates a polygon out of fans/blotches, break up get_tile_fraction into one that finds fraction,\n",
    "#as well as one that creates polygons for fans, blotches, and mixed.\n",
    "#make get tile fraction call that function\n",
    "#make getobsid to call the polygon function\n",
    "\n",
    "#run loop through every tile on its own,dont use counters, can look at dictionary stuff too! \n",
    "#then try to get obsid % coverage"
   ]
  },
  {
   "cell_type": "code",
   "execution_count": 21,
   "metadata": {},
   "outputs": [
    {
     "name": "stderr",
     "output_type": "stream",
     "text": [
      "TopologyException: Input geom 1 is invalid: Self-intersection at or near point 1203.604953161705 54706.912139640168 at 1203.604953161705 54706.912139640168\n"
     ]
    },
    {
     "ename": "ValueError",
     "evalue": "No Shapely geometry can be created from null value",
     "output_type": "error",
     "traceback": [
      "\u001b[1;31m---------------------------------------------------------------------------\u001b[0m",
      "\u001b[1;31mValueError\u001b[0m                                Traceback (most recent call last)",
      "\u001b[1;32m<ipython-input-21-e649a00495e8>\u001b[0m in \u001b[0;36m<module>\u001b[1;34m\u001b[0m\n\u001b[0;32m      3\u001b[0m     \u001b[0md\u001b[0m \u001b[1;33m=\u001b[0m \u001b[1;33m{\u001b[0m\u001b[1;33m}\u001b[0m\u001b[1;33m\u001b[0m\u001b[1;33m\u001b[0m\u001b[0m\n\u001b[0;32m      4\u001b[0m     \u001b[0md\u001b[0m\u001b[1;33m[\u001b[0m\u001b[1;34m'tile_id'\u001b[0m\u001b[1;33m]\u001b[0m \u001b[1;33m=\u001b[0m \u001b[0mtile_id\u001b[0m\u001b[1;33m\u001b[0m\u001b[1;33m\u001b[0m\u001b[0m\n\u001b[1;32m----> 5\u001b[1;33m     \u001b[0md\u001b[0m\u001b[1;33m[\u001b[0m\u001b[1;34m'result'\u001b[0m\u001b[1;33m]\u001b[0m \u001b[1;33m=\u001b[0m \u001b[0mget_tile_fraction\u001b[0m\u001b[1;33m(\u001b[0m\u001b[0mtile_id\u001b[0m\u001b[1;33m)\u001b[0m\u001b[1;33m\u001b[0m\u001b[1;33m\u001b[0m\u001b[0m\n\u001b[0m\u001b[0;32m      6\u001b[0m     \u001b[0mbucket\u001b[0m\u001b[1;33m.\u001b[0m\u001b[0mappend\u001b[0m\u001b[1;33m(\u001b[0m\u001b[0md\u001b[0m\u001b[1;33m)\u001b[0m\u001b[1;33m\u001b[0m\u001b[1;33m\u001b[0m\u001b[0m\n",
      "\u001b[1;32m<ipython-input-20-144190addaba>\u001b[0m in \u001b[0;36mget_tile_fraction\u001b[1;34m(tile_id, scope, mix)\u001b[0m\n\u001b[0;32m      9\u001b[0m     \u001b[1;32mif\u001b[0m \u001b[0mmix\u001b[0m \u001b[1;33m==\u001b[0m \u001b[1;34m'Mixed'\u001b[0m\u001b[1;33m:\u001b[0m\u001b[1;33m\u001b[0m\u001b[1;33m\u001b[0m\u001b[0m\n\u001b[0;32m     10\u001b[0m         \u001b[0mgs\u001b[0m \u001b[1;33m=\u001b[0m \u001b[0mpd\u001b[0m\u001b[1;33m.\u001b[0m\u001b[0mconcat\u001b[0m\u001b[1;33m(\u001b[0m\u001b[1;33m[\u001b[0m\u001b[0mgs_blotch\u001b[0m\u001b[1;33m,\u001b[0m \u001b[0mgs_fans\u001b[0m\u001b[1;33m]\u001b[0m\u001b[1;33m,\u001b[0m \u001b[0mignore_index\u001b[0m\u001b[1;33m=\u001b[0m\u001b[1;32mTrue\u001b[0m\u001b[1;33m,\u001b[0m \u001b[0msort\u001b[0m\u001b[1;33m=\u001b[0m\u001b[1;32mTrue\u001b[0m\u001b[1;33m)\u001b[0m\u001b[1;33m\u001b[0m\u001b[1;33m\u001b[0m\u001b[0m\n\u001b[1;32m---> 11\u001b[1;33m         \u001b[0munionized\u001b[0m \u001b[1;33m=\u001b[0m \u001b[0mgs\u001b[0m\u001b[1;33m.\u001b[0m\u001b[0munary_union\u001b[0m\u001b[1;33m\u001b[0m\u001b[1;33m\u001b[0m\u001b[0m\n\u001b[0m\u001b[0;32m     12\u001b[0m         \u001b[0marea\u001b[0m \u001b[1;33m=\u001b[0m \u001b[0munionized\u001b[0m\u001b[1;33m.\u001b[0m\u001b[0marea\u001b[0m \u001b[1;33m*\u001b[0m \u001b[0msquared_pixel_scale\u001b[0m\u001b[1;33m\u001b[0m\u001b[1;33m\u001b[0m\u001b[0m\n\u001b[0;32m     13\u001b[0m         \u001b[0mtile_area\u001b[0m \u001b[1;33m=\u001b[0m \u001b[0mpixel_area\u001b[0m \u001b[1;33m*\u001b[0m \u001b[0msquared_pixel_scale\u001b[0m\u001b[1;33m\u001b[0m\u001b[1;33m\u001b[0m\u001b[0m\n",
      "\u001b[1;32m~\\Anaconda3\\envs\\py37\\lib\\site-packages\\geopandas\\base.py\u001b[0m in \u001b[0;36munary_union\u001b[1;34m(self)\u001b[0m\n\u001b[0;32m    193\u001b[0m     \u001b[1;32mdef\u001b[0m \u001b[0munary_union\u001b[0m\u001b[1;33m(\u001b[0m\u001b[0mself\u001b[0m\u001b[1;33m)\u001b[0m\u001b[1;33m:\u001b[0m\u001b[1;33m\u001b[0m\u001b[1;33m\u001b[0m\u001b[0m\n\u001b[0;32m    194\u001b[0m         \u001b[1;34m\"\"\"Return the union of all geometries\"\"\"\u001b[0m\u001b[1;33m\u001b[0m\u001b[1;33m\u001b[0m\u001b[0m\n\u001b[1;32m--> 195\u001b[1;33m         \u001b[1;32mreturn\u001b[0m \u001b[0munary_union\u001b[0m\u001b[1;33m(\u001b[0m\u001b[0mself\u001b[0m\u001b[1;33m.\u001b[0m\u001b[0mgeometry\u001b[0m\u001b[1;33m.\u001b[0m\u001b[0mvalues\u001b[0m\u001b[1;33m)\u001b[0m\u001b[1;33m\u001b[0m\u001b[1;33m\u001b[0m\u001b[0m\n\u001b[0m\u001b[0;32m    196\u001b[0m \u001b[1;33m\u001b[0m\u001b[0m\n\u001b[0;32m    197\u001b[0m     \u001b[1;31m#\u001b[0m\u001b[1;33m\u001b[0m\u001b[1;33m\u001b[0m\u001b[1;33m\u001b[0m\u001b[0m\n",
      "\u001b[1;32m~\\Anaconda3\\envs\\py37\\lib\\site-packages\\shapely\\ops.py\u001b[0m in \u001b[0;36munary_union\u001b[1;34m(self, geoms)\u001b[0m\n\u001b[0;32m    147\u001b[0m             \u001b[0msubs\u001b[0m\u001b[1;33m[\u001b[0m\u001b[0mi\u001b[0m\u001b[1;33m]\u001b[0m \u001b[1;33m=\u001b[0m \u001b[0mg\u001b[0m\u001b[1;33m.\u001b[0m\u001b[0m_geom\u001b[0m\u001b[1;33m\u001b[0m\u001b[1;33m\u001b[0m\u001b[0m\n\u001b[0;32m    148\u001b[0m         \u001b[0mcollection\u001b[0m \u001b[1;33m=\u001b[0m \u001b[0mlgeos\u001b[0m\u001b[1;33m.\u001b[0m\u001b[0mGEOSGeom_createCollection\u001b[0m\u001b[1;33m(\u001b[0m\u001b[1;36m6\u001b[0m\u001b[1;33m,\u001b[0m \u001b[0msubs\u001b[0m\u001b[1;33m,\u001b[0m \u001b[0mL\u001b[0m\u001b[1;33m)\u001b[0m\u001b[1;33m\u001b[0m\u001b[1;33m\u001b[0m\u001b[0m\n\u001b[1;32m--> 149\u001b[1;33m         \u001b[1;32mreturn\u001b[0m \u001b[0mgeom_factory\u001b[0m\u001b[1;33m(\u001b[0m\u001b[0mlgeos\u001b[0m\u001b[1;33m.\u001b[0m\u001b[0mmethods\u001b[0m\u001b[1;33m[\u001b[0m\u001b[1;34m'unary_union'\u001b[0m\u001b[1;33m]\u001b[0m\u001b[1;33m(\u001b[0m\u001b[0mcollection\u001b[0m\u001b[1;33m)\u001b[0m\u001b[1;33m)\u001b[0m\u001b[1;33m\u001b[0m\u001b[1;33m\u001b[0m\u001b[0m\n\u001b[0m\u001b[0;32m    150\u001b[0m \u001b[1;33m\u001b[0m\u001b[0m\n\u001b[0;32m    151\u001b[0m \u001b[0moperator\u001b[0m \u001b[1;33m=\u001b[0m \u001b[0mCollectionOperator\u001b[0m\u001b[1;33m(\u001b[0m\u001b[1;33m)\u001b[0m\u001b[1;33m\u001b[0m\u001b[1;33m\u001b[0m\u001b[0m\n",
      "\u001b[1;32m~\\Anaconda3\\envs\\py37\\lib\\site-packages\\shapely\\geometry\\base.py\u001b[0m in \u001b[0;36mgeom_factory\u001b[1;34m(g, parent)\u001b[0m\n\u001b[0;32m     74\u001b[0m     \u001b[1;31m# Abstract geometry factory for use with topological methods below\u001b[0m\u001b[1;33m\u001b[0m\u001b[1;33m\u001b[0m\u001b[1;33m\u001b[0m\u001b[0m\n\u001b[0;32m     75\u001b[0m     \u001b[1;32mif\u001b[0m \u001b[1;32mnot\u001b[0m \u001b[0mg\u001b[0m\u001b[1;33m:\u001b[0m\u001b[1;33m\u001b[0m\u001b[1;33m\u001b[0m\u001b[0m\n\u001b[1;32m---> 76\u001b[1;33m         \u001b[1;32mraise\u001b[0m \u001b[0mValueError\u001b[0m\u001b[1;33m(\u001b[0m\u001b[1;34m\"No Shapely geometry can be created from null value\"\u001b[0m\u001b[1;33m)\u001b[0m\u001b[1;33m\u001b[0m\u001b[1;33m\u001b[0m\u001b[0m\n\u001b[0m\u001b[0;32m     77\u001b[0m     \u001b[0mob\u001b[0m \u001b[1;33m=\u001b[0m \u001b[0mBaseGeometry\u001b[0m\u001b[1;33m(\u001b[0m\u001b[1;33m)\u001b[0m\u001b[1;33m\u001b[0m\u001b[1;33m\u001b[0m\u001b[0m\n\u001b[0;32m     78\u001b[0m     \u001b[0mgeom_type\u001b[0m \u001b[1;33m=\u001b[0m \u001b[0mgeometry_type_name\u001b[0m\u001b[1;33m(\u001b[0m\u001b[0mg\u001b[0m\u001b[1;33m)\u001b[0m\u001b[1;33m\u001b[0m\u001b[1;33m\u001b[0m\u001b[0m\n",
      "\u001b[1;31mValueError\u001b[0m: No Shapely geometry can be created from null value"
     ]
    }
   ],
   "source": [
    "bucket = []\n",
    "for tile_id in all_tiles:\n",
    "    d = {}\n",
    "    d['tile_id'] = tile_id\n",
    "    d['result'] = get_tile_fraction(tile_id)\n",
    "    bucket.append(d)"
   ]
  },
  {
   "cell_type": "code",
   "execution_count": null,
   "metadata": {},
   "outputs": [],
   "source": []
  },
  {
   "cell_type": "code",
   "execution_count": 7,
   "metadata": {},
   "outputs": [],
   "source": [
    "def get_polygon(tile_id, scope = 'hirise', mix = 'Mixed'):\n",
    "    id_ = tile_id\n",
    "    blotch = blotches[blotches.tile_id == io.check_and_pad_id(id_)]\n",
    "    fan = fans[fans.tile_id == io.check_and_pad_id(id_)]\n",
    "    gs_blotch = gp.GeoSeries([markings.Blotch(row, scope).to_shapely() for _,row in blotch.iterrows()])\n",
    "    gs_fans = gp.GeoSeries([markings.Fan(row, scope).to_shapely() for _,row in fan.iterrows()])\n",
    "    if mix == 'Mixed':\n",
    "        gs = pd.concat([gs_blotch, gs_fans], ignore_index=True, sort=True)\n",
    "        unionized = gs.unary_union\n",
    "        return unionized\n",
    "    if mix == 'Blotch':\n",
    "        unionized_b = gs_blotch.unary_union\n",
    "        return unionized_b\n",
    "    if mix == 'Fans':\n",
    "        unionized_f = gs_fans.unary_union\n",
    "        return unionized_f\n",
    "    else:\n",
    "        return \"Please enter Mix, Blotch, or Fans for 'mix' value\""
   ]
  },
  {
   "cell_type": "code",
   "execution_count": 10,
   "metadata": {},
   "outputs": [
    {
     "data": {
      "image/svg+xml": [
       "<svg xmlns=\"http://www.w3.org/2000/svg\" xmlns:xlink=\"http://www.w3.org/1999/xlink\" width=\"300\" height=\"300\" viewBox=\"722.02395085205 33392.897290890876 486.3912415874398 626.2989671517789\" preserveAspectRatio=\"xMinYMin meet\"><g transform=\"matrix(1,0,0,-1,0,67412.09354893354)\"><g><path fill-rule=\"evenodd\" fill=\"#66cc99\" stroke=\"#555555\" stroke-width=\"4.175326447678526\" opacity=\"0.6\" d=\"M 1185.1930860689113,33477.0420345027 L 1149.42,33525.67 L 1117.6441347070104,33474.3407968094 L 1117.7039910689818,33473.26988247041 L 1117.7977951947505,33472.20140641007 L 1117.925452631509,33471.13644449321 L 1118.0868348390395,33470.076069046205 L 1118.2817793191316,33469.021347777234 L 1118.5100897792108,33467.973342701225 L 1118.7715363300122,33466.93310907045 L 1119.0658557170282,33465.90169431199 L 1119.3927515855503,33464.880136973086 L 1119.7518947791868,33463.86946567539 L 1120.1429236711592,33462.87069807921 L 1120.5654445285363,33461.884839858874 L 1121.0190319086214,33460.91288369003 L 1121.503229087375,33459.95580825015 L 1122.0175485192703,33459.01457723308 L 1122.5614723282524,33458.09013837867 L 1123.1344528291484,33457.18342251847 L 1123.7359130791629,33456.295342638514 L 1124.365247458798,33455.42679295995 L 1125.0218222816875,33454.57864803869 L 1125.7049764326403,33453.751761884756 L 1126.4140220333393,33452.94696710243 L 1127.1482451349548,33452.16507405183 L 1127.9069064370888,33451.40687003299 L 1128.6892420320837,33450.673118493076 L 1129.4944641743314,33449.96455825769 L 1130.3217620733813,33449.28190278694 L 1131.170302710383,33448.625839457 L 1132.0392316768448,33447.997028868056 L 1132.9276740349414,33447.396104179046 L 1133.8347351985467,33446.8236704702 L 1134.7595018339307,33446.28030413375 L 1135.7010427795067,33445.76655229352 L 1136.6584099833453,33445.282932254086 L 1137.6306394578169,33444.82993097981 L 1138.616752250262,33444.40800460459 L 1139.6157554286801,33444.017577972525 L 1140.6266430815704,33443.65904421012 L 1141.6483973307222,33443.3327643305 L 1142.679989356253,33443.03906686984 L 1143.72038043242,33442.778247556584 L 1144.768522973598,33442.55056901368 L 1145.8233615890967,33442.3562604941 L 1146.8838341458504,33442.195517650085 L 1147.948872837882,33442.06850233603 L 1149.0174052615148,33441.97534244559 L 1150.0883554951542,33441.91613178289 L 1151.160645182721,33441.890929968045 L 1152.2331946193772,33441.89976237714 L 1153.3049238387648,33441.94262011669 L 1154.3747537003983,33442.01946003259 L 1155.4416069763138,33442.13020475355 L 1156.50440943566,33442.27474276903 L 1157.5620909264799,33442.45292854149 L 1158.6135864531498,33442.66458265297 L 1159.6578372488257,33442.90949198572 L 1160.6937918414587,33443.18740993681 L 1161.7204071125925,33443.4980566664 L 1162.736649347662,33443.841119379584 L 1163.7414952768922,33444.21625264129 L 1164.7339331056173,33444.62307872411 L 1165.7129635330457,33445.061187988664 L 1166.6776007585322,33445.530139296076 L 1167.6268734741716,33446.02946045212 L 1168.5598258428035,33446.558648682716 L 1169.4755184604692,33447.11717114017 L 1170.3730293023145,33447.704465439725 L 1171.2514546510174,33448.31994022579 L 1172.1099100067113,33448.962975767434 L 1172.947530977599,33449.63292458237 L 1173.763474150397,33450.32911208894 L 1174.556917939477,33451.05083728533 L 1175.327063414199,33451.79737345545 L 1176.0731351033573,33452.56796890065 L 1176.794381776006,33453.36184769664 L 1177.4900771978682,33454.17821047477 L 1178.1595208626495,33455.016235226925 L 1178.802038697304,33455.875078133206 L 1179.4169837408444,33456.75387441162 L 1180.0037367957448,33457.6517391888 L 1180.561707051409,33458.56776839102 L 1181.0903326790904,33459.501039654526 L 1181.589081397582,33460.450613254274 L 1182.057451009201,33461.41553305012 L 1182.4949699054741,33462.39482744965 L 1182.9011975419307,33463.38751038639 L 1183.2757248817907,33464.39258231279 L 1183.6181748077688,33465.4090312066 L 1183.9282025018292,33466.435833589945 L 1184.2054957923356,33467.47195555987 L 1184.4497754684671,33468.51635382938 L 1184.6607955612963,33469.567976777944 L 1184.8383435914766,33470.6257655104 L 1184.9822407831853,33471.68865492316 L 1185.0923422441592,33472.75557477667 L 1185.1685371115564,33473.82545077309 L 1185.2107486635905,33474.89720563797 L 1185.2189343968312,33475.96976020502 L 1185.1930860689135,33477.0420345027 L 1185.1930860689113,33477.0420345027 z\" /><path fill-rule=\"evenodd\" fill=\"#66cc99\" stroke=\"#555555\" stroke-width=\"4.175326447678526\" opacity=\"0.6\" d=\"M 919.2616908594189,33453.30693093868 L 919.2616908594173,33453.30693093868 L 918.5012023090785,33451.55115089471 L 917.68538936002,33449.82038354174 L 916.8150734667361,33448.11637161576 L 915.8911309635405,33446.440830912354 L 914.9144921822299,33444.79544855897 L 913.8861405152638,33443.181881316166 L 912.807111425609,33441.60175390939 L 911.6784914040763,33440.056657393 L 910.5014168753805,33438.548147548194 L 909.2770730537777,33437.07774331653 L 908.0066927497246,33435.64692527043 L 906.691555128491,33434.257134122374 L 905.332984422188,33432.90976927425 L 903.9323485963687,33431.60618740824 L 902.4910579725583,33430.34770112079 L 901.0105638082532,33429.1355776009 L 899.492356835588,33427.97103735423 L 897.937965760284,33426.85525297408 L 896.3489557223911,33425.78934796074 L 894.7269267203337,33424.774395590204 L 893.0735119998062,33423.81141783348 L 891.3903764092938,33422.901384327546 L 889.6792147236556,33422.04521139899 L 887.941749937665,33421.243761141384 L 886.179731531076,33420.49784054721 L 884.3949337070699,33419.80820069525 L 882.589153605757,33419.17553599441 L 880.7642094946423,33418.60048348439 L 878.9219389377395,33418.08362219433 L 877.0641969453463,33417.62547255974 L 875.1928541061716,33417.22649589847 L 873.3097947038223,33416.887093946185 L 871.4169148195069,33416.607608451886 L 869.5161204228025,33416.38832083379 L 867.6093254525549,33416.22945189592 L 865.6984498896636,33416.13116160584 L 863.7854178238413,33416.09354893353 L 861.8721555162156,33416.11665175178 L 859.9605894597589,33416.20044679799 L 858.0526444394418,33416.34484969768 L 856.1502415941759,33416.54971504934 L 854.2552964823699,33416.814836570935 L 852.3697171531167,33417.13994730758 L 850.4954022249767,33417.524719900306 L 848.6342389741912,33417.96876691574 L 846.7881014343984,33418.471641236174 L 844.9588485096028,33419.03283650978 L 843.1483221024537,33419.65178766051 L 841.3583452595558,33420.327871457004 L 839.5907203358765,33421.060407140205 L 837.8472271798637,33421.848657108756 L 836.129621341348,33422.691827661765 L 834.4396323038018,33423.58906979796 L 832.7789617429407,33424.53948007057 L 831.1492818132465,33425.542101497 L 829.5522334642701,33426.595924522466 L 827.9894247883167,33427.69988803651 L 826.4624294012538,33428.85288044147 L 824.9727848579969,33430.0537407717 L 823.521991104335,33431.30125986265 L 822.1115089665909,33432.59418156836 L 820.7427586807135,33433.93120402625 L 819.4171184622282,33435.310980968046 L 818.1359231184651,33436.73212307533 L 816.9004627045142,33438.19319937845 L 815.7119812243072,33439.69273869744 L 814.5716753779488,33441.2292311233 L 813.4806933567561,33442.80112953841 L 812.4401336871524,33444.40685117431 L 811.4510441245257,33446.04477920541 L 810.5144205982106,33447.71326437704 L 809.6312062087163,33449.41062666605 L 808.8022902780576,33451.13515697251 L 808.0285074543281,33452.88511884057 L 807.3106368712142,33454.658750206974 L 806.6494013635638,33456.45426517528 L 806.0454667394733,33458.26985581411 L 805.4994411099215,33460.103693977595 L 805.0118742764244,33461.95393314615 L 804.5832571774663,33463.81871028577 L 804.2140213941202,33465.69614772395 L 803.9045387155311,33467.58435504033 L 803.6551207645134,33469.481430970205 L 803.4660186838082,33471.385465318905 L 803.3374228831781,33473.29454088526 L 803.2694628477002,33475.206735391985 L 803.2622070073594,33477.120123421315 L 803.3156626681775,33479.03277835368 L 803.4297760048357,33480.9427743077 L 803.6044321148802,33482.848188079355 L 803.8394551344063,33484.74710107849 L 804.1346084151555,33486.63760126067 L 804.4895947627992,33488.51778505248 L 804.9040567361735,33490.3857592682 L 805.3775770072025,33492.23964301615 L 805.9096787811104,33494.07756959254 L 806.4998262765184,33495.89768836109 L 807.1474252649205,33497.6981666165 L 807.8518236690361,33499.47719142978 L 899.2,33562.4 L 919.2616908594189,33453.30693093868 z\" /><path fill-rule=\"evenodd\" fill=\"#66cc99\" stroke=\"#555555\" stroke-width=\"4.175326447678526\" opacity=\"0.6\" d=\"M 834.5423725219122,33794.080375189995 L 833.7696321647381,33793.74727533948 L 831.8768717126295,33793.00166247773 L 829.9614074298952,33792.31647837821 L 828.0251680267029,33791.692412963224 L 826.070103131995,33791.13009461374 L 824.0981813304097,33790.63008953668 L 822.1113881800338,33790.19290119478 L 820.1117242131731,33789.81896979961 L 818.10120292192,33789.50867186842 L 816.0818487308024,33789.262319844915 L 814.0556949583188,33789.08016178469 L 812.0247817695599,33788.96238110548 L 809.9911541219553,33788.909096402436 L 807.9568597061734,33788.920361328754 L 805.9239468842316,33788.996164541604 L 803.894462627035,33789.13642971356 L 801.8704504531997,33789.34101560949 L 799.8539483714048,33789.60971622876 L 797.8469868283246,33789.94226101259 L 795.8515866641028,33790.338315116605 L 793.8697570775657,33790.79747974787 L 791.9034936031203,33791.31929256652 L 789.9547761014001,33791.9032281513 L 788.0255667657548,33792.54869852855 L 786.1178081464532,33793.25505376434 L 784.2334211946945,33794.02158261881 L 782.3743033284263,33794.84751326237 L 780.542326521736,33795.7320140529 L 778.7393354199921,33796.674194373045 L 776.9671454823838,33797.673105527116 L 775.2275411539704,33798.727741696246 L 773.5222740688441,33799.8370409512 L 771.8530612864051,33800.999886321675 L 770.2215835624447,33802.215106920936 L 768.6294836567322,33803.481479124865 L 767.0783646789059,33804.79772780399 L 765.5697884743058,33806.16252760748 L 764.1052740512969,33807.5745042976 L 762.6862960517465,33809.03223613352 L 761.3142832662234,33810.53425530286 L 759.990617195308,33812.07904939962 L 758.7166306585314,33813.66506294708 L 757.493606452339,33815.290698964076 L 756.3227760584377,33816.95432057291 L 755.2053184037904,33818.65425264765 L 754.1423586735291,33820.38878350079 L 753.1349671779935,33822.1561666068 L 752.1841582750385,33823.954622360696 L 751.2908893486201,33825.782339869984 L 750.456059844837,33827.63747877807 L 749.6805103662409,33829.51817111732 L 748.9650218253919,33831.42252318997 L 748.3103146586254,33833.3486174749 L 747.7170481005487,33835.294514558445 L 747.1858195203058,33837.258255087174 L 746.717163820038,33839.237861740854 L 746.3115528963099,33841.23134122336 L 745.969395164946,33843.23668626987 L 745.6910351497718,33845.251877667884 L 745.4767531357284,33847.274886290485 L 745.3267648866422,33849.30367513948 L 745.2412214279648,33851.336201396465 L 745.2202088947088,33853.3704184798 L 745.2637484447114,33855.4042781053 L 745.3717962373412,33857.435732348735 L 745.5442434776232,33859.462735707886 L 745.7809165258077,33861.48324716218 L 746.0815770722038,33863.495232227855 L 746.4459223771191,33865.4966650065 L 746.8735855757077,33867.48553022498 L 747.3641360473994,33869.45982526458 L 747.9170798494415,33871.41756217756 L 748.5318602142943,33873.3567696888 L 749.2078581102469,33875.275495180715 L 749.9443928647124,33877.17180665939 L 750.7407228496377,33879.043794699886 L 751.5960462282237,33880.88957436895 L 752.5095017623316,33882.707287122896 L 753.4801696796676,33884.49510267908 L 754.5070725999249,33886.25122085877 L 755.5891765189008,33887.973873399824 L 756.7253918496826,33889.66132573715 L 757.914574519742,33891.3118787493 L 759.1555271229336,33892.92387046928 L 760.4470001251757,33894.49567775809 L 761.7876931226274,33896.02571793902 L 763.1762561510841,33897.512450391296 L 764.6112910452866,33898.95437810138 L 766.0913528467354,33900.35004917027 L 843.2818905470588,33930.174100866985 L 958.5,33996.0 L 912.380179496988,33818.68957233771 L 912.380179496984,33818.68957233771 L 910.9806820806989,33816.91934989685 L 909.5257237521691,33815.19442184892 L 908.016769531092,33813.51652505025 L 906.4553388064705,33811.88734900067 L 904.8430038066799,33810.30853414238 L 903.1813880163972,33808.7816702081 L 901.4721645418722,33807.30829462041 L 899.7170544262626,33805.889890943596 L 897.9178249166725,33804.52788738995 L 896.0762876847184,33803.2236553816 L 894.1942970022756,33801.97850816962 L 892.273747874442,33800.79369951169 L 890.3165741313896,33799.67042240972 L 888.3247464811684,33798.609807908535 L 886.3002705253966,33797.612923957015 L 884.2451847397424,33796.68077433281 L 882.1615584213905,33795.81429763157 L 880.0514896054265,33795.01436632189 L 877.917102952284,33794.2817858668 L 875.7605476083991,33793.6172939127 L 873.5839950421978,33793.021559546665 L 871.389636857617,33792.49518262272 L 869.1796825873389,33792.038693157796 L 866.9563574679887,33791.652550798084 L 864.7219001994854,33791.33714435622 L 862.47856069091,33791.09279141976 L 860.2285977949759,33790.91973803138 L 857.9742770336052,33790.81815844118 L 855.7178683167076,33790.7881549312 L 853.4616436565921,33790.82975771243 L 851.2078748802487,33790.94292489441 L 848.9588313417844,33791.12754252735 L 846.7167776373935,33791.38342471696 L 844.483971325124,33791.71031381156 L 842.2626606516496,33792.107880661555 L 840.055082288527,33792.57572495082 L 837.863459080043,33793.1133755998 L 835.6899978049987,33793.72029123989 L 834.5423725219122,33794.080375189995 z\" /></g></g></svg>"
      ],
      "text/plain": [
       "<shapely.geometry.multipolygon.MultiPolygon at 0x1959055b390>"
      ]
     },
     "execution_count": 10,
     "metadata": {},
     "output_type": "execute_result"
    }
   ],
   "source": [
    "get_polygon('bdb', mix = 'Fans')"
   ]
  },
  {
   "cell_type": "code",
   "execution_count": 20,
   "metadata": {},
   "outputs": [],
   "source": [
    "def get_tile_fraction(tile_id, scope = 'hirise', mix = 'Mixed'):\n",
    "    id_ = tile_id\n",
    "    blotch = blotches[blotches.tile_id == io.check_and_pad_id(id_)]\n",
    "    fan = fans[fans.tile_id == io.check_and_pad_id(id_)]\n",
    "    gs_blotch = gp.GeoSeries([markings.Blotch(row, scope).to_shapely() for _,row in blotch.iterrows()])\n",
    "    gs_fans = gp.GeoSeries([markings.Fan(row, scope).to_shapely() for _,row in fan.iterrows()])\n",
    "    squared_pixel_scale = fans.map_scale.iloc[0]**2\n",
    "    pixel_area = markings.IMG_X_SIZE * markings.IMG_Y_SIZE\n",
    "    if mix == 'Mixed':\n",
    "        gs = pd.concat([gs_blotch, gs_fans], ignore_index=True, sort=True)\n",
    "        unionized = gs.unary_union\n",
    "        area = unionized.area * squared_pixel_scale\n",
    "        tile_area = pixel_area * squared_pixel_scale\n",
    "        fraction = area / tile_area\n",
    "        return fraction\n",
    "    if mix == 'Blotch':\n",
    "        unionized_b = gs_blotch.unary_union\n",
    "        area_b = unionized_b.area * squared_pixel_scale\n",
    "        tile_area_b = pixel_area * squared_pixel_scale\n",
    "        fraction_b = area_b / tile_area_b\n",
    "        return fraction_b\n",
    "    if mix == 'Fans':\n",
    "        unionized_f = gs_fans.unary_union\n",
    "        area_f = unionized_f.area * squared_pixel_scale\n",
    "        tile_area_f = pixel_area * squared_pixel_scale\n",
    "        fraction_f = area_f / tile_area_f\n",
    "        return fraction_f\n",
    "    else:\n",
    "        return \"Please enter Mix, Blotch, or Fans for 'mix' value\"\n",
    "    "
   ]
  },
  {
   "cell_type": "code",
   "execution_count": null,
   "metadata": {},
   "outputs": [],
   "source": [
    "get_tile_fraction('bdb', mix = 'Blotch') +get_tile_fraction('bdb', mix = 'Fans') "
   ]
  },
  {
   "cell_type": "code",
   "execution_count": null,
   "metadata": {},
   "outputs": [],
   "source": [
    "get_tile_fraction('bdb', mix = 'Blotch')"
   ]
  },
  {
   "cell_type": "code",
   "execution_count": null,
   "metadata": {},
   "outputs": [],
   "source": [
    "get_tile_fraction('bdb', mix = 'Fans')"
   ]
  },
  {
   "cell_type": "code",
   "execution_count": null,
   "metadata": {},
   "outputs": [],
   "source": [
    "get_tile_fraction('bdb')"
   ]
  },
  {
   "cell_type": "code",
   "execution_count": null,
   "metadata": {},
   "outputs": [],
   "source": [
    "#fan obsid values, unique\n",
    "f_o_v = np.unique(fans.obsid.values)"
   ]
  },
  {
   "cell_type": "code",
   "execution_count": 11,
   "metadata": {},
   "outputs": [],
   "source": [
    "obsid_test = 'ESP_012079_0945'"
   ]
  },
  {
   "cell_type": "code",
   "execution_count": 12,
   "metadata": {},
   "outputs": [
    {
     "data": {
      "text/plain": [
       "'ESP_012079_0945'"
      ]
     },
     "execution_count": 12,
     "metadata": {},
     "output_type": "execute_result"
    }
   ],
   "source": [
    "obsid_test"
   ]
  },
  {
   "cell_type": "code",
   "execution_count": 13,
   "metadata": {},
   "outputs": [],
   "source": [
    "fans_obsid = fans.query('obsid == @obsid_test').tile_id.unique()"
   ]
  },
  {
   "cell_type": "code",
   "execution_count": 14,
   "metadata": {},
   "outputs": [],
   "source": [
    "blotch_obsid = blotches.query('obsid == @obsid_test').tile_id.unique()"
   ]
  },
  {
   "cell_type": "code",
   "execution_count": 15,
   "metadata": {},
   "outputs": [],
   "source": [
    "mixed_obsid = np.concatenate((fans_obsid, blotch_obsid))"
   ]
  },
  {
   "cell_type": "code",
   "execution_count": 16,
   "metadata": {},
   "outputs": [],
   "source": [
    "all_tiles = np.unique((mixed_obsid))"
   ]
  },
  {
   "cell_type": "code",
   "execution_count": null,
   "metadata": {},
   "outputs": [],
   "source": [
    "len(all_tiles)"
   ]
  },
  {
   "cell_type": "code",
   "execution_count": null,
   "metadata": {},
   "outputs": [],
   "source": [
    "#just loop over all tiles in all_tiles with my get_tile_fraction function\n",
    "for i in len(all_tiles):\n",
    "    get_tile_fraction(i)"
   ]
  },
  {
   "cell_type": "code",
   "execution_count": null,
   "metadata": {},
   "outputs": [],
   "source": [
    "tile_id = all_tiles[0]"
   ]
  },
  {
   "cell_type": "code",
   "execution_count": null,
   "metadata": {},
   "outputs": [],
   "source": [
    "#the check and pad id fits the first bit of the tile id in front of the last few digits, doesn't matter for us when we collect\n",
    "#full legal IDs as he showed above.\n",
    "for tile_id in all_tiles:\n",
    "    test_blotches = blotches.query('tile_id == @tile_id')"
   ]
  },
  {
   "cell_type": "code",
   "execution_count": null,
   "metadata": {},
   "outputs": [],
   "source": [
    "test_blotches"
   ]
  },
  {
   "cell_type": "code",
   "execution_count": null,
   "metadata": {},
   "outputs": [],
   "source": [
    "test_blotches = blotches.query('tile_id == @tile_id')\n",
    "test_blotches"
   ]
  },
  {
   "cell_type": "code",
   "execution_count": null,
   "metadata": {},
   "outputs": [],
   "source": [
    "def get_obsid_fraction(the_obsid, scope = 'hirise'): #add fans vs blotches vs mixed later\n",
    "    test_array = []\n",
    "    squared_pixel_scale = fans.map_scale.iloc[0]**2\n",
    "    pixel_area = markings.IMG_X_SIZE * markings.IMG_Y_SIZE\n",
    "    if np.any(fans.obsid.values[:]) == the_obsid or np.any(blotches.obsid.values[:]) == the_obsid:\n",
    "        test_array.append(fans.tile_id)\n",
    "        test_array.append(blotches.tile_id)\n",
    "    \n",
    "    \n",
    "    \n",
    "    #return test_array #shows test array is working, but when I make unique get new error.\n",
    "    u_test_array = np.unique(test_array, return_index = False)\n",
    "    #u_test_array = u_test_array.reset_index(drop=True)\n",
    "    #return u_test_array\n",
    "    \n",
    "    poly = Polygon() #creates an empty polygon to union with\n",
    "    for tile_id in test_array:\n",
    "        blotch = blotches[blotches.tile_id == tile_id]\n",
    "        gs_blotch = gp.GeoSeries([markings.Blotch(row, scope).to_shapely() for _, row in blotch.iterrows])\n",
    "        gs_fans = gp.GeoSeries([markings.Fan(row, scope).to_shapely() for _,row in fan.iterrows()])\n",
    "        gs = pd.concat([gs_blotch, gs_fans], ignore_index=True, sort=True)\n",
    "        unionized = gs.unary_union\n",
    "        x = unionized.union(poly)\n",
    "        #add x to poly 'catch the result' \n",
    "        \n",
    "    area = poly.area * squared_pixel_scale\n",
    "    tile_area = pixel_area * squared_pixel_scale #need obsid area, not tile area- how to do this?\n",
    "    fraction = area / tile_area\n",
    "    return fraction"
   ]
  },
  {
   "cell_type": "code",
   "execution_count": null,
   "metadata": {},
   "outputs": [],
   "source": [
    "get_obsid_fraction(obsid_test)"
   ]
  },
  {
   "cell_type": "code",
   "execution_count": null,
   "metadata": {},
   "outputs": [],
   "source": [
    "get_obsid_fraction(obsid_test)"
   ]
  },
  {
   "cell_type": "code",
   "execution_count": null,
   "metadata": {},
   "outputs": [],
   "source": []
  }
 ],
 "metadata": {
  "kernelspec": {
   "display_name": "Python 3",
   "language": "python",
   "name": "python3"
  },
  "language_info": {
   "codemirror_mode": {
    "name": "ipython",
    "version": 3
   },
   "file_extension": ".py",
   "mimetype": "text/x-python",
   "name": "python",
   "nbconvert_exporter": "python",
   "pygments_lexer": "ipython3",
   "version": "3.7.1"
  },
  "toc": {
   "base_numbering": 1,
   "nav_menu": {},
   "number_sections": true,
   "sideBar": true,
   "skip_h1_title": false,
   "title_cell": "Table of Contents",
   "title_sidebar": "Contents",
   "toc_cell": true,
   "toc_position": {},
   "toc_section_display": "block",
   "toc_window_display": false
  },
  "varInspector": {
   "cols": {
    "lenName": 16,
    "lenType": 16,
    "lenVar": 40
   },
   "kernels_config": {
    "python": {
     "delete_cmd_postfix": "",
     "delete_cmd_prefix": "del ",
     "library": "var_list.py",
     "varRefreshCmd": "print(var_dic_list())"
    },
    "r": {
     "delete_cmd_postfix": ") ",
     "delete_cmd_prefix": "rm(",
     "library": "var_list.r",
     "varRefreshCmd": "cat(var_dic_list()) "
    }
   },
   "types_to_exclude": [
    "module",
    "function",
    "builtin_function_or_method",
    "instance",
    "_Feature"
   ],
   "window_display": false
  }
 },
 "nbformat": 4,
 "nbformat_minor": 2
}
