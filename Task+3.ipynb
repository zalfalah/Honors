{
 "cells": [
  {
   "cell_type": "code",
   "execution_count": 140,
   "metadata": {
    "collapsed": true
   },
   "outputs": [],
   "source": [
    "import numpy as np\n",
    "import matplotlib.pyplot as plt\n",
    "import pandas as pd\n",
    "import seaborn as sns\n",
    "import scipy as sp\n",
    "%matplotlib inline\n",
    "import shapely as sp\n",
    "from shapely.geometry import Point\n",
    "from shapely.geometry import Polygon"
   ]
  },
  {
   "cell_type": "code",
   "execution_count": 52,
   "metadata": {
    "collapsed": true
   },
   "outputs": [],
   "source": [
    "blotch = pd.read_csv(\"C:\\Users\\Zade\\Desktop\\HonorsMaterials\\ForTask1\\p4_analysis\\P4_catalog_v1.1_L1C_cut_0.5_blotch.csv\")"
   ]
  },
  {
   "cell_type": "code",
   "execution_count": 54,
   "metadata": {},
   "outputs": [
    {
     "data": {
      "text/html": [
       "<div>\n",
       "<style>\n",
       "    .dataframe thead tr:only-child th {\n",
       "        text-align: right;\n",
       "    }\n",
       "\n",
       "    .dataframe thead th {\n",
       "        text-align: left;\n",
       "    }\n",
       "\n",
       "    .dataframe tbody tr th {\n",
       "        vertical-align: top;\n",
       "    }\n",
       "</style>\n",
       "<table border=\"1\" class=\"dataframe\">\n",
       "  <thead>\n",
       "    <tr style=\"text-align: right;\">\n",
       "      <th></th>\n",
       "      <th>marking_id</th>\n",
       "      <th>angle</th>\n",
       "      <th>tile_id</th>\n",
       "      <th>image_x</th>\n",
       "      <th>image_y</th>\n",
       "      <th>n_votes</th>\n",
       "      <th>obsid</th>\n",
       "      <th>radius_1</th>\n",
       "      <th>radius_2</th>\n",
       "      <th>vote_ratio</th>\n",
       "      <th>...</th>\n",
       "      <th>y_angle</th>\n",
       "      <th>l_s</th>\n",
       "      <th>map_scale</th>\n",
       "      <th>north_azimuth</th>\n",
       "      <th>BodyFixedCoordinateX</th>\n",
       "      <th>BodyFixedCoordinateY</th>\n",
       "      <th>BodyFixedCoordinateZ</th>\n",
       "      <th>PlanetocentricLatitude</th>\n",
       "      <th>PlanetographicLatitude</th>\n",
       "      <th>Longitude</th>\n",
       "    </tr>\n",
       "  </thead>\n",
       "  <tbody>\n",
       "    <tr>\n",
       "      <th>0</th>\n",
       "      <td>B000000</td>\n",
       "      <td>2.28</td>\n",
       "      <td>APF0000cia</td>\n",
       "      <td>3330.27</td>\n",
       "      <td>5573.0</td>\n",
       "      <td>4</td>\n",
       "      <td>ESP_012079_0945</td>\n",
       "      <td>22.13</td>\n",
       "      <td>15.78</td>\n",
       "      <td>1.0</td>\n",
       "      <td>...</td>\n",
       "      <td>0.1</td>\n",
       "      <td>214.785</td>\n",
       "      <td>0.25</td>\n",
       "      <td>126.856883</td>\n",
       "      <td>-67.239204</td>\n",
       "      <td>257.001479</td>\n",
       "      <td>-3370.630963</td>\n",
       "      <td>-85.493625</td>\n",
       "      <td>-85.546304</td>\n",
       "      <td>104.661641</td>\n",
       "    </tr>\n",
       "  </tbody>\n",
       "</table>\n",
       "<p>1 rows × 23 columns</p>\n",
       "</div>"
      ],
      "text/plain": [
       "  marking_id  angle     tile_id  image_x  image_y  n_votes            obsid  \\\n",
       "0    B000000   2.28  APF0000cia  3330.27   5573.0        4  ESP_012079_0945   \n",
       "\n",
       "   radius_1  radius_2  vote_ratio     ...      y_angle      l_s  map_scale  \\\n",
       "0     22.13     15.78         1.0     ...          0.1  214.785       0.25   \n",
       "\n",
       "   north_azimuth  BodyFixedCoordinateX  BodyFixedCoordinateY  \\\n",
       "0     126.856883            -67.239204            257.001479   \n",
       "\n",
       "   BodyFixedCoordinateZ  PlanetocentricLatitude  PlanetographicLatitude  \\\n",
       "0          -3370.630963              -85.493625              -85.546304   \n",
       "\n",
       "    Longitude  \n",
       "0  104.661641  \n",
       "\n",
       "[1 rows x 23 columns]"
      ]
     },
     "execution_count": 54,
     "metadata": {},
     "output_type": "execute_result"
    }
   ],
   "source": [
    "blotch.head(1)"
   ]
  },
  {
   "cell_type": "code",
   "execution_count": 2,
   "metadata": {
    "collapsed": true
   },
   "outputs": [],
   "source": [
    "fan = pd.read_csv(\"C:\\Users\\Zade\\Desktop\\HonorsMaterials\\ForTask1\\p4_analysis\\P4_catalog_v1.1_L1C_cut_0.5_fan.csv\")"
   ]
  },
  {
   "cell_type": "code",
   "execution_count": 55,
   "metadata": {},
   "outputs": [
    {
     "data": {
      "text/html": [
       "<div>\n",
       "<style>\n",
       "    .dataframe thead tr:only-child th {\n",
       "        text-align: right;\n",
       "    }\n",
       "\n",
       "    .dataframe thead th {\n",
       "        text-align: left;\n",
       "    }\n",
       "\n",
       "    .dataframe tbody tr th {\n",
       "        vertical-align: top;\n",
       "    }\n",
       "</style>\n",
       "<table border=\"1\" class=\"dataframe\">\n",
       "  <thead>\n",
       "    <tr style=\"text-align: right;\">\n",
       "      <th></th>\n",
       "      <th>marking_id</th>\n",
       "      <th>angle</th>\n",
       "      <th>distance</th>\n",
       "      <th>tile_id</th>\n",
       "      <th>image_x</th>\n",
       "      <th>image_y</th>\n",
       "      <th>n_votes</th>\n",
       "      <th>obsid</th>\n",
       "      <th>spread</th>\n",
       "      <th>version</th>\n",
       "      <th>...</th>\n",
       "      <th>y_angle</th>\n",
       "      <th>l_s</th>\n",
       "      <th>map_scale</th>\n",
       "      <th>north_azimuth</th>\n",
       "      <th>BodyFixedCoordinateX</th>\n",
       "      <th>BodyFixedCoordinateY</th>\n",
       "      <th>BodyFixedCoordinateZ</th>\n",
       "      <th>PlanetocentricLatitude</th>\n",
       "      <th>PlanetographicLatitude</th>\n",
       "      <th>Longitude</th>\n",
       "    </tr>\n",
       "  </thead>\n",
       "  <tbody>\n",
       "    <tr>\n",
       "      <th>0</th>\n",
       "      <td>F000000</td>\n",
       "      <td>205.56</td>\n",
       "      <td>179.71</td>\n",
       "      <td>APF0000ci9</td>\n",
       "      <td>2270.76</td>\n",
       "      <td>24336.16</td>\n",
       "      <td>35</td>\n",
       "      <td>ESP_012079_0945</td>\n",
       "      <td>88.03</td>\n",
       "      <td>1</td>\n",
       "      <td>...</td>\n",
       "      <td>-0.43</td>\n",
       "      <td>214.785</td>\n",
       "      <td>0.25</td>\n",
       "      <td>126.856883</td>\n",
       "      <td>-65.804336</td>\n",
       "      <td>261.407884</td>\n",
       "      <td>-3370.504345</td>\n",
       "      <td>-85.427383</td>\n",
       "      <td>-85.480829</td>\n",
       "      <td>104.129523</td>\n",
       "    </tr>\n",
       "  </tbody>\n",
       "</table>\n",
       "<p>1 rows × 24 columns</p>\n",
       "</div>"
      ],
      "text/plain": [
       "  marking_id   angle  distance     tile_id  image_x   image_y  n_votes  \\\n",
       "0    F000000  205.56    179.71  APF0000ci9  2270.76  24336.16       35   \n",
       "\n",
       "             obsid  spread  version     ...      y_angle      l_s  map_scale  \\\n",
       "0  ESP_012079_0945   88.03        1     ...        -0.43  214.785       0.25   \n",
       "\n",
       "   north_azimuth  BodyFixedCoordinateX  BodyFixedCoordinateY  \\\n",
       "0     126.856883            -65.804336            261.407884   \n",
       "\n",
       "   BodyFixedCoordinateZ  PlanetocentricLatitude  PlanetographicLatitude  \\\n",
       "0          -3370.504345              -85.427383              -85.480829   \n",
       "\n",
       "    Longitude  \n",
       "0  104.129523  \n",
       "\n",
       "[1 rows x 24 columns]"
      ]
     },
     "execution_count": 55,
     "metadata": {},
     "output_type": "execute_result"
    }
   ],
   "source": [
    "fan.head(1)"
   ]
  },
  {
   "cell_type": "code",
   "execution_count": 4,
   "metadata": {},
   "outputs": [
    {
     "data": {
      "text/plain": [
       "-85.480829499999999"
      ]
     },
     "execution_count": 4,
     "metadata": {},
     "output_type": "execute_result"
    }
   ],
   "source": [
    "fan.PlanetographicLatitude[0]"
   ]
  },
  {
   "cell_type": "code",
   "execution_count": 5,
   "metadata": {},
   "outputs": [
    {
     "data": {
      "text/plain": [
       "104.12952299999999"
      ]
     },
     "execution_count": 5,
     "metadata": {},
     "output_type": "execute_result"
    }
   ],
   "source": [
    "fan.Longitude[0]"
   ]
  },
  {
   "cell_type": "code",
   "execution_count": 6,
   "metadata": {},
   "outputs": [
    {
     "data": {
      "text/plain": [
       "<matplotlib.text.Text at 0xcbcfba8>"
      ]
     },
     "execution_count": 6,
     "metadata": {},
     "output_type": "execute_result"
    },
    {
     "data": {
      "image/png": "[encoded data removed]",
      "text/plain": [
       "<matplotlib.figure.Figure at 0x118c7780>"
      ]
     },
     "metadata": {},
     "output_type": "display_data"
    }
   ],
   "source": [
    "for n in range(100):\n",
    "    plt.plot(fan.PlanetographicLatitude[n], fan.Longitude[n], 'rp')\n",
    "    \n",
    "plt.xlabel('Planetographic Latitude')\n",
    "plt.ylabel('Longitude')"
   ]
  },
  {
   "cell_type": "code",
   "execution_count": 7,
   "metadata": {},
   "outputs": [],
   "source": [
    "fpoints= []\n",
    "for n in range(len(fan)):\n",
    "    point = Point((fan.PlanetographicLatitude[n]),(fan.Longitude[n]))\n",
    "    fpoints.append(point)"
   ]
  },
  {
   "cell_type": "code",
   "execution_count": 8,
   "metadata": {},
   "outputs": [
    {
     "data": {
      "text/plain": [
       "-85.54622579999999"
      ]
     },
     "execution_count": 8,
     "metadata": {},
     "output_type": "execute_result"
    }
   ],
   "source": [
    "fpoints[1].x"
   ]
  },
  {
   "cell_type": "code",
   "execution_count": 9,
   "metadata": {},
   "outputs": [
    {
     "data": {
      "image/png": "[encoded data removed]",
      "text/plain": [
       "<matplotlib.figure.Figure at 0x11077940>"
      ]
     },
     "metadata": {},
     "output_type": "display_data"
    }
   ],
   "source": [
    "for i in range(len(fpoints)):\n",
    "    plt.plot(fpoints[i].x, fpoints[i].y, 'rp')"
   ]
  },
  {
   "cell_type": "code",
   "execution_count": null,
   "metadata": {
    "collapsed": true
   },
   "outputs": [],
   "source": [
    "ll_pointmaker(blotch)"
   ]
  },
  {
   "cell_type": "code",
   "execution_count": 174,
   "metadata": {
    "collapsed": true
   },
   "outputs": [],
   "source": [
    "def ll_pointmaker(dset, color = 'ro'):\n",
    "    dpoints = []\n",
    "    for n in range(len(dset)):\n",
    "        point = Point((dset.PlanetographicLatitude[n]),(dset.Longitude[n]))\n",
    "        dpoints.append(point)\n",
    "    \n",
    "    for n in range(len(dset)):\n",
    "        plt.plot(dpoints[n].x, dpoints[n].y, color)\n",
    "        plt.xlabel('Planetographic Latitude')\n",
    "        plt.ylabel('Longitude')"
   ]
  },
  {
   "cell_type": "code",
   "execution_count": 175,
   "metadata": {},
   "outputs": [],
   "source": [
    "gf = fan.groupby('obsid')\n",
    "gb = fan.groupby('obsid')"
   ]
  },
  {
   "cell_type": "code",
   "execution_count": 176,
   "metadata": {},
   "outputs": [
    {
     "data": {
      "text/plain": [
       "obsid\n",
       "ESP_011296_0975    4472\n",
       "ESP_011341_0980     455\n",
       "ESP_011348_0950       4\n",
       "ESP_011350_0945    1107\n",
       "ESP_011351_0945    1636\n",
       "dtype: int64"
      ]
     },
     "execution_count": 176,
     "metadata": {},
     "output_type": "execute_result"
    }
   ],
   "source": [
    "gb.size().head()"
   ]
  },
  {
   "cell_type": "code",
   "execution_count": 177,
   "metadata": {},
   "outputs": [],
   "source": [
    "gfmlat = gf.PlanetographicLatitude.mean()\n",
    "gfmlong = gf.Longitude.mean()\n",
    "#within our grouped by obsid get mean values of lat at each obsid for fans\n",
    "gbmlat = gb.PlanetographicLatitude.mean()\n",
    "gbmlong = gb.Longitude.mean()"
   ]
  },
  {
   "cell_type": "code",
   "execution_count": 178,
   "metadata": {
    "collapsed": true
   },
   "outputs": [],
   "source": [
    "mllf = pd.concat([gfmlat, gfmlong], axis = 1)\n",
    "#mean lat/long grouped by obsid for fans\n",
    "mllb = pd.concat([gbmlat, gbmlong], axis = 1)"
   ]
  },
  {
   "cell_type": "code",
   "execution_count": 179,
   "metadata": {},
   "outputs": [
    {
     "data": {
      "text/plain": [
       "-81.896144643296623"
      ]
     },
     "execution_count": 179,
     "metadata": {},
     "output_type": "execute_result"
    }
   ],
   "source": [
    "mllf.PlanetographicLatitude[1]"
   ]
  },
  {
   "cell_type": "code",
   "execution_count": 184,
   "metadata": {},
   "outputs": [
    {
     "data": {
      "image/png": "[encoded data removed]",
      "text/plain": [
       "<matplotlib.figure.Figure at 0x153bb7a90>"
      ]
     },
     "metadata": {},
     "output_type": "display_data"
    }
   ],
   "source": [
    "ll_pointmaker(mllf)"
   ]
  },
  {
   "cell_type": "code",
   "execution_count": 181,
   "metadata": {},
   "outputs": [
    {
     "data": {
      "image/png": "[encoded data removed]",
      "text/plain": [
       "<matplotlib.figure.Figure at 0xbb210400>"
      ]
     },
     "metadata": {},
     "output_type": "display_data"
    }
   ],
   "source": [
    "ll_pointmaker(mllb, color = 'bo')"
   ]
  },
  {
   "cell_type": "code",
   "execution_count": null,
   "metadata": {
    "collapsed": true
   },
   "outputs": [],
   "source": []
  }
 ],
 "metadata": {
  "kernelspec": {
   "display_name": "Python 2",
   "language": "python",
   "name": "python2"
  },
  "language_info": {
   "codemirror_mode": {
    "name": "ipython",
    "version": 2
   },
   "file_extension": ".py",
   "mimetype": "text/x-python",
   "name": "python",
   "nbconvert_exporter": "python",
   "pygments_lexer": "ipython2",
   "version": "2.7.13"
  }
 },
 "nbformat": 4,
 "nbformat_minor": 2
}
