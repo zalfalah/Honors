{
 "cells": [
  {
   "cell_type": "markdown",
   "metadata": {},
   "source": [
    "# Problem 2; Reading CSV with good polygons gives bad polygons\n",
    "\n",
    "Need to find a different way to store our polygons to put into csv..."
   ]
  },
  {
   "cell_type": "code",
   "execution_count": 8,
   "metadata": {},
   "outputs": [],
   "source": [
    "import pandas as pd\n",
    "import geopandas as gp\n",
    "import shapely as sp\n",
    "from shapely.geometry import Point, Polygon, MultiPolygon\n",
    "import numpy as np\n",
    "from itertools import combinations\n",
    "import intake\n",
    "from shapely.geometry import MultiPoint"
   ]
  },
  {
   "cell_type": "code",
   "execution_count": 9,
   "metadata": {},
   "outputs": [],
   "source": [
    "def get_outer_polygon_for_obsid(obsid, return_hull=True):\n",
    "    tiles = pd.read_csv(\"tile_coordinates.csv\")\n",
    "    obsid_tiles = tiles.query(\"obsid == @obsid\")\n",
    "    cols = \"BodyFixedCoordinateX BodyFixedCoordinateY\".split()\n",
    "    coords = obsid_tiles[cols]\n",
    "    coords.columns = [\"x\", \"y\"]\n",
    "    mp = MultiPoint(list(zip(coords.x, coords.y)))\n",
    "    if return_hull:\n",
    "        return mp.convex_hull\n",
    "    else:\n",
    "        return mp"
   ]
  },
  {
   "cell_type": "code",
   "execution_count": 10,
   "metadata": {},
   "outputs": [],
   "source": [
    "def interchecker(polygon_array):\n",
    "    \"\"\"\n",
    "    \n",
    "    \"\"\"\n",
    "    bucket2 = []\n",
    "    combos = []\n",
    "    iterable1 = range(len(polygon_array)) \n",
    "    p = len(polygon_array)\n",
    "    for n in iterable1:\n",
    "        if p > 0:\n",
    "            comb = list(combinations(iterable1,p))\n",
    "            for item in comb:\n",
    "                x = item\n",
    "                combos.append(x)\n",
    "            p = p-1\n",
    "        else:\n",
    "            end\n",
    "\n",
    "    #the above gives us an array of each possible combination eg\n",
    "    #combos = [comb[0],comb[1],...]\n",
    "    #where comb[0] could be (0,1,2,4) or something of the sort\n",
    "    \n",
    "    for ele in combos:\n",
    "        d = {}\n",
    "        #print(ele) #shows the element used\n",
    "        #d['region_name'] = region\n",
    "        #d['index_used'] = ele #for testing\n",
    "        bucket = []\n",
    "        for number in ele:\n",
    "            bucket.append(polygon_array[number])\n",
    "            #bucket now [poly0, poly1, poly2, poly4] if using comb[0] above\n",
    "        d['elements_used'] = np.array(bucket)\n",
    "        if len(bucket)>1:\n",
    "            y = bucket[0].intersection(bucket[1])\n",
    "            for i in range(len(bucket)-2):\n",
    "                y = y.intersection(bucket[i+2])\n",
    "            #print(y.area)\n",
    "            d[\"combo_area\"]= y.area\n",
    "        else:\n",
    "            #print(bucket[0].area)\n",
    "            d['combo_area'] = bucket[0].area\n",
    "        #for number in ele:\n",
    "            #d['elements_used'] = polygon_array[number]\n",
    "            #must move elements used to get every element used- where?\n",
    "        bucket2.append(d)\n",
    "    return pd.DataFrame(bucket2)"
   ]
  },
  {
   "cell_type": "code",
   "execution_count": 11,
   "metadata": {},
   "outputs": [],
   "source": [
    "combodf = pd.read_csv('Macclesfield_duplicate_combodf.csv')"
   ]
  },
  {
   "cell_type": "code",
   "execution_count": 17,
   "metadata": {},
   "outputs": [
    {
     "data": {
      "text/html": [
       "<div>\n",
       "<style scoped>\n",
       "    .dataframe tbody tr th:only-of-type {\n",
       "        vertical-align: middle;\n",
       "    }\n",
       "\n",
       "    .dataframe tbody tr th {\n",
       "        vertical-align: top;\n",
       "    }\n",
       "\n",
       "    .dataframe thead th {\n",
       "        text-align: right;\n",
       "    }\n",
       "</style>\n",
       "<table border=\"1\" class=\"dataframe\">\n",
       "  <thead>\n",
       "    <tr style=\"text-align: right;\">\n",
       "      <th></th>\n",
       "      <th>combo_area</th>\n",
       "      <th>elements_used</th>\n",
       "      <th>obsids_used</th>\n",
       "      <th>number_hirise</th>\n",
       "      <th>Ls_used</th>\n",
       "      <th>region_name</th>\n",
       "    </tr>\n",
       "  </thead>\n",
       "  <tbody>\n",
       "    <tr>\n",
       "      <th>0</th>\n",
       "      <td>0.008637</td>\n",
       "      <td>[&lt;shapely.geometry.polygon.Polygon object at 0...</td>\n",
       "      <td>('ESP_012079_0945', 'ESP_011407_0945', 'ESP_01...</td>\n",
       "      <td>14.0</td>\n",
       "      <td>(214.785, 183.727, 198.04, 207.892, 235.282, 2...</td>\n",
       "      <td>Macclesfield</td>\n",
       "    </tr>\n",
       "    <tr>\n",
       "      <th>1</th>\n",
       "      <td>0.073851</td>\n",
       "      <td>[&lt;shapely.geometry.polygon.Polygon object at 0...</td>\n",
       "      <td>('ESP_012079_0945', 'ESP_011407_0945', 'ESP_01...</td>\n",
       "      <td>13.0</td>\n",
       "      <td>(214.785, 183.727, 198.04, 207.892, 235.282, 2...</td>\n",
       "      <td>Macclesfield</td>\n",
       "    </tr>\n",
       "    <tr>\n",
       "      <th>2</th>\n",
       "      <td>0.008637</td>\n",
       "      <td>[&lt;shapely.geometry.polygon.Polygon object at 0...</td>\n",
       "      <td>('ESP_012079_0945', 'ESP_011407_0945', 'ESP_01...</td>\n",
       "      <td>13.0</td>\n",
       "      <td>(214.785, 183.727, 198.04, 207.892, 235.282, 2...</td>\n",
       "      <td>Macclesfield</td>\n",
       "    </tr>\n",
       "    <tr>\n",
       "      <th>3</th>\n",
       "      <td>0.008637</td>\n",
       "      <td>[&lt;shapely.geometry.polygon.Polygon object at 0...</td>\n",
       "      <td>('ESP_012079_0945', 'ESP_011407_0945', 'ESP_01...</td>\n",
       "      <td>13.0</td>\n",
       "      <td>(214.785, 183.727, 198.04, 207.892, 235.282, 2...</td>\n",
       "      <td>Macclesfield</td>\n",
       "    </tr>\n",
       "    <tr>\n",
       "      <th>4</th>\n",
       "      <td>0.008637</td>\n",
       "      <td>[&lt;shapely.geometry.polygon.Polygon object at 0...</td>\n",
       "      <td>('ESP_012079_0945', 'ESP_011407_0945', 'ESP_01...</td>\n",
       "      <td>13.0</td>\n",
       "      <td>(214.785, 183.727, 198.04, 207.892, 235.282, 2...</td>\n",
       "      <td>Macclesfield</td>\n",
       "    </tr>\n",
       "  </tbody>\n",
       "</table>\n",
       "</div>"
      ],
      "text/plain": [
       "   combo_area                                      elements_used  \\\n",
       "0    0.008637  [<shapely.geometry.polygon.Polygon object at 0...   \n",
       "1    0.073851  [<shapely.geometry.polygon.Polygon object at 0...   \n",
       "2    0.008637  [<shapely.geometry.polygon.Polygon object at 0...   \n",
       "3    0.008637  [<shapely.geometry.polygon.Polygon object at 0...   \n",
       "4    0.008637  [<shapely.geometry.polygon.Polygon object at 0...   \n",
       "\n",
       "                                         obsids_used  number_hirise  \\\n",
       "0  ('ESP_012079_0945', 'ESP_011407_0945', 'ESP_01...           14.0   \n",
       "1  ('ESP_012079_0945', 'ESP_011407_0945', 'ESP_01...           13.0   \n",
       "2  ('ESP_012079_0945', 'ESP_011407_0945', 'ESP_01...           13.0   \n",
       "3  ('ESP_012079_0945', 'ESP_011407_0945', 'ESP_01...           13.0   \n",
       "4  ('ESP_012079_0945', 'ESP_011407_0945', 'ESP_01...           13.0   \n",
       "\n",
       "                                             Ls_used   region_name  \n",
       "0  (214.785, 183.727, 198.04, 207.892, 235.282, 2...  Macclesfield  \n",
       "1  (214.785, 183.727, 198.04, 207.892, 235.282, 2...  Macclesfield  \n",
       "2  (214.785, 183.727, 198.04, 207.892, 235.282, 2...  Macclesfield  \n",
       "3  (214.785, 183.727, 198.04, 207.892, 235.282, 2...  Macclesfield  \n",
       "4  (214.785, 183.727, 198.04, 207.892, 235.282, 2...  Macclesfield  "
      ]
     },
     "execution_count": 17,
     "metadata": {},
     "output_type": "execute_result"
    }
   ],
   "source": [
    "combodf.head() #This is actually just our df in specific case, but \n",
    "#it has broken polygons! something wrong with reading them in from csv"
   ]
  },
  {
   "cell_type": "code",
   "execution_count": 14,
   "metadata": {},
   "outputs": [
    {
     "data": {
      "text/plain": [
       "'['"
      ]
     },
     "execution_count": 14,
     "metadata": {},
     "output_type": "execute_result"
    }
   ],
   "source": [
    "combodf.elements_used[0][0]"
   ]
  },
  {
   "cell_type": "code",
   "execution_count": 15,
   "metadata": {},
   "outputs": [],
   "source": [
    "startest = pd.read_csv(\"Starburst_duplicate_test_combodf.csv\")"
   ]
  },
  {
   "cell_type": "code",
   "execution_count": 16,
   "metadata": {},
   "outputs": [
    {
     "data": {
      "text/html": [
       "<div>\n",
       "<style scoped>\n",
       "    .dataframe tbody tr th:only-of-type {\n",
       "        vertical-align: middle;\n",
       "    }\n",
       "\n",
       "    .dataframe tbody tr th {\n",
       "        vertical-align: top;\n",
       "    }\n",
       "\n",
       "    .dataframe thead th {\n",
       "        text-align: right;\n",
       "    }\n",
       "</style>\n",
       "<table border=\"1\" class=\"dataframe\">\n",
       "  <thead>\n",
       "    <tr style=\"text-align: right;\">\n",
       "      <th></th>\n",
       "      <th>combo_area</th>\n",
       "      <th>elements_used</th>\n",
       "      <th>obsids_used</th>\n",
       "      <th>number_hirise</th>\n",
       "      <th>Ls_used</th>\n",
       "      <th>region_name</th>\n",
       "    </tr>\n",
       "  </thead>\n",
       "  <tbody>\n",
       "    <tr>\n",
       "      <th>0</th>\n",
       "      <td>1.302620</td>\n",
       "      <td>[&lt;shapely.geometry.polygon.Polygon object at 0...</td>\n",
       "      <td>('ESP_011697_0980', 'ESP_011341_0980', 'ESP_01...</td>\n",
       "      <td>10.0</td>\n",
       "      <td>(196.842, 180.80900000000003, 203.57, 187.2540...</td>\n",
       "      <td>Starburst</td>\n",
       "    </tr>\n",
       "    <tr>\n",
       "      <th>1</th>\n",
       "      <td>1.348645</td>\n",
       "      <td>[&lt;shapely.geometry.polygon.Polygon object at 0...</td>\n",
       "      <td>('ESP_011697_0980', 'ESP_011341_0980', 'ESP_01...</td>\n",
       "      <td>9.0</td>\n",
       "      <td>(196.842, 180.80900000000003, 203.57, 187.2540...</td>\n",
       "      <td>Starburst</td>\n",
       "    </tr>\n",
       "    <tr>\n",
       "      <th>2</th>\n",
       "      <td>1.302620</td>\n",
       "      <td>[&lt;shapely.geometry.polygon.Polygon object at 0...</td>\n",
       "      <td>('ESP_011697_0980', 'ESP_011341_0980', 'ESP_01...</td>\n",
       "      <td>9.0</td>\n",
       "      <td>(196.842, 180.80900000000003, 203.57, 187.2540...</td>\n",
       "      <td>Starburst</td>\n",
       "    </tr>\n",
       "    <tr>\n",
       "      <th>3</th>\n",
       "      <td>1.334411</td>\n",
       "      <td>[&lt;shapely.geometry.polygon.Polygon object at 0...</td>\n",
       "      <td>('ESP_011697_0980', 'ESP_011341_0980', 'ESP_01...</td>\n",
       "      <td>9.0</td>\n",
       "      <td>(196.842, 180.80900000000003, 203.57, 187.2540...</td>\n",
       "      <td>Starburst</td>\n",
       "    </tr>\n",
       "    <tr>\n",
       "      <th>4</th>\n",
       "      <td>1.302620</td>\n",
       "      <td>[&lt;shapely.geometry.polygon.Polygon object at 0...</td>\n",
       "      <td>('ESP_011697_0980', 'ESP_011341_0980', 'ESP_01...</td>\n",
       "      <td>9.0</td>\n",
       "      <td>(196.842, 180.80900000000003, 203.57, 187.2540...</td>\n",
       "      <td>Starburst</td>\n",
       "    </tr>\n",
       "  </tbody>\n",
       "</table>\n",
       "</div>"
      ],
      "text/plain": [
       "   combo_area                                      elements_used  \\\n",
       "0    1.302620  [<shapely.geometry.polygon.Polygon object at 0...   \n",
       "1    1.348645  [<shapely.geometry.polygon.Polygon object at 0...   \n",
       "2    1.302620  [<shapely.geometry.polygon.Polygon object at 0...   \n",
       "3    1.334411  [<shapely.geometry.polygon.Polygon object at 0...   \n",
       "4    1.302620  [<shapely.geometry.polygon.Polygon object at 0...   \n",
       "\n",
       "                                         obsids_used  number_hirise  \\\n",
       "0  ('ESP_011697_0980', 'ESP_011341_0980', 'ESP_01...           10.0   \n",
       "1  ('ESP_011697_0980', 'ESP_011341_0980', 'ESP_01...            9.0   \n",
       "2  ('ESP_011697_0980', 'ESP_011341_0980', 'ESP_01...            9.0   \n",
       "3  ('ESP_011697_0980', 'ESP_011341_0980', 'ESP_01...            9.0   \n",
       "4  ('ESP_011697_0980', 'ESP_011341_0980', 'ESP_01...            9.0   \n",
       "\n",
       "                                             Ls_used region_name  \n",
       "0  (196.842, 180.80900000000003, 203.57, 187.2540...   Starburst  \n",
       "1  (196.842, 180.80900000000003, 203.57, 187.2540...   Starburst  \n",
       "2  (196.842, 180.80900000000003, 203.57, 187.2540...   Starburst  \n",
       "3  (196.842, 180.80900000000003, 203.57, 187.2540...   Starburst  \n",
       "4  (196.842, 180.80900000000003, 203.57, 187.2540...   Starburst  "
      ]
     },
     "execution_count": 16,
     "metadata": {},
     "output_type": "execute_result"
    }
   ],
   "source": [
    "startest.head()"
   ]
  },
  {
   "cell_type": "code",
   "execution_count": null,
   "metadata": {},
   "outputs": [],
   "source": []
  },
  {
   "cell_type": "code",
   "execution_count": null,
   "metadata": {},
   "outputs": [],
   "source": []
  },
  {
   "cell_type": "code",
   "execution_count": null,
   "metadata": {},
   "outputs": [],
   "source": []
  },
  {
   "cell_type": "code",
   "execution_count": null,
   "metadata": {},
   "outputs": [],
   "source": []
  },
  {
   "cell_type": "code",
   "execution_count": null,
   "metadata": {},
   "outputs": [],
   "source": []
  },
  {
   "cell_type": "code",
   "execution_count": null,
   "metadata": {},
   "outputs": [],
   "source": []
  }
 ],
 "metadata": {
  "kernelspec": {
   "display_name": "Python 3",
   "language": "python",
   "name": "python3"
  }
 },
 "nbformat": 4,
 "nbformat_minor": 2
}
