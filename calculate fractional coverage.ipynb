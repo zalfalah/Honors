{
 "cells": [
  {
   "cell_type": "code",
   "execution_count": 1,
   "metadata": {},
   "outputs": [],
   "source": [
    "import sys\n",
    "if sys.platform == \"darwin\":  # michael's config\n",
    "    # because Michael is using jupyter lab\n",
    "    %load_ext lab_black\n",
    "else:  # zade's config\n",
    "    # because Zade is using jupyter notebook\n",
    "    %load_ext nb_black"
   ]
  },
  {
   "cell_type": "markdown",
   "metadata": {},
   "source": [
    "## Tasks\n",
    "\n",
    "I have put several more utility functions into the coverage_utils module, have a look at all of them to understand what they do.\n",
    "\n",
    "Update: I added the CoverageCalculator, making things much easier...\n",
    "\n",
    "Next tasks are:\n",
    "\n",
    "* [ ] combine below code into a function with the name `calc_coverage(region_name)` that returns the pandas dataframe with the results (basically combining below cells into a function) but add a region_name column (same for all rows), in preparation for next task.\n",
    "* [ ] run a loop over all available region names (see below for how to get that list).\n",
    "    * [ ] store each returned dataframe in a bucket again\n",
    "    * [ ] combine the bucket into a larger dataframe that has all results\n",
    "    * [ ] save as CSV file using df.to_csv(...)\n",
    "* [ ] Develep a plot function with the cells below, that conveniently reads the data out the above stored large dataframe and creates the plot, using the options as below."
   ]
  },
  {
   "cell_type": "markdown",
   "metadata": {},
   "source": [
    "# CoverageCalculator class\n",
    "\n",
    "I wrote a class because it's much more efficient to keep the fans, blotches and metadata in memory and not read it in everytime. \n",
    "Keep that in mind for the future: When you need to read a data object often, it is more efficient to write a class that keeps that data in memory while you change a parameter (here: obsid) for different analyses.\n",
    "\n",
    "This class reads in the general data files once and you can then use it in a loop by setting the obsid value as shown below."
   ]
  },
  {
   "cell_type": "code",
   "execution_count": 2,
   "metadata": {},
   "outputs": [],
   "source": [
    "from coverage_utils import CoverageCalculator, get_obsids_for_region\n",
    "from my_io import get_tilecoords, get_metadata, get_region_names"
   ]
  },
  {
   "cell_type": "code",
   "execution_count": 3,
   "metadata": {},
   "outputs": [],
   "source": [
    "obsid = \"ESP_011341_0980\""
   ]
  },
  {
   "cell_type": "code",
   "execution_count": 4,
   "metadata": {},
   "outputs": [
    {
     "name": "stdout",
     "output_type": "stream",
     "text": [
      "Reading fans and blotches in...\n",
      "Done.\n",
      "Reading metadata...\n",
      "Done.\n",
      "Note that obsid must be set to a string value before this works.\n"
     ]
    }
   ],
   "source": [
    "cc = CoverageCalculator()"
   ]
  },
  {
   "cell_type": "code",
   "execution_count": 5,
   "metadata": {},
   "outputs": [],
   "source": [
    "cc.obsid = \"ESP_012079_0945\""
   ]
  },
  {
   "cell_type": "code",
   "execution_count": 6,
   "metadata": {},
   "outputs": [
    {
     "data": {
      "text/plain": [
       "0.115"
      ]
     },
     "execution_count": 6,
     "metadata": {},
     "output_type": "execute_result"
    }
   ],
   "source": [
    "cc.covered_fraction"
   ]
  },
  {
   "cell_type": "markdown",
   "metadata": {},
   "source": [
    "There's also the union itself and it's area, in case you need it:"
   ]
  },
  {
   "cell_type": "code",
   "execution_count": 7,
   "metadata": {},
   "outputs": [
    {
     "data": {
      "text/plain": [
       "25519111.051403664"
      ]
     },
     "execution_count": 7,
     "metadata": {},
     "output_type": "execute_result"
    }
   ],
   "source": [
    "cc.union.area"
   ]
  },
  {
   "cell_type": "markdown",
   "metadata": {},
   "source": [
    "And the Ls value for the current obsid:"
   ]
  },
  {
   "cell_type": "code",
   "execution_count": 8,
   "metadata": {},
   "outputs": [
    {
     "data": {
      "text/plain": [
       "214.785"
      ]
     },
     "execution_count": 8,
     "metadata": {},
     "output_type": "execute_result"
    }
   ],
   "source": [
    "cc.Ls"
   ]
  },
  {
   "cell_type": "markdown",
   "metadata": {},
   "source": [
    "# Region of Interest names\n",
    "\n",
    "I added also a function to give you the list of obsids for a region name."
   ]
  },
  {
   "cell_type": "code",
   "execution_count": 9,
   "metadata": {},
   "outputs": [
    {
     "data": {
      "text/plain": [
       "124    ESP_011931_0945\n",
       "125    ESP_012063_0945\n",
       "126    ESP_020357_0950\n",
       "127    ESP_011350_0945\n",
       "128    ESP_020476_0950\n",
       "129    ESP_021491_0950\n",
       "130    ESP_020779_0950\n",
       "131    ESP_012076_0945\n",
       "132    ESP_012643_0945\n",
       "133    ESP_020146_0950\n",
       "134    ESP_012854_0945\n",
       "135    ESP_011351_0945\n",
       "136    ESP_011404_0945\n",
       "137    ESP_011403_0945\n",
       "138    ESP_020568_0950\n",
       "139    ESP_012858_0855\n",
       "140    PSP_003822_0945\n",
       "141    PSP_002675_0945\n",
       "142    PSP_003466_0945\n",
       "143    PSP_004033_0945\n",
       "144    PSP_003309_0945\n",
       "145    PSP_003453_0945\n",
       "146    PSP_003308_0945\n",
       "147    PSP_003677_0945\n",
       "148    PSP_003310_0855\n",
       "149    PSP_003176_0945\n",
       "150    PSP_003796_0950\n",
       "151    PSP_002622_0945\n",
       "152    PSP_003730_0945\n",
       "153    PSP_003193_0850\n",
       "154    PSP_003756_0945\n",
       "155    PSP_003954_0945\n",
       "156    PSP_004178_0945\n",
       "157    PSP_004891_0945\n",
       "158    PSP_004666_0945\n",
       "159    ESP_029548_0945\n",
       "160    ESP_038040_0950\n",
       "161    ESP_038462_0950\n",
       "162    ESP_037842_0950\n",
       "163    ESP_039359_0950\n",
       "164    ESP_040216_0950\n",
       "165    ESP_040189_0950\n",
       "Name: obsid, dtype: object"
      ]
     },
     "execution_count": 9,
     "metadata": {},
     "output_type": "execute_result"
    }
   ],
   "source": [
    "obsids = get_obsids_for_region(\"ithaca\")\n",
    "obsids"
   ]
  },
  {
   "cell_type": "markdown",
   "metadata": {},
   "source": [
    "## Restrict to a martian year\n",
    "\n",
    "by using the MY parameter, you can restrict the obsid list to a specific Martian Year:"
   ]
  },
  {
   "cell_type": "code",
   "execution_count": 10,
   "metadata": {},
   "outputs": [
    {
     "data": {
      "text/plain": [
       "124    ESP_011931_0945\n",
       "125    ESP_012063_0945\n",
       "127    ESP_011350_0945\n",
       "131    ESP_012076_0945\n",
       "132    ESP_012643_0945\n",
       "134    ESP_012854_0945\n",
       "135    ESP_011351_0945\n",
       "136    ESP_011404_0945\n",
       "137    ESP_011403_0945\n",
       "139    ESP_012858_0855\n",
       "Name: obsid, dtype: object"
      ]
     },
     "execution_count": 10,
     "metadata": {},
     "output_type": "execute_result"
    }
   ],
   "source": [
    "get_obsids_for_region(\"ithaca\", 29)"
   ]
  },
  {
   "cell_type": "code",
   "execution_count": 38,
   "metadata": {},
   "outputs": [
    {
     "data": {
      "text/plain": [
       "array(['Macclesfield', 'unknown', 'Starburst', 'Manhattan_Classic',\n",
       "       'Wellington', 'Albany', 'Bilbao', 'Ithaca', 'Portsmouth', 'Pisaq',\n",
       "       'Manhattan_Frontinella', 'BuenosAires', 'Inca_City_Ridges',\n",
       "       'Inca_City', 'Giza', 'Potsdam', 'Troy', 'Oswego_Edge', 'Halifax',\n",
       "       'Caterpillar', 'Rochester', 'Manhattan_Cracks', 'Schenectady',\n",
       "       'Binghamton', 'Atka', 'Cortland', 'Geneseo', 'Manhattan2'],\n",
       "      dtype=object)"
      ]
     },
     "execution_count": 38,
     "metadata": {},
     "output_type": "execute_result"
    }
   ],
   "source": [
    "get_region_names().roi_name.unique()"
   ]
  },
  {
   "cell_type": "code",
   "execution_count": 105,
   "metadata": {},
   "outputs": [
    {
     "name": "stdout",
     "output_type": "stream",
     "text": [
      "Martian year: 29\n",
      "Calculating obsid ESP_011931_0945\n",
      "Calculating obsid ESP_012063_0945\n",
      "Calculating obsid ESP_011350_0945\n",
      "Calculating obsid ESP_012076_0945\n",
      "Calculating obsid ESP_012643_0945\n",
      "Calculating obsid ESP_012854_0945\n",
      "Calculating obsid ESP_011351_0945\n",
      "Calculating obsid ESP_011404_0945\n",
      "Calculating obsid ESP_011403_0945\n",
      "Calculating obsid ESP_012858_0855\n",
      "Martian year: 30\n",
      "Calculating obsid ESP_020357_0950\n",
      "Calculating obsid ESP_020476_0950\n",
      "Calculating obsid ESP_021491_0950\n",
      "Calculating obsid ESP_020779_0950\n",
      "Calculating obsid ESP_020146_0950\n",
      "Calculating obsid ESP_020568_0950\n"
     ]
    }
   ],
   "source": [
    "bucket = []\n",
    "roi = \"ithaca\"\n",
    "for MY in [29, 30]:\n",
    "    print(f\"Martian year: {MY}\")\n",
    "    for obsid in get_obsids_for_region(roi, MY):\n",
    "        print(f\"Calculating obsid {obsid}\")\n",
    "        d = {}\n",
    "        d[\"obsid\"] = obsid\n",
    "        d[\"MY\"] = MY\n",
    "        cc.obsid = obsid\n",
    "        d[\"fraction\"] = cc.covered_fraction\n",
    "        d[\"Ls\"] = cc.Ls\n",
    "        bucket.append(d)"
   ]
  },
  {
   "cell_type": "code",
   "execution_count": 106,
   "metadata": {},
   "outputs": [],
   "source": [
    "results = pd.DataFrame(bucket)"
   ]
  },
  {
   "cell_type": "code",
   "execution_count": 107,
   "metadata": {},
   "outputs": [
    {
     "data": {
      "text/html": [
       "<div>\n",
       "<style scoped>\n",
       "    .dataframe tbody tr th:only-of-type {\n",
       "        vertical-align: middle;\n",
       "    }\n",
       "\n",
       "    .dataframe tbody tr th {\n",
       "        vertical-align: top;\n",
       "    }\n",
       "\n",
       "    .dataframe thead th {\n",
       "        text-align: right;\n",
       "    }\n",
       "</style>\n",
       "<table border=\"1\" class=\"dataframe\">\n",
       "  <thead>\n",
       "    <tr style=\"text-align: right;\">\n",
       "      <th></th>\n",
       "      <th>Ls</th>\n",
       "      <th>MY</th>\n",
       "      <th>fraction</th>\n",
       "      <th>obsid</th>\n",
       "    </tr>\n",
       "  </thead>\n",
       "  <tbody>\n",
       "    <tr>\n",
       "      <th>0</th>\n",
       "      <td>207.751</td>\n",
       "      <td>29</td>\n",
       "      <td>0.225</td>\n",
       "      <td>ESP_011931_0945</td>\n",
       "    </tr>\n",
       "    <tr>\n",
       "      <th>1</th>\n",
       "      <td>214.020</td>\n",
       "      <td>29</td>\n",
       "      <td>0.212</td>\n",
       "      <td>ESP_012063_0945</td>\n",
       "    </tr>\n",
       "    <tr>\n",
       "      <th>2</th>\n",
       "      <td>181.205</td>\n",
       "      <td>29</td>\n",
       "      <td>0.091</td>\n",
       "      <td>ESP_011350_0945</td>\n",
       "    </tr>\n",
       "    <tr>\n",
       "      <th>3</th>\n",
       "      <td>214.641</td>\n",
       "      <td>29</td>\n",
       "      <td>0.210</td>\n",
       "      <td>ESP_012076_0945</td>\n",
       "    </tr>\n",
       "    <tr>\n",
       "      <th>4</th>\n",
       "      <td>242.279</td>\n",
       "      <td>29</td>\n",
       "      <td>0.212</td>\n",
       "      <td>ESP_012643_0945</td>\n",
       "    </tr>\n",
       "    <tr>\n",
       "      <th>5</th>\n",
       "      <td>252.710</td>\n",
       "      <td>29</td>\n",
       "      <td>0.229</td>\n",
       "      <td>ESP_012854_0945</td>\n",
       "    </tr>\n",
       "    <tr>\n",
       "      <th>6</th>\n",
       "      <td>181.249</td>\n",
       "      <td>29</td>\n",
       "      <td>0.056</td>\n",
       "      <td>ESP_011351_0945</td>\n",
       "    </tr>\n",
       "    <tr>\n",
       "      <th>7</th>\n",
       "      <td>183.594</td>\n",
       "      <td>29</td>\n",
       "      <td>0.116</td>\n",
       "      <td>ESP_011404_0945</td>\n",
       "    </tr>\n",
       "    <tr>\n",
       "      <th>8</th>\n",
       "      <td>183.549</td>\n",
       "      <td>29</td>\n",
       "      <td>0.088</td>\n",
       "      <td>ESP_011403_0945</td>\n",
       "    </tr>\n",
       "    <tr>\n",
       "      <th>9</th>\n",
       "      <td>252.907</td>\n",
       "      <td>29</td>\n",
       "      <td>0.225</td>\n",
       "      <td>ESP_012858_0855</td>\n",
       "    </tr>\n",
       "    <tr>\n",
       "      <th>10</th>\n",
       "      <td>189.713</td>\n",
       "      <td>30</td>\n",
       "      <td>0.088</td>\n",
       "      <td>ESP_020357_0950</td>\n",
       "    </tr>\n",
       "    <tr>\n",
       "      <th>11</th>\n",
       "      <td>195.125</td>\n",
       "      <td>30</td>\n",
       "      <td>0.248</td>\n",
       "      <td>ESP_020476_0950</td>\n",
       "    </tr>\n",
       "    <tr>\n",
       "      <th>12</th>\n",
       "      <td>243.829</td>\n",
       "      <td>30</td>\n",
       "      <td>0.316</td>\n",
       "      <td>ESP_021491_0950</td>\n",
       "    </tr>\n",
       "    <tr>\n",
       "      <th>13</th>\n",
       "      <td>209.241</td>\n",
       "      <td>30</td>\n",
       "      <td>0.324</td>\n",
       "      <td>ESP_020779_0950</td>\n",
       "    </tr>\n",
       "    <tr>\n",
       "      <th>14</th>\n",
       "      <td>180.311</td>\n",
       "      <td>30</td>\n",
       "      <td>0.119</td>\n",
       "      <td>ESP_020146_0950</td>\n",
       "    </tr>\n",
       "    <tr>\n",
       "      <th>15</th>\n",
       "      <td>199.362</td>\n",
       "      <td>30</td>\n",
       "      <td>0.355</td>\n",
       "      <td>ESP_020568_0950</td>\n",
       "    </tr>\n",
       "  </tbody>\n",
       "</table>\n",
       "</div>"
      ],
      "text/plain": [
       "         Ls  MY  fraction            obsid\n",
       "0   207.751  29     0.225  ESP_011931_0945\n",
       "1   214.020  29     0.212  ESP_012063_0945\n",
       "2   181.205  29     0.091  ESP_011350_0945\n",
       "3   214.641  29     0.210  ESP_012076_0945\n",
       "4   242.279  29     0.212  ESP_012643_0945\n",
       "5   252.710  29     0.229  ESP_012854_0945\n",
       "6   181.249  29     0.056  ESP_011351_0945\n",
       "7   183.594  29     0.116  ESP_011404_0945\n",
       "8   183.549  29     0.088  ESP_011403_0945\n",
       "9   252.907  29     0.225  ESP_012858_0855\n",
       "10  189.713  30     0.088  ESP_020357_0950\n",
       "11  195.125  30     0.248  ESP_020476_0950\n",
       "12  243.829  30     0.316  ESP_021491_0950\n",
       "13  209.241  30     0.324  ESP_020779_0950\n",
       "14  180.311  30     0.119  ESP_020146_0950\n",
       "15  199.362  30     0.355  ESP_020568_0950"
      ]
     },
     "execution_count": 107,
     "metadata": {},
     "output_type": "execute_result"
    }
   ],
   "source": [
    "results"
   ]
  },
  {
   "cell_type": "code",
   "execution_count": 108,
   "metadata": {},
   "outputs": [],
   "source": [
    "import hvplot\n",
    "import hvplot.pandas\n",
    "from bokeh.resources import INLINE"
   ]
  },
  {
   "cell_type": "code",
   "execution_count": 109,
   "metadata": {},
   "outputs": [
    {
     "data": {
      "text/plain": [
       "[170, 180, 190, 200, 210, 220, 230, 240, 250, 260, 270, 280, 290, 300]"
      ]
     },
     "execution_count": 109,
     "metadata": {},
     "output_type": "execute_result"
    }
   ],
   "source": [
    "# fix the xticks for better plot comparison\n",
    "xticks = list(range(170, 301, 10))\n",
    "xticks"
   ]
  },
  {
   "cell_type": "code",
   "execution_count": 110,
   "metadata": {},
   "outputs": [],
   "source": [
    "savepath = Path(\n",
    "    \"/Users/klay6683/Dropbox/data/planet4/p4_analysis/coverage_plots\"\n",
    ")"
   ]
  },
  {
   "cell_type": "code",
   "execution_count": 111,
   "metadata": {},
   "outputs": [],
   "source": [
    "plot = results.hvplot(\n",
    "    x=\"Ls\",\n",
    "    y=\"fraction\",\n",
    "    by=\"MY\",\n",
    "    kind=\"scatter\",\n",
    "    title=roi,\n",
    "    xlim=(170, 300),\n",
    "    ylim=(-0.05, 0.5),\n",
    "    grid=True,\n",
    "    xticks=xticks,\n",
    "    width=800,\n",
    "    height=400,\n",
    ")\n",
    "# hvplot.show(plot)\n",
    "for ext in [\"png\", \"html\"]:\n",
    "    hvplot.save(plot, str(savepath / f\"{roi}_coverage.{ext}\"), resources=INLINE)"
   ]
  },
  {
   "cell_type": "code",
   "execution_count": null,
   "metadata": {},
   "outputs": [],
   "source": []
  },
  {
   "cell_type": "code",
   "execution_count": null,
   "metadata": {},
   "outputs": [],
   "source": []
  },
  {
   "cell_type": "code",
   "execution_count": null,
   "metadata": {},
   "outputs": [],
   "source": []
  },
  {
   "cell_type": "code",
   "execution_count": 25,
   "metadata": {},
   "outputs": [],
   "source": [
    "metadata = get_metadata()"
   ]
  },
  {
   "cell_type": "code",
   "execution_count": 26,
   "metadata": {},
   "outputs": [
    {
     "data": {
      "text/plain": [
       "Index(['OBSERVATION_ID', 'IMAGE_CENTER_LATITUDE', 'IMAGE_CENTER_LONGITUDE',\n",
       "       'SOLAR_LONGITUDE', 'START_TIME', 'map_scale', 'north_azimuth',\n",
       "       '# of tiles'],\n",
       "      dtype='object')"
      ]
     },
     "execution_count": 26,
     "metadata": {},
     "output_type": "execute_result"
    }
   ],
   "source": [
    "metadata.columns"
   ]
  },
  {
   "cell_type": "code",
   "execution_count": null,
   "metadata": {},
   "outputs": [],
   "source": []
  }
 ],
 "metadata": {
  "kernelspec": {
   "display_name": "Python 3",
   "language": "python",
   "name": "python3"
  },
  "language_info": {
   "codemirror_mode": {
    "name": "ipython",
    "version": 3
   },
   "file_extension": ".py",
   "mimetype": "text/x-python",
   "name": "python",
   "nbconvert_exporter": "python",
   "pygments_lexer": "ipython3",
   "version": "3.7.1"
  }
 },
 "nbformat": 4,
 "nbformat_minor": 2
}
