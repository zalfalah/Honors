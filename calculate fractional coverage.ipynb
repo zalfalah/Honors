{
 "cells": [
  {
   "cell_type": "code",
   "execution_count": 1,
   "metadata": {},
   "outputs": [],
   "source": [
    "import sys\n",
    "if sys.platform == \"darwin\":  # michael's config\n",
    "    # because Michael is using jupyter lab\n",
    "    %load_ext lab_black\n",
    "else:  # zade's config\n",
    "    # because Zade is using jupyter notebook\n",
    "    %load_ext nb_black"
   ]
  },
  {
   "cell_type": "markdown",
   "metadata": {},
   "source": [
    "## Tasks\n",
    "\n",
    "I have put several more utility functions into the coverage_utils module, have a look at all of them to understand what they do.\n",
    "\n",
    "Next tasks are:\n",
    "\n",
    "* [ ] Run below processing by intelligently define the list of obsids so that we can compare regions and years correctly.\n",
    "* [ ] Use planet4.stats.define_martian_year to get a martian year column into the fans and blotches dataframes instead of below hack.\n",
    "* [ ] Use proper regions to define the obsid lists that we run the analysis over.\n",
    "* [ ] End up with a nice function that takes a region name and a year (and best a matplotlib axis for overplotting) as parameters and returns the fractions over Ls plot \n"
   ]
  },
  {
   "cell_type": "code",
   "execution_count": 2,
   "metadata": {},
   "outputs": [],
   "source": [
    "obsid = \"ESP_011341_0980\""
   ]
  },
  {
   "cell_type": "code",
   "execution_count": 12,
   "metadata": {},
   "outputs": [],
   "source": [
    "from coverage_utils import get_obsid_fraction\n",
    "from my_io import get_tilecoords, get_metadata"
   ]
  },
  {
   "cell_type": "code",
   "execution_count": 4,
   "metadata": {},
   "outputs": [
    {
     "data": {
      "text/plain": [
       "0.10205218017100658"
      ]
     },
     "execution_count": 4,
     "metadata": {},
     "output_type": "execute_result"
    }
   ],
   "source": [
    "get_obsid_fraction(obsid)"
   ]
  },
  {
   "cell_type": "code",
   "execution_count": 6,
   "metadata": {},
   "outputs": [],
   "source": [
    "tile_coords = get_tilecoords()"
   ]
  },
  {
   "cell_type": "markdown",
   "metadata": {},
   "source": [
    "I'm simply taking all data with target code \"0950\" here, just for a quick trial. As discussed, this is dirty and doesn't cleanly define a region of interest due to the longitude ambiguity."
   ]
  },
  {
   "cell_type": "code",
   "execution_count": 10,
   "metadata": {},
   "outputs": [],
   "source": [
    "obsids = sorted(\n",
    "    [obsid for obsid in tile_coords.obsid.unique() if obsid.endswith(\"_0950\")]\n",
    ")"
   ]
  },
  {
   "cell_type": "code",
   "execution_count": 11,
   "metadata": {},
   "outputs": [
    {
     "data": {
      "text/plain": [
       "['ESP_011348_0950',\n",
       " 'ESP_011447_0950',\n",
       " 'ESP_011448_0950',\n",
       " 'ESP_011777_0950',\n",
       " 'ESP_011843_0950',\n",
       " 'ESP_011921_0950',\n",
       " 'ESP_012212_0950',\n",
       " 'ESP_012265_0950',\n",
       " 'ESP_012344_0950',\n",
       " 'ESP_012693_0950',\n",
       " 'ESP_012753_0950',\n",
       " 'ESP_012838_0950',\n",
       " 'ESP_012845_0950',\n",
       " 'ESP_013049_0950',\n",
       " 'ESP_013260_0950',\n",
       " 'ESP_020146_0950',\n",
       " 'ESP_020150_0950',\n",
       " 'ESP_020357_0950',\n",
       " 'ESP_020401_0950',\n",
       " 'ESP_020476_0950',\n",
       " 'ESP_020480_0950',\n",
       " 'ESP_020568_0950',\n",
       " 'ESP_020779_0950',\n",
       " 'ESP_020783_0950',\n",
       " 'ESP_020902_0950',\n",
       " 'ESP_021482_0950',\n",
       " 'ESP_021491_0950',\n",
       " 'ESP_022193_0950',\n",
       " 'ESP_022273_0950']"
      ]
     },
     "execution_count": 11,
     "metadata": {},
     "output_type": "execute_result"
    }
   ],
   "source": [
    "obsids"
   ]
  },
  {
   "cell_type": "code",
   "execution_count": 13,
   "metadata": {},
   "outputs": [
    {
     "name": "stdout",
     "output_type": "stream",
     "text": [
      "{'obsid': 'ESP_011348_0950', 'fraction': 0.003737329536418643}\n",
      "{'obsid': 'ESP_011447_0950', 'fraction': 0.041359093357471725}\n",
      "{'obsid': 'ESP_011448_0950', 'fraction': 0.062094548213948504}\n",
      "{'obsid': 'ESP_011777_0950', 'fraction': 0.04458526378422526}\n",
      "{'obsid': 'ESP_011843_0950', 'fraction': 0.056865563597151364}\n",
      "{'obsid': 'ESP_011921_0950', 'fraction': 0.0564334971713944}\n",
      "{'obsid': 'ESP_012212_0950', 'fraction': 0.01411541202669451}\n",
      "{'obsid': 'ESP_012265_0950', 'fraction': 0.03839396949506925}\n",
      "{'obsid': 'ESP_012344_0950', 'fraction': 0.029097184029313234}\n",
      "{'obsid': 'ESP_012693_0950', 'fraction': 0.017176204078324875}\n",
      "{'obsid': 'ESP_012753_0950', 'fraction': 0.05763155793764266}\n",
      "{'obsid': 'ESP_012838_0950', 'fraction': 0.012259373085597764}\n",
      "{'obsid': 'ESP_012845_0950', 'fraction': 0.07726019112593872}\n",
      "{'obsid': 'ESP_013049_0950', 'fraction': 0.03057190733124561}\n",
      "{'obsid': 'ESP_013260_0950', 'fraction': 0.030315355145342372}\n",
      "{'obsid': 'ESP_020146_0950', 'fraction': 0.11927833929234007}\n",
      "{'obsid': 'ESP_020150_0950', 'fraction': 0.025724398599848344}\n",
      "{'obsid': 'ESP_020357_0950', 'fraction': 0.08826169644664546}\n",
      "{'obsid': 'ESP_020401_0950', 'fraction': 0.022417048396108086}\n",
      "{'obsid': 'ESP_020476_0950', 'fraction': 0.24809503555836948}\n",
      "{'obsid': 'ESP_020480_0950', 'fraction': 0.04410257197746405}\n",
      "{'obsid': 'ESP_020568_0950', 'fraction': 0.3553811093524102}\n",
      "{'obsid': 'ESP_020779_0950', 'fraction': 0.32378223562046266}\n",
      "{'obsid': 'ESP_020783_0950', 'fraction': 0.022845585028105256}\n",
      "{'obsid': 'ESP_020902_0950', 'fraction': 0.022312715005399282}\n",
      "{'obsid': 'ESP_021482_0950', 'fraction': 0.011726406820687195}\n",
      "{'obsid': 'ESP_021491_0950', 'fraction': 0.31599478904685774}\n",
      "{'obsid': 'ESP_022193_0950', 'fraction': 0.005109293597208385}\n",
      "{'obsid': 'ESP_022273_0950', 'fraction': 0.0019567275323949204}\n"
     ]
    }
   ],
   "source": [
    "bucket = []\n",
    "for obsid in obsids:\n",
    "    d = {}\n",
    "    d[\"obsid\"] = obsid\n",
    "    d[\"fraction\"] = get_obsid_fraction(obsid)\n",
    "    bucket.append(d)\n",
    "    print(d)"
   ]
  },
  {
   "cell_type": "code",
   "execution_count": 14,
   "metadata": {},
   "outputs": [],
   "source": [
    "df = pd.DataFrame(bucket)"
   ]
  },
  {
   "cell_type": "code",
   "execution_count": 15,
   "metadata": {},
   "outputs": [
    {
     "data": {
      "text/html": [
       "<div>\n",
       "<style scoped>\n",
       "    .dataframe tbody tr th:only-of-type {\n",
       "        vertical-align: middle;\n",
       "    }\n",
       "\n",
       "    .dataframe tbody tr th {\n",
       "        vertical-align: top;\n",
       "    }\n",
       "\n",
       "    .dataframe thead th {\n",
       "        text-align: right;\n",
       "    }\n",
       "</style>\n",
       "<table border=\"1\" class=\"dataframe\">\n",
       "  <thead>\n",
       "    <tr style=\"text-align: right;\">\n",
       "      <th></th>\n",
       "      <th>fraction</th>\n",
       "      <th>obsid</th>\n",
       "    </tr>\n",
       "  </thead>\n",
       "  <tbody>\n",
       "    <tr>\n",
       "      <th>0</th>\n",
       "      <td>0.003737</td>\n",
       "      <td>ESP_011348_0950</td>\n",
       "    </tr>\n",
       "    <tr>\n",
       "      <th>1</th>\n",
       "      <td>0.041359</td>\n",
       "      <td>ESP_011447_0950</td>\n",
       "    </tr>\n",
       "    <tr>\n",
       "      <th>2</th>\n",
       "      <td>0.062095</td>\n",
       "      <td>ESP_011448_0950</td>\n",
       "    </tr>\n",
       "    <tr>\n",
       "      <th>3</th>\n",
       "      <td>0.044585</td>\n",
       "      <td>ESP_011777_0950</td>\n",
       "    </tr>\n",
       "    <tr>\n",
       "      <th>4</th>\n",
       "      <td>0.056866</td>\n",
       "      <td>ESP_011843_0950</td>\n",
       "    </tr>\n",
       "    <tr>\n",
       "      <th>5</th>\n",
       "      <td>0.056433</td>\n",
       "      <td>ESP_011921_0950</td>\n",
       "    </tr>\n",
       "    <tr>\n",
       "      <th>6</th>\n",
       "      <td>0.014115</td>\n",
       "      <td>ESP_012212_0950</td>\n",
       "    </tr>\n",
       "    <tr>\n",
       "      <th>7</th>\n",
       "      <td>0.038394</td>\n",
       "      <td>ESP_012265_0950</td>\n",
       "    </tr>\n",
       "    <tr>\n",
       "      <th>8</th>\n",
       "      <td>0.029097</td>\n",
       "      <td>ESP_012344_0950</td>\n",
       "    </tr>\n",
       "    <tr>\n",
       "      <th>9</th>\n",
       "      <td>0.017176</td>\n",
       "      <td>ESP_012693_0950</td>\n",
       "    </tr>\n",
       "    <tr>\n",
       "      <th>10</th>\n",
       "      <td>0.057632</td>\n",
       "      <td>ESP_012753_0950</td>\n",
       "    </tr>\n",
       "    <tr>\n",
       "      <th>11</th>\n",
       "      <td>0.012259</td>\n",
       "      <td>ESP_012838_0950</td>\n",
       "    </tr>\n",
       "    <tr>\n",
       "      <th>12</th>\n",
       "      <td>0.077260</td>\n",
       "      <td>ESP_012845_0950</td>\n",
       "    </tr>\n",
       "    <tr>\n",
       "      <th>13</th>\n",
       "      <td>0.030572</td>\n",
       "      <td>ESP_013049_0950</td>\n",
       "    </tr>\n",
       "    <tr>\n",
       "      <th>14</th>\n",
       "      <td>0.030315</td>\n",
       "      <td>ESP_013260_0950</td>\n",
       "    </tr>\n",
       "    <tr>\n",
       "      <th>15</th>\n",
       "      <td>0.119278</td>\n",
       "      <td>ESP_020146_0950</td>\n",
       "    </tr>\n",
       "    <tr>\n",
       "      <th>16</th>\n",
       "      <td>0.025724</td>\n",
       "      <td>ESP_020150_0950</td>\n",
       "    </tr>\n",
       "    <tr>\n",
       "      <th>17</th>\n",
       "      <td>0.088262</td>\n",
       "      <td>ESP_020357_0950</td>\n",
       "    </tr>\n",
       "    <tr>\n",
       "      <th>18</th>\n",
       "      <td>0.022417</td>\n",
       "      <td>ESP_020401_0950</td>\n",
       "    </tr>\n",
       "    <tr>\n",
       "      <th>19</th>\n",
       "      <td>0.248095</td>\n",
       "      <td>ESP_020476_0950</td>\n",
       "    </tr>\n",
       "    <tr>\n",
       "      <th>20</th>\n",
       "      <td>0.044103</td>\n",
       "      <td>ESP_020480_0950</td>\n",
       "    </tr>\n",
       "    <tr>\n",
       "      <th>21</th>\n",
       "      <td>0.355381</td>\n",
       "      <td>ESP_020568_0950</td>\n",
       "    </tr>\n",
       "    <tr>\n",
       "      <th>22</th>\n",
       "      <td>0.323782</td>\n",
       "      <td>ESP_020779_0950</td>\n",
       "    </tr>\n",
       "    <tr>\n",
       "      <th>23</th>\n",
       "      <td>0.022846</td>\n",
       "      <td>ESP_020783_0950</td>\n",
       "    </tr>\n",
       "    <tr>\n",
       "      <th>24</th>\n",
       "      <td>0.022313</td>\n",
       "      <td>ESP_020902_0950</td>\n",
       "    </tr>\n",
       "    <tr>\n",
       "      <th>25</th>\n",
       "      <td>0.011726</td>\n",
       "      <td>ESP_021482_0950</td>\n",
       "    </tr>\n",
       "    <tr>\n",
       "      <th>26</th>\n",
       "      <td>0.315995</td>\n",
       "      <td>ESP_021491_0950</td>\n",
       "    </tr>\n",
       "    <tr>\n",
       "      <th>27</th>\n",
       "      <td>0.005109</td>\n",
       "      <td>ESP_022193_0950</td>\n",
       "    </tr>\n",
       "    <tr>\n",
       "      <th>28</th>\n",
       "      <td>0.001957</td>\n",
       "      <td>ESP_022273_0950</td>\n",
       "    </tr>\n",
       "  </tbody>\n",
       "</table>\n",
       "</div>"
      ],
      "text/plain": [
       "    fraction            obsid\n",
       "0   0.003737  ESP_011348_0950\n",
       "1   0.041359  ESP_011447_0950\n",
       "2   0.062095  ESP_011448_0950\n",
       "3   0.044585  ESP_011777_0950\n",
       "4   0.056866  ESP_011843_0950\n",
       "5   0.056433  ESP_011921_0950\n",
       "6   0.014115  ESP_012212_0950\n",
       "7   0.038394  ESP_012265_0950\n",
       "8   0.029097  ESP_012344_0950\n",
       "9   0.017176  ESP_012693_0950\n",
       "10  0.057632  ESP_012753_0950\n",
       "11  0.012259  ESP_012838_0950\n",
       "12  0.077260  ESP_012845_0950\n",
       "13  0.030572  ESP_013049_0950\n",
       "14  0.030315  ESP_013260_0950\n",
       "15  0.119278  ESP_020146_0950\n",
       "16  0.025724  ESP_020150_0950\n",
       "17  0.088262  ESP_020357_0950\n",
       "18  0.022417  ESP_020401_0950\n",
       "19  0.248095  ESP_020476_0950\n",
       "20  0.044103  ESP_020480_0950\n",
       "21  0.355381  ESP_020568_0950\n",
       "22  0.323782  ESP_020779_0950\n",
       "23  0.022846  ESP_020783_0950\n",
       "24  0.022313  ESP_020902_0950\n",
       "25  0.011726  ESP_021482_0950\n",
       "26  0.315995  ESP_021491_0950\n",
       "27  0.005109  ESP_022193_0950\n",
       "28  0.001957  ESP_022273_0950"
      ]
     },
     "execution_count": 15,
     "metadata": {},
     "output_type": "execute_result"
    }
   ],
   "source": [
    "df"
   ]
  },
  {
   "cell_type": "code",
   "execution_count": 16,
   "metadata": {},
   "outputs": [],
   "source": [
    "metadata = get_metadata()"
   ]
  },
  {
   "cell_type": "code",
   "execution_count": 17,
   "metadata": {},
   "outputs": [
    {
     "data": {
      "text/plain": [
       "Index(['OBSERVATION_ID', 'IMAGE_CENTER_LATITUDE', 'IMAGE_CENTER_LONGITUDE',\n",
       "       'SOLAR_LONGITUDE', 'START_TIME', 'map_scale', 'north_azimuth',\n",
       "       '# of tiles'],\n",
       "      dtype='object')"
      ]
     },
     "execution_count": 17,
     "metadata": {},
     "output_type": "execute_result"
    }
   ],
   "source": [
    "metadata.columns"
   ]
  },
  {
   "cell_type": "code",
   "execution_count": 18,
   "metadata": {},
   "outputs": [],
   "source": [
    "def get_Ls(obsid):\n",
    "    metadata = get_metadata()\n",
    "    metadata.set_index(\"OBSERVATION_ID\", inplace=True)\n",
    "    return metadata.at[obsid, \"SOLAR_LONGITUDE\"]"
   ]
  },
  {
   "cell_type": "code",
   "execution_count": 19,
   "metadata": {},
   "outputs": [],
   "source": [
    "df[\"Ls\"] = df.obsid.map(get_Ls)"
   ]
  },
  {
   "cell_type": "code",
   "execution_count": 20,
   "metadata": {},
   "outputs": [],
   "source": [
    "def define_martian_year(obsid):\n",
    "    return 29 if obsid.startswith(\"ESP_01\") else 30"
   ]
  },
  {
   "cell_type": "code",
   "execution_count": 21,
   "metadata": {},
   "outputs": [],
   "source": [
    "df[\"year\"] = df.obsid.map(define_martian_year)"
   ]
  },
  {
   "cell_type": "code",
   "execution_count": 22,
   "metadata": {},
   "outputs": [
    {
     "data": {
      "text/plain": [
       "Text(0.5, 1.0, 'target_code 0950')"
      ]
     },
     "execution_count": 22,
     "metadata": {},
     "output_type": "execute_result"
    },
    {
     "data": {
      "image/png": "[encoded data removed]",
      "text/plain": [
       "<Figure size 432x288 with 1 Axes>"
      ]
     },
     "metadata": {
      "needs_background": "light"
     },
     "output_type": "display_data"
    }
   ],
   "source": [
    "fig, ax = plt.subplots()\n",
    "\n",
    "for c, year in zip([\"red\", \"blue\"], df.year.unique()):\n",
    "    df.query(\"year == @year\").plot(\n",
    "        kind=\"scatter\", x=\"Ls\", y=\"fraction\", label=year, ax=ax, color=c\n",
    "    )\n",
    "ax.set_title(\"target_code 0950\")"
   ]
  },
  {
   "cell_type": "code",
   "execution_count": null,
   "metadata": {},
   "outputs": [],
   "source": []
  }
 ],
 "metadata": {
  "kernelspec": {
   "display_name": "Python 3",
   "language": "python",
   "name": "python3"
  },
  "language_info": {
   "codemirror_mode": {
    "name": "ipython",
    "version": 3
   },
   "file_extension": ".py",
   "mimetype": "text/x-python",
   "name": "python",
   "nbconvert_exporter": "python",
   "pygments_lexer": "ipython3",
   "version": "3.7.1"
  }
 },
 "nbformat": 4,
 "nbformat_minor": 2
}
