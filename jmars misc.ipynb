{
 "cells": [
  {
   "cell_type": "code",
   "execution_count": 1,
   "metadata": {},
   "outputs": [],
   "source": [
    "import sys\n",
    "if sys.platform == \"darwin\":  # michael's config\n",
    "    # because Michael is using jupyter lab\n",
    "    %load_ext lab_black\n",
    "else:  # zade's config\n",
    "    # because Zade is using jupyter notebook\n",
    "    %load_ext nb_black"
   ]
  },
  {
   "cell_type": "code",
   "execution_count": 2,
   "metadata": {},
   "outputs": [
    {
     "data": {
      "application/javascript": [
       "\n",
       "        setTimeout(function() {\n",
       "            var nbb_cell_id = 2;\n",
       "            var nbb_formatted_code = \"import numpy as np\\nimport geopandas as gp\\nimport shapely\\nfrom planet4 import io, markings\";\n",
       "            var nbb_cells = Jupyter.notebook.get_cells();\n",
       "            for (var i = 0; i < nbb_cells.length; ++i) {\n",
       "                if (nbb_cells[i].input_prompt_number == nbb_cell_id) {\n",
       "                    nbb_cells[i].set_text(nbb_formatted_code);\n",
       "                    break;\n",
       "                }\n",
       "            }\n",
       "        }, 500);\n",
       "        "
      ],
      "text/plain": [
       "<IPython.core.display.Javascript object>"
      ]
     },
     "metadata": {},
     "output_type": "display_data"
    }
   ],
   "source": [
    "import numpy as np\n",
    "import geopandas as gp\n",
    "import shapely\n",
    "from planet4 import io, markings"
   ]
  },
  {
   "cell_type": "code",
   "execution_count": 3,
   "metadata": {},
   "outputs": [
    {
     "data": {
      "application/javascript": [
       "\n",
       "        setTimeout(function() {\n",
       "            var nbb_cell_id = 3;\n",
       "            var nbb_formatted_code = \"from coverage_utils import CoverageCalculator, get_obsids_for_region\\nfrom my_io import get_tilecoords, get_metadata, get_region_names\";\n",
       "            var nbb_cells = Jupyter.notebook.get_cells();\n",
       "            for (var i = 0; i < nbb_cells.length; ++i) {\n",
       "                if (nbb_cells[i].input_prompt_number == nbb_cell_id) {\n",
       "                    nbb_cells[i].set_text(nbb_formatted_code);\n",
       "                    break;\n",
       "                }\n",
       "            }\n",
       "        }, 500);\n",
       "        "
      ],
      "text/plain": [
       "<IPython.core.display.Javascript object>"
      ]
     },
     "metadata": {},
     "output_type": "display_data"
    }
   ],
   "source": [
    "from coverage_utils import CoverageCalculator, get_obsids_for_region\n",
    "from my_io import get_tilecoords, get_metadata, get_region_names"
   ]
  },
  {
   "cell_type": "code",
   "execution_count": 4,
   "metadata": {},
   "outputs": [
    {
     "data": {
      "application/javascript": [
       "\n",
       "        setTimeout(function() {\n",
       "            var nbb_cell_id = 4;\n",
       "            var nbb_formatted_code = \"import pandas as pd\\nimport matplotlib.pyplot as plt\";\n",
       "            var nbb_cells = Jupyter.notebook.get_cells();\n",
       "            for (var i = 0; i < nbb_cells.length; ++i) {\n",
       "                if (nbb_cells[i].input_prompt_number == nbb_cell_id) {\n",
       "                    nbb_cells[i].set_text(nbb_formatted_code);\n",
       "                    break;\n",
       "                }\n",
       "            }\n",
       "        }, 500);\n",
       "        "
      ],
      "text/plain": [
       "<IPython.core.display.Javascript object>"
      ]
     },
     "metadata": {},
     "output_type": "display_data"
    }
   ],
   "source": [
    "import pandas as pd\n",
    "import matplotlib.pyplot as plt"
   ]
  },
  {
   "cell_type": "code",
   "execution_count": 5,
   "metadata": {},
   "outputs": [
    {
     "data": {
      "application/javascript": [
       "\n",
       "        setTimeout(function() {\n",
       "            var nbb_cell_id = 5;\n",
       "            var nbb_formatted_code = \"%matplotlib widget\";\n",
       "            var nbb_cells = Jupyter.notebook.get_cells();\n",
       "            for (var i = 0; i < nbb_cells.length; ++i) {\n",
       "                if (nbb_cells[i].input_prompt_number == nbb_cell_id) {\n",
       "                    nbb_cells[i].set_text(nbb_formatted_code);\n",
       "                    break;\n",
       "                }\n",
       "            }\n",
       "        }, 500);\n",
       "        "
      ],
      "text/plain": [
       "<IPython.core.display.Javascript object>"
      ]
     },
     "metadata": {},
     "output_type": "display_data"
    }
   ],
   "source": [
    "%matplotlib widget"
   ]
  },
  {
   "cell_type": "code",
   "execution_count": 6,
   "metadata": {},
   "outputs": [
    {
     "name": "stdout",
     "output_type": "stream",
     "text": [
      "Reading fans and blotches in...\n",
      "Done.\n",
      "Reading metadata...\n",
      "Done.\n",
      "Note that obsid must be set to a string value before this works.\n"
     ]
    },
    {
     "data": {
      "application/javascript": [
       "\n",
       "        setTimeout(function() {\n",
       "            var nbb_cell_id = 6;\n",
       "            var nbb_formatted_code = \"# the `which` setting is by default 'both'\\ncc = CoverageCalculator()\";\n",
       "            var nbb_cells = Jupyter.notebook.get_cells();\n",
       "            for (var i = 0; i < nbb_cells.length; ++i) {\n",
       "                if (nbb_cells[i].input_prompt_number == nbb_cell_id) {\n",
       "                    nbb_cells[i].set_text(nbb_formatted_code);\n",
       "                    break;\n",
       "                }\n",
       "            }\n",
       "        }, 500);\n",
       "        "
      ],
      "text/plain": [
       "<IPython.core.display.Javascript object>"
      ]
     },
     "metadata": {},
     "output_type": "display_data"
    }
   ],
   "source": [
    "# the `which` setting is by default 'both'\n",
    "cc = CoverageCalculator()"
   ]
  },
  {
   "cell_type": "code",
   "execution_count": 7,
   "metadata": {},
   "outputs": [
    {
     "data": {
      "application/javascript": [
       "\n",
       "        setTimeout(function() {\n",
       "            var nbb_cell_id = 7;\n",
       "            var nbb_formatted_code = \"all_regions = get_region_names().roi_name.unique()\";\n",
       "            var nbb_cells = Jupyter.notebook.get_cells();\n",
       "            for (var i = 0; i < nbb_cells.length; ++i) {\n",
       "                if (nbb_cells[i].input_prompt_number == nbb_cell_id) {\n",
       "                    nbb_cells[i].set_text(nbb_formatted_code);\n",
       "                    break;\n",
       "                }\n",
       "            }\n",
       "        }, 500);\n",
       "        "
      ],
      "text/plain": [
       "<IPython.core.display.Javascript object>"
      ]
     },
     "metadata": {},
     "output_type": "display_data"
    }
   ],
   "source": [
    "all_regions = get_region_names().roi_name.unique()"
   ]
  },
  {
   "cell_type": "code",
   "execution_count": 8,
   "metadata": {
    "scrolled": true
   },
   "outputs": [
    {
     "data": {
      "text/plain": [
       "['Macclesfield',\n",
       " 'Starburst',\n",
       " 'Manhattan_Classic',\n",
       " 'Wellington',\n",
       " 'Albany',\n",
       " 'Bilbao',\n",
       " 'Ithaca',\n",
       " 'Portsmouth',\n",
       " 'Pisaq',\n",
       " 'Manhattan_Frontinella',\n",
       " 'BuenosAires',\n",
       " 'Inca_City_Ridges',\n",
       " 'Inca_City',\n",
       " 'Giza',\n",
       " 'Potsdam',\n",
       " 'Troy',\n",
       " 'Oswego_Edge',\n",
       " 'Halifax',\n",
       " 'Caterpillar',\n",
       " 'Rochester',\n",
       " 'Manhattan_Cracks',\n",
       " 'Schenectady',\n",
       " 'Binghamton',\n",
       " 'Atka',\n",
       " 'Cortland',\n",
       " 'Geneseo']"
      ]
     },
     "execution_count": 8,
     "metadata": {},
     "output_type": "execute_result"
    },
    {
     "data": {
      "application/javascript": [
       "\n",
       "        setTimeout(function() {\n",
       "            var nbb_cell_id = 8;\n",
       "            var nbb_formatted_code = \"all_regions = [\\n    region for region in all_regions if region not in [\\\"unknown\\\", \\\"Manhattan2\\\"]\\n]\\nall_regions\";\n",
       "            var nbb_cells = Jupyter.notebook.get_cells();\n",
       "            for (var i = 0; i < nbb_cells.length; ++i) {\n",
       "                if (nbb_cells[i].input_prompt_number == nbb_cell_id) {\n",
       "                    nbb_cells[i].set_text(nbb_formatted_code);\n",
       "                    break;\n",
       "                }\n",
       "            }\n",
       "        }, 500);\n",
       "        "
      ],
      "text/plain": [
       "<IPython.core.display.Javascript object>"
      ]
     },
     "metadata": {},
     "output_type": "display_data"
    }
   ],
   "source": [
    "all_regions = [\n",
    "    region for region in all_regions if region not in [\"unknown\", \"Manhattan2\"]\n",
    "]\n",
    "all_regions"
   ]
  },
  {
   "cell_type": "code",
   "execution_count": 9,
   "metadata": {},
   "outputs": [
    {
     "data": {
      "text/html": [
       "<div>\n",
       "<style scoped>\n",
       "    .dataframe tbody tr th:only-of-type {\n",
       "        vertical-align: middle;\n",
       "    }\n",
       "\n",
       "    .dataframe tbody tr th {\n",
       "        vertical-align: top;\n",
       "    }\n",
       "\n",
       "    .dataframe thead th {\n",
       "        text-align: right;\n",
       "    }\n",
       "</style>\n",
       "<table border=\"1\" class=\"dataframe\">\n",
       "  <thead>\n",
       "    <tr style=\"text-align: right;\">\n",
       "      <th></th>\n",
       "      <th>Latitude</th>\n",
       "      <th>Ls</th>\n",
       "      <th>MY</th>\n",
       "      <th>fraction</th>\n",
       "      <th>n_objects</th>\n",
       "      <th>pixel_area</th>\n",
       "    </tr>\n",
       "  </thead>\n",
       "  <tbody>\n",
       "    <tr>\n",
       "      <th>count</th>\n",
       "      <td>654.000000</td>\n",
       "      <td>654.000000</td>\n",
       "      <td>654.000000</td>\n",
       "      <td>654.000000</td>\n",
       "      <td>654.000000</td>\n",
       "      <td>6.540000e+02</td>\n",
       "    </tr>\n",
       "    <tr>\n",
       "      <th>mean</th>\n",
       "      <td>-84.315982</td>\n",
       "      <td>219.824046</td>\n",
       "      <td>29.422018</td>\n",
       "      <td>0.042454</td>\n",
       "      <td>950.564220</td>\n",
       "      <td>3.272518e+06</td>\n",
       "    </tr>\n",
       "    <tr>\n",
       "      <th>std</th>\n",
       "      <td>2.567026</td>\n",
       "      <td>28.643762</td>\n",
       "      <td>0.494259</td>\n",
       "      <td>0.048698</td>\n",
       "      <td>1954.735269</td>\n",
       "      <td>5.061175e+06</td>\n",
       "    </tr>\n",
       "    <tr>\n",
       "      <th>min</th>\n",
       "      <td>-87.303400</td>\n",
       "      <td>176.075000</td>\n",
       "      <td>29.000000</td>\n",
       "      <td>0.000000</td>\n",
       "      <td>0.000000</td>\n",
       "      <td>0.000000e+00</td>\n",
       "    </tr>\n",
       "    <tr>\n",
       "      <th>25%</th>\n",
       "      <td>-86.842000</td>\n",
       "      <td>195.125000</td>\n",
       "      <td>29.000000</td>\n",
       "      <td>0.010000</td>\n",
       "      <td>123.000000</td>\n",
       "      <td>6.230501e+05</td>\n",
       "    </tr>\n",
       "    <tr>\n",
       "      <th>50%</th>\n",
       "      <td>-85.088200</td>\n",
       "      <td>214.988000</td>\n",
       "      <td>29.000000</td>\n",
       "      <td>0.027000</td>\n",
       "      <td>368.000000</td>\n",
       "      <td>1.643100e+06</td>\n",
       "    </tr>\n",
       "    <tr>\n",
       "      <th>75%</th>\n",
       "      <td>-81.810500</td>\n",
       "      <td>244.126000</td>\n",
       "      <td>30.000000</td>\n",
       "      <td>0.056000</td>\n",
       "      <td>961.250000</td>\n",
       "      <td>3.731366e+06</td>\n",
       "    </tr>\n",
       "    <tr>\n",
       "      <th>max</th>\n",
       "      <td>-73.478700</td>\n",
       "      <td>302.421000</td>\n",
       "      <td>30.000000</td>\n",
       "      <td>0.355000</td>\n",
       "      <td>16728.000000</td>\n",
       "      <td>4.726806e+07</td>\n",
       "    </tr>\n",
       "  </tbody>\n",
       "</table>\n",
       "</div>"
      ],
      "text/plain": [
       "         Latitude          Ls          MY    fraction     n_objects  \\\n",
       "count  654.000000  654.000000  654.000000  654.000000    654.000000   \n",
       "mean   -84.315982  219.824046   29.422018    0.042454    950.564220   \n",
       "std      2.567026   28.643762    0.494259    0.048698   1954.735269   \n",
       "min    -87.303400  176.075000   29.000000    0.000000      0.000000   \n",
       "25%    -86.842000  195.125000   29.000000    0.010000    123.000000   \n",
       "50%    -85.088200  214.988000   29.000000    0.027000    368.000000   \n",
       "75%    -81.810500  244.126000   30.000000    0.056000    961.250000   \n",
       "max    -73.478700  302.421000   30.000000    0.355000  16728.000000   \n",
       "\n",
       "         pixel_area  \n",
       "count  6.540000e+02  \n",
       "mean   3.272518e+06  \n",
       "std    5.061175e+06  \n",
       "min    0.000000e+00  \n",
       "25%    6.230501e+05  \n",
       "50%    1.643100e+06  \n",
       "75%    3.731366e+06  \n",
       "max    4.726806e+07  "
      ]
     },
     "execution_count": 9,
     "metadata": {},
     "output_type": "execute_result"
    },
    {
     "data": {
      "application/javascript": [
       "\n",
       "        setTimeout(function() {\n",
       "            var nbb_cell_id = 9;\n",
       "            var nbb_formatted_code = \"data = pd.read_csv(\\\"n_obj_df.csv\\\")\\ndata.describe()\";\n",
       "            var nbb_cells = Jupyter.notebook.get_cells();\n",
       "            for (var i = 0; i < nbb_cells.length; ++i) {\n",
       "                if (nbb_cells[i].input_prompt_number == nbb_cell_id) {\n",
       "                    nbb_cells[i].set_text(nbb_formatted_code);\n",
       "                    break;\n",
       "                }\n",
       "            }\n",
       "        }, 500);\n",
       "        "
      ],
      "text/plain": [
       "<IPython.core.display.Javascript object>"
      ]
     },
     "metadata": {},
     "output_type": "display_data"
    }
   ],
   "source": [
    "data = pd.read_csv(\"n_obj_df.csv\")\n",
    "data.describe()"
   ]
  },
  {
   "cell_type": "code",
   "execution_count": 10,
   "metadata": {},
   "outputs": [
    {
     "data": {
      "text/html": [
       "<div>\n",
       "<style scoped>\n",
       "    .dataframe tbody tr th:only-of-type {\n",
       "        vertical-align: middle;\n",
       "    }\n",
       "\n",
       "    .dataframe tbody tr th {\n",
       "        vertical-align: top;\n",
       "    }\n",
       "\n",
       "    .dataframe thead th {\n",
       "        text-align: right;\n",
       "    }\n",
       "</style>\n",
       "<table border=\"1\" class=\"dataframe\">\n",
       "  <thead>\n",
       "    <tr style=\"text-align: right;\">\n",
       "      <th></th>\n",
       "      <th>Latitude</th>\n",
       "      <th>Ls</th>\n",
       "      <th>MY</th>\n",
       "      <th>Which</th>\n",
       "      <th>fraction</th>\n",
       "      <th>n_objects</th>\n",
       "      <th>obsid</th>\n",
       "      <th>pixel_area</th>\n",
       "      <th>region_name</th>\n",
       "    </tr>\n",
       "  </thead>\n",
       "  <tbody>\n",
       "    <tr>\n",
       "      <th>0</th>\n",
       "      <td>-85.4074</td>\n",
       "      <td>214.785</td>\n",
       "      <td>29</td>\n",
       "      <td>both</td>\n",
       "      <td>0.115</td>\n",
       "      <td>933</td>\n",
       "      <td>ESP_012079_0945</td>\n",
       "      <td>2.551911e+07</td>\n",
       "      <td>Macclesfield</td>\n",
       "    </tr>\n",
       "    <tr>\n",
       "      <th>1</th>\n",
       "      <td>-85.4065</td>\n",
       "      <td>183.727</td>\n",
       "      <td>29</td>\n",
       "      <td>both</td>\n",
       "      <td>0.070</td>\n",
       "      <td>1971</td>\n",
       "      <td>ESP_011407_0945</td>\n",
       "      <td>2.592302e+06</td>\n",
       "      <td>Macclesfield</td>\n",
       "    </tr>\n",
       "    <tr>\n",
       "      <th>2</th>\n",
       "      <td>-85.4056</td>\n",
       "      <td>198.040</td>\n",
       "      <td>29</td>\n",
       "      <td>both</td>\n",
       "      <td>0.072</td>\n",
       "      <td>1525</td>\n",
       "      <td>ESP_011723_0945</td>\n",
       "      <td>8.455380e+06</td>\n",
       "      <td>Macclesfield</td>\n",
       "    </tr>\n",
       "    <tr>\n",
       "      <th>3</th>\n",
       "      <td>-85.4049</td>\n",
       "      <td>207.892</td>\n",
       "      <td>29</td>\n",
       "      <td>both</td>\n",
       "      <td>0.168</td>\n",
       "      <td>788</td>\n",
       "      <td>ESP_011934_0945</td>\n",
       "      <td>7.357966e+06</td>\n",
       "      <td>Macclesfield</td>\n",
       "    </tr>\n",
       "    <tr>\n",
       "      <th>4</th>\n",
       "      <td>-85.4067</td>\n",
       "      <td>235.282</td>\n",
       "      <td>29</td>\n",
       "      <td>both</td>\n",
       "      <td>0.111</td>\n",
       "      <td>1285</td>\n",
       "      <td>ESP_012501_0945</td>\n",
       "      <td>4.882627e+06</td>\n",
       "      <td>Macclesfield</td>\n",
       "    </tr>\n",
       "  </tbody>\n",
       "</table>\n",
       "</div>"
      ],
      "text/plain": [
       "   Latitude       Ls  MY Which  fraction  n_objects            obsid  \\\n",
       "0  -85.4074  214.785  29  both     0.115        933  ESP_012079_0945   \n",
       "1  -85.4065  183.727  29  both     0.070       1971  ESP_011407_0945   \n",
       "2  -85.4056  198.040  29  both     0.072       1525  ESP_011723_0945   \n",
       "3  -85.4049  207.892  29  both     0.168        788  ESP_011934_0945   \n",
       "4  -85.4067  235.282  29  both     0.111       1285  ESP_012501_0945   \n",
       "\n",
       "     pixel_area   region_name  \n",
       "0  2.551911e+07  Macclesfield  \n",
       "1  2.592302e+06  Macclesfield  \n",
       "2  8.455380e+06  Macclesfield  \n",
       "3  7.357966e+06  Macclesfield  \n",
       "4  4.882627e+06  Macclesfield  "
      ]
     },
     "execution_count": 10,
     "metadata": {},
     "output_type": "execute_result"
    },
    {
     "data": {
      "application/javascript": [
       "\n",
       "        setTimeout(function() {\n",
       "            var nbb_cell_id = 10;\n",
       "            var nbb_formatted_code = \"data.head()\";\n",
       "            var nbb_cells = Jupyter.notebook.get_cells();\n",
       "            for (var i = 0; i < nbb_cells.length; ++i) {\n",
       "                if (nbb_cells[i].input_prompt_number == nbb_cell_id) {\n",
       "                    nbb_cells[i].set_text(nbb_formatted_code);\n",
       "                    break;\n",
       "                }\n",
       "            }\n",
       "        }, 500);\n",
       "        "
      ],
      "text/plain": [
       "<IPython.core.display.Javascript object>"
      ]
     },
     "metadata": {},
     "output_type": "display_data"
    }
   ],
   "source": [
    "data.head()"
   ]
  },
  {
   "cell_type": "code",
   "execution_count": 11,
   "metadata": {},
   "outputs": [
    {
     "data": {
      "application/javascript": [
       "\n",
       "        setTimeout(function() {\n",
       "            var nbb_cell_id = 11;\n",
       "            var nbb_formatted_code = \"data[\\\"obsid\\\"] = data[\\\"obsid\\\"].astype(str) + \\\"_COLOR\\\"\";\n",
       "            var nbb_cells = Jupyter.notebook.get_cells();\n",
       "            for (var i = 0; i < nbb_cells.length; ++i) {\n",
       "                if (nbb_cells[i].input_prompt_number == nbb_cell_id) {\n",
       "                    nbb_cells[i].set_text(nbb_formatted_code);\n",
       "                    break;\n",
       "                }\n",
       "            }\n",
       "        }, 500);\n",
       "        "
      ],
      "text/plain": [
       "<IPython.core.display.Javascript object>"
      ]
     },
     "metadata": {},
     "output_type": "display_data"
    }
   ],
   "source": [
    "data[\"obsid\"] = data[\"obsid\"].astype(str) + \"_COLOR\""
   ]
  },
  {
   "cell_type": "code",
   "execution_count": 12,
   "metadata": {},
   "outputs": [
    {
     "data": {
      "text/html": [
       "<div>\n",
       "<style scoped>\n",
       "    .dataframe tbody tr th:only-of-type {\n",
       "        vertical-align: middle;\n",
       "    }\n",
       "\n",
       "    .dataframe tbody tr th {\n",
       "        vertical-align: top;\n",
       "    }\n",
       "\n",
       "    .dataframe thead th {\n",
       "        text-align: right;\n",
       "    }\n",
       "</style>\n",
       "<table border=\"1\" class=\"dataframe\">\n",
       "  <thead>\n",
       "    <tr style=\"text-align: right;\">\n",
       "      <th></th>\n",
       "      <th>Latitude</th>\n",
       "      <th>Ls</th>\n",
       "      <th>MY</th>\n",
       "      <th>Which</th>\n",
       "      <th>fraction</th>\n",
       "      <th>n_objects</th>\n",
       "      <th>obsid</th>\n",
       "      <th>pixel_area</th>\n",
       "      <th>region_name</th>\n",
       "    </tr>\n",
       "  </thead>\n",
       "  <tbody>\n",
       "    <tr>\n",
       "      <th>0</th>\n",
       "      <td>-85.4074</td>\n",
       "      <td>214.785</td>\n",
       "      <td>29</td>\n",
       "      <td>both</td>\n",
       "      <td>0.115</td>\n",
       "      <td>933</td>\n",
       "      <td>ESP_012079_0945_COLOR</td>\n",
       "      <td>2.551911e+07</td>\n",
       "      <td>Macclesfield</td>\n",
       "    </tr>\n",
       "    <tr>\n",
       "      <th>1</th>\n",
       "      <td>-85.4065</td>\n",
       "      <td>183.727</td>\n",
       "      <td>29</td>\n",
       "      <td>both</td>\n",
       "      <td>0.070</td>\n",
       "      <td>1971</td>\n",
       "      <td>ESP_011407_0945_COLOR</td>\n",
       "      <td>2.592302e+06</td>\n",
       "      <td>Macclesfield</td>\n",
       "    </tr>\n",
       "    <tr>\n",
       "      <th>2</th>\n",
       "      <td>-85.4056</td>\n",
       "      <td>198.040</td>\n",
       "      <td>29</td>\n",
       "      <td>both</td>\n",
       "      <td>0.072</td>\n",
       "      <td>1525</td>\n",
       "      <td>ESP_011723_0945_COLOR</td>\n",
       "      <td>8.455380e+06</td>\n",
       "      <td>Macclesfield</td>\n",
       "    </tr>\n",
       "    <tr>\n",
       "      <th>3</th>\n",
       "      <td>-85.4049</td>\n",
       "      <td>207.892</td>\n",
       "      <td>29</td>\n",
       "      <td>both</td>\n",
       "      <td>0.168</td>\n",
       "      <td>788</td>\n",
       "      <td>ESP_011934_0945_COLOR</td>\n",
       "      <td>7.357966e+06</td>\n",
       "      <td>Macclesfield</td>\n",
       "    </tr>\n",
       "    <tr>\n",
       "      <th>4</th>\n",
       "      <td>-85.4067</td>\n",
       "      <td>235.282</td>\n",
       "      <td>29</td>\n",
       "      <td>both</td>\n",
       "      <td>0.111</td>\n",
       "      <td>1285</td>\n",
       "      <td>ESP_012501_0945_COLOR</td>\n",
       "      <td>4.882627e+06</td>\n",
       "      <td>Macclesfield</td>\n",
       "    </tr>\n",
       "  </tbody>\n",
       "</table>\n",
       "</div>"
      ],
      "text/plain": [
       "   Latitude       Ls  MY Which  fraction  n_objects                  obsid  \\\n",
       "0  -85.4074  214.785  29  both     0.115        933  ESP_012079_0945_COLOR   \n",
       "1  -85.4065  183.727  29  both     0.070       1971  ESP_011407_0945_COLOR   \n",
       "2  -85.4056  198.040  29  both     0.072       1525  ESP_011723_0945_COLOR   \n",
       "3  -85.4049  207.892  29  both     0.168        788  ESP_011934_0945_COLOR   \n",
       "4  -85.4067  235.282  29  both     0.111       1285  ESP_012501_0945_COLOR   \n",
       "\n",
       "     pixel_area   region_name  \n",
       "0  2.551911e+07  Macclesfield  \n",
       "1  2.592302e+06  Macclesfield  \n",
       "2  8.455380e+06  Macclesfield  \n",
       "3  7.357966e+06  Macclesfield  \n",
       "4  4.882627e+06  Macclesfield  "
      ]
     },
     "execution_count": 12,
     "metadata": {},
     "output_type": "execute_result"
    },
    {
     "data": {
      "application/javascript": [
       "\n",
       "        setTimeout(function() {\n",
       "            var nbb_cell_id = 12;\n",
       "            var nbb_formatted_code = \"data.head()\";\n",
       "            var nbb_cells = Jupyter.notebook.get_cells();\n",
       "            for (var i = 0; i < nbb_cells.length; ++i) {\n",
       "                if (nbb_cells[i].input_prompt_number == nbb_cell_id) {\n",
       "                    nbb_cells[i].set_text(nbb_formatted_code);\n",
       "                    break;\n",
       "                }\n",
       "            }\n",
       "        }, 500);\n",
       "        "
      ],
      "text/plain": [
       "<IPython.core.display.Javascript object>"
      ]
     },
     "metadata": {},
     "output_type": "display_data"
    }
   ],
   "source": [
    "data.head()"
   ]
  },
  {
   "cell_type": "code",
   "execution_count": 13,
   "metadata": {},
   "outputs": [
    {
     "data": {
      "application/javascript": [
       "\n",
       "        setTimeout(function() {\n",
       "            var nbb_cell_id = 13;\n",
       "            var nbb_formatted_code = \"obsdic = {}\\nfor region in all_regions[:]:\\n    df1 = data.loc[data[\\\"region_name\\\"] == region]\\n    obsdic[f\\\"{region}\\\"] = df1.obsid\\n# exactly what we want, now just print off the respective dicts,\\n# copy/paste into the jmars and do the undergrad garbage\";\n",
       "            var nbb_cells = Jupyter.notebook.get_cells();\n",
       "            for (var i = 0; i < nbb_cells.length; ++i) {\n",
       "                if (nbb_cells[i].input_prompt_number == nbb_cell_id) {\n",
       "                    nbb_cells[i].set_text(nbb_formatted_code);\n",
       "                    break;\n",
       "                }\n",
       "            }\n",
       "        }, 500);\n",
       "        "
      ],
      "text/plain": [
       "<IPython.core.display.Javascript object>"
      ]
     },
     "metadata": {},
     "output_type": "display_data"
    }
   ],
   "source": [
    "obsdic = {}\n",
    "for region in all_regions[:]:\n",
    "    df1 = data.loc[data[\"region_name\"] == region]\n",
    "    obsdic[f\"{region}\"] = df1.obsid\n",
    "# exactly what we want, now just print off the respective dicts,\n",
    "# copy/paste into the jmars and do the undergrad garbage"
   ]
  },
  {
   "cell_type": "code",
   "execution_count": 14,
   "metadata": {},
   "outputs": [
    {
     "data": {
      "application/javascript": [
       "\n",
       "        setTimeout(function() {\n",
       "            var nbb_cell_id = 14;\n",
       "            var nbb_formatted_code = \"import csv\";\n",
       "            var nbb_cells = Jupyter.notebook.get_cells();\n",
       "            for (var i = 0; i < nbb_cells.length; ++i) {\n",
       "                if (nbb_cells[i].input_prompt_number == nbb_cell_id) {\n",
       "                    nbb_cells[i].set_text(nbb_formatted_code);\n",
       "                    break;\n",
       "                }\n",
       "            }\n",
       "        }, 500);\n",
       "        "
      ],
      "text/plain": [
       "<IPython.core.display.Javascript object>"
      ]
     },
     "metadata": {},
     "output_type": "display_data"
    }
   ],
   "source": [
    "import csv"
   ]
  },
  {
   "cell_type": "code",
   "execution_count": 15,
   "metadata": {},
   "outputs": [
    {
     "data": {
      "application/javascript": [
       "\n",
       "        setTimeout(function() {\n",
       "            var nbb_cell_id = 15;\n",
       "            var nbb_formatted_code = \"for region in all_regions[:]:\\n    w = csv.writer(open(f\\\"{region}_obsid_list.txt\\\", \\\"w\\\"))\\n    for key, val in obsdic[region].items():\\n        w.writerow([val])\";\n",
       "            var nbb_cells = Jupyter.notebook.get_cells();\n",
       "            for (var i = 0; i < nbb_cells.length; ++i) {\n",
       "                if (nbb_cells[i].input_prompt_number == nbb_cell_id) {\n",
       "                    nbb_cells[i].set_text(nbb_formatted_code);\n",
       "                    break;\n",
       "                }\n",
       "            }\n",
       "        }, 500);\n",
       "        "
      ],
      "text/plain": [
       "<IPython.core.display.Javascript object>"
      ]
     },
     "metadata": {},
     "output_type": "display_data"
    }
   ],
   "source": [
    "for region in all_regions[:]:\n",
    "    w = csv.writer(open(f\"{region}_obsid_list.txt\", \"w\"))\n",
    "    for key, val in obsdic[region].items():\n",
    "        w.writerow([val])"
   ]
  },
  {
   "cell_type": "code",
   "execution_count": null,
   "metadata": {},
   "outputs": [],
   "source": []
  }
 ],
 "metadata": {
  "kernelspec": {
   "display_name": "Python 3",
   "language": "python",
   "name": "python3"
  },
  "language_info": {
   "codemirror_mode": {
    "name": "ipython",
    "version": 3
   },
   "file_extension": ".py",
   "mimetype": "text/x-python",
   "name": "python",
   "nbconvert_exporter": "python",
   "pygments_lexer": "ipython3",
   "version": "3.7.1"
  }
 },
 "nbformat": 4,
 "nbformat_minor": 2
}
