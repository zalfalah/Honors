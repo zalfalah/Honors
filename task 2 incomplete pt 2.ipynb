{
 "cells": [
  {
   "cell_type": "markdown",
   "metadata": {
    "toc": true
   },
   "source": [
    "<h1>Table of Contents<span class=\"tocSkip\"></span></h1>\n",
    "<div class=\"toc\"><ul class=\"toc-item\"></ul></div>"
   ]
  },
  {
   "cell_type": "raw",
   "metadata": {},
   "source": [
    "To get barplot hue to work need to add special flags on to either blotch or fan data so that I can set variable hue=’flag_name’ and make it plot easily when plotting data=mixed\n",
    "To do this can just add an extra column, make boolean, set default to be fans==true,\n",
    "blotch== false?  Then merge the datasets into mixed\n",
    "^^^^^\n",
    "Can also read out first letter of marking ID as it's either an F or a B.  \n",
    "marking_id.str\n",
    "or little function with lambda trick from last meeting; marking_id.map(lambda x : x[0])  This returns first character in each marking_id, returns either F or B\n",
    "\n",
    "\n",
    "Pivot to make x=marking id, y = l_s, can have data=mixed and hue=flag when set up properly but try with smaller datasets first since it takes so long\n",
    "\n",
    "How to do barplot with headers (smaller data sets?)\n",
    "\n",
    "Barplots with mcl,bcl- how to make useful? Split into columns?\n",
    "\n",
    "\n"
   ]
  },
  {
   "cell_type": "code",
   "execution_count": 1,
   "metadata": {
    "ExecuteTime": {
     "end_time": "2018-10-08T23:06:20.493526Z",
     "start_time": "2018-10-08T23:06:17.805576Z"
    }
   },
   "outputs": [],
   "source": [
    "import numpy as np\n",
    "import matplotlib.pyplot as plt\n",
    "import pandas as pd\n",
    "import seaborn as sns\n",
    "import scipy as sp\n",
    "%matplotlib inline"
   ]
  },
  {
   "cell_type": "code",
   "execution_count": 2,
   "metadata": {
    "ExecuteTime": {
     "end_time": "2018-10-08T23:06:26.650231Z",
     "start_time": "2018-10-08T23:06:26.621562Z"
    }
   },
   "outputs": [],
   "source": [
    "from pathlib import Path"
   ]
  },
  {
   "cell_type": "code",
   "execution_count": 4,
   "metadata": {
    "ExecuteTime": {
     "end_time": "2018-10-08T23:07:10.217949Z",
     "start_time": "2018-10-08T23:07:10.188878Z"
    }
   },
   "outputs": [
    {
     "ename": "SyntaxError",
     "evalue": "EOL while scanning string literal (<ipython-input-4-6a4cd7562826>, line 1)",
     "output_type": "error",
     "traceback": [
      "\u001b[0;36m  File \u001b[0;32m\"<ipython-input-4-6a4cd7562826>\"\u001b[0;36m, line \u001b[0;32m1\u001b[0m\n\u001b[0;31m    basedir = Path(\"C:\\Users\\Zade\\Desktop\\HonorsMaterials\\ForTask1\\p4_analysis\\P4_catalog_v1.0\\\")\u001b[0m\n\u001b[0m                                                                                                 ^\u001b[0m\n\u001b[0;31mSyntaxError\u001b[0m\u001b[0;31m:\u001b[0m EOL while scanning string literal\n"
     ]
    }
   ],
   "source": [
    "basedir = Path(\"C:\\Users\\Zade\\Desktop\\HonorsMaterials\\ForTask1\\p4_analysis\\P4_catalog_v1.0\\\")"
   ]
  },
  {
   "cell_type": "code",
   "execution_count": 28,
   "metadata": {
    "ExecuteTime": {
     "end_time": "2018-10-08T23:13:13.879834Z",
     "start_time": "2018-10-08T23:13:13.853537Z"
    }
   },
   "outputs": [],
   "source": [
    "basedir = Path(\"/Users/klay6683/Dropbox/data/planet4/p4_for_Zade/P4_catalog_v1.1/\")"
   ]
  },
  {
   "cell_type": "code",
   "execution_count": 30,
   "metadata": {
    "ExecuteTime": {
     "end_time": "2018-10-08T23:13:30.207349Z",
     "start_time": "2018-10-08T23:13:29.101774Z"
    }
   },
   "outputs": [],
   "source": [
    "blotch = pd.read_csv( basedir / \"P4_catalog_v1.1_L1C_cut_0.5_blotch.csv\")"
   ]
  },
  {
   "cell_type": "code",
   "execution_count": 31,
   "metadata": {
    "ExecuteTime": {
     "end_time": "2018-10-08T23:13:31.977440Z",
     "start_time": "2018-10-08T23:13:31.933180Z"
    }
   },
   "outputs": [
    {
     "data": {
      "text/html": [
       "<div>\n",
       "<style scoped>\n",
       "    .dataframe tbody tr th:only-of-type {\n",
       "        vertical-align: middle;\n",
       "    }\n",
       "\n",
       "    .dataframe tbody tr th {\n",
       "        vertical-align: top;\n",
       "    }\n",
       "\n",
       "    .dataframe thead th {\n",
       "        text-align: right;\n",
       "    }\n",
       "</style>\n",
       "<table border=\"1\" class=\"dataframe\">\n",
       "  <thead>\n",
       "    <tr style=\"text-align: right;\">\n",
       "      <th></th>\n",
       "      <th>marking_id</th>\n",
       "      <th>angle</th>\n",
       "      <th>tile_id</th>\n",
       "      <th>image_x</th>\n",
       "      <th>image_y</th>\n",
       "      <th>n_votes</th>\n",
       "      <th>obsid</th>\n",
       "      <th>radius_1</th>\n",
       "      <th>radius_2</th>\n",
       "      <th>vote_ratio</th>\n",
       "      <th>...</th>\n",
       "      <th>y_angle</th>\n",
       "      <th>l_s</th>\n",
       "      <th>map_scale</th>\n",
       "      <th>north_azimuth</th>\n",
       "      <th>BodyFixedCoordinateX</th>\n",
       "      <th>BodyFixedCoordinateY</th>\n",
       "      <th>BodyFixedCoordinateZ</th>\n",
       "      <th>PlanetocentricLatitude</th>\n",
       "      <th>PlanetographicLatitude</th>\n",
       "      <th>Longitude</th>\n",
       "    </tr>\n",
       "  </thead>\n",
       "  <tbody>\n",
       "    <tr>\n",
       "      <th>0</th>\n",
       "      <td>B000000</td>\n",
       "      <td>2.28</td>\n",
       "      <td>APF0000cia</td>\n",
       "      <td>3330.27</td>\n",
       "      <td>5573.00</td>\n",
       "      <td>4</td>\n",
       "      <td>ESP_012079_0945</td>\n",
       "      <td>22.13</td>\n",
       "      <td>15.78</td>\n",
       "      <td>1.00</td>\n",
       "      <td>...</td>\n",
       "      <td>0.10</td>\n",
       "      <td>214.785</td>\n",
       "      <td>0.25</td>\n",
       "      <td>126.856883</td>\n",
       "      <td>-67.239204</td>\n",
       "      <td>257.001479</td>\n",
       "      <td>-3370.630963</td>\n",
       "      <td>-85.493625</td>\n",
       "      <td>-85.546304</td>\n",
       "      <td>104.661641</td>\n",
       "    </tr>\n",
       "    <tr>\n",
       "      <th>1</th>\n",
       "      <td>B000001</td>\n",
       "      <td>1.38</td>\n",
       "      <td>APF0000cia</td>\n",
       "      <td>3593.60</td>\n",
       "      <td>5706.40</td>\n",
       "      <td>5</td>\n",
       "      <td>ESP_012079_0945</td>\n",
       "      <td>25.55</td>\n",
       "      <td>15.73</td>\n",
       "      <td>0.55</td>\n",
       "      <td>...</td>\n",
       "      <td>0.05</td>\n",
       "      <td>214.785</td>\n",
       "      <td>0.25</td>\n",
       "      <td>126.856883</td>\n",
       "      <td>-67.166591</td>\n",
       "      <td>257.008699</td>\n",
       "      <td>-3370.633997</td>\n",
       "      <td>-85.493821</td>\n",
       "      <td>-85.546498</td>\n",
       "      <td>104.646095</td>\n",
       "    </tr>\n",
       "    <tr>\n",
       "      <th>2</th>\n",
       "      <td>B000004</td>\n",
       "      <td>7.16</td>\n",
       "      <td>APF0000cic</td>\n",
       "      <td>98.10</td>\n",
       "      <td>34394.70</td>\n",
       "      <td>10</td>\n",
       "      <td>ESP_012079_0945</td>\n",
       "      <td>84.54</td>\n",
       "      <td>48.33</td>\n",
       "      <td>1.00</td>\n",
       "      <td>...</td>\n",
       "      <td>0.18</td>\n",
       "      <td>214.785</td>\n",
       "      <td>0.25</td>\n",
       "      <td>126.856883</td>\n",
       "      <td>-65.402430</td>\n",
       "      <td>263.908435</td>\n",
       "      <td>-3370.353989</td>\n",
       "      <td>-85.387847</td>\n",
       "      <td>-85.441752</td>\n",
       "      <td>103.918757</td>\n",
       "    </tr>\n",
       "    <tr>\n",
       "      <th>3</th>\n",
       "      <td>B000005</td>\n",
       "      <td>81.00</td>\n",
       "      <td>APF0000cic</td>\n",
       "      <td>825.58</td>\n",
       "      <td>34203.38</td>\n",
       "      <td>8</td>\n",
       "      <td>ESP_012079_0945</td>\n",
       "      <td>51.92</td>\n",
       "      <td>35.12</td>\n",
       "      <td>1.00</td>\n",
       "      <td>...</td>\n",
       "      <td>0.97</td>\n",
       "      <td>214.785</td>\n",
       "      <td>0.25</td>\n",
       "      <td>126.856883</td>\n",
       "      <td>-65.252200</td>\n",
       "      <td>263.799557</td>\n",
       "      <td>-3370.366323</td>\n",
       "      <td>-85.390259</td>\n",
       "      <td>-85.444136</td>\n",
       "      <td>103.893535</td>\n",
       "    </tr>\n",
       "    <tr>\n",
       "      <th>4</th>\n",
       "      <td>B000006</td>\n",
       "      <td>14.66</td>\n",
       "      <td>APF0000cic</td>\n",
       "      <td>152.67</td>\n",
       "      <td>34155.33</td>\n",
       "      <td>3</td>\n",
       "      <td>ESP_012079_0945</td>\n",
       "      <td>184.94</td>\n",
       "      <td>71.25</td>\n",
       "      <td>1.00</td>\n",
       "      <td>...</td>\n",
       "      <td>0.25</td>\n",
       "      <td>214.785</td>\n",
       "      <td>0.25</td>\n",
       "      <td>126.856883</td>\n",
       "      <td>-65.411364</td>\n",
       "      <td>263.848867</td>\n",
       "      <td>-3370.358955</td>\n",
       "      <td>-85.388794</td>\n",
       "      <td>-85.442688</td>\n",
       "      <td>103.923605</td>\n",
       "    </tr>\n",
       "  </tbody>\n",
       "</table>\n",
       "<p>5 rows × 23 columns</p>\n",
       "</div>"
      ],
      "text/plain": [
       "  marking_id  angle     tile_id  image_x   image_y  n_votes            obsid  \\\n",
       "0    B000000   2.28  APF0000cia  3330.27   5573.00        4  ESP_012079_0945   \n",
       "1    B000001   1.38  APF0000cia  3593.60   5706.40        5  ESP_012079_0945   \n",
       "2    B000004   7.16  APF0000cic    98.10  34394.70       10  ESP_012079_0945   \n",
       "3    B000005  81.00  APF0000cic   825.58  34203.38        8  ESP_012079_0945   \n",
       "4    B000006  14.66  APF0000cic   152.67  34155.33        3  ESP_012079_0945   \n",
       "\n",
       "   radius_1  radius_2  vote_ratio     ...      y_angle      l_s  map_scale  \\\n",
       "0     22.13     15.78        1.00     ...         0.10  214.785       0.25   \n",
       "1     25.55     15.73        0.55     ...         0.05  214.785       0.25   \n",
       "2     84.54     48.33        1.00     ...         0.18  214.785       0.25   \n",
       "3     51.92     35.12        1.00     ...         0.97  214.785       0.25   \n",
       "4    184.94     71.25        1.00     ...         0.25  214.785       0.25   \n",
       "\n",
       "   north_azimuth  BodyFixedCoordinateX  BodyFixedCoordinateY  \\\n",
       "0     126.856883            -67.239204            257.001479   \n",
       "1     126.856883            -67.166591            257.008699   \n",
       "2     126.856883            -65.402430            263.908435   \n",
       "3     126.856883            -65.252200            263.799557   \n",
       "4     126.856883            -65.411364            263.848867   \n",
       "\n",
       "   BodyFixedCoordinateZ  PlanetocentricLatitude  PlanetographicLatitude  \\\n",
       "0          -3370.630963              -85.493625              -85.546304   \n",
       "1          -3370.633997              -85.493821              -85.546498   \n",
       "2          -3370.353989              -85.387847              -85.441752   \n",
       "3          -3370.366323              -85.390259              -85.444136   \n",
       "4          -3370.358955              -85.388794              -85.442688   \n",
       "\n",
       "    Longitude  \n",
       "0  104.661641  \n",
       "1  104.646095  \n",
       "2  103.918757  \n",
       "3  103.893535  \n",
       "4  103.923605  \n",
       "\n",
       "[5 rows x 23 columns]"
      ]
     },
     "execution_count": 31,
     "metadata": {},
     "output_type": "execute_result"
    }
   ],
   "source": [
    "blotch.head()#check that it loaded"
   ]
  },
  {
   "cell_type": "code",
   "execution_count": 33,
   "metadata": {
    "ExecuteTime": {
     "end_time": "2018-10-08T23:13:42.379598Z",
     "start_time": "2018-10-08T23:13:41.620816Z"
    }
   },
   "outputs": [],
   "source": [
    "fans = pd.read_csv( basedir / \"P4_catalog_v1.1_L1C_cut_0.5_fan.csv\")"
   ]
  },
  {
   "cell_type": "code",
   "execution_count": 34,
   "metadata": {
    "ExecuteTime": {
     "end_time": "2018-10-08T23:13:43.884651Z",
     "start_time": "2018-10-08T23:13:43.771566Z"
    }
   },
   "outputs": [],
   "source": [
    "mixed = pd.concat([blotch, fans], ignore_index=True, sort=False)"
   ]
  },
  {
   "cell_type": "code",
   "execution_count": 35,
   "metadata": {
    "ExecuteTime": {
     "end_time": "2018-10-08T23:13:44.762379Z",
     "start_time": "2018-10-08T23:13:44.735108Z"
    }
   },
   "outputs": [
    {
     "data": {
      "text/plain": [
       "True"
      ]
     },
     "execution_count": 35,
     "metadata": {},
     "output_type": "execute_result"
    }
   ],
   "source": [
    "mixed.index.is_unique #can prevent w/ concat options ignore_index=True"
   ]
  },
  {
   "cell_type": "code",
   "execution_count": 36,
   "metadata": {
    "ExecuteTime": {
     "end_time": "2018-10-08T23:13:47.043264Z",
     "start_time": "2018-10-08T23:13:46.963401Z"
    }
   },
   "outputs": [],
   "source": [
    "group_fan = fans.groupby(\"obsid\")\n",
    "group_blotch = blotch.groupby(\"obsid\")\n",
    "fcl = group_fan.marking_id.count() #this is the same as group_fan.size()\n",
    "bcl = group_blotch.marking_id.count() #this is the same as group_blotch.size()\n",
    "#keys are obsids, values are the data frames for each object (n_votes, radii, l_s, etc)"
   ]
  },
  {
   "cell_type": "code",
   "execution_count": 8,
   "metadata": {
    "collapsed": true
   },
   "outputs": [],
   "source": [
    "#visualizing the data frames\n",
    "#for obsid, obsid_df in group_fan:\n",
    "#    print(obsid)\n",
    "#    print(obsid_df)"
   ]
  },
  {
   "cell_type": "code",
   "execution_count": 9,
   "metadata": {
    "collapsed": true
   },
   "outputs": [],
   "source": [
    "#visualizing the data frames\n",
    "#group_fan.get_group('ESP_011296_0975').head"
   ]
  },
  {
   "cell_type": "code",
   "execution_count": 10,
   "metadata": {
    "collapsed": true
   },
   "outputs": [],
   "source": [
    "#bcl.loc['ESP_011296_0975'] "
   ]
  },
  {
   "cell_type": "code",
   "execution_count": 11,
   "metadata": {
    "collapsed": true
   },
   "outputs": [],
   "source": [
    "#group_fan.describe()"
   ]
  },
  {
   "cell_type": "code",
   "execution_count": 37,
   "metadata": {
    "ExecuteTime": {
     "end_time": "2018-10-08T23:13:50.415930Z",
     "start_time": "2018-10-08T23:13:50.388206Z"
    },
    "scrolled": true
   },
   "outputs": [
    {
     "data": {
      "text/plain": [
       "obsid\n",
       "ESP_011296_0975    1014\n",
       "ESP_011341_0980     283\n",
       "ESP_011348_0950     195\n",
       "ESP_011350_0945     625\n",
       "ESP_011351_0945    1167\n",
       "Name: marking_id, dtype: int64"
      ]
     },
     "execution_count": 37,
     "metadata": {},
     "output_type": "execute_result"
    }
   ],
   "source": [
    "bcl.head()"
   ]
  },
  {
   "cell_type": "code",
   "execution_count": 38,
   "metadata": {
    "ExecuteTime": {
     "end_time": "2018-10-08T23:13:51.366833Z",
     "start_time": "2018-10-08T23:13:51.338520Z"
    }
   },
   "outputs": [
    {
     "data": {
      "text/plain": [
       "obsid\n",
       "ESP_011296_0975    4472\n",
       "ESP_011341_0980     455\n",
       "ESP_011348_0950       4\n",
       "ESP_011350_0945    1107\n",
       "ESP_011351_0945    1636\n",
       "Name: marking_id, dtype: int64"
      ]
     },
     "execution_count": 38,
     "metadata": {},
     "output_type": "execute_result"
    }
   ],
   "source": [
    "fcl.head()"
   ]
  },
  {
   "cell_type": "code",
   "execution_count": 39,
   "metadata": {
    "ExecuteTime": {
     "end_time": "2018-10-08T23:13:52.250414Z",
     "start_time": "2018-10-08T23:13:52.222375Z"
    }
   },
   "outputs": [
    {
     "data": {
      "text/plain": [
       "obsid\n",
       "ESP_011296_0975    1014\n",
       "ESP_011341_0980     283\n",
       "ESP_011348_0950     195\n",
       "ESP_011350_0945     625\n",
       "ESP_011351_0945    1167\n",
       "Name: marking_id, dtype: int64"
      ]
     },
     "execution_count": 39,
     "metadata": {},
     "output_type": "execute_result"
    }
   ],
   "source": [
    "bcl.head()"
   ]
  },
  {
   "cell_type": "code",
   "execution_count": 40,
   "metadata": {
    "ExecuteTime": {
     "end_time": "2018-10-08T23:13:54.475728Z",
     "start_time": "2018-10-08T23:13:54.267139Z"
    }
   },
   "outputs": [],
   "source": [
    "group_mix = mixed.groupby('obsid')\n",
    "mcl = group_mix.marking_id.count() #=group_mix.size()"
   ]
  },
  {
   "cell_type": "code",
   "execution_count": 41,
   "metadata": {
    "ExecuteTime": {
     "end_time": "2018-10-08T23:13:55.186065Z",
     "start_time": "2018-10-08T23:13:55.158322Z"
    }
   },
   "outputs": [
    {
     "data": {
      "text/plain": [
       "obsid\n",
       "ESP_011296_0975    5486\n",
       "ESP_011341_0980     738\n",
       "ESP_011348_0950     199\n",
       "ESP_011350_0945    1732\n",
       "ESP_011351_0945    2803\n",
       "Name: marking_id, dtype: int64"
      ]
     },
     "execution_count": 41,
     "metadata": {},
     "output_type": "execute_result"
    }
   ],
   "source": [
    "mcl.head()"
   ]
  },
  {
   "cell_type": "code",
   "execution_count": 42,
   "metadata": {
    "ExecuteTime": {
     "end_time": "2018-10-08T23:13:55.885703Z",
     "start_time": "2018-10-08T23:13:55.858275Z"
    }
   },
   "outputs": [
    {
     "data": {
      "text/plain": [
       "20923"
      ]
     },
     "execution_count": 42,
     "metadata": {},
     "output_type": "execute_result"
    }
   ],
   "source": [
    "mcl.values.max()"
   ]
  },
  {
   "cell_type": "code",
   "execution_count": 43,
   "metadata": {
    "ExecuteTime": {
     "end_time": "2018-10-08T23:13:57.198622Z",
     "start_time": "2018-10-08T23:13:57.171084Z"
    }
   },
   "outputs": [
    {
     "data": {
      "text/plain": [
       "21"
      ]
     },
     "execution_count": 43,
     "metadata": {},
     "output_type": "execute_result"
    }
   ],
   "source": [
    "mcl.values.min()"
   ]
  },
  {
   "cell_type": "code",
   "execution_count": 44,
   "metadata": {
    "ExecuteTime": {
     "end_time": "2018-10-08T23:13:58.694851Z",
     "start_time": "2018-10-08T23:13:58.667316Z"
    }
   },
   "outputs": [],
   "source": [
    "littleblotch=blotch.head(100)"
   ]
  },
  {
   "cell_type": "code",
   "execution_count": 45,
   "metadata": {
    "ExecuteTime": {
     "end_time": "2018-10-08T23:13:59.407445Z",
     "start_time": "2018-10-08T23:13:59.373932Z"
    }
   },
   "outputs": [],
   "source": [
    "littlefans=fans.head(100)"
   ]
  },
  {
   "cell_type": "code",
   "execution_count": 46,
   "metadata": {
    "ExecuteTime": {
     "end_time": "2018-10-08T23:14:00.110886Z",
     "start_time": "2018-10-08T23:14:00.061280Z"
    }
   },
   "outputs": [],
   "source": [
    "littlemix=mixed.head(100)"
   ]
  },
  {
   "cell_type": "code",
   "execution_count": 47,
   "metadata": {
    "ExecuteTime": {
     "end_time": "2018-10-08T23:14:01.231417Z",
     "start_time": "2018-10-08T23:14:01.203051Z"
    }
   },
   "outputs": [
    {
     "data": {
      "text/plain": [
       "RangeIndex(start=0, stop=158476, step=1)"
      ]
     },
     "execution_count": 47,
     "metadata": {},
     "output_type": "execute_result"
    }
   ],
   "source": [
    "fans.index"
   ]
  },
  {
   "cell_type": "code",
   "execution_count": 48,
   "metadata": {
    "ExecuteTime": {
     "end_time": "2018-10-08T23:14:04.534568Z",
     "start_time": "2018-10-08T23:14:04.506839Z"
    }
   },
   "outputs": [
    {
     "data": {
      "text/plain": [
       "True"
      ]
     },
     "execution_count": 48,
     "metadata": {},
     "output_type": "execute_result"
    }
   ],
   "source": [
    "fans.index.is_unique"
   ]
  },
  {
   "cell_type": "code",
   "execution_count": 49,
   "metadata": {
    "ExecuteTime": {
     "end_time": "2018-10-08T23:14:07.755270Z",
     "start_time": "2018-10-08T23:14:07.691170Z"
    }
   },
   "outputs": [
    {
     "data": {
      "text/plain": [
       "158476"
      ]
     },
     "execution_count": 49,
     "metadata": {},
     "output_type": "execute_result"
    }
   ],
   "source": [
    "fans.marking_id.nunique()"
   ]
  },
  {
   "cell_type": "code",
   "execution_count": 50,
   "metadata": {
    "ExecuteTime": {
     "end_time": "2018-10-08T23:14:09.910732Z",
     "start_time": "2018-10-08T23:14:09.882945Z"
    }
   },
   "outputs": [
    {
     "data": {
      "text/plain": [
       "(158476, 24)"
      ]
     },
     "execution_count": 50,
     "metadata": {},
     "output_type": "execute_result"
    }
   ],
   "source": [
    "fans.shape"
   ]
  },
  {
   "cell_type": "code",
   "execution_count": 51,
   "metadata": {
    "ExecuteTime": {
     "end_time": "2018-10-08T23:14:20.122103Z",
     "start_time": "2018-10-08T23:14:19.849817Z"
    },
    "scrolled": true
   },
   "outputs": [
    {
     "data": {
      "text/plain": [
       "False    158476\n",
       "dtype: int64"
      ]
     },
     "execution_count": 51,
     "metadata": {},
     "output_type": "execute_result"
    }
   ],
   "source": [
    "fans.duplicated().value_counts()"
   ]
  },
  {
   "cell_type": "code",
   "execution_count": 52,
   "metadata": {
    "ExecuteTime": {
     "end_time": "2018-10-08T23:14:30.956909Z",
     "start_time": "2018-10-08T23:14:30.906026Z"
    }
   },
   "outputs": [
    {
     "data": {
      "text/plain": [
       "False    158476\n",
       "Name: marking_id, dtype: int64"
      ]
     },
     "execution_count": 52,
     "metadata": {},
     "output_type": "execute_result"
    }
   ],
   "source": [
    "fans.marking_id.duplicated().value_counts()"
   ]
  },
  {
   "cell_type": "code",
   "execution_count": 27,
   "metadata": {},
   "outputs": [],
   "source": [
    "#fans[fans.marking_id.duplicated()]    "
   ]
  },
  {
   "cell_type": "code",
   "execution_count": 30,
   "metadata": {},
   "outputs": [],
   "source": [
    "#littlemix.pivot(index='marking_id', columns='obsid', values='l_s') #this line doesn't work, would be nice to make smaller data\n",
    "#to test pivoting "
   ]
  },
  {
   "cell_type": "code",
   "execution_count": 59,
   "metadata": {
    "ExecuteTime": {
     "end_time": "2018-10-08T23:16:12.307193Z",
     "start_time": "2018-10-08T23:16:12.278989Z"
    }
   },
   "outputs": [
    {
     "data": {
      "text/plain": [
       "obsid\n",
       "ESP_011296_0975    5486\n",
       "Name: marking_id, dtype: int64"
      ]
     },
     "execution_count": 59,
     "metadata": {},
     "output_type": "execute_result"
    }
   ],
   "source": [
    "mcl.head(1)"
   ]
  },
  {
   "cell_type": "code",
   "execution_count": 61,
   "metadata": {
    "ExecuteTime": {
     "end_time": "2018-10-08T23:17:34.953556Z",
     "start_time": "2018-10-08T23:17:34.925036Z"
    }
   },
   "outputs": [
    {
     "data": {
      "text/plain": [
       "obsid\n",
       "ESP_011296_0975    4472\n",
       "Name: marking_id, dtype: int64"
      ]
     },
     "execution_count": 61,
     "metadata": {},
     "output_type": "execute_result"
    }
   ],
   "source": [
    "fcl.head(1)"
   ]
  },
  {
   "cell_type": "code",
   "execution_count": 62,
   "metadata": {
    "ExecuteTime": {
     "end_time": "2018-10-08T23:17:47.199092Z",
     "start_time": "2018-10-08T23:17:47.171494Z"
    }
   },
   "outputs": [
    {
     "data": {
      "text/plain": [
       "obsid\n",
       "ESP_011296_0975    1014\n",
       "Name: marking_id, dtype: int64"
      ]
     },
     "execution_count": 62,
     "metadata": {},
     "output_type": "execute_result"
    }
   ],
   "source": [
    "bcl.head(1)"
   ]
  },
  {
   "cell_type": "code",
   "execution_count": 63,
   "metadata": {
    "ExecuteTime": {
     "end_time": "2018-10-08T23:17:54.518864Z",
     "start_time": "2018-10-08T23:17:54.491244Z"
    }
   },
   "outputs": [
    {
     "data": {
      "text/plain": [
       "5486"
      ]
     },
     "execution_count": 63,
     "metadata": {},
     "output_type": "execute_result"
    }
   ],
   "source": [
    "1014+4472"
   ]
  },
  {
   "cell_type": "code",
   "execution_count": 66,
   "metadata": {
    "ExecuteTime": {
     "end_time": "2018-10-08T23:19:23.987687Z",
     "start_time": "2018-10-08T23:19:23.959875Z"
    }
   },
   "outputs": [
    {
     "data": {
      "text/plain": [
       "obsid\n",
       "ESP_011296_0975    5486\n",
       "ESP_011341_0980     738\n",
       "ESP_011348_0950     199\n",
       "ESP_011350_0945    1732\n",
       "ESP_011351_0945    2803\n",
       "Name: marking_id, dtype: int64"
      ]
     },
     "execution_count": 66,
     "metadata": {},
     "output_type": "execute_result"
    }
   ],
   "source": [
    "mcl.head()"
   ]
  },
  {
   "cell_type": "code",
   "execution_count": 68,
   "metadata": {
    "ExecuteTime": {
     "end_time": "2018-10-08T23:19:50.210196Z",
     "start_time": "2018-10-08T23:19:50.183214Z"
    }
   },
   "outputs": [],
   "source": [
    "mcl = mcl.to_frame()"
   ]
  },
  {
   "cell_type": "code",
   "execution_count": 69,
   "metadata": {
    "ExecuteTime": {
     "end_time": "2018-10-08T23:19:52.987992Z",
     "start_time": "2018-10-08T23:19:52.958851Z"
    }
   },
   "outputs": [
    {
     "data": {
      "text/html": [
       "<div>\n",
       "<style scoped>\n",
       "    .dataframe tbody tr th:only-of-type {\n",
       "        vertical-align: middle;\n",
       "    }\n",
       "\n",
       "    .dataframe tbody tr th {\n",
       "        vertical-align: top;\n",
       "    }\n",
       "\n",
       "    .dataframe thead th {\n",
       "        text-align: right;\n",
       "    }\n",
       "</style>\n",
       "<table border=\"1\" class=\"dataframe\">\n",
       "  <thead>\n",
       "    <tr style=\"text-align: right;\">\n",
       "      <th></th>\n",
       "      <th>marking_id</th>\n",
       "    </tr>\n",
       "    <tr>\n",
       "      <th>obsid</th>\n",
       "      <th></th>\n",
       "    </tr>\n",
       "  </thead>\n",
       "  <tbody>\n",
       "    <tr>\n",
       "      <th>ESP_011296_0975</th>\n",
       "      <td>5486</td>\n",
       "    </tr>\n",
       "    <tr>\n",
       "      <th>ESP_011341_0980</th>\n",
       "      <td>738</td>\n",
       "    </tr>\n",
       "    <tr>\n",
       "      <th>ESP_011348_0950</th>\n",
       "      <td>199</td>\n",
       "    </tr>\n",
       "    <tr>\n",
       "      <th>ESP_011350_0945</th>\n",
       "      <td>1732</td>\n",
       "    </tr>\n",
       "    <tr>\n",
       "      <th>ESP_011351_0945</th>\n",
       "      <td>2803</td>\n",
       "    </tr>\n",
       "  </tbody>\n",
       "</table>\n",
       "</div>"
      ],
      "text/plain": [
       "                 marking_id\n",
       "obsid                      \n",
       "ESP_011296_0975        5486\n",
       "ESP_011341_0980         738\n",
       "ESP_011348_0950         199\n",
       "ESP_011350_0945        1732\n",
       "ESP_011351_0945        2803"
      ]
     },
     "execution_count": 69,
     "metadata": {},
     "output_type": "execute_result"
    }
   ],
   "source": [
    "mcl.head()"
   ]
  },
  {
   "cell_type": "code",
   "execution_count": 70,
   "metadata": {
    "ExecuteTime": {
     "end_time": "2018-10-08T23:20:25.763377Z",
     "start_time": "2018-10-08T23:20:25.733987Z"
    }
   },
   "outputs": [
    {
     "data": {
      "text/plain": [
       "Index(['marking_id', 'angle', 'tile_id', 'image_x', 'image_y', 'n_votes',\n",
       "       'obsid', 'radius_1', 'radius_2', 'vote_ratio', 'x', 'y', 'x_angle',\n",
       "       'y_angle', 'l_s', 'map_scale', 'north_azimuth', 'BodyFixedCoordinateX',\n",
       "       'BodyFixedCoordinateY', 'BodyFixedCoordinateZ',\n",
       "       'PlanetocentricLatitude', 'PlanetographicLatitude', 'Longitude',\n",
       "       'distance', 'spread', 'version'],\n",
       "      dtype='object')"
      ]
     },
     "execution_count": 70,
     "metadata": {},
     "output_type": "execute_result"
    }
   ],
   "source": [
    "mixed.columns"
   ]
  },
  {
   "cell_type": "code",
   "execution_count": 71,
   "metadata": {
    "ExecuteTime": {
     "end_time": "2018-10-08T23:20:55.151836Z",
     "start_time": "2018-10-08T23:20:55.124586Z"
    }
   },
   "outputs": [
    {
     "data": {
      "text/plain": [
       "(408277, 26)"
      ]
     },
     "execution_count": 71,
     "metadata": {},
     "output_type": "execute_result"
    }
   ],
   "source": [
    "mixed.shape"
   ]
  },
  {
   "cell_type": "code",
   "execution_count": 75,
   "metadata": {
    "ExecuteTime": {
     "end_time": "2018-10-08T23:24:30.921622Z",
     "start_time": "2018-10-08T23:24:30.893003Z"
    }
   },
   "outputs": [
    {
     "data": {
      "text/plain": [
       "0    214.785\n",
       "1    214.785\n",
       "2    214.785\n",
       "3    214.785\n",
       "4    214.785\n",
       "Name: l_s, dtype: float64"
      ]
     },
     "execution_count": 75,
     "metadata": {},
     "output_type": "execute_result"
    }
   ],
   "source": [
    "mixed.l_s.head()"
   ]
  },
  {
   "cell_type": "code",
   "execution_count": 91,
   "metadata": {
    "ExecuteTime": {
     "end_time": "2018-10-08T23:37:41.886050Z",
     "start_time": "2018-10-08T23:37:41.832118Z"
    }
   },
   "outputs": [],
   "source": [
    "l_s_vs_obsid = mixed.drop_duplicates(subset='obsid').set_index('obsid').l_s"
   ]
  },
  {
   "cell_type": "code",
   "execution_count": 97,
   "metadata": {
    "ExecuteTime": {
     "end_time": "2018-10-08T23:41:30.004874Z",
     "start_time": "2018-10-08T23:41:29.976013Z"
    }
   },
   "outputs": [],
   "source": [
    "mcl = mcl.join(l_s_vs_obsid)"
   ]
  },
  {
   "cell_type": "code",
   "execution_count": 98,
   "metadata": {
    "ExecuteTime": {
     "end_time": "2018-10-08T23:41:35.060570Z",
     "start_time": "2018-10-08T23:41:35.031005Z"
    }
   },
   "outputs": [
    {
     "data": {
      "text/html": [
       "<div>\n",
       "<style scoped>\n",
       "    .dataframe tbody tr th:only-of-type {\n",
       "        vertical-align: middle;\n",
       "    }\n",
       "\n",
       "    .dataframe tbody tr th {\n",
       "        vertical-align: top;\n",
       "    }\n",
       "\n",
       "    .dataframe thead th {\n",
       "        text-align: right;\n",
       "    }\n",
       "</style>\n",
       "<table border=\"1\" class=\"dataframe\">\n",
       "  <thead>\n",
       "    <tr style=\"text-align: right;\">\n",
       "      <th></th>\n",
       "      <th>marking_id</th>\n",
       "      <th>l_s</th>\n",
       "    </tr>\n",
       "    <tr>\n",
       "      <th>obsid</th>\n",
       "      <th></th>\n",
       "      <th></th>\n",
       "    </tr>\n",
       "  </thead>\n",
       "  <tbody>\n",
       "    <tr>\n",
       "      <th>ESP_011296_0975</th>\n",
       "      <td>5486</td>\n",
       "      <td>178.833</td>\n",
       "    </tr>\n",
       "    <tr>\n",
       "      <th>ESP_011341_0980</th>\n",
       "      <td>738</td>\n",
       "      <td>180.809</td>\n",
       "    </tr>\n",
       "    <tr>\n",
       "      <th>ESP_011348_0950</th>\n",
       "      <td>199</td>\n",
       "      <td>181.117</td>\n",
       "    </tr>\n",
       "    <tr>\n",
       "      <th>ESP_011350_0945</th>\n",
       "      <td>1732</td>\n",
       "      <td>181.205</td>\n",
       "    </tr>\n",
       "    <tr>\n",
       "      <th>ESP_011351_0945</th>\n",
       "      <td>2803</td>\n",
       "      <td>181.249</td>\n",
       "    </tr>\n",
       "  </tbody>\n",
       "</table>\n",
       "</div>"
      ],
      "text/plain": [
       "                 marking_id      l_s\n",
       "obsid                               \n",
       "ESP_011296_0975        5486  178.833\n",
       "ESP_011341_0980         738  180.809\n",
       "ESP_011348_0950         199  181.117\n",
       "ESP_011350_0945        1732  181.205\n",
       "ESP_011351_0945        2803  181.249"
      ]
     },
     "execution_count": 98,
     "metadata": {},
     "output_type": "execute_result"
    }
   ],
   "source": [
    "mcl.head()"
   ]
  },
  {
   "cell_type": "code",
   "execution_count": 99,
   "metadata": {
    "ExecuteTime": {
     "end_time": "2018-10-08T23:41:54.164671Z",
     "start_time": "2018-10-08T23:41:53.886962Z"
    }
   },
   "outputs": [
    {
     "data": {
      "text/plain": [
       "<matplotlib.axes._subplots.AxesSubplot at 0x11d35a7b8>"
      ]
     },
     "execution_count": 99,
     "metadata": {},
     "output_type": "execute_result"
    },
    {
     "data": {
      "image/png": "[encoded data removed]",
      "text/plain": [
       "<Figure size 432x288 with 1 Axes>"
      ]
     },
     "metadata": {},
     "output_type": "display_data"
    }
   ],
   "source": [
    "mcl.plot(kind='scatter', x='l_s', y='marking_id')"
   ]
  },
  {
   "cell_type": "code",
   "execution_count": 103,
   "metadata": {
    "ExecuteTime": {
     "end_time": "2018-10-08T23:44:58.563915Z",
     "start_time": "2018-10-08T23:44:58.537153Z"
    }
   },
   "outputs": [],
   "source": [
    "fcl = fcl.to_frame()"
   ]
  },
  {
   "cell_type": "code",
   "execution_count": 104,
   "metadata": {
    "ExecuteTime": {
     "end_time": "2018-10-08T23:45:07.519561Z",
     "start_time": "2018-10-08T23:45:07.492209Z"
    }
   },
   "outputs": [],
   "source": [
    "fcl['type'] = 'F'"
   ]
  },
  {
   "cell_type": "code",
   "execution_count": 105,
   "metadata": {
    "ExecuteTime": {
     "end_time": "2018-10-08T23:45:09.789191Z",
     "start_time": "2018-10-08T23:45:09.759287Z"
    }
   },
   "outputs": [
    {
     "data": {
      "text/html": [
       "<div>\n",
       "<style scoped>\n",
       "    .dataframe tbody tr th:only-of-type {\n",
       "        vertical-align: middle;\n",
       "    }\n",
       "\n",
       "    .dataframe tbody tr th {\n",
       "        vertical-align: top;\n",
       "    }\n",
       "\n",
       "    .dataframe thead th {\n",
       "        text-align: right;\n",
       "    }\n",
       "</style>\n",
       "<table border=\"1\" class=\"dataframe\">\n",
       "  <thead>\n",
       "    <tr style=\"text-align: right;\">\n",
       "      <th></th>\n",
       "      <th>marking_id</th>\n",
       "      <th>type</th>\n",
       "    </tr>\n",
       "    <tr>\n",
       "      <th>obsid</th>\n",
       "      <th></th>\n",
       "      <th></th>\n",
       "    </tr>\n",
       "  </thead>\n",
       "  <tbody>\n",
       "    <tr>\n",
       "      <th>ESP_011296_0975</th>\n",
       "      <td>4472</td>\n",
       "      <td>F</td>\n",
       "    </tr>\n",
       "    <tr>\n",
       "      <th>ESP_011341_0980</th>\n",
       "      <td>455</td>\n",
       "      <td>F</td>\n",
       "    </tr>\n",
       "    <tr>\n",
       "      <th>ESP_011348_0950</th>\n",
       "      <td>4</td>\n",
       "      <td>F</td>\n",
       "    </tr>\n",
       "    <tr>\n",
       "      <th>ESP_011350_0945</th>\n",
       "      <td>1107</td>\n",
       "      <td>F</td>\n",
       "    </tr>\n",
       "    <tr>\n",
       "      <th>ESP_011351_0945</th>\n",
       "      <td>1636</td>\n",
       "      <td>F</td>\n",
       "    </tr>\n",
       "  </tbody>\n",
       "</table>\n",
       "</div>"
      ],
      "text/plain": [
       "                 marking_id type\n",
       "obsid                           \n",
       "ESP_011296_0975        4472    F\n",
       "ESP_011341_0980         455    F\n",
       "ESP_011348_0950           4    F\n",
       "ESP_011350_0945        1107    F\n",
       "ESP_011351_0945        1636    F"
      ]
     },
     "execution_count": 105,
     "metadata": {},
     "output_type": "execute_result"
    }
   ],
   "source": [
    "fcl.head()"
   ]
  },
  {
   "cell_type": "code",
   "execution_count": 106,
   "metadata": {
    "ExecuteTime": {
     "end_time": "2018-10-08T23:45:20.489362Z",
     "start_time": "2018-10-08T23:45:20.462889Z"
    }
   },
   "outputs": [],
   "source": [
    "bcl = bcl.to_frame()"
   ]
  },
  {
   "cell_type": "code",
   "execution_count": 107,
   "metadata": {
    "ExecuteTime": {
     "end_time": "2018-10-08T23:45:27.785676Z",
     "start_time": "2018-10-08T23:45:27.758421Z"
    }
   },
   "outputs": [],
   "source": [
    "bcl['type'] = 'B'"
   ]
  },
  {
   "cell_type": "code",
   "execution_count": 108,
   "metadata": {
    "ExecuteTime": {
     "end_time": "2018-10-08T23:45:40.453950Z",
     "start_time": "2018-10-08T23:45:40.422300Z"
    }
   },
   "outputs": [
    {
     "data": {
      "text/html": [
       "<div>\n",
       "<style scoped>\n",
       "    .dataframe tbody tr th:only-of-type {\n",
       "        vertical-align: middle;\n",
       "    }\n",
       "\n",
       "    .dataframe tbody tr th {\n",
       "        vertical-align: top;\n",
       "    }\n",
       "\n",
       "    .dataframe thead th {\n",
       "        text-align: right;\n",
       "    }\n",
       "</style>\n",
       "<table border=\"1\" class=\"dataframe\">\n",
       "  <thead>\n",
       "    <tr style=\"text-align: right;\">\n",
       "      <th></th>\n",
       "      <th>marking_id</th>\n",
       "      <th>type</th>\n",
       "    </tr>\n",
       "    <tr>\n",
       "      <th>obsid</th>\n",
       "      <th></th>\n",
       "      <th></th>\n",
       "    </tr>\n",
       "  </thead>\n",
       "  <tbody>\n",
       "    <tr>\n",
       "      <th>ESP_011296_0975</th>\n",
       "      <td>1014</td>\n",
       "      <td>B</td>\n",
       "    </tr>\n",
       "    <tr>\n",
       "      <th>ESP_011341_0980</th>\n",
       "      <td>283</td>\n",
       "      <td>B</td>\n",
       "    </tr>\n",
       "    <tr>\n",
       "      <th>ESP_011348_0950</th>\n",
       "      <td>195</td>\n",
       "      <td>B</td>\n",
       "    </tr>\n",
       "    <tr>\n",
       "      <th>ESP_011350_0945</th>\n",
       "      <td>625</td>\n",
       "      <td>B</td>\n",
       "    </tr>\n",
       "    <tr>\n",
       "      <th>ESP_011351_0945</th>\n",
       "      <td>1167</td>\n",
       "      <td>B</td>\n",
       "    </tr>\n",
       "  </tbody>\n",
       "</table>\n",
       "</div>"
      ],
      "text/plain": [
       "                 marking_id type\n",
       "obsid                           \n",
       "ESP_011296_0975        1014    B\n",
       "ESP_011341_0980         283    B\n",
       "ESP_011348_0950         195    B\n",
       "ESP_011350_0945         625    B\n",
       "ESP_011351_0945        1167    B"
      ]
     },
     "execution_count": 108,
     "metadata": {},
     "output_type": "execute_result"
    }
   ],
   "source": [
    "bcl.head()"
   ]
  },
  {
   "cell_type": "code",
   "execution_count": 109,
   "metadata": {
    "ExecuteTime": {
     "end_time": "2018-10-08T23:46:07.543998Z",
     "start_time": "2018-10-08T23:46:07.517009Z"
    }
   },
   "outputs": [],
   "source": [
    "mixed = pd.concat([fcl, bcl], sort=False)"
   ]
  },
  {
   "cell_type": "code",
   "execution_count": 110,
   "metadata": {
    "ExecuteTime": {
     "end_time": "2018-10-08T23:46:15.594710Z",
     "start_time": "2018-10-08T23:46:15.564718Z"
    }
   },
   "outputs": [
    {
     "data": {
      "text/html": [
       "<div>\n",
       "<style scoped>\n",
       "    .dataframe tbody tr th:only-of-type {\n",
       "        vertical-align: middle;\n",
       "    }\n",
       "\n",
       "    .dataframe tbody tr th {\n",
       "        vertical-align: top;\n",
       "    }\n",
       "\n",
       "    .dataframe thead th {\n",
       "        text-align: right;\n",
       "    }\n",
       "</style>\n",
       "<table border=\"1\" class=\"dataframe\">\n",
       "  <thead>\n",
       "    <tr style=\"text-align: right;\">\n",
       "      <th></th>\n",
       "      <th>marking_id</th>\n",
       "      <th>type</th>\n",
       "    </tr>\n",
       "    <tr>\n",
       "      <th>obsid</th>\n",
       "      <th></th>\n",
       "      <th></th>\n",
       "    </tr>\n",
       "  </thead>\n",
       "  <tbody>\n",
       "    <tr>\n",
       "      <th>ESP_011296_0975</th>\n",
       "      <td>4472</td>\n",
       "      <td>F</td>\n",
       "    </tr>\n",
       "    <tr>\n",
       "      <th>ESP_011341_0980</th>\n",
       "      <td>455</td>\n",
       "      <td>F</td>\n",
       "    </tr>\n",
       "    <tr>\n",
       "      <th>ESP_011348_0950</th>\n",
       "      <td>4</td>\n",
       "      <td>F</td>\n",
       "    </tr>\n",
       "    <tr>\n",
       "      <th>ESP_011350_0945</th>\n",
       "      <td>1107</td>\n",
       "      <td>F</td>\n",
       "    </tr>\n",
       "    <tr>\n",
       "      <th>ESP_011351_0945</th>\n",
       "      <td>1636</td>\n",
       "      <td>F</td>\n",
       "    </tr>\n",
       "  </tbody>\n",
       "</table>\n",
       "</div>"
      ],
      "text/plain": [
       "                 marking_id type\n",
       "obsid                           \n",
       "ESP_011296_0975        4472    F\n",
       "ESP_011341_0980         455    F\n",
       "ESP_011348_0950           4    F\n",
       "ESP_011350_0945        1107    F\n",
       "ESP_011351_0945        1636    F"
      ]
     },
     "execution_count": 110,
     "metadata": {},
     "output_type": "execute_result"
    }
   ],
   "source": [
    "mixed.head()"
   ]
  },
  {
   "cell_type": "code",
   "execution_count": 113,
   "metadata": {
    "ExecuteTime": {
     "end_time": "2018-10-08T23:48:17.407387Z",
     "start_time": "2018-10-08T23:48:17.378974Z"
    }
   },
   "outputs": [],
   "source": [
    "mixed = mixed.join(l_s_vs_obsid)"
   ]
  },
  {
   "cell_type": "code",
   "execution_count": 115,
   "metadata": {
    "ExecuteTime": {
     "end_time": "2018-10-08T23:49:01.172474Z",
     "start_time": "2018-10-08T23:49:00.886788Z"
    }
   },
   "outputs": [
    {
     "data": {
      "text/plain": [
       "<matplotlib.axes._subplots.AxesSubplot at 0x11af5ce10>"
      ]
     },
     "execution_count": 115,
     "metadata": {},
     "output_type": "execute_result"
    },
    {
     "data": {
      "image/png": "[encoded data removed]",
      "text/plain": [
       "<Figure size 432x288 with 1 Axes>"
      ]
     },
     "metadata": {},
     "output_type": "display_data"
    }
   ],
   "source": [
    "sns.scatterplot(data=mixed, y='marking_id', x='l_s', hue='type')"
   ]
  },
  {
   "cell_type": "code",
   "execution_count": 116,
   "metadata": {
    "ExecuteTime": {
     "end_time": "2018-10-08T23:54:07.301607Z",
     "start_time": "2018-10-08T23:54:07.149668Z"
    }
   },
   "outputs": [],
   "source": [
    "import os"
   ]
  },
  {
   "cell_type": "code",
   "execution_count": 120,
   "metadata": {
    "ExecuteTime": {
     "end_time": "2018-10-08T23:54:29.711467Z",
     "start_time": "2018-10-08T23:54:29.682915Z"
    }
   },
   "outputs": [
    {
     "data": {
      "text/plain": [
       "'klay6683'"
      ]
     },
     "execution_count": 120,
     "metadata": {},
     "output_type": "execute_result"
    }
   ],
   "source": [
    "os.environ[\"USER\"]"
   ]
  },
  {
   "cell_type": "code",
   "execution_count": null,
   "metadata": {},
   "outputs": [],
   "source": []
  },
  {
   "cell_type": "code",
   "execution_count": 100,
   "metadata": {
    "ExecuteTime": {
     "end_time": "2018-10-08T23:42:24.462386Z",
     "start_time": "2018-10-08T23:42:24.181482Z"
    }
   },
   "outputs": [
    {
     "data": {
      "text/plain": [
       "<matplotlib.axes._subplots.AxesSubplot at 0x11ade2f28>"
      ]
     },
     "execution_count": 100,
     "metadata": {},
     "output_type": "execute_result"
    },
    {
     "data": {
      "image/png": "[encoded data removed]",
      "text/plain": [
       "<Figure size 432x288 with 1 Axes>"
      ]
     },
     "metadata": {},
     "output_type": "display_data"
    }
   ],
   "source": [
    "mcl.plot(x='l_s', y='marking_id')"
   ]
  },
  {
   "cell_type": "code",
   "execution_count": null,
   "metadata": {},
   "outputs": [],
   "source": []
  },
  {
   "cell_type": "code",
   "execution_count": null,
   "metadata": {},
   "outputs": [],
   "source": []
  },
  {
   "cell_type": "code",
   "execution_count": 84,
   "metadata": {
    "ExecuteTime": {
     "end_time": "2018-10-08T23:32:36.981856Z",
     "start_time": "2018-10-08T23:32:36.954595Z"
    }
   },
   "outputs": [
    {
     "data": {
      "text/plain": [
       "True"
      ]
     },
     "execution_count": 84,
     "metadata": {},
     "output_type": "execute_result"
    }
   ],
   "source": []
  },
  {
   "cell_type": "code",
   "execution_count": 81,
   "metadata": {
    "ExecuteTime": {
     "end_time": "2018-10-08T23:30:10.598095Z",
     "start_time": "2018-10-08T23:30:10.497870Z"
    },
    "scrolled": true
   },
   "outputs": [
    {
     "data": {
      "text/html": [
       "<div>\n",
       "<style scoped>\n",
       "    .dataframe tbody tr th:only-of-type {\n",
       "        vertical-align: middle;\n",
       "    }\n",
       "\n",
       "    .dataframe tbody tr th {\n",
       "        vertical-align: top;\n",
       "    }\n",
       "\n",
       "    .dataframe thead th {\n",
       "        text-align: right;\n",
       "    }\n",
       "</style>\n",
       "<table border=\"1\" class=\"dataframe\">\n",
       "  <thead>\n",
       "    <tr style=\"text-align: right;\">\n",
       "      <th></th>\n",
       "      <th>obsid</th>\n",
       "      <th>marking_id</th>\n",
       "      <th>l_s</th>\n",
       "    </tr>\n",
       "  </thead>\n",
       "  <tbody>\n",
       "    <tr>\n",
       "      <th>0</th>\n",
       "      <td>ESP_011296_0975</td>\n",
       "      <td>5486</td>\n",
       "      <td>178.833</td>\n",
       "    </tr>\n",
       "    <tr>\n",
       "      <th>1</th>\n",
       "      <td>ESP_011296_0975</td>\n",
       "      <td>5486</td>\n",
       "      <td>178.833</td>\n",
       "    </tr>\n",
       "    <tr>\n",
       "      <th>2</th>\n",
       "      <td>ESP_011296_0975</td>\n",
       "      <td>5486</td>\n",
       "      <td>178.833</td>\n",
       "    </tr>\n",
       "    <tr>\n",
       "      <th>3</th>\n",
       "      <td>ESP_011296_0975</td>\n",
       "      <td>5486</td>\n",
       "      <td>178.833</td>\n",
       "    </tr>\n",
       "    <tr>\n",
       "      <th>4</th>\n",
       "      <td>ESP_011296_0975</td>\n",
       "      <td>5486</td>\n",
       "      <td>178.833</td>\n",
       "    </tr>\n",
       "    <tr>\n",
       "      <th>5</th>\n",
       "      <td>ESP_011296_0975</td>\n",
       "      <td>5486</td>\n",
       "      <td>178.833</td>\n",
       "    </tr>\n",
       "    <tr>\n",
       "      <th>6</th>\n",
       "      <td>ESP_011296_0975</td>\n",
       "      <td>5486</td>\n",
       "      <td>178.833</td>\n",
       "    </tr>\n",
       "    <tr>\n",
       "      <th>7</th>\n",
       "      <td>ESP_011296_0975</td>\n",
       "      <td>5486</td>\n",
       "      <td>178.833</td>\n",
       "    </tr>\n",
       "    <tr>\n",
       "      <th>8</th>\n",
       "      <td>ESP_011296_0975</td>\n",
       "      <td>5486</td>\n",
       "      <td>178.833</td>\n",
       "    </tr>\n",
       "    <tr>\n",
       "      <th>9</th>\n",
       "      <td>ESP_011296_0975</td>\n",
       "      <td>5486</td>\n",
       "      <td>178.833</td>\n",
       "    </tr>\n",
       "    <tr>\n",
       "      <th>10</th>\n",
       "      <td>ESP_011296_0975</td>\n",
       "      <td>5486</td>\n",
       "      <td>178.833</td>\n",
       "    </tr>\n",
       "    <tr>\n",
       "      <th>11</th>\n",
       "      <td>ESP_011296_0975</td>\n",
       "      <td>5486</td>\n",
       "      <td>178.833</td>\n",
       "    </tr>\n",
       "    <tr>\n",
       "      <th>12</th>\n",
       "      <td>ESP_011296_0975</td>\n",
       "      <td>5486</td>\n",
       "      <td>178.833</td>\n",
       "    </tr>\n",
       "    <tr>\n",
       "      <th>13</th>\n",
       "      <td>ESP_011296_0975</td>\n",
       "      <td>5486</td>\n",
       "      <td>178.833</td>\n",
       "    </tr>\n",
       "    <tr>\n",
       "      <th>14</th>\n",
       "      <td>ESP_011296_0975</td>\n",
       "      <td>5486</td>\n",
       "      <td>178.833</td>\n",
       "    </tr>\n",
       "    <tr>\n",
       "      <th>15</th>\n",
       "      <td>ESP_011296_0975</td>\n",
       "      <td>5486</td>\n",
       "      <td>178.833</td>\n",
       "    </tr>\n",
       "    <tr>\n",
       "      <th>16</th>\n",
       "      <td>ESP_011296_0975</td>\n",
       "      <td>5486</td>\n",
       "      <td>178.833</td>\n",
       "    </tr>\n",
       "    <tr>\n",
       "      <th>17</th>\n",
       "      <td>ESP_011296_0975</td>\n",
       "      <td>5486</td>\n",
       "      <td>178.833</td>\n",
       "    </tr>\n",
       "    <tr>\n",
       "      <th>18</th>\n",
       "      <td>ESP_011296_0975</td>\n",
       "      <td>5486</td>\n",
       "      <td>178.833</td>\n",
       "    </tr>\n",
       "    <tr>\n",
       "      <th>19</th>\n",
       "      <td>ESP_011296_0975</td>\n",
       "      <td>5486</td>\n",
       "      <td>178.833</td>\n",
       "    </tr>\n",
       "    <tr>\n",
       "      <th>20</th>\n",
       "      <td>ESP_011296_0975</td>\n",
       "      <td>5486</td>\n",
       "      <td>178.833</td>\n",
       "    </tr>\n",
       "    <tr>\n",
       "      <th>21</th>\n",
       "      <td>ESP_011296_0975</td>\n",
       "      <td>5486</td>\n",
       "      <td>178.833</td>\n",
       "    </tr>\n",
       "    <tr>\n",
       "      <th>22</th>\n",
       "      <td>ESP_011296_0975</td>\n",
       "      <td>5486</td>\n",
       "      <td>178.833</td>\n",
       "    </tr>\n",
       "    <tr>\n",
       "      <th>23</th>\n",
       "      <td>ESP_011296_0975</td>\n",
       "      <td>5486</td>\n",
       "      <td>178.833</td>\n",
       "    </tr>\n",
       "    <tr>\n",
       "      <th>24</th>\n",
       "      <td>ESP_011296_0975</td>\n",
       "      <td>5486</td>\n",
       "      <td>178.833</td>\n",
       "    </tr>\n",
       "    <tr>\n",
       "      <th>25</th>\n",
       "      <td>ESP_011296_0975</td>\n",
       "      <td>5486</td>\n",
       "      <td>178.833</td>\n",
       "    </tr>\n",
       "    <tr>\n",
       "      <th>26</th>\n",
       "      <td>ESP_011296_0975</td>\n",
       "      <td>5486</td>\n",
       "      <td>178.833</td>\n",
       "    </tr>\n",
       "    <tr>\n",
       "      <th>27</th>\n",
       "      <td>ESP_011296_0975</td>\n",
       "      <td>5486</td>\n",
       "      <td>178.833</td>\n",
       "    </tr>\n",
       "    <tr>\n",
       "      <th>28</th>\n",
       "      <td>ESP_011296_0975</td>\n",
       "      <td>5486</td>\n",
       "      <td>178.833</td>\n",
       "    </tr>\n",
       "    <tr>\n",
       "      <th>29</th>\n",
       "      <td>ESP_011296_0975</td>\n",
       "      <td>5486</td>\n",
       "      <td>178.833</td>\n",
       "    </tr>\n",
       "    <tr>\n",
       "      <th>...</th>\n",
       "      <td>...</td>\n",
       "      <td>...</td>\n",
       "      <td>...</td>\n",
       "    </tr>\n",
       "    <tr>\n",
       "      <th>408247</th>\n",
       "      <td>ESP_022699_0985</td>\n",
       "      <td>351</td>\n",
       "      <td>302.421</td>\n",
       "    </tr>\n",
       "    <tr>\n",
       "      <th>408248</th>\n",
       "      <td>ESP_022699_0985</td>\n",
       "      <td>351</td>\n",
       "      <td>302.421</td>\n",
       "    </tr>\n",
       "    <tr>\n",
       "      <th>408249</th>\n",
       "      <td>ESP_022699_0985</td>\n",
       "      <td>351</td>\n",
       "      <td>302.421</td>\n",
       "    </tr>\n",
       "    <tr>\n",
       "      <th>408250</th>\n",
       "      <td>ESP_022699_0985</td>\n",
       "      <td>351</td>\n",
       "      <td>302.421</td>\n",
       "    </tr>\n",
       "    <tr>\n",
       "      <th>408251</th>\n",
       "      <td>ESP_022699_0985</td>\n",
       "      <td>351</td>\n",
       "      <td>302.421</td>\n",
       "    </tr>\n",
       "    <tr>\n",
       "      <th>408252</th>\n",
       "      <td>ESP_022699_0985</td>\n",
       "      <td>351</td>\n",
       "      <td>302.421</td>\n",
       "    </tr>\n",
       "    <tr>\n",
       "      <th>408253</th>\n",
       "      <td>ESP_022699_0985</td>\n",
       "      <td>351</td>\n",
       "      <td>302.421</td>\n",
       "    </tr>\n",
       "    <tr>\n",
       "      <th>408254</th>\n",
       "      <td>ESP_022699_0985</td>\n",
       "      <td>351</td>\n",
       "      <td>302.421</td>\n",
       "    </tr>\n",
       "    <tr>\n",
       "      <th>408255</th>\n",
       "      <td>ESP_022699_0985</td>\n",
       "      <td>351</td>\n",
       "      <td>302.421</td>\n",
       "    </tr>\n",
       "    <tr>\n",
       "      <th>408256</th>\n",
       "      <td>ESP_022699_0985</td>\n",
       "      <td>351</td>\n",
       "      <td>302.421</td>\n",
       "    </tr>\n",
       "    <tr>\n",
       "      <th>408257</th>\n",
       "      <td>ESP_022699_0985</td>\n",
       "      <td>351</td>\n",
       "      <td>302.421</td>\n",
       "    </tr>\n",
       "    <tr>\n",
       "      <th>408258</th>\n",
       "      <td>ESP_022699_0985</td>\n",
       "      <td>351</td>\n",
       "      <td>302.421</td>\n",
       "    </tr>\n",
       "    <tr>\n",
       "      <th>408259</th>\n",
       "      <td>ESP_022699_0985</td>\n",
       "      <td>351</td>\n",
       "      <td>302.421</td>\n",
       "    </tr>\n",
       "    <tr>\n",
       "      <th>408260</th>\n",
       "      <td>ESP_022699_0985</td>\n",
       "      <td>351</td>\n",
       "      <td>302.421</td>\n",
       "    </tr>\n",
       "    <tr>\n",
       "      <th>408261</th>\n",
       "      <td>ESP_022699_0985</td>\n",
       "      <td>351</td>\n",
       "      <td>302.421</td>\n",
       "    </tr>\n",
       "    <tr>\n",
       "      <th>408262</th>\n",
       "      <td>ESP_022699_0985</td>\n",
       "      <td>351</td>\n",
       "      <td>302.421</td>\n",
       "    </tr>\n",
       "    <tr>\n",
       "      <th>408263</th>\n",
       "      <td>ESP_022699_0985</td>\n",
       "      <td>351</td>\n",
       "      <td>302.421</td>\n",
       "    </tr>\n",
       "    <tr>\n",
       "      <th>408264</th>\n",
       "      <td>ESP_022699_0985</td>\n",
       "      <td>351</td>\n",
       "      <td>302.421</td>\n",
       "    </tr>\n",
       "    <tr>\n",
       "      <th>408265</th>\n",
       "      <td>ESP_022699_0985</td>\n",
       "      <td>351</td>\n",
       "      <td>302.421</td>\n",
       "    </tr>\n",
       "    <tr>\n",
       "      <th>408266</th>\n",
       "      <td>ESP_022699_0985</td>\n",
       "      <td>351</td>\n",
       "      <td>302.421</td>\n",
       "    </tr>\n",
       "    <tr>\n",
       "      <th>408267</th>\n",
       "      <td>ESP_022699_0985</td>\n",
       "      <td>351</td>\n",
       "      <td>302.421</td>\n",
       "    </tr>\n",
       "    <tr>\n",
       "      <th>408268</th>\n",
       "      <td>ESP_022699_0985</td>\n",
       "      <td>351</td>\n",
       "      <td>302.421</td>\n",
       "    </tr>\n",
       "    <tr>\n",
       "      <th>408269</th>\n",
       "      <td>ESP_022699_0985</td>\n",
       "      <td>351</td>\n",
       "      <td>302.421</td>\n",
       "    </tr>\n",
       "    <tr>\n",
       "      <th>408270</th>\n",
       "      <td>ESP_022699_0985</td>\n",
       "      <td>351</td>\n",
       "      <td>302.421</td>\n",
       "    </tr>\n",
       "    <tr>\n",
       "      <th>408271</th>\n",
       "      <td>ESP_022699_0985</td>\n",
       "      <td>351</td>\n",
       "      <td>302.421</td>\n",
       "    </tr>\n",
       "    <tr>\n",
       "      <th>408272</th>\n",
       "      <td>ESP_022699_0985</td>\n",
       "      <td>351</td>\n",
       "      <td>302.421</td>\n",
       "    </tr>\n",
       "    <tr>\n",
       "      <th>408273</th>\n",
       "      <td>ESP_022699_0985</td>\n",
       "      <td>351</td>\n",
       "      <td>302.421</td>\n",
       "    </tr>\n",
       "    <tr>\n",
       "      <th>408274</th>\n",
       "      <td>ESP_022699_0985</td>\n",
       "      <td>351</td>\n",
       "      <td>302.421</td>\n",
       "    </tr>\n",
       "    <tr>\n",
       "      <th>408275</th>\n",
       "      <td>ESP_022699_0985</td>\n",
       "      <td>351</td>\n",
       "      <td>302.421</td>\n",
       "    </tr>\n",
       "    <tr>\n",
       "      <th>408276</th>\n",
       "      <td>ESP_022699_0985</td>\n",
       "      <td>351</td>\n",
       "      <td>302.421</td>\n",
       "    </tr>\n",
       "  </tbody>\n",
       "</table>\n",
       "<p>408277 rows × 3 columns</p>\n",
       "</div>"
      ],
      "text/plain": [
       "                  obsid  marking_id      l_s\n",
       "0       ESP_011296_0975        5486  178.833\n",
       "1       ESP_011296_0975        5486  178.833\n",
       "2       ESP_011296_0975        5486  178.833\n",
       "3       ESP_011296_0975        5486  178.833\n",
       "4       ESP_011296_0975        5486  178.833\n",
       "5       ESP_011296_0975        5486  178.833\n",
       "6       ESP_011296_0975        5486  178.833\n",
       "7       ESP_011296_0975        5486  178.833\n",
       "8       ESP_011296_0975        5486  178.833\n",
       "9       ESP_011296_0975        5486  178.833\n",
       "10      ESP_011296_0975        5486  178.833\n",
       "11      ESP_011296_0975        5486  178.833\n",
       "12      ESP_011296_0975        5486  178.833\n",
       "13      ESP_011296_0975        5486  178.833\n",
       "14      ESP_011296_0975        5486  178.833\n",
       "15      ESP_011296_0975        5486  178.833\n",
       "16      ESP_011296_0975        5486  178.833\n",
       "17      ESP_011296_0975        5486  178.833\n",
       "18      ESP_011296_0975        5486  178.833\n",
       "19      ESP_011296_0975        5486  178.833\n",
       "20      ESP_011296_0975        5486  178.833\n",
       "21      ESP_011296_0975        5486  178.833\n",
       "22      ESP_011296_0975        5486  178.833\n",
       "23      ESP_011296_0975        5486  178.833\n",
       "24      ESP_011296_0975        5486  178.833\n",
       "25      ESP_011296_0975        5486  178.833\n",
       "26      ESP_011296_0975        5486  178.833\n",
       "27      ESP_011296_0975        5486  178.833\n",
       "28      ESP_011296_0975        5486  178.833\n",
       "29      ESP_011296_0975        5486  178.833\n",
       "...                 ...         ...      ...\n",
       "408247  ESP_022699_0985         351  302.421\n",
       "408248  ESP_022699_0985         351  302.421\n",
       "408249  ESP_022699_0985         351  302.421\n",
       "408250  ESP_022699_0985         351  302.421\n",
       "408251  ESP_022699_0985         351  302.421\n",
       "408252  ESP_022699_0985         351  302.421\n",
       "408253  ESP_022699_0985         351  302.421\n",
       "408254  ESP_022699_0985         351  302.421\n",
       "408255  ESP_022699_0985         351  302.421\n",
       "408256  ESP_022699_0985         351  302.421\n",
       "408257  ESP_022699_0985         351  302.421\n",
       "408258  ESP_022699_0985         351  302.421\n",
       "408259  ESP_022699_0985         351  302.421\n",
       "408260  ESP_022699_0985         351  302.421\n",
       "408261  ESP_022699_0985         351  302.421\n",
       "408262  ESP_022699_0985         351  302.421\n",
       "408263  ESP_022699_0985         351  302.421\n",
       "408264  ESP_022699_0985         351  302.421\n",
       "408265  ESP_022699_0985         351  302.421\n",
       "408266  ESP_022699_0985         351  302.421\n",
       "408267  ESP_022699_0985         351  302.421\n",
       "408268  ESP_022699_0985         351  302.421\n",
       "408269  ESP_022699_0985         351  302.421\n",
       "408270  ESP_022699_0985         351  302.421\n",
       "408271  ESP_022699_0985         351  302.421\n",
       "408272  ESP_022699_0985         351  302.421\n",
       "408273  ESP_022699_0985         351  302.421\n",
       "408274  ESP_022699_0985         351  302.421\n",
       "408275  ESP_022699_0985         351  302.421\n",
       "408276  ESP_022699_0985         351  302.421\n",
       "\n",
       "[408277 rows x 3 columns]"
      ]
     },
     "execution_count": 81,
     "metadata": {},
     "output_type": "execute_result"
    }
   ],
   "source": [
    "mcl.merge(mixed[['l_s', 'obsid']], on='obsid')"
   ]
  },
  {
   "cell_type": "code",
   "execution_count": 73,
   "metadata": {
    "ExecuteTime": {
     "end_time": "2018-10-08T23:23:33.619453Z",
     "start_time": "2018-10-08T23:23:33.590856Z"
    }
   },
   "outputs": [
    {
     "data": {
      "text/plain": [
       "marking_id    int64\n",
       "dtype: object"
      ]
     },
     "execution_count": 73,
     "metadata": {},
     "output_type": "execute_result"
    }
   ],
   "source": [
    "mcl.dtypes"
   ]
  },
  {
   "cell_type": "code",
   "execution_count": 74,
   "metadata": {
    "ExecuteTime": {
     "end_time": "2018-10-08T23:23:47.805048Z",
     "start_time": "2018-10-08T23:23:47.774418Z"
    }
   },
   "outputs": [],
   "source": [
    "mcl.join?"
   ]
  },
  {
   "cell_type": "code",
   "execution_count": 32,
   "metadata": {
    "collapsed": true
   },
   "outputs": [],
   "source": [
    "oldmcl=group_mix.l_s.count()"
   ]
  },
  {
   "cell_type": "code",
   "execution_count": 33,
   "metadata": {},
   "outputs": [
    {
     "data": {
      "text/plain": [
       "<matplotlib.axes._subplots.AxesSubplot at 0x694ef60>"
      ]
     },
     "execution_count": 33,
     "metadata": {},
     "output_type": "execute_result"
    },
    {
     "data": {
      "image/png": "[encoded data removed]",
      "text/plain": [
       "<matplotlib.figure.Figure at 0xced7828>"
      ]
     },
     "metadata": {},
     "output_type": "display_data"
    }
   ],
   "source": [
    "oldmcl[0:].plot()#plot of obsid vs #obj/l_s"
   ]
  },
  {
   "cell_type": "code",
   "execution_count": 34,
   "metadata": {},
   "outputs": [
    {
     "data": {
      "text/plain": [
       "<matplotlib.axes._subplots.AxesSubplot at 0xced7e10>"
      ]
     },
     "execution_count": 34,
     "metadata": {},
     "output_type": "execute_result"
    },
    {
     "data": {
      "image/png": "[encoded data removed]",
      "text/plain": [
       "<matplotlib.figure.Figure at 0x10fde630>"
      ]
     },
     "metadata": {},
     "output_type": "display_data"
    }
   ],
   "source": [
    "mcl[0:].plot() #plot of markingID vs #of objects total"
   ]
  },
  {
   "cell_type": "code",
   "execution_count": 35,
   "metadata": {},
   "outputs": [],
   "source": [
    "#sns.barplot(x = 'obsid', y='l_s', data = mixed)"
   ]
  },
  {
   "cell_type": "code",
   "execution_count": 36,
   "metadata": {},
   "outputs": [
    {
     "name": "stdout",
     "output_type": "stream",
     "text": [
      "214.785\n",
      "214.785\n"
     ]
    }
   ],
   "source": [
    "print littleblotch.l_s.max()\n",
    "print littleblotch.l_s.min()"
   ]
  },
  {
   "cell_type": "code",
   "execution_count": 37,
   "metadata": {},
   "outputs": [
    {
     "data": {
      "text/plain": [
       "176.07499999999999"
      ]
     },
     "execution_count": 37,
     "metadata": {},
     "output_type": "execute_result"
    }
   ],
   "source": [
    "fans.l_s.max()\n",
    "fans.l_s.min()"
   ]
  },
  {
   "cell_type": "code",
   "execution_count": 38,
   "metadata": {},
   "outputs": [
    {
     "data": {
      "text/html": [
       "<div>\n",
       "<style>\n",
       "    .dataframe thead tr:only-child th {\n",
       "        text-align: right;\n",
       "    }\n",
       "\n",
       "    .dataframe thead th {\n",
       "        text-align: left;\n",
       "    }\n",
       "\n",
       "    .dataframe tbody tr th {\n",
       "        vertical-align: top;\n",
       "    }\n",
       "</style>\n",
       "<table border=\"1\" class=\"dataframe\">\n",
       "  <thead>\n",
       "    <tr style=\"text-align: right;\">\n",
       "      <th></th>\n",
       "      <th>angle</th>\n",
       "      <th>distance</th>\n",
       "      <th>tile_id</th>\n",
       "      <th>image_x</th>\n",
       "      <th>image_y</th>\n",
       "      <th>marking_id</th>\n",
       "      <th>n_votes</th>\n",
       "      <th>obsid</th>\n",
       "      <th>spread</th>\n",
       "      <th>version</th>\n",
       "      <th>...</th>\n",
       "      <th>y_angle</th>\n",
       "      <th>l_s</th>\n",
       "      <th>north_azimuth</th>\n",
       "      <th>map_scale</th>\n",
       "      <th>BodyFixedCoordinateX</th>\n",
       "      <th>BodyFixedCoordinateY</th>\n",
       "      <th>BodyFixedCoordinateZ</th>\n",
       "      <th>PlanetocentricLatitude</th>\n",
       "      <th>PlanetographicLatitude</th>\n",
       "      <th>PositiveEast360Longitude</th>\n",
       "    </tr>\n",
       "  </thead>\n",
       "  <tbody>\n",
       "    <tr>\n",
       "      <th>0</th>\n",
       "      <td>205.56</td>\n",
       "      <td>179.71</td>\n",
       "      <td>APF0000ci9</td>\n",
       "      <td>2270.76</td>\n",
       "      <td>24336.16</td>\n",
       "      <td>F000000</td>\n",
       "      <td>35</td>\n",
       "      <td>ESP_012079_0945</td>\n",
       "      <td>88.03</td>\n",
       "      <td>1</td>\n",
       "      <td>...</td>\n",
       "      <td>-0.43</td>\n",
       "      <td>214.785</td>\n",
       "      <td>126.856883</td>\n",
       "      <td>1.0</td>\n",
       "      <td>-65.804336</td>\n",
       "      <td>261.407884</td>\n",
       "      <td>-3370.504345</td>\n",
       "      <td>-85.427383</td>\n",
       "      <td>-85.480830</td>\n",
       "      <td>104.129523</td>\n",
       "    </tr>\n",
       "    <tr>\n",
       "      <th>1</th>\n",
       "      <td>185.39</td>\n",
       "      <td>179.62</td>\n",
       "      <td>APF0000cia</td>\n",
       "      <td>3391.21</td>\n",
       "      <td>5640.60</td>\n",
       "      <td>F000001</td>\n",
       "      <td>15</td>\n",
       "      <td>ESP_012079_0945</td>\n",
       "      <td>21.35</td>\n",
       "      <td>1</td>\n",
       "      <td>...</td>\n",
       "      <td>-0.09</td>\n",
       "      <td>214.785</td>\n",
       "      <td>126.856883</td>\n",
       "      <td>1.0</td>\n",
       "      <td>-67.219114</td>\n",
       "      <td>257.011589</td>\n",
       "      <td>-3370.631413</td>\n",
       "      <td>-85.493546</td>\n",
       "      <td>-85.546226</td>\n",
       "      <td>104.656897</td>\n",
       "    </tr>\n",
       "    <tr>\n",
       "      <th>2</th>\n",
       "      <td>184.98</td>\n",
       "      <td>500.27</td>\n",
       "      <td>APF0000cia</td>\n",
       "      <td>3509.96</td>\n",
       "      <td>5876.70</td>\n",
       "      <td>F000002</td>\n",
       "      <td>10</td>\n",
       "      <td>ESP_012079_0945</td>\n",
       "      <td>18.91</td>\n",
       "      <td>1</td>\n",
       "      <td>...</td>\n",
       "      <td>-0.09</td>\n",
       "      <td>214.785</td>\n",
       "      <td>126.856883</td>\n",
       "      <td>1.0</td>\n",
       "      <td>-67.170611</td>\n",
       "      <td>257.055226</td>\n",
       "      <td>-3370.630794</td>\n",
       "      <td>-85.493039</td>\n",
       "      <td>-85.545725</td>\n",
       "      <td>104.644396</td>\n",
       "    </tr>\n",
       "    <tr>\n",
       "      <th>3</th>\n",
       "      <td>184.29</td>\n",
       "      <td>105.43</td>\n",
       "      <td>APF0000cia</td>\n",
       "      <td>3716.27</td>\n",
       "      <td>5824.50</td>\n",
       "      <td>F000004</td>\n",
       "      <td>6</td>\n",
       "      <td>ESP_012079_0945</td>\n",
       "      <td>26.41</td>\n",
       "      <td>1</td>\n",
       "      <td>...</td>\n",
       "      <td>-0.07</td>\n",
       "      <td>214.785</td>\n",
       "      <td>126.856883</td>\n",
       "      <td>1.0</td>\n",
       "      <td>-67.127761</td>\n",
       "      <td>257.024926</td>\n",
       "      <td>-3370.635002</td>\n",
       "      <td>-85.493723</td>\n",
       "      <td>-85.546401</td>\n",
       "      <td>104.637107</td>\n",
       "    </tr>\n",
       "    <tr>\n",
       "      <th>4</th>\n",
       "      <td>189.42</td>\n",
       "      <td>109.50</td>\n",
       "      <td>APF0000cia</td>\n",
       "      <td>3452.17</td>\n",
       "      <td>6033.00</td>\n",
       "      <td>F000005</td>\n",
       "      <td>3</td>\n",
       "      <td>ESP_012079_0945</td>\n",
       "      <td>22.58</td>\n",
       "      <td>1</td>\n",
       "      <td>...</td>\n",
       "      <td>-0.16</td>\n",
       "      <td>214.785</td>\n",
       "      <td>126.856883</td>\n",
       "      <td>1.0</td>\n",
       "      <td>-67.169940</td>\n",
       "      <td>257.096267</td>\n",
       "      <td>-3370.628302</td>\n",
       "      <td>-85.492368</td>\n",
       "      <td>-85.545061</td>\n",
       "      <td>104.642019</td>\n",
       "    </tr>\n",
       "  </tbody>\n",
       "</table>\n",
       "<p>5 rows × 24 columns</p>\n",
       "</div>"
      ],
      "text/plain": [
       "    angle  distance     tile_id  image_x   image_y marking_id  n_votes  \\\n",
       "0  205.56    179.71  APF0000ci9  2270.76  24336.16    F000000       35   \n",
       "1  185.39    179.62  APF0000cia  3391.21   5640.60    F000001       15   \n",
       "2  184.98    500.27  APF0000cia  3509.96   5876.70    F000002       10   \n",
       "3  184.29    105.43  APF0000cia  3716.27   5824.50    F000004        6   \n",
       "4  189.42    109.50  APF0000cia  3452.17   6033.00    F000005        3   \n",
       "\n",
       "             obsid  spread  version            ...             y_angle  \\\n",
       "0  ESP_012079_0945   88.03        1            ...               -0.43   \n",
       "1  ESP_012079_0945   21.35        1            ...               -0.09   \n",
       "2  ESP_012079_0945   18.91        1            ...               -0.09   \n",
       "3  ESP_012079_0945   26.41        1            ...               -0.07   \n",
       "4  ESP_012079_0945   22.58        1            ...               -0.16   \n",
       "\n",
       "       l_s  north_azimuth  map_scale  BodyFixedCoordinateX  \\\n",
       "0  214.785     126.856883        1.0            -65.804336   \n",
       "1  214.785     126.856883        1.0            -67.219114   \n",
       "2  214.785     126.856883        1.0            -67.170611   \n",
       "3  214.785     126.856883        1.0            -67.127761   \n",
       "4  214.785     126.856883        1.0            -67.169940   \n",
       "\n",
       "   BodyFixedCoordinateY  BodyFixedCoordinateZ  PlanetocentricLatitude  \\\n",
       "0            261.407884          -3370.504345              -85.427383   \n",
       "1            257.011589          -3370.631413              -85.493546   \n",
       "2            257.055226          -3370.630794              -85.493039   \n",
       "3            257.024926          -3370.635002              -85.493723   \n",
       "4            257.096267          -3370.628302              -85.492368   \n",
       "\n",
       "   PlanetographicLatitude  PositiveEast360Longitude  \n",
       "0              -85.480830                104.129523  \n",
       "1              -85.546226                104.656897  \n",
       "2              -85.545725                104.644396  \n",
       "3              -85.546401                104.637107  \n",
       "4              -85.545061                104.642019  \n",
       "\n",
       "[5 rows x 24 columns]"
      ]
     },
     "execution_count": 38,
     "metadata": {},
     "output_type": "execute_result"
    }
   ],
   "source": [
    "fans.head()"
   ]
  },
  {
   "cell_type": "code",
   "execution_count": 39,
   "metadata": {
    "scrolled": true
   },
   "outputs": [
    {
     "data": {
      "text/plain": [
       "39"
      ]
     },
     "execution_count": 39,
     "metadata": {},
     "output_type": "execute_result"
    }
   ],
   "source": [
    "littlefans.tile_id.nunique()"
   ]
  },
  {
   "cell_type": "code",
   "execution_count": 40,
   "metadata": {},
   "outputs": [
    {
     "data": {
      "text/plain": [
       "1"
      ]
     },
     "execution_count": 40,
     "metadata": {},
     "output_type": "execute_result"
    }
   ],
   "source": [
    "littlefans.l_s.nunique()"
   ]
  },
  {
   "cell_type": "code",
   "execution_count": 41,
   "metadata": {},
   "outputs": [
    {
     "data": {
      "text/plain": [
       "215"
      ]
     },
     "execution_count": 41,
     "metadata": {},
     "output_type": "execute_result"
    }
   ],
   "source": [
    "fans.obsid.nunique()"
   ]
  },
  {
   "cell_type": "code",
   "execution_count": 42,
   "metadata": {},
   "outputs": [
    {
     "data": {
      "text/plain": [
       "obsid\n",
       "ESP_011296_0975    4496\n",
       "ESP_011341_0980     455\n",
       "ESP_011348_0950       4\n",
       "ESP_011350_0945    1117\n",
       "ESP_011351_0945    1647\n",
       "Name: marking_id, dtype: int64"
      ]
     },
     "execution_count": 42,
     "metadata": {},
     "output_type": "execute_result"
    }
   ],
   "source": [
    "fcl.head()"
   ]
  },
  {
   "cell_type": "code",
   "execution_count": null,
   "metadata": {
    "collapsed": true
   },
   "outputs": [],
   "source": [
    "sns.barplot (y = 'obsid', data = fans)"
   ]
  },
  {
   "cell_type": "code",
   "execution_count": 52,
   "metadata": {},
   "outputs": [
    {
     "data": {
      "text/plain": [
       "<matplotlib.axes._subplots.AxesSubplot at 0x13615be0>"
      ]
     },
     "execution_count": 52,
     "metadata": {},
     "output_type": "execute_result"
    },
    {
     "data": {
      "image/png": "[encoded data removed]",
      "text/plain": [
       "<matplotlib.figure.Figure at 0x13615710>"
      ]
     },
     "metadata": {},
     "output_type": "display_data"
    }
   ],
   "source": [
    "sns.barplot(data = fcl)"
   ]
  },
  {
   "cell_type": "code",
   "execution_count": 45,
   "metadata": {},
   "outputs": [
    {
     "data": {
      "text/plain": [
       "<matplotlib.axes._subplots.AxesSubplot at 0x11eabf60>"
      ]
     },
     "execution_count": 45,
     "metadata": {},
     "output_type": "execute_result"
    },
    {
     "data": {
      "image/png": "[encoded data removed]",
      "text/plain": [
       "<matplotlib.figure.Figure at 0x1164d7b8>"
      ]
     },
     "metadata": {},
     "output_type": "display_data"
    }
   ],
   "source": [
    "#not quite what I want though, want to group by obsid to plot #things vs. l_s, using obsid as a proxy for l_s since it's not float\n",
    "sns.barplot(x = 'obsid', y = 'l_s', data = fans)"
   ]
  },
  {
   "cell_type": "code",
   "execution_count": 65,
   "metadata": {},
   "outputs": [
    {
     "data": {
      "text/plain": [
       "<matplotlib.axes._subplots.AxesSubplot at 0x137595c0>"
      ]
     },
     "execution_count": 65,
     "metadata": {},
     "output_type": "execute_result"
    },
    {
     "data": {
      "image/png": "[encoded data removed]",
      "text/plain": [
       "<matplotlib.figure.Figure at 0x137e9048>"
      ]
     },
     "metadata": {},
     "output_type": "display_data"
    }
   ],
   "source": [
    "#I think this is what we want?\n",
    "#if it is, find out how to rename the x-axis while still keeping values/bins\n",
    "sns.barplot(group_fan.size().index, group_fan.size().values)"
   ]
  },
  {
   "cell_type": "code",
   "execution_count": 67,
   "metadata": {},
   "outputs": [
    {
     "name": "stdout",
     "output_type": "stream",
     "text": [
      "12322\n",
      "1\n"
     ]
    }
   ],
   "source": [
    "print group_fan.size().max()\n",
    "print group_fan.size().min()"
   ]
  },
  {
   "cell_type": "code",
   "execution_count": 68,
   "metadata": {},
   "outputs": [
    {
     "data": {
      "text/html": [
       "<div>\n",
       "<style>\n",
       "    .dataframe thead tr:only-child th {\n",
       "        text-align: right;\n",
       "    }\n",
       "\n",
       "    .dataframe thead th {\n",
       "        text-align: left;\n",
       "    }\n",
       "\n",
       "    .dataframe tbody tr th {\n",
       "        vertical-align: top;\n",
       "    }\n",
       "</style>\n",
       "<table border=\"1\" class=\"dataframe\">\n",
       "  <thead>\n",
       "    <tr style=\"text-align: right;\">\n",
       "      <th></th>\n",
       "      <th>BodyFixedCoordinateX</th>\n",
       "      <th>BodyFixedCoordinateY</th>\n",
       "      <th>BodyFixedCoordinateZ</th>\n",
       "      <th>PlanetocentricLatitude</th>\n",
       "      <th>PlanetographicLatitude</th>\n",
       "      <th>PositiveEast360Longitude</th>\n",
       "      <th>angle</th>\n",
       "      <th>distance</th>\n",
       "      <th>image_x</th>\n",
       "      <th>image_y</th>\n",
       "      <th>...</th>\n",
       "      <th>radius_1</th>\n",
       "      <th>radius_2</th>\n",
       "      <th>spread</th>\n",
       "      <th>tile_id</th>\n",
       "      <th>version</th>\n",
       "      <th>vote_ratio</th>\n",
       "      <th>x</th>\n",
       "      <th>x_angle</th>\n",
       "      <th>y</th>\n",
       "      <th>y_angle</th>\n",
       "    </tr>\n",
       "  </thead>\n",
       "  <tbody>\n",
       "    <tr>\n",
       "      <th>0</th>\n",
       "      <td>-67.239204</td>\n",
       "      <td>257.001479</td>\n",
       "      <td>-3370.630963</td>\n",
       "      <td>-85.493625</td>\n",
       "      <td>-85.546304</td>\n",
       "      <td>104.661641</td>\n",
       "      <td>2.28</td>\n",
       "      <td>NaN</td>\n",
       "      <td>3330.27</td>\n",
       "      <td>5573.00</td>\n",
       "      <td>...</td>\n",
       "      <td>22.13</td>\n",
       "      <td>15.78</td>\n",
       "      <td>NaN</td>\n",
       "      <td>APF0000cia</td>\n",
       "      <td>NaN</td>\n",
       "      <td>1.00</td>\n",
       "      <td>370.27</td>\n",
       "      <td>0.50</td>\n",
       "      <td>93.00</td>\n",
       "      <td>0.10</td>\n",
       "    </tr>\n",
       "    <tr>\n",
       "      <th>1</th>\n",
       "      <td>-67.166591</td>\n",
       "      <td>257.008699</td>\n",
       "      <td>-3370.633997</td>\n",
       "      <td>-85.493821</td>\n",
       "      <td>-85.546498</td>\n",
       "      <td>104.646095</td>\n",
       "      <td>1.38</td>\n",
       "      <td>NaN</td>\n",
       "      <td>3593.60</td>\n",
       "      <td>5706.40</td>\n",
       "      <td>...</td>\n",
       "      <td>25.55</td>\n",
       "      <td>15.73</td>\n",
       "      <td>NaN</td>\n",
       "      <td>APF0000cia</td>\n",
       "      <td>NaN</td>\n",
       "      <td>0.55</td>\n",
       "      <td>633.60</td>\n",
       "      <td>0.20</td>\n",
       "      <td>226.40</td>\n",
       "      <td>0.05</td>\n",
       "    </tr>\n",
       "    <tr>\n",
       "      <th>2</th>\n",
       "      <td>-65.402430</td>\n",
       "      <td>263.908435</td>\n",
       "      <td>-3370.353988</td>\n",
       "      <td>-85.387847</td>\n",
       "      <td>-85.441752</td>\n",
       "      <td>103.918757</td>\n",
       "      <td>7.16</td>\n",
       "      <td>NaN</td>\n",
       "      <td>98.10</td>\n",
       "      <td>34394.70</td>\n",
       "      <td>...</td>\n",
       "      <td>84.54</td>\n",
       "      <td>48.33</td>\n",
       "      <td>NaN</td>\n",
       "      <td>APF0000cic</td>\n",
       "      <td>NaN</td>\n",
       "      <td>1.00</td>\n",
       "      <td>98.10</td>\n",
       "      <td>0.58</td>\n",
       "      <td>418.70</td>\n",
       "      <td>0.18</td>\n",
       "    </tr>\n",
       "    <tr>\n",
       "      <th>3</th>\n",
       "      <td>-65.252200</td>\n",
       "      <td>263.799557</td>\n",
       "      <td>-3370.366324</td>\n",
       "      <td>-85.390258</td>\n",
       "      <td>-85.444136</td>\n",
       "      <td>103.893534</td>\n",
       "      <td>81.00</td>\n",
       "      <td>NaN</td>\n",
       "      <td>825.58</td>\n",
       "      <td>34203.38</td>\n",
       "      <td>...</td>\n",
       "      <td>51.92</td>\n",
       "      <td>35.12</td>\n",
       "      <td>NaN</td>\n",
       "      <td>APF0000cic</td>\n",
       "      <td>NaN</td>\n",
       "      <td>1.00</td>\n",
       "      <td>825.58</td>\n",
       "      <td>0.16</td>\n",
       "      <td>227.38</td>\n",
       "      <td>0.97</td>\n",
       "    </tr>\n",
       "    <tr>\n",
       "      <th>4</th>\n",
       "      <td>-65.411364</td>\n",
       "      <td>263.848868</td>\n",
       "      <td>-3370.358955</td>\n",
       "      <td>-85.388794</td>\n",
       "      <td>-85.442688</td>\n",
       "      <td>103.923605</td>\n",
       "      <td>14.66</td>\n",
       "      <td>NaN</td>\n",
       "      <td>152.67</td>\n",
       "      <td>34155.33</td>\n",
       "      <td>...</td>\n",
       "      <td>184.94</td>\n",
       "      <td>71.25</td>\n",
       "      <td>NaN</td>\n",
       "      <td>APF0000cic</td>\n",
       "      <td>NaN</td>\n",
       "      <td>1.00</td>\n",
       "      <td>152.67</td>\n",
       "      <td>0.93</td>\n",
       "      <td>179.33</td>\n",
       "      <td>0.25</td>\n",
       "    </tr>\n",
       "  </tbody>\n",
       "</table>\n",
       "<p>5 rows × 26 columns</p>\n",
       "</div>"
      ],
      "text/plain": [
       "   BodyFixedCoordinateX  BodyFixedCoordinateY  BodyFixedCoordinateZ  \\\n",
       "0            -67.239204            257.001479          -3370.630963   \n",
       "1            -67.166591            257.008699          -3370.633997   \n",
       "2            -65.402430            263.908435          -3370.353988   \n",
       "3            -65.252200            263.799557          -3370.366324   \n",
       "4            -65.411364            263.848868          -3370.358955   \n",
       "\n",
       "   PlanetocentricLatitude  PlanetographicLatitude  PositiveEast360Longitude  \\\n",
       "0              -85.493625              -85.546304                104.661641   \n",
       "1              -85.493821              -85.546498                104.646095   \n",
       "2              -85.387847              -85.441752                103.918757   \n",
       "3              -85.390258              -85.444136                103.893534   \n",
       "4              -85.388794              -85.442688                103.923605   \n",
       "\n",
       "   angle  distance  image_x   image_y   ...    radius_1  radius_2 spread  \\\n",
       "0   2.28       NaN  3330.27   5573.00   ...       22.13     15.78    NaN   \n",
       "1   1.38       NaN  3593.60   5706.40   ...       25.55     15.73    NaN   \n",
       "2   7.16       NaN    98.10  34394.70   ...       84.54     48.33    NaN   \n",
       "3  81.00       NaN   825.58  34203.38   ...       51.92     35.12    NaN   \n",
       "4  14.66       NaN   152.67  34155.33   ...      184.94     71.25    NaN   \n",
       "\n",
       "      tile_id  version vote_ratio       x  x_angle       y y_angle  \n",
       "0  APF0000cia      NaN       1.00  370.27     0.50   93.00    0.10  \n",
       "1  APF0000cia      NaN       0.55  633.60     0.20  226.40    0.05  \n",
       "2  APF0000cic      NaN       1.00   98.10     0.58  418.70    0.18  \n",
       "3  APF0000cic      NaN       1.00  825.58     0.16  227.38    0.97  \n",
       "4  APF0000cic      NaN       1.00  152.67     0.93  179.33    0.25  \n",
       "\n",
       "[5 rows x 26 columns]"
      ]
     },
     "execution_count": 68,
     "metadata": {},
     "output_type": "execute_result"
    }
   ],
   "source": [
    "mixed.head()"
   ]
  },
  {
   "cell_type": "code",
   "execution_count": 89,
   "metadata": {},
   "outputs": [
    {
     "name": "stdout",
     "output_type": "stream",
     "text": [
      "0    B\n",
      "1    B\n",
      "2    B\n",
      "3    B\n",
      "4    B\n",
      "Name: marking_id, dtype: object\n",
      "409637    F\n",
      "409638    F\n",
      "409639    F\n",
      "409640    F\n",
      "409641    F\n",
      "Name: marking_id, dtype: object\n"
     ]
    }
   ],
   "source": [
    "#Can also read out first letter of marking ID as it's either an F or a B.  \n",
    "#marking_id.str or little function with lambda trick from last meeting; marking_id.map(lambda x : x[0])  \n",
    "#This returns first character in each marking_id, returns either F or B\n",
    "#fans.marking_id.map(lambda x : x[0])\n",
    "#blotch.marking_id.map(lambda x : x[0])\n",
    "print mixed.marking_id.map(lambda x : x[0]).head()\n",
    "print mixed.marking_id.map(lambda x : x[0]).tail()\n",
    "identify_type = mixed.marking_id.map(lambda x : x[0])"
   ]
  },
  {
   "cell_type": "code",
   "execution_count": 73,
   "metadata": {
    "collapsed": true
   },
   "outputs": [],
   "source": [
    "group_mixed = mixed.groupby('obsid')"
   ]
  },
  {
   "cell_type": "code",
   "execution_count": 92,
   "metadata": {},
   "outputs": [
    {
     "ename": "ValueError",
     "evalue": "Grouper and axis must be same length",
     "output_type": "error",
     "traceback": [
      "\u001b[1;31m---------------------------------------------------------------------------\u001b[0m",
      "\u001b[1;31mValueError\u001b[0m                                Traceback (most recent call last)",
      "\u001b[1;32m<ipython-input-92-09721ec380f5>\u001b[0m in \u001b[0;36m<module>\u001b[1;34m()\u001b[0m\n\u001b[0;32m      1\u001b[0m \u001b[1;31m#need to figure out how to do hue stuff, trying lambda trick but dont know how to incorporate into my graph here\u001b[0m\u001b[1;33m\u001b[0m\u001b[1;33m\u001b[0m\u001b[0m\n\u001b[1;32m----> 2\u001b[1;33m \u001b[0msns\u001b[0m\u001b[1;33m.\u001b[0m\u001b[0mbarplot\u001b[0m\u001b[1;33m(\u001b[0m\u001b[0mgroup_mixed\u001b[0m\u001b[1;33m.\u001b[0m\u001b[0msize\u001b[0m\u001b[1;33m(\u001b[0m\u001b[1;33m)\u001b[0m\u001b[1;33m.\u001b[0m\u001b[0mindex\u001b[0m\u001b[1;33m,\u001b[0m \u001b[0mgroup_mixed\u001b[0m\u001b[1;33m.\u001b[0m\u001b[0msize\u001b[0m\u001b[1;33m(\u001b[0m\u001b[1;33m)\u001b[0m\u001b[1;33m.\u001b[0m\u001b[0mvalues\u001b[0m\u001b[1;33m,\u001b[0m \u001b[0mhue\u001b[0m \u001b[1;33m=\u001b[0m \u001b[0midentify_type\u001b[0m\u001b[1;33m)\u001b[0m\u001b[1;33m\u001b[0m\u001b[0m\n\u001b[0m",
      "\u001b[1;32mC:\\Users\\Zade\\Anaconda2\\lib\\site-packages\\seaborn\\categorical.pyc\u001b[0m in \u001b[0;36mbarplot\u001b[1;34m(x, y, hue, data, order, hue_order, estimator, ci, n_boot, units, orient, color, palette, saturation, errcolor, errwidth, capsize, dodge, ax, **kwargs)\u001b[0m\n\u001b[0;32m   2938\u001b[0m                           \u001b[0mestimator\u001b[0m\u001b[1;33m,\u001b[0m \u001b[0mci\u001b[0m\u001b[1;33m,\u001b[0m \u001b[0mn_boot\u001b[0m\u001b[1;33m,\u001b[0m \u001b[0munits\u001b[0m\u001b[1;33m,\u001b[0m\u001b[1;33m\u001b[0m\u001b[0m\n\u001b[0;32m   2939\u001b[0m                           \u001b[0morient\u001b[0m\u001b[1;33m,\u001b[0m \u001b[0mcolor\u001b[0m\u001b[1;33m,\u001b[0m \u001b[0mpalette\u001b[0m\u001b[1;33m,\u001b[0m \u001b[0msaturation\u001b[0m\u001b[1;33m,\u001b[0m\u001b[1;33m\u001b[0m\u001b[0m\n\u001b[1;32m-> 2940\u001b[1;33m                           errcolor, errwidth, capsize, dodge)\n\u001b[0m\u001b[0;32m   2941\u001b[0m \u001b[1;33m\u001b[0m\u001b[0m\n\u001b[0;32m   2942\u001b[0m     \u001b[1;32mif\u001b[0m \u001b[0max\u001b[0m \u001b[1;32mis\u001b[0m \u001b[0mNone\u001b[0m\u001b[1;33m:\u001b[0m\u001b[1;33m\u001b[0m\u001b[0m\n",
      "\u001b[1;32mC:\\Users\\Zade\\Anaconda2\\lib\\site-packages\\seaborn\\categorical.pyc\u001b[0m in \u001b[0;36m__init__\u001b[1;34m(self, x, y, hue, data, order, hue_order, estimator, ci, n_boot, units, orient, color, palette, saturation, errcolor, errwidth, capsize, dodge)\u001b[0m\n\u001b[0;32m   1584\u001b[0m         \u001b[1;34m\"\"\"Initialize the plotter.\"\"\"\u001b[0m\u001b[1;33m\u001b[0m\u001b[0m\n\u001b[0;32m   1585\u001b[0m         self.establish_variables(x, y, hue, data, orient,\n\u001b[1;32m-> 1586\u001b[1;33m                                  order, hue_order, units)\n\u001b[0m\u001b[0;32m   1587\u001b[0m         \u001b[0mself\u001b[0m\u001b[1;33m.\u001b[0m\u001b[0mestablish_colors\u001b[0m\u001b[1;33m(\u001b[0m\u001b[0mcolor\u001b[0m\u001b[1;33m,\u001b[0m \u001b[0mpalette\u001b[0m\u001b[1;33m,\u001b[0m \u001b[0msaturation\u001b[0m\u001b[1;33m)\u001b[0m\u001b[1;33m\u001b[0m\u001b[0m\n\u001b[0;32m   1588\u001b[0m         \u001b[0mself\u001b[0m\u001b[1;33m.\u001b[0m\u001b[0mestimate_statistic\u001b[0m\u001b[1;33m(\u001b[0m\u001b[0mestimator\u001b[0m\u001b[1;33m,\u001b[0m \u001b[0mci\u001b[0m\u001b[1;33m,\u001b[0m \u001b[0mn_boot\u001b[0m\u001b[1;33m)\u001b[0m\u001b[1;33m\u001b[0m\u001b[0m\n",
      "\u001b[1;32mC:\\Users\\Zade\\Anaconda2\\lib\\site-packages\\seaborn\\categorical.pyc\u001b[0m in \u001b[0;36mestablish_variables\u001b[1;34m(self, x, y, hue, data, orient, order, hue_order, units)\u001b[0m\n\u001b[0;32m    215\u001b[0m                     \u001b[1;31m# Group the hue data\u001b[0m\u001b[1;33m\u001b[0m\u001b[1;33m\u001b[0m\u001b[0m\n\u001b[0;32m    216\u001b[0m                     plot_hues, hue_title = self._group_longform(hue, groups,\n\u001b[1;32m--> 217\u001b[1;33m                                                                 group_names)\n\u001b[0m\u001b[0;32m    218\u001b[0m \u001b[1;33m\u001b[0m\u001b[0m\n\u001b[0;32m    219\u001b[0m                 \u001b[1;31m# Now handle the units for nested observations\u001b[0m\u001b[1;33m\u001b[0m\u001b[1;33m\u001b[0m\u001b[0m\n",
      "\u001b[1;32mC:\\Users\\Zade\\Anaconda2\\lib\\site-packages\\seaborn\\categorical.pyc\u001b[0m in \u001b[0;36m_group_longform\u001b[1;34m(self, vals, grouper, order)\u001b[0m\n\u001b[0;32m    243\u001b[0m \u001b[1;33m\u001b[0m\u001b[0m\n\u001b[0;32m    244\u001b[0m         \u001b[1;31m# Group the val data\u001b[0m\u001b[1;33m\u001b[0m\u001b[1;33m\u001b[0m\u001b[0m\n\u001b[1;32m--> 245\u001b[1;33m         \u001b[0mgrouped_vals\u001b[0m \u001b[1;33m=\u001b[0m \u001b[0mvals\u001b[0m\u001b[1;33m.\u001b[0m\u001b[0mgroupby\u001b[0m\u001b[1;33m(\u001b[0m\u001b[0mgrouper\u001b[0m\u001b[1;33m)\u001b[0m\u001b[1;33m\u001b[0m\u001b[0m\n\u001b[0m\u001b[0;32m    246\u001b[0m         \u001b[0mout_data\u001b[0m \u001b[1;33m=\u001b[0m \u001b[1;33m[\u001b[0m\u001b[1;33m]\u001b[0m\u001b[1;33m\u001b[0m\u001b[0m\n\u001b[0;32m    247\u001b[0m         \u001b[1;32mfor\u001b[0m \u001b[0mg\u001b[0m \u001b[1;32min\u001b[0m \u001b[0morder\u001b[0m\u001b[1;33m:\u001b[0m\u001b[1;33m\u001b[0m\u001b[0m\n",
      "\u001b[1;32mC:\\Users\\Zade\\Anaconda2\\lib\\site-packages\\pandas\\core\\generic.pyc\u001b[0m in \u001b[0;36mgroupby\u001b[1;34m(self, by, axis, level, as_index, sort, group_keys, squeeze, **kwargs)\u001b[0m\n\u001b[0;32m   4414\u001b[0m         return groupby(self, by=by, axis=axis, level=level, as_index=as_index,\n\u001b[0;32m   4415\u001b[0m                        \u001b[0msort\u001b[0m\u001b[1;33m=\u001b[0m\u001b[0msort\u001b[0m\u001b[1;33m,\u001b[0m \u001b[0mgroup_keys\u001b[0m\u001b[1;33m=\u001b[0m\u001b[0mgroup_keys\u001b[0m\u001b[1;33m,\u001b[0m \u001b[0msqueeze\u001b[0m\u001b[1;33m=\u001b[0m\u001b[0msqueeze\u001b[0m\u001b[1;33m,\u001b[0m\u001b[1;33m\u001b[0m\u001b[0m\n\u001b[1;32m-> 4416\u001b[1;33m                        **kwargs)\n\u001b[0m\u001b[0;32m   4417\u001b[0m \u001b[1;33m\u001b[0m\u001b[0m\n\u001b[0;32m   4418\u001b[0m     def asfreq(self, freq, method=None, how=None, normalize=False,\n",
      "\u001b[1;32mC:\\Users\\Zade\\Anaconda2\\lib\\site-packages\\pandas\\core\\groupby.pyc\u001b[0m in \u001b[0;36mgroupby\u001b[1;34m(obj, by, **kwds)\u001b[0m\n\u001b[0;32m   1697\u001b[0m         \u001b[1;32mraise\u001b[0m \u001b[0mTypeError\u001b[0m\u001b[1;33m(\u001b[0m\u001b[1;34m'invalid type: %s'\u001b[0m \u001b[1;33m%\u001b[0m \u001b[0mtype\u001b[0m\u001b[1;33m(\u001b[0m\u001b[0mobj\u001b[0m\u001b[1;33m)\u001b[0m\u001b[1;33m)\u001b[0m\u001b[1;33m\u001b[0m\u001b[0m\n\u001b[0;32m   1698\u001b[0m \u001b[1;33m\u001b[0m\u001b[0m\n\u001b[1;32m-> 1699\u001b[1;33m     \u001b[1;32mreturn\u001b[0m \u001b[0mklass\u001b[0m\u001b[1;33m(\u001b[0m\u001b[0mobj\u001b[0m\u001b[1;33m,\u001b[0m \u001b[0mby\u001b[0m\u001b[1;33m,\u001b[0m \u001b[1;33m**\u001b[0m\u001b[0mkwds\u001b[0m\u001b[1;33m)\u001b[0m\u001b[1;33m\u001b[0m\u001b[0m\n\u001b[0m\u001b[0;32m   1700\u001b[0m \u001b[1;33m\u001b[0m\u001b[0m\n\u001b[0;32m   1701\u001b[0m \u001b[1;33m\u001b[0m\u001b[0m\n",
      "\u001b[1;32mC:\\Users\\Zade\\Anaconda2\\lib\\site-packages\\pandas\\core\\groupby.pyc\u001b[0m in \u001b[0;36m__init__\u001b[1;34m(self, obj, keys, axis, level, grouper, exclusions, selection, as_index, sort, group_keys, squeeze, **kwargs)\u001b[0m\n\u001b[0;32m    390\u001b[0m                                                     \u001b[0mlevel\u001b[0m\u001b[1;33m=\u001b[0m\u001b[0mlevel\u001b[0m\u001b[1;33m,\u001b[0m\u001b[1;33m\u001b[0m\u001b[0m\n\u001b[0;32m    391\u001b[0m                                                     \u001b[0msort\u001b[0m\u001b[1;33m=\u001b[0m\u001b[0msort\u001b[0m\u001b[1;33m,\u001b[0m\u001b[1;33m\u001b[0m\u001b[0m\n\u001b[1;32m--> 392\u001b[1;33m                                                     mutated=self.mutated)\n\u001b[0m\u001b[0;32m    393\u001b[0m \u001b[1;33m\u001b[0m\u001b[0m\n\u001b[0;32m    394\u001b[0m         \u001b[0mself\u001b[0m\u001b[1;33m.\u001b[0m\u001b[0mobj\u001b[0m \u001b[1;33m=\u001b[0m \u001b[0mobj\u001b[0m\u001b[1;33m\u001b[0m\u001b[0m\n",
      "\u001b[1;32mC:\\Users\\Zade\\Anaconda2\\lib\\site-packages\\pandas\\core\\groupby.pyc\u001b[0m in \u001b[0;36m_get_grouper\u001b[1;34m(obj, key, axis, level, sort, mutated)\u001b[0m\n\u001b[0;32m   2709\u001b[0m                         \u001b[0msort\u001b[0m\u001b[1;33m=\u001b[0m\u001b[0msort\u001b[0m\u001b[1;33m,\u001b[0m\u001b[1;33m\u001b[0m\u001b[0m\n\u001b[0;32m   2710\u001b[0m                         in_axis=in_axis) \\\n\u001b[1;32m-> 2711\u001b[1;33m             \u001b[1;32mif\u001b[0m \u001b[1;32mnot\u001b[0m \u001b[0misinstance\u001b[0m\u001b[1;33m(\u001b[0m\u001b[0mgpr\u001b[0m\u001b[1;33m,\u001b[0m \u001b[0mGrouping\u001b[0m\u001b[1;33m)\u001b[0m \u001b[1;32melse\u001b[0m \u001b[0mgpr\u001b[0m\u001b[1;33m\u001b[0m\u001b[0m\n\u001b[0m\u001b[0;32m   2712\u001b[0m \u001b[1;33m\u001b[0m\u001b[0m\n\u001b[0;32m   2713\u001b[0m         \u001b[0mgroupings\u001b[0m\u001b[1;33m.\u001b[0m\u001b[0mappend\u001b[0m\u001b[1;33m(\u001b[0m\u001b[0mping\u001b[0m\u001b[1;33m)\u001b[0m\u001b[1;33m\u001b[0m\u001b[0m\n",
      "\u001b[1;32mC:\\Users\\Zade\\Anaconda2\\lib\\site-packages\\pandas\\core\\groupby.pyc\u001b[0m in \u001b[0;36m__init__\u001b[1;34m(self, index, grouper, obj, name, level, sort, in_axis)\u001b[0m\n\u001b[0;32m   2418\u001b[0m         \u001b[0mself\u001b[0m\u001b[1;33m.\u001b[0m\u001b[0mname\u001b[0m \u001b[1;33m=\u001b[0m \u001b[0mname\u001b[0m\u001b[1;33m\u001b[0m\u001b[0m\n\u001b[0;32m   2419\u001b[0m         \u001b[0mself\u001b[0m\u001b[1;33m.\u001b[0m\u001b[0mlevel\u001b[0m \u001b[1;33m=\u001b[0m \u001b[0mlevel\u001b[0m\u001b[1;33m\u001b[0m\u001b[0m\n\u001b[1;32m-> 2420\u001b[1;33m         \u001b[0mself\u001b[0m\u001b[1;33m.\u001b[0m\u001b[0mgrouper\u001b[0m \u001b[1;33m=\u001b[0m \u001b[0m_convert_grouper\u001b[0m\u001b[1;33m(\u001b[0m\u001b[0mindex\u001b[0m\u001b[1;33m,\u001b[0m \u001b[0mgrouper\u001b[0m\u001b[1;33m)\u001b[0m\u001b[1;33m\u001b[0m\u001b[0m\n\u001b[0m\u001b[0;32m   2421\u001b[0m         \u001b[0mself\u001b[0m\u001b[1;33m.\u001b[0m\u001b[0mindex\u001b[0m \u001b[1;33m=\u001b[0m \u001b[0mindex\u001b[0m\u001b[1;33m\u001b[0m\u001b[0m\n\u001b[0;32m   2422\u001b[0m         \u001b[0mself\u001b[0m\u001b[1;33m.\u001b[0m\u001b[0msort\u001b[0m \u001b[1;33m=\u001b[0m \u001b[0msort\u001b[0m\u001b[1;33m\u001b[0m\u001b[0m\n",
      "\u001b[1;32mC:\\Users\\Zade\\Anaconda2\\lib\\site-packages\\pandas\\core\\groupby.pyc\u001b[0m in \u001b[0;36m_convert_grouper\u001b[1;34m(axis, grouper)\u001b[0m\n\u001b[0;32m   2737\u001b[0m     \u001b[1;32melif\u001b[0m \u001b[0misinstance\u001b[0m\u001b[1;33m(\u001b[0m\u001b[0mgrouper\u001b[0m\u001b[1;33m,\u001b[0m \u001b[1;33m(\u001b[0m\u001b[0mlist\u001b[0m\u001b[1;33m,\u001b[0m \u001b[0mSeries\u001b[0m\u001b[1;33m,\u001b[0m \u001b[0mIndex\u001b[0m\u001b[1;33m,\u001b[0m \u001b[0mnp\u001b[0m\u001b[1;33m.\u001b[0m\u001b[0mndarray\u001b[0m\u001b[1;33m)\u001b[0m\u001b[1;33m)\u001b[0m\u001b[1;33m:\u001b[0m\u001b[1;33m\u001b[0m\u001b[0m\n\u001b[0;32m   2738\u001b[0m         \u001b[1;32mif\u001b[0m \u001b[0mlen\u001b[0m\u001b[1;33m(\u001b[0m\u001b[0mgrouper\u001b[0m\u001b[1;33m)\u001b[0m \u001b[1;33m!=\u001b[0m \u001b[0mlen\u001b[0m\u001b[1;33m(\u001b[0m\u001b[0maxis\u001b[0m\u001b[1;33m)\u001b[0m\u001b[1;33m:\u001b[0m\u001b[1;33m\u001b[0m\u001b[0m\n\u001b[1;32m-> 2739\u001b[1;33m             \u001b[1;32mraise\u001b[0m \u001b[0mValueError\u001b[0m\u001b[1;33m(\u001b[0m\u001b[1;34m'Grouper and axis must be same length'\u001b[0m\u001b[1;33m)\u001b[0m\u001b[1;33m\u001b[0m\u001b[0m\n\u001b[0m\u001b[0;32m   2740\u001b[0m         \u001b[1;32mreturn\u001b[0m \u001b[0mgrouper\u001b[0m\u001b[1;33m\u001b[0m\u001b[0m\n\u001b[0;32m   2741\u001b[0m     \u001b[1;32melse\u001b[0m\u001b[1;33m:\u001b[0m\u001b[1;33m\u001b[0m\u001b[0m\n",
      "\u001b[1;31mValueError\u001b[0m: Grouper and axis must be same length"
     ]
    }
   ],
   "source": [
    "#need to figure out how to do hue stuff, trying lambda trick but dont know how to incorporate into my graph here\n",
    "sns.barplot(group_mixed.size().index, group_mixed.size().values, hue = identify_type)"
   ]
  },
  {
   "cell_type": "code",
   "execution_count": null,
   "metadata": {
    "collapsed": true
   },
   "outputs": [],
   "source": []
  }
 ],
 "metadata": {
  "kernelspec": {
   "display_name": "Python [conda env:py36]",
   "language": "python",
   "name": "conda-env-py36-py"
  },
  "language_info": {
   "codemirror_mode": {
    "name": "ipython",
    "version": 3
   },
   "file_extension": ".py",
   "mimetype": "text/x-python",
   "name": "python",
   "nbconvert_exporter": "python",
   "pygments_lexer": "ipython3",
   "version": "3.6.6"
  },
  "toc": {
   "base_numbering": 1,
   "nav_menu": {},
   "number_sections": true,
   "sideBar": true,
   "skip_h1_title": false,
   "title_cell": "Table of Contents",
   "title_sidebar": "Contents",
   "toc_cell": true,
   "toc_position": {},
   "toc_section_display": true,
   "toc_window_display": false
  },
  "varInspector": {
   "cols": {
    "lenName": 16,
    "lenType": 16,
    "lenVar": 40
   },
   "kernels_config": {
    "python": {
     "delete_cmd_postfix": "",
     "delete_cmd_prefix": "del ",
     "library": "var_list.py",
     "varRefreshCmd": "print(var_dic_list())"
    },
    "r": {
     "delete_cmd_postfix": ") ",
     "delete_cmd_prefix": "rm(",
     "library": "var_list.r",
     "varRefreshCmd": "cat(var_dic_list()) "
    }
   },
   "types_to_exclude": [
    "module",
    "function",
    "builtin_function_or_method",
    "instance",
    "_Feature"
   ],
   "window_display": false
  }
 },
 "nbformat": 4,
 "nbformat_minor": 2
}
